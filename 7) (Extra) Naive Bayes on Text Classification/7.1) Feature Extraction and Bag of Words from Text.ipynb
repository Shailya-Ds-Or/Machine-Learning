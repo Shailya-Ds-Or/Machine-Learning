{
 "cells": [
  {
   "cell_type": "markdown",
   "id": "9763d6f0",
   "metadata": {},
   "source": [
    "# Feature Extraction and Bag of Words"
   ]
  },
  {
   "cell_type": "code",
   "execution_count": null,
   "id": "e0984c48",
   "metadata": {},
   "outputs": [],
   "source": []
  },
  {
   "cell_type": "markdown",
   "id": "9ce58fc5",
   "metadata": {},
   "source": [
    "### Creating Bag of Words from Text Files Using Python:"
   ]
  },
  {
   "cell_type": "markdown",
   "id": "43acd5c9",
   "metadata": {},
   "source": [
    "we'll use basic Python to build a rudimentary NLP system. We'll build a corpus of documents (two small text files), create a vocabulary from all the words in both documents, and then demonstrate a Bag of Words technique to extract features from each document."
   ]
  },
  {
   "cell_type": "code",
   "execution_count": null,
   "id": "d2968aae",
   "metadata": {},
   "outputs": [],
   "source": []
  },
  {
   "cell_type": "markdown",
   "id": "bf6c6036",
   "metadata": {},
   "source": [
    "#### 1) Reading Whole Files:"
   ]
  },
  {
   "cell_type": "code",
   "execution_count": 10,
   "id": "f73bb7a3",
   "metadata": {},
   "outputs": [
    {
     "name": "stdout",
     "output_type": "stream",
     "text": [
      "This is a story about dogs\n",
      "our canine pets\n",
      "Dogs are furry animals\n",
      "\n"
     ]
    }
   ],
   "source": [
    "# Reading One.txt\n",
    "with open(\"One.txt\") as file_one:\n",
    "    print(file_one.read())"
   ]
  },
  {
   "cell_type": "code",
   "execution_count": 12,
   "id": "19977359",
   "metadata": {},
   "outputs": [
    {
     "name": "stdout",
     "output_type": "stream",
     "text": [
      "This story is about surfing\n",
      "Catching waves is fun\n",
      "Surfing is a popular water sport\n",
      "\n"
     ]
    }
   ],
   "source": [
    "# Reading two.txt\n",
    "with open(\"Two.txt\") as file_two:\n",
    "    print(file_two.read())"
   ]
  },
  {
   "cell_type": "code",
   "execution_count": null,
   "id": "552f9ec7",
   "metadata": {},
   "outputs": [],
   "source": []
  },
  {
   "cell_type": "markdown",
   "id": "be0ef82c",
   "metadata": {},
   "source": [
    "#### 2) Reading Entire File as a Single String:"
   ]
  },
  {
   "cell_type": "code",
   "execution_count": 13,
   "id": "cf89af87",
   "metadata": {},
   "outputs": [],
   "source": [
    "with open(\"One.txt\") as file_one:\n",
    "    text1 = file_one.read()"
   ]
  },
  {
   "cell_type": "code",
   "execution_count": 14,
   "id": "0e455b53",
   "metadata": {},
   "outputs": [
    {
     "data": {
      "text/plain": [
       "'This is a story about dogs\\nour canine pets\\nDogs are furry animals\\n'"
      ]
     },
     "execution_count": 14,
     "metadata": {},
     "output_type": "execute_result"
    }
   ],
   "source": [
    "text1"
   ]
  },
  {
   "cell_type": "code",
   "execution_count": 15,
   "id": "d8b6051b",
   "metadata": {},
   "outputs": [],
   "source": [
    "with open(\"Two.txt\") as file_two:\n",
    "    text2 = file_two.read()"
   ]
  },
  {
   "cell_type": "code",
   "execution_count": 16,
   "id": "4fd21e5b",
   "metadata": {},
   "outputs": [
    {
     "data": {
      "text/plain": [
       "'This story is about surfing\\nCatching waves is fun\\nSurfing is a popular water sport\\n'"
      ]
     },
     "execution_count": 16,
     "metadata": {},
     "output_type": "execute_result"
    }
   ],
   "source": [
    "text2"
   ]
  },
  {
   "cell_type": "code",
   "execution_count": null,
   "id": "3161fc59",
   "metadata": {},
   "outputs": [],
   "source": []
  },
  {
   "cell_type": "markdown",
   "id": "25df85be",
   "metadata": {},
   "source": [
    "#### 3) Reading Each Line of File as an Elemnet of List:"
   ]
  },
  {
   "cell_type": "code",
   "execution_count": 17,
   "id": "5e716294",
   "metadata": {},
   "outputs": [],
   "source": [
    "with open(\"One.txt\") as file_one:\n",
    "    lines1 = file_one.readlines()"
   ]
  },
  {
   "cell_type": "code",
   "execution_count": 18,
   "id": "c0125291",
   "metadata": {},
   "outputs": [
    {
     "data": {
      "text/plain": [
       "['This is a story about dogs\\n',\n",
       " 'our canine pets\\n',\n",
       " 'Dogs are furry animals\\n']"
      ]
     },
     "execution_count": 18,
     "metadata": {},
     "output_type": "execute_result"
    }
   ],
   "source": [
    "lines1"
   ]
  },
  {
   "cell_type": "code",
   "execution_count": 19,
   "id": "12c94b71",
   "metadata": {},
   "outputs": [],
   "source": [
    "with open(\"Two.txt\") as file_two:\n",
    "    lines2 = file_two.readlines()"
   ]
  },
  {
   "cell_type": "code",
   "execution_count": 20,
   "id": "5903a130",
   "metadata": {},
   "outputs": [
    {
     "data": {
      "text/plain": [
       "['This story is about surfing\\n',\n",
       " 'Catching waves is fun\\n',\n",
       " 'Surfing is a popular water sport\\n']"
      ]
     },
     "execution_count": 20,
     "metadata": {},
     "output_type": "execute_result"
    }
   ],
   "source": [
    "lines2"
   ]
  },
  {
   "cell_type": "code",
   "execution_count": null,
   "id": "057c9a81",
   "metadata": {},
   "outputs": [],
   "source": []
  },
  {
   "cell_type": "markdown",
   "id": "2987608e",
   "metadata": {},
   "source": [
    "#### 4) Reading Words from File Seperately:"
   ]
  },
  {
   "cell_type": "code",
   "execution_count": 25,
   "id": "749f6d21",
   "metadata": {},
   "outputs": [],
   "source": [
    "with open(\"One.txt\") as one:\n",
    "    words1 = one.read().lower().split()"
   ]
  },
  {
   "cell_type": "code",
   "execution_count": 26,
   "id": "33ce3d08",
   "metadata": {},
   "outputs": [
    {
     "data": {
      "text/plain": [
       "['this',\n",
       " 'is',\n",
       " 'a',\n",
       " 'story',\n",
       " 'about',\n",
       " 'dogs',\n",
       " 'our',\n",
       " 'canine',\n",
       " 'pets',\n",
       " 'dogs',\n",
       " 'are',\n",
       " 'furry',\n",
       " 'animals']"
      ]
     },
     "execution_count": 26,
     "metadata": {},
     "output_type": "execute_result"
    }
   ],
   "source": [
    "words1"
   ]
  },
  {
   "cell_type": "code",
   "execution_count": 27,
   "id": "c1d89b46",
   "metadata": {},
   "outputs": [],
   "source": [
    "with open(\"Two.txt\") as two:\n",
    "    words2 = two.read().lower().split()"
   ]
  },
  {
   "cell_type": "code",
   "execution_count": 28,
   "id": "0f3603c3",
   "metadata": {},
   "outputs": [
    {
     "data": {
      "text/plain": [
       "['this',\n",
       " 'story',\n",
       " 'is',\n",
       " 'about',\n",
       " 'surfing',\n",
       " 'catching',\n",
       " 'waves',\n",
       " 'is',\n",
       " 'fun',\n",
       " 'surfing',\n",
       " 'is',\n",
       " 'a',\n",
       " 'popular',\n",
       " 'water',\n",
       " 'sport']"
      ]
     },
     "execution_count": 28,
     "metadata": {},
     "output_type": "execute_result"
    }
   ],
   "source": [
    "words2"
   ]
  },
  {
   "cell_type": "code",
   "execution_count": null,
   "id": "b3599070",
   "metadata": {},
   "outputs": [],
   "source": []
  },
  {
   "cell_type": "markdown",
   "id": "ea979c81",
   "metadata": {},
   "source": [
    "#### Building a vocabulary (Creating a \"Bag of Words\")\n",
    "\n",
    "Let's create dictionaries that correspond to unique mappings of the words in the documents. We can begin to think of this as mapping out all the possible words available for all (both) documents."
   ]
  },
  {
   "cell_type": "code",
   "execution_count": 29,
   "id": "50a139f8",
   "metadata": {},
   "outputs": [],
   "source": [
    "with open(\"One.txt\") as one:\n",
    "    words1 = one.read().lower().split()"
   ]
  },
  {
   "cell_type": "code",
   "execution_count": 30,
   "id": "d708b250",
   "metadata": {},
   "outputs": [
    {
     "data": {
      "text/plain": [
       "['this',\n",
       " 'is',\n",
       " 'a',\n",
       " 'story',\n",
       " 'about',\n",
       " 'dogs',\n",
       " 'our',\n",
       " 'canine',\n",
       " 'pets',\n",
       " 'dogs',\n",
       " 'are',\n",
       " 'furry',\n",
       " 'animals']"
      ]
     },
     "execution_count": 30,
     "metadata": {},
     "output_type": "execute_result"
    }
   ],
   "source": [
    "words1"
   ]
  },
  {
   "cell_type": "code",
   "execution_count": 31,
   "id": "06ae47cc",
   "metadata": {},
   "outputs": [
    {
     "data": {
      "text/plain": [
       "13"
      ]
     },
     "execution_count": 31,
     "metadata": {},
     "output_type": "execute_result"
    }
   ],
   "source": [
    "len(words1)"
   ]
  },
  {
   "cell_type": "code",
   "execution_count": 32,
   "id": "3f737cad",
   "metadata": {},
   "outputs": [],
   "source": [
    "unique_words_1 = set(words1)"
   ]
  },
  {
   "cell_type": "code",
   "execution_count": 33,
   "id": "85575625",
   "metadata": {},
   "outputs": [
    {
     "data": {
      "text/plain": [
       "{'a',\n",
       " 'about',\n",
       " 'animals',\n",
       " 'are',\n",
       " 'canine',\n",
       " 'dogs',\n",
       " 'furry',\n",
       " 'is',\n",
       " 'our',\n",
       " 'pets',\n",
       " 'story',\n",
       " 'this'}"
      ]
     },
     "execution_count": 33,
     "metadata": {},
     "output_type": "execute_result"
    }
   ],
   "source": [
    "unique_words_1"
   ]
  },
  {
   "cell_type": "code",
   "execution_count": null,
   "id": "4fb88af0",
   "metadata": {},
   "outputs": [],
   "source": []
  },
  {
   "cell_type": "code",
   "execution_count": 34,
   "id": "57662c69",
   "metadata": {},
   "outputs": [],
   "source": [
    "with open(\"Two.txt\") as two:\n",
    "    words2 = two.read().lower().split()"
   ]
  },
  {
   "cell_type": "code",
   "execution_count": 35,
   "id": "f7b0e94d",
   "metadata": {},
   "outputs": [
    {
     "data": {
      "text/plain": [
       "['this',\n",
       " 'story',\n",
       " 'is',\n",
       " 'about',\n",
       " 'surfing',\n",
       " 'catching',\n",
       " 'waves',\n",
       " 'is',\n",
       " 'fun',\n",
       " 'surfing',\n",
       " 'is',\n",
       " 'a',\n",
       " 'popular',\n",
       " 'water',\n",
       " 'sport']"
      ]
     },
     "execution_count": 35,
     "metadata": {},
     "output_type": "execute_result"
    }
   ],
   "source": [
    "words2"
   ]
  },
  {
   "cell_type": "code",
   "execution_count": 36,
   "id": "adb2c892",
   "metadata": {},
   "outputs": [
    {
     "data": {
      "text/plain": [
       "15"
      ]
     },
     "execution_count": 36,
     "metadata": {},
     "output_type": "execute_result"
    }
   ],
   "source": [
    "len(words2)"
   ]
  },
  {
   "cell_type": "code",
   "execution_count": 37,
   "id": "dc309248",
   "metadata": {},
   "outputs": [],
   "source": [
    "unique_words_2 = set(words2)"
   ]
  },
  {
   "cell_type": "code",
   "execution_count": 38,
   "id": "a3433719",
   "metadata": {},
   "outputs": [
    {
     "data": {
      "text/plain": [
       "{'a',\n",
       " 'about',\n",
       " 'catching',\n",
       " 'fun',\n",
       " 'is',\n",
       " 'popular',\n",
       " 'sport',\n",
       " 'story',\n",
       " 'surfing',\n",
       " 'this',\n",
       " 'water',\n",
       " 'waves'}"
      ]
     },
     "execution_count": 38,
     "metadata": {},
     "output_type": "execute_result"
    }
   ],
   "source": [
    "unique_words_2"
   ]
  },
  {
   "cell_type": "code",
   "execution_count": null,
   "id": "f35dfbad",
   "metadata": {},
   "outputs": [],
   "source": []
  },
  {
   "cell_type": "code",
   "execution_count": 40,
   "id": "bc21ebf5",
   "metadata": {},
   "outputs": [],
   "source": [
    "# Getting all Unique Words from Both Documents in One Set:\n",
    "\n",
    "all_unique_words = set()\n",
    "\n",
    "all_unique_words.update(unique_words_1)\n",
    "all_unique_words.update(unique_words_2)"
   ]
  },
  {
   "cell_type": "code",
   "execution_count": 41,
   "id": "84330e2d",
   "metadata": {},
   "outputs": [
    {
     "data": {
      "text/plain": [
       "{'a',\n",
       " 'about',\n",
       " 'animals',\n",
       " 'are',\n",
       " 'canine',\n",
       " 'catching',\n",
       " 'dogs',\n",
       " 'fun',\n",
       " 'furry',\n",
       " 'is',\n",
       " 'our',\n",
       " 'pets',\n",
       " 'popular',\n",
       " 'sport',\n",
       " 'story',\n",
       " 'surfing',\n",
       " 'this',\n",
       " 'water',\n",
       " 'waves'}"
      ]
     },
     "execution_count": 41,
     "metadata": {},
     "output_type": "execute_result"
    }
   ],
   "source": [
    "all_unique_words"
   ]
  },
  {
   "cell_type": "code",
   "execution_count": null,
   "id": "fcef0771",
   "metadata": {},
   "outputs": [],
   "source": []
  },
  {
   "cell_type": "code",
   "execution_count": 42,
   "id": "774d4d92",
   "metadata": {},
   "outputs": [],
   "source": [
    "# Creating a Dictionary of All unique Words:\n",
    "\n",
    "dict_words = dict()\n",
    "temp = 0\n",
    "\n",
    "for word in all_unique_words:\n",
    "    \n",
    "    dict_words[word] = temp\n",
    "    temp = temp+1"
   ]
  },
  {
   "cell_type": "code",
   "execution_count": 43,
   "id": "726768ee",
   "metadata": {},
   "outputs": [
    {
     "data": {
      "text/plain": [
       "{'story': 0,\n",
       " 'sport': 1,\n",
       " 'about': 2,\n",
       " 'water': 3,\n",
       " 'a': 4,\n",
       " 'pets': 5,\n",
       " 'furry': 6,\n",
       " 'this': 7,\n",
       " 'catching': 8,\n",
       " 'animals': 9,\n",
       " 'our': 10,\n",
       " 'canine': 11,\n",
       " 'is': 12,\n",
       " 'are': 13,\n",
       " 'waves': 14,\n",
       " 'fun': 15,\n",
       " 'popular': 16,\n",
       " 'surfing': 17,\n",
       " 'dogs': 18}"
      ]
     },
     "execution_count": 43,
     "metadata": {},
     "output_type": "execute_result"
    }
   ],
   "source": [
    "dict_words"
   ]
  },
  {
   "cell_type": "code",
   "execution_count": null,
   "id": "e0a4b1c8",
   "metadata": {},
   "outputs": [],
   "source": []
  },
  {
   "cell_type": "markdown",
   "id": "67dd5542",
   "metadata": {},
   "source": [
    "#### Bag Of Words:\n",
    "\n",
    "1) We will create a Matrix or DataFrame where columns are all the unique words from all the Documnets.\n",
    "\n",
    "2) Rows will represent a single document.\n",
    "\n",
    "3) Cells of Matrx or DataFrame will show how many times a Particular Word (Column) is Present in a Particular Document (Row)."
   ]
  },
  {
   "cell_type": "code",
   "execution_count": 44,
   "id": "202b55c3",
   "metadata": {},
   "outputs": [],
   "source": [
    "# Creating Emply Lists for Both documents of Same Length as Dictionary of Unique Words:\n",
    "\n",
    "word_freq_1 = [0] * len(dict_words)\n",
    "word_freq_2 = [0] * len(dict_words)"
   ]
  },
  {
   "cell_type": "code",
   "execution_count": 45,
   "id": "59c7a702",
   "metadata": {},
   "outputs": [
    {
     "data": {
      "text/plain": [
       "[0, 0, 0, 0, 0, 0, 0, 0, 0, 0, 0, 0, 0, 0, 0, 0, 0, 0, 0]"
      ]
     },
     "execution_count": 45,
     "metadata": {},
     "output_type": "execute_result"
    }
   ],
   "source": [
    "word_freq_1"
   ]
  },
  {
   "cell_type": "code",
   "execution_count": 46,
   "id": "93cfc99a",
   "metadata": {},
   "outputs": [
    {
     "data": {
      "text/plain": [
       "[0, 0, 0, 0, 0, 0, 0, 0, 0, 0, 0, 0, 0, 0, 0, 0, 0, 0, 0]"
      ]
     },
     "execution_count": 46,
     "metadata": {},
     "output_type": "execute_result"
    }
   ],
   "source": [
    "word_freq_2"
   ]
  },
  {
   "cell_type": "code",
   "execution_count": 47,
   "id": "83b76aa8",
   "metadata": {},
   "outputs": [],
   "source": [
    "# Adding Frequency of Each Word Per Documnet in List:\n",
    "\n",
    "with open(\"One.txt\") as x:\n",
    "    word1 = x.read().lower().split()"
   ]
  },
  {
   "cell_type": "code",
   "execution_count": 48,
   "id": "9322d262",
   "metadata": {},
   "outputs": [],
   "source": [
    "for word in word1:\n",
    "    \n",
    "    index = dict_words[word]\n",
    "    word_freq_1[index] = word_freq_1[index] + 1"
   ]
  },
  {
   "cell_type": "code",
   "execution_count": 49,
   "id": "4b622c72",
   "metadata": {},
   "outputs": [
    {
     "data": {
      "text/plain": [
       "[1, 0, 1, 0, 1, 1, 1, 1, 0, 1, 1, 1, 1, 1, 0, 0, 0, 0, 2]"
      ]
     },
     "execution_count": 49,
     "metadata": {},
     "output_type": "execute_result"
    }
   ],
   "source": [
    "word_freq_1"
   ]
  },
  {
   "cell_type": "code",
   "execution_count": null,
   "id": "92981906",
   "metadata": {},
   "outputs": [],
   "source": []
  },
  {
   "cell_type": "code",
   "execution_count": 50,
   "id": "3c6f5b73",
   "metadata": {},
   "outputs": [],
   "source": [
    "with open(\"Two.txt\") as x:\n",
    "    word2 = x.read().lower().split()"
   ]
  },
  {
   "cell_type": "code",
   "execution_count": 51,
   "id": "c01f60fc",
   "metadata": {},
   "outputs": [],
   "source": [
    "for word in word2:\n",
    "    \n",
    "    index = dict_words[word]\n",
    "    word_freq_2[index] = word_freq_2[index] + 1"
   ]
  },
  {
   "cell_type": "code",
   "execution_count": 52,
   "id": "eaa7b57c",
   "metadata": {},
   "outputs": [
    {
     "data": {
      "text/plain": [
       "[1, 1, 1, 1, 1, 0, 0, 1, 1, 0, 0, 0, 3, 0, 1, 1, 1, 2, 0]"
      ]
     },
     "execution_count": 52,
     "metadata": {},
     "output_type": "execute_result"
    }
   ],
   "source": [
    "word_freq_2"
   ]
  },
  {
   "cell_type": "code",
   "execution_count": null,
   "id": "37359c44",
   "metadata": {},
   "outputs": [],
   "source": []
  },
  {
   "cell_type": "code",
   "execution_count": 53,
   "id": "d592fe8c",
   "metadata": {},
   "outputs": [],
   "source": [
    "import pandas as pd"
   ]
  },
  {
   "cell_type": "code",
   "execution_count": 54,
   "id": "4b5e4278",
   "metadata": {},
   "outputs": [],
   "source": [
    "bag_of_words = pd.DataFrame(data= [word_freq_1, word_freq_2], columns= dict_words.keys())"
   ]
  },
  {
   "cell_type": "code",
   "execution_count": 55,
   "id": "89b4eb2b",
   "metadata": {},
   "outputs": [
    {
     "data": {
      "text/html": [
       "<div>\n",
       "<style scoped>\n",
       "    .dataframe tbody tr th:only-of-type {\n",
       "        vertical-align: middle;\n",
       "    }\n",
       "\n",
       "    .dataframe tbody tr th {\n",
       "        vertical-align: top;\n",
       "    }\n",
       "\n",
       "    .dataframe thead th {\n",
       "        text-align: right;\n",
       "    }\n",
       "</style>\n",
       "<table border=\"1\" class=\"dataframe\">\n",
       "  <thead>\n",
       "    <tr style=\"text-align: right;\">\n",
       "      <th></th>\n",
       "      <th>story</th>\n",
       "      <th>sport</th>\n",
       "      <th>about</th>\n",
       "      <th>water</th>\n",
       "      <th>a</th>\n",
       "      <th>pets</th>\n",
       "      <th>furry</th>\n",
       "      <th>this</th>\n",
       "      <th>catching</th>\n",
       "      <th>animals</th>\n",
       "      <th>our</th>\n",
       "      <th>canine</th>\n",
       "      <th>is</th>\n",
       "      <th>are</th>\n",
       "      <th>waves</th>\n",
       "      <th>fun</th>\n",
       "      <th>popular</th>\n",
       "      <th>surfing</th>\n",
       "      <th>dogs</th>\n",
       "    </tr>\n",
       "  </thead>\n",
       "  <tbody>\n",
       "    <tr>\n",
       "      <th>0</th>\n",
       "      <td>1</td>\n",
       "      <td>0</td>\n",
       "      <td>1</td>\n",
       "      <td>0</td>\n",
       "      <td>1</td>\n",
       "      <td>1</td>\n",
       "      <td>1</td>\n",
       "      <td>1</td>\n",
       "      <td>0</td>\n",
       "      <td>1</td>\n",
       "      <td>1</td>\n",
       "      <td>1</td>\n",
       "      <td>1</td>\n",
       "      <td>1</td>\n",
       "      <td>0</td>\n",
       "      <td>0</td>\n",
       "      <td>0</td>\n",
       "      <td>0</td>\n",
       "      <td>2</td>\n",
       "    </tr>\n",
       "    <tr>\n",
       "      <th>1</th>\n",
       "      <td>1</td>\n",
       "      <td>1</td>\n",
       "      <td>1</td>\n",
       "      <td>1</td>\n",
       "      <td>1</td>\n",
       "      <td>0</td>\n",
       "      <td>0</td>\n",
       "      <td>1</td>\n",
       "      <td>1</td>\n",
       "      <td>0</td>\n",
       "      <td>0</td>\n",
       "      <td>0</td>\n",
       "      <td>3</td>\n",
       "      <td>0</td>\n",
       "      <td>1</td>\n",
       "      <td>1</td>\n",
       "      <td>1</td>\n",
       "      <td>2</td>\n",
       "      <td>0</td>\n",
       "    </tr>\n",
       "  </tbody>\n",
       "</table>\n",
       "</div>"
      ],
      "text/plain": [
       "   story  sport  about  water  a  pets  furry  this  catching  animals  our  \\\n",
       "0      1      0      1      0  1     1      1     1         0        1    1   \n",
       "1      1      1      1      1  1     0      0     1         1        0    0   \n",
       "\n",
       "   canine  is  are  waves  fun  popular  surfing  dogs  \n",
       "0       1   1    1      0    0        0        0     2  \n",
       "1       0   3    0      1    1        1        2     0  "
      ]
     },
     "execution_count": 55,
     "metadata": {},
     "output_type": "execute_result"
    }
   ],
   "source": [
    "bag_of_words"
   ]
  }
 ],
 "metadata": {
  "kernelspec": {
   "display_name": "Python 3 (ipykernel)",
   "language": "python",
   "name": "python3"
  },
  "language_info": {
   "codemirror_mode": {
    "name": "ipython",
    "version": 3
   },
   "file_extension": ".py",
   "mimetype": "text/x-python",
   "name": "python",
   "nbconvert_exporter": "python",
   "pygments_lexer": "ipython3",
   "version": "3.8.12"
  }
 },
 "nbformat": 4,
 "nbformat_minor": 5
}
