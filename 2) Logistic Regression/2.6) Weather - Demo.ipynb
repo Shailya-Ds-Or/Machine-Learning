{
 "cells": [
  {
   "cell_type": "markdown",
   "id": "3b0e01ff",
   "metadata": {},
   "source": [
    "# Weather"
   ]
  },
  {
   "cell_type": "markdown",
   "id": "14298521",
   "metadata": {},
   "source": [
    "#### Problem Statement:\n",
    "\n",
    "One of the aspects Seattle is most notable for, in addition to coffee, grunge, and electronic businesses, is its rains. From January 1, 1948 to December 12, 2017, this dataset provides full records of Seattle's daily rainfall patterns."
   ]
  },
  {
   "cell_type": "markdown",
   "id": "fb0761e5",
   "metadata": {},
   "source": [
    "#### Data Dictionary\n",
    "\n",
    "- Following are the variables with their definition and key:\n",
    "\n",
    "DATE: The date of the observation\n",
    "\n",
    "PRCP: The amount of precipitation, in inches\n",
    "\n",
    "TMAX: The maximum temperature for that day, in degrees Fahrenheit\n",
    "\n",
    "TMIN: The minimum temperature for that day, in degrees Fahrenheit\n",
    "\n",
    "RAIN: TRUE if rain was observed on that day, FALSE if it was not"
   ]
  },
  {
   "cell_type": "code",
   "execution_count": null,
   "id": "365ee2d6",
   "metadata": {},
   "outputs": [],
   "source": []
  },
  {
   "cell_type": "code",
   "execution_count": 330,
   "id": "d60ac1a1",
   "metadata": {},
   "outputs": [],
   "source": [
    "import numpy as np\n",
    "import pandas as pd\n",
    "import matplotlib.pyplot as plt\n",
    "import seaborn as sns\n",
    "import datetime as dt\n",
    "\n",
    "from sklearn.preprocessing import StandardScaler, LabelEncoder\n",
    "\n",
    "from sklearn.model_selection import train_test_split, GridSearchCV\n",
    "from sklearn.linear_model import LogisticRegression\n",
    "from sklearn.metrics import confusion_matrix, classification_report, recall_score, precision_score, accuracy_score\n",
    "from sklearn.metrics import plot_confusion_matrix, plot_precision_recall_curve, plot_roc_curve"
   ]
  },
  {
   "cell_type": "code",
   "execution_count": null,
   "id": "087d0ac5",
   "metadata": {},
   "outputs": [],
   "source": []
  },
  {
   "cell_type": "code",
   "execution_count": 331,
   "id": "d1f6c9c5",
   "metadata": {},
   "outputs": [],
   "source": [
    "df = pd.read_csv(\"seattleWeather_1948-2017.csv\", skipinitialspace= True)\n",
    "\n",
    "# Because our data has spaces in front of values for \"RAIN\" column."
   ]
  },
  {
   "cell_type": "code",
   "execution_count": 332,
   "id": "4db1e8fb",
   "metadata": {},
   "outputs": [
    {
     "data": {
      "text/html": [
       "<div>\n",
       "<style scoped>\n",
       "    .dataframe tbody tr th:only-of-type {\n",
       "        vertical-align: middle;\n",
       "    }\n",
       "\n",
       "    .dataframe tbody tr th {\n",
       "        vertical-align: top;\n",
       "    }\n",
       "\n",
       "    .dataframe thead th {\n",
       "        text-align: right;\n",
       "    }\n",
       "</style>\n",
       "<table border=\"1\" class=\"dataframe\">\n",
       "  <thead>\n",
       "    <tr style=\"text-align: right;\">\n",
       "      <th></th>\n",
       "      <th>DATE</th>\n",
       "      <th>PRCP</th>\n",
       "      <th>TMAX</th>\n",
       "      <th>TMIN</th>\n",
       "      <th>RAIN</th>\n",
       "    </tr>\n",
       "  </thead>\n",
       "  <tbody>\n",
       "    <tr>\n",
       "      <th>0</th>\n",
       "      <td>1948-01-01</td>\n",
       "      <td>0.47</td>\n",
       "      <td>51</td>\n",
       "      <td>42</td>\n",
       "      <td>True</td>\n",
       "    </tr>\n",
       "    <tr>\n",
       "      <th>1</th>\n",
       "      <td>1948-01-02</td>\n",
       "      <td>0.59</td>\n",
       "      <td>45</td>\n",
       "      <td>36</td>\n",
       "      <td>True</td>\n",
       "    </tr>\n",
       "    <tr>\n",
       "      <th>2</th>\n",
       "      <td>1948-01-03</td>\n",
       "      <td>0.42</td>\n",
       "      <td>45</td>\n",
       "      <td>35</td>\n",
       "      <td>True</td>\n",
       "    </tr>\n",
       "    <tr>\n",
       "      <th>3</th>\n",
       "      <td>1948-01-04</td>\n",
       "      <td>0.31</td>\n",
       "      <td>45</td>\n",
       "      <td>34</td>\n",
       "      <td>True</td>\n",
       "    </tr>\n",
       "    <tr>\n",
       "      <th>4</th>\n",
       "      <td>1948-01-05</td>\n",
       "      <td>0.17</td>\n",
       "      <td>45</td>\n",
       "      <td>32</td>\n",
       "      <td>True</td>\n",
       "    </tr>\n",
       "  </tbody>\n",
       "</table>\n",
       "</div>"
      ],
      "text/plain": [
       "         DATE  PRCP  TMAX  TMIN  RAIN\n",
       "0  1948-01-01  0.47    51    42  True\n",
       "1  1948-01-02  0.59    45    36  True\n",
       "2  1948-01-03  0.42    45    35  True\n",
       "3  1948-01-04  0.31    45    34  True\n",
       "4  1948-01-05  0.17    45    32  True"
      ]
     },
     "execution_count": 332,
     "metadata": {},
     "output_type": "execute_result"
    }
   ],
   "source": [
    "df.head()"
   ]
  },
  {
   "cell_type": "code",
   "execution_count": 333,
   "id": "bd51a13e",
   "metadata": {},
   "outputs": [
    {
     "data": {
      "text/plain": [
       "(25551, 5)"
      ]
     },
     "execution_count": 333,
     "metadata": {},
     "output_type": "execute_result"
    }
   ],
   "source": [
    "df.shape"
   ]
  },
  {
   "cell_type": "code",
   "execution_count": 334,
   "id": "7ad10315",
   "metadata": {},
   "outputs": [
    {
     "name": "stdout",
     "output_type": "stream",
     "text": [
      "<class 'pandas.core.frame.DataFrame'>\n",
      "RangeIndex: 25551 entries, 0 to 25550\n",
      "Data columns (total 5 columns):\n",
      " #   Column  Non-Null Count  Dtype  \n",
      "---  ------  --------------  -----  \n",
      " 0   DATE    25551 non-null  object \n",
      " 1   PRCP    25548 non-null  float64\n",
      " 2   TMAX    25551 non-null  int64  \n",
      " 3   TMIN    25551 non-null  int64  \n",
      " 4   RAIN    25548 non-null  object \n",
      "dtypes: float64(1), int64(2), object(2)\n",
      "memory usage: 998.2+ KB\n"
     ]
    }
   ],
   "source": [
    "df.info()"
   ]
  },
  {
   "cell_type": "code",
   "execution_count": 335,
   "id": "cc20e4c0",
   "metadata": {},
   "outputs": [
    {
     "data": {
      "text/html": [
       "<div>\n",
       "<style scoped>\n",
       "    .dataframe tbody tr th:only-of-type {\n",
       "        vertical-align: middle;\n",
       "    }\n",
       "\n",
       "    .dataframe tbody tr th {\n",
       "        vertical-align: top;\n",
       "    }\n",
       "\n",
       "    .dataframe thead th {\n",
       "        text-align: right;\n",
       "    }\n",
       "</style>\n",
       "<table border=\"1\" class=\"dataframe\">\n",
       "  <thead>\n",
       "    <tr style=\"text-align: right;\">\n",
       "      <th></th>\n",
       "      <th>PRCP</th>\n",
       "      <th>TMAX</th>\n",
       "      <th>TMIN</th>\n",
       "    </tr>\n",
       "  </thead>\n",
       "  <tbody>\n",
       "    <tr>\n",
       "      <th>count</th>\n",
       "      <td>25548.000000</td>\n",
       "      <td>25551.000000</td>\n",
       "      <td>25551.000000</td>\n",
       "    </tr>\n",
       "    <tr>\n",
       "      <th>mean</th>\n",
       "      <td>0.106222</td>\n",
       "      <td>59.544206</td>\n",
       "      <td>44.514226</td>\n",
       "    </tr>\n",
       "    <tr>\n",
       "      <th>std</th>\n",
       "      <td>0.239031</td>\n",
       "      <td>12.772984</td>\n",
       "      <td>8.892836</td>\n",
       "    </tr>\n",
       "    <tr>\n",
       "      <th>min</th>\n",
       "      <td>0.000000</td>\n",
       "      <td>4.000000</td>\n",
       "      <td>0.000000</td>\n",
       "    </tr>\n",
       "    <tr>\n",
       "      <th>25%</th>\n",
       "      <td>0.000000</td>\n",
       "      <td>50.000000</td>\n",
       "      <td>38.000000</td>\n",
       "    </tr>\n",
       "    <tr>\n",
       "      <th>50%</th>\n",
       "      <td>0.000000</td>\n",
       "      <td>58.000000</td>\n",
       "      <td>45.000000</td>\n",
       "    </tr>\n",
       "    <tr>\n",
       "      <th>75%</th>\n",
       "      <td>0.100000</td>\n",
       "      <td>69.000000</td>\n",
       "      <td>52.000000</td>\n",
       "    </tr>\n",
       "    <tr>\n",
       "      <th>max</th>\n",
       "      <td>5.020000</td>\n",
       "      <td>103.000000</td>\n",
       "      <td>71.000000</td>\n",
       "    </tr>\n",
       "  </tbody>\n",
       "</table>\n",
       "</div>"
      ],
      "text/plain": [
       "               PRCP          TMAX          TMIN\n",
       "count  25548.000000  25551.000000  25551.000000\n",
       "mean       0.106222     59.544206     44.514226\n",
       "std        0.239031     12.772984      8.892836\n",
       "min        0.000000      4.000000      0.000000\n",
       "25%        0.000000     50.000000     38.000000\n",
       "50%        0.000000     58.000000     45.000000\n",
       "75%        0.100000     69.000000     52.000000\n",
       "max        5.020000    103.000000     71.000000"
      ]
     },
     "execution_count": 335,
     "metadata": {},
     "output_type": "execute_result"
    }
   ],
   "source": [
    "df.describe()"
   ]
  },
  {
   "cell_type": "code",
   "execution_count": null,
   "id": "8563f08b",
   "metadata": {},
   "outputs": [],
   "source": []
  },
  {
   "cell_type": "markdown",
   "id": "06f52931",
   "metadata": {},
   "source": [
    "### Missing Value Treatment:"
   ]
  },
  {
   "cell_type": "code",
   "execution_count": 336,
   "id": "f1d2c485",
   "metadata": {},
   "outputs": [
    {
     "name": "stdout",
     "output_type": "stream",
     "text": [
      "<class 'pandas.core.frame.DataFrame'>\n",
      "RangeIndex: 25551 entries, 0 to 25550\n",
      "Data columns (total 5 columns):\n",
      " #   Column  Non-Null Count  Dtype  \n",
      "---  ------  --------------  -----  \n",
      " 0   DATE    25551 non-null  object \n",
      " 1   PRCP    25548 non-null  float64\n",
      " 2   TMAX    25551 non-null  int64  \n",
      " 3   TMIN    25551 non-null  int64  \n",
      " 4   RAIN    25548 non-null  object \n",
      "dtypes: float64(1), int64(2), object(2)\n",
      "memory usage: 998.2+ KB\n"
     ]
    }
   ],
   "source": [
    "df.info()"
   ]
  },
  {
   "cell_type": "code",
   "execution_count": 337,
   "id": "a8fecdf2",
   "metadata": {},
   "outputs": [
    {
     "data": {
      "text/plain": [
       "DATE    0\n",
       "PRCP    3\n",
       "TMAX    0\n",
       "TMIN    0\n",
       "RAIN    3\n",
       "dtype: int64"
      ]
     },
     "execution_count": 337,
     "metadata": {},
     "output_type": "execute_result"
    }
   ],
   "source": [
    "df.isna().sum()"
   ]
  },
  {
   "cell_type": "code",
   "execution_count": 338,
   "id": "f4613dcf",
   "metadata": {},
   "outputs": [
    {
     "data": {
      "text/plain": [
       "DATE    0.000000\n",
       "PRCP    0.011741\n",
       "TMAX    0.000000\n",
       "TMIN    0.000000\n",
       "RAIN    0.011741\n",
       "dtype: float64"
      ]
     },
     "execution_count": 338,
     "metadata": {},
     "output_type": "execute_result"
    }
   ],
   "source": [
    "df.isna().sum() / len(df) * 100"
   ]
  },
  {
   "cell_type": "code",
   "execution_count": 339,
   "id": "eb114540",
   "metadata": {},
   "outputs": [],
   "source": [
    "# There are just 3 Missing Values for each of \"PRCP\" and \"RAIN\" columns."
   ]
  },
  {
   "cell_type": "code",
   "execution_count": 340,
   "id": "bc14d947",
   "metadata": {},
   "outputs": [
    {
     "data": {
      "text/html": [
       "<div>\n",
       "<style scoped>\n",
       "    .dataframe tbody tr th:only-of-type {\n",
       "        vertical-align: middle;\n",
       "    }\n",
       "\n",
       "    .dataframe tbody tr th {\n",
       "        vertical-align: top;\n",
       "    }\n",
       "\n",
       "    .dataframe thead th {\n",
       "        text-align: right;\n",
       "    }\n",
       "</style>\n",
       "<table border=\"1\" class=\"dataframe\">\n",
       "  <thead>\n",
       "    <tr style=\"text-align: right;\">\n",
       "      <th></th>\n",
       "      <th>DATE</th>\n",
       "      <th>PRCP</th>\n",
       "      <th>TMAX</th>\n",
       "      <th>TMIN</th>\n",
       "      <th>RAIN</th>\n",
       "    </tr>\n",
       "  </thead>\n",
       "  <tbody>\n",
       "    <tr>\n",
       "      <th>18415</th>\n",
       "      <td>1998-06-02</td>\n",
       "      <td>NaN</td>\n",
       "      <td>72</td>\n",
       "      <td>52</td>\n",
       "      <td>NaN</td>\n",
       "    </tr>\n",
       "    <tr>\n",
       "      <th>18416</th>\n",
       "      <td>1998-06-03</td>\n",
       "      <td>NaN</td>\n",
       "      <td>66</td>\n",
       "      <td>51</td>\n",
       "      <td>NaN</td>\n",
       "    </tr>\n",
       "    <tr>\n",
       "      <th>21067</th>\n",
       "      <td>2005-09-05</td>\n",
       "      <td>NaN</td>\n",
       "      <td>70</td>\n",
       "      <td>52</td>\n",
       "      <td>NaN</td>\n",
       "    </tr>\n",
       "  </tbody>\n",
       "</table>\n",
       "</div>"
      ],
      "text/plain": [
       "             DATE  PRCP  TMAX  TMIN RAIN\n",
       "18415  1998-06-02   NaN    72    52  NaN\n",
       "18416  1998-06-03   NaN    66    51  NaN\n",
       "21067  2005-09-05   NaN    70    52  NaN"
      ]
     },
     "execution_count": 340,
     "metadata": {},
     "output_type": "execute_result"
    }
   ],
   "source": [
    "# Let's Check if These Values are missing for same rows or different.\n",
    "\n",
    "df[df[\"PRCP\"].isna() == True]"
   ]
  },
  {
   "cell_type": "code",
   "execution_count": 341,
   "id": "ef3a9508",
   "metadata": {},
   "outputs": [],
   "source": [
    "# As we can see, both \"PRCP\" and \"RAIN\" have Missing Values for Same Rows.\n",
    "\n",
    "# We can Drop These 3 Roes as we have more than 25000 observations."
   ]
  },
  {
   "cell_type": "code",
   "execution_count": 342,
   "id": "67f3a4f8",
   "metadata": {},
   "outputs": [],
   "source": [
    "df = df.dropna()"
   ]
  },
  {
   "cell_type": "code",
   "execution_count": 343,
   "id": "d4c79841",
   "metadata": {},
   "outputs": [
    {
     "data": {
      "text/plain": [
       "DATE    0\n",
       "PRCP    0\n",
       "TMAX    0\n",
       "TMIN    0\n",
       "RAIN    0\n",
       "dtype: int64"
      ]
     },
     "execution_count": 343,
     "metadata": {},
     "output_type": "execute_result"
    }
   ],
   "source": [
    "df.isna().sum()"
   ]
  },
  {
   "cell_type": "code",
   "execution_count": 344,
   "id": "8884a755",
   "metadata": {},
   "outputs": [
    {
     "data": {
      "text/plain": [
       "(25548, 5)"
      ]
     },
     "execution_count": 344,
     "metadata": {},
     "output_type": "execute_result"
    }
   ],
   "source": [
    "df.shape"
   ]
  },
  {
   "cell_type": "code",
   "execution_count": null,
   "id": "4a1eeb34",
   "metadata": {},
   "outputs": [],
   "source": []
  },
  {
   "cell_type": "markdown",
   "id": "b845366d",
   "metadata": {},
   "source": [
    "### Data Cleaning:"
   ]
  },
  {
   "cell_type": "code",
   "execution_count": 345,
   "id": "26ff82e6",
   "metadata": {},
   "outputs": [],
   "source": [
    "# First, we will convert \"DATE\" column to DateTime object so as to convert \"DATE\" in Days, Months, Years.\n",
    "\n",
    "# We can also see if \"RAIN\" has any Significant Relation With Days, Months or Years."
   ]
  },
  {
   "cell_type": "code",
   "execution_count": 346,
   "id": "9ead2f0d",
   "metadata": {},
   "outputs": [],
   "source": [
    "df[\"DATE\"] = pd.to_datetime(df[\"DATE\"])"
   ]
  },
  {
   "cell_type": "code",
   "execution_count": 347,
   "id": "e7856532",
   "metadata": {},
   "outputs": [
    {
     "data": {
      "text/plain": [
       "DATE    datetime64[ns]\n",
       "PRCP           float64\n",
       "TMAX             int64\n",
       "TMIN             int64\n",
       "RAIN            object\n",
       "dtype: object"
      ]
     },
     "execution_count": 347,
     "metadata": {},
     "output_type": "execute_result"
    }
   ],
   "source": [
    "df.dtypes"
   ]
  },
  {
   "cell_type": "code",
   "execution_count": 348,
   "id": "cefcd8fc",
   "metadata": {},
   "outputs": [
    {
     "data": {
      "text/plain": [
       "0       1948-01-01\n",
       "1       1948-01-02\n",
       "2       1948-01-03\n",
       "3       1948-01-04\n",
       "4       1948-01-05\n",
       "           ...    \n",
       "25546   2017-12-10\n",
       "25547   2017-12-11\n",
       "25548   2017-12-12\n",
       "25549   2017-12-13\n",
       "25550   2017-12-14\n",
       "Name: DATE, Length: 25548, dtype: datetime64[ns]"
      ]
     },
     "execution_count": 348,
     "metadata": {},
     "output_type": "execute_result"
    }
   ],
   "source": [
    "df[\"DATE\"]"
   ]
  },
  {
   "cell_type": "code",
   "execution_count": null,
   "id": "f5dfd7e4",
   "metadata": {},
   "outputs": [],
   "source": []
  },
  {
   "cell_type": "code",
   "execution_count": 349,
   "id": "5cbe1b8b",
   "metadata": {},
   "outputs": [],
   "source": [
    "# We can Convert Date to Years, Months and Days and Store them in Different Columns.\n",
    "\n",
    "df[\"YEAR\"] = df[\"DATE\"].dt.year"
   ]
  },
  {
   "cell_type": "code",
   "execution_count": 350,
   "id": "4a9488a7",
   "metadata": {},
   "outputs": [
    {
     "data": {
      "text/plain": [
       "0        1948\n",
       "1        1948\n",
       "2        1948\n",
       "3        1948\n",
       "4        1948\n",
       "         ... \n",
       "25546    2017\n",
       "25547    2017\n",
       "25548    2017\n",
       "25549    2017\n",
       "25550    2017\n",
       "Name: YEAR, Length: 25548, dtype: int64"
      ]
     },
     "execution_count": 350,
     "metadata": {},
     "output_type": "execute_result"
    }
   ],
   "source": [
    "df[\"YEAR\"]"
   ]
  },
  {
   "cell_type": "code",
   "execution_count": null,
   "id": "9c4a5efb",
   "metadata": {},
   "outputs": [],
   "source": []
  },
  {
   "cell_type": "code",
   "execution_count": 351,
   "id": "c5cd2442",
   "metadata": {},
   "outputs": [],
   "source": [
    "df[\"MONTH\"] = df[\"DATE\"].dt.month"
   ]
  },
  {
   "cell_type": "code",
   "execution_count": 352,
   "id": "f529ed8b",
   "metadata": {},
   "outputs": [],
   "source": [
    "df[\"DAY\"] = df[\"DATE\"].dt.day"
   ]
  },
  {
   "cell_type": "code",
   "execution_count": null,
   "id": "dd79ca03",
   "metadata": {},
   "outputs": [],
   "source": []
  },
  {
   "cell_type": "code",
   "execution_count": 353,
   "id": "1eaa4ab4",
   "metadata": {},
   "outputs": [
    {
     "data": {
      "text/html": [
       "<div>\n",
       "<style scoped>\n",
       "    .dataframe tbody tr th:only-of-type {\n",
       "        vertical-align: middle;\n",
       "    }\n",
       "\n",
       "    .dataframe tbody tr th {\n",
       "        vertical-align: top;\n",
       "    }\n",
       "\n",
       "    .dataframe thead th {\n",
       "        text-align: right;\n",
       "    }\n",
       "</style>\n",
       "<table border=\"1\" class=\"dataframe\">\n",
       "  <thead>\n",
       "    <tr style=\"text-align: right;\">\n",
       "      <th></th>\n",
       "      <th>DATE</th>\n",
       "      <th>PRCP</th>\n",
       "      <th>TMAX</th>\n",
       "      <th>TMIN</th>\n",
       "      <th>RAIN</th>\n",
       "      <th>YEAR</th>\n",
       "      <th>MONTH</th>\n",
       "      <th>DAY</th>\n",
       "    </tr>\n",
       "  </thead>\n",
       "  <tbody>\n",
       "    <tr>\n",
       "      <th>0</th>\n",
       "      <td>1948-01-01</td>\n",
       "      <td>0.47</td>\n",
       "      <td>51</td>\n",
       "      <td>42</td>\n",
       "      <td>True</td>\n",
       "      <td>1948</td>\n",
       "      <td>1</td>\n",
       "      <td>1</td>\n",
       "    </tr>\n",
       "    <tr>\n",
       "      <th>1</th>\n",
       "      <td>1948-01-02</td>\n",
       "      <td>0.59</td>\n",
       "      <td>45</td>\n",
       "      <td>36</td>\n",
       "      <td>True</td>\n",
       "      <td>1948</td>\n",
       "      <td>1</td>\n",
       "      <td>2</td>\n",
       "    </tr>\n",
       "    <tr>\n",
       "      <th>2</th>\n",
       "      <td>1948-01-03</td>\n",
       "      <td>0.42</td>\n",
       "      <td>45</td>\n",
       "      <td>35</td>\n",
       "      <td>True</td>\n",
       "      <td>1948</td>\n",
       "      <td>1</td>\n",
       "      <td>3</td>\n",
       "    </tr>\n",
       "    <tr>\n",
       "      <th>3</th>\n",
       "      <td>1948-01-04</td>\n",
       "      <td>0.31</td>\n",
       "      <td>45</td>\n",
       "      <td>34</td>\n",
       "      <td>True</td>\n",
       "      <td>1948</td>\n",
       "      <td>1</td>\n",
       "      <td>4</td>\n",
       "    </tr>\n",
       "    <tr>\n",
       "      <th>4</th>\n",
       "      <td>1948-01-05</td>\n",
       "      <td>0.17</td>\n",
       "      <td>45</td>\n",
       "      <td>32</td>\n",
       "      <td>True</td>\n",
       "      <td>1948</td>\n",
       "      <td>1</td>\n",
       "      <td>5</td>\n",
       "    </tr>\n",
       "  </tbody>\n",
       "</table>\n",
       "</div>"
      ],
      "text/plain": [
       "        DATE  PRCP  TMAX  TMIN  RAIN  YEAR  MONTH  DAY\n",
       "0 1948-01-01  0.47    51    42  True  1948      1    1\n",
       "1 1948-01-02  0.59    45    36  True  1948      1    2\n",
       "2 1948-01-03  0.42    45    35  True  1948      1    3\n",
       "3 1948-01-04  0.31    45    34  True  1948      1    4\n",
       "4 1948-01-05  0.17    45    32  True  1948      1    5"
      ]
     },
     "execution_count": 353,
     "metadata": {},
     "output_type": "execute_result"
    }
   ],
   "source": [
    "df.head()"
   ]
  },
  {
   "cell_type": "code",
   "execution_count": null,
   "id": "3f7f009b",
   "metadata": {},
   "outputs": [],
   "source": []
  },
  {
   "cell_type": "code",
   "execution_count": 354,
   "id": "cc361cf7",
   "metadata": {},
   "outputs": [],
   "source": [
    "# We can NoW Drop \"DATE\" column\n",
    "\n",
    "df = df.drop(\"DATE\", axis= 1)"
   ]
  },
  {
   "cell_type": "code",
   "execution_count": 355,
   "id": "6862e6a2",
   "metadata": {},
   "outputs": [
    {
     "data": {
      "text/html": [
       "<div>\n",
       "<style scoped>\n",
       "    .dataframe tbody tr th:only-of-type {\n",
       "        vertical-align: middle;\n",
       "    }\n",
       "\n",
       "    .dataframe tbody tr th {\n",
       "        vertical-align: top;\n",
       "    }\n",
       "\n",
       "    .dataframe thead th {\n",
       "        text-align: right;\n",
       "    }\n",
       "</style>\n",
       "<table border=\"1\" class=\"dataframe\">\n",
       "  <thead>\n",
       "    <tr style=\"text-align: right;\">\n",
       "      <th></th>\n",
       "      <th>PRCP</th>\n",
       "      <th>TMAX</th>\n",
       "      <th>TMIN</th>\n",
       "      <th>RAIN</th>\n",
       "      <th>YEAR</th>\n",
       "      <th>MONTH</th>\n",
       "      <th>DAY</th>\n",
       "    </tr>\n",
       "  </thead>\n",
       "  <tbody>\n",
       "    <tr>\n",
       "      <th>0</th>\n",
       "      <td>0.47</td>\n",
       "      <td>51</td>\n",
       "      <td>42</td>\n",
       "      <td>True</td>\n",
       "      <td>1948</td>\n",
       "      <td>1</td>\n",
       "      <td>1</td>\n",
       "    </tr>\n",
       "    <tr>\n",
       "      <th>1</th>\n",
       "      <td>0.59</td>\n",
       "      <td>45</td>\n",
       "      <td>36</td>\n",
       "      <td>True</td>\n",
       "      <td>1948</td>\n",
       "      <td>1</td>\n",
       "      <td>2</td>\n",
       "    </tr>\n",
       "    <tr>\n",
       "      <th>2</th>\n",
       "      <td>0.42</td>\n",
       "      <td>45</td>\n",
       "      <td>35</td>\n",
       "      <td>True</td>\n",
       "      <td>1948</td>\n",
       "      <td>1</td>\n",
       "      <td>3</td>\n",
       "    </tr>\n",
       "    <tr>\n",
       "      <th>3</th>\n",
       "      <td>0.31</td>\n",
       "      <td>45</td>\n",
       "      <td>34</td>\n",
       "      <td>True</td>\n",
       "      <td>1948</td>\n",
       "      <td>1</td>\n",
       "      <td>4</td>\n",
       "    </tr>\n",
       "    <tr>\n",
       "      <th>4</th>\n",
       "      <td>0.17</td>\n",
       "      <td>45</td>\n",
       "      <td>32</td>\n",
       "      <td>True</td>\n",
       "      <td>1948</td>\n",
       "      <td>1</td>\n",
       "      <td>5</td>\n",
       "    </tr>\n",
       "  </tbody>\n",
       "</table>\n",
       "</div>"
      ],
      "text/plain": [
       "   PRCP  TMAX  TMIN  RAIN  YEAR  MONTH  DAY\n",
       "0  0.47    51    42  True  1948      1    1\n",
       "1  0.59    45    36  True  1948      1    2\n",
       "2  0.42    45    35  True  1948      1    3\n",
       "3  0.31    45    34  True  1948      1    4\n",
       "4  0.17    45    32  True  1948      1    5"
      ]
     },
     "execution_count": 355,
     "metadata": {},
     "output_type": "execute_result"
    }
   ],
   "source": [
    "df.head()"
   ]
  },
  {
   "cell_type": "code",
   "execution_count": null,
   "id": "c0c6de99",
   "metadata": {},
   "outputs": [],
   "source": []
  },
  {
   "cell_type": "code",
   "execution_count": 356,
   "id": "27cef035",
   "metadata": {},
   "outputs": [],
   "source": [
    "# Encoding \"RAIN\" column so that we can check for correlation of features with target.\n",
    "\n",
    "df[\"RAIN\"] = df[\"RAIN\"].map({True : 1, False : 0})\n",
    "\n",
    "# We had to use True and Flase as boolean insted of strings because pandas automatically converted data in \"RAIN\" in Boolean\n",
    "# while reading the file."
   ]
  },
  {
   "cell_type": "code",
   "execution_count": 357,
   "id": "c50d85d1",
   "metadata": {},
   "outputs": [
    {
     "data": {
      "text/plain": [
       "PRCP     float64\n",
       "TMAX       int64\n",
       "TMIN       int64\n",
       "RAIN       int64\n",
       "YEAR       int64\n",
       "MONTH      int64\n",
       "DAY        int64\n",
       "dtype: object"
      ]
     },
     "execution_count": 357,
     "metadata": {},
     "output_type": "execute_result"
    }
   ],
   "source": [
    "df.dtypes"
   ]
  },
  {
   "cell_type": "code",
   "execution_count": 358,
   "id": "d6cb14bc",
   "metadata": {},
   "outputs": [
    {
     "data": {
      "text/html": [
       "<div>\n",
       "<style scoped>\n",
       "    .dataframe tbody tr th:only-of-type {\n",
       "        vertical-align: middle;\n",
       "    }\n",
       "\n",
       "    .dataframe tbody tr th {\n",
       "        vertical-align: top;\n",
       "    }\n",
       "\n",
       "    .dataframe thead th {\n",
       "        text-align: right;\n",
       "    }\n",
       "</style>\n",
       "<table border=\"1\" class=\"dataframe\">\n",
       "  <thead>\n",
       "    <tr style=\"text-align: right;\">\n",
       "      <th></th>\n",
       "      <th>PRCP</th>\n",
       "      <th>TMAX</th>\n",
       "      <th>TMIN</th>\n",
       "      <th>RAIN</th>\n",
       "      <th>YEAR</th>\n",
       "      <th>MONTH</th>\n",
       "      <th>DAY</th>\n",
       "    </tr>\n",
       "  </thead>\n",
       "  <tbody>\n",
       "    <tr>\n",
       "      <th>0</th>\n",
       "      <td>0.47</td>\n",
       "      <td>51</td>\n",
       "      <td>42</td>\n",
       "      <td>1</td>\n",
       "      <td>1948</td>\n",
       "      <td>1</td>\n",
       "      <td>1</td>\n",
       "    </tr>\n",
       "    <tr>\n",
       "      <th>1</th>\n",
       "      <td>0.59</td>\n",
       "      <td>45</td>\n",
       "      <td>36</td>\n",
       "      <td>1</td>\n",
       "      <td>1948</td>\n",
       "      <td>1</td>\n",
       "      <td>2</td>\n",
       "    </tr>\n",
       "    <tr>\n",
       "      <th>2</th>\n",
       "      <td>0.42</td>\n",
       "      <td>45</td>\n",
       "      <td>35</td>\n",
       "      <td>1</td>\n",
       "      <td>1948</td>\n",
       "      <td>1</td>\n",
       "      <td>3</td>\n",
       "    </tr>\n",
       "    <tr>\n",
       "      <th>3</th>\n",
       "      <td>0.31</td>\n",
       "      <td>45</td>\n",
       "      <td>34</td>\n",
       "      <td>1</td>\n",
       "      <td>1948</td>\n",
       "      <td>1</td>\n",
       "      <td>4</td>\n",
       "    </tr>\n",
       "    <tr>\n",
       "      <th>4</th>\n",
       "      <td>0.17</td>\n",
       "      <td>45</td>\n",
       "      <td>32</td>\n",
       "      <td>1</td>\n",
       "      <td>1948</td>\n",
       "      <td>1</td>\n",
       "      <td>5</td>\n",
       "    </tr>\n",
       "  </tbody>\n",
       "</table>\n",
       "</div>"
      ],
      "text/plain": [
       "   PRCP  TMAX  TMIN  RAIN  YEAR  MONTH  DAY\n",
       "0  0.47    51    42     1  1948      1    1\n",
       "1  0.59    45    36     1  1948      1    2\n",
       "2  0.42    45    35     1  1948      1    3\n",
       "3  0.31    45    34     1  1948      1    4\n",
       "4  0.17    45    32     1  1948      1    5"
      ]
     },
     "execution_count": 358,
     "metadata": {},
     "output_type": "execute_result"
    }
   ],
   "source": [
    "df.head()"
   ]
  },
  {
   "cell_type": "code",
   "execution_count": null,
   "id": "d53def2b",
   "metadata": {},
   "outputs": [],
   "source": []
  },
  {
   "cell_type": "markdown",
   "id": "c9900b96",
   "metadata": {},
   "source": [
    "### EDA:"
   ]
  },
  {
   "cell_type": "code",
   "execution_count": 359,
   "id": "422eef28",
   "metadata": {},
   "outputs": [
    {
     "data": {
      "image/png": "[encoded data removed]",
      "text/plain": [
       "<Figure size 1200x900 with 2 Axes>"
      ]
     },
     "metadata": {
      "needs_background": "light"
     },
     "output_type": "display_data"
    }
   ],
   "source": [
    "# Correlation Between Features and Target:\n",
    "\n",
    "plt.figure(figsize= (8,6), dpi= 150)\n",
    "\n",
    "sns.heatmap(df.corr(), annot= True)\n",
    "\n",
    "plt.show()"
   ]
  },
  {
   "cell_type": "code",
   "execution_count": 360,
   "id": "ab6c3a09",
   "metadata": {},
   "outputs": [],
   "source": [
    "# \"RAIN\" has high Positive Correlation with \"PRCP\".\n",
    "\n",
    "# \"TMAX\" and \"TMIN\" are Highly Positively Correlated."
   ]
  },
  {
   "cell_type": "code",
   "execution_count": null,
   "id": "63932274",
   "metadata": {},
   "outputs": [],
   "source": []
  },
  {
   "cell_type": "code",
   "execution_count": 361,
   "id": "4b8f8f4b",
   "metadata": {},
   "outputs": [
    {
     "data": {
      "image/png": "[encoded data removed]",
      "text/plain": [
       "<Figure size 800x600 with 1 Axes>"
      ]
     },
     "metadata": {
      "needs_background": "light"
     },
     "output_type": "display_data"
    }
   ],
   "source": [
    "# Relationship Between \"TMAX\" and \"TMIN\":\n",
    "\n",
    "plt.figure(figsize= (8,6), dpi= 100)\n",
    "\n",
    "sns.scatterplot(data= df, x= \"TMAX\", y= \"TMIN\", hue = \"RAIN\")\n",
    "\n",
    "plt.show()"
   ]
  },
  {
   "cell_type": "code",
   "execution_count": null,
   "id": "b958878b",
   "metadata": {},
   "outputs": [],
   "source": []
  },
  {
   "cell_type": "code",
   "execution_count": 362,
   "id": "3be7ef32",
   "metadata": {},
   "outputs": [
    {
     "data": {
      "image/png": "[encoded data removed]",
      "text/plain": [
       "<Figure size 1500x600 with 1 Axes>"
      ]
     },
     "metadata": {
      "needs_background": "light"
     },
     "output_type": "display_data"
    }
   ],
   "source": [
    "# Year Wise Rain:\n",
    "\n",
    "plt.figure(figsize= (15,6), dpi= 100)\n",
    "\n",
    "sns.lineplot(data= df.groupby(\"YEAR\").mean()[\"RAIN\"])\n",
    "\n",
    "plt.show()"
   ]
  },
  {
   "cell_type": "code",
   "execution_count": null,
   "id": "288623c3",
   "metadata": {},
   "outputs": [],
   "source": []
  },
  {
   "cell_type": "code",
   "execution_count": 363,
   "id": "330ebb82",
   "metadata": {},
   "outputs": [
    {
     "data": {
      "image/png": "[encoded data removed]",
      "text/plain": [
       "<Figure size 1500x600 with 1 Axes>"
      ]
     },
     "metadata": {
      "needs_background": "light"
     },
     "output_type": "display_data"
    }
   ],
   "source": [
    "# Year Wise Rain and PRCP:\n",
    "\n",
    "plt.figure(figsize= (15,6), dpi= 100)\n",
    "\n",
    "sns.lineplot(data= df.groupby(\"YEAR\").mean()[\"RAIN\"], label= \"Rain\")\n",
    "sns.lineplot(data= df.groupby(\"YEAR\").mean()[\"PRCP\"], label= \"PRCP\")\n",
    "\n",
    "plt.legend()\n",
    "plt.show()"
   ]
  },
  {
   "cell_type": "code",
   "execution_count": null,
   "id": "95ba0dc8",
   "metadata": {},
   "outputs": [],
   "source": []
  },
  {
   "cell_type": "code",
   "execution_count": 364,
   "id": "da9c3722",
   "metadata": {},
   "outputs": [
    {
     "data": {
      "image/png": "[encoded data removed]",
      "text/plain": [
       "<Figure size 1500x600 with 1 Axes>"
      ]
     },
     "metadata": {
      "needs_background": "light"
     },
     "output_type": "display_data"
    }
   ],
   "source": [
    "# Month Wise Rain:\n",
    "\n",
    "plt.figure(figsize= (15,6), dpi= 100)\n",
    "\n",
    "sns.lineplot(data= df.groupby(\"MONTH\").mean()[\"RAIN\"])\n",
    "\n",
    "plt.show()"
   ]
  },
  {
   "cell_type": "code",
   "execution_count": 365,
   "id": "00b093f0",
   "metadata": {},
   "outputs": [
    {
     "data": {
      "image/png": "[encoded data removed]",
      "text/plain": [
       "<Figure size 1500x600 with 1 Axes>"
      ]
     },
     "metadata": {
      "needs_background": "light"
     },
     "output_type": "display_data"
    }
   ],
   "source": [
    "# Month Wise PRCP:\n",
    "\n",
    "plt.figure(figsize= (15,6), dpi= 100)\n",
    "\n",
    "sns.lineplot(data= df.groupby(\"MONTH\").mean()[\"PRCP\"])\n",
    "\n",
    "plt.show()"
   ]
  },
  {
   "cell_type": "code",
   "execution_count": null,
   "id": "7052e244",
   "metadata": {},
   "outputs": [],
   "source": []
  },
  {
   "cell_type": "code",
   "execution_count": 366,
   "id": "aafb7047",
   "metadata": {},
   "outputs": [
    {
     "data": {
      "text/plain": [
       "<Figure size 1500x600 with 0 Axes>"
      ]
     },
     "metadata": {},
     "output_type": "display_data"
    },
    {
     "data": {
      "image/png": "[encoded data removed]",
      "text/plain": [
       "<Figure size 360x360 with 1 Axes>"
      ]
     },
     "metadata": {
      "needs_background": "light"
     },
     "output_type": "display_data"
    }
   ],
   "source": [
    "# Distribution of \"TMAX\":\n",
    "\n",
    "plt.figure(figsize= (15,6), dpi= 100)\n",
    "\n",
    "sns.displot(data= df, x= \"TMAX\", kde= True)\n",
    "\n",
    "plt.show()"
   ]
  },
  {
   "cell_type": "code",
   "execution_count": 367,
   "id": "0507e1e0",
   "metadata": {},
   "outputs": [
    {
     "data": {
      "image/png": "[encoded data removed]",
      "text/plain": [
       "<Figure size 1500x600 with 1 Axes>"
      ]
     },
     "metadata": {
      "needs_background": "light"
     },
     "output_type": "display_data"
    }
   ],
   "source": [
    "plt.figure(figsize= (15,6), dpi= 100)\n",
    "\n",
    "sns.boxplot(data= df, x= \"TMAX\")\n",
    "\n",
    "plt.show()"
   ]
  },
  {
   "cell_type": "code",
   "execution_count": 368,
   "id": "e418f2cd",
   "metadata": {},
   "outputs": [
    {
     "data": {
      "text/html": [
       "<div>\n",
       "<style scoped>\n",
       "    .dataframe tbody tr th:only-of-type {\n",
       "        vertical-align: middle;\n",
       "    }\n",
       "\n",
       "    .dataframe tbody tr th {\n",
       "        vertical-align: top;\n",
       "    }\n",
       "\n",
       "    .dataframe thead th {\n",
       "        text-align: right;\n",
       "    }\n",
       "</style>\n",
       "<table border=\"1\" class=\"dataframe\">\n",
       "  <thead>\n",
       "    <tr style=\"text-align: right;\">\n",
       "      <th></th>\n",
       "      <th>PRCP</th>\n",
       "      <th>TMAX</th>\n",
       "      <th>TMIN</th>\n",
       "      <th>RAIN</th>\n",
       "      <th>YEAR</th>\n",
       "      <th>MONTH</th>\n",
       "      <th>DAY</th>\n",
       "    </tr>\n",
       "  </thead>\n",
       "  <tbody>\n",
       "    <tr>\n",
       "      <th>743</th>\n",
       "      <td>1.27</td>\n",
       "      <td>19</td>\n",
       "      <td>11</td>\n",
       "      <td>1</td>\n",
       "      <td>1950</td>\n",
       "      <td>1</td>\n",
       "      <td>13</td>\n",
       "    </tr>\n",
       "    <tr>\n",
       "      <th>744</th>\n",
       "      <td>0.16</td>\n",
       "      <td>16</td>\n",
       "      <td>8</td>\n",
       "      <td>1</td>\n",
       "      <td>1950</td>\n",
       "      <td>1</td>\n",
       "      <td>14</td>\n",
       "    </tr>\n",
       "    <tr>\n",
       "      <th>745</th>\n",
       "      <td>0.02</td>\n",
       "      <td>21</td>\n",
       "      <td>15</td>\n",
       "      <td>1</td>\n",
       "      <td>1950</td>\n",
       "      <td>1</td>\n",
       "      <td>15</td>\n",
       "    </tr>\n",
       "    <tr>\n",
       "      <th>761</th>\n",
       "      <td>0.00</td>\n",
       "      <td>20</td>\n",
       "      <td>0</td>\n",
       "      <td>0</td>\n",
       "      <td>1950</td>\n",
       "      <td>1</td>\n",
       "      <td>31</td>\n",
       "    </tr>\n",
       "    <tr>\n",
       "      <th>1419</th>\n",
       "      <td>0.08</td>\n",
       "      <td>4</td>\n",
       "      <td>39</td>\n",
       "      <td>1</td>\n",
       "      <td>1951</td>\n",
       "      <td>11</td>\n",
       "      <td>20</td>\n",
       "    </tr>\n",
       "    <tr>\n",
       "      <th>2872</th>\n",
       "      <td>0.00</td>\n",
       "      <td>21</td>\n",
       "      <td>13</td>\n",
       "      <td>0</td>\n",
       "      <td>1955</td>\n",
       "      <td>11</td>\n",
       "      <td>12</td>\n",
       "    </tr>\n",
       "    <tr>\n",
       "      <th>4603</th>\n",
       "      <td>0.00</td>\n",
       "      <td>98</td>\n",
       "      <td>66</td>\n",
       "      <td>0</td>\n",
       "      <td>1960</td>\n",
       "      <td>8</td>\n",
       "      <td>8</td>\n",
       "    </tr>\n",
       "    <tr>\n",
       "      <th>4604</th>\n",
       "      <td>0.00</td>\n",
       "      <td>99</td>\n",
       "      <td>59</td>\n",
       "      <td>0</td>\n",
       "      <td>1960</td>\n",
       "      <td>8</td>\n",
       "      <td>9</td>\n",
       "    </tr>\n",
       "    <tr>\n",
       "      <th>6194</th>\n",
       "      <td>0.00</td>\n",
       "      <td>20</td>\n",
       "      <td>10</td>\n",
       "      <td>0</td>\n",
       "      <td>1964</td>\n",
       "      <td>12</td>\n",
       "      <td>16</td>\n",
       "    </tr>\n",
       "    <tr>\n",
       "      <th>7167</th>\n",
       "      <td>0.00</td>\n",
       "      <td>98</td>\n",
       "      <td>59</td>\n",
       "      <td>0</td>\n",
       "      <td>1967</td>\n",
       "      <td>8</td>\n",
       "      <td>16</td>\n",
       "    </tr>\n",
       "    <tr>\n",
       "      <th>7668</th>\n",
       "      <td>0.00</td>\n",
       "      <td>17</td>\n",
       "      <td>8</td>\n",
       "      <td>0</td>\n",
       "      <td>1968</td>\n",
       "      <td>12</td>\n",
       "      <td>29</td>\n",
       "    </tr>\n",
       "    <tr>\n",
       "      <th>7669</th>\n",
       "      <td>0.15</td>\n",
       "      <td>18</td>\n",
       "      <td>6</td>\n",
       "      <td>1</td>\n",
       "      <td>1968</td>\n",
       "      <td>12</td>\n",
       "      <td>30</td>\n",
       "    </tr>\n",
       "    <tr>\n",
       "      <th>11519</th>\n",
       "      <td>0.00</td>\n",
       "      <td>98</td>\n",
       "      <td>63</td>\n",
       "      <td>0</td>\n",
       "      <td>1979</td>\n",
       "      <td>7</td>\n",
       "      <td>16</td>\n",
       "    </tr>\n",
       "    <tr>\n",
       "      <th>12274</th>\n",
       "      <td>0.00</td>\n",
       "      <td>99</td>\n",
       "      <td>68</td>\n",
       "      <td>0</td>\n",
       "      <td>1981</td>\n",
       "      <td>8</td>\n",
       "      <td>9</td>\n",
       "    </tr>\n",
       "    <tr>\n",
       "      <th>12275</th>\n",
       "      <td>0.00</td>\n",
       "      <td>98</td>\n",
       "      <td>67</td>\n",
       "      <td>0</td>\n",
       "      <td>1981</td>\n",
       "      <td>8</td>\n",
       "      <td>10</td>\n",
       "    </tr>\n",
       "    <tr>\n",
       "      <th>14855</th>\n",
       "      <td>0.00</td>\n",
       "      <td>98</td>\n",
       "      <td>59</td>\n",
       "      <td>0</td>\n",
       "      <td>1988</td>\n",
       "      <td>9</td>\n",
       "      <td>2</td>\n",
       "    </tr>\n",
       "    <tr>\n",
       "      <th>15008</th>\n",
       "      <td>0.01</td>\n",
       "      <td>18</td>\n",
       "      <td>11</td>\n",
       "      <td>1</td>\n",
       "      <td>1989</td>\n",
       "      <td>2</td>\n",
       "      <td>2</td>\n",
       "    </tr>\n",
       "    <tr>\n",
       "      <th>15009</th>\n",
       "      <td>0.00</td>\n",
       "      <td>20</td>\n",
       "      <td>10</td>\n",
       "      <td>0</td>\n",
       "      <td>1989</td>\n",
       "      <td>2</td>\n",
       "      <td>3</td>\n",
       "    </tr>\n",
       "    <tr>\n",
       "      <th>15694</th>\n",
       "      <td>0.00</td>\n",
       "      <td>21</td>\n",
       "      <td>14</td>\n",
       "      <td>0</td>\n",
       "      <td>1990</td>\n",
       "      <td>12</td>\n",
       "      <td>20</td>\n",
       "    </tr>\n",
       "    <tr>\n",
       "      <th>15695</th>\n",
       "      <td>0.00</td>\n",
       "      <td>20</td>\n",
       "      <td>12</td>\n",
       "      <td>0</td>\n",
       "      <td>1990</td>\n",
       "      <td>12</td>\n",
       "      <td>21</td>\n",
       "    </tr>\n",
       "    <tr>\n",
       "      <th>15909</th>\n",
       "      <td>0.00</td>\n",
       "      <td>99</td>\n",
       "      <td>65</td>\n",
       "      <td>0</td>\n",
       "      <td>1991</td>\n",
       "      <td>7</td>\n",
       "      <td>23</td>\n",
       "    </tr>\n",
       "    <tr>\n",
       "      <th>17002</th>\n",
       "      <td>0.00</td>\n",
       "      <td>100</td>\n",
       "      <td>65</td>\n",
       "      <td>0</td>\n",
       "      <td>1994</td>\n",
       "      <td>7</td>\n",
       "      <td>20</td>\n",
       "    </tr>\n",
       "    <tr>\n",
       "      <th>21741</th>\n",
       "      <td>0.00</td>\n",
       "      <td>98</td>\n",
       "      <td>61</td>\n",
       "      <td>0</td>\n",
       "      <td>2007</td>\n",
       "      <td>7</td>\n",
       "      <td>11</td>\n",
       "    </tr>\n",
       "    <tr>\n",
       "      <th>22490</th>\n",
       "      <td>0.00</td>\n",
       "      <td>103</td>\n",
       "      <td>71</td>\n",
       "      <td>0</td>\n",
       "      <td>2009</td>\n",
       "      <td>7</td>\n",
       "      <td>29</td>\n",
       "    </tr>\n",
       "  </tbody>\n",
       "</table>\n",
       "</div>"
      ],
      "text/plain": [
       "       PRCP  TMAX  TMIN  RAIN  YEAR  MONTH  DAY\n",
       "743    1.27    19    11     1  1950      1   13\n",
       "744    0.16    16     8     1  1950      1   14\n",
       "745    0.02    21    15     1  1950      1   15\n",
       "761    0.00    20     0     0  1950      1   31\n",
       "1419   0.08     4    39     1  1951     11   20\n",
       "2872   0.00    21    13     0  1955     11   12\n",
       "4603   0.00    98    66     0  1960      8    8\n",
       "4604   0.00    99    59     0  1960      8    9\n",
       "6194   0.00    20    10     0  1964     12   16\n",
       "7167   0.00    98    59     0  1967      8   16\n",
       "7668   0.00    17     8     0  1968     12   29\n",
       "7669   0.15    18     6     1  1968     12   30\n",
       "11519  0.00    98    63     0  1979      7   16\n",
       "12274  0.00    99    68     0  1981      8    9\n",
       "12275  0.00    98    67     0  1981      8   10\n",
       "14855  0.00    98    59     0  1988      9    2\n",
       "15008  0.01    18    11     1  1989      2    2\n",
       "15009  0.00    20    10     0  1989      2    3\n",
       "15694  0.00    21    14     0  1990     12   20\n",
       "15695  0.00    20    12     0  1990     12   21\n",
       "15909  0.00    99    65     0  1991      7   23\n",
       "17002  0.00   100    65     0  1994      7   20\n",
       "21741  0.00    98    61     0  2007      7   11\n",
       "22490  0.00   103    71     0  2009      7   29"
      ]
     },
     "execution_count": 368,
     "metadata": {},
     "output_type": "execute_result"
    }
   ],
   "source": [
    "# There seems to be some Outliers:\n",
    "\n",
    "df[(df[\"TMAX\"]< 22) | (df[\"TMAX\"]> 97)]"
   ]
  },
  {
   "cell_type": "code",
   "execution_count": 369,
   "id": "0db620bb",
   "metadata": {},
   "outputs": [],
   "source": [
    "# Removing These Rows:\n",
    "\n",
    "df = df.drop(df[(df[\"TMAX\"]< 22) | (df[\"TMAX\"]> 97)].index, axis= 0)"
   ]
  },
  {
   "cell_type": "code",
   "execution_count": 370,
   "id": "54a3a0d7",
   "metadata": {},
   "outputs": [
    {
     "data": {
      "text/plain": [
       "(25524, 7)"
      ]
     },
     "execution_count": 370,
     "metadata": {},
     "output_type": "execute_result"
    }
   ],
   "source": [
    "df.shape"
   ]
  },
  {
   "cell_type": "code",
   "execution_count": null,
   "id": "077678d9",
   "metadata": {},
   "outputs": [],
   "source": []
  },
  {
   "cell_type": "code",
   "execution_count": 371,
   "id": "14ba3cb4",
   "metadata": {},
   "outputs": [
    {
     "data": {
      "text/plain": [
       "<Figure size 1500x600 with 0 Axes>"
      ]
     },
     "metadata": {},
     "output_type": "display_data"
    },
    {
     "data": {
      "image/png": "[encoded data removed]",
      "text/plain": [
       "<Figure size 360x360 with 1 Axes>"
      ]
     },
     "metadata": {
      "needs_background": "light"
     },
     "output_type": "display_data"
    }
   ],
   "source": [
    "# Distribution of \"TMIN\":\n",
    "\n",
    "plt.figure(figsize= (15,6), dpi= 100)\n",
    "\n",
    "sns.displot(data= df, x= \"TMIN\", kde= True)\n",
    "\n",
    "plt.show()"
   ]
  },
  {
   "cell_type": "code",
   "execution_count": 372,
   "id": "a14818de",
   "metadata": {},
   "outputs": [
    {
     "data": {
      "image/png": "[encoded data removed]",
      "text/plain": [
       "<Figure size 1500x600 with 1 Axes>"
      ]
     },
     "metadata": {
      "needs_background": "light"
     },
     "output_type": "display_data"
    }
   ],
   "source": [
    "plt.figure(figsize= (15,6), dpi= 100)\n",
    "\n",
    "sns.boxplot(data= df, x= \"TMIN\")\n",
    "\n",
    "plt.show()"
   ]
  },
  {
   "cell_type": "code",
   "execution_count": 373,
   "id": "50407782",
   "metadata": {},
   "outputs": [
    {
     "data": {
      "text/html": [
       "<div>\n",
       "<style scoped>\n",
       "    .dataframe tbody tr th:only-of-type {\n",
       "        vertical-align: middle;\n",
       "    }\n",
       "\n",
       "    .dataframe tbody tr th {\n",
       "        vertical-align: top;\n",
       "    }\n",
       "\n",
       "    .dataframe thead th {\n",
       "        text-align: right;\n",
       "    }\n",
       "</style>\n",
       "<table border=\"1\" class=\"dataframe\">\n",
       "  <thead>\n",
       "    <tr style=\"text-align: right;\">\n",
       "      <th></th>\n",
       "      <th>PRCP</th>\n",
       "      <th>TMAX</th>\n",
       "      <th>TMIN</th>\n",
       "      <th>RAIN</th>\n",
       "      <th>YEAR</th>\n",
       "      <th>MONTH</th>\n",
       "      <th>DAY</th>\n",
       "    </tr>\n",
       "  </thead>\n",
       "  <tbody>\n",
       "    <tr>\n",
       "      <th>358</th>\n",
       "      <td>0.00</td>\n",
       "      <td>36</td>\n",
       "      <td>16</td>\n",
       "      <td>0</td>\n",
       "      <td>1948</td>\n",
       "      <td>12</td>\n",
       "      <td>24</td>\n",
       "    </tr>\n",
       "    <tr>\n",
       "      <th>374</th>\n",
       "      <td>0.00</td>\n",
       "      <td>32</td>\n",
       "      <td>13</td>\n",
       "      <td>0</td>\n",
       "      <td>1949</td>\n",
       "      <td>1</td>\n",
       "      <td>9</td>\n",
       "    </tr>\n",
       "    <tr>\n",
       "      <th>375</th>\n",
       "      <td>0.00</td>\n",
       "      <td>30</td>\n",
       "      <td>12</td>\n",
       "      <td>0</td>\n",
       "      <td>1949</td>\n",
       "      <td>1</td>\n",
       "      <td>10</td>\n",
       "    </tr>\n",
       "    <tr>\n",
       "      <th>388</th>\n",
       "      <td>0.00</td>\n",
       "      <td>30</td>\n",
       "      <td>16</td>\n",
       "      <td>0</td>\n",
       "      <td>1949</td>\n",
       "      <td>1</td>\n",
       "      <td>23</td>\n",
       "    </tr>\n",
       "    <tr>\n",
       "      <th>393</th>\n",
       "      <td>0.00</td>\n",
       "      <td>41</td>\n",
       "      <td>16</td>\n",
       "      <td>0</td>\n",
       "      <td>1949</td>\n",
       "      <td>1</td>\n",
       "      <td>28</td>\n",
       "    </tr>\n",
       "    <tr>\n",
       "      <th>...</th>\n",
       "      <td>...</td>\n",
       "      <td>...</td>\n",
       "      <td>...</td>\n",
       "      <td>...</td>\n",
       "      <td>...</td>\n",
       "      <td>...</td>\n",
       "      <td>...</td>\n",
       "    </tr>\n",
       "    <tr>\n",
       "      <th>18618</th>\n",
       "      <td>0.00</td>\n",
       "      <td>29</td>\n",
       "      <td>16</td>\n",
       "      <td>0</td>\n",
       "      <td>1998</td>\n",
       "      <td>12</td>\n",
       "      <td>22</td>\n",
       "    </tr>\n",
       "    <tr>\n",
       "      <th>22269</th>\n",
       "      <td>0.16</td>\n",
       "      <td>26</td>\n",
       "      <td>14</td>\n",
       "      <td>1</td>\n",
       "      <td>2008</td>\n",
       "      <td>12</td>\n",
       "      <td>20</td>\n",
       "    </tr>\n",
       "    <tr>\n",
       "      <th>22624</th>\n",
       "      <td>0.00</td>\n",
       "      <td>36</td>\n",
       "      <td>16</td>\n",
       "      <td>0</td>\n",
       "      <td>2009</td>\n",
       "      <td>12</td>\n",
       "      <td>10</td>\n",
       "    </tr>\n",
       "    <tr>\n",
       "      <th>22972</th>\n",
       "      <td>0.00</td>\n",
       "      <td>25</td>\n",
       "      <td>16</td>\n",
       "      <td>0</td>\n",
       "      <td>2010</td>\n",
       "      <td>11</td>\n",
       "      <td>23</td>\n",
       "    </tr>\n",
       "    <tr>\n",
       "      <th>22973</th>\n",
       "      <td>0.00</td>\n",
       "      <td>29</td>\n",
       "      <td>14</td>\n",
       "      <td>0</td>\n",
       "      <td>2010</td>\n",
       "      <td>11</td>\n",
       "      <td>24</td>\n",
       "    </tr>\n",
       "  </tbody>\n",
       "</table>\n",
       "<p>80 rows × 7 columns</p>\n",
       "</div>"
      ],
      "text/plain": [
       "       PRCP  TMAX  TMIN  RAIN  YEAR  MONTH  DAY\n",
       "358    0.00    36    16     0  1948     12   24\n",
       "374    0.00    32    13     0  1949      1    9\n",
       "375    0.00    30    12     0  1949      1   10\n",
       "388    0.00    30    16     0  1949      1   23\n",
       "393    0.00    41    16     0  1949      1   28\n",
       "...     ...   ...   ...   ...   ...    ...  ...\n",
       "18618  0.00    29    16     0  1998     12   22\n",
       "22269  0.16    26    14     1  2008     12   20\n",
       "22624  0.00    36    16     0  2009     12   10\n",
       "22972  0.00    25    16     0  2010     11   23\n",
       "22973  0.00    29    14     0  2010     11   24\n",
       "\n",
       "[80 rows x 7 columns]"
      ]
     },
     "execution_count": 373,
     "metadata": {},
     "output_type": "execute_result"
    }
   ],
   "source": [
    "# There seems to be some Outliers:\n",
    "\n",
    "df[(df[\"TMIN\"]< 17)]"
   ]
  },
  {
   "cell_type": "code",
   "execution_count": 374,
   "id": "ad1347dd",
   "metadata": {},
   "outputs": [],
   "source": [
    "# Removing These Rows:\n",
    "\n",
    "df = df.drop(df[(df[\"TMIN\"]< 17)].index, axis= 0)"
   ]
  },
  {
   "cell_type": "code",
   "execution_count": 375,
   "id": "4cc1dd6e",
   "metadata": {},
   "outputs": [
    {
     "data": {
      "text/plain": [
       "(25444, 7)"
      ]
     },
     "execution_count": 375,
     "metadata": {},
     "output_type": "execute_result"
    }
   ],
   "source": [
    "df.shape"
   ]
  },
  {
   "cell_type": "code",
   "execution_count": null,
   "id": "4731056b",
   "metadata": {},
   "outputs": [],
   "source": []
  },
  {
   "cell_type": "code",
   "execution_count": 378,
   "id": "af070330",
   "metadata": {},
   "outputs": [
    {
     "data": {
      "image/png": "[encoded data removed]",
      "text/plain": [
       "<Figure size 1500x600 with 1 Axes>"
      ]
     },
     "metadata": {
      "needs_background": "light"
     },
     "output_type": "display_data"
    }
   ],
   "source": [
    "# Distribution of \"PRCP\":\n",
    "\n",
    "plt.figure(figsize= (15,6), dpi= 100)\n",
    "\n",
    "sns.boxplot(data= df, x= \"PRCP\")\n",
    "\n",
    "plt.show()"
   ]
  },
  {
   "cell_type": "code",
   "execution_count": 381,
   "id": "f059b68a",
   "metadata": {},
   "outputs": [
    {
     "data": {
      "text/html": [
       "<div>\n",
       "<style scoped>\n",
       "    .dataframe tbody tr th:only-of-type {\n",
       "        vertical-align: middle;\n",
       "    }\n",
       "\n",
       "    .dataframe tbody tr th {\n",
       "        vertical-align: top;\n",
       "    }\n",
       "\n",
       "    .dataframe thead th {\n",
       "        text-align: right;\n",
       "    }\n",
       "</style>\n",
       "<table border=\"1\" class=\"dataframe\">\n",
       "  <thead>\n",
       "    <tr style=\"text-align: right;\">\n",
       "      <th></th>\n",
       "      <th>PRCP</th>\n",
       "      <th>TMAX</th>\n",
       "      <th>TMIN</th>\n",
       "      <th>RAIN</th>\n",
       "      <th>YEAR</th>\n",
       "      <th>MONTH</th>\n",
       "      <th>DAY</th>\n",
       "    </tr>\n",
       "  </thead>\n",
       "  <tbody>\n",
       "    <tr>\n",
       "      <th>80</th>\n",
       "      <td>2.04</td>\n",
       "      <td>46</td>\n",
       "      <td>37</td>\n",
       "      <td>1</td>\n",
       "      <td>1948</td>\n",
       "      <td>3</td>\n",
       "      <td>21</td>\n",
       "    </tr>\n",
       "    <tr>\n",
       "      <th>269</th>\n",
       "      <td>1.51</td>\n",
       "      <td>49</td>\n",
       "      <td>44</td>\n",
       "      <td>1</td>\n",
       "      <td>1948</td>\n",
       "      <td>9</td>\n",
       "      <td>26</td>\n",
       "    </tr>\n",
       "    <tr>\n",
       "      <th>412</th>\n",
       "      <td>1.83</td>\n",
       "      <td>48</td>\n",
       "      <td>41</td>\n",
       "      <td>1</td>\n",
       "      <td>1949</td>\n",
       "      <td>2</td>\n",
       "      <td>16</td>\n",
       "    </tr>\n",
       "    <tr>\n",
       "      <th>665</th>\n",
       "      <td>1.17</td>\n",
       "      <td>57</td>\n",
       "      <td>48</td>\n",
       "      <td>1</td>\n",
       "      <td>1949</td>\n",
       "      <td>10</td>\n",
       "      <td>27</td>\n",
       "    </tr>\n",
       "    <tr>\n",
       "      <th>681</th>\n",
       "      <td>1.38</td>\n",
       "      <td>50</td>\n",
       "      <td>44</td>\n",
       "      <td>1</td>\n",
       "      <td>1949</td>\n",
       "      <td>11</td>\n",
       "      <td>12</td>\n",
       "    </tr>\n",
       "    <tr>\n",
       "      <th>...</th>\n",
       "      <td>...</td>\n",
       "      <td>...</td>\n",
       "      <td>...</td>\n",
       "      <td>...</td>\n",
       "      <td>...</td>\n",
       "      <td>...</td>\n",
       "      <td>...</td>\n",
       "    </tr>\n",
       "    <tr>\n",
       "      <th>25368</th>\n",
       "      <td>1.05</td>\n",
       "      <td>61</td>\n",
       "      <td>53</td>\n",
       "      <td>1</td>\n",
       "      <td>2017</td>\n",
       "      <td>6</td>\n",
       "      <td>15</td>\n",
       "    </tr>\n",
       "    <tr>\n",
       "      <th>25493</th>\n",
       "      <td>1.35</td>\n",
       "      <td>64</td>\n",
       "      <td>47</td>\n",
       "      <td>1</td>\n",
       "      <td>2017</td>\n",
       "      <td>10</td>\n",
       "      <td>18</td>\n",
       "    </tr>\n",
       "    <tr>\n",
       "      <th>25494</th>\n",
       "      <td>1.04</td>\n",
       "      <td>54</td>\n",
       "      <td>50</td>\n",
       "      <td>1</td>\n",
       "      <td>2017</td>\n",
       "      <td>10</td>\n",
       "      <td>19</td>\n",
       "    </tr>\n",
       "    <tr>\n",
       "      <th>25496</th>\n",
       "      <td>1.61</td>\n",
       "      <td>58</td>\n",
       "      <td>45</td>\n",
       "      <td>1</td>\n",
       "      <td>2017</td>\n",
       "      <td>10</td>\n",
       "      <td>21</td>\n",
       "    </tr>\n",
       "    <tr>\n",
       "      <th>25527</th>\n",
       "      <td>1.14</td>\n",
       "      <td>60</td>\n",
       "      <td>38</td>\n",
       "      <td>1</td>\n",
       "      <td>2017</td>\n",
       "      <td>11</td>\n",
       "      <td>21</td>\n",
       "    </tr>\n",
       "  </tbody>\n",
       "</table>\n",
       "<p>348 rows × 7 columns</p>\n",
       "</div>"
      ],
      "text/plain": [
       "       PRCP  TMAX  TMIN  RAIN  YEAR  MONTH  DAY\n",
       "80     2.04    46    37     1  1948      3   21\n",
       "269    1.51    49    44     1  1948      9   26\n",
       "412    1.83    48    41     1  1949      2   16\n",
       "665    1.17    57    48     1  1949     10   27\n",
       "681    1.38    50    44     1  1949     11   12\n",
       "...     ...   ...   ...   ...   ...    ...  ...\n",
       "25368  1.05    61    53     1  2017      6   15\n",
       "25493  1.35    64    47     1  2017     10   18\n",
       "25494  1.04    54    50     1  2017     10   19\n",
       "25496  1.61    58    45     1  2017     10   21\n",
       "25527  1.14    60    38     1  2017     11   21\n",
       "\n",
       "[348 rows x 7 columns]"
      ]
     },
     "execution_count": 381,
     "metadata": {},
     "output_type": "execute_result"
    }
   ],
   "source": [
    "# There seems to be some Outliers:\n",
    "\n",
    "df[(df[\"PRCP\"] > 1)]"
   ]
  },
  {
   "cell_type": "code",
   "execution_count": 382,
   "id": "551b412e",
   "metadata": {},
   "outputs": [],
   "source": [
    "# Removing These Rows:\n",
    "\n",
    "df = df.drop(df[(df[\"PRCP\"] > 1)].index, axis= 0)"
   ]
  },
  {
   "cell_type": "code",
   "execution_count": 383,
   "id": "62941c63",
   "metadata": {},
   "outputs": [
    {
     "data": {
      "text/plain": [
       "(25096, 7)"
      ]
     },
     "execution_count": 383,
     "metadata": {},
     "output_type": "execute_result"
    }
   ],
   "source": [
    "df.shape"
   ]
  },
  {
   "cell_type": "code",
   "execution_count": null,
   "id": "0e259e9f",
   "metadata": {},
   "outputs": [],
   "source": []
  },
  {
   "cell_type": "markdown",
   "id": "15494159",
   "metadata": {},
   "source": [
    "### Train Test Split:"
   ]
  },
  {
   "cell_type": "code",
   "execution_count": 384,
   "id": "097e6ef1",
   "metadata": {},
   "outputs": [],
   "source": [
    "# Features:\n",
    "\n",
    "x= df.drop(\"RAIN\", axis= 1)"
   ]
  },
  {
   "cell_type": "code",
   "execution_count": 385,
   "id": "a450743c",
   "metadata": {},
   "outputs": [
    {
     "data": {
      "text/html": [
       "<div>\n",
       "<style scoped>\n",
       "    .dataframe tbody tr th:only-of-type {\n",
       "        vertical-align: middle;\n",
       "    }\n",
       "\n",
       "    .dataframe tbody tr th {\n",
       "        vertical-align: top;\n",
       "    }\n",
       "\n",
       "    .dataframe thead th {\n",
       "        text-align: right;\n",
       "    }\n",
       "</style>\n",
       "<table border=\"1\" class=\"dataframe\">\n",
       "  <thead>\n",
       "    <tr style=\"text-align: right;\">\n",
       "      <th></th>\n",
       "      <th>PRCP</th>\n",
       "      <th>TMAX</th>\n",
       "      <th>TMIN</th>\n",
       "      <th>YEAR</th>\n",
       "      <th>MONTH</th>\n",
       "      <th>DAY</th>\n",
       "    </tr>\n",
       "  </thead>\n",
       "  <tbody>\n",
       "    <tr>\n",
       "      <th>0</th>\n",
       "      <td>0.47</td>\n",
       "      <td>51</td>\n",
       "      <td>42</td>\n",
       "      <td>1948</td>\n",
       "      <td>1</td>\n",
       "      <td>1</td>\n",
       "    </tr>\n",
       "    <tr>\n",
       "      <th>1</th>\n",
       "      <td>0.59</td>\n",
       "      <td>45</td>\n",
       "      <td>36</td>\n",
       "      <td>1948</td>\n",
       "      <td>1</td>\n",
       "      <td>2</td>\n",
       "    </tr>\n",
       "    <tr>\n",
       "      <th>2</th>\n",
       "      <td>0.42</td>\n",
       "      <td>45</td>\n",
       "      <td>35</td>\n",
       "      <td>1948</td>\n",
       "      <td>1</td>\n",
       "      <td>3</td>\n",
       "    </tr>\n",
       "    <tr>\n",
       "      <th>3</th>\n",
       "      <td>0.31</td>\n",
       "      <td>45</td>\n",
       "      <td>34</td>\n",
       "      <td>1948</td>\n",
       "      <td>1</td>\n",
       "      <td>4</td>\n",
       "    </tr>\n",
       "    <tr>\n",
       "      <th>4</th>\n",
       "      <td>0.17</td>\n",
       "      <td>45</td>\n",
       "      <td>32</td>\n",
       "      <td>1948</td>\n",
       "      <td>1</td>\n",
       "      <td>5</td>\n",
       "    </tr>\n",
       "  </tbody>\n",
       "</table>\n",
       "</div>"
      ],
      "text/plain": [
       "   PRCP  TMAX  TMIN  YEAR  MONTH  DAY\n",
       "0  0.47    51    42  1948      1    1\n",
       "1  0.59    45    36  1948      1    2\n",
       "2  0.42    45    35  1948      1    3\n",
       "3  0.31    45    34  1948      1    4\n",
       "4  0.17    45    32  1948      1    5"
      ]
     },
     "execution_count": 385,
     "metadata": {},
     "output_type": "execute_result"
    }
   ],
   "source": [
    "x.head()"
   ]
  },
  {
   "cell_type": "code",
   "execution_count": null,
   "id": "9257fa67",
   "metadata": {},
   "outputs": [],
   "source": []
  },
  {
   "cell_type": "code",
   "execution_count": 386,
   "id": "f86c7d86",
   "metadata": {},
   "outputs": [],
   "source": [
    "# Target:\n",
    "\n",
    "y = df[\"RAIN\"]"
   ]
  },
  {
   "cell_type": "code",
   "execution_count": 387,
   "id": "f10feb2c",
   "metadata": {},
   "outputs": [
    {
     "data": {
      "text/plain": [
       "0    1\n",
       "1    1\n",
       "2    1\n",
       "3    1\n",
       "4    1\n",
       "Name: RAIN, dtype: int64"
      ]
     },
     "execution_count": 387,
     "metadata": {},
     "output_type": "execute_result"
    }
   ],
   "source": [
    "y.head()"
   ]
  },
  {
   "cell_type": "code",
   "execution_count": null,
   "id": "e7d2e286",
   "metadata": {},
   "outputs": [],
   "source": []
  },
  {
   "cell_type": "code",
   "execution_count": 388,
   "id": "bcd8ba62",
   "metadata": {},
   "outputs": [],
   "source": [
    "x_train, x_test, y_train, y_test = train_test_split(x, y, test_size= 0.2, random_state= 42)"
   ]
  },
  {
   "cell_type": "code",
   "execution_count": 389,
   "id": "2f71e877",
   "metadata": {},
   "outputs": [
    {
     "name": "stdout",
     "output_type": "stream",
     "text": [
      "(20076, 6)\n",
      "(5020, 6)\n",
      "(20076,)\n",
      "(5020,)\n"
     ]
    }
   ],
   "source": [
    "print(x_train.shape)\n",
    "print(x_test.shape)\n",
    "print(y_train.shape)\n",
    "print(y_test.shape)"
   ]
  },
  {
   "cell_type": "code",
   "execution_count": null,
   "id": "9d2a0388",
   "metadata": {},
   "outputs": [],
   "source": []
  },
  {
   "cell_type": "markdown",
   "id": "e61071ee",
   "metadata": {},
   "source": [
    "### Scalling:"
   ]
  },
  {
   "cell_type": "code",
   "execution_count": 390,
   "id": "656f839e",
   "metadata": {},
   "outputs": [],
   "source": [
    "sc= StandardScaler()"
   ]
  },
  {
   "cell_type": "code",
   "execution_count": 392,
   "id": "47917d7a",
   "metadata": {},
   "outputs": [
    {
     "data": {
      "text/html": [
       "<div>\n",
       "<style scoped>\n",
       "    .dataframe tbody tr th:only-of-type {\n",
       "        vertical-align: middle;\n",
       "    }\n",
       "\n",
       "    .dataframe tbody tr th {\n",
       "        vertical-align: top;\n",
       "    }\n",
       "\n",
       "    .dataframe thead th {\n",
       "        text-align: right;\n",
       "    }\n",
       "</style>\n",
       "<table border=\"1\" class=\"dataframe\">\n",
       "  <thead>\n",
       "    <tr style=\"text-align: right;\">\n",
       "      <th></th>\n",
       "      <th>PRCP</th>\n",
       "      <th>TMAX</th>\n",
       "      <th>TMIN</th>\n",
       "      <th>YEAR</th>\n",
       "      <th>MONTH</th>\n",
       "      <th>DAY</th>\n",
       "    </tr>\n",
       "  </thead>\n",
       "  <tbody>\n",
       "    <tr>\n",
       "      <th>0</th>\n",
       "      <td>-0.507565</td>\n",
       "      <td>0.413161</td>\n",
       "      <td>0.501814</td>\n",
       "      <td>0.023604</td>\n",
       "      <td>0.727590</td>\n",
       "      <td>-0.762601</td>\n",
       "    </tr>\n",
       "    <tr>\n",
       "      <th>1</th>\n",
       "      <td>-0.507565</td>\n",
       "      <td>-1.165309</td>\n",
       "      <td>-1.223277</td>\n",
       "      <td>-0.125228</td>\n",
       "      <td>-1.027121</td>\n",
       "      <td>-0.081032</td>\n",
       "    </tr>\n",
       "    <tr>\n",
       "      <th>2</th>\n",
       "      <td>-0.160056</td>\n",
       "      <td>-1.717773</td>\n",
       "      <td>-1.108271</td>\n",
       "      <td>0.073215</td>\n",
       "      <td>1.604945</td>\n",
       "      <td>-0.081032</td>\n",
       "    </tr>\n",
       "    <tr>\n",
       "      <th>3</th>\n",
       "      <td>-0.507565</td>\n",
       "      <td>0.965625</td>\n",
       "      <td>0.961838</td>\n",
       "      <td>0.321270</td>\n",
       "      <td>0.435138</td>\n",
       "      <td>0.714133</td>\n",
       "    </tr>\n",
       "    <tr>\n",
       "      <th>4</th>\n",
       "      <td>-0.449647</td>\n",
       "      <td>0.097467</td>\n",
       "      <td>-0.763253</td>\n",
       "      <td>-0.026006</td>\n",
       "      <td>-0.734669</td>\n",
       "      <td>-0.649006</td>\n",
       "    </tr>\n",
       "  </tbody>\n",
       "</table>\n",
       "</div>"
      ],
      "text/plain": [
       "       PRCP      TMAX      TMIN      YEAR     MONTH       DAY\n",
       "0 -0.507565  0.413161  0.501814  0.023604  0.727590 -0.762601\n",
       "1 -0.507565 -1.165309 -1.223277 -0.125228 -1.027121 -0.081032\n",
       "2 -0.160056 -1.717773 -1.108271  0.073215  1.604945 -0.081032\n",
       "3 -0.507565  0.965625  0.961838  0.321270  0.435138  0.714133\n",
       "4 -0.449647  0.097467 -0.763253 -0.026006 -0.734669 -0.649006"
      ]
     },
     "execution_count": 392,
     "metadata": {},
     "output_type": "execute_result"
    }
   ],
   "source": [
    "temp = sc.fit_transform(x_train)\n",
    "x_train = pd.DataFrame(temp, columns= x_train.columns)\n",
    "x_train.head()"
   ]
  },
  {
   "cell_type": "code",
   "execution_count": 394,
   "id": "19e76938",
   "metadata": {},
   "outputs": [
    {
     "data": {
      "text/html": [
       "<div>\n",
       "<style scoped>\n",
       "    .dataframe tbody tr th:only-of-type {\n",
       "        vertical-align: middle;\n",
       "    }\n",
       "\n",
       "    .dataframe tbody tr th {\n",
       "        vertical-align: top;\n",
       "    }\n",
       "\n",
       "    .dataframe thead th {\n",
       "        text-align: right;\n",
       "    }\n",
       "</style>\n",
       "<table border=\"1\" class=\"dataframe\">\n",
       "  <thead>\n",
       "    <tr style=\"text-align: right;\">\n",
       "      <th></th>\n",
       "      <th>PRCP</th>\n",
       "      <th>TMAX</th>\n",
       "      <th>TMIN</th>\n",
       "      <th>YEAR</th>\n",
       "      <th>MONTH</th>\n",
       "      <th>DAY</th>\n",
       "    </tr>\n",
       "  </thead>\n",
       "  <tbody>\n",
       "    <tr>\n",
       "      <th>0</th>\n",
       "      <td>1.924992</td>\n",
       "      <td>-1.481003</td>\n",
       "      <td>-1.223277</td>\n",
       "      <td>-1.117446</td>\n",
       "      <td>-1.027121</td>\n",
       "      <td>-0.876196</td>\n",
       "    </tr>\n",
       "    <tr>\n",
       "      <th>1</th>\n",
       "      <td>-0.507565</td>\n",
       "      <td>-0.376074</td>\n",
       "      <td>-0.418235</td>\n",
       "      <td>1.363099</td>\n",
       "      <td>-1.027121</td>\n",
       "      <td>-1.444171</td>\n",
       "    </tr>\n",
       "    <tr>\n",
       "      <th>2</th>\n",
       "      <td>-0.507565</td>\n",
       "      <td>1.123472</td>\n",
       "      <td>1.421862</td>\n",
       "      <td>-0.174839</td>\n",
       "      <td>0.142686</td>\n",
       "      <td>-1.330576</td>\n",
       "    </tr>\n",
       "    <tr>\n",
       "      <th>3</th>\n",
       "      <td>0.419124</td>\n",
       "      <td>-1.086385</td>\n",
       "      <td>-0.878259</td>\n",
       "      <td>0.618935</td>\n",
       "      <td>-1.027121</td>\n",
       "      <td>-1.330576</td>\n",
       "    </tr>\n",
       "    <tr>\n",
       "      <th>4</th>\n",
       "      <td>0.998304</td>\n",
       "      <td>0.334238</td>\n",
       "      <td>1.191850</td>\n",
       "      <td>-1.018224</td>\n",
       "      <td>0.435138</td>\n",
       "      <td>-1.103386</td>\n",
       "    </tr>\n",
       "  </tbody>\n",
       "</table>\n",
       "</div>"
      ],
      "text/plain": [
       "       PRCP      TMAX      TMIN      YEAR     MONTH       DAY\n",
       "0  1.924992 -1.481003 -1.223277 -1.117446 -1.027121 -0.876196\n",
       "1 -0.507565 -0.376074 -0.418235  1.363099 -1.027121 -1.444171\n",
       "2 -0.507565  1.123472  1.421862 -0.174839  0.142686 -1.330576\n",
       "3  0.419124 -1.086385 -0.878259  0.618935 -1.027121 -1.330576\n",
       "4  0.998304  0.334238  1.191850 -1.018224  0.435138 -1.103386"
      ]
     },
     "execution_count": 394,
     "metadata": {},
     "output_type": "execute_result"
    }
   ],
   "source": [
    "temp = sc.transform(x_test)\n",
    "x_test = pd.DataFrame(temp, columns= x_test.columns)\n",
    "x_test.head()"
   ]
  },
  {
   "cell_type": "code",
   "execution_count": null,
   "id": "335f2ff9",
   "metadata": {},
   "outputs": [],
   "source": []
  },
  {
   "cell_type": "markdown",
   "id": "1fa79144",
   "metadata": {},
   "source": [
    "### Logistic Regression Using Grid Search CV:"
   ]
  },
  {
   "cell_type": "code",
   "execution_count": 395,
   "id": "5445436f",
   "metadata": {},
   "outputs": [],
   "source": [
    "log_model = LogisticRegression(solver= \"saga\", max_iter= 100000)"
   ]
  },
  {
   "cell_type": "code",
   "execution_count": 400,
   "id": "b03e3812",
   "metadata": {},
   "outputs": [],
   "source": [
    "grid_model = GridSearchCV(estimator= log_model,\n",
    "                         param_grid= {\"penalty\" : [\"l1\", \"l2\"], \"C\" : np.logspace(0, 5, 10)}, cv= 5)"
   ]
  },
  {
   "cell_type": "code",
   "execution_count": 401,
   "id": "3d7d438f",
   "metadata": {},
   "outputs": [
    {
     "data": {
      "text/plain": [
       "GridSearchCV(cv=5, estimator=LogisticRegression(max_iter=100000, solver='saga'),\n",
       "             param_grid={'C': array([1.00000000e+00, 3.59381366e+00, 1.29154967e+01, 4.64158883e+01,\n",
       "       1.66810054e+02, 5.99484250e+02, 2.15443469e+03, 7.74263683e+03,\n",
       "       2.78255940e+04, 1.00000000e+05]),\n",
       "                         'penalty': ['l1', 'l2']})"
      ]
     },
     "execution_count": 401,
     "metadata": {},
     "output_type": "execute_result"
    }
   ],
   "source": [
    "# This will take a lot of time to run as Data Size is Large.\n",
    "grid_model.fit(x_train, y_train)"
   ]
  },
  {
   "cell_type": "code",
   "execution_count": 402,
   "id": "f8c30d74",
   "metadata": {},
   "outputs": [
    {
     "data": {
      "text/plain": [
       "LogisticRegression(max_iter=100000, penalty='l1', solver='saga')"
      ]
     },
     "execution_count": 402,
     "metadata": {},
     "output_type": "execute_result"
    }
   ],
   "source": [
    "grid_model.best_estimator_"
   ]
  },
  {
   "cell_type": "code",
   "execution_count": 403,
   "id": "11b6b294",
   "metadata": {},
   "outputs": [
    {
     "data": {
      "text/plain": [
       "1.0"
      ]
     },
     "execution_count": 403,
     "metadata": {},
     "output_type": "execute_result"
    }
   ],
   "source": [
    "grid_model.best_score_"
   ]
  },
  {
   "cell_type": "code",
   "execution_count": 404,
   "id": "d6b9fbdd",
   "metadata": {},
   "outputs": [
    {
     "data": {
      "text/html": [
       "<div>\n",
       "<style scoped>\n",
       "    .dataframe tbody tr th:only-of-type {\n",
       "        vertical-align: middle;\n",
       "    }\n",
       "\n",
       "    .dataframe tbody tr th {\n",
       "        vertical-align: top;\n",
       "    }\n",
       "\n",
       "    .dataframe thead th {\n",
       "        text-align: right;\n",
       "    }\n",
       "</style>\n",
       "<table border=\"1\" class=\"dataframe\">\n",
       "  <thead>\n",
       "    <tr style=\"text-align: right;\">\n",
       "      <th></th>\n",
       "      <th>mean_fit_time</th>\n",
       "      <th>std_fit_time</th>\n",
       "      <th>mean_score_time</th>\n",
       "      <th>std_score_time</th>\n",
       "      <th>param_C</th>\n",
       "      <th>param_penalty</th>\n",
       "      <th>params</th>\n",
       "      <th>split0_test_score</th>\n",
       "      <th>split1_test_score</th>\n",
       "      <th>split2_test_score</th>\n",
       "      <th>split3_test_score</th>\n",
       "      <th>split4_test_score</th>\n",
       "      <th>mean_test_score</th>\n",
       "      <th>std_test_score</th>\n",
       "      <th>rank_test_score</th>\n",
       "    </tr>\n",
       "  </thead>\n",
       "  <tbody>\n",
       "    <tr>\n",
       "      <th>0</th>\n",
       "      <td>3.070998</td>\n",
       "      <td>0.035803</td>\n",
       "      <td>0.001790</td>\n",
       "      <td>0.000397</td>\n",
       "      <td>1.0</td>\n",
       "      <td>l1</td>\n",
       "      <td>{'C': 1.0, 'penalty': 'l1'}</td>\n",
       "      <td>1.000000</td>\n",
       "      <td>1.000000</td>\n",
       "      <td>1.000000</td>\n",
       "      <td>1.000000</td>\n",
       "      <td>1.000000</td>\n",
       "      <td>1.000000</td>\n",
       "      <td>0.000000</td>\n",
       "      <td>1</td>\n",
       "    </tr>\n",
       "    <tr>\n",
       "      <th>1</th>\n",
       "      <td>0.178123</td>\n",
       "      <td>0.001017</td>\n",
       "      <td>0.001795</td>\n",
       "      <td>0.000399</td>\n",
       "      <td>1.0</td>\n",
       "      <td>l2</td>\n",
       "      <td>{'C': 1.0, 'penalty': 'l2'}</td>\n",
       "      <td>0.970867</td>\n",
       "      <td>0.969116</td>\n",
       "      <td>0.966625</td>\n",
       "      <td>0.970361</td>\n",
       "      <td>0.970112</td>\n",
       "      <td>0.969416</td>\n",
       "      <td>0.001507</td>\n",
       "      <td>20</td>\n",
       "    </tr>\n",
       "    <tr>\n",
       "      <th>2</th>\n",
       "      <td>4.265616</td>\n",
       "      <td>0.064202</td>\n",
       "      <td>0.001984</td>\n",
       "      <td>0.000013</td>\n",
       "      <td>3.593814</td>\n",
       "      <td>l1</td>\n",
       "      <td>{'C': 3.5938136638046276, 'penalty': 'l1'}</td>\n",
       "      <td>1.000000</td>\n",
       "      <td>1.000000</td>\n",
       "      <td>1.000000</td>\n",
       "      <td>1.000000</td>\n",
       "      <td>1.000000</td>\n",
       "      <td>1.000000</td>\n",
       "      <td>0.000000</td>\n",
       "      <td>1</td>\n",
       "    </tr>\n",
       "    <tr>\n",
       "      <th>3</th>\n",
       "      <td>0.430871</td>\n",
       "      <td>0.002606</td>\n",
       "      <td>0.001783</td>\n",
       "      <td>0.000393</td>\n",
       "      <td>3.593814</td>\n",
       "      <td>l2</td>\n",
       "      <td>{'C': 3.5938136638046276, 'penalty': 'l2'}</td>\n",
       "      <td>0.991285</td>\n",
       "      <td>0.989290</td>\n",
       "      <td>0.988792</td>\n",
       "      <td>0.989041</td>\n",
       "      <td>0.988792</td>\n",
       "      <td>0.989440</td>\n",
       "      <td>0.000941</td>\n",
       "      <td>19</td>\n",
       "    </tr>\n",
       "    <tr>\n",
       "      <th>4</th>\n",
       "      <td>4.882560</td>\n",
       "      <td>0.066362</td>\n",
       "      <td>0.001590</td>\n",
       "      <td>0.000483</td>\n",
       "      <td>12.915497</td>\n",
       "      <td>l1</td>\n",
       "      <td>{'C': 12.91549665014884, 'penalty': 'l1'}</td>\n",
       "      <td>1.000000</td>\n",
       "      <td>1.000000</td>\n",
       "      <td>1.000000</td>\n",
       "      <td>1.000000</td>\n",
       "      <td>1.000000</td>\n",
       "      <td>1.000000</td>\n",
       "      <td>0.000000</td>\n",
       "      <td>1</td>\n",
       "    </tr>\n",
       "    <tr>\n",
       "      <th>5</th>\n",
       "      <td>0.877265</td>\n",
       "      <td>0.008194</td>\n",
       "      <td>0.001391</td>\n",
       "      <td>0.000482</td>\n",
       "      <td>12.915497</td>\n",
       "      <td>l2</td>\n",
       "      <td>{'C': 12.91549665014884, 'penalty': 'l2'}</td>\n",
       "      <td>1.000000</td>\n",
       "      <td>0.999751</td>\n",
       "      <td>0.999751</td>\n",
       "      <td>0.999751</td>\n",
       "      <td>1.000000</td>\n",
       "      <td>0.999851</td>\n",
       "      <td>0.000122</td>\n",
       "      <td>18</td>\n",
       "    </tr>\n",
       "    <tr>\n",
       "      <th>6</th>\n",
       "      <td>5.095199</td>\n",
       "      <td>0.056532</td>\n",
       "      <td>0.001777</td>\n",
       "      <td>0.000390</td>\n",
       "      <td>46.415888</td>\n",
       "      <td>l1</td>\n",
       "      <td>{'C': 46.4158883361278, 'penalty': 'l1'}</td>\n",
       "      <td>1.000000</td>\n",
       "      <td>1.000000</td>\n",
       "      <td>1.000000</td>\n",
       "      <td>1.000000</td>\n",
       "      <td>1.000000</td>\n",
       "      <td>1.000000</td>\n",
       "      <td>0.000000</td>\n",
       "      <td>1</td>\n",
       "    </tr>\n",
       "    <tr>\n",
       "      <th>7</th>\n",
       "      <td>1.594364</td>\n",
       "      <td>0.014803</td>\n",
       "      <td>0.001385</td>\n",
       "      <td>0.000476</td>\n",
       "      <td>46.415888</td>\n",
       "      <td>l2</td>\n",
       "      <td>{'C': 46.4158883361278, 'penalty': 'l2'}</td>\n",
       "      <td>1.000000</td>\n",
       "      <td>1.000000</td>\n",
       "      <td>1.000000</td>\n",
       "      <td>1.000000</td>\n",
       "      <td>1.000000</td>\n",
       "      <td>1.000000</td>\n",
       "      <td>0.000000</td>\n",
       "      <td>1</td>\n",
       "    </tr>\n",
       "    <tr>\n",
       "      <th>8</th>\n",
       "      <td>5.204704</td>\n",
       "      <td>0.075885</td>\n",
       "      <td>0.001581</td>\n",
       "      <td>0.000474</td>\n",
       "      <td>166.810054</td>\n",
       "      <td>l1</td>\n",
       "      <td>{'C': 166.81005372000593, 'penalty': 'l1'}</td>\n",
       "      <td>1.000000</td>\n",
       "      <td>1.000000</td>\n",
       "      <td>1.000000</td>\n",
       "      <td>1.000000</td>\n",
       "      <td>1.000000</td>\n",
       "      <td>1.000000</td>\n",
       "      <td>0.000000</td>\n",
       "      <td>1</td>\n",
       "    </tr>\n",
       "    <tr>\n",
       "      <th>9</th>\n",
       "      <td>2.691231</td>\n",
       "      <td>0.079921</td>\n",
       "      <td>0.001782</td>\n",
       "      <td>0.000392</td>\n",
       "      <td>166.810054</td>\n",
       "      <td>l2</td>\n",
       "      <td>{'C': 166.81005372000593, 'penalty': 'l2'}</td>\n",
       "      <td>1.000000</td>\n",
       "      <td>1.000000</td>\n",
       "      <td>1.000000</td>\n",
       "      <td>1.000000</td>\n",
       "      <td>1.000000</td>\n",
       "      <td>1.000000</td>\n",
       "      <td>0.000000</td>\n",
       "      <td>1</td>\n",
       "    </tr>\n",
       "    <tr>\n",
       "      <th>10</th>\n",
       "      <td>5.171342</td>\n",
       "      <td>0.058462</td>\n",
       "      <td>0.001579</td>\n",
       "      <td>0.000476</td>\n",
       "      <td>599.48425</td>\n",
       "      <td>l1</td>\n",
       "      <td>{'C': 599.4842503189409, 'penalty': 'l1'}</td>\n",
       "      <td>1.000000</td>\n",
       "      <td>1.000000</td>\n",
       "      <td>1.000000</td>\n",
       "      <td>1.000000</td>\n",
       "      <td>1.000000</td>\n",
       "      <td>1.000000</td>\n",
       "      <td>0.000000</td>\n",
       "      <td>1</td>\n",
       "    </tr>\n",
       "    <tr>\n",
       "      <th>11</th>\n",
       "      <td>3.725266</td>\n",
       "      <td>0.056847</td>\n",
       "      <td>0.002175</td>\n",
       "      <td>0.000396</td>\n",
       "      <td>599.48425</td>\n",
       "      <td>l2</td>\n",
       "      <td>{'C': 599.4842503189409, 'penalty': 'l2'}</td>\n",
       "      <td>1.000000</td>\n",
       "      <td>1.000000</td>\n",
       "      <td>1.000000</td>\n",
       "      <td>1.000000</td>\n",
       "      <td>1.000000</td>\n",
       "      <td>1.000000</td>\n",
       "      <td>0.000000</td>\n",
       "      <td>1</td>\n",
       "    </tr>\n",
       "    <tr>\n",
       "      <th>12</th>\n",
       "      <td>5.220570</td>\n",
       "      <td>0.078017</td>\n",
       "      <td>0.001192</td>\n",
       "      <td>0.000388</td>\n",
       "      <td>2154.43469</td>\n",
       "      <td>l1</td>\n",
       "      <td>{'C': 2154.4346900318847, 'penalty': 'l1'}</td>\n",
       "      <td>1.000000</td>\n",
       "      <td>1.000000</td>\n",
       "      <td>1.000000</td>\n",
       "      <td>1.000000</td>\n",
       "      <td>1.000000</td>\n",
       "      <td>1.000000</td>\n",
       "      <td>0.000000</td>\n",
       "      <td>1</td>\n",
       "    </tr>\n",
       "    <tr>\n",
       "      <th>13</th>\n",
       "      <td>4.326799</td>\n",
       "      <td>0.041827</td>\n",
       "      <td>0.001979</td>\n",
       "      <td>0.000014</td>\n",
       "      <td>2154.43469</td>\n",
       "      <td>l2</td>\n",
       "      <td>{'C': 2154.4346900318847, 'penalty': 'l2'}</td>\n",
       "      <td>1.000000</td>\n",
       "      <td>1.000000</td>\n",
       "      <td>1.000000</td>\n",
       "      <td>1.000000</td>\n",
       "      <td>1.000000</td>\n",
       "      <td>1.000000</td>\n",
       "      <td>0.000000</td>\n",
       "      <td>1</td>\n",
       "    </tr>\n",
       "    <tr>\n",
       "      <th>14</th>\n",
       "      <td>5.351506</td>\n",
       "      <td>0.090112</td>\n",
       "      <td>0.001397</td>\n",
       "      <td>0.000488</td>\n",
       "      <td>7742.636827</td>\n",
       "      <td>l1</td>\n",
       "      <td>{'C': 7742.636826811277, 'penalty': 'l1'}</td>\n",
       "      <td>1.000000</td>\n",
       "      <td>1.000000</td>\n",
       "      <td>1.000000</td>\n",
       "      <td>1.000000</td>\n",
       "      <td>1.000000</td>\n",
       "      <td>1.000000</td>\n",
       "      <td>0.000000</td>\n",
       "      <td>1</td>\n",
       "    </tr>\n",
       "    <tr>\n",
       "      <th>15</th>\n",
       "      <td>4.557629</td>\n",
       "      <td>0.052193</td>\n",
       "      <td>0.001591</td>\n",
       "      <td>0.000485</td>\n",
       "      <td>7742.636827</td>\n",
       "      <td>l2</td>\n",
       "      <td>{'C': 7742.636826811277, 'penalty': 'l2'}</td>\n",
       "      <td>1.000000</td>\n",
       "      <td>1.000000</td>\n",
       "      <td>1.000000</td>\n",
       "      <td>1.000000</td>\n",
       "      <td>1.000000</td>\n",
       "      <td>1.000000</td>\n",
       "      <td>0.000000</td>\n",
       "      <td>1</td>\n",
       "    </tr>\n",
       "    <tr>\n",
       "      <th>16</th>\n",
       "      <td>5.338741</td>\n",
       "      <td>0.077714</td>\n",
       "      <td>0.001984</td>\n",
       "      <td>0.000631</td>\n",
       "      <td>27825.594022</td>\n",
       "      <td>l1</td>\n",
       "      <td>{'C': 27825.59402207126, 'penalty': 'l1'}</td>\n",
       "      <td>1.000000</td>\n",
       "      <td>1.000000</td>\n",
       "      <td>1.000000</td>\n",
       "      <td>1.000000</td>\n",
       "      <td>1.000000</td>\n",
       "      <td>1.000000</td>\n",
       "      <td>0.000000</td>\n",
       "      <td>1</td>\n",
       "    </tr>\n",
       "    <tr>\n",
       "      <th>17</th>\n",
       "      <td>4.660830</td>\n",
       "      <td>0.073016</td>\n",
       "      <td>0.001780</td>\n",
       "      <td>0.000391</td>\n",
       "      <td>27825.594022</td>\n",
       "      <td>l2</td>\n",
       "      <td>{'C': 27825.59402207126, 'penalty': 'l2'}</td>\n",
       "      <td>1.000000</td>\n",
       "      <td>1.000000</td>\n",
       "      <td>1.000000</td>\n",
       "      <td>1.000000</td>\n",
       "      <td>1.000000</td>\n",
       "      <td>1.000000</td>\n",
       "      <td>0.000000</td>\n",
       "      <td>1</td>\n",
       "    </tr>\n",
       "    <tr>\n",
       "      <th>18</th>\n",
       "      <td>7.092547</td>\n",
       "      <td>2.075679</td>\n",
       "      <td>0.002980</td>\n",
       "      <td>0.001553</td>\n",
       "      <td>100000.0</td>\n",
       "      <td>l1</td>\n",
       "      <td>{'C': 100000.0, 'penalty': 'l1'}</td>\n",
       "      <td>1.000000</td>\n",
       "      <td>1.000000</td>\n",
       "      <td>1.000000</td>\n",
       "      <td>1.000000</td>\n",
       "      <td>1.000000</td>\n",
       "      <td>1.000000</td>\n",
       "      <td>0.000000</td>\n",
       "      <td>1</td>\n",
       "    </tr>\n",
       "    <tr>\n",
       "      <th>19</th>\n",
       "      <td>5.149084</td>\n",
       "      <td>0.295366</td>\n",
       "      <td>0.001785</td>\n",
       "      <td>0.000743</td>\n",
       "      <td>100000.0</td>\n",
       "      <td>l2</td>\n",
       "      <td>{'C': 100000.0, 'penalty': 'l2'}</td>\n",
       "      <td>1.000000</td>\n",
       "      <td>1.000000</td>\n",
       "      <td>1.000000</td>\n",
       "      <td>1.000000</td>\n",
       "      <td>1.000000</td>\n",
       "      <td>1.000000</td>\n",
       "      <td>0.000000</td>\n",
       "      <td>1</td>\n",
       "    </tr>\n",
       "  </tbody>\n",
       "</table>\n",
       "</div>"
      ],
      "text/plain": [
       "    mean_fit_time  std_fit_time  mean_score_time  std_score_time  \\\n",
       "0        3.070998      0.035803         0.001790        0.000397   \n",
       "1        0.178123      0.001017         0.001795        0.000399   \n",
       "2        4.265616      0.064202         0.001984        0.000013   \n",
       "3        0.430871      0.002606         0.001783        0.000393   \n",
       "4        4.882560      0.066362         0.001590        0.000483   \n",
       "5        0.877265      0.008194         0.001391        0.000482   \n",
       "6        5.095199      0.056532         0.001777        0.000390   \n",
       "7        1.594364      0.014803         0.001385        0.000476   \n",
       "8        5.204704      0.075885         0.001581        0.000474   \n",
       "9        2.691231      0.079921         0.001782        0.000392   \n",
       "10       5.171342      0.058462         0.001579        0.000476   \n",
       "11       3.725266      0.056847         0.002175        0.000396   \n",
       "12       5.220570      0.078017         0.001192        0.000388   \n",
       "13       4.326799      0.041827         0.001979        0.000014   \n",
       "14       5.351506      0.090112         0.001397        0.000488   \n",
       "15       4.557629      0.052193         0.001591        0.000485   \n",
       "16       5.338741      0.077714         0.001984        0.000631   \n",
       "17       4.660830      0.073016         0.001780        0.000391   \n",
       "18       7.092547      2.075679         0.002980        0.001553   \n",
       "19       5.149084      0.295366         0.001785        0.000743   \n",
       "\n",
       "         param_C param_penalty                                      params  \\\n",
       "0            1.0            l1                 {'C': 1.0, 'penalty': 'l1'}   \n",
       "1            1.0            l2                 {'C': 1.0, 'penalty': 'l2'}   \n",
       "2       3.593814            l1  {'C': 3.5938136638046276, 'penalty': 'l1'}   \n",
       "3       3.593814            l2  {'C': 3.5938136638046276, 'penalty': 'l2'}   \n",
       "4      12.915497            l1   {'C': 12.91549665014884, 'penalty': 'l1'}   \n",
       "5      12.915497            l2   {'C': 12.91549665014884, 'penalty': 'l2'}   \n",
       "6      46.415888            l1    {'C': 46.4158883361278, 'penalty': 'l1'}   \n",
       "7      46.415888            l2    {'C': 46.4158883361278, 'penalty': 'l2'}   \n",
       "8     166.810054            l1  {'C': 166.81005372000593, 'penalty': 'l1'}   \n",
       "9     166.810054            l2  {'C': 166.81005372000593, 'penalty': 'l2'}   \n",
       "10     599.48425            l1   {'C': 599.4842503189409, 'penalty': 'l1'}   \n",
       "11     599.48425            l2   {'C': 599.4842503189409, 'penalty': 'l2'}   \n",
       "12    2154.43469            l1  {'C': 2154.4346900318847, 'penalty': 'l1'}   \n",
       "13    2154.43469            l2  {'C': 2154.4346900318847, 'penalty': 'l2'}   \n",
       "14   7742.636827            l1   {'C': 7742.636826811277, 'penalty': 'l1'}   \n",
       "15   7742.636827            l2   {'C': 7742.636826811277, 'penalty': 'l2'}   \n",
       "16  27825.594022            l1   {'C': 27825.59402207126, 'penalty': 'l1'}   \n",
       "17  27825.594022            l2   {'C': 27825.59402207126, 'penalty': 'l2'}   \n",
       "18      100000.0            l1            {'C': 100000.0, 'penalty': 'l1'}   \n",
       "19      100000.0            l2            {'C': 100000.0, 'penalty': 'l2'}   \n",
       "\n",
       "    split0_test_score  split1_test_score  split2_test_score  \\\n",
       "0            1.000000           1.000000           1.000000   \n",
       "1            0.970867           0.969116           0.966625   \n",
       "2            1.000000           1.000000           1.000000   \n",
       "3            0.991285           0.989290           0.988792   \n",
       "4            1.000000           1.000000           1.000000   \n",
       "5            1.000000           0.999751           0.999751   \n",
       "6            1.000000           1.000000           1.000000   \n",
       "7            1.000000           1.000000           1.000000   \n",
       "8            1.000000           1.000000           1.000000   \n",
       "9            1.000000           1.000000           1.000000   \n",
       "10           1.000000           1.000000           1.000000   \n",
       "11           1.000000           1.000000           1.000000   \n",
       "12           1.000000           1.000000           1.000000   \n",
       "13           1.000000           1.000000           1.000000   \n",
       "14           1.000000           1.000000           1.000000   \n",
       "15           1.000000           1.000000           1.000000   \n",
       "16           1.000000           1.000000           1.000000   \n",
       "17           1.000000           1.000000           1.000000   \n",
       "18           1.000000           1.000000           1.000000   \n",
       "19           1.000000           1.000000           1.000000   \n",
       "\n",
       "    split3_test_score  split4_test_score  mean_test_score  std_test_score  \\\n",
       "0            1.000000           1.000000         1.000000        0.000000   \n",
       "1            0.970361           0.970112         0.969416        0.001507   \n",
       "2            1.000000           1.000000         1.000000        0.000000   \n",
       "3            0.989041           0.988792         0.989440        0.000941   \n",
       "4            1.000000           1.000000         1.000000        0.000000   \n",
       "5            0.999751           1.000000         0.999851        0.000122   \n",
       "6            1.000000           1.000000         1.000000        0.000000   \n",
       "7            1.000000           1.000000         1.000000        0.000000   \n",
       "8            1.000000           1.000000         1.000000        0.000000   \n",
       "9            1.000000           1.000000         1.000000        0.000000   \n",
       "10           1.000000           1.000000         1.000000        0.000000   \n",
       "11           1.000000           1.000000         1.000000        0.000000   \n",
       "12           1.000000           1.000000         1.000000        0.000000   \n",
       "13           1.000000           1.000000         1.000000        0.000000   \n",
       "14           1.000000           1.000000         1.000000        0.000000   \n",
       "15           1.000000           1.000000         1.000000        0.000000   \n",
       "16           1.000000           1.000000         1.000000        0.000000   \n",
       "17           1.000000           1.000000         1.000000        0.000000   \n",
       "18           1.000000           1.000000         1.000000        0.000000   \n",
       "19           1.000000           1.000000         1.000000        0.000000   \n",
       "\n",
       "    rank_test_score  \n",
       "0                 1  \n",
       "1                20  \n",
       "2                 1  \n",
       "3                19  \n",
       "4                 1  \n",
       "5                18  \n",
       "6                 1  \n",
       "7                 1  \n",
       "8                 1  \n",
       "9                 1  \n",
       "10                1  \n",
       "11                1  \n",
       "12                1  \n",
       "13                1  \n",
       "14                1  \n",
       "15                1  \n",
       "16                1  \n",
       "17                1  \n",
       "18                1  \n",
       "19                1  "
      ]
     },
     "execution_count": 404,
     "metadata": {},
     "output_type": "execute_result"
    }
   ],
   "source": [
    "pd.DataFrame(grid_model.cv_results_)"
   ]
  },
  {
   "cell_type": "code",
   "execution_count": null,
   "id": "9c8a9e47",
   "metadata": {},
   "outputs": [],
   "source": []
  },
  {
   "cell_type": "markdown",
   "id": "5f6ce50e",
   "metadata": {},
   "source": [
    "### Model Evaluation:"
   ]
  },
  {
   "cell_type": "code",
   "execution_count": 407,
   "id": "00f3c60b",
   "metadata": {},
   "outputs": [],
   "source": [
    "pred = grid_model.predict(x_test)"
   ]
  },
  {
   "cell_type": "code",
   "execution_count": null,
   "id": "3640533f",
   "metadata": {},
   "outputs": [],
   "source": []
  },
  {
   "cell_type": "code",
   "execution_count": 408,
   "id": "d503ee67",
   "metadata": {},
   "outputs": [
    {
     "data": {
      "text/plain": [
       "1.0"
      ]
     },
     "execution_count": 408,
     "metadata": {},
     "output_type": "execute_result"
    }
   ],
   "source": [
    "# Accuracy:\n",
    "\n",
    "accuracy_score(y_test, pred)"
   ]
  },
  {
   "cell_type": "code",
   "execution_count": null,
   "id": "32d68987",
   "metadata": {},
   "outputs": [],
   "source": []
  },
  {
   "cell_type": "code",
   "execution_count": 409,
   "id": "42ace733",
   "metadata": {},
   "outputs": [
    {
     "data": {
      "text/plain": [
       "1.0"
      ]
     },
     "execution_count": 409,
     "metadata": {},
     "output_type": "execute_result"
    }
   ],
   "source": [
    "# Precision:\n",
    "\n",
    "precision_score(y_test, pred)"
   ]
  },
  {
   "cell_type": "code",
   "execution_count": null,
   "id": "640d6fb5",
   "metadata": {},
   "outputs": [],
   "source": []
  },
  {
   "cell_type": "code",
   "execution_count": 410,
   "id": "cbfa2dfa",
   "metadata": {},
   "outputs": [
    {
     "data": {
      "text/plain": [
       "1.0"
      ]
     },
     "execution_count": 410,
     "metadata": {},
     "output_type": "execute_result"
    }
   ],
   "source": [
    "# Recall:\n",
    "\n",
    "recall_score(y_test, pred)"
   ]
  },
  {
   "cell_type": "code",
   "execution_count": null,
   "id": "9c190e2d",
   "metadata": {},
   "outputs": [],
   "source": []
  },
  {
   "cell_type": "code",
   "execution_count": 411,
   "id": "b8bd8ce2",
   "metadata": {},
   "outputs": [
    {
     "data": {
      "text/plain": [
       "array([[2894,    0],\n",
       "       [   0, 2126]], dtype=int64)"
      ]
     },
     "execution_count": 411,
     "metadata": {},
     "output_type": "execute_result"
    }
   ],
   "source": [
    "# Confusion Matrix:\n",
    "\n",
    "confusion_matrix(y_test, pred)"
   ]
  },
  {
   "cell_type": "code",
   "execution_count": null,
   "id": "3c7bc3da",
   "metadata": {},
   "outputs": [],
   "source": []
  },
  {
   "cell_type": "code",
   "execution_count": 412,
   "id": "bc3f32ba",
   "metadata": {},
   "outputs": [
    {
     "name": "stdout",
     "output_type": "stream",
     "text": [
      "              precision    recall  f1-score   support\n",
      "\n",
      "           0       1.00      1.00      1.00      2894\n",
      "           1       1.00      1.00      1.00      2126\n",
      "\n",
      "    accuracy                           1.00      5020\n",
      "   macro avg       1.00      1.00      1.00      5020\n",
      "weighted avg       1.00      1.00      1.00      5020\n",
      "\n"
     ]
    }
   ],
   "source": [
    "# Classification Report:\n",
    "\n",
    "print(classification_report(y_test, pred))"
   ]
  },
  {
   "cell_type": "code",
   "execution_count": null,
   "id": "294a6086",
   "metadata": {},
   "outputs": [],
   "source": []
  },
  {
   "cell_type": "code",
   "execution_count": 413,
   "id": "669de794",
   "metadata": {},
   "outputs": [
    {
     "data": {
      "image/png": "[encoded data removed]",
      "text/plain": [
       "<Figure size 432x288 with 2 Axes>"
      ]
     },
     "metadata": {
      "needs_background": "light"
     },
     "output_type": "display_data"
    }
   ],
   "source": [
    "# Plotting Confusion Matrix:\n",
    "\n",
    "plot_confusion_matrix(grid_model, x_test, y_test)\n",
    "plt.show()"
   ]
  },
  {
   "cell_type": "code",
   "execution_count": null,
   "id": "2ca6d067",
   "metadata": {},
   "outputs": [],
   "source": []
  },
  {
   "cell_type": "code",
   "execution_count": 414,
   "id": "b45e4d47",
   "metadata": {},
   "outputs": [
    {
     "data": {
      "image/png": "[encoded data removed]",
      "text/plain": [
       "<Figure size 432x288 with 1 Axes>"
      ]
     },
     "metadata": {
      "needs_background": "light"
     },
     "output_type": "display_data"
    }
   ],
   "source": [
    "# Plotting ROC Curve:\n",
    "\n",
    "plot_roc_curve(grid_model, x_test, y_test)\n",
    "plt.show()"
   ]
  },
  {
   "cell_type": "code",
   "execution_count": null,
   "id": "fa827582",
   "metadata": {},
   "outputs": [],
   "source": []
  },
  {
   "cell_type": "code",
   "execution_count": 415,
   "id": "5ad3a259",
   "metadata": {},
   "outputs": [
    {
     "data": {
      "image/png": "[encoded data removed]",
      "text/plain": [
       "<Figure size 432x288 with 1 Axes>"
      ]
     },
     "metadata": {
      "needs_background": "light"
     },
     "output_type": "display_data"
    }
   ],
   "source": [
    "# Plotting Precision Recall Curve:\n",
    "\n",
    "plot_precision_recall_curve(grid_model, x_test, y_test)\n",
    "plt.show()"
   ]
  }
 ],
 "metadata": {
  "kernelspec": {
   "display_name": "Python 3 (ipykernel)",
   "language": "python",
   "name": "python3"
  },
  "language_info": {
   "codemirror_mode": {
    "name": "ipython",
    "version": 3
   },
   "file_extension": ".py",
   "mimetype": "text/x-python",
   "name": "python",
   "nbconvert_exporter": "python",
   "pygments_lexer": "ipython3",
   "version": "3.8.12"
  }
 },
 "nbformat": 4,
 "nbformat_minor": 5
}
