{
 "cells": [
  {
   "cell_type": "markdown",
   "id": "559ace70",
   "metadata": {},
   "source": [
    "# ARIMA and SARIMA on Stock Price Data"
   ]
  },
  {
   "cell_type": "markdown",
   "id": "751c00cd",
   "metadata": {},
   "source": [
    "### Function to Check Stationarity Using Augmented Dickey-Fuller Test:"
   ]
  },
  {
   "cell_type": "code",
   "execution_count": 12,
   "id": "51d6296a",
   "metadata": {},
   "outputs": [],
   "source": [
    "from statsmodels.tsa.stattools import adfuller\n",
    "\n",
    "def dickey_fuller_result(series):\n",
    "    \"\"\"\n",
    "    Function To Perform Augmenter Dickey-Fuller Test and Display Results.\n",
    "    \"\"\"\n",
    "    \n",
    "    result= adfuller(series.dropna())\n",
    "    \n",
    "    labels = [\"Test Statistics\", \"p-Value\", \"No. of Lags\", \"No. of Observations\"]\n",
    "    \n",
    "    output = pd.Series(result[0:4], index= labels)\n",
    "    \n",
    "    for key,value in result[4].items():\n",
    "        output[f\"Critical Value {key}\"] = value\n",
    "        \n",
    "    print(output)\n",
    "    \n",
    "    print(\"\\n\")\n",
    "    \n",
    "    if result[1] <= 0.05:\n",
    "        print(\"Strong evidence against the null hypothesis\")\n",
    "        print(\"Reject the null hypothesis\")\n",
    "        print(\"Data has no unit root and is stationary\")\n",
    "    else:\n",
    "        print(\"Weak evidence against the null hypothesis\")\n",
    "        print(\"Fail to reject the null hypothesis\")\n",
    "        print(\"Data has a unit root and is non-stationary\")"
   ]
  },
  {
   "cell_type": "code",
   "execution_count": null,
   "id": "18ce4ea4",
   "metadata": {},
   "outputs": [],
   "source": []
  },
  {
   "cell_type": "code",
   "execution_count": 2,
   "id": "27b598f7",
   "metadata": {},
   "outputs": [],
   "source": [
    "import numpy as np\n",
    "import pandas as pd\n",
    "\n",
    "from pmdarima import auto_arima\n",
    "\n",
    "from statsmodels.tsa.seasonal import seasonal_decompose\n",
    "from statsmodels.tsa.arima.model import ARIMA\n",
    "from statsmodels.tsa.statespace.sarimax import SARIMAX\n",
    "from statsmodels.graphics.tsaplots import plot_acf, plot_pacf\n",
    "from statsmodels.tsa.statespace.tools import diff\n",
    "\n",
    "from sklearn.metrics import mean_squared_error"
   ]
  },
  {
   "cell_type": "code",
   "execution_count": null,
   "id": "e97b0931",
   "metadata": {},
   "outputs": [],
   "source": []
  },
  {
   "cell_type": "code",
   "execution_count": 3,
   "id": "c995cf65",
   "metadata": {},
   "outputs": [],
   "source": [
    "df= pd.read_csv(\"stock_price.csv\", index_col= 0, parse_dates= True)"
   ]
  },
  {
   "cell_type": "code",
   "execution_count": 4,
   "id": "f88d7a49",
   "metadata": {},
   "outputs": [
    {
     "data": {
      "text/html": [
       "<div>\n",
       "<style scoped>\n",
       "    .dataframe tbody tr th:only-of-type {\n",
       "        vertical-align: middle;\n",
       "    }\n",
       "\n",
       "    .dataframe tbody tr th {\n",
       "        vertical-align: top;\n",
       "    }\n",
       "\n",
       "    .dataframe thead th {\n",
       "        text-align: right;\n",
       "    }\n",
       "</style>\n",
       "<table border=\"1\" class=\"dataframe\">\n",
       "  <thead>\n",
       "    <tr style=\"text-align: right;\">\n",
       "      <th></th>\n",
       "      <th>y</th>\n",
       "    </tr>\n",
       "    <tr>\n",
       "      <th>ds</th>\n",
       "      <th></th>\n",
       "    </tr>\n",
       "  </thead>\n",
       "  <tbody>\n",
       "    <tr>\n",
       "      <th>1991-07-01</th>\n",
       "      <td>3.526591</td>\n",
       "    </tr>\n",
       "    <tr>\n",
       "      <th>1991-08-01</th>\n",
       "      <td>3.180891</td>\n",
       "    </tr>\n",
       "    <tr>\n",
       "      <th>1991-09-01</th>\n",
       "      <td>3.252221</td>\n",
       "    </tr>\n",
       "    <tr>\n",
       "      <th>1991-10-01</th>\n",
       "      <td>3.611003</td>\n",
       "    </tr>\n",
       "    <tr>\n",
       "      <th>1991-11-01</th>\n",
       "      <td>3.565869</td>\n",
       "    </tr>\n",
       "  </tbody>\n",
       "</table>\n",
       "</div>"
      ],
      "text/plain": [
       "                   y\n",
       "ds                  \n",
       "1991-07-01  3.526591\n",
       "1991-08-01  3.180891\n",
       "1991-09-01  3.252221\n",
       "1991-10-01  3.611003\n",
       "1991-11-01  3.565869"
      ]
     },
     "execution_count": 4,
     "metadata": {},
     "output_type": "execute_result"
    }
   ],
   "source": [
    "df.head()"
   ]
  },
  {
   "cell_type": "code",
   "execution_count": 5,
   "id": "4c70dd5f",
   "metadata": {},
   "outputs": [
    {
     "data": {
      "text/plain": [
       "DatetimeIndex(['1991-07-01', '1991-08-01', '1991-09-01', '1991-10-01',\n",
       "               '1991-11-01', '1991-12-01', '1992-01-01', '1992-02-01',\n",
       "               '1992-03-01', '1992-04-01',\n",
       "               ...\n",
       "               '2007-09-01', '2007-10-01', '2007-11-01', '2007-12-01',\n",
       "               '2008-01-01', '2008-02-01', '2008-03-01', '2008-04-01',\n",
       "               '2008-05-01', '2008-06-01'],\n",
       "              dtype='datetime64[ns]', name='ds', length=204, freq=None)"
      ]
     },
     "execution_count": 5,
     "metadata": {},
     "output_type": "execute_result"
    }
   ],
   "source": [
    "df.index"
   ]
  },
  {
   "cell_type": "code",
   "execution_count": 6,
   "id": "88c86c80",
   "metadata": {},
   "outputs": [],
   "source": [
    "df.index.freq = \"MS\""
   ]
  },
  {
   "cell_type": "code",
   "execution_count": 7,
   "id": "dd476895",
   "metadata": {},
   "outputs": [
    {
     "data": {
      "text/plain": [
       "DatetimeIndex(['1991-07-01', '1991-08-01', '1991-09-01', '1991-10-01',\n",
       "               '1991-11-01', '1991-12-01', '1992-01-01', '1992-02-01',\n",
       "               '1992-03-01', '1992-04-01',\n",
       "               ...\n",
       "               '2007-09-01', '2007-10-01', '2007-11-01', '2007-12-01',\n",
       "               '2008-01-01', '2008-02-01', '2008-03-01', '2008-04-01',\n",
       "               '2008-05-01', '2008-06-01'],\n",
       "              dtype='datetime64[ns]', name='ds', length=204, freq='MS')"
      ]
     },
     "execution_count": 7,
     "metadata": {},
     "output_type": "execute_result"
    }
   ],
   "source": [
    "df.index"
   ]
  },
  {
   "cell_type": "code",
   "execution_count": null,
   "id": "a46521dd",
   "metadata": {},
   "outputs": [],
   "source": []
  },
  {
   "cell_type": "code",
   "execution_count": 8,
   "id": "6acdd75f",
   "metadata": {},
   "outputs": [
    {
     "data": {
      "text/plain": [
       "<AxesSubplot:xlabel='ds'>"
      ]
     },
     "execution_count": 8,
     "metadata": {},
     "output_type": "execute_result"
    },
    {
     "data": {
      "image/png": "[encoded data removed]",
      "text/plain": [
       "<Figure size 864x432 with 1 Axes>"
      ]
     },
     "metadata": {
      "needs_background": "light"
     },
     "output_type": "display_data"
    }
   ],
   "source": [
    "# Plotting Data:\n",
    "\n",
    "df.plot(figsize= (12,6))"
   ]
  },
  {
   "cell_type": "code",
   "execution_count": null,
   "id": "1e591310",
   "metadata": {},
   "outputs": [],
   "source": []
  },
  {
   "cell_type": "markdown",
   "id": "5e7a89a7",
   "metadata": {},
   "source": [
    "### ETS Decomposition:"
   ]
  },
  {
   "cell_type": "code",
   "execution_count": 9,
   "id": "fe9ea457",
   "metadata": {},
   "outputs": [],
   "source": [
    "decomp = seasonal_decompose(df[\"y\"], model= \"multiplicative\")"
   ]
  },
  {
   "cell_type": "code",
   "execution_count": 10,
   "id": "4fac3e7e",
   "metadata": {},
   "outputs": [
    {
     "data": {
      "image/png": "[encoded data removed]",
      "text/plain": [
       "<Figure size 432x288 with 4 Axes>"
      ]
     },
     "metadata": {
      "needs_background": "light"
     },
     "output_type": "display_data"
    }
   ],
   "source": [
    "decomp.plot();"
   ]
  },
  {
   "cell_type": "code",
   "execution_count": null,
   "id": "b2fcb044",
   "metadata": {},
   "outputs": [],
   "source": []
  },
  {
   "cell_type": "markdown",
   "id": "81a08c1a",
   "metadata": {},
   "source": [
    "### Stationarity Check:"
   ]
  },
  {
   "cell_type": "code",
   "execution_count": 13,
   "id": "45c4b6d2",
   "metadata": {},
   "outputs": [
    {
     "name": "stdout",
     "output_type": "stream",
     "text": [
      "Test Statistics          3.145186\n",
      "p-Value                  1.000000\n",
      "No. of Lags             15.000000\n",
      "No. of Observations    188.000000\n",
      "Critical Value 1%       -3.465620\n",
      "Critical Value 5%       -2.877040\n",
      "Critical Value 10%      -2.575032\n",
      "dtype: float64\n",
      "\n",
      "\n",
      "Weak evidence against the null hypothesis\n",
      "Fail to reject the null hypothesis\n",
      "Data has a unit root and is non-stationary\n"
     ]
    }
   ],
   "source": [
    "dickey_fuller_result(df[\"y\"])"
   ]
  },
  {
   "cell_type": "code",
   "execution_count": 75,
   "id": "e0fd2bec",
   "metadata": {},
   "outputs": [],
   "source": [
    "# Series is Non-Stationary.\n",
    "\n",
    "# We have to apply Differencing."
   ]
  },
  {
   "cell_type": "code",
   "execution_count": null,
   "id": "08f1bc89",
   "metadata": {},
   "outputs": [],
   "source": []
  },
  {
   "cell_type": "code",
   "execution_count": 14,
   "id": "be3acaa0",
   "metadata": {},
   "outputs": [],
   "source": [
    "df[\"diff_1\"] = diff(df[\"y\"], k_diff= 1)"
   ]
  },
  {
   "cell_type": "code",
   "execution_count": 15,
   "id": "7b9a614a",
   "metadata": {},
   "outputs": [
    {
     "data": {
      "text/html": [
       "<div>\n",
       "<style scoped>\n",
       "    .dataframe tbody tr th:only-of-type {\n",
       "        vertical-align: middle;\n",
       "    }\n",
       "\n",
       "    .dataframe tbody tr th {\n",
       "        vertical-align: top;\n",
       "    }\n",
       "\n",
       "    .dataframe thead th {\n",
       "        text-align: right;\n",
       "    }\n",
       "</style>\n",
       "<table border=\"1\" class=\"dataframe\">\n",
       "  <thead>\n",
       "    <tr style=\"text-align: right;\">\n",
       "      <th></th>\n",
       "      <th>y</th>\n",
       "      <th>diff_1</th>\n",
       "    </tr>\n",
       "    <tr>\n",
       "      <th>ds</th>\n",
       "      <th></th>\n",
       "      <th></th>\n",
       "    </tr>\n",
       "  </thead>\n",
       "  <tbody>\n",
       "    <tr>\n",
       "      <th>1991-07-01</th>\n",
       "      <td>3.526591</td>\n",
       "      <td>NaN</td>\n",
       "    </tr>\n",
       "    <tr>\n",
       "      <th>1991-08-01</th>\n",
       "      <td>3.180891</td>\n",
       "      <td>-0.345700</td>\n",
       "    </tr>\n",
       "    <tr>\n",
       "      <th>1991-09-01</th>\n",
       "      <td>3.252221</td>\n",
       "      <td>0.071330</td>\n",
       "    </tr>\n",
       "    <tr>\n",
       "      <th>1991-10-01</th>\n",
       "      <td>3.611003</td>\n",
       "      <td>0.358782</td>\n",
       "    </tr>\n",
       "    <tr>\n",
       "      <th>1991-11-01</th>\n",
       "      <td>3.565869</td>\n",
       "      <td>-0.045134</td>\n",
       "    </tr>\n",
       "  </tbody>\n",
       "</table>\n",
       "</div>"
      ],
      "text/plain": [
       "                   y    diff_1\n",
       "ds                            \n",
       "1991-07-01  3.526591       NaN\n",
       "1991-08-01  3.180891 -0.345700\n",
       "1991-09-01  3.252221  0.071330\n",
       "1991-10-01  3.611003  0.358782\n",
       "1991-11-01  3.565869 -0.045134"
      ]
     },
     "execution_count": 15,
     "metadata": {},
     "output_type": "execute_result"
    }
   ],
   "source": [
    "df.head()"
   ]
  },
  {
   "cell_type": "code",
   "execution_count": 16,
   "id": "7188e936",
   "metadata": {},
   "outputs": [
    {
     "name": "stdout",
     "output_type": "stream",
     "text": [
      "Test Statistics         -2.495172\n",
      "p-Value                  0.116653\n",
      "No. of Lags             15.000000\n",
      "No. of Observations    187.000000\n",
      "Critical Value 1%       -3.465812\n",
      "Critical Value 5%       -2.877123\n",
      "Critical Value 10%      -2.575077\n",
      "dtype: float64\n",
      "\n",
      "\n",
      "Weak evidence against the null hypothesis\n",
      "Fail to reject the null hypothesis\n",
      "Data has a unit root and is non-stationary\n"
     ]
    }
   ],
   "source": [
    "# Checking Stationarity of First Order Differenced Data:\n",
    "\n",
    "dickey_fuller_result(df[\"diff_1\"])"
   ]
  },
  {
   "cell_type": "code",
   "execution_count": null,
   "id": "fa67e18f",
   "metadata": {},
   "outputs": [],
   "source": []
  },
  {
   "cell_type": "code",
   "execution_count": 17,
   "id": "442d3f99",
   "metadata": {},
   "outputs": [],
   "source": [
    "# Applying Second Order Differencing:\n",
    "\n",
    "df[\"diff_2\"] = diff(df[\"y\"], k_diff= 2)"
   ]
  },
  {
   "cell_type": "code",
   "execution_count": 18,
   "id": "104ce4ab",
   "metadata": {},
   "outputs": [
    {
     "data": {
      "text/html": [
       "<div>\n",
       "<style scoped>\n",
       "    .dataframe tbody tr th:only-of-type {\n",
       "        vertical-align: middle;\n",
       "    }\n",
       "\n",
       "    .dataframe tbody tr th {\n",
       "        vertical-align: top;\n",
       "    }\n",
       "\n",
       "    .dataframe thead th {\n",
       "        text-align: right;\n",
       "    }\n",
       "</style>\n",
       "<table border=\"1\" class=\"dataframe\">\n",
       "  <thead>\n",
       "    <tr style=\"text-align: right;\">\n",
       "      <th></th>\n",
       "      <th>y</th>\n",
       "      <th>diff_1</th>\n",
       "      <th>diff_2</th>\n",
       "    </tr>\n",
       "    <tr>\n",
       "      <th>ds</th>\n",
       "      <th></th>\n",
       "      <th></th>\n",
       "      <th></th>\n",
       "    </tr>\n",
       "  </thead>\n",
       "  <tbody>\n",
       "    <tr>\n",
       "      <th>1991-07-01</th>\n",
       "      <td>3.526591</td>\n",
       "      <td>NaN</td>\n",
       "      <td>NaN</td>\n",
       "    </tr>\n",
       "    <tr>\n",
       "      <th>1991-08-01</th>\n",
       "      <td>3.180891</td>\n",
       "      <td>-0.345700</td>\n",
       "      <td>NaN</td>\n",
       "    </tr>\n",
       "    <tr>\n",
       "      <th>1991-09-01</th>\n",
       "      <td>3.252221</td>\n",
       "      <td>0.071330</td>\n",
       "      <td>0.417030</td>\n",
       "    </tr>\n",
       "    <tr>\n",
       "      <th>1991-10-01</th>\n",
       "      <td>3.611003</td>\n",
       "      <td>0.358782</td>\n",
       "      <td>0.287452</td>\n",
       "    </tr>\n",
       "    <tr>\n",
       "      <th>1991-11-01</th>\n",
       "      <td>3.565869</td>\n",
       "      <td>-0.045134</td>\n",
       "      <td>-0.403916</td>\n",
       "    </tr>\n",
       "  </tbody>\n",
       "</table>\n",
       "</div>"
      ],
      "text/plain": [
       "                   y    diff_1    diff_2\n",
       "ds                                      \n",
       "1991-07-01  3.526591       NaN       NaN\n",
       "1991-08-01  3.180891 -0.345700       NaN\n",
       "1991-09-01  3.252221  0.071330  0.417030\n",
       "1991-10-01  3.611003  0.358782  0.287452\n",
       "1991-11-01  3.565869 -0.045134 -0.403916"
      ]
     },
     "execution_count": 18,
     "metadata": {},
     "output_type": "execute_result"
    }
   ],
   "source": [
    "df.head()"
   ]
  },
  {
   "cell_type": "code",
   "execution_count": 19,
   "id": "dd35600f",
   "metadata": {},
   "outputs": [
    {
     "name": "stdout",
     "output_type": "stream",
     "text": [
      "Test Statistics       -1.029230e+01\n",
      "p-Value                3.543916e-18\n",
      "No. of Lags            1.400000e+01\n",
      "No. of Observations    1.870000e+02\n",
      "Critical Value 1%     -3.465812e+00\n",
      "Critical Value 5%     -2.877123e+00\n",
      "Critical Value 10%    -2.575077e+00\n",
      "dtype: float64\n",
      "\n",
      "\n",
      "Strong evidence against the null hypothesis\n",
      "Reject the null hypothesis\n",
      "Data has no unit root and is stationary\n"
     ]
    }
   ],
   "source": [
    "# Checking Stationarity of Second Order Differenced Data:\n",
    "\n",
    "dickey_fuller_result(df[\"diff_2\"])"
   ]
  },
  {
   "cell_type": "code",
   "execution_count": null,
   "id": "945d2e6e",
   "metadata": {},
   "outputs": [],
   "source": []
  },
  {
   "cell_type": "markdown",
   "id": "a97cca7c",
   "metadata": {},
   "source": [
    "### ACF and PACF Plots:"
   ]
  },
  {
   "cell_type": "code",
   "execution_count": 20,
   "id": "3b4ba3a6",
   "metadata": {},
   "outputs": [
    {
     "data": {
      "image/png": "[encoded data removed]",
      "text/plain": [
       "<Figure size 432x288 with 1 Axes>"
      ]
     },
     "metadata": {
      "needs_background": "light"
     },
     "output_type": "display_data"
    }
   ],
   "source": [
    "plot_acf(df[\"y\"], lags= 40);"
   ]
  },
  {
   "cell_type": "code",
   "execution_count": 21,
   "id": "6c91cb78",
   "metadata": {},
   "outputs": [
    {
     "data": {
      "image/png": "[encoded data removed]",
      "text/plain": [
       "<Figure size 432x288 with 1 Axes>"
      ]
     },
     "metadata": {
      "needs_background": "light"
     },
     "output_type": "display_data"
    }
   ],
   "source": [
    "plot_pacf(df[\"y\"], lags= 40, method= \"ywm\");"
   ]
  },
  {
   "cell_type": "code",
   "execution_count": null,
   "id": "43cdf3dd",
   "metadata": {},
   "outputs": [],
   "source": []
  },
  {
   "cell_type": "markdown",
   "id": "7781da80",
   "metadata": {},
   "source": [
    "### Using Auto ARIMA to Decide Orders:"
   ]
  },
  {
   "cell_type": "code",
   "execution_count": 22,
   "id": "59975d69",
   "metadata": {},
   "outputs": [
    {
     "name": "stdout",
     "output_type": "stream",
     "text": [
      "Performing stepwise search to minimize aic\n",
      " ARIMA(2,1,2)(1,1,1)[12]             : AIC=526.837, Time=0.65 sec\n",
      " ARIMA(0,1,0)(0,1,0)[12]             : AIC=659.245, Time=0.03 sec\n",
      " ARIMA(1,1,0)(1,1,0)[12]             : AIC=560.558, Time=0.08 sec\n",
      " ARIMA(0,1,1)(0,1,1)[12]             : AIC=529.539, Time=0.14 sec\n",
      " ARIMA(2,1,2)(0,1,1)[12]             : AIC=525.356, Time=0.51 sec\n",
      " ARIMA(2,1,2)(0,1,0)[12]             : AIC=551.838, Time=0.16 sec\n",
      " ARIMA(2,1,2)(0,1,2)[12]             : AIC=526.365, Time=0.92 sec\n",
      " ARIMA(2,1,2)(1,1,0)[12]             : AIC=530.219, Time=0.42 sec\n",
      " ARIMA(2,1,2)(1,1,2)[12]             : AIC=inf, Time=1.84 sec\n",
      " ARIMA(1,1,2)(0,1,1)[12]             : AIC=527.568, Time=0.39 sec\n",
      " ARIMA(2,1,1)(0,1,1)[12]             : AIC=529.582, Time=0.31 sec\n",
      " ARIMA(3,1,2)(0,1,1)[12]             : AIC=520.313, Time=0.40 sec\n",
      " ARIMA(3,1,2)(0,1,0)[12]             : AIC=544.911, Time=0.19 sec\n",
      " ARIMA(3,1,2)(1,1,1)[12]             : AIC=521.966, Time=0.58 sec\n",
      " ARIMA(3,1,2)(0,1,2)[12]             : AIC=521.645, Time=1.23 sec\n",
      " ARIMA(3,1,2)(1,1,0)[12]             : AIC=526.036, Time=0.39 sec\n",
      " ARIMA(3,1,2)(1,1,2)[12]             : AIC=523.456, Time=1.70 sec\n",
      " ARIMA(3,1,1)(0,1,1)[12]             : AIC=523.535, Time=0.34 sec\n",
      " ARIMA(4,1,2)(0,1,1)[12]             : AIC=521.961, Time=0.85 sec\n",
      " ARIMA(3,1,3)(0,1,1)[12]             : AIC=522.196, Time=0.58 sec\n",
      " ARIMA(2,1,3)(0,1,1)[12]             : AIC=523.490, Time=0.57 sec\n",
      " ARIMA(4,1,1)(0,1,1)[12]             : AIC=519.977, Time=0.37 sec\n",
      " ARIMA(4,1,1)(0,1,0)[12]             : AIC=550.220, Time=0.12 sec\n",
      " ARIMA(4,1,1)(1,1,1)[12]             : AIC=521.444, Time=0.51 sec\n",
      " ARIMA(4,1,1)(0,1,2)[12]             : AIC=520.895, Time=0.88 sec\n",
      " ARIMA(4,1,1)(1,1,0)[12]             : AIC=526.881, Time=0.32 sec\n",
      " ARIMA(4,1,1)(1,1,2)[12]             : AIC=522.866, Time=1.55 sec\n",
      " ARIMA(4,1,0)(0,1,1)[12]             : AIC=524.721, Time=0.21 sec\n",
      " ARIMA(5,1,1)(0,1,1)[12]             : AIC=521.974, Time=0.40 sec\n",
      " ARIMA(3,1,0)(0,1,1)[12]             : AIC=529.910, Time=0.17 sec\n",
      " ARIMA(5,1,0)(0,1,1)[12]             : AIC=524.411, Time=0.26 sec\n",
      " ARIMA(5,1,2)(0,1,1)[12]             : AIC=523.494, Time=1.04 sec\n",
      " ARIMA(4,1,1)(0,1,1)[12] intercept   : AIC=520.121, Time=0.94 sec\n",
      "\n",
      "Best model:  ARIMA(4,1,1)(0,1,1)[12]          \n",
      "Total fit time: 19.051 seconds\n"
     ]
    }
   ],
   "source": [
    "grid_arima = auto_arima(df[\"y\"], seasonal= True, m= 12, trace= True)"
   ]
  },
  {
   "cell_type": "code",
   "execution_count": 23,
   "id": "6dff34a0",
   "metadata": {},
   "outputs": [
    {
     "data": {
      "text/html": [
       "<table class=\"simpletable\">\n",
       "<caption>SARIMAX Results</caption>\n",
       "<tr>\n",
       "  <th>Dep. Variable:</th>                  <td>y</td>               <th>  No. Observations:  </th>    <td>204</td>  \n",
       "</tr>\n",
       "<tr>\n",
       "  <th>Model:</th>           <td>SARIMAX(4, 1, 1)x(0, 1, 1, 12)</td> <th>  Log Likelihood     </th> <td>-252.988</td>\n",
       "</tr>\n",
       "<tr>\n",
       "  <th>Date:</th>                   <td>Thu, 24 Nov 2022</td>        <th>  AIC                </th>  <td>519.977</td>\n",
       "</tr>\n",
       "<tr>\n",
       "  <th>Time:</th>                       <td>17:19:00</td>            <th>  BIC                </th>  <td>542.743</td>\n",
       "</tr>\n",
       "<tr>\n",
       "  <th>Sample:</th>                    <td>07-01-1991</td>           <th>  HQIC               </th>  <td>529.198</td>\n",
       "</tr>\n",
       "<tr>\n",
       "  <th></th>                          <td>- 06-01-2008</td>          <th>                     </th>     <td> </td>   \n",
       "</tr>\n",
       "<tr>\n",
       "  <th>Covariance Type:</th>               <td>opg</td>              <th>                     </th>     <td> </td>   \n",
       "</tr>\n",
       "</table>\n",
       "<table class=\"simpletable\">\n",
       "<tr>\n",
       "      <td></td>        <th>coef</th>     <th>std err</th>      <th>z</th>      <th>P>|z|</th>  <th>[0.025</th>    <th>0.975]</th>  \n",
       "</tr>\n",
       "<tr>\n",
       "  <th>ar.L1</th>    <td>   -0.2112</td> <td>    0.126</td> <td>   -1.683</td> <td> 0.092</td> <td>   -0.457</td> <td>    0.035</td>\n",
       "</tr>\n",
       "<tr>\n",
       "  <th>ar.L2</th>    <td>    0.1221</td> <td>    0.120</td> <td>    1.018</td> <td> 0.309</td> <td>   -0.113</td> <td>    0.357</td>\n",
       "</tr>\n",
       "<tr>\n",
       "  <th>ar.L3</th>    <td>    0.1174</td> <td>    0.090</td> <td>    1.311</td> <td> 0.190</td> <td>   -0.058</td> <td>    0.293</td>\n",
       "</tr>\n",
       "<tr>\n",
       "  <th>ar.L4</th>    <td>   -0.2340</td> <td>    0.077</td> <td>   -3.021</td> <td> 0.003</td> <td>   -0.386</td> <td>   -0.082</td>\n",
       "</tr>\n",
       "<tr>\n",
       "  <th>ma.L1</th>    <td>   -0.7149</td> <td>    0.113</td> <td>   -6.315</td> <td> 0.000</td> <td>   -0.937</td> <td>   -0.493</td>\n",
       "</tr>\n",
       "<tr>\n",
       "  <th>ma.S.L12</th> <td>   -0.4786</td> <td>    0.063</td> <td>   -7.613</td> <td> 0.000</td> <td>   -0.602</td> <td>   -0.355</td>\n",
       "</tr>\n",
       "<tr>\n",
       "  <th>sigma2</th>   <td>    0.8086</td> <td>    0.053</td> <td>   15.389</td> <td> 0.000</td> <td>    0.706</td> <td>    0.912</td>\n",
       "</tr>\n",
       "</table>\n",
       "<table class=\"simpletable\">\n",
       "<tr>\n",
       "  <th>Ljung-Box (L1) (Q):</th>     <td>0.03</td>  <th>  Jarque-Bera (JB):  </th> <td>176.72</td>\n",
       "</tr>\n",
       "<tr>\n",
       "  <th>Prob(Q):</th>                <td>0.85</td>  <th>  Prob(JB):          </th>  <td>0.00</td> \n",
       "</tr>\n",
       "<tr>\n",
       "  <th>Heteroskedasticity (H):</th> <td>15.18</td> <th>  Skew:              </th>  <td>-0.36</td>\n",
       "</tr>\n",
       "<tr>\n",
       "  <th>Prob(H) (two-sided):</th>    <td>0.00</td>  <th>  Kurtosis:          </th>  <td>7.66</td> \n",
       "</tr>\n",
       "</table><br/><br/>Warnings:<br/>[1] Covariance matrix calculated using the outer product of gradients (complex-step)."
      ],
      "text/plain": [
       "<class 'statsmodels.iolib.summary.Summary'>\n",
       "\"\"\"\n",
       "                                     SARIMAX Results                                      \n",
       "==========================================================================================\n",
       "Dep. Variable:                                  y   No. Observations:                  204\n",
       "Model:             SARIMAX(4, 1, 1)x(0, 1, 1, 12)   Log Likelihood                -252.988\n",
       "Date:                            Thu, 24 Nov 2022   AIC                            519.977\n",
       "Time:                                    17:19:00   BIC                            542.743\n",
       "Sample:                                07-01-1991   HQIC                           529.198\n",
       "                                     - 06-01-2008                                         \n",
       "Covariance Type:                              opg                                         \n",
       "==============================================================================\n",
       "                 coef    std err          z      P>|z|      [0.025      0.975]\n",
       "------------------------------------------------------------------------------\n",
       "ar.L1         -0.2112      0.126     -1.683      0.092      -0.457       0.035\n",
       "ar.L2          0.1221      0.120      1.018      0.309      -0.113       0.357\n",
       "ar.L3          0.1174      0.090      1.311      0.190      -0.058       0.293\n",
       "ar.L4         -0.2340      0.077     -3.021      0.003      -0.386      -0.082\n",
       "ma.L1         -0.7149      0.113     -6.315      0.000      -0.937      -0.493\n",
       "ma.S.L12      -0.4786      0.063     -7.613      0.000      -0.602      -0.355\n",
       "sigma2         0.8086      0.053     15.389      0.000       0.706       0.912\n",
       "===================================================================================\n",
       "Ljung-Box (L1) (Q):                   0.03   Jarque-Bera (JB):               176.72\n",
       "Prob(Q):                              0.85   Prob(JB):                         0.00\n",
       "Heteroskedasticity (H):              15.18   Skew:                            -0.36\n",
       "Prob(H) (two-sided):                  0.00   Kurtosis:                         7.66\n",
       "===================================================================================\n",
       "\n",
       "Warnings:\n",
       "[1] Covariance matrix calculated using the outer product of gradients (complex-step).\n",
       "\"\"\""
      ]
     },
     "execution_count": 23,
     "metadata": {},
     "output_type": "execute_result"
    }
   ],
   "source": [
    "grid_arima.summary()"
   ]
  },
  {
   "cell_type": "code",
   "execution_count": null,
   "id": "54144a7a",
   "metadata": {},
   "outputs": [],
   "source": []
  },
  {
   "cell_type": "code",
   "execution_count": 24,
   "id": "2b7b9365",
   "metadata": {},
   "outputs": [],
   "source": [
    "# So, (p,d,q) = (4,1,1) for ARIMA\n",
    "# (P,D,Q,m) = (0,1,1,12) for SARIMA"
   ]
  },
  {
   "cell_type": "markdown",
   "id": "69157797",
   "metadata": {},
   "source": [
    "### Train Test Split:"
   ]
  },
  {
   "cell_type": "code",
   "execution_count": 25,
   "id": "706eb364",
   "metadata": {},
   "outputs": [
    {
     "data": {
      "text/plain": [
       "204"
      ]
     },
     "execution_count": 25,
     "metadata": {},
     "output_type": "execute_result"
    }
   ],
   "source": [
    "len(df)"
   ]
  },
  {
   "cell_type": "code",
   "execution_count": 26,
   "id": "6cab6dfc",
   "metadata": {},
   "outputs": [],
   "source": [
    "train_data = df[:180]\n",
    "test_data = df[180:]"
   ]
  },
  {
   "cell_type": "code",
   "execution_count": 27,
   "id": "f375690a",
   "metadata": {},
   "outputs": [
    {
     "data": {
      "text/plain": [
       "(180, 3)"
      ]
     },
     "execution_count": 27,
     "metadata": {},
     "output_type": "execute_result"
    }
   ],
   "source": [
    "train_data.shape"
   ]
  },
  {
   "cell_type": "code",
   "execution_count": 28,
   "id": "d1c1d5ec",
   "metadata": {},
   "outputs": [
    {
     "data": {
      "text/plain": [
       "(24, 3)"
      ]
     },
     "execution_count": 28,
     "metadata": {},
     "output_type": "execute_result"
    }
   ],
   "source": [
    "test_data.shape"
   ]
  },
  {
   "cell_type": "code",
   "execution_count": null,
   "id": "f44c8f7b",
   "metadata": {},
   "outputs": [],
   "source": []
  },
  {
   "cell_type": "markdown",
   "id": "4b70374a",
   "metadata": {},
   "source": [
    "### 1) ARIMA(4,1,1) Model:"
   ]
  },
  {
   "cell_type": "code",
   "execution_count": 29,
   "id": "b1a835ce",
   "metadata": {},
   "outputs": [],
   "source": [
    "arima_model = ARIMA(train_data[\"y\"], order= (4,1,1))"
   ]
  },
  {
   "cell_type": "code",
   "execution_count": 30,
   "id": "a868ca69",
   "metadata": {},
   "outputs": [],
   "source": [
    "arima_result = arima_model.fit()"
   ]
  },
  {
   "cell_type": "code",
   "execution_count": 31,
   "id": "80ffb85b",
   "metadata": {},
   "outputs": [
    {
     "data": {
      "text/html": [
       "<table class=\"simpletable\">\n",
       "<caption>SARIMAX Results</caption>\n",
       "<tr>\n",
       "  <th>Dep. Variable:</th>           <td>y</td>        <th>  No. Observations:  </th>    <td>180</td>  \n",
       "</tr>\n",
       "<tr>\n",
       "  <th>Model:</th>            <td>ARIMA(4, 1, 1)</td>  <th>  Log Likelihood     </th> <td>-342.643</td>\n",
       "</tr>\n",
       "<tr>\n",
       "  <th>Date:</th>            <td>Thu, 24 Nov 2022</td> <th>  AIC                </th>  <td>697.286</td>\n",
       "</tr>\n",
       "<tr>\n",
       "  <th>Time:</th>                <td>17:20:25</td>     <th>  BIC                </th>  <td>716.410</td>\n",
       "</tr>\n",
       "<tr>\n",
       "  <th>Sample:</th>             <td>07-01-1991</td>    <th>  HQIC               </th>  <td>705.040</td>\n",
       "</tr>\n",
       "<tr>\n",
       "  <th></th>                   <td>- 06-01-2006</td>   <th>                     </th>     <td> </td>   \n",
       "</tr>\n",
       "<tr>\n",
       "  <th>Covariance Type:</th>        <td>opg</td>       <th>                     </th>     <td> </td>   \n",
       "</tr>\n",
       "</table>\n",
       "<table class=\"simpletable\">\n",
       "<tr>\n",
       "     <td></td>       <th>coef</th>     <th>std err</th>      <th>z</th>      <th>P>|z|</th>  <th>[0.025</th>    <th>0.975]</th>  \n",
       "</tr>\n",
       "<tr>\n",
       "  <th>ar.L1</th>  <td>    0.2510</td> <td>    0.210</td> <td>    1.196</td> <td> 0.232</td> <td>   -0.160</td> <td>    0.663</td>\n",
       "</tr>\n",
       "<tr>\n",
       "  <th>ar.L2</th>  <td>    0.0379</td> <td>    0.157</td> <td>    0.241</td> <td> 0.809</td> <td>   -0.270</td> <td>    0.345</td>\n",
       "</tr>\n",
       "<tr>\n",
       "  <th>ar.L3</th>  <td>   -0.1094</td> <td>    0.153</td> <td>   -0.713</td> <td> 0.476</td> <td>   -0.410</td> <td>    0.191</td>\n",
       "</tr>\n",
       "<tr>\n",
       "  <th>ar.L4</th>  <td>   -0.0339</td> <td>    0.158</td> <td>   -0.214</td> <td> 0.830</td> <td>   -0.344</td> <td>    0.276</td>\n",
       "</tr>\n",
       "<tr>\n",
       "  <th>ma.L1</th>  <td>   -0.8189</td> <td>    0.164</td> <td>   -4.980</td> <td> 0.000</td> <td>   -1.141</td> <td>   -0.497</td>\n",
       "</tr>\n",
       "<tr>\n",
       "  <th>sigma2</th> <td>    2.6794</td> <td>    0.211</td> <td>   12.715</td> <td> 0.000</td> <td>    2.266</td> <td>    3.092</td>\n",
       "</tr>\n",
       "</table>\n",
       "<table class=\"simpletable\">\n",
       "<tr>\n",
       "  <th>Ljung-Box (L1) (Q):</th>     <td>0.57</td> <th>  Jarque-Bera (JB):  </th> <td>188.78</td>\n",
       "</tr>\n",
       "<tr>\n",
       "  <th>Prob(Q):</th>                <td>0.45</td> <th>  Prob(JB):          </th>  <td>0.00</td> \n",
       "</tr>\n",
       "<tr>\n",
       "  <th>Heteroskedasticity (H):</th> <td>7.20</td> <th>  Skew:              </th>  <td>-0.99</td>\n",
       "</tr>\n",
       "<tr>\n",
       "  <th>Prob(H) (two-sided):</th>    <td>0.00</td> <th>  Kurtosis:          </th>  <td>7.62</td> \n",
       "</tr>\n",
       "</table><br/><br/>Warnings:<br/>[1] Covariance matrix calculated using the outer product of gradients (complex-step)."
      ],
      "text/plain": [
       "<class 'statsmodels.iolib.summary.Summary'>\n",
       "\"\"\"\n",
       "                               SARIMAX Results                                \n",
       "==============================================================================\n",
       "Dep. Variable:                      y   No. Observations:                  180\n",
       "Model:                 ARIMA(4, 1, 1)   Log Likelihood                -342.643\n",
       "Date:                Thu, 24 Nov 2022   AIC                            697.286\n",
       "Time:                        17:20:25   BIC                            716.410\n",
       "Sample:                    07-01-1991   HQIC                           705.040\n",
       "                         - 06-01-2006                                         \n",
       "Covariance Type:                  opg                                         \n",
       "==============================================================================\n",
       "                 coef    std err          z      P>|z|      [0.025      0.975]\n",
       "------------------------------------------------------------------------------\n",
       "ar.L1          0.2510      0.210      1.196      0.232      -0.160       0.663\n",
       "ar.L2          0.0379      0.157      0.241      0.809      -0.270       0.345\n",
       "ar.L3         -0.1094      0.153     -0.713      0.476      -0.410       0.191\n",
       "ar.L4         -0.0339      0.158     -0.214      0.830      -0.344       0.276\n",
       "ma.L1         -0.8189      0.164     -4.980      0.000      -1.141      -0.497\n",
       "sigma2         2.6794      0.211     12.715      0.000       2.266       3.092\n",
       "===================================================================================\n",
       "Ljung-Box (L1) (Q):                   0.57   Jarque-Bera (JB):               188.78\n",
       "Prob(Q):                              0.45   Prob(JB):                         0.00\n",
       "Heteroskedasticity (H):               7.20   Skew:                            -0.99\n",
       "Prob(H) (two-sided):                  0.00   Kurtosis:                         7.62\n",
       "===================================================================================\n",
       "\n",
       "Warnings:\n",
       "[1] Covariance matrix calculated using the outer product of gradients (complex-step).\n",
       "\"\"\""
      ]
     },
     "execution_count": 31,
     "metadata": {},
     "output_type": "execute_result"
    }
   ],
   "source": [
    "arima_result.summary()"
   ]
  },
  {
   "cell_type": "code",
   "execution_count": null,
   "id": "46d4ed06",
   "metadata": {},
   "outputs": [],
   "source": []
  },
  {
   "cell_type": "code",
   "execution_count": 32,
   "id": "00fa02ea",
   "metadata": {},
   "outputs": [],
   "source": [
    "# Predictions on Test Data:\n",
    "\n",
    "start = len(train_data)\n",
    "end = len(train_data) + len(test_data) -1\n",
    "\n",
    "arima_pred = arima_result.predict(start= start, end= end, typ= \"levels\")"
   ]
  },
  {
   "cell_type": "code",
   "execution_count": 33,
   "id": "0974cfce",
   "metadata": {},
   "outputs": [
    {
     "data": {
      "text/plain": [
       "2006-07-01    17.028135\n",
       "2006-08-01    16.810155\n",
       "2006-09-01    16.826006\n",
       "2006-10-01    16.791780\n",
       "2006-11-01    16.782637\n",
       "2006-12-01    16.784709\n",
       "2007-01-01    16.788089\n",
       "2007-02-01    16.791177\n",
       "2007-03-01    16.792164\n",
       "2007-04-01    16.792089\n",
       "2007-05-01    16.791655\n",
       "2007-06-01    16.791330\n",
       "2007-07-01    16.791207\n",
       "2007-08-01    16.791214\n",
       "2007-09-01    16.791261\n",
       "2007-10-01    16.791298\n",
       "2007-11-01    16.791312\n",
       "2007-12-01    16.791312\n",
       "2008-01-01    16.791307\n",
       "2008-02-01    16.791303\n",
       "2008-03-01    16.791301\n",
       "2008-04-01    16.791301\n",
       "2008-05-01    16.791302\n",
       "2008-06-01    16.791302\n",
       "Freq: MS, Name: predicted_mean, dtype: float64"
      ]
     },
     "execution_count": 33,
     "metadata": {},
     "output_type": "execute_result"
    }
   ],
   "source": [
    "arima_pred"
   ]
  },
  {
   "cell_type": "code",
   "execution_count": 96,
   "id": "224e38c9",
   "metadata": {},
   "outputs": [
    {
     "data": {
      "text/plain": [
       "Month\n",
       "1960-01-01    417\n",
       "1960-02-01    391\n",
       "1960-03-01    419\n",
       "1960-04-01    461\n",
       "1960-05-01    472\n",
       "1960-06-01    535\n",
       "1960-07-01    622\n",
       "1960-08-01    606\n",
       "1960-09-01    508\n",
       "1960-10-01    461\n",
       "1960-11-01    390\n",
       "1960-12-01    432\n",
       "Freq: MS, Name: Thousands of Passengers, dtype: int64"
      ]
     },
     "execution_count": 96,
     "metadata": {},
     "output_type": "execute_result"
    }
   ],
   "source": [
    "test_data[\"Thousands of Passengers\"]"
   ]
  },
  {
   "cell_type": "code",
   "execution_count": null,
   "id": "e4b71deb",
   "metadata": {},
   "outputs": [],
   "source": []
  },
  {
   "cell_type": "code",
   "execution_count": 34,
   "id": "6564de6c",
   "metadata": {},
   "outputs": [
    {
     "data": {
      "text/plain": [
       "<AxesSubplot:xlabel='ds'>"
      ]
     },
     "execution_count": 34,
     "metadata": {},
     "output_type": "execute_result"
    },
    {
     "data": {
      "image/png": "[encoded data removed]",
      "text/plain": [
       "<Figure size 864x432 with 1 Axes>"
      ]
     },
     "metadata": {
      "needs_background": "light"
     },
     "output_type": "display_data"
    }
   ],
   "source": [
    "# Plotting Test Data and Predictions:\n",
    "\n",
    "test_data[\"y\"].plot(figsize= (12,6), legend= True)\n",
    "arima_pred.plot(label= \"Predictions\", legend= True)"
   ]
  },
  {
   "cell_type": "code",
   "execution_count": null,
   "id": "1bb50612",
   "metadata": {},
   "outputs": [],
   "source": []
  },
  {
   "cell_type": "code",
   "execution_count": 35,
   "id": "9bfe7486",
   "metadata": {},
   "outputs": [
    {
     "data": {
      "text/plain": [
       "6.010728335229532"
      ]
     },
     "execution_count": 35,
     "metadata": {},
     "output_type": "execute_result"
    }
   ],
   "source": [
    "# Model Evaluation:\n",
    "\n",
    "np.sqrt(mean_squared_error(test_data[\"y\"], arima_pred))"
   ]
  },
  {
   "cell_type": "code",
   "execution_count": null,
   "id": "975a70f2",
   "metadata": {},
   "outputs": [],
   "source": []
  },
  {
   "cell_type": "code",
   "execution_count": 36,
   "id": "c1389483",
   "metadata": {},
   "outputs": [],
   "source": [
    "# Training Model and Full Data and Making Predictions for Future:\n",
    "\n",
    "final_arima = ARIMA(df[\"y\"], order= (4,1,1))"
   ]
  },
  {
   "cell_type": "code",
   "execution_count": 37,
   "id": "3b182f3c",
   "metadata": {},
   "outputs": [],
   "source": [
    "arima_result = final_arima.fit()"
   ]
  },
  {
   "cell_type": "code",
   "execution_count": 38,
   "id": "1171222a",
   "metadata": {},
   "outputs": [
    {
     "data": {
      "text/html": [
       "<table class=\"simpletable\">\n",
       "<caption>SARIMAX Results</caption>\n",
       "<tr>\n",
       "  <th>Dep. Variable:</th>           <td>y</td>        <th>  No. Observations:  </th>    <td>204</td>  \n",
       "</tr>\n",
       "<tr>\n",
       "  <th>Model:</th>            <td>ARIMA(4, 1, 1)</td>  <th>  Log Likelihood     </th> <td>-423.320</td>\n",
       "</tr>\n",
       "<tr>\n",
       "  <th>Date:</th>            <td>Thu, 24 Nov 2022</td> <th>  AIC                </th>  <td>858.640</td>\n",
       "</tr>\n",
       "<tr>\n",
       "  <th>Time:</th>                <td>17:21:05</td>     <th>  BIC                </th>  <td>878.519</td>\n",
       "</tr>\n",
       "<tr>\n",
       "  <th>Sample:</th>             <td>07-01-1991</td>    <th>  HQIC               </th>  <td>866.682</td>\n",
       "</tr>\n",
       "<tr>\n",
       "  <th></th>                   <td>- 06-01-2008</td>   <th>                     </th>     <td> </td>   \n",
       "</tr>\n",
       "<tr>\n",
       "  <th>Covariance Type:</th>        <td>opg</td>       <th>                     </th>     <td> </td>   \n",
       "</tr>\n",
       "</table>\n",
       "<table class=\"simpletable\">\n",
       "<tr>\n",
       "     <td></td>       <th>coef</th>     <th>std err</th>      <th>z</th>      <th>P>|z|</th>  <th>[0.025</th>    <th>0.975]</th>  \n",
       "</tr>\n",
       "<tr>\n",
       "  <th>ar.L1</th>  <td>    0.2607</td> <td>    0.111</td> <td>    2.347</td> <td> 0.019</td> <td>    0.043</td> <td>    0.478</td>\n",
       "</tr>\n",
       "<tr>\n",
       "  <th>ar.L2</th>  <td>    0.0711</td> <td>    0.106</td> <td>    0.670</td> <td> 0.503</td> <td>   -0.137</td> <td>    0.279</td>\n",
       "</tr>\n",
       "<tr>\n",
       "  <th>ar.L3</th>  <td>   -0.0886</td> <td>    0.081</td> <td>   -1.095</td> <td> 0.273</td> <td>   -0.247</td> <td>    0.070</td>\n",
       "</tr>\n",
       "<tr>\n",
       "  <th>ar.L4</th>  <td>   -0.0571</td> <td>    0.102</td> <td>   -0.561</td> <td> 0.575</td> <td>   -0.257</td> <td>    0.142</td>\n",
       "</tr>\n",
       "<tr>\n",
       "  <th>ma.L1</th>  <td>   -0.8071</td> <td>    0.098</td> <td>   -8.269</td> <td> 0.000</td> <td>   -0.998</td> <td>   -0.616</td>\n",
       "</tr>\n",
       "<tr>\n",
       "  <th>sigma2</th> <td>    3.7771</td> <td>    0.271</td> <td>   13.943</td> <td> 0.000</td> <td>    3.246</td> <td>    4.308</td>\n",
       "</tr>\n",
       "</table>\n",
       "<table class=\"simpletable\">\n",
       "<tr>\n",
       "  <th>Ljung-Box (L1) (Q):</th>     <td>0.49</td> <th>  Jarque-Bera (JB):  </th> <td>121.81</td>\n",
       "</tr>\n",
       "<tr>\n",
       "  <th>Prob(Q):</th>                <td>0.48</td> <th>  Prob(JB):          </th>  <td>0.00</td> \n",
       "</tr>\n",
       "<tr>\n",
       "  <th>Heteroskedasticity (H):</th> <td>9.58</td> <th>  Skew:              </th>  <td>-0.70</td>\n",
       "</tr>\n",
       "<tr>\n",
       "  <th>Prob(H) (two-sided):</th>    <td>0.00</td> <th>  Kurtosis:          </th>  <td>6.52</td> \n",
       "</tr>\n",
       "</table><br/><br/>Warnings:<br/>[1] Covariance matrix calculated using the outer product of gradients (complex-step)."
      ],
      "text/plain": [
       "<class 'statsmodels.iolib.summary.Summary'>\n",
       "\"\"\"\n",
       "                               SARIMAX Results                                \n",
       "==============================================================================\n",
       "Dep. Variable:                      y   No. Observations:                  204\n",
       "Model:                 ARIMA(4, 1, 1)   Log Likelihood                -423.320\n",
       "Date:                Thu, 24 Nov 2022   AIC                            858.640\n",
       "Time:                        17:21:05   BIC                            878.519\n",
       "Sample:                    07-01-1991   HQIC                           866.682\n",
       "                         - 06-01-2008                                         \n",
       "Covariance Type:                  opg                                         \n",
       "==============================================================================\n",
       "                 coef    std err          z      P>|z|      [0.025      0.975]\n",
       "------------------------------------------------------------------------------\n",
       "ar.L1          0.2607      0.111      2.347      0.019       0.043       0.478\n",
       "ar.L2          0.0711      0.106      0.670      0.503      -0.137       0.279\n",
       "ar.L3         -0.0886      0.081     -1.095      0.273      -0.247       0.070\n",
       "ar.L4         -0.0571      0.102     -0.561      0.575      -0.257       0.142\n",
       "ma.L1         -0.8071      0.098     -8.269      0.000      -0.998      -0.616\n",
       "sigma2         3.7771      0.271     13.943      0.000       3.246       4.308\n",
       "===================================================================================\n",
       "Ljung-Box (L1) (Q):                   0.49   Jarque-Bera (JB):               121.81\n",
       "Prob(Q):                              0.48   Prob(JB):                         0.00\n",
       "Heteroskedasticity (H):               9.58   Skew:                            -0.70\n",
       "Prob(H) (two-sided):                  0.00   Kurtosis:                         6.52\n",
       "===================================================================================\n",
       "\n",
       "Warnings:\n",
       "[1] Covariance matrix calculated using the outer product of gradients (complex-step).\n",
       "\"\"\""
      ]
     },
     "execution_count": 38,
     "metadata": {},
     "output_type": "execute_result"
    }
   ],
   "source": [
    "arima_result.summary()"
   ]
  },
  {
   "cell_type": "code",
   "execution_count": null,
   "id": "b48afa52",
   "metadata": {},
   "outputs": [],
   "source": []
  },
  {
   "cell_type": "code",
   "execution_count": 39,
   "id": "18ebd36d",
   "metadata": {},
   "outputs": [],
   "source": [
    "# Forecasting:\n",
    "\n",
    "forecast_arima = arima_result.predict(start= len(df), end= len(df)+23, typ= \"levels\")"
   ]
  },
  {
   "cell_type": "code",
   "execution_count": 40,
   "id": "a1c5c002",
   "metadata": {},
   "outputs": [
    {
     "data": {
      "text/plain": [
       "2008-07-01    21.591963\n",
       "2008-08-01    21.648360\n",
       "2008-09-01    22.135952\n",
       "2008-10-01    22.274584\n",
       "2008-11-01    22.216978\n",
       "2008-12-01    22.165414\n",
       "2009-01-01    22.107752\n",
       "2009-02-01    22.086240\n",
       "2009-03-01    22.084392\n",
       "2009-04-01    22.090433\n",
       "2009-05-01    22.097075\n",
       "2009-06-01    22.100628\n",
       "2009-07-01    22.101597\n",
       "2009-08-01    22.101169\n",
       "2009-09-01    22.100432\n",
       "2009-10-01    22.099921\n",
       "2009-11-01    22.099717\n",
       "2009-12-01    22.099718\n",
       "2010-01-01    22.099791\n",
       "2010-02-01    22.099857\n",
       "2010-03-01    22.099891\n",
       "2010-04-01    22.099898\n",
       "2010-05-01    22.099893\n",
       "2010-06-01    22.099885\n",
       "Freq: MS, Name: predicted_mean, dtype: float64"
      ]
     },
     "execution_count": 40,
     "metadata": {},
     "output_type": "execute_result"
    }
   ],
   "source": [
    "forecast_arima"
   ]
  },
  {
   "cell_type": "code",
   "execution_count": null,
   "id": "8bb0aea6",
   "metadata": {},
   "outputs": [],
   "source": []
  },
  {
   "cell_type": "code",
   "execution_count": 41,
   "id": "6dadff41",
   "metadata": {},
   "outputs": [
    {
     "data": {
      "text/plain": [
       "<AxesSubplot:xlabel='ds'>"
      ]
     },
     "execution_count": 41,
     "metadata": {},
     "output_type": "execute_result"
    },
    {
     "data": {
      "image/png": "[encoded data removed]",
      "text/plain": [
       "<Figure size 864x432 with 1 Axes>"
      ]
     },
     "metadata": {
      "needs_background": "light"
     },
     "output_type": "display_data"
    }
   ],
   "source": [
    "# Plotting Historic and Forecast Data:\n",
    "\n",
    "df[\"y\"].plot(figsize= (12,6), legend= True)\n",
    "forecast_arima.plot(label= \"Forecast\", legend= True)"
   ]
  },
  {
   "cell_type": "code",
   "execution_count": null,
   "id": "b8351ea7",
   "metadata": {},
   "outputs": [],
   "source": []
  },
  {
   "cell_type": "markdown",
   "id": "572fd00d",
   "metadata": {},
   "source": [
    "### 1) SARIMA(4,1,1)(0,1,1,12) Model:"
   ]
  },
  {
   "cell_type": "code",
   "execution_count": 42,
   "id": "a49241fa",
   "metadata": {},
   "outputs": [],
   "source": [
    "sarima_model = SARIMAX(train_data[\"y\"], order= (4,1,1), seasonal_order= (0,1,1,12))"
   ]
  },
  {
   "cell_type": "code",
   "execution_count": 43,
   "id": "fd709b92",
   "metadata": {},
   "outputs": [],
   "source": [
    "sarima_result = sarima_model.fit()"
   ]
  },
  {
   "cell_type": "code",
   "execution_count": 44,
   "id": "cdbb9caa",
   "metadata": {},
   "outputs": [
    {
     "data": {
      "text/html": [
       "<table class=\"simpletable\">\n",
       "<caption>SARIMAX Results</caption>\n",
       "<tr>\n",
       "  <th>Dep. Variable:</th>                  <td>y</td>               <th>  No. Observations:  </th>    <td>180</td>  \n",
       "</tr>\n",
       "<tr>\n",
       "  <th>Model:</th>           <td>SARIMAX(4, 1, 1)x(0, 1, 1, 12)</td> <th>  Log Likelihood     </th> <td>-155.478</td>\n",
       "</tr>\n",
       "<tr>\n",
       "  <th>Date:</th>                   <td>Thu, 24 Nov 2022</td>        <th>  AIC                </th>  <td>324.956</td>\n",
       "</tr>\n",
       "<tr>\n",
       "  <th>Time:</th>                       <td>17:22:04</td>            <th>  BIC                </th>  <td>346.782</td>\n",
       "</tr>\n",
       "<tr>\n",
       "  <th>Sample:</th>                    <td>07-01-1991</td>           <th>  HQIC               </th>  <td>333.815</td>\n",
       "</tr>\n",
       "<tr>\n",
       "  <th></th>                          <td>- 06-01-2006</td>          <th>                     </th>     <td> </td>   \n",
       "</tr>\n",
       "<tr>\n",
       "  <th>Covariance Type:</th>               <td>opg</td>              <th>                     </th>     <td> </td>   \n",
       "</tr>\n",
       "</table>\n",
       "<table class=\"simpletable\">\n",
       "<tr>\n",
       "      <td></td>        <th>coef</th>     <th>std err</th>      <th>z</th>      <th>P>|z|</th>  <th>[0.025</th>    <th>0.975]</th>  \n",
       "</tr>\n",
       "<tr>\n",
       "  <th>ar.L1</th>    <td>   -0.0223</td> <td>    0.090</td> <td>   -0.249</td> <td> 0.804</td> <td>   -0.199</td> <td>    0.154</td>\n",
       "</tr>\n",
       "<tr>\n",
       "  <th>ar.L2</th>    <td>    0.3070</td> <td>    0.090</td> <td>    3.397</td> <td> 0.001</td> <td>    0.130</td> <td>    0.484</td>\n",
       "</tr>\n",
       "<tr>\n",
       "  <th>ar.L3</th>    <td>    0.1187</td> <td>    0.082</td> <td>    1.447</td> <td> 0.148</td> <td>   -0.042</td> <td>    0.279</td>\n",
       "</tr>\n",
       "<tr>\n",
       "  <th>ar.L4</th>    <td>    0.0229</td> <td>    0.087</td> <td>    0.263</td> <td> 0.793</td> <td>   -0.148</td> <td>    0.194</td>\n",
       "</tr>\n",
       "<tr>\n",
       "  <th>ma.L1</th>    <td>   -0.9355</td> <td>    0.048</td> <td>  -19.514</td> <td> 0.000</td> <td>   -1.030</td> <td>   -0.842</td>\n",
       "</tr>\n",
       "<tr>\n",
       "  <th>ma.S.L12</th> <td>   -0.2246</td> <td>    0.072</td> <td>   -3.127</td> <td> 0.002</td> <td>   -0.365</td> <td>   -0.084</td>\n",
       "</tr>\n",
       "<tr>\n",
       "  <th>sigma2</th>   <td>    0.3718</td> <td>    0.038</td> <td>    9.902</td> <td> 0.000</td> <td>    0.298</td> <td>    0.445</td>\n",
       "</tr>\n",
       "</table>\n",
       "<table class=\"simpletable\">\n",
       "<tr>\n",
       "  <th>Ljung-Box (L1) (Q):</th>     <td>0.05</td> <th>  Jarque-Bera (JB):  </th> <td>8.27</td> \n",
       "</tr>\n",
       "<tr>\n",
       "  <th>Prob(Q):</th>                <td>0.82</td> <th>  Prob(JB):          </th> <td>0.02</td> \n",
       "</tr>\n",
       "<tr>\n",
       "  <th>Heteroskedasticity (H):</th> <td>4.72</td> <th>  Skew:              </th> <td>-0.31</td>\n",
       "</tr>\n",
       "<tr>\n",
       "  <th>Prob(H) (two-sided):</th>    <td>0.00</td> <th>  Kurtosis:          </th> <td>3.90</td> \n",
       "</tr>\n",
       "</table><br/><br/>Warnings:<br/>[1] Covariance matrix calculated using the outer product of gradients (complex-step)."
      ],
      "text/plain": [
       "<class 'statsmodels.iolib.summary.Summary'>\n",
       "\"\"\"\n",
       "                                     SARIMAX Results                                      \n",
       "==========================================================================================\n",
       "Dep. Variable:                                  y   No. Observations:                  180\n",
       "Model:             SARIMAX(4, 1, 1)x(0, 1, 1, 12)   Log Likelihood                -155.478\n",
       "Date:                            Thu, 24 Nov 2022   AIC                            324.956\n",
       "Time:                                    17:22:04   BIC                            346.782\n",
       "Sample:                                07-01-1991   HQIC                           333.815\n",
       "                                     - 06-01-2006                                         \n",
       "Covariance Type:                              opg                                         \n",
       "==============================================================================\n",
       "                 coef    std err          z      P>|z|      [0.025      0.975]\n",
       "------------------------------------------------------------------------------\n",
       "ar.L1         -0.0223      0.090     -0.249      0.804      -0.199       0.154\n",
       "ar.L2          0.3070      0.090      3.397      0.001       0.130       0.484\n",
       "ar.L3          0.1187      0.082      1.447      0.148      -0.042       0.279\n",
       "ar.L4          0.0229      0.087      0.263      0.793      -0.148       0.194\n",
       "ma.L1         -0.9355      0.048    -19.514      0.000      -1.030      -0.842\n",
       "ma.S.L12      -0.2246      0.072     -3.127      0.002      -0.365      -0.084\n",
       "sigma2         0.3718      0.038      9.902      0.000       0.298       0.445\n",
       "===================================================================================\n",
       "Ljung-Box (L1) (Q):                   0.05   Jarque-Bera (JB):                 8.27\n",
       "Prob(Q):                              0.82   Prob(JB):                         0.02\n",
       "Heteroskedasticity (H):               4.72   Skew:                            -0.31\n",
       "Prob(H) (two-sided):                  0.00   Kurtosis:                         3.90\n",
       "===================================================================================\n",
       "\n",
       "Warnings:\n",
       "[1] Covariance matrix calculated using the outer product of gradients (complex-step).\n",
       "\"\"\""
      ]
     },
     "execution_count": 44,
     "metadata": {},
     "output_type": "execute_result"
    }
   ],
   "source": [
    "sarima_result.summary()"
   ]
  },
  {
   "cell_type": "code",
   "execution_count": null,
   "id": "c6523818",
   "metadata": {},
   "outputs": [],
   "source": []
  },
  {
   "cell_type": "code",
   "execution_count": 45,
   "id": "1d99f66c",
   "metadata": {},
   "outputs": [],
   "source": [
    "# Predictions on Test Data:\n",
    "\n",
    "start = len(train_data)\n",
    "end = len(train_data) + len(test_data) -1\n",
    "\n",
    "sarima_pred = sarima_result.predict(start= start, end= end, typ= \"levels\")"
   ]
  },
  {
   "cell_type": "code",
   "execution_count": 46,
   "id": "a7568dfe",
   "metadata": {},
   "outputs": [
    {
     "data": {
      "text/plain": [
       "2006-07-01    17.734359\n",
       "2006-08-01    18.672058\n",
       "2006-09-01    19.406632\n",
       "2006-10-01    19.056435\n",
       "2006-11-01    20.639147\n",
       "2006-12-01    21.504622\n",
       "2007-01-01    24.603230\n",
       "2007-02-01    14.294180\n",
       "2007-03-01    16.838344\n",
       "2007-04-01    16.061842\n",
       "2007-05-01    18.934102\n",
       "2007-06-01    17.932605\n",
       "2007-07-01    19.137865\n",
       "2007-08-01    20.161387\n",
       "2007-09-01    20.863768\n",
       "2007-10-01    20.523672\n",
       "2007-11-01    22.101021\n",
       "2007-12-01    22.967862\n",
       "2008-01-01    26.065255\n",
       "2008-02-01    15.756246\n",
       "2008-03-01    18.300075\n",
       "2008-04-01    17.523480\n",
       "2008-05-01    20.395617\n",
       "2008-06-01    19.394055\n",
       "Freq: MS, Name: predicted_mean, dtype: float64"
      ]
     },
     "execution_count": 46,
     "metadata": {},
     "output_type": "execute_result"
    }
   ],
   "source": [
    "sarima_pred"
   ]
  },
  {
   "cell_type": "code",
   "execution_count": 47,
   "id": "3c396225",
   "metadata": {},
   "outputs": [
    {
     "data": {
      "text/plain": [
       "<AxesSubplot:xlabel='ds'>"
      ]
     },
     "execution_count": 47,
     "metadata": {},
     "output_type": "execute_result"
    },
    {
     "data": {
      "image/png": "[encoded data removed]",
      "text/plain": [
       "<Figure size 864x432 with 1 Axes>"
      ]
     },
     "metadata": {
      "needs_background": "light"
     },
     "output_type": "display_data"
    }
   ],
   "source": [
    "# Plotting Test Data and Predictions:\n",
    "\n",
    "test_data[\"y\"].plot(figsize= (12,6), legend= True)\n",
    "sarima_pred.plot(label= \"Predictions\", legend= True)"
   ]
  },
  {
   "cell_type": "code",
   "execution_count": null,
   "id": "793902c9",
   "metadata": {},
   "outputs": [],
   "source": []
  },
  {
   "cell_type": "code",
   "execution_count": 48,
   "id": "00cb99f9",
   "metadata": {},
   "outputs": [
    {
     "data": {
      "text/plain": [
       "2.8939915170007615"
      ]
     },
     "execution_count": 48,
     "metadata": {},
     "output_type": "execute_result"
    }
   ],
   "source": [
    "# Model Evaluation:\n",
    "\n",
    "np.sqrt(mean_squared_error(test_data[\"y\"], sarima_pred))"
   ]
  },
  {
   "cell_type": "code",
   "execution_count": null,
   "id": "a362dd6d",
   "metadata": {},
   "outputs": [],
   "source": []
  },
  {
   "cell_type": "code",
   "execution_count": 49,
   "id": "971ed1bf",
   "metadata": {},
   "outputs": [],
   "source": [
    "# Training Model and Full Data and Making Predictions for Future:\n",
    "\n",
    "final_sarima = SARIMAX(df[\"y\"], order= (4,1,1), seasonal_order= (0,1,1,12))"
   ]
  },
  {
   "cell_type": "code",
   "execution_count": 50,
   "id": "6ea92b7c",
   "metadata": {},
   "outputs": [],
   "source": [
    "sarima_result = final_sarima.fit()"
   ]
  },
  {
   "cell_type": "code",
   "execution_count": 51,
   "id": "5ff0f0a1",
   "metadata": {},
   "outputs": [
    {
     "data": {
      "text/html": [
       "<table class=\"simpletable\">\n",
       "<caption>SARIMAX Results</caption>\n",
       "<tr>\n",
       "  <th>Dep. Variable:</th>                  <td>y</td>               <th>  No. Observations:  </th>    <td>204</td>  \n",
       "</tr>\n",
       "<tr>\n",
       "  <th>Model:</th>           <td>SARIMAX(4, 1, 1)x(0, 1, 1, 12)</td> <th>  Log Likelihood     </th> <td>-252.988</td>\n",
       "</tr>\n",
       "<tr>\n",
       "  <th>Date:</th>                   <td>Thu, 24 Nov 2022</td>        <th>  AIC                </th>  <td>519.977</td>\n",
       "</tr>\n",
       "<tr>\n",
       "  <th>Time:</th>                       <td>17:22:59</td>            <th>  BIC                </th>  <td>542.743</td>\n",
       "</tr>\n",
       "<tr>\n",
       "  <th>Sample:</th>                    <td>07-01-1991</td>           <th>  HQIC               </th>  <td>529.198</td>\n",
       "</tr>\n",
       "<tr>\n",
       "  <th></th>                          <td>- 06-01-2008</td>          <th>                     </th>     <td> </td>   \n",
       "</tr>\n",
       "<tr>\n",
       "  <th>Covariance Type:</th>               <td>opg</td>              <th>                     </th>     <td> </td>   \n",
       "</tr>\n",
       "</table>\n",
       "<table class=\"simpletable\">\n",
       "<tr>\n",
       "      <td></td>        <th>coef</th>     <th>std err</th>      <th>z</th>      <th>P>|z|</th>  <th>[0.025</th>    <th>0.975]</th>  \n",
       "</tr>\n",
       "<tr>\n",
       "  <th>ar.L1</th>    <td>   -0.2112</td> <td>    0.126</td> <td>   -1.683</td> <td> 0.092</td> <td>   -0.457</td> <td>    0.035</td>\n",
       "</tr>\n",
       "<tr>\n",
       "  <th>ar.L2</th>    <td>    0.1221</td> <td>    0.120</td> <td>    1.018</td> <td> 0.309</td> <td>   -0.113</td> <td>    0.357</td>\n",
       "</tr>\n",
       "<tr>\n",
       "  <th>ar.L3</th>    <td>    0.1174</td> <td>    0.090</td> <td>    1.311</td> <td> 0.190</td> <td>   -0.058</td> <td>    0.293</td>\n",
       "</tr>\n",
       "<tr>\n",
       "  <th>ar.L4</th>    <td>   -0.2340</td> <td>    0.077</td> <td>   -3.021</td> <td> 0.003</td> <td>   -0.386</td> <td>   -0.082</td>\n",
       "</tr>\n",
       "<tr>\n",
       "  <th>ma.L1</th>    <td>   -0.7149</td> <td>    0.113</td> <td>   -6.315</td> <td> 0.000</td> <td>   -0.937</td> <td>   -0.493</td>\n",
       "</tr>\n",
       "<tr>\n",
       "  <th>ma.S.L12</th> <td>   -0.4786</td> <td>    0.063</td> <td>   -7.613</td> <td> 0.000</td> <td>   -0.602</td> <td>   -0.355</td>\n",
       "</tr>\n",
       "<tr>\n",
       "  <th>sigma2</th>   <td>    0.8086</td> <td>    0.053</td> <td>   15.389</td> <td> 0.000</td> <td>    0.706</td> <td>    0.912</td>\n",
       "</tr>\n",
       "</table>\n",
       "<table class=\"simpletable\">\n",
       "<tr>\n",
       "  <th>Ljung-Box (L1) (Q):</th>     <td>0.03</td>  <th>  Jarque-Bera (JB):  </th> <td>176.72</td>\n",
       "</tr>\n",
       "<tr>\n",
       "  <th>Prob(Q):</th>                <td>0.85</td>  <th>  Prob(JB):          </th>  <td>0.00</td> \n",
       "</tr>\n",
       "<tr>\n",
       "  <th>Heteroskedasticity (H):</th> <td>15.18</td> <th>  Skew:              </th>  <td>-0.36</td>\n",
       "</tr>\n",
       "<tr>\n",
       "  <th>Prob(H) (two-sided):</th>    <td>0.00</td>  <th>  Kurtosis:          </th>  <td>7.66</td> \n",
       "</tr>\n",
       "</table><br/><br/>Warnings:<br/>[1] Covariance matrix calculated using the outer product of gradients (complex-step)."
      ],
      "text/plain": [
       "<class 'statsmodels.iolib.summary.Summary'>\n",
       "\"\"\"\n",
       "                                     SARIMAX Results                                      \n",
       "==========================================================================================\n",
       "Dep. Variable:                                  y   No. Observations:                  204\n",
       "Model:             SARIMAX(4, 1, 1)x(0, 1, 1, 12)   Log Likelihood                -252.988\n",
       "Date:                            Thu, 24 Nov 2022   AIC                            519.977\n",
       "Time:                                    17:22:59   BIC                            542.743\n",
       "Sample:                                07-01-1991   HQIC                           529.198\n",
       "                                     - 06-01-2008                                         \n",
       "Covariance Type:                              opg                                         \n",
       "==============================================================================\n",
       "                 coef    std err          z      P>|z|      [0.025      0.975]\n",
       "------------------------------------------------------------------------------\n",
       "ar.L1         -0.2112      0.126     -1.683      0.092      -0.457       0.035\n",
       "ar.L2          0.1221      0.120      1.018      0.309      -0.113       0.357\n",
       "ar.L3          0.1174      0.090      1.311      0.190      -0.058       0.293\n",
       "ar.L4         -0.2340      0.077     -3.021      0.003      -0.386      -0.082\n",
       "ma.L1         -0.7149      0.113     -6.315      0.000      -0.937      -0.493\n",
       "ma.S.L12      -0.4786      0.063     -7.613      0.000      -0.602      -0.355\n",
       "sigma2         0.8086      0.053     15.389      0.000       0.706       0.912\n",
       "===================================================================================\n",
       "Ljung-Box (L1) (Q):                   0.03   Jarque-Bera (JB):               176.72\n",
       "Prob(Q):                              0.85   Prob(JB):                         0.00\n",
       "Heteroskedasticity (H):              15.18   Skew:                            -0.36\n",
       "Prob(H) (two-sided):                  0.00   Kurtosis:                         7.66\n",
       "===================================================================================\n",
       "\n",
       "Warnings:\n",
       "[1] Covariance matrix calculated using the outer product of gradients (complex-step).\n",
       "\"\"\""
      ]
     },
     "execution_count": 51,
     "metadata": {},
     "output_type": "execute_result"
    }
   ],
   "source": [
    "sarima_result.summary()"
   ]
  },
  {
   "cell_type": "code",
   "execution_count": null,
   "id": "4988a3f6",
   "metadata": {},
   "outputs": [],
   "source": []
  },
  {
   "cell_type": "code",
   "execution_count": 52,
   "id": "a60daee3",
   "metadata": {},
   "outputs": [],
   "source": [
    "# Forecasting:\n",
    "\n",
    "forecast_sarima = sarima_result.predict(start= len(df), end= len(df)+11, typ= \"levels\")"
   ]
  },
  {
   "cell_type": "code",
   "execution_count": 53,
   "id": "59352727",
   "metadata": {},
   "outputs": [
    {
     "data": {
      "text/plain": [
       "2008-07-01    25.178308\n",
       "2008-08-01    23.462209\n",
       "2008-09-01    24.380651\n",
       "2008-10-01    26.256824\n",
       "2008-11-01    26.669773\n",
       "2008-12-01    28.520022\n",
       "2009-01-01    31.493809\n",
       "2009-02-01    22.432402\n",
       "2009-03-01    22.275408\n",
       "2009-04-01    23.383562\n",
       "2009-05-01    25.282773\n",
       "2009-06-01    23.144847\n",
       "Freq: MS, Name: predicted_mean, dtype: float64"
      ]
     },
     "execution_count": 53,
     "metadata": {},
     "output_type": "execute_result"
    }
   ],
   "source": [
    "forecast_sarima"
   ]
  },
  {
   "cell_type": "code",
   "execution_count": 55,
   "id": "b151a578",
   "metadata": {},
   "outputs": [
    {
     "data": {
      "text/plain": [
       "<AxesSubplot:xlabel='ds'>"
      ]
     },
     "execution_count": 55,
     "metadata": {},
     "output_type": "execute_result"
    },
    {
     "data": {
      "image/png": "[encoded data removed]",
      "text/plain": [
       "<Figure size 864x432 with 1 Axes>"
      ]
     },
     "metadata": {
      "needs_background": "light"
     },
     "output_type": "display_data"
    }
   ],
   "source": [
    "# Plotting Historic and Forecast Data:\n",
    "\n",
    "df[\"y\"].plot(figsize= (12,6), legend= True)\n",
    "forecast_sarima.plot(label= \"Forecast\", legend= True)"
   ]
  },
  {
   "cell_type": "code",
   "execution_count": null,
   "id": "5432e157",
   "metadata": {},
   "outputs": [],
   "source": []
  },
  {
   "cell_type": "markdown",
   "id": "63868be9",
   "metadata": {},
   "source": [
    "### Comparing Predictions and Forecast of ARIMA and SARIMA:"
   ]
  },
  {
   "cell_type": "code",
   "execution_count": 56,
   "id": "05775a2a",
   "metadata": {},
   "outputs": [
    {
     "data": {
      "text/plain": [
       "<AxesSubplot:xlabel='ds'>"
      ]
     },
     "execution_count": 56,
     "metadata": {},
     "output_type": "execute_result"
    },
    {
     "data": {
      "image/png": "[encoded data removed]",
      "text/plain": [
       "<Figure size 1080x576 with 1 Axes>"
      ]
     },
     "metadata": {
      "needs_background": "light"
     },
     "output_type": "display_data"
    }
   ],
   "source": [
    "df[\"y\"].plot(figsize= (15,8), legend= True)\n",
    "\n",
    "arima_pred.plot(label= \"Arima Predictions\", legend= True)\n",
    "forecast_arima.plot(label= \"Arima Forecast\", legend= True)\n",
    "\n",
    "sarima_pred.plot(label= \"Sarima Predictions\", legend= True)\n",
    "forecast_sarima.plot(label= \"Sarima Forecast\", legend= True)"
   ]
  }
 ],
 "metadata": {
  "kernelspec": {
   "display_name": "Python 3 (ipykernel)",
   "language": "python",
   "name": "python3"
  },
  "language_info": {
   "codemirror_mode": {
    "name": "ipython",
    "version": 3
   },
   "file_extension": ".py",
   "mimetype": "text/x-python",
   "name": "python",
   "nbconvert_exporter": "python",
   "pygments_lexer": "ipython3",
   "version": "3.8.12"
  }
 },
 "nbformat": 4,
 "nbformat_minor": 5
}
