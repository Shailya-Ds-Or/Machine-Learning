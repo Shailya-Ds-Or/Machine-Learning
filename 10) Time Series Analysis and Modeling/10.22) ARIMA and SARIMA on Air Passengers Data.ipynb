{
 "cells": [
  {
   "cell_type": "markdown",
   "id": "559ace70",
   "metadata": {},
   "source": [
    "# ARIMA and SARIMA on Air Passengers Data"
   ]
  },
  {
   "cell_type": "markdown",
   "id": "751c00cd",
   "metadata": {},
   "source": [
    "### Function to Check Stationarity Using Augmented Dickey-Fuller Test:"
   ]
  },
  {
   "cell_type": "code",
   "execution_count": 64,
   "id": "51d6296a",
   "metadata": {},
   "outputs": [],
   "source": [
    "from statsmodels.tsa.stattools import adfuller\n",
    "\n",
    "def dickey_fuller_result(series):\n",
    "    \"\"\"\n",
    "    Function To Perform Augmenter Dickey-Fuller Test and Display Results.\n",
    "    \"\"\"\n",
    "    \n",
    "    result= adfuller(series.dropna())\n",
    "    \n",
    "    labels = [\"Test Statistics\", \"p-Value\", \"No. of Lags\", \"No. of Observations\"]\n",
    "    \n",
    "    output = pd.Series(result[0:4], index= labels)\n",
    "    \n",
    "    for key,value in result[4].items():\n",
    "        output[f\"Critical Value {key}\"] = value\n",
    "        \n",
    "    print(output)\n",
    "    \n",
    "    print(\"\\n\")\n",
    "    \n",
    "    if result[1] <= 0.05:\n",
    "        print(\"Strong evidence against the null hypothesis\")\n",
    "        print(\"Reject the null hypothesis\")\n",
    "        print(\"Data has no unit root and is stationary\")\n",
    "    else:\n",
    "        print(\"Weak evidence against the null hypothesis\")\n",
    "        print(\"Fail to reject the null hypothesis\")\n",
    "        print(\"Data has a unit root and is non-stationary\")"
   ]
  },
  {
   "cell_type": "code",
   "execution_count": null,
   "id": "18ce4ea4",
   "metadata": {},
   "outputs": [],
   "source": []
  },
  {
   "cell_type": "code",
   "execution_count": 65,
   "id": "27b598f7",
   "metadata": {},
   "outputs": [],
   "source": [
    "import numpy as np\n",
    "import pandas as pd\n",
    "\n",
    "from pmdarima import auto_arima\n",
    "\n",
    "from statsmodels.tsa.seasonal import seasonal_decompose\n",
    "from statsmodels.tsa.arima.model import ARIMA\n",
    "from statsmodels.tsa.statespace.sarimax import SARIMAX\n",
    "from statsmodels.graphics.tsaplots import plot_acf, plot_pacf\n",
    "from statsmodels.tsa.statespace.tools import diff\n",
    "\n",
    "from sklearn.metrics import mean_squared_error"
   ]
  },
  {
   "cell_type": "code",
   "execution_count": null,
   "id": "e97b0931",
   "metadata": {},
   "outputs": [],
   "source": []
  },
  {
   "cell_type": "code",
   "execution_count": 66,
   "id": "c995cf65",
   "metadata": {},
   "outputs": [],
   "source": [
    "df= pd.read_csv(\"airline_passengers.csv\", index_col= 0, parse_dates= True)"
   ]
  },
  {
   "cell_type": "code",
   "execution_count": 67,
   "id": "f88d7a49",
   "metadata": {},
   "outputs": [
    {
     "data": {
      "text/html": [
       "<div>\n",
       "<style scoped>\n",
       "    .dataframe tbody tr th:only-of-type {\n",
       "        vertical-align: middle;\n",
       "    }\n",
       "\n",
       "    .dataframe tbody tr th {\n",
       "        vertical-align: top;\n",
       "    }\n",
       "\n",
       "    .dataframe thead th {\n",
       "        text-align: right;\n",
       "    }\n",
       "</style>\n",
       "<table border=\"1\" class=\"dataframe\">\n",
       "  <thead>\n",
       "    <tr style=\"text-align: right;\">\n",
       "      <th></th>\n",
       "      <th>Thousands of Passengers</th>\n",
       "    </tr>\n",
       "    <tr>\n",
       "      <th>Month</th>\n",
       "      <th></th>\n",
       "    </tr>\n",
       "  </thead>\n",
       "  <tbody>\n",
       "    <tr>\n",
       "      <th>1949-01-01</th>\n",
       "      <td>112</td>\n",
       "    </tr>\n",
       "    <tr>\n",
       "      <th>1949-02-01</th>\n",
       "      <td>118</td>\n",
       "    </tr>\n",
       "    <tr>\n",
       "      <th>1949-03-01</th>\n",
       "      <td>132</td>\n",
       "    </tr>\n",
       "    <tr>\n",
       "      <th>1949-04-01</th>\n",
       "      <td>129</td>\n",
       "    </tr>\n",
       "    <tr>\n",
       "      <th>1949-05-01</th>\n",
       "      <td>121</td>\n",
       "    </tr>\n",
       "  </tbody>\n",
       "</table>\n",
       "</div>"
      ],
      "text/plain": [
       "            Thousands of Passengers\n",
       "Month                              \n",
       "1949-01-01                      112\n",
       "1949-02-01                      118\n",
       "1949-03-01                      132\n",
       "1949-04-01                      129\n",
       "1949-05-01                      121"
      ]
     },
     "execution_count": 67,
     "metadata": {},
     "output_type": "execute_result"
    }
   ],
   "source": [
    "df.head()"
   ]
  },
  {
   "cell_type": "code",
   "execution_count": 68,
   "id": "4c70dd5f",
   "metadata": {},
   "outputs": [
    {
     "data": {
      "text/plain": [
       "DatetimeIndex(['1949-01-01', '1949-02-01', '1949-03-01', '1949-04-01',\n",
       "               '1949-05-01', '1949-06-01', '1949-07-01', '1949-08-01',\n",
       "               '1949-09-01', '1949-10-01',\n",
       "               ...\n",
       "               '1960-03-01', '1960-04-01', '1960-05-01', '1960-06-01',\n",
       "               '1960-07-01', '1960-08-01', '1960-09-01', '1960-10-01',\n",
       "               '1960-11-01', '1960-12-01'],\n",
       "              dtype='datetime64[ns]', name='Month', length=144, freq=None)"
      ]
     },
     "execution_count": 68,
     "metadata": {},
     "output_type": "execute_result"
    }
   ],
   "source": [
    "df.index"
   ]
  },
  {
   "cell_type": "code",
   "execution_count": 69,
   "id": "88c86c80",
   "metadata": {},
   "outputs": [],
   "source": [
    "df.index.freq = \"MS\""
   ]
  },
  {
   "cell_type": "code",
   "execution_count": 70,
   "id": "dd476895",
   "metadata": {},
   "outputs": [
    {
     "data": {
      "text/plain": [
       "DatetimeIndex(['1949-01-01', '1949-02-01', '1949-03-01', '1949-04-01',\n",
       "               '1949-05-01', '1949-06-01', '1949-07-01', '1949-08-01',\n",
       "               '1949-09-01', '1949-10-01',\n",
       "               ...\n",
       "               '1960-03-01', '1960-04-01', '1960-05-01', '1960-06-01',\n",
       "               '1960-07-01', '1960-08-01', '1960-09-01', '1960-10-01',\n",
       "               '1960-11-01', '1960-12-01'],\n",
       "              dtype='datetime64[ns]', name='Month', length=144, freq='MS')"
      ]
     },
     "execution_count": 70,
     "metadata": {},
     "output_type": "execute_result"
    }
   ],
   "source": [
    "df.index"
   ]
  },
  {
   "cell_type": "code",
   "execution_count": null,
   "id": "a46521dd",
   "metadata": {},
   "outputs": [],
   "source": []
  },
  {
   "cell_type": "code",
   "execution_count": 71,
   "id": "6acdd75f",
   "metadata": {},
   "outputs": [
    {
     "data": {
      "text/plain": [
       "<AxesSubplot:xlabel='Month'>"
      ]
     },
     "execution_count": 71,
     "metadata": {},
     "output_type": "execute_result"
    },
    {
     "data": {
      "image/png": "[encoded data removed]",
      "text/plain": [
       "<Figure size 864x432 with 1 Axes>"
      ]
     },
     "metadata": {
      "needs_background": "light"
     },
     "output_type": "display_data"
    }
   ],
   "source": [
    "# Plotting Data:\n",
    "\n",
    "df.plot(figsize= (12,6))"
   ]
  },
  {
   "cell_type": "code",
   "execution_count": null,
   "id": "1e591310",
   "metadata": {},
   "outputs": [],
   "source": []
  },
  {
   "cell_type": "markdown",
   "id": "5e7a89a7",
   "metadata": {},
   "source": [
    "### ETS Decomposition:"
   ]
  },
  {
   "cell_type": "code",
   "execution_count": 72,
   "id": "fe9ea457",
   "metadata": {},
   "outputs": [],
   "source": [
    "decomp = seasonal_decompose(df[\"Thousands of Passengers\"], model= \"additive\")"
   ]
  },
  {
   "cell_type": "code",
   "execution_count": 73,
   "id": "4fac3e7e",
   "metadata": {},
   "outputs": [
    {
     "data": {
      "image/png": "[encoded data removed]",
      "text/plain": [
       "<Figure size 432x288 with 4 Axes>"
      ]
     },
     "metadata": {
      "needs_background": "light"
     },
     "output_type": "display_data"
    }
   ],
   "source": [
    "decomp.plot();"
   ]
  },
  {
   "cell_type": "code",
   "execution_count": null,
   "id": "b2fcb044",
   "metadata": {},
   "outputs": [],
   "source": []
  },
  {
   "cell_type": "markdown",
   "id": "81a08c1a",
   "metadata": {},
   "source": [
    "### Stationarity Check:"
   ]
  },
  {
   "cell_type": "code",
   "execution_count": 74,
   "id": "45c4b6d2",
   "metadata": {},
   "outputs": [
    {
     "name": "stdout",
     "output_type": "stream",
     "text": [
      "Test Statistics          0.815369\n",
      "p-Value                  0.991880\n",
      "No. of Lags             13.000000\n",
      "No. of Observations    130.000000\n",
      "Critical Value 1%       -3.481682\n",
      "Critical Value 5%       -2.884042\n",
      "Critical Value 10%      -2.578770\n",
      "dtype: float64\n",
      "\n",
      "\n",
      "Weak evidence against the null hypothesis\n",
      "Fail to reject the null hypothesis\n",
      "Data has a unit root and is non-stationary\n"
     ]
    }
   ],
   "source": [
    "dickey_fuller_result(df[\"Thousands of Passengers\"])"
   ]
  },
  {
   "cell_type": "code",
   "execution_count": 75,
   "id": "e0fd2bec",
   "metadata": {},
   "outputs": [],
   "source": [
    "# Series is Non-Stationary.\n",
    "\n",
    "# We have to apply Differencing."
   ]
  },
  {
   "cell_type": "code",
   "execution_count": null,
   "id": "08f1bc89",
   "metadata": {},
   "outputs": [],
   "source": []
  },
  {
   "cell_type": "code",
   "execution_count": 76,
   "id": "be3acaa0",
   "metadata": {},
   "outputs": [],
   "source": [
    "df[\"diff_1\"] = diff(df[\"Thousands of Passengers\"], k_diff= 1)"
   ]
  },
  {
   "cell_type": "code",
   "execution_count": 77,
   "id": "7b9a614a",
   "metadata": {},
   "outputs": [
    {
     "data": {
      "text/html": [
       "<div>\n",
       "<style scoped>\n",
       "    .dataframe tbody tr th:only-of-type {\n",
       "        vertical-align: middle;\n",
       "    }\n",
       "\n",
       "    .dataframe tbody tr th {\n",
       "        vertical-align: top;\n",
       "    }\n",
       "\n",
       "    .dataframe thead th {\n",
       "        text-align: right;\n",
       "    }\n",
       "</style>\n",
       "<table border=\"1\" class=\"dataframe\">\n",
       "  <thead>\n",
       "    <tr style=\"text-align: right;\">\n",
       "      <th></th>\n",
       "      <th>Thousands of Passengers</th>\n",
       "      <th>diff_1</th>\n",
       "    </tr>\n",
       "    <tr>\n",
       "      <th>Month</th>\n",
       "      <th></th>\n",
       "      <th></th>\n",
       "    </tr>\n",
       "  </thead>\n",
       "  <tbody>\n",
       "    <tr>\n",
       "      <th>1949-01-01</th>\n",
       "      <td>112</td>\n",
       "      <td>NaN</td>\n",
       "    </tr>\n",
       "    <tr>\n",
       "      <th>1949-02-01</th>\n",
       "      <td>118</td>\n",
       "      <td>6.0</td>\n",
       "    </tr>\n",
       "    <tr>\n",
       "      <th>1949-03-01</th>\n",
       "      <td>132</td>\n",
       "      <td>14.0</td>\n",
       "    </tr>\n",
       "    <tr>\n",
       "      <th>1949-04-01</th>\n",
       "      <td>129</td>\n",
       "      <td>-3.0</td>\n",
       "    </tr>\n",
       "    <tr>\n",
       "      <th>1949-05-01</th>\n",
       "      <td>121</td>\n",
       "      <td>-8.0</td>\n",
       "    </tr>\n",
       "  </tbody>\n",
       "</table>\n",
       "</div>"
      ],
      "text/plain": [
       "            Thousands of Passengers  diff_1\n",
       "Month                                      \n",
       "1949-01-01                      112     NaN\n",
       "1949-02-01                      118     6.0\n",
       "1949-03-01                      132    14.0\n",
       "1949-04-01                      129    -3.0\n",
       "1949-05-01                      121    -8.0"
      ]
     },
     "execution_count": 77,
     "metadata": {},
     "output_type": "execute_result"
    }
   ],
   "source": [
    "df.head()"
   ]
  },
  {
   "cell_type": "code",
   "execution_count": 78,
   "id": "7188e936",
   "metadata": {},
   "outputs": [
    {
     "name": "stdout",
     "output_type": "stream",
     "text": [
      "Test Statistics         -2.829267\n",
      "p-Value                  0.054213\n",
      "No. of Lags             12.000000\n",
      "No. of Observations    130.000000\n",
      "Critical Value 1%       -3.481682\n",
      "Critical Value 5%       -2.884042\n",
      "Critical Value 10%      -2.578770\n",
      "dtype: float64\n",
      "\n",
      "\n",
      "Weak evidence against the null hypothesis\n",
      "Fail to reject the null hypothesis\n",
      "Data has a unit root and is non-stationary\n"
     ]
    }
   ],
   "source": [
    "# Checking Stationarity of First Order Differenced Data:\n",
    "\n",
    "dickey_fuller_result(df[\"diff_1\"])"
   ]
  },
  {
   "cell_type": "code",
   "execution_count": null,
   "id": "fa67e18f",
   "metadata": {},
   "outputs": [],
   "source": []
  },
  {
   "cell_type": "code",
   "execution_count": 79,
   "id": "442d3f99",
   "metadata": {},
   "outputs": [],
   "source": [
    "# Applying Second Order Differencing:\n",
    "\n",
    "df[\"diff_2\"] = diff(df[\"Thousands of Passengers\"], k_diff= 2)"
   ]
  },
  {
   "cell_type": "code",
   "execution_count": 80,
   "id": "104ce4ab",
   "metadata": {},
   "outputs": [
    {
     "data": {
      "text/html": [
       "<div>\n",
       "<style scoped>\n",
       "    .dataframe tbody tr th:only-of-type {\n",
       "        vertical-align: middle;\n",
       "    }\n",
       "\n",
       "    .dataframe tbody tr th {\n",
       "        vertical-align: top;\n",
       "    }\n",
       "\n",
       "    .dataframe thead th {\n",
       "        text-align: right;\n",
       "    }\n",
       "</style>\n",
       "<table border=\"1\" class=\"dataframe\">\n",
       "  <thead>\n",
       "    <tr style=\"text-align: right;\">\n",
       "      <th></th>\n",
       "      <th>Thousands of Passengers</th>\n",
       "      <th>diff_1</th>\n",
       "      <th>diff_2</th>\n",
       "    </tr>\n",
       "    <tr>\n",
       "      <th>Month</th>\n",
       "      <th></th>\n",
       "      <th></th>\n",
       "      <th></th>\n",
       "    </tr>\n",
       "  </thead>\n",
       "  <tbody>\n",
       "    <tr>\n",
       "      <th>1949-01-01</th>\n",
       "      <td>112</td>\n",
       "      <td>NaN</td>\n",
       "      <td>NaN</td>\n",
       "    </tr>\n",
       "    <tr>\n",
       "      <th>1949-02-01</th>\n",
       "      <td>118</td>\n",
       "      <td>6.0</td>\n",
       "      <td>NaN</td>\n",
       "    </tr>\n",
       "    <tr>\n",
       "      <th>1949-03-01</th>\n",
       "      <td>132</td>\n",
       "      <td>14.0</td>\n",
       "      <td>8.0</td>\n",
       "    </tr>\n",
       "    <tr>\n",
       "      <th>1949-04-01</th>\n",
       "      <td>129</td>\n",
       "      <td>-3.0</td>\n",
       "      <td>-17.0</td>\n",
       "    </tr>\n",
       "    <tr>\n",
       "      <th>1949-05-01</th>\n",
       "      <td>121</td>\n",
       "      <td>-8.0</td>\n",
       "      <td>-5.0</td>\n",
       "    </tr>\n",
       "  </tbody>\n",
       "</table>\n",
       "</div>"
      ],
      "text/plain": [
       "            Thousands of Passengers  diff_1  diff_2\n",
       "Month                                              \n",
       "1949-01-01                      112     NaN     NaN\n",
       "1949-02-01                      118     6.0     NaN\n",
       "1949-03-01                      132    14.0     8.0\n",
       "1949-04-01                      129    -3.0   -17.0\n",
       "1949-05-01                      121    -8.0    -5.0"
      ]
     },
     "execution_count": 80,
     "metadata": {},
     "output_type": "execute_result"
    }
   ],
   "source": [
    "df.head()"
   ]
  },
  {
   "cell_type": "code",
   "execution_count": 81,
   "id": "dd35600f",
   "metadata": {},
   "outputs": [
    {
     "name": "stdout",
     "output_type": "stream",
     "text": [
      "Test Statistics       -1.638423e+01\n",
      "p-Value                2.732892e-29\n",
      "No. of Lags            1.100000e+01\n",
      "No. of Observations    1.300000e+02\n",
      "Critical Value 1%     -3.481682e+00\n",
      "Critical Value 5%     -2.884042e+00\n",
      "Critical Value 10%    -2.578770e+00\n",
      "dtype: float64\n",
      "\n",
      "\n",
      "Strong evidence against the null hypothesis\n",
      "Reject the null hypothesis\n",
      "Data has no unit root and is stationary\n"
     ]
    }
   ],
   "source": [
    "# Checking Stationarity of Second Order Differenced Data:\n",
    "\n",
    "dickey_fuller_result(df[\"diff_2\"])"
   ]
  },
  {
   "cell_type": "code",
   "execution_count": null,
   "id": "945d2e6e",
   "metadata": {},
   "outputs": [],
   "source": []
  },
  {
   "cell_type": "markdown",
   "id": "a97cca7c",
   "metadata": {},
   "source": [
    "### ACF and PACF Plots:"
   ]
  },
  {
   "cell_type": "code",
   "execution_count": 82,
   "id": "3b4ba3a6",
   "metadata": {},
   "outputs": [
    {
     "data": {
      "image/png": "[encoded data removed]",
      "text/plain": [
       "<Figure size 432x288 with 1 Axes>"
      ]
     },
     "metadata": {
      "needs_background": "light"
     },
     "output_type": "display_data"
    }
   ],
   "source": [
    "plot_acf(df[\"Thousands of Passengers\"], lags= 40);"
   ]
  },
  {
   "cell_type": "code",
   "execution_count": 83,
   "id": "6c91cb78",
   "metadata": {},
   "outputs": [
    {
     "data": {
      "image/png": "[encoded data removed]",
      "text/plain": [
       "<Figure size 432x288 with 1 Axes>"
      ]
     },
     "metadata": {
      "needs_background": "light"
     },
     "output_type": "display_data"
    }
   ],
   "source": [
    "plot_pacf(df[\"Thousands of Passengers\"], lags= 40, method= \"ywm\");"
   ]
  },
  {
   "cell_type": "code",
   "execution_count": null,
   "id": "43cdf3dd",
   "metadata": {},
   "outputs": [],
   "source": []
  },
  {
   "cell_type": "markdown",
   "id": "7781da80",
   "metadata": {},
   "source": [
    "### Using Auto ARIMA to Decide Orders:"
   ]
  },
  {
   "cell_type": "code",
   "execution_count": 84,
   "id": "59975d69",
   "metadata": {},
   "outputs": [
    {
     "name": "stdout",
     "output_type": "stream",
     "text": [
      "Performing stepwise search to minimize aic\n",
      " ARIMA(2,1,2)(1,1,1)[12]             : AIC=1020.048, Time=0.65 sec\n",
      " ARIMA(0,1,0)(0,1,0)[12]             : AIC=1031.508, Time=0.02 sec\n",
      " ARIMA(1,1,0)(1,1,0)[12]             : AIC=1020.393, Time=0.09 sec\n",
      " ARIMA(0,1,1)(0,1,1)[12]             : AIC=1021.003, Time=0.11 sec\n",
      " ARIMA(2,1,2)(0,1,1)[12]             : AIC=1019.935, Time=0.39 sec\n",
      " ARIMA(2,1,2)(0,1,0)[12]             : AIC=1019.290, Time=0.16 sec\n",
      " ARIMA(2,1,2)(1,1,0)[12]             : AIC=1019.546, Time=0.37 sec\n",
      " ARIMA(1,1,2)(0,1,0)[12]             : AIC=1024.160, Time=0.09 sec\n",
      " ARIMA(2,1,1)(0,1,0)[12]             : AIC=1017.847, Time=0.16 sec\n",
      " ARIMA(2,1,1)(1,1,0)[12]             : AIC=1017.914, Time=0.36 sec\n",
      " ARIMA(2,1,1)(0,1,1)[12]             : AIC=1018.359, Time=0.33 sec\n",
      " ARIMA(2,1,1)(1,1,1)[12]             : AIC=1018.248, Time=0.62 sec\n",
      " ARIMA(1,1,1)(0,1,0)[12]             : AIC=1022.393, Time=0.05 sec\n",
      " ARIMA(2,1,0)(0,1,0)[12]             : AIC=1022.393, Time=0.05 sec\n",
      " ARIMA(3,1,1)(0,1,0)[12]             : AIC=1019.084, Time=0.16 sec\n",
      " ARIMA(1,1,0)(0,1,0)[12]             : AIC=1020.393, Time=0.04 sec\n",
      " ARIMA(3,1,0)(0,1,0)[12]             : AIC=1023.666, Time=0.06 sec\n",
      " ARIMA(3,1,2)(0,1,0)[12]             : AIC=1021.083, Time=0.28 sec\n",
      " ARIMA(2,1,1)(0,1,0)[12] intercept   : AIC=inf, Time=0.40 sec\n",
      "\n",
      "Best model:  ARIMA(2,1,1)(0,1,0)[12]          \n",
      "Total fit time: 4.420 seconds\n"
     ]
    }
   ],
   "source": [
    "grid_arima = auto_arima(df[\"Thousands of Passengers\"], seasonal= True, m= 12, trace= True)"
   ]
  },
  {
   "cell_type": "code",
   "execution_count": 85,
   "id": "6dff34a0",
   "metadata": {},
   "outputs": [
    {
     "data": {
      "text/html": [
       "<table class=\"simpletable\">\n",
       "<caption>SARIMAX Results</caption>\n",
       "<tr>\n",
       "  <th>Dep. Variable:</th>                  <td>y</td>                <th>  No. Observations:  </th>    <td>144</td>  \n",
       "</tr>\n",
       "<tr>\n",
       "  <th>Model:</th>           <td>SARIMAX(2, 1, 1)x(0, 1, [], 12)</td> <th>  Log Likelihood     </th> <td>-504.923</td>\n",
       "</tr>\n",
       "<tr>\n",
       "  <th>Date:</th>                   <td>Thu, 24 Nov 2022</td>         <th>  AIC                </th> <td>1017.847</td>\n",
       "</tr>\n",
       "<tr>\n",
       "  <th>Time:</th>                       <td>17:03:22</td>             <th>  BIC                </th> <td>1029.348</td>\n",
       "</tr>\n",
       "<tr>\n",
       "  <th>Sample:</th>                    <td>01-01-1949</td>            <th>  HQIC               </th> <td>1022.520</td>\n",
       "</tr>\n",
       "<tr>\n",
       "  <th></th>                          <td>- 12-01-1960</td>           <th>                     </th>     <td> </td>   \n",
       "</tr>\n",
       "<tr>\n",
       "  <th>Covariance Type:</th>               <td>opg</td>               <th>                     </th>     <td> </td>   \n",
       "</tr>\n",
       "</table>\n",
       "<table class=\"simpletable\">\n",
       "<tr>\n",
       "     <td></td>       <th>coef</th>     <th>std err</th>      <th>z</th>      <th>P>|z|</th>  <th>[0.025</th>    <th>0.975]</th>  \n",
       "</tr>\n",
       "<tr>\n",
       "  <th>ar.L1</th>  <td>    0.5960</td> <td>    0.085</td> <td>    6.987</td> <td> 0.000</td> <td>    0.429</td> <td>    0.763</td>\n",
       "</tr>\n",
       "<tr>\n",
       "  <th>ar.L2</th>  <td>    0.2143</td> <td>    0.091</td> <td>    2.344</td> <td> 0.019</td> <td>    0.035</td> <td>    0.394</td>\n",
       "</tr>\n",
       "<tr>\n",
       "  <th>ma.L1</th>  <td>   -0.9819</td> <td>    0.038</td> <td>  -25.601</td> <td> 0.000</td> <td>   -1.057</td> <td>   -0.907</td>\n",
       "</tr>\n",
       "<tr>\n",
       "  <th>sigma2</th> <td>  129.3080</td> <td>   14.555</td> <td>    8.884</td> <td> 0.000</td> <td>  100.780</td> <td>  157.836</td>\n",
       "</tr>\n",
       "</table>\n",
       "<table class=\"simpletable\">\n",
       "<tr>\n",
       "  <th>Ljung-Box (L1) (Q):</th>     <td>0.00</td> <th>  Jarque-Bera (JB):  </th> <td>7.68</td> \n",
       "</tr>\n",
       "<tr>\n",
       "  <th>Prob(Q):</th>                <td>0.98</td> <th>  Prob(JB):          </th> <td>0.02</td> \n",
       "</tr>\n",
       "<tr>\n",
       "  <th>Heteroskedasticity (H):</th> <td>2.33</td> <th>  Skew:              </th> <td>-0.01</td>\n",
       "</tr>\n",
       "<tr>\n",
       "  <th>Prob(H) (two-sided):</th>    <td>0.01</td> <th>  Kurtosis:          </th> <td>4.19</td> \n",
       "</tr>\n",
       "</table><br/><br/>Warnings:<br/>[1] Covariance matrix calculated using the outer product of gradients (complex-step)."
      ],
      "text/plain": [
       "<class 'statsmodels.iolib.summary.Summary'>\n",
       "\"\"\"\n",
       "                                      SARIMAX Results                                      \n",
       "===========================================================================================\n",
       "Dep. Variable:                                   y   No. Observations:                  144\n",
       "Model:             SARIMAX(2, 1, 1)x(0, 1, [], 12)   Log Likelihood                -504.923\n",
       "Date:                             Thu, 24 Nov 2022   AIC                           1017.847\n",
       "Time:                                     17:03:22   BIC                           1029.348\n",
       "Sample:                                 01-01-1949   HQIC                          1022.520\n",
       "                                      - 12-01-1960                                         \n",
       "Covariance Type:                               opg                                         \n",
       "==============================================================================\n",
       "                 coef    std err          z      P>|z|      [0.025      0.975]\n",
       "------------------------------------------------------------------------------\n",
       "ar.L1          0.5960      0.085      6.987      0.000       0.429       0.763\n",
       "ar.L2          0.2143      0.091      2.344      0.019       0.035       0.394\n",
       "ma.L1         -0.9819      0.038    -25.601      0.000      -1.057      -0.907\n",
       "sigma2       129.3080     14.555      8.884      0.000     100.780     157.836\n",
       "===================================================================================\n",
       "Ljung-Box (L1) (Q):                   0.00   Jarque-Bera (JB):                 7.68\n",
       "Prob(Q):                              0.98   Prob(JB):                         0.02\n",
       "Heteroskedasticity (H):               2.33   Skew:                            -0.01\n",
       "Prob(H) (two-sided):                  0.01   Kurtosis:                         4.19\n",
       "===================================================================================\n",
       "\n",
       "Warnings:\n",
       "[1] Covariance matrix calculated using the outer product of gradients (complex-step).\n",
       "\"\"\""
      ]
     },
     "execution_count": 85,
     "metadata": {},
     "output_type": "execute_result"
    }
   ],
   "source": [
    "grid_arima.summary()"
   ]
  },
  {
   "cell_type": "code",
   "execution_count": null,
   "id": "54144a7a",
   "metadata": {},
   "outputs": [],
   "source": []
  },
  {
   "cell_type": "code",
   "execution_count": 86,
   "id": "2b7b9365",
   "metadata": {},
   "outputs": [],
   "source": [
    "# So, (p,d,q) = (2,1,1) for ARIMA\n",
    "# (P,D,Q,m) = (0,1,0,12) for SARIMA"
   ]
  },
  {
   "cell_type": "markdown",
   "id": "69157797",
   "metadata": {},
   "source": [
    "### Train Test Split:"
   ]
  },
  {
   "cell_type": "code",
   "execution_count": 87,
   "id": "706eb364",
   "metadata": {},
   "outputs": [
    {
     "data": {
      "text/plain": [
       "144"
      ]
     },
     "execution_count": 87,
     "metadata": {},
     "output_type": "execute_result"
    }
   ],
   "source": [
    "len(df)"
   ]
  },
  {
   "cell_type": "code",
   "execution_count": 88,
   "id": "6cab6dfc",
   "metadata": {},
   "outputs": [],
   "source": [
    "train_data = df[:132]\n",
    "test_data = df[132:]"
   ]
  },
  {
   "cell_type": "code",
   "execution_count": 89,
   "id": "f375690a",
   "metadata": {},
   "outputs": [
    {
     "data": {
      "text/plain": [
       "(132, 3)"
      ]
     },
     "execution_count": 89,
     "metadata": {},
     "output_type": "execute_result"
    }
   ],
   "source": [
    "train_data.shape"
   ]
  },
  {
   "cell_type": "code",
   "execution_count": 90,
   "id": "d1c1d5ec",
   "metadata": {},
   "outputs": [
    {
     "data": {
      "text/plain": [
       "(12, 3)"
      ]
     },
     "execution_count": 90,
     "metadata": {},
     "output_type": "execute_result"
    }
   ],
   "source": [
    "test_data.shape"
   ]
  },
  {
   "cell_type": "code",
   "execution_count": null,
   "id": "f44c8f7b",
   "metadata": {},
   "outputs": [],
   "source": []
  },
  {
   "cell_type": "markdown",
   "id": "4b70374a",
   "metadata": {},
   "source": [
    "### 1) ARIMA(2,1,1) Model:"
   ]
  },
  {
   "cell_type": "code",
   "execution_count": 91,
   "id": "b1a835ce",
   "metadata": {},
   "outputs": [],
   "source": [
    "arima_model = ARIMA(train_data[\"Thousands of Passengers\"], order= (2,1,1))"
   ]
  },
  {
   "cell_type": "code",
   "execution_count": 92,
   "id": "a868ca69",
   "metadata": {},
   "outputs": [],
   "source": [
    "arima_result = arima_model.fit()"
   ]
  },
  {
   "cell_type": "code",
   "execution_count": 93,
   "id": "80ffb85b",
   "metadata": {},
   "outputs": [
    {
     "data": {
      "text/html": [
       "<table class=\"simpletable\">\n",
       "<caption>SARIMAX Results</caption>\n",
       "<tr>\n",
       "  <th>Dep. Variable:</th>   <td>Thousands of Passengers</td> <th>  No. Observations:  </th>    <td>132</td>  \n",
       "</tr>\n",
       "<tr>\n",
       "  <th>Model:</th>               <td>ARIMA(2, 1, 1)</td>      <th>  Log Likelihood     </th> <td>-619.131</td>\n",
       "</tr>\n",
       "<tr>\n",
       "  <th>Date:</th>               <td>Thu, 24 Nov 2022</td>     <th>  AIC                </th> <td>1246.262</td>\n",
       "</tr>\n",
       "<tr>\n",
       "  <th>Time:</th>                   <td>17:03:22</td>         <th>  BIC                </th> <td>1257.763</td>\n",
       "</tr>\n",
       "<tr>\n",
       "  <th>Sample:</th>                <td>01-01-1949</td>        <th>  HQIC               </th> <td>1250.936</td>\n",
       "</tr>\n",
       "<tr>\n",
       "  <th></th>                      <td>- 12-01-1959</td>       <th>                     </th>     <td> </td>   \n",
       "</tr>\n",
       "<tr>\n",
       "  <th>Covariance Type:</th>           <td>opg</td>           <th>                     </th>     <td> </td>   \n",
       "</tr>\n",
       "</table>\n",
       "<table class=\"simpletable\">\n",
       "<tr>\n",
       "     <td></td>       <th>coef</th>     <th>std err</th>      <th>z</th>      <th>P>|z|</th>  <th>[0.025</th>    <th>0.975]</th>  \n",
       "</tr>\n",
       "<tr>\n",
       "  <th>ar.L1</th>  <td>    1.0698</td> <td>    0.094</td> <td>   11.323</td> <td> 0.000</td> <td>    0.885</td> <td>    1.255</td>\n",
       "</tr>\n",
       "<tr>\n",
       "  <th>ar.L2</th>  <td>   -0.4734</td> <td>    0.101</td> <td>   -4.670</td> <td> 0.000</td> <td>   -0.672</td> <td>   -0.275</td>\n",
       "</tr>\n",
       "<tr>\n",
       "  <th>ma.L1</th>  <td>   -0.8402</td> <td>    0.085</td> <td>   -9.851</td> <td> 0.000</td> <td>   -1.007</td> <td>   -0.673</td>\n",
       "</tr>\n",
       "<tr>\n",
       "  <th>sigma2</th> <td>  741.2092</td> <td>   92.892</td> <td>    7.979</td> <td> 0.000</td> <td>  559.145</td> <td>  923.274</td>\n",
       "</tr>\n",
       "</table>\n",
       "<table class=\"simpletable\">\n",
       "<tr>\n",
       "  <th>Ljung-Box (L1) (Q):</th>     <td>0.94</td> <th>  Jarque-Bera (JB):  </th> <td>1.71</td>\n",
       "</tr>\n",
       "<tr>\n",
       "  <th>Prob(Q):</th>                <td>0.33</td> <th>  Prob(JB):          </th> <td>0.42</td>\n",
       "</tr>\n",
       "<tr>\n",
       "  <th>Heteroskedasticity (H):</th> <td>6.69</td> <th>  Skew:              </th> <td>0.28</td>\n",
       "</tr>\n",
       "<tr>\n",
       "  <th>Prob(H) (two-sided):</th>    <td>0.00</td> <th>  Kurtosis:          </th> <td>3.00</td>\n",
       "</tr>\n",
       "</table><br/><br/>Warnings:<br/>[1] Covariance matrix calculated using the outer product of gradients (complex-step)."
      ],
      "text/plain": [
       "<class 'statsmodels.iolib.summary.Summary'>\n",
       "\"\"\"\n",
       "                                  SARIMAX Results                                  \n",
       "===================================================================================\n",
       "Dep. Variable:     Thousands of Passengers   No. Observations:                  132\n",
       "Model:                      ARIMA(2, 1, 1)   Log Likelihood                -619.131\n",
       "Date:                     Thu, 24 Nov 2022   AIC                           1246.262\n",
       "Time:                             17:03:22   BIC                           1257.763\n",
       "Sample:                         01-01-1949   HQIC                          1250.936\n",
       "                              - 12-01-1959                                         \n",
       "Covariance Type:                       opg                                         \n",
       "==============================================================================\n",
       "                 coef    std err          z      P>|z|      [0.025      0.975]\n",
       "------------------------------------------------------------------------------\n",
       "ar.L1          1.0698      0.094     11.323      0.000       0.885       1.255\n",
       "ar.L2         -0.4734      0.101     -4.670      0.000      -0.672      -0.275\n",
       "ma.L1         -0.8402      0.085     -9.851      0.000      -1.007      -0.673\n",
       "sigma2       741.2092     92.892      7.979      0.000     559.145     923.274\n",
       "===================================================================================\n",
       "Ljung-Box (L1) (Q):                   0.94   Jarque-Bera (JB):                 1.71\n",
       "Prob(Q):                              0.33   Prob(JB):                         0.42\n",
       "Heteroskedasticity (H):               6.69   Skew:                             0.28\n",
       "Prob(H) (two-sided):                  0.00   Kurtosis:                         3.00\n",
       "===================================================================================\n",
       "\n",
       "Warnings:\n",
       "[1] Covariance matrix calculated using the outer product of gradients (complex-step).\n",
       "\"\"\""
      ]
     },
     "execution_count": 93,
     "metadata": {},
     "output_type": "execute_result"
    }
   ],
   "source": [
    "arima_result.summary()"
   ]
  },
  {
   "cell_type": "code",
   "execution_count": null,
   "id": "46d4ed06",
   "metadata": {},
   "outputs": [],
   "source": []
  },
  {
   "cell_type": "code",
   "execution_count": 94,
   "id": "00fa02ea",
   "metadata": {},
   "outputs": [],
   "source": [
    "# Predictions on Test Data:\n",
    "\n",
    "start = len(train_data)\n",
    "end = len(train_data) + len(test_data) -1\n",
    "\n",
    "arima_pred = arima_result.predict(start= start, end= end, typ= \"levels\")"
   ]
  },
  {
   "cell_type": "code",
   "execution_count": 95,
   "id": "0974cfce",
   "metadata": {},
   "outputs": [
    {
     "data": {
      "text/plain": [
       "1960-01-01    437.013051\n",
       "1960-02-01    450.903711\n",
       "1960-03-01    450.608213\n",
       "1960-04-01    443.715784\n",
       "1960-05-01    436.482007\n",
       "1960-06-01    432.006253\n",
       "1960-07-01    430.642700\n",
       "1960-08-01    431.302911\n",
       "1960-09-01    432.654770\n",
       "1960-10-01    433.788454\n",
       "1960-11-01    434.361280\n",
       "1960-12-01    434.437378\n",
       "Freq: MS, Name: predicted_mean, dtype: float64"
      ]
     },
     "execution_count": 95,
     "metadata": {},
     "output_type": "execute_result"
    }
   ],
   "source": [
    "arima_pred"
   ]
  },
  {
   "cell_type": "code",
   "execution_count": 96,
   "id": "224e38c9",
   "metadata": {},
   "outputs": [
    {
     "data": {
      "text/plain": [
       "Month\n",
       "1960-01-01    417\n",
       "1960-02-01    391\n",
       "1960-03-01    419\n",
       "1960-04-01    461\n",
       "1960-05-01    472\n",
       "1960-06-01    535\n",
       "1960-07-01    622\n",
       "1960-08-01    606\n",
       "1960-09-01    508\n",
       "1960-10-01    461\n",
       "1960-11-01    390\n",
       "1960-12-01    432\n",
       "Freq: MS, Name: Thousands of Passengers, dtype: int64"
      ]
     },
     "execution_count": 96,
     "metadata": {},
     "output_type": "execute_result"
    }
   ],
   "source": [
    "test_data[\"Thousands of Passengers\"]"
   ]
  },
  {
   "cell_type": "code",
   "execution_count": null,
   "id": "e4b71deb",
   "metadata": {},
   "outputs": [],
   "source": []
  },
  {
   "cell_type": "code",
   "execution_count": 97,
   "id": "6564de6c",
   "metadata": {},
   "outputs": [
    {
     "data": {
      "text/plain": [
       "<AxesSubplot:xlabel='Month'>"
      ]
     },
     "execution_count": 97,
     "metadata": {},
     "output_type": "execute_result"
    },
    {
     "data": {
      "image/png": "[encoded data removed]",
      "text/plain": [
       "<Figure size 864x432 with 1 Axes>"
      ]
     },
     "metadata": {
      "needs_background": "light"
     },
     "output_type": "display_data"
    }
   ],
   "source": [
    "# Plotting Test Data and Predictions:\n",
    "\n",
    "test_data[\"Thousands of Passengers\"].plot(figsize= (12,6), legend= True)\n",
    "arima_pred.plot(label= \"Predictions\", legend= True)"
   ]
  },
  {
   "cell_type": "code",
   "execution_count": null,
   "id": "1bb50612",
   "metadata": {},
   "outputs": [],
   "source": []
  },
  {
   "cell_type": "code",
   "execution_count": 98,
   "id": "9bfe7486",
   "metadata": {},
   "outputs": [
    {
     "data": {
      "text/plain": [
       "87.88437722905219"
      ]
     },
     "execution_count": 98,
     "metadata": {},
     "output_type": "execute_result"
    }
   ],
   "source": [
    "# Model Evaluation:\n",
    "\n",
    "np.sqrt(mean_squared_error(test_data[\"Thousands of Passengers\"], arima_pred))"
   ]
  },
  {
   "cell_type": "code",
   "execution_count": null,
   "id": "975a70f2",
   "metadata": {},
   "outputs": [],
   "source": []
  },
  {
   "cell_type": "code",
   "execution_count": 99,
   "id": "c1389483",
   "metadata": {},
   "outputs": [],
   "source": [
    "# Training Model and Full Data and Making Predictions for Future:\n",
    "\n",
    "final_arima = ARIMA(df[\"Thousands of Passengers\"], order= (2,1,1))"
   ]
  },
  {
   "cell_type": "code",
   "execution_count": 100,
   "id": "3b182f3c",
   "metadata": {},
   "outputs": [],
   "source": [
    "arima_result = final_arima.fit()"
   ]
  },
  {
   "cell_type": "code",
   "execution_count": 101,
   "id": "1171222a",
   "metadata": {},
   "outputs": [
    {
     "data": {
      "text/html": [
       "<table class=\"simpletable\">\n",
       "<caption>SARIMAX Results</caption>\n",
       "<tr>\n",
       "  <th>Dep. Variable:</th>   <td>Thousands of Passengers</td> <th>  No. Observations:  </th>    <td>144</td>  \n",
       "</tr>\n",
       "<tr>\n",
       "  <th>Model:</th>               <td>ARIMA(2, 1, 1)</td>      <th>  Log Likelihood     </th> <td>-685.169</td>\n",
       "</tr>\n",
       "<tr>\n",
       "  <th>Date:</th>               <td>Thu, 24 Nov 2022</td>     <th>  AIC                </th> <td>1378.338</td>\n",
       "</tr>\n",
       "<tr>\n",
       "  <th>Time:</th>                   <td>17:03:22</td>         <th>  BIC                </th> <td>1390.190</td>\n",
       "</tr>\n",
       "<tr>\n",
       "  <th>Sample:</th>                <td>01-01-1949</td>        <th>  HQIC               </th> <td>1383.154</td>\n",
       "</tr>\n",
       "<tr>\n",
       "  <th></th>                      <td>- 12-01-1960</td>       <th>                     </th>     <td> </td>   \n",
       "</tr>\n",
       "<tr>\n",
       "  <th>Covariance Type:</th>           <td>opg</td>           <th>                     </th>     <td> </td>   \n",
       "</tr>\n",
       "</table>\n",
       "<table class=\"simpletable\">\n",
       "<tr>\n",
       "     <td></td>       <th>coef</th>     <th>std err</th>      <th>z</th>      <th>P>|z|</th>  <th>[0.025</th>    <th>0.975]</th>  \n",
       "</tr>\n",
       "<tr>\n",
       "  <th>ar.L1</th>  <td>    1.0907</td> <td>    0.083</td> <td>   13.190</td> <td> 0.000</td> <td>    0.929</td> <td>    1.253</td>\n",
       "</tr>\n",
       "<tr>\n",
       "  <th>ar.L2</th>  <td>   -0.4890</td> <td>    0.097</td> <td>   -5.046</td> <td> 0.000</td> <td>   -0.679</td> <td>   -0.299</td>\n",
       "</tr>\n",
       "<tr>\n",
       "  <th>ma.L1</th>  <td>   -0.8439</td> <td>    0.073</td> <td>  -11.486</td> <td> 0.000</td> <td>   -0.988</td> <td>   -0.700</td>\n",
       "</tr>\n",
       "<tr>\n",
       "  <th>sigma2</th> <td>  844.6059</td> <td>  103.095</td> <td>    8.192</td> <td> 0.000</td> <td>  642.543</td> <td> 1046.669</td>\n",
       "</tr>\n",
       "</table>\n",
       "<table class=\"simpletable\">\n",
       "<tr>\n",
       "  <th>Ljung-Box (L1) (Q):</th>     <td>0.94</td> <th>  Jarque-Bera (JB):  </th> <td>2.15</td>\n",
       "</tr>\n",
       "<tr>\n",
       "  <th>Prob(Q):</th>                <td>0.33</td> <th>  Prob(JB):          </th> <td>0.34</td>\n",
       "</tr>\n",
       "<tr>\n",
       "  <th>Heteroskedasticity (H):</th> <td>7.67</td> <th>  Skew:              </th> <td>0.30</td>\n",
       "</tr>\n",
       "<tr>\n",
       "  <th>Prob(H) (two-sided):</th>    <td>0.00</td> <th>  Kurtosis:          </th> <td>3.03</td>\n",
       "</tr>\n",
       "</table><br/><br/>Warnings:<br/>[1] Covariance matrix calculated using the outer product of gradients (complex-step)."
      ],
      "text/plain": [
       "<class 'statsmodels.iolib.summary.Summary'>\n",
       "\"\"\"\n",
       "                                  SARIMAX Results                                  \n",
       "===================================================================================\n",
       "Dep. Variable:     Thousands of Passengers   No. Observations:                  144\n",
       "Model:                      ARIMA(2, 1, 1)   Log Likelihood                -685.169\n",
       "Date:                     Thu, 24 Nov 2022   AIC                           1378.338\n",
       "Time:                             17:03:22   BIC                           1390.190\n",
       "Sample:                         01-01-1949   HQIC                          1383.154\n",
       "                              - 12-01-1960                                         \n",
       "Covariance Type:                       opg                                         \n",
       "==============================================================================\n",
       "                 coef    std err          z      P>|z|      [0.025      0.975]\n",
       "------------------------------------------------------------------------------\n",
       "ar.L1          1.0907      0.083     13.190      0.000       0.929       1.253\n",
       "ar.L2         -0.4890      0.097     -5.046      0.000      -0.679      -0.299\n",
       "ma.L1         -0.8439      0.073    -11.486      0.000      -0.988      -0.700\n",
       "sigma2       844.6059    103.095      8.192      0.000     642.543    1046.669\n",
       "===================================================================================\n",
       "Ljung-Box (L1) (Q):                   0.94   Jarque-Bera (JB):                 2.15\n",
       "Prob(Q):                              0.33   Prob(JB):                         0.34\n",
       "Heteroskedasticity (H):               7.67   Skew:                             0.30\n",
       "Prob(H) (two-sided):                  0.00   Kurtosis:                         3.03\n",
       "===================================================================================\n",
       "\n",
       "Warnings:\n",
       "[1] Covariance matrix calculated using the outer product of gradients (complex-step).\n",
       "\"\"\""
      ]
     },
     "execution_count": 101,
     "metadata": {},
     "output_type": "execute_result"
    }
   ],
   "source": [
    "arima_result.summary()"
   ]
  },
  {
   "cell_type": "code",
   "execution_count": null,
   "id": "b48afa52",
   "metadata": {},
   "outputs": [],
   "source": []
  },
  {
   "cell_type": "code",
   "execution_count": 102,
   "id": "18ebd36d",
   "metadata": {},
   "outputs": [],
   "source": [
    "# Forecasting:\n",
    "\n",
    "forecast_arima = arima_result.predict(start= len(df), end= len(df)+11, typ= \"levels\")"
   ]
  },
  {
   "cell_type": "code",
   "execution_count": 103,
   "id": "a1c5c002",
   "metadata": {},
   "outputs": [
    {
     "data": {
      "text/plain": [
       "1961-01-01    471.000383\n",
       "1961-02-01    492.998177\n",
       "1961-03-01    497.918890\n",
       "1961-04-01    492.528738\n",
       "1961-05-01    484.243730\n",
       "1961-06-01    477.843463\n",
       "1961-07-01    474.914377\n",
       "1961-08-01    474.849500\n",
       "1961-09-01    476.211067\n",
       "1961-10-01    477.727786\n",
       "1961-11-01    478.716191\n",
       "1961-12-01    479.052519\n",
       "Freq: MS, Name: predicted_mean, dtype: float64"
      ]
     },
     "execution_count": 103,
     "metadata": {},
     "output_type": "execute_result"
    }
   ],
   "source": [
    "forecast_arima"
   ]
  },
  {
   "cell_type": "code",
   "execution_count": null,
   "id": "8bb0aea6",
   "metadata": {},
   "outputs": [],
   "source": []
  },
  {
   "cell_type": "code",
   "execution_count": 104,
   "id": "6dadff41",
   "metadata": {},
   "outputs": [
    {
     "data": {
      "text/plain": [
       "<AxesSubplot:xlabel='Month'>"
      ]
     },
     "execution_count": 104,
     "metadata": {},
     "output_type": "execute_result"
    },
    {
     "data": {
      "image/png": "[encoded data removed]",
      "text/plain": [
       "<Figure size 864x432 with 1 Axes>"
      ]
     },
     "metadata": {
      "needs_background": "light"
     },
     "output_type": "display_data"
    }
   ],
   "source": [
    "# Plotting Historic and Forecast Data:\n",
    "\n",
    "df[\"Thousands of Passengers\"].plot(figsize= (12,6), legend= True)\n",
    "forecast_arima.plot(label= \"Forecast\", legend= True)"
   ]
  },
  {
   "cell_type": "code",
   "execution_count": null,
   "id": "b8351ea7",
   "metadata": {},
   "outputs": [],
   "source": []
  },
  {
   "cell_type": "markdown",
   "id": "572fd00d",
   "metadata": {},
   "source": [
    "### 1) SARIMA(2,1,1)(0,1,0,12) Model:"
   ]
  },
  {
   "cell_type": "code",
   "execution_count": 105,
   "id": "a49241fa",
   "metadata": {},
   "outputs": [],
   "source": [
    "sarima_model = SARIMAX(train_data[\"Thousands of Passengers\"], order= (2,1,1), seasonal_order= (0,1,0,12))"
   ]
  },
  {
   "cell_type": "code",
   "execution_count": 106,
   "id": "fd709b92",
   "metadata": {},
   "outputs": [
    {
     "name": "stderr",
     "output_type": "stream",
     "text": [
      "C:\\Users\\Shailya\\AppData\\Roaming\\Python\\Python38\\site-packages\\statsmodels\\tsa\\statespace\\sarimax.py:966: UserWarning: Non-stationary starting autoregressive parameters found. Using zeros as starting parameters.\n",
      "  warn('Non-stationary starting autoregressive parameters'\n",
      "C:\\Users\\Shailya\\AppData\\Roaming\\Python\\Python38\\site-packages\\statsmodels\\tsa\\statespace\\sarimax.py:978: UserWarning: Non-invertible starting MA parameters found. Using zeros as starting parameters.\n",
      "  warn('Non-invertible starting MA parameters found.'\n"
     ]
    }
   ],
   "source": [
    "sarima_result = sarima_model.fit()"
   ]
  },
  {
   "cell_type": "code",
   "execution_count": 107,
   "id": "cdbb9caa",
   "metadata": {},
   "outputs": [
    {
     "data": {
      "text/html": [
       "<table class=\"simpletable\">\n",
       "<caption>SARIMAX Results</caption>\n",
       "<tr>\n",
       "  <th>Dep. Variable:</th>       <td>Thousands of Passengers</td>     <th>  No. Observations:  </th>    <td>132</td>  \n",
       "</tr>\n",
       "<tr>\n",
       "  <th>Model:</th>           <td>SARIMAX(2, 1, 1)x(0, 1, [], 12)</td> <th>  Log Likelihood     </th> <td>-447.483</td>\n",
       "</tr>\n",
       "<tr>\n",
       "  <th>Date:</th>                   <td>Thu, 24 Nov 2022</td>         <th>  AIC                </th>  <td>902.967</td>\n",
       "</tr>\n",
       "<tr>\n",
       "  <th>Time:</th>                       <td>17:03:23</td>             <th>  BIC                </th>  <td>914.083</td>\n",
       "</tr>\n",
       "<tr>\n",
       "  <th>Sample:</th>                    <td>01-01-1949</td>            <th>  HQIC               </th>  <td>907.481</td>\n",
       "</tr>\n",
       "<tr>\n",
       "  <th></th>                          <td>- 12-01-1959</td>           <th>                     </th>     <td> </td>   \n",
       "</tr>\n",
       "<tr>\n",
       "  <th>Covariance Type:</th>               <td>opg</td>               <th>                     </th>     <td> </td>   \n",
       "</tr>\n",
       "</table>\n",
       "<table class=\"simpletable\">\n",
       "<tr>\n",
       "     <td></td>       <th>coef</th>     <th>std err</th>      <th>z</th>      <th>P>|z|</th>  <th>[0.025</th>    <th>0.975]</th>  \n",
       "</tr>\n",
       "<tr>\n",
       "  <th>ar.L1</th>  <td>   -0.5253</td> <td>    0.929</td> <td>   -0.566</td> <td> 0.572</td> <td>   -2.345</td> <td>    1.295</td>\n",
       "</tr>\n",
       "<tr>\n",
       "  <th>ar.L2</th>  <td>    0.0110</td> <td>    0.275</td> <td>    0.040</td> <td> 0.968</td> <td>   -0.529</td> <td>    0.551</td>\n",
       "</tr>\n",
       "<tr>\n",
       "  <th>ma.L1</th>  <td>    0.3064</td> <td>    0.935</td> <td>    0.328</td> <td> 0.743</td> <td>   -1.527</td> <td>    2.140</td>\n",
       "</tr>\n",
       "<tr>\n",
       "  <th>sigma2</th> <td>  108.0094</td> <td>   13.498</td> <td>    8.002</td> <td> 0.000</td> <td>   81.553</td> <td>  134.466</td>\n",
       "</tr>\n",
       "</table>\n",
       "<table class=\"simpletable\">\n",
       "<tr>\n",
       "  <th>Ljung-Box (L1) (Q):</th>     <td>0.00</td> <th>  Jarque-Bera (JB):  </th> <td>1.39</td> \n",
       "</tr>\n",
       "<tr>\n",
       "  <th>Prob(Q):</th>                <td>0.97</td> <th>  Prob(JB):          </th> <td>0.50</td> \n",
       "</tr>\n",
       "<tr>\n",
       "  <th>Heteroskedasticity (H):</th> <td>1.47</td> <th>  Skew:              </th> <td>-0.09</td>\n",
       "</tr>\n",
       "<tr>\n",
       "  <th>Prob(H) (two-sided):</th>    <td>0.23</td> <th>  Kurtosis:          </th> <td>3.50</td> \n",
       "</tr>\n",
       "</table><br/><br/>Warnings:<br/>[1] Covariance matrix calculated using the outer product of gradients (complex-step)."
      ],
      "text/plain": [
       "<class 'statsmodels.iolib.summary.Summary'>\n",
       "\"\"\"\n",
       "                                      SARIMAX Results                                      \n",
       "===========================================================================================\n",
       "Dep. Variable:             Thousands of Passengers   No. Observations:                  132\n",
       "Model:             SARIMAX(2, 1, 1)x(0, 1, [], 12)   Log Likelihood                -447.483\n",
       "Date:                             Thu, 24 Nov 2022   AIC                            902.967\n",
       "Time:                                     17:03:23   BIC                            914.083\n",
       "Sample:                                 01-01-1949   HQIC                           907.481\n",
       "                                      - 12-01-1959                                         \n",
       "Covariance Type:                               opg                                         \n",
       "==============================================================================\n",
       "                 coef    std err          z      P>|z|      [0.025      0.975]\n",
       "------------------------------------------------------------------------------\n",
       "ar.L1         -0.5253      0.929     -0.566      0.572      -2.345       1.295\n",
       "ar.L2          0.0110      0.275      0.040      0.968      -0.529       0.551\n",
       "ma.L1          0.3064      0.935      0.328      0.743      -1.527       2.140\n",
       "sigma2       108.0094     13.498      8.002      0.000      81.553     134.466\n",
       "===================================================================================\n",
       "Ljung-Box (L1) (Q):                   0.00   Jarque-Bera (JB):                 1.39\n",
       "Prob(Q):                              0.97   Prob(JB):                         0.50\n",
       "Heteroskedasticity (H):               1.47   Skew:                            -0.09\n",
       "Prob(H) (two-sided):                  0.23   Kurtosis:                         3.50\n",
       "===================================================================================\n",
       "\n",
       "Warnings:\n",
       "[1] Covariance matrix calculated using the outer product of gradients (complex-step).\n",
       "\"\"\""
      ]
     },
     "execution_count": 107,
     "metadata": {},
     "output_type": "execute_result"
    }
   ],
   "source": [
    "sarima_result.summary()"
   ]
  },
  {
   "cell_type": "code",
   "execution_count": null,
   "id": "c6523818",
   "metadata": {},
   "outputs": [],
   "source": []
  },
  {
   "cell_type": "code",
   "execution_count": 108,
   "id": "1d99f66c",
   "metadata": {},
   "outputs": [],
   "source": [
    "# Predictions on Test Data:\n",
    "\n",
    "start = len(train_data)\n",
    "end = len(train_data) + len(test_data) -1\n",
    "\n",
    "sarima_pred = sarima_result.predict(start= start, end= end, typ= \"levels\")"
   ]
  },
  {
   "cell_type": "code",
   "execution_count": 109,
   "id": "a7568dfe",
   "metadata": {},
   "outputs": [
    {
     "data": {
      "text/plain": [
       "1960-01-01    425.135147\n",
       "1960-02-01    408.815435\n",
       "1960-03-01    471.901435\n",
       "1960-04-01    462.399947\n",
       "1960-05-01    486.128076\n",
       "1960-06-01    538.276345\n",
       "1960-07-01    614.195484\n",
       "1960-08-01    625.239583\n",
       "1960-09-01    529.215533\n",
       "1960-10-01    473.228649\n",
       "1960-11-01    428.221496\n",
       "1960-12-01    471.225397\n",
       "Freq: MS, Name: predicted_mean, dtype: float64"
      ]
     },
     "execution_count": 109,
     "metadata": {},
     "output_type": "execute_result"
    }
   ],
   "source": [
    "sarima_pred"
   ]
  },
  {
   "cell_type": "code",
   "execution_count": 110,
   "id": "3c396225",
   "metadata": {},
   "outputs": [
    {
     "data": {
      "text/plain": [
       "<AxesSubplot:xlabel='Month'>"
      ]
     },
     "execution_count": 110,
     "metadata": {},
     "output_type": "execute_result"
    },
    {
     "data": {
      "image/png": "[encoded data removed]",
      "text/plain": [
       "<Figure size 864x432 with 1 Axes>"
      ]
     },
     "metadata": {
      "needs_background": "light"
     },
     "output_type": "display_data"
    }
   ],
   "source": [
    "# Plotting Test Data and Predictions:\n",
    "\n",
    "test_data[\"Thousands of Passengers\"].plot(figsize= (12,6), legend= True)\n",
    "sarima_pred.plot(label= \"Predictions\", legend= True)"
   ]
  },
  {
   "cell_type": "code",
   "execution_count": null,
   "id": "793902c9",
   "metadata": {},
   "outputs": [],
   "source": []
  },
  {
   "cell_type": "code",
   "execution_count": 111,
   "id": "00cb99f9",
   "metadata": {},
   "outputs": [
    {
     "data": {
      "text/plain": [
       "24.874106758116593"
      ]
     },
     "execution_count": 111,
     "metadata": {},
     "output_type": "execute_result"
    }
   ],
   "source": [
    "# Model Evaluation:\n",
    "\n",
    "np.sqrt(mean_squared_error(test_data[\"Thousands of Passengers\"], sarima_pred))"
   ]
  },
  {
   "cell_type": "code",
   "execution_count": null,
   "id": "a362dd6d",
   "metadata": {},
   "outputs": [],
   "source": []
  },
  {
   "cell_type": "code",
   "execution_count": 112,
   "id": "971ed1bf",
   "metadata": {},
   "outputs": [],
   "source": [
    "# Training Model and Full Data and Making Predictions for Future:\n",
    "\n",
    "final_sarima = SARIMAX(df[\"Thousands of Passengers\"], order= (2,1,1), seasonal_order= (0,1,0,12))"
   ]
  },
  {
   "cell_type": "code",
   "execution_count": 113,
   "id": "6ea92b7c",
   "metadata": {},
   "outputs": [
    {
     "name": "stderr",
     "output_type": "stream",
     "text": [
      "C:\\Users\\Shailya\\AppData\\Roaming\\Python\\Python38\\site-packages\\statsmodels\\tsa\\statespace\\sarimax.py:966: UserWarning: Non-stationary starting autoregressive parameters found. Using zeros as starting parameters.\n",
      "  warn('Non-stationary starting autoregressive parameters'\n",
      "C:\\Users\\Shailya\\AppData\\Roaming\\Python\\Python38\\site-packages\\statsmodels\\tsa\\statespace\\sarimax.py:978: UserWarning: Non-invertible starting MA parameters found. Using zeros as starting parameters.\n",
      "  warn('Non-invertible starting MA parameters found.'\n"
     ]
    }
   ],
   "source": [
    "sarima_result = final_sarima.fit()"
   ]
  },
  {
   "cell_type": "code",
   "execution_count": 114,
   "id": "5ff0f0a1",
   "metadata": {},
   "outputs": [
    {
     "data": {
      "text/html": [
       "<table class=\"simpletable\">\n",
       "<caption>SARIMAX Results</caption>\n",
       "<tr>\n",
       "  <th>Dep. Variable:</th>       <td>Thousands of Passengers</td>     <th>  No. Observations:  </th>    <td>144</td>  \n",
       "</tr>\n",
       "<tr>\n",
       "  <th>Model:</th>           <td>SARIMAX(2, 1, 1)x(0, 1, [], 12)</td> <th>  Log Likelihood     </th> <td>-504.923</td>\n",
       "</tr>\n",
       "<tr>\n",
       "  <th>Date:</th>                   <td>Thu, 24 Nov 2022</td>         <th>  AIC                </th> <td>1017.847</td>\n",
       "</tr>\n",
       "<tr>\n",
       "  <th>Time:</th>                       <td>17:03:23</td>             <th>  BIC                </th> <td>1029.348</td>\n",
       "</tr>\n",
       "<tr>\n",
       "  <th>Sample:</th>                    <td>01-01-1949</td>            <th>  HQIC               </th> <td>1022.520</td>\n",
       "</tr>\n",
       "<tr>\n",
       "  <th></th>                          <td>- 12-01-1960</td>           <th>                     </th>     <td> </td>   \n",
       "</tr>\n",
       "<tr>\n",
       "  <th>Covariance Type:</th>               <td>opg</td>               <th>                     </th>     <td> </td>   \n",
       "</tr>\n",
       "</table>\n",
       "<table class=\"simpletable\">\n",
       "<tr>\n",
       "     <td></td>       <th>coef</th>     <th>std err</th>      <th>z</th>      <th>P>|z|</th>  <th>[0.025</th>    <th>0.975]</th>  \n",
       "</tr>\n",
       "<tr>\n",
       "  <th>ar.L1</th>  <td>    0.5960</td> <td>    0.085</td> <td>    6.987</td> <td> 0.000</td> <td>    0.429</td> <td>    0.763</td>\n",
       "</tr>\n",
       "<tr>\n",
       "  <th>ar.L2</th>  <td>    0.2143</td> <td>    0.091</td> <td>    2.344</td> <td> 0.019</td> <td>    0.035</td> <td>    0.394</td>\n",
       "</tr>\n",
       "<tr>\n",
       "  <th>ma.L1</th>  <td>   -0.9819</td> <td>    0.038</td> <td>  -25.601</td> <td> 0.000</td> <td>   -1.057</td> <td>   -0.907</td>\n",
       "</tr>\n",
       "<tr>\n",
       "  <th>sigma2</th> <td>  129.3080</td> <td>   14.555</td> <td>    8.884</td> <td> 0.000</td> <td>  100.780</td> <td>  157.836</td>\n",
       "</tr>\n",
       "</table>\n",
       "<table class=\"simpletable\">\n",
       "<tr>\n",
       "  <th>Ljung-Box (L1) (Q):</th>     <td>0.00</td> <th>  Jarque-Bera (JB):  </th> <td>7.68</td> \n",
       "</tr>\n",
       "<tr>\n",
       "  <th>Prob(Q):</th>                <td>0.98</td> <th>  Prob(JB):          </th> <td>0.02</td> \n",
       "</tr>\n",
       "<tr>\n",
       "  <th>Heteroskedasticity (H):</th> <td>2.33</td> <th>  Skew:              </th> <td>-0.01</td>\n",
       "</tr>\n",
       "<tr>\n",
       "  <th>Prob(H) (two-sided):</th>    <td>0.01</td> <th>  Kurtosis:          </th> <td>4.19</td> \n",
       "</tr>\n",
       "</table><br/><br/>Warnings:<br/>[1] Covariance matrix calculated using the outer product of gradients (complex-step)."
      ],
      "text/plain": [
       "<class 'statsmodels.iolib.summary.Summary'>\n",
       "\"\"\"\n",
       "                                      SARIMAX Results                                      \n",
       "===========================================================================================\n",
       "Dep. Variable:             Thousands of Passengers   No. Observations:                  144\n",
       "Model:             SARIMAX(2, 1, 1)x(0, 1, [], 12)   Log Likelihood                -504.923\n",
       "Date:                             Thu, 24 Nov 2022   AIC                           1017.847\n",
       "Time:                                     17:03:23   BIC                           1029.348\n",
       "Sample:                                 01-01-1949   HQIC                          1022.520\n",
       "                                      - 12-01-1960                                         \n",
       "Covariance Type:                               opg                                         \n",
       "==============================================================================\n",
       "                 coef    std err          z      P>|z|      [0.025      0.975]\n",
       "------------------------------------------------------------------------------\n",
       "ar.L1          0.5960      0.085      6.987      0.000       0.429       0.763\n",
       "ar.L2          0.2143      0.091      2.344      0.019       0.035       0.394\n",
       "ma.L1         -0.9819      0.038    -25.601      0.000      -1.057      -0.907\n",
       "sigma2       129.3080     14.555      8.884      0.000     100.780     157.836\n",
       "===================================================================================\n",
       "Ljung-Box (L1) (Q):                   0.00   Jarque-Bera (JB):                 7.68\n",
       "Prob(Q):                              0.98   Prob(JB):                         0.02\n",
       "Heteroskedasticity (H):               2.33   Skew:                            -0.01\n",
       "Prob(H) (two-sided):                  0.01   Kurtosis:                         4.19\n",
       "===================================================================================\n",
       "\n",
       "Warnings:\n",
       "[1] Covariance matrix calculated using the outer product of gradients (complex-step).\n",
       "\"\"\""
      ]
     },
     "execution_count": 114,
     "metadata": {},
     "output_type": "execute_result"
    }
   ],
   "source": [
    "sarima_result.summary()"
   ]
  },
  {
   "cell_type": "code",
   "execution_count": null,
   "id": "4988a3f6",
   "metadata": {},
   "outputs": [],
   "source": []
  },
  {
   "cell_type": "code",
   "execution_count": 115,
   "id": "a60daee3",
   "metadata": {},
   "outputs": [],
   "source": [
    "# Forecasting:\n",
    "\n",
    "forecast_sarima = sarima_result.predict(start= len(df), end= len(df)+11, typ= \"levels\")"
   ]
  },
  {
   "cell_type": "code",
   "execution_count": 116,
   "id": "59352727",
   "metadata": {},
   "outputs": [
    {
     "data": {
      "text/plain": [
       "1961-01-01    445.634921\n",
       "1961-02-01    420.394986\n",
       "1961-03-01    449.198307\n",
       "1961-04-01    491.839934\n",
       "1961-05-01    503.394465\n",
       "1961-06-01    566.862442\n",
       "1961-07-01    654.260170\n",
       "1961-08-01    638.597486\n",
       "1961-09-01    540.883744\n",
       "1961-10-01    494.126627\n",
       "1961-11-01    423.332720\n",
       "1961-12-01    465.507591\n",
       "Freq: MS, Name: predicted_mean, dtype: float64"
      ]
     },
     "execution_count": 116,
     "metadata": {},
     "output_type": "execute_result"
    }
   ],
   "source": [
    "forecast_sarima"
   ]
  },
  {
   "cell_type": "code",
   "execution_count": 117,
   "id": "b151a578",
   "metadata": {},
   "outputs": [
    {
     "data": {
      "text/plain": [
       "<AxesSubplot:xlabel='Month'>"
      ]
     },
     "execution_count": 117,
     "metadata": {},
     "output_type": "execute_result"
    },
    {
     "data": {
      "image/png": "[encoded data removed]",
      "text/plain": [
       "<Figure size 864x432 with 1 Axes>"
      ]
     },
     "metadata": {
      "needs_background": "light"
     },
     "output_type": "display_data"
    }
   ],
   "source": [
    "# Plotting Historic and Forecast Data:\n",
    "\n",
    "df[\"Thousands of Passengers\"].plot(figsize= (12,6), legend= True)\n",
    "forecast_sarima.plot(label= \"Forecast\", legend= True)"
   ]
  },
  {
   "cell_type": "code",
   "execution_count": null,
   "id": "5432e157",
   "metadata": {},
   "outputs": [],
   "source": []
  },
  {
   "cell_type": "markdown",
   "id": "63868be9",
   "metadata": {},
   "source": [
    "### Comparing Predictions and Forecast of ARIMA and SARIMA:"
   ]
  },
  {
   "cell_type": "code",
   "execution_count": 118,
   "id": "05775a2a",
   "metadata": {},
   "outputs": [
    {
     "data": {
      "text/plain": [
       "<AxesSubplot:xlabel='Month'>"
      ]
     },
     "execution_count": 118,
     "metadata": {},
     "output_type": "execute_result"
    },
    {
     "data": {
      "image/png": "[encoded data removed]",
      "text/plain": [
       "<Figure size 1080x576 with 1 Axes>"
      ]
     },
     "metadata": {
      "needs_background": "light"
     },
     "output_type": "display_data"
    }
   ],
   "source": [
    "df[\"Thousands of Passengers\"].plot(figsize= (15,8), legend= True)\n",
    "\n",
    "arima_pred.plot(label= \"Arima Predictions\", legend= True)\n",
    "forecast_arima.plot(label= \"Arima Forecast\", legend= True)\n",
    "\n",
    "sarima_pred.plot(label= \"Sarima Predictions\", legend= True)\n",
    "forecast_sarima.plot(label= \"Sarima Forecast\", legend= True)"
   ]
  }
 ],
 "metadata": {
  "kernelspec": {
   "display_name": "Python 3 (ipykernel)",
   "language": "python",
   "name": "python3"
  },
  "language_info": {
   "codemirror_mode": {
    "name": "ipython",
    "version": 3
   },
   "file_extension": ".py",
   "mimetype": "text/x-python",
   "name": "python",
   "nbconvert_exporter": "python",
   "pygments_lexer": "ipython3",
   "version": "3.8.12"
  }
 },
 "nbformat": 4,
 "nbformat_minor": 5
}
