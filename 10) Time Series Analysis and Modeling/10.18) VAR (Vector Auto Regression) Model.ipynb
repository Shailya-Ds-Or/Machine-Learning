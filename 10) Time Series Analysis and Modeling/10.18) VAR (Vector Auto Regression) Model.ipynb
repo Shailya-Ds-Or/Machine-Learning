{
 "cells": [
  {
   "cell_type": "markdown",
   "id": "6d501d57",
   "metadata": {},
   "source": [
    "# VAR (Vector Auto Regression) Model"
   ]
  },
  {
   "cell_type": "markdown",
   "id": "554ed62c",
   "metadata": {},
   "source": [
    "## VAR(p)\n",
    "## Vector Autoregression\n",
    "In our previous SARIMAX example, the forecast variable $y_t$ was influenced by the exogenous predictor variable, but not vice versa. That is, the occurrence of a holiday affected restaurant patronage but not the other way around.\n",
    "\n",
    "However, there are some cases where variables affect each other. <a href='https://otexts.com/fpp2/VAR.html'>Forecasting: Principles and Practice</a> describes a case where changes in personal consumption expenditures $C_t$ were forecast based on changes in personal disposable income $I_t$.\n",
    "> However, in this case a bi-directional relationship may be more suitable: an increase in $I_t$ will lead to an increase in $C_t$ and vice versa.<br>An example of such a situation occurred in Australia during the Global Financial Crisis of 2008–2009. The Australian government issued stimulus packages that included cash payments in December 2008, just in time for Christmas spending. As a result, retailers reported strong sales and the economy was stimulated. Consequently, incomes increased.\n",
    "\n",
    "Aside from investigating multivariate time series, vector autoregression is used for\n",
    "* <a href='https://www.statsmodels.org/devel/vector_ar.html#impulse-response-analysis'>Impulse Response Analysis</a> which involves the response of one variable to a sudden but temporary change in another variable\n",
    "* <a href='https://www.statsmodels.org/devel/vector_ar.html#forecast-error-variance-decomposition-fevd'>Forecast Error Variance Decomposition (FEVD)</a> where the proportion of the forecast variance of one variable is attributed to the effect of other variables\n",
    "* <a href='https://www.statsmodels.org/devel/vector_ar.html#dynamic-vector-autoregressions'>Dynamic Vector Autoregressions</a> used for estimating a moving-window regression for the purposes of making forecasts throughout the data sample\n",
    "\n",
    "### Formulation\n",
    "We've seen that an autoregression AR(p) model is described by the following:\n",
    "\n",
    "&nbsp;&nbsp;&nbsp;&nbsp; $y_{t} = c + \\phi_{1}y_{t-1} + \\phi_{2}y_{t-2} + \\dots + \\phi_{p}y_{t-p} + \\varepsilon_{t}$\n",
    "\n",
    "where $c$ is a constant, $\\phi_{1}$ and $\\phi_{2}$ are lag coefficients up to order $p$, and $\\varepsilon_{t}$ is white noise."
   ]
  },
  {
   "cell_type": "code",
   "execution_count": null,
   "id": "6e1c1f67",
   "metadata": {},
   "outputs": [],
   "source": []
  },
  {
   "cell_type": "markdown",
   "id": "c9c6bd96",
   "metadata": {},
   "source": [
    "A $K$-dimensional VAR model of order $p$, denoted <strong>VAR(p)</strong>, considers each variable $y_K$ in the system.<br>\n",
    "​\n",
    "For example, The system of equations for a 2-dimensional VAR(1) model is:\n",
    "\n",
    "​\n",
    "&nbsp;&nbsp;&nbsp;&nbsp;$y_{1,t} = c_1 + \\phi_{11,1}y_{1,t-1} + \\phi_{12,1}y_{2,t-1} + \\varepsilon_{1,t}$<br>\n",
    "&nbsp;&nbsp;&nbsp;&nbsp;$y_{2,t} = c_2 + \\phi_{21,1}y_{1,t-1} + \\phi_{22,1}y_{2,t-1} + \\varepsilon_{2,t}$\n",
    "\n",
    "​\n",
    "where the coefficient $\\phi_{ii,l}$ captures the influence of the $l$th lag of variable $y_i$ on itself,<br>\n",
    "the coefficient $\\phi_{ij,l}$ captures the influence of the $l$th lag of variable $y_j$ on $y_i$,<br>\n",
    "and $\\varepsilon_{1,t}$ and $\\varepsilon_{2,t}$ are white noise processes that may be correlated.<br>\n",
    "\n",
    "​\n",
    "Carrying this further, the system of equations for a 2-dimensional VAR(3) model is:\n",
    "\n",
    "​\n",
    "&nbsp;&nbsp;&nbsp;&nbsp;$y_{1,t} = c_1 + \\phi_{11,1}y_{1,t-1} + \\phi_{12,1}y_{2,t-1} + \\phi_{11,2}y_{1,t-2} + \\phi_{12,2}y_{2,t-2} + \\phi_{11,3}y_{1,t-3} + \\phi_{12,3}y_{2,t-3} + \\varepsilon_{1,t}$<br>\n",
    "&nbsp;&nbsp;&nbsp;&nbsp;$y_{2,t} = c_2 + \\phi_{21,1}y_{1,t-1} + \\phi_{22,1}y_{2,t-1} + \\phi_{21,2}y_{1,t-2} + \\phi_{22,2}y_{2,t-2} + \\phi_{21,3}y_{1,t-3} + \\phi_{22,3}y_{2,t-3} + \\varepsilon_{2,t}$<br><br>\n",
    "\n",
    "​\n",
    "and the system of equations for a 3-dimensional VAR(2) model is:\n",
    "\n",
    "​\n",
    "&nbsp;&nbsp;&nbsp;&nbsp;$y_{1,t} = c_1 + \\phi_{11,1}y_{1,t-1} + \\phi_{12,1}y_{2,t-1} + \\phi_{13,1}y_{3,t-1} + \\phi_{11,2}y_{1,t-2} + \\phi_{12,2}y_{2,t-2} + \\phi_{13,2}y_{3,t-2} + \\varepsilon_{1,t}$<br>\n",
    "&nbsp;&nbsp;&nbsp;&nbsp;$y_{2,t} = c_2 + \\phi_{21,1}y_{1,t-1} + \\phi_{22,1}y_{2,t-1} + \\phi_{23,1}y_{3,t-1} + \\phi_{21,2}y_{1,t-2} + \\phi_{22,2}y_{2,t-2} + \\phi_{23,2}y_{3,t-2} + \\varepsilon_{2,t}$<br>\n",
    "&nbsp;&nbsp;&nbsp;&nbsp;$y_{3,t} = c_3 + \\phi_{31,1}y_{1,t-1} + \\phi_{32,1}y_{2,t-1} + \\phi_{33,1}y_{3,t-1} + \\phi_{31,2}y_{1,t-2} + \\phi_{32,2}y_{2,t-2} + \\phi_{33,2}y_{3,t-2} + \\varepsilon_{3,t}$<br><br>\n",
    "\n",
    "​\n",
    "The general steps involved in building a VAR model are:\n",
    "* Examine the data\n",
    "* Visualize the data\n",
    "* Test for stationarity\n",
    "* If necessary, transform the data to make it stationary\n",
    "* Select the appropriate order <em>p</em>\n",
    "* Instantiate the model and fit it to a training set\n",
    "* If necessary, invert the earlier transformation\n",
    "* Evaluate model predictions against a known test set\n",
    "* Forecast the future"
   ]
  },
  {
   "cell_type": "code",
   "execution_count": null,
   "id": "5590b040",
   "metadata": {},
   "outputs": [],
   "source": []
  },
  {
   "cell_type": "code",
   "execution_count": 148,
   "id": "67e08d19",
   "metadata": {},
   "outputs": [],
   "source": [
    "import numpy as np\n",
    "import pandas as pd\n",
    "\n",
    "from statsmodels.tsa.api import VAR\n",
    "from statsmodels.tsa.seasonal import seasonal_decompose\n",
    "from sklearn.metrics import mean_squared_error"
   ]
  },
  {
   "cell_type": "code",
   "execution_count": null,
   "id": "4124a847",
   "metadata": {},
   "outputs": [],
   "source": []
  },
  {
   "cell_type": "code",
   "execution_count": 149,
   "id": "5344c90c",
   "metadata": {},
   "outputs": [],
   "source": [
    "df = pd.read_csv(\"M2SLMoneyStock.csv\", index_col= 0, parse_dates= True)"
   ]
  },
  {
   "cell_type": "code",
   "execution_count": 150,
   "id": "2ee4744d",
   "metadata": {},
   "outputs": [],
   "source": [
    "df2 = pd.read_csv(\"PCEPersonalSpending.csv\", index_col= 0, parse_dates= True)"
   ]
  },
  {
   "cell_type": "code",
   "execution_count": 151,
   "id": "21b0f3d6",
   "metadata": {},
   "outputs": [
    {
     "data": {
      "text/html": [
       "<div>\n",
       "<style scoped>\n",
       "    .dataframe tbody tr th:only-of-type {\n",
       "        vertical-align: middle;\n",
       "    }\n",
       "\n",
       "    .dataframe tbody tr th {\n",
       "        vertical-align: top;\n",
       "    }\n",
       "\n",
       "    .dataframe thead th {\n",
       "        text-align: right;\n",
       "    }\n",
       "</style>\n",
       "<table border=\"1\" class=\"dataframe\">\n",
       "  <thead>\n",
       "    <tr style=\"text-align: right;\">\n",
       "      <th></th>\n",
       "      <th>Money</th>\n",
       "    </tr>\n",
       "    <tr>\n",
       "      <th>Date</th>\n",
       "      <th></th>\n",
       "    </tr>\n",
       "  </thead>\n",
       "  <tbody>\n",
       "    <tr>\n",
       "      <th>1995-01-01</th>\n",
       "      <td>3492.4</td>\n",
       "    </tr>\n",
       "    <tr>\n",
       "      <th>1995-02-01</th>\n",
       "      <td>3489.9</td>\n",
       "    </tr>\n",
       "    <tr>\n",
       "      <th>1995-03-01</th>\n",
       "      <td>3491.1</td>\n",
       "    </tr>\n",
       "    <tr>\n",
       "      <th>1995-04-01</th>\n",
       "      <td>3499.2</td>\n",
       "    </tr>\n",
       "    <tr>\n",
       "      <th>1995-05-01</th>\n",
       "      <td>3524.2</td>\n",
       "    </tr>\n",
       "  </tbody>\n",
       "</table>\n",
       "</div>"
      ],
      "text/plain": [
       "             Money\n",
       "Date              \n",
       "1995-01-01  3492.4\n",
       "1995-02-01  3489.9\n",
       "1995-03-01  3491.1\n",
       "1995-04-01  3499.2\n",
       "1995-05-01  3524.2"
      ]
     },
     "execution_count": 151,
     "metadata": {},
     "output_type": "execute_result"
    }
   ],
   "source": [
    "df.head()"
   ]
  },
  {
   "cell_type": "code",
   "execution_count": 152,
   "id": "0782b91f",
   "metadata": {},
   "outputs": [
    {
     "data": {
      "text/plain": [
       "DatetimeIndex(['1995-01-01', '1995-02-01', '1995-03-01', '1995-04-01',\n",
       "               '1995-05-01', '1995-06-01', '1995-07-01', '1995-08-01',\n",
       "               '1995-09-01', '1995-10-01',\n",
       "               ...\n",
       "               '2015-03-01', '2015-04-01', '2015-05-01', '2015-06-01',\n",
       "               '2015-07-01', '2015-08-01', '2015-09-01', '2015-10-01',\n",
       "               '2015-11-01', '2015-12-01'],\n",
       "              dtype='datetime64[ns]', name='Date', length=252, freq=None)"
      ]
     },
     "execution_count": 152,
     "metadata": {},
     "output_type": "execute_result"
    }
   ],
   "source": [
    "df.index"
   ]
  },
  {
   "cell_type": "code",
   "execution_count": 153,
   "id": "f9e0f623",
   "metadata": {},
   "outputs": [],
   "source": [
    "df.index.freq = \"MS\""
   ]
  },
  {
   "cell_type": "code",
   "execution_count": 154,
   "id": "1bf830cf",
   "metadata": {},
   "outputs": [
    {
     "data": {
      "text/plain": [
       "DatetimeIndex(['1995-01-01', '1995-02-01', '1995-03-01', '1995-04-01',\n",
       "               '1995-05-01', '1995-06-01', '1995-07-01', '1995-08-01',\n",
       "               '1995-09-01', '1995-10-01',\n",
       "               ...\n",
       "               '2015-03-01', '2015-04-01', '2015-05-01', '2015-06-01',\n",
       "               '2015-07-01', '2015-08-01', '2015-09-01', '2015-10-01',\n",
       "               '2015-11-01', '2015-12-01'],\n",
       "              dtype='datetime64[ns]', name='Date', length=252, freq='MS')"
      ]
     },
     "execution_count": 154,
     "metadata": {},
     "output_type": "execute_result"
    }
   ],
   "source": [
    "df.index"
   ]
  },
  {
   "cell_type": "code",
   "execution_count": null,
   "id": "a7a8c1f9",
   "metadata": {},
   "outputs": [],
   "source": []
  },
  {
   "cell_type": "code",
   "execution_count": 155,
   "id": "a85202c8",
   "metadata": {},
   "outputs": [
    {
     "data": {
      "text/html": [
       "<div>\n",
       "<style scoped>\n",
       "    .dataframe tbody tr th:only-of-type {\n",
       "        vertical-align: middle;\n",
       "    }\n",
       "\n",
       "    .dataframe tbody tr th {\n",
       "        vertical-align: top;\n",
       "    }\n",
       "\n",
       "    .dataframe thead th {\n",
       "        text-align: right;\n",
       "    }\n",
       "</style>\n",
       "<table border=\"1\" class=\"dataframe\">\n",
       "  <thead>\n",
       "    <tr style=\"text-align: right;\">\n",
       "      <th></th>\n",
       "      <th>Spending</th>\n",
       "    </tr>\n",
       "    <tr>\n",
       "      <th>Date</th>\n",
       "      <th></th>\n",
       "    </tr>\n",
       "  </thead>\n",
       "  <tbody>\n",
       "    <tr>\n",
       "      <th>1995-01-01</th>\n",
       "      <td>4851.2</td>\n",
       "    </tr>\n",
       "    <tr>\n",
       "      <th>1995-02-01</th>\n",
       "      <td>4850.8</td>\n",
       "    </tr>\n",
       "    <tr>\n",
       "      <th>1995-03-01</th>\n",
       "      <td>4885.4</td>\n",
       "    </tr>\n",
       "    <tr>\n",
       "      <th>1995-04-01</th>\n",
       "      <td>4890.2</td>\n",
       "    </tr>\n",
       "    <tr>\n",
       "      <th>1995-05-01</th>\n",
       "      <td>4933.1</td>\n",
       "    </tr>\n",
       "  </tbody>\n",
       "</table>\n",
       "</div>"
      ],
      "text/plain": [
       "            Spending\n",
       "Date                \n",
       "1995-01-01    4851.2\n",
       "1995-02-01    4850.8\n",
       "1995-03-01    4885.4\n",
       "1995-04-01    4890.2\n",
       "1995-05-01    4933.1"
      ]
     },
     "execution_count": 155,
     "metadata": {},
     "output_type": "execute_result"
    }
   ],
   "source": [
    "df2.head()"
   ]
  },
  {
   "cell_type": "code",
   "execution_count": 156,
   "id": "bb5139bf",
   "metadata": {},
   "outputs": [
    {
     "data": {
      "text/plain": [
       "DatetimeIndex(['1995-01-01', '1995-02-01', '1995-03-01', '1995-04-01',\n",
       "               '1995-05-01', '1995-06-01', '1995-07-01', '1995-08-01',\n",
       "               '1995-09-01', '1995-10-01',\n",
       "               ...\n",
       "               '2015-03-01', '2015-04-01', '2015-05-01', '2015-06-01',\n",
       "               '2015-07-01', '2015-08-01', '2015-09-01', '2015-10-01',\n",
       "               '2015-11-01', '2015-12-01'],\n",
       "              dtype='datetime64[ns]', name='Date', length=252, freq=None)"
      ]
     },
     "execution_count": 156,
     "metadata": {},
     "output_type": "execute_result"
    }
   ],
   "source": [
    "df2.index"
   ]
  },
  {
   "cell_type": "code",
   "execution_count": 157,
   "id": "ce65cd86",
   "metadata": {},
   "outputs": [],
   "source": [
    "df2.index.freq = \"MS\""
   ]
  },
  {
   "cell_type": "code",
   "execution_count": 158,
   "id": "9330aaf6",
   "metadata": {},
   "outputs": [
    {
     "data": {
      "text/plain": [
       "DatetimeIndex(['1995-01-01', '1995-02-01', '1995-03-01', '1995-04-01',\n",
       "               '1995-05-01', '1995-06-01', '1995-07-01', '1995-08-01',\n",
       "               '1995-09-01', '1995-10-01',\n",
       "               ...\n",
       "               '2015-03-01', '2015-04-01', '2015-05-01', '2015-06-01',\n",
       "               '2015-07-01', '2015-08-01', '2015-09-01', '2015-10-01',\n",
       "               '2015-11-01', '2015-12-01'],\n",
       "              dtype='datetime64[ns]', name='Date', length=252, freq='MS')"
      ]
     },
     "execution_count": 158,
     "metadata": {},
     "output_type": "execute_result"
    }
   ],
   "source": [
    "df2.index"
   ]
  },
  {
   "cell_type": "code",
   "execution_count": null,
   "id": "d7093190",
   "metadata": {},
   "outputs": [],
   "source": []
  },
  {
   "cell_type": "code",
   "execution_count": 159,
   "id": "e72e1623",
   "metadata": {},
   "outputs": [
    {
     "data": {
      "text/plain": [
       "(252, 1)"
      ]
     },
     "execution_count": 159,
     "metadata": {},
     "output_type": "execute_result"
    }
   ],
   "source": [
    "df.shape"
   ]
  },
  {
   "cell_type": "code",
   "execution_count": 160,
   "id": "1994439c",
   "metadata": {},
   "outputs": [
    {
     "data": {
      "text/plain": [
       "(252, 1)"
      ]
     },
     "execution_count": 160,
     "metadata": {},
     "output_type": "execute_result"
    }
   ],
   "source": [
    "df2.shape"
   ]
  },
  {
   "cell_type": "code",
   "execution_count": 161,
   "id": "cee1ed66",
   "metadata": {},
   "outputs": [],
   "source": [
    "# Joining Both Dataframes:\n",
    "\n",
    "df = df.join(df2)"
   ]
  },
  {
   "cell_type": "code",
   "execution_count": 162,
   "id": "5661cf29",
   "metadata": {},
   "outputs": [
    {
     "data": {
      "text/html": [
       "<div>\n",
       "<style scoped>\n",
       "    .dataframe tbody tr th:only-of-type {\n",
       "        vertical-align: middle;\n",
       "    }\n",
       "\n",
       "    .dataframe tbody tr th {\n",
       "        vertical-align: top;\n",
       "    }\n",
       "\n",
       "    .dataframe thead th {\n",
       "        text-align: right;\n",
       "    }\n",
       "</style>\n",
       "<table border=\"1\" class=\"dataframe\">\n",
       "  <thead>\n",
       "    <tr style=\"text-align: right;\">\n",
       "      <th></th>\n",
       "      <th>Money</th>\n",
       "      <th>Spending</th>\n",
       "    </tr>\n",
       "    <tr>\n",
       "      <th>Date</th>\n",
       "      <th></th>\n",
       "      <th></th>\n",
       "    </tr>\n",
       "  </thead>\n",
       "  <tbody>\n",
       "    <tr>\n",
       "      <th>1995-01-01</th>\n",
       "      <td>3492.4</td>\n",
       "      <td>4851.2</td>\n",
       "    </tr>\n",
       "    <tr>\n",
       "      <th>1995-02-01</th>\n",
       "      <td>3489.9</td>\n",
       "      <td>4850.8</td>\n",
       "    </tr>\n",
       "    <tr>\n",
       "      <th>1995-03-01</th>\n",
       "      <td>3491.1</td>\n",
       "      <td>4885.4</td>\n",
       "    </tr>\n",
       "    <tr>\n",
       "      <th>1995-04-01</th>\n",
       "      <td>3499.2</td>\n",
       "      <td>4890.2</td>\n",
       "    </tr>\n",
       "    <tr>\n",
       "      <th>1995-05-01</th>\n",
       "      <td>3524.2</td>\n",
       "      <td>4933.1</td>\n",
       "    </tr>\n",
       "  </tbody>\n",
       "</table>\n",
       "</div>"
      ],
      "text/plain": [
       "             Money  Spending\n",
       "Date                        \n",
       "1995-01-01  3492.4    4851.2\n",
       "1995-02-01  3489.9    4850.8\n",
       "1995-03-01  3491.1    4885.4\n",
       "1995-04-01  3499.2    4890.2\n",
       "1995-05-01  3524.2    4933.1"
      ]
     },
     "execution_count": 162,
     "metadata": {},
     "output_type": "execute_result"
    }
   ],
   "source": [
    "df.head()"
   ]
  },
  {
   "cell_type": "code",
   "execution_count": 163,
   "id": "f48541d3",
   "metadata": {},
   "outputs": [
    {
     "data": {
      "text/plain": [
       "(252, 2)"
      ]
     },
     "execution_count": 163,
     "metadata": {},
     "output_type": "execute_result"
    }
   ],
   "source": [
    "df.shape"
   ]
  },
  {
   "cell_type": "code",
   "execution_count": null,
   "id": "33e76fe2",
   "metadata": {},
   "outputs": [],
   "source": []
  },
  {
   "cell_type": "code",
   "execution_count": 164,
   "id": "c0217578",
   "metadata": {},
   "outputs": [
    {
     "data": {
      "text/plain": [
       "<AxesSubplot:xlabel='Date'>"
      ]
     },
     "execution_count": 164,
     "metadata": {},
     "output_type": "execute_result"
    },
    {
     "data": {
      "image/png": "[encoded data removed]",
      "text/plain": [
       "<Figure size 864x432 with 1 Axes>"
      ]
     },
     "metadata": {
      "needs_background": "light"
     },
     "output_type": "display_data"
    }
   ],
   "source": [
    "# Plotting Data:\n",
    "\n",
    "df.plot(figsize=(12,6))"
   ]
  },
  {
   "cell_type": "code",
   "execution_count": null,
   "id": "7c30206c",
   "metadata": {},
   "outputs": [],
   "source": []
  },
  {
   "cell_type": "markdown",
   "id": "4d8903cc",
   "metadata": {},
   "source": [
    "### ETS Decomposition:"
   ]
  },
  {
   "cell_type": "code",
   "execution_count": 165,
   "id": "81169187",
   "metadata": {},
   "outputs": [],
   "source": [
    "decomp_money = seasonal_decompose(df[\"Money\"], model= \"additive\")"
   ]
  },
  {
   "cell_type": "code",
   "execution_count": 166,
   "id": "81a33b7b",
   "metadata": {},
   "outputs": [
    {
     "data": {
      "image/png": "[encoded data removed]",
      "text/plain": [
       "<Figure size 432x288 with 4 Axes>"
      ]
     },
     "metadata": {
      "needs_background": "light"
     },
     "output_type": "display_data"
    }
   ],
   "source": [
    "decomp_money.plot();"
   ]
  },
  {
   "cell_type": "code",
   "execution_count": null,
   "id": "86d6403e",
   "metadata": {},
   "outputs": [],
   "source": []
  },
  {
   "cell_type": "code",
   "execution_count": 167,
   "id": "2059767c",
   "metadata": {},
   "outputs": [],
   "source": [
    "decomp_spend = seasonal_decompose(df[\"Spending\"], model= \"additive\")"
   ]
  },
  {
   "cell_type": "code",
   "execution_count": 168,
   "id": "d88fde89",
   "metadata": {},
   "outputs": [
    {
     "data": {
      "image/png": "[encoded data removed]",
      "text/plain": [
       "<Figure size 432x288 with 4 Axes>"
      ]
     },
     "metadata": {
      "needs_background": "light"
     },
     "output_type": "display_data"
    }
   ],
   "source": [
    "decomp_spend.plot();"
   ]
  },
  {
   "cell_type": "code",
   "execution_count": null,
   "id": "f2aa1f4b",
   "metadata": {},
   "outputs": [],
   "source": []
  },
  {
   "cell_type": "markdown",
   "id": "6bb8b82e",
   "metadata": {},
   "source": [
    "### Stationarity Check:"
   ]
  },
  {
   "cell_type": "code",
   "execution_count": 169,
   "id": "f761a763",
   "metadata": {},
   "outputs": [],
   "source": [
    "from statsmodels.tsa.stattools import adfuller\n",
    "\n",
    "def dickey_fuller_result(series):\n",
    "    \"\"\"\n",
    "    Function To Perform Augmenter Dickey-Fuller Test and Display Results.\n",
    "    \"\"\"\n",
    "    \n",
    "    result= adfuller(series.dropna())\n",
    "    \n",
    "    labels = [\"Test Statistics\", \"p-Value\", \"No. of Lags\", \"No. of Observations\"]\n",
    "    \n",
    "    output = pd.Series(result[0:4], index= labels)\n",
    "    \n",
    "    for key,value in result[4].items():\n",
    "        output[f\"Critical Value {key}\"] = value\n",
    "        \n",
    "    print(output)\n",
    "    \n",
    "    print(\"\\n\")\n",
    "    \n",
    "    if result[1] <= 0.05:\n",
    "        print(\"Strong evidence against the null hypothesis\")\n",
    "        print(\"Reject the null hypothesis\")\n",
    "        print(\"Data has no unit root and is stationary\")\n",
    "    else:\n",
    "        print(\"Weak evidence against the null hypothesis\")\n",
    "        print(\"Fail to reject the null hypothesis\")\n",
    "        print(\"Data has a unit root and is non-stationary\")"
   ]
  },
  {
   "cell_type": "code",
   "execution_count": null,
   "id": "57bb3d50",
   "metadata": {},
   "outputs": [],
   "source": []
  },
  {
   "cell_type": "code",
   "execution_count": 170,
   "id": "dc865d4c",
   "metadata": {},
   "outputs": [
    {
     "name": "stdout",
     "output_type": "stream",
     "text": [
      "Test Statistics          4.239022\n",
      "p-Value                  1.000000\n",
      "No. of Lags              4.000000\n",
      "No. of Observations    247.000000\n",
      "Critical Value 1%       -3.457105\n",
      "Critical Value 5%       -2.873314\n",
      "Critical Value 10%      -2.573044\n",
      "dtype: float64\n",
      "\n",
      "\n",
      "Weak evidence against the null hypothesis\n",
      "Fail to reject the null hypothesis\n",
      "Data has a unit root and is non-stationary\n"
     ]
    }
   ],
   "source": [
    "dickey_fuller_result(df[\"Money\"])"
   ]
  },
  {
   "cell_type": "code",
   "execution_count": 171,
   "id": "23016d1d",
   "metadata": {},
   "outputs": [
    {
     "name": "stdout",
     "output_type": "stream",
     "text": [
      "Test Statistics          0.149796\n",
      "p-Value                  0.969301\n",
      "No. of Lags              3.000000\n",
      "No. of Observations    248.000000\n",
      "Critical Value 1%       -3.456996\n",
      "Critical Value 5%       -2.873266\n",
      "Critical Value 10%      -2.573019\n",
      "dtype: float64\n",
      "\n",
      "\n",
      "Weak evidence against the null hypothesis\n",
      "Fail to reject the null hypothesis\n",
      "Data has a unit root and is non-stationary\n"
     ]
    }
   ],
   "source": [
    "dickey_fuller_result(df[\"Spending\"])"
   ]
  },
  {
   "cell_type": "code",
   "execution_count": null,
   "id": "1c911e11",
   "metadata": {},
   "outputs": [],
   "source": []
  },
  {
   "cell_type": "code",
   "execution_count": 172,
   "id": "d809e60d",
   "metadata": {},
   "outputs": [],
   "source": [
    "# Applying First Order Transformation:\n",
    "\n",
    "df_transformed = df.diff()"
   ]
  },
  {
   "cell_type": "code",
   "execution_count": 173,
   "id": "cd57a92b",
   "metadata": {},
   "outputs": [
    {
     "data": {
      "text/html": [
       "<div>\n",
       "<style scoped>\n",
       "    .dataframe tbody tr th:only-of-type {\n",
       "        vertical-align: middle;\n",
       "    }\n",
       "\n",
       "    .dataframe tbody tr th {\n",
       "        vertical-align: top;\n",
       "    }\n",
       "\n",
       "    .dataframe thead th {\n",
       "        text-align: right;\n",
       "    }\n",
       "</style>\n",
       "<table border=\"1\" class=\"dataframe\">\n",
       "  <thead>\n",
       "    <tr style=\"text-align: right;\">\n",
       "      <th></th>\n",
       "      <th>Money</th>\n",
       "      <th>Spending</th>\n",
       "    </tr>\n",
       "    <tr>\n",
       "      <th>Date</th>\n",
       "      <th></th>\n",
       "      <th></th>\n",
       "    </tr>\n",
       "  </thead>\n",
       "  <tbody>\n",
       "    <tr>\n",
       "      <th>1995-01-01</th>\n",
       "      <td>NaN</td>\n",
       "      <td>NaN</td>\n",
       "    </tr>\n",
       "    <tr>\n",
       "      <th>1995-02-01</th>\n",
       "      <td>-2.5</td>\n",
       "      <td>-0.4</td>\n",
       "    </tr>\n",
       "    <tr>\n",
       "      <th>1995-03-01</th>\n",
       "      <td>1.2</td>\n",
       "      <td>34.6</td>\n",
       "    </tr>\n",
       "    <tr>\n",
       "      <th>1995-04-01</th>\n",
       "      <td>8.1</td>\n",
       "      <td>4.8</td>\n",
       "    </tr>\n",
       "    <tr>\n",
       "      <th>1995-05-01</th>\n",
       "      <td>25.0</td>\n",
       "      <td>42.9</td>\n",
       "    </tr>\n",
       "  </tbody>\n",
       "</table>\n",
       "</div>"
      ],
      "text/plain": [
       "            Money  Spending\n",
       "Date                       \n",
       "1995-01-01    NaN       NaN\n",
       "1995-02-01   -2.5      -0.4\n",
       "1995-03-01    1.2      34.6\n",
       "1995-04-01    8.1       4.8\n",
       "1995-05-01   25.0      42.9"
      ]
     },
     "execution_count": 173,
     "metadata": {},
     "output_type": "execute_result"
    }
   ],
   "source": [
    "df_transformed.head()"
   ]
  },
  {
   "cell_type": "code",
   "execution_count": 174,
   "id": "f5666714",
   "metadata": {},
   "outputs": [
    {
     "name": "stdout",
     "output_type": "stream",
     "text": [
      "Test Statistics         -2.057404\n",
      "p-Value                  0.261984\n",
      "No. of Lags             15.000000\n",
      "No. of Observations    235.000000\n",
      "Critical Value 1%       -3.458487\n",
      "Critical Value 5%       -2.873919\n",
      "Critical Value 10%      -2.573367\n",
      "dtype: float64\n",
      "\n",
      "\n",
      "Weak evidence against the null hypothesis\n",
      "Fail to reject the null hypothesis\n",
      "Data has a unit root and is non-stationary\n"
     ]
    }
   ],
   "source": [
    "dickey_fuller_result(df_transformed[\"Money\"])"
   ]
  },
  {
   "cell_type": "code",
   "execution_count": 175,
   "id": "b0c781db",
   "metadata": {},
   "outputs": [
    {
     "name": "stdout",
     "output_type": "stream",
     "text": [
      "Test Statistics       -7.226974e+00\n",
      "p-Value                2.041027e-10\n",
      "No. of Lags            2.000000e+00\n",
      "No. of Observations    2.480000e+02\n",
      "Critical Value 1%     -3.456996e+00\n",
      "Critical Value 5%     -2.873266e+00\n",
      "Critical Value 10%    -2.573019e+00\n",
      "dtype: float64\n",
      "\n",
      "\n",
      "Strong evidence against the null hypothesis\n",
      "Reject the null hypothesis\n",
      "Data has no unit root and is stationary\n"
     ]
    }
   ],
   "source": [
    "dickey_fuller_result(df_transformed[\"Spending\"])"
   ]
  },
  {
   "cell_type": "code",
   "execution_count": null,
   "id": "fb899316",
   "metadata": {},
   "outputs": [],
   "source": []
  },
  {
   "cell_type": "code",
   "execution_count": 176,
   "id": "bfeed57b",
   "metadata": {},
   "outputs": [],
   "source": [
    "# As \"Money\" is still not Stationary after First Order Differencin, We will apply Second Order Differencing on Both Series."
   ]
  },
  {
   "cell_type": "code",
   "execution_count": 177,
   "id": "1adda7b0",
   "metadata": {},
   "outputs": [],
   "source": [
    "df_transformed = df_transformed.diff()"
   ]
  },
  {
   "cell_type": "code",
   "execution_count": 178,
   "id": "c8d06141",
   "metadata": {},
   "outputs": [
    {
     "data": {
      "text/html": [
       "<div>\n",
       "<style scoped>\n",
       "    .dataframe tbody tr th:only-of-type {\n",
       "        vertical-align: middle;\n",
       "    }\n",
       "\n",
       "    .dataframe tbody tr th {\n",
       "        vertical-align: top;\n",
       "    }\n",
       "\n",
       "    .dataframe thead th {\n",
       "        text-align: right;\n",
       "    }\n",
       "</style>\n",
       "<table border=\"1\" class=\"dataframe\">\n",
       "  <thead>\n",
       "    <tr style=\"text-align: right;\">\n",
       "      <th></th>\n",
       "      <th>Money</th>\n",
       "      <th>Spending</th>\n",
       "    </tr>\n",
       "    <tr>\n",
       "      <th>Date</th>\n",
       "      <th></th>\n",
       "      <th></th>\n",
       "    </tr>\n",
       "  </thead>\n",
       "  <tbody>\n",
       "    <tr>\n",
       "      <th>1995-01-01</th>\n",
       "      <td>NaN</td>\n",
       "      <td>NaN</td>\n",
       "    </tr>\n",
       "    <tr>\n",
       "      <th>1995-02-01</th>\n",
       "      <td>NaN</td>\n",
       "      <td>NaN</td>\n",
       "    </tr>\n",
       "    <tr>\n",
       "      <th>1995-03-01</th>\n",
       "      <td>3.7</td>\n",
       "      <td>35.0</td>\n",
       "    </tr>\n",
       "    <tr>\n",
       "      <th>1995-04-01</th>\n",
       "      <td>6.9</td>\n",
       "      <td>-29.8</td>\n",
       "    </tr>\n",
       "    <tr>\n",
       "      <th>1995-05-01</th>\n",
       "      <td>16.9</td>\n",
       "      <td>38.1</td>\n",
       "    </tr>\n",
       "  </tbody>\n",
       "</table>\n",
       "</div>"
      ],
      "text/plain": [
       "            Money  Spending\n",
       "Date                       \n",
       "1995-01-01    NaN       NaN\n",
       "1995-02-01    NaN       NaN\n",
       "1995-03-01    3.7      35.0\n",
       "1995-04-01    6.9     -29.8\n",
       "1995-05-01   16.9      38.1"
      ]
     },
     "execution_count": 178,
     "metadata": {},
     "output_type": "execute_result"
    }
   ],
   "source": [
    "df_transformed.head()"
   ]
  },
  {
   "cell_type": "code",
   "execution_count": 179,
   "id": "7afff1c0",
   "metadata": {},
   "outputs": [
    {
     "name": "stdout",
     "output_type": "stream",
     "text": [
      "Test Statistics       -7.077471e+00\n",
      "p-Value                4.760675e-10\n",
      "No. of Lags            1.400000e+01\n",
      "No. of Observations    2.350000e+02\n",
      "Critical Value 1%     -3.458487e+00\n",
      "Critical Value 5%     -2.873919e+00\n",
      "Critical Value 10%    -2.573367e+00\n",
      "dtype: float64\n",
      "\n",
      "\n",
      "Strong evidence against the null hypothesis\n",
      "Reject the null hypothesis\n",
      "Data has no unit root and is stationary\n"
     ]
    }
   ],
   "source": [
    "dickey_fuller_result(df_transformed[\"Money\"])"
   ]
  },
  {
   "cell_type": "code",
   "execution_count": 180,
   "id": "8504faee",
   "metadata": {},
   "outputs": [
    {
     "name": "stdout",
     "output_type": "stream",
     "text": [
      "Test Statistics       -8.760145e+00\n",
      "p-Value                2.687900e-14\n",
      "No. of Lags            8.000000e+00\n",
      "No. of Observations    2.410000e+02\n",
      "Critical Value 1%     -3.457779e+00\n",
      "Critical Value 5%     -2.873609e+00\n",
      "Critical Value 10%    -2.573202e+00\n",
      "dtype: float64\n",
      "\n",
      "\n",
      "Strong evidence against the null hypothesis\n",
      "Reject the null hypothesis\n",
      "Data has no unit root and is stationary\n"
     ]
    }
   ],
   "source": [
    "dickey_fuller_result(df_transformed[\"Spending\"])"
   ]
  },
  {
   "cell_type": "code",
   "execution_count": 181,
   "id": "d49aa925",
   "metadata": {},
   "outputs": [],
   "source": [
    "# Both Series are now Stationary."
   ]
  },
  {
   "cell_type": "code",
   "execution_count": 182,
   "id": "b3e2fb81",
   "metadata": {},
   "outputs": [],
   "source": [
    "df_transformed = df_transformed.dropna()"
   ]
  },
  {
   "cell_type": "code",
   "execution_count": 183,
   "id": "4231d30b",
   "metadata": {},
   "outputs": [
    {
     "data": {
      "text/html": [
       "<div>\n",
       "<style scoped>\n",
       "    .dataframe tbody tr th:only-of-type {\n",
       "        vertical-align: middle;\n",
       "    }\n",
       "\n",
       "    .dataframe tbody tr th {\n",
       "        vertical-align: top;\n",
       "    }\n",
       "\n",
       "    .dataframe thead th {\n",
       "        text-align: right;\n",
       "    }\n",
       "</style>\n",
       "<table border=\"1\" class=\"dataframe\">\n",
       "  <thead>\n",
       "    <tr style=\"text-align: right;\">\n",
       "      <th></th>\n",
       "      <th>Money</th>\n",
       "      <th>Spending</th>\n",
       "    </tr>\n",
       "    <tr>\n",
       "      <th>Date</th>\n",
       "      <th></th>\n",
       "      <th></th>\n",
       "    </tr>\n",
       "  </thead>\n",
       "  <tbody>\n",
       "    <tr>\n",
       "      <th>1995-03-01</th>\n",
       "      <td>3.7</td>\n",
       "      <td>35.0</td>\n",
       "    </tr>\n",
       "    <tr>\n",
       "      <th>1995-04-01</th>\n",
       "      <td>6.9</td>\n",
       "      <td>-29.8</td>\n",
       "    </tr>\n",
       "    <tr>\n",
       "      <th>1995-05-01</th>\n",
       "      <td>16.9</td>\n",
       "      <td>38.1</td>\n",
       "    </tr>\n",
       "    <tr>\n",
       "      <th>1995-06-01</th>\n",
       "      <td>-0.3</td>\n",
       "      <td>1.5</td>\n",
       "    </tr>\n",
       "    <tr>\n",
       "      <th>1995-07-01</th>\n",
       "      <td>-6.2</td>\n",
       "      <td>-51.7</td>\n",
       "    </tr>\n",
       "  </tbody>\n",
       "</table>\n",
       "</div>"
      ],
      "text/plain": [
       "            Money  Spending\n",
       "Date                       \n",
       "1995-03-01    3.7      35.0\n",
       "1995-04-01    6.9     -29.8\n",
       "1995-05-01   16.9      38.1\n",
       "1995-06-01   -0.3       1.5\n",
       "1995-07-01   -6.2     -51.7"
      ]
     },
     "execution_count": 183,
     "metadata": {},
     "output_type": "execute_result"
    }
   ],
   "source": [
    "df_transformed.head()"
   ]
  },
  {
   "cell_type": "code",
   "execution_count": 184,
   "id": "29198f43",
   "metadata": {},
   "outputs": [
    {
     "data": {
      "text/plain": [
       "(250, 2)"
      ]
     },
     "execution_count": 184,
     "metadata": {},
     "output_type": "execute_result"
    }
   ],
   "source": [
    "df_transformed.shape"
   ]
  },
  {
   "cell_type": "code",
   "execution_count": null,
   "id": "067cf4d9",
   "metadata": {},
   "outputs": [],
   "source": []
  },
  {
   "cell_type": "markdown",
   "id": "6be3c640",
   "metadata": {},
   "source": [
    "### Train Test Split:"
   ]
  },
  {
   "cell_type": "code",
   "execution_count": 185,
   "id": "b752b146",
   "metadata": {},
   "outputs": [],
   "source": [
    "train_data = df_transformed[0:-12]"
   ]
  },
  {
   "cell_type": "code",
   "execution_count": 186,
   "id": "e831be13",
   "metadata": {},
   "outputs": [],
   "source": [
    "test_data = df_transformed[-12:]"
   ]
  },
  {
   "cell_type": "code",
   "execution_count": 187,
   "id": "bc9b15b3",
   "metadata": {},
   "outputs": [
    {
     "data": {
      "text/plain": [
       "(238, 2)"
      ]
     },
     "execution_count": 187,
     "metadata": {},
     "output_type": "execute_result"
    }
   ],
   "source": [
    "train_data.shape"
   ]
  },
  {
   "cell_type": "code",
   "execution_count": 188,
   "id": "bc805abb",
   "metadata": {},
   "outputs": [
    {
     "data": {
      "text/plain": [
       "(12, 2)"
      ]
     },
     "execution_count": 188,
     "metadata": {},
     "output_type": "execute_result"
    }
   ],
   "source": [
    "test_data.shape"
   ]
  },
  {
   "cell_type": "code",
   "execution_count": null,
   "id": "31ec98f4",
   "metadata": {},
   "outputs": [],
   "source": []
  },
  {
   "cell_type": "markdown",
   "id": "51f4ada6",
   "metadata": {},
   "source": [
    "### Order Selection for VAR Model:\n",
    "\n",
    "We'll fit a series of models using the first seven p-values, and base our final selection on the model that provides the lowest AIC and BIC scores."
   ]
  },
  {
   "cell_type": "code",
   "execution_count": 189,
   "id": "553c3e22",
   "metadata": {},
   "outputs": [],
   "source": [
    "model = VAR(train_data)"
   ]
  },
  {
   "cell_type": "code",
   "execution_count": 190,
   "id": "510af8fb",
   "metadata": {},
   "outputs": [
    {
     "name": "stdout",
     "output_type": "stream",
     "text": [
      "Order: 1\n",
      "AIC: 14.178610495220896\n",
      "BIC: 14.266409486135709\n",
      "\n",
      "Order: 2\n",
      "AIC: 13.955189367163705\n",
      "BIC: 14.101961901274958\n",
      "\n",
      "Order: 3\n",
      "AIC: 13.849518291541038\n",
      "BIC: 14.055621258341116\n",
      "\n",
      "Order: 4\n",
      "AIC: 13.827950574458283\n",
      "BIC: 14.093744506408877\n",
      "\n",
      "Order: 5\n",
      "AIC: 13.78730034460964\n",
      "BIC: 14.113149468980652\n",
      "\n",
      "Order: 6\n",
      "AIC: 13.799076756885809\n",
      "BIC: 14.185349048538068\n",
      "\n",
      "Order: 7\n",
      "AIC: 13.797638727913972\n",
      "BIC: 14.244705963046671\n",
      "\n",
      "Order: 8\n",
      "AIC: 13.747200843672085\n",
      "BIC: 14.255438654556384\n",
      "\n",
      "Order: 9\n",
      "AIC: 13.768071682657098\n",
      "BIC: 14.337859613377889\n",
      "\n",
      "Order: 10\n",
      "AIC: 13.806012266239211\n",
      "BIC: 14.43773382946766\n",
      "\n"
     ]
    }
   ],
   "source": [
    "for lag in range(1,11):\n",
    "    \n",
    "    result= model.fit(maxlags= lag)\n",
    "    print(f\"Order: {lag}\")\n",
    "    print(f\"AIC: {result.aic}\")\n",
    "    print(f\"BIC: {result.bic}\\n\")"
   ]
  },
  {
   "cell_type": "code",
   "execution_count": 191,
   "id": "427ee578",
   "metadata": {},
   "outputs": [],
   "source": [
    "# Order = 5 Seems Best Here."
   ]
  },
  {
   "cell_type": "code",
   "execution_count": null,
   "id": "419cddd4",
   "metadata": {},
   "outputs": [],
   "source": []
  },
  {
   "cell_type": "markdown",
   "id": "bb63cca9",
   "metadata": {},
   "source": [
    "### VAR(5) Model:"
   ]
  },
  {
   "cell_type": "code",
   "execution_count": 192,
   "id": "7084d29a",
   "metadata": {},
   "outputs": [],
   "source": [
    "model = VAR(train_data)"
   ]
  },
  {
   "cell_type": "code",
   "execution_count": 193,
   "id": "3dd8d485",
   "metadata": {},
   "outputs": [],
   "source": [
    "result = model.fit(maxlags= 5)"
   ]
  },
  {
   "cell_type": "code",
   "execution_count": 194,
   "id": "36748338",
   "metadata": {},
   "outputs": [
    {
     "data": {
      "text/plain": [
       "  Summary of Regression Results   \n",
       "==================================\n",
       "Model:                         VAR\n",
       "Method:                        OLS\n",
       "Date:           Thu, 24, Nov, 2022\n",
       "Time:                     13:59:50\n",
       "--------------------------------------------------------------------\n",
       "No. of Equations:         2.00000    BIC:                    14.1131\n",
       "Nobs:                     233.000    HQIC:                   13.9187\n",
       "Log likelihood:          -2245.45    FPE:                    972321.\n",
       "AIC:                      13.7873    Det(Omega_mle):         886628.\n",
       "--------------------------------------------------------------------\n",
       "Results for equation Money\n",
       "==============================================================================\n",
       "                 coefficient       std. error           t-stat            prob\n",
       "------------------------------------------------------------------------------\n",
       "const               0.516683         1.782238            0.290           0.772\n",
       "L1.Money           -0.646232         0.068177           -9.479           0.000\n",
       "L1.Spending        -0.107411         0.051388           -2.090           0.037\n",
       "L2.Money           -0.497482         0.077749           -6.399           0.000\n",
       "L2.Spending        -0.192202         0.068613           -2.801           0.005\n",
       "L3.Money           -0.234442         0.081004           -2.894           0.004\n",
       "L3.Spending        -0.178099         0.074288           -2.397           0.017\n",
       "L4.Money           -0.295531         0.075294           -3.925           0.000\n",
       "L4.Spending        -0.035564         0.069664           -0.511           0.610\n",
       "L5.Money           -0.162399         0.066700           -2.435           0.015\n",
       "L5.Spending        -0.058449         0.051357           -1.138           0.255\n",
       "==============================================================================\n",
       "\n",
       "Results for equation Spending\n",
       "==============================================================================\n",
       "                 coefficient       std. error           t-stat            prob\n",
       "------------------------------------------------------------------------------\n",
       "const               0.203469         2.355446            0.086           0.931\n",
       "L1.Money            0.188105         0.090104            2.088           0.037\n",
       "L1.Spending        -0.878970         0.067916          -12.942           0.000\n",
       "L2.Money            0.053017         0.102755            0.516           0.606\n",
       "L2.Spending        -0.625313         0.090681           -6.896           0.000\n",
       "L3.Money           -0.022172         0.107057           -0.207           0.836\n",
       "L3.Spending        -0.389041         0.098180           -3.963           0.000\n",
       "L4.Money           -0.170456         0.099510           -1.713           0.087\n",
       "L4.Spending        -0.245435         0.092069           -2.666           0.008\n",
       "L5.Money           -0.083165         0.088153           -0.943           0.345\n",
       "L5.Spending        -0.181699         0.067874           -2.677           0.007\n",
       "==============================================================================\n",
       "\n",
       "Correlation matrix of residuals\n",
       "               Money  Spending\n",
       "Money       1.000000 -0.267934\n",
       "Spending   -0.267934  1.000000\n",
       "\n"
      ]
     },
     "execution_count": 194,
     "metadata": {},
     "output_type": "execute_result"
    }
   ],
   "source": [
    "result.summary()"
   ]
  },
  {
   "cell_type": "code",
   "execution_count": null,
   "id": "20b956ef",
   "metadata": {},
   "outputs": [],
   "source": []
  },
  {
   "cell_type": "markdown",
   "id": "1b5f0012",
   "metadata": {},
   "source": [
    "### Prediction:\n",
    "\n",
    "The VAR <tt>.forecast()</tt> function requires that we pass in a lag order number of previous observations as well. Unfortunately this forecast tool doesn't provide a DateTime index - we'll have to do that manually."
   ]
  },
  {
   "cell_type": "code",
   "execution_count": 195,
   "id": "8a9d9ef1",
   "metadata": {},
   "outputs": [
    {
     "data": {
      "text/plain": [
       "array([[ 3.700e+00,  3.500e+01],\n",
       "       [ 6.900e+00, -2.980e+01],\n",
       "       [ 1.690e+01,  3.810e+01],\n",
       "       [-3.000e-01,  1.500e+00],\n",
       "       [-6.200e+00, -5.170e+01],\n",
       "       [ 3.100e+00,  4.240e+01],\n",
       "       [-8.500e+00, -1.990e+01],\n",
       "       [-1.800e+00, -2.180e+01],\n",
       "       [-4.800e+00,  4.830e+01],\n",
       "       [ 3.100e+00,  2.000e-01],\n",
       "       [ 8.800e+00, -5.370e+01],\n",
       "       [-4.400e+00,  5.890e+01],\n",
       "       [ 1.110e+01, -6.600e+00],\n",
       "       [-1.430e+01, -5.800e+00],\n",
       "       [ 1.100e+00, -1.890e+01],\n",
       "       [ 1.100e+00, -9.800e+00],\n",
       "       [ 1.600e+00,  1.610e+01],\n",
       "       [-7.600e+00,  1.000e+00],\n",
       "       [ 2.400e+00, -1.500e+00],\n",
       "       [ 7.900e+00,  1.030e+01],\n",
       "       [ 1.900e+00, -9.200e+00],\n",
       "       [ 1.100e+00,  4.700e+00],\n",
       "       [-6.000e+00,  5.100e+00],\n",
       "       [-2.700e+00, -9.600e+00],\n",
       "       [ 3.300e+00, -2.700e+00],\n",
       "       [ 1.200e+00, -1.510e+01],\n",
       "       [-4.300e+00, -4.200e+00],\n",
       "       [ 5.000e+00,  3.310e+01],\n",
       "       [ 1.100e+00,  2.060e+01],\n",
       "       [ 1.570e+01, -1.640e+01],\n",
       "       [-1.790e+01, -2.350e+01],\n",
       "       [ 3.400e+00,  2.130e+01],\n",
       "       [ 3.400e+00, -1.260e+01],\n",
       "       [-4.300e+00,  7.600e+00],\n",
       "       [ 5.100e+00, -3.320e+01],\n",
       "       [ 9.400e+00,  3.610e+01],\n",
       "       [-7.100e+00, -7.400e+00],\n",
       "       [ 1.000e-01,  1.130e+01],\n",
       "       [-1.800e+00,  1.200e+01],\n",
       "       [-4.000e+00, -1.600e+01],\n",
       "       [-2.000e-01, -1.550e+01],\n",
       "       [ 5.300e+00,  1.670e+01],\n",
       "       [ 1.390e+01,  5.600e+00],\n",
       "       [ 1.200e+00, -7.400e+00],\n",
       "       [-1.100e+00, -1.660e+01],\n",
       "       [-1.010e+01,  3.850e+01],\n",
       "       [-1.500e+00, -5.270e+01],\n",
       "       [-4.700e+00,  2.650e+01],\n",
       "       [-1.580e+01,  2.200e+00],\n",
       "       [ 2.170e+01,  3.220e+01],\n",
       "       [-4.400e+00, -3.380e+01],\n",
       "       [-2.400e+00, -1.200e+00],\n",
       "       [ 5.500e+00, -8.000e-01],\n",
       "       [-1.010e+01,  1.750e+01],\n",
       "       [-1.100e+00,  7.300e+00],\n",
       "       [ 7.600e+00, -2.900e+01],\n",
       "       [-4.700e+00,  1.250e+01],\n",
       "       [ 8.500e+00,  6.500e+01],\n",
       "       [ 7.000e-01, -1.042e+02],\n",
       "       [-1.490e+01,  8.780e+01],\n",
       "       [ 1.750e+01, -1.830e+01],\n",
       "       [ 2.500e+01, -8.080e+01],\n",
       "       [-6.830e+01,  5.120e+01],\n",
       "       [ 3.030e+01, -2.000e-01],\n",
       "       [-3.000e-01, -1.610e+01],\n",
       "       [ 1.070e+01,  1.480e+01],\n",
       "       [ 7.400e+00,  4.880e+01],\n",
       "       [-1.960e+01, -7.850e+01],\n",
       "       [-5.100e+00,  8.900e+00],\n",
       "       [ 3.380e+01,  2.910e+01],\n",
       "       [ 5.900e+00, -1.200e+01],\n",
       "       [-1.240e+01, -1.250e+01],\n",
       "       [ 1.970e+01, -2.670e+01],\n",
       "       [ 6.000e+00,  2.120e+01],\n",
       "       [-6.710e+01,  3.260e+01],\n",
       "       [ 4.350e+01, -3.230e+01],\n",
       "       [-1.040e+01, -2.100e+00],\n",
       "       [ 4.000e+00,  2.520e+01],\n",
       "       [ 7.670e+01, -1.328e+02],\n",
       "       [-1.241e+02,  2.917e+02],\n",
       "       [ 5.700e+01, -2.361e+02],\n",
       "       [ 9.600e+00,  2.030e+01],\n",
       "       [-3.260e+01,  4.680e+01],\n",
       "       [ 9.000e+00,  1.740e+01],\n",
       "       [-1.750e+01, -2.510e+01],\n",
       "       [-1.200e+01,  4.930e+01],\n",
       "       [ 2.560e+01, -9.090e+01],\n",
       "       [-6.000e-01,  5.820e+01],\n",
       "       [ 1.760e+01,  2.670e+01],\n",
       "       [-1.000e-01, -4.110e+01],\n",
       "       [-1.800e+01, -3.160e+01],\n",
       "       [ 2.000e+01,  5.020e+01],\n",
       "       [ 5.500e+00, -1.070e+01],\n",
       "       [-2.880e+01,  2.410e+01],\n",
       "       [ 1.170e+01, -3.280e+01],\n",
       "       [ 3.400e+00, -1.750e+01],\n",
       "       [-1.570e+01,  5.970e+01],\n",
       "       [ 1.690e+01, -3.990e+01],\n",
       "       [ 2.280e+01, -1.550e+01],\n",
       "       [-2.370e+01,  4.340e+01],\n",
       "       [ 1.010e+01,  9.100e+00],\n",
       "       [ 1.140e+01,  3.670e+01],\n",
       "       [-8.630e+01, -9.580e+01],\n",
       "       [ 1.930e+01,  1.020e+01],\n",
       "       [ 1.400e+01,  4.320e+01],\n",
       "       [-7.000e+00, -2.430e+01],\n",
       "       [ 1.040e+01,  2.860e+01],\n",
       "       [ 3.060e+01, -2.580e+01],\n",
       "       [-3.300e+00,  2.380e+01],\n",
       "       [ 5.300e+00, -4.360e+01],\n",
       "       [ 3.580e+01,  6.200e+01],\n",
       "       [-7.460e+01, -9.060e+01],\n",
       "       [ 1.140e+01,  8.770e+01],\n",
       "       [ 1.260e+01, -3.750e+01],\n",
       "       [ 8.400e+00,  3.380e+01],\n",
       "       [-6.500e+00, -1.450e+01],\n",
       "       [-1.700e+00, -7.500e+00],\n",
       "       [-7.900e+00,  1.490e+01],\n",
       "       [-1.230e+01, -7.220e+01],\n",
       "       [ 2.100e+00,  7.030e+01],\n",
       "       [ 5.000e-01, -1.870e+01],\n",
       "       [ 5.200e+00,  3.580e+01],\n",
       "       [ 3.100e+00, -7.780e+01],\n",
       "       [ 1.520e+01,  8.260e+01],\n",
       "       [-8.000e-01,  2.380e+01],\n",
       "       [ 1.200e+00, -1.018e+02],\n",
       "       [ 1.000e+00,  5.050e+01],\n",
       "       [ 5.000e-01, -1.260e+01],\n",
       "       [-1.770e+01, -2.890e+01],\n",
       "       [ 1.010e+01,  1.920e+01],\n",
       "       [ 1.580e+01,  5.910e+01],\n",
       "       [-1.820e+01, -5.990e+01],\n",
       "       [-1.000e+01,  1.700e+00],\n",
       "       [ 2.280e+01,  2.070e+01],\n",
       "       [-3.040e+01, -1.240e+01],\n",
       "       [ 3.120e+01, -1.460e+01],\n",
       "       [ 3.500e+00,  5.610e+01],\n",
       "       [-1.070e+01, -8.260e+01],\n",
       "       [-3.600e+00,  3.370e+01],\n",
       "       [ 2.230e+01, -1.440e+01],\n",
       "       [-1.460e+01, -1.150e+01],\n",
       "       [ 8.400e+00,  8.180e+01],\n",
       "       [-5.200e+00, -4.150e+01],\n",
       "       [-2.220e+01, -1.680e+01],\n",
       "       [ 1.790e+01,  7.800e+00],\n",
       "       [ 3.850e+01, -7.700e+00],\n",
       "       [-5.860e+01,  5.000e+00],\n",
       "       [ 1.960e+01, -1.960e+01],\n",
       "       [-2.900e+00,  2.630e+01],\n",
       "       [ 4.610e+01,  2.000e+00],\n",
       "       [-5.830e+01, -3.000e-01],\n",
       "       [-4.100e+00, -1.490e+01],\n",
       "       [ 1.100e+01,  4.170e+01],\n",
       "       [ 5.200e+00, -6.020e+01],\n",
       "       [ 3.600e+00,  1.100e+01],\n",
       "       [ 5.090e+01, -3.820e+01],\n",
       "       [-1.880e+01,  6.260e+01],\n",
       "       [-2.300e+01, -8.600e+00],\n",
       "       [-3.100e+01,  1.960e+01],\n",
       "       [ 5.600e+00, -2.900e+00],\n",
       "       [ 2.890e+01, -5.730e+01],\n",
       "       [-3.130e+01, -6.800e+00],\n",
       "       [ 5.490e+01, -4.120e+01],\n",
       "       [ 3.850e+01, -3.200e+01],\n",
       "       [-5.790e+01, -5.630e+01],\n",
       "       [ 1.259e+02,  4.940e+01],\n",
       "       [-9.520e+01,  1.432e+02],\n",
       "       [-5.200e+01, -7.090e+01],\n",
       "       [ 3.680e+01, -2.970e+01],\n",
       "       [-6.310e+01,  5.380e+01],\n",
       "       [ 5.430e+01,  1.780e+01],\n",
       "       [-4.770e+01,  3.390e+01],\n",
       "       [-4.800e+00, -2.320e+01],\n",
       "       [-5.300e+00,  8.450e+01],\n",
       "       [-4.000e-01, -1.969e+02],\n",
       "       [ 2.800e+01,  1.261e+02],\n",
       "       [ 3.000e+00, -3.990e+01],\n",
       "       [-3.500e+01,  4.980e+01],\n",
       "       [-3.290e+01, -5.550e+01],\n",
       "       [ 8.740e+01,  2.590e+01],\n",
       "       [-5.250e+01,  2.970e+01],\n",
       "       [ 3.320e+01, -3.470e+01],\n",
       "       [ 2.450e+01, -5.700e+00],\n",
       "       [-3.570e+01,  2.300e+00],\n",
       "       [-9.500e+00,  1.290e+01],\n",
       "       [ 4.070e+01,  1.020e+01],\n",
       "       [-1.930e+01, -2.270e+01],\n",
       "       [ 1.820e+01,  3.490e+01],\n",
       "       [-2.860e+01, -5.700e+00],\n",
       "       [ 1.130e+01, -1.260e+01],\n",
       "       [ 4.800e+00,  6.000e+00],\n",
       "       [ 8.700e+00, -8.800e+00],\n",
       "       [-1.000e+00,  4.580e+01],\n",
       "       [ 1.780e+01, -4.330e+01],\n",
       "       [-1.090e+01, -1.270e+01],\n",
       "       [ 3.290e+01,  4.000e-01],\n",
       "       [ 1.037e+02,  1.590e+01],\n",
       "       [ 2.580e+01, -1.760e+01],\n",
       "       [-1.891e+02,  1.440e+01],\n",
       "       [ 7.000e+00, -2.250e+01],\n",
       "       [ 9.400e+00, -8.600e+00],\n",
       "       [-2.200e+00,  6.300e+00],\n",
       "       [ 4.050e+01,  7.720e+01],\n",
       "       [-3.650e+01,  1.500e+00],\n",
       "       [ 1.900e+00, -9.310e+01],\n",
       "       [ 9.700e+00,  2.960e+01],\n",
       "       [-2.280e+01, -3.900e+01],\n",
       "       [ 3.820e+01, -1.120e+01],\n",
       "       [ 3.300e+00,  5.320e+01],\n",
       "       [-2.000e+00, -4.000e+00],\n",
       "       [ 1.120e+01,  3.050e+01],\n",
       "       [-2.100e+01, -1.910e+01],\n",
       "       [-2.800e+00, -1.300e+00],\n",
       "       [ 6.730e+01, -3.330e+01],\n",
       "       [-1.000e+02,  5.860e+01],\n",
       "       [-2.890e+01, -2.550e+01],\n",
       "       [ 7.460e+01, -4.930e+01],\n",
       "       [-3.620e+01, -9.200e+00],\n",
       "       [ 9.000e-01,  6.090e+01],\n",
       "       [ 1.820e+01, -1.500e+01],\n",
       "       [ 1.600e+00,  3.700e+00],\n",
       "       [ 2.400e+00,  4.600e+00],\n",
       "       [-6.000e+00,  5.200e+00],\n",
       "       [ 6.050e+01,  1.520e+01],\n",
       "       [-1.052e+02,  1.490e+01],\n",
       "       [ 5.490e+01, -3.750e+01],\n",
       "       [-1.210e+01, -3.570e+01],\n",
       "       [ 3.200e+01,  5.910e+01],\n",
       "       [-4.090e+01,  2.310e+01],\n",
       "       [ 1.480e+01, -1.720e+01],\n",
       "       [ 1.130e+01, -1.380e+01],\n",
       "       [-1.550e+01,  2.280e+01],\n",
       "       [ 9.000e+00, -2.510e+01],\n",
       "       [-3.190e+01,  4.030e+01],\n",
       "       [ 5.600e+00, -7.070e+01],\n",
       "       [ 2.550e+01,  5.250e+01],\n",
       "       [-2.130e+01, -3.720e+01],\n",
       "       [ 3.950e+01, -1.780e+01]])"
      ]
     },
     "execution_count": 195,
     "metadata": {},
     "output_type": "execute_result"
    }
   ],
   "source": [
    "train_data.values"
   ]
  },
  {
   "cell_type": "code",
   "execution_count": 196,
   "id": "ea843852",
   "metadata": {},
   "outputs": [
    {
     "data": {
      "text/plain": [
       "array([[-31.9,  40.3],\n",
       "       [  5.6, -70.7],\n",
       "       [ 25.5,  52.5],\n",
       "       [-21.3, -37.2],\n",
       "       [ 39.5, -17.8]])"
      ]
     },
     "execution_count": 196,
     "metadata": {},
     "output_type": "execute_result"
    }
   ],
   "source": [
    "train_data.values[-5:]"
   ]
  },
  {
   "cell_type": "code",
   "execution_count": null,
   "id": "ad079f56",
   "metadata": {},
   "outputs": [],
   "source": []
  },
  {
   "cell_type": "code",
   "execution_count": 197,
   "id": "a12c43c4",
   "metadata": {},
   "outputs": [],
   "source": [
    "diff_forecast = result.forecast(y= train_data.values[-5:], steps= 12)"
   ]
  },
  {
   "cell_type": "code",
   "execution_count": 198,
   "id": "3000214e",
   "metadata": {},
   "outputs": [
    {
     "data": {
      "text/plain": [
       "array([[-16.99527634,  36.14982003],\n",
       "       [ -3.17403756, -11.45029844],\n",
       "       [ -0.377725  ,  -6.68496939],\n",
       "       [ -2.60223305,   5.47945777],\n",
       "       [  4.228557  ,  -2.44336505],\n",
       "       [  1.55939341,   0.38763902],\n",
       "       [ -0.99841027,   3.88368011],\n",
       "       [  0.36451042,  -2.3561014 ],\n",
       "       [ -1.21062726,  -1.22414652],\n",
       "       [  0.22587712,   0.786927  ],\n",
       "       [  1.33893884,   0.18097449],\n",
       "       [ -0.21858453,   0.21275046]])"
      ]
     },
     "execution_count": 198,
     "metadata": {},
     "output_type": "execute_result"
    }
   ],
   "source": [
    "diff_forecast"
   ]
  },
  {
   "cell_type": "code",
   "execution_count": 199,
   "id": "38545cc7",
   "metadata": {},
   "outputs": [],
   "source": [
    "# We will have to Store These Forecat values in DataFrame.\n",
    "# Dataframe of Forecast values should have Same Date Index as Test Data."
   ]
  },
  {
   "cell_type": "code",
   "execution_count": 200,
   "id": "3dec9569",
   "metadata": {},
   "outputs": [
    {
     "data": {
      "text/html": [
       "<div>\n",
       "<style scoped>\n",
       "    .dataframe tbody tr th:only-of-type {\n",
       "        vertical-align: middle;\n",
       "    }\n",
       "\n",
       "    .dataframe tbody tr th {\n",
       "        vertical-align: top;\n",
       "    }\n",
       "\n",
       "    .dataframe thead th {\n",
       "        text-align: right;\n",
       "    }\n",
       "</style>\n",
       "<table border=\"1\" class=\"dataframe\">\n",
       "  <thead>\n",
       "    <tr style=\"text-align: right;\">\n",
       "      <th></th>\n",
       "      <th>Money</th>\n",
       "      <th>Spending</th>\n",
       "    </tr>\n",
       "    <tr>\n",
       "      <th>Date</th>\n",
       "      <th></th>\n",
       "      <th></th>\n",
       "    </tr>\n",
       "  </thead>\n",
       "  <tbody>\n",
       "    <tr>\n",
       "      <th>2015-01-01</th>\n",
       "      <td>-15.5</td>\n",
       "      <td>-26.6</td>\n",
       "    </tr>\n",
       "    <tr>\n",
       "      <th>2015-02-01</th>\n",
       "      <td>56.1</td>\n",
       "      <td>52.4</td>\n",
       "    </tr>\n",
       "    <tr>\n",
       "      <th>2015-03-01</th>\n",
       "      <td>-102.8</td>\n",
       "      <td>39.5</td>\n",
       "    </tr>\n",
       "    <tr>\n",
       "      <th>2015-04-01</th>\n",
       "      <td>30.9</td>\n",
       "      <td>-40.4</td>\n",
       "    </tr>\n",
       "    <tr>\n",
       "      <th>2015-05-01</th>\n",
       "      <td>-15.8</td>\n",
       "      <td>38.8</td>\n",
       "    </tr>\n",
       "  </tbody>\n",
       "</table>\n",
       "</div>"
      ],
      "text/plain": [
       "            Money  Spending\n",
       "Date                       \n",
       "2015-01-01  -15.5     -26.6\n",
       "2015-02-01   56.1      52.4\n",
       "2015-03-01 -102.8      39.5\n",
       "2015-04-01   30.9     -40.4\n",
       "2015-05-01  -15.8      38.8"
      ]
     },
     "execution_count": 200,
     "metadata": {},
     "output_type": "execute_result"
    }
   ],
   "source": [
    "test_data.head()"
   ]
  },
  {
   "cell_type": "code",
   "execution_count": 201,
   "id": "f432e1ec",
   "metadata": {},
   "outputs": [
    {
     "data": {
      "text/plain": [
       "DatetimeIndex(['2015-01-01', '2015-02-01', '2015-03-01', '2015-04-01',\n",
       "               '2015-05-01', '2015-06-01', '2015-07-01', '2015-08-01',\n",
       "               '2015-09-01', '2015-10-01', '2015-11-01', '2015-12-01'],\n",
       "              dtype='datetime64[ns]', name='Date', freq='MS')"
      ]
     },
     "execution_count": 201,
     "metadata": {},
     "output_type": "execute_result"
    }
   ],
   "source": [
    "test_data.index"
   ]
  },
  {
   "cell_type": "code",
   "execution_count": null,
   "id": "ae822cb4",
   "metadata": {},
   "outputs": [],
   "source": []
  },
  {
   "cell_type": "code",
   "execution_count": 202,
   "id": "e355299e",
   "metadata": {},
   "outputs": [],
   "source": [
    "ind = pd.date_range(start= \"2015-01-01\", periods= 12, freq= \"MS\")"
   ]
  },
  {
   "cell_type": "code",
   "execution_count": 203,
   "id": "9fa82c8e",
   "metadata": {},
   "outputs": [
    {
     "data": {
      "text/plain": [
       "DatetimeIndex(['2015-01-01', '2015-02-01', '2015-03-01', '2015-04-01',\n",
       "               '2015-05-01', '2015-06-01', '2015-07-01', '2015-08-01',\n",
       "               '2015-09-01', '2015-10-01', '2015-11-01', '2015-12-01'],\n",
       "              dtype='datetime64[ns]', freq='MS')"
      ]
     },
     "execution_count": 203,
     "metadata": {},
     "output_type": "execute_result"
    }
   ],
   "source": [
    "ind"
   ]
  },
  {
   "cell_type": "code",
   "execution_count": null,
   "id": "b8498772",
   "metadata": {},
   "outputs": [],
   "source": []
  },
  {
   "cell_type": "code",
   "execution_count": 204,
   "id": "b31ba2b1",
   "metadata": {},
   "outputs": [],
   "source": [
    "forecast_df = pd.DataFrame(data= diff_forecast, index= ind, columns= [\"Money_diff_2\", \"Spending_diff_2\"])"
   ]
  },
  {
   "cell_type": "code",
   "execution_count": 205,
   "id": "327d971f",
   "metadata": {},
   "outputs": [
    {
     "data": {
      "text/html": [
       "<div>\n",
       "<style scoped>\n",
       "    .dataframe tbody tr th:only-of-type {\n",
       "        vertical-align: middle;\n",
       "    }\n",
       "\n",
       "    .dataframe tbody tr th {\n",
       "        vertical-align: top;\n",
       "    }\n",
       "\n",
       "    .dataframe thead th {\n",
       "        text-align: right;\n",
       "    }\n",
       "</style>\n",
       "<table border=\"1\" class=\"dataframe\">\n",
       "  <thead>\n",
       "    <tr style=\"text-align: right;\">\n",
       "      <th></th>\n",
       "      <th>Money_diff_2</th>\n",
       "      <th>Spending_diff_2</th>\n",
       "    </tr>\n",
       "  </thead>\n",
       "  <tbody>\n",
       "    <tr>\n",
       "      <th>2015-01-01</th>\n",
       "      <td>-16.995276</td>\n",
       "      <td>36.149820</td>\n",
       "    </tr>\n",
       "    <tr>\n",
       "      <th>2015-02-01</th>\n",
       "      <td>-3.174038</td>\n",
       "      <td>-11.450298</td>\n",
       "    </tr>\n",
       "    <tr>\n",
       "      <th>2015-03-01</th>\n",
       "      <td>-0.377725</td>\n",
       "      <td>-6.684969</td>\n",
       "    </tr>\n",
       "    <tr>\n",
       "      <th>2015-04-01</th>\n",
       "      <td>-2.602233</td>\n",
       "      <td>5.479458</td>\n",
       "    </tr>\n",
       "    <tr>\n",
       "      <th>2015-05-01</th>\n",
       "      <td>4.228557</td>\n",
       "      <td>-2.443365</td>\n",
       "    </tr>\n",
       "    <tr>\n",
       "      <th>2015-06-01</th>\n",
       "      <td>1.559393</td>\n",
       "      <td>0.387639</td>\n",
       "    </tr>\n",
       "    <tr>\n",
       "      <th>2015-07-01</th>\n",
       "      <td>-0.998410</td>\n",
       "      <td>3.883680</td>\n",
       "    </tr>\n",
       "    <tr>\n",
       "      <th>2015-08-01</th>\n",
       "      <td>0.364510</td>\n",
       "      <td>-2.356101</td>\n",
       "    </tr>\n",
       "    <tr>\n",
       "      <th>2015-09-01</th>\n",
       "      <td>-1.210627</td>\n",
       "      <td>-1.224147</td>\n",
       "    </tr>\n",
       "    <tr>\n",
       "      <th>2015-10-01</th>\n",
       "      <td>0.225877</td>\n",
       "      <td>0.786927</td>\n",
       "    </tr>\n",
       "    <tr>\n",
       "      <th>2015-11-01</th>\n",
       "      <td>1.338939</td>\n",
       "      <td>0.180974</td>\n",
       "    </tr>\n",
       "    <tr>\n",
       "      <th>2015-12-01</th>\n",
       "      <td>-0.218585</td>\n",
       "      <td>0.212750</td>\n",
       "    </tr>\n",
       "  </tbody>\n",
       "</table>\n",
       "</div>"
      ],
      "text/plain": [
       "            Money_diff_2  Spending_diff_2\n",
       "2015-01-01    -16.995276        36.149820\n",
       "2015-02-01     -3.174038       -11.450298\n",
       "2015-03-01     -0.377725        -6.684969\n",
       "2015-04-01     -2.602233         5.479458\n",
       "2015-05-01      4.228557        -2.443365\n",
       "2015-06-01      1.559393         0.387639\n",
       "2015-07-01     -0.998410         3.883680\n",
       "2015-08-01      0.364510        -2.356101\n",
       "2015-09-01     -1.210627        -1.224147\n",
       "2015-10-01      0.225877         0.786927\n",
       "2015-11-01      1.338939         0.180974\n",
       "2015-12-01     -0.218585         0.212750"
      ]
     },
     "execution_count": 205,
     "metadata": {},
     "output_type": "execute_result"
    }
   ],
   "source": [
    "forecast_df"
   ]
  },
  {
   "cell_type": "code",
   "execution_count": null,
   "id": "9e610c60",
   "metadata": {},
   "outputs": [],
   "source": []
  },
  {
   "cell_type": "markdown",
   "id": "73afcecd",
   "metadata": {},
   "source": [
    "### Invert the Transformation\n",
    "Remember that the forecasted values represent second-order differences. To compare them to the original data we have to roll back each difference. To roll back a first-order difference we take the most recent value on the training side of the original series, and add it to a cumulative sum of forecasted values. When working with second-order differences we first must perform this operation on the most recent first-order difference.\n",
    "\n",
    "Here we'll use the <tt>nobs</tt> variable we defined during the train/test/split step."
   ]
  },
  {
   "cell_type": "code",
   "execution_count": 206,
   "id": "aeb1f6a3",
   "metadata": {},
   "outputs": [],
   "source": [
    "# Add the most recent first difference from the training side of the original dataset to the forecast cumulative sum\n",
    "forecast_df['Money_diff_1'] = (df['Money'].iloc[-12-1]-df['Money'].iloc[-12-2]) + forecast_df['Money_diff_2'].cumsum()"
   ]
  },
  {
   "cell_type": "code",
   "execution_count": 207,
   "id": "059672f0",
   "metadata": {},
   "outputs": [],
   "source": [
    "# Now build the forecast values from the first difference set\n",
    "forecast_df['Money_Forecast'] = df['Money'].iloc[-12-1] + forecast_df['Money_diff_1'].cumsum()"
   ]
  },
  {
   "cell_type": "code",
   "execution_count": null,
   "id": "ef5546b5",
   "metadata": {},
   "outputs": [],
   "source": []
  },
  {
   "cell_type": "code",
   "execution_count": 208,
   "id": "e662072a",
   "metadata": {},
   "outputs": [],
   "source": [
    "# Add the most recent first difference from the training side of the original dataset to the forecast cumulative sum\n",
    "forecast_df['Spending_diff_1'] = (df['Spending'].iloc[-12-1]-df['Spending'].iloc[-12-2]) + forecast_df['Spending_diff_2'].cumsum()"
   ]
  },
  {
   "cell_type": "code",
   "execution_count": 209,
   "id": "83f3dde2",
   "metadata": {},
   "outputs": [],
   "source": [
    "# Now build the forecast values from the first difference set\n",
    "forecast_df['Spending_Forecast'] = df['Spending'].iloc[-12-1] + forecast_df['Spending_diff_1'].cumsum()"
   ]
  },
  {
   "cell_type": "code",
   "execution_count": 210,
   "id": "b4a0208a",
   "metadata": {},
   "outputs": [
    {
     "data": {
      "text/html": [
       "<div>\n",
       "<style scoped>\n",
       "    .dataframe tbody tr th:only-of-type {\n",
       "        vertical-align: middle;\n",
       "    }\n",
       "\n",
       "    .dataframe tbody tr th {\n",
       "        vertical-align: top;\n",
       "    }\n",
       "\n",
       "    .dataframe thead th {\n",
       "        text-align: right;\n",
       "    }\n",
       "</style>\n",
       "<table border=\"1\" class=\"dataframe\">\n",
       "  <thead>\n",
       "    <tr style=\"text-align: right;\">\n",
       "      <th></th>\n",
       "      <th>Money_diff_2</th>\n",
       "      <th>Spending_diff_2</th>\n",
       "      <th>Money_diff_1</th>\n",
       "      <th>Money_Forecast</th>\n",
       "      <th>Spending_diff_1</th>\n",
       "      <th>Spending_Forecast</th>\n",
       "    </tr>\n",
       "  </thead>\n",
       "  <tbody>\n",
       "    <tr>\n",
       "      <th>2015-01-01</th>\n",
       "      <td>-16.995276</td>\n",
       "      <td>36.149820</td>\n",
       "      <td>61.604724</td>\n",
       "      <td>11731.704724</td>\n",
       "      <td>46.749820</td>\n",
       "      <td>12108.749820</td>\n",
       "    </tr>\n",
       "    <tr>\n",
       "      <th>2015-02-01</th>\n",
       "      <td>-3.174038</td>\n",
       "      <td>-11.450298</td>\n",
       "      <td>58.430686</td>\n",
       "      <td>11790.135410</td>\n",
       "      <td>35.299522</td>\n",
       "      <td>12144.049342</td>\n",
       "    </tr>\n",
       "    <tr>\n",
       "      <th>2015-03-01</th>\n",
       "      <td>-0.377725</td>\n",
       "      <td>-6.684969</td>\n",
       "      <td>58.052961</td>\n",
       "      <td>11848.188371</td>\n",
       "      <td>28.614552</td>\n",
       "      <td>12172.663894</td>\n",
       "    </tr>\n",
       "    <tr>\n",
       "      <th>2015-04-01</th>\n",
       "      <td>-2.602233</td>\n",
       "      <td>5.479458</td>\n",
       "      <td>55.450728</td>\n",
       "      <td>11903.639099</td>\n",
       "      <td>34.094010</td>\n",
       "      <td>12206.757904</td>\n",
       "    </tr>\n",
       "    <tr>\n",
       "      <th>2015-05-01</th>\n",
       "      <td>4.228557</td>\n",
       "      <td>-2.443365</td>\n",
       "      <td>59.679285</td>\n",
       "      <td>11963.318384</td>\n",
       "      <td>31.650645</td>\n",
       "      <td>12238.408549</td>\n",
       "    </tr>\n",
       "    <tr>\n",
       "      <th>2015-06-01</th>\n",
       "      <td>1.559393</td>\n",
       "      <td>0.387639</td>\n",
       "      <td>61.238678</td>\n",
       "      <td>12024.557062</td>\n",
       "      <td>32.038284</td>\n",
       "      <td>12270.446833</td>\n",
       "    </tr>\n",
       "    <tr>\n",
       "      <th>2015-07-01</th>\n",
       "      <td>-0.998410</td>\n",
       "      <td>3.883680</td>\n",
       "      <td>60.240268</td>\n",
       "      <td>12084.797331</td>\n",
       "      <td>35.921964</td>\n",
       "      <td>12306.368797</td>\n",
       "    </tr>\n",
       "    <tr>\n",
       "      <th>2015-08-01</th>\n",
       "      <td>0.364510</td>\n",
       "      <td>-2.356101</td>\n",
       "      <td>60.604779</td>\n",
       "      <td>12145.402109</td>\n",
       "      <td>33.565863</td>\n",
       "      <td>12339.934659</td>\n",
       "    </tr>\n",
       "    <tr>\n",
       "      <th>2015-09-01</th>\n",
       "      <td>-1.210627</td>\n",
       "      <td>-1.224147</td>\n",
       "      <td>59.394151</td>\n",
       "      <td>12204.796261</td>\n",
       "      <td>32.341716</td>\n",
       "      <td>12372.276375</td>\n",
       "    </tr>\n",
       "    <tr>\n",
       "      <th>2015-10-01</th>\n",
       "      <td>0.225877</td>\n",
       "      <td>0.786927</td>\n",
       "      <td>59.620028</td>\n",
       "      <td>12264.416289</td>\n",
       "      <td>33.128643</td>\n",
       "      <td>12405.405019</td>\n",
       "    </tr>\n",
       "    <tr>\n",
       "      <th>2015-11-01</th>\n",
       "      <td>1.338939</td>\n",
       "      <td>0.180974</td>\n",
       "      <td>60.958967</td>\n",
       "      <td>12325.375256</td>\n",
       "      <td>33.309618</td>\n",
       "      <td>12438.714636</td>\n",
       "    </tr>\n",
       "    <tr>\n",
       "      <th>2015-12-01</th>\n",
       "      <td>-0.218585</td>\n",
       "      <td>0.212750</td>\n",
       "      <td>60.740383</td>\n",
       "      <td>12386.115639</td>\n",
       "      <td>33.522368</td>\n",
       "      <td>12472.237004</td>\n",
       "    </tr>\n",
       "  </tbody>\n",
       "</table>\n",
       "</div>"
      ],
      "text/plain": [
       "            Money_diff_2  Spending_diff_2  ...  Spending_diff_1  Spending_Forecast\n",
       "2015-01-01    -16.995276        36.149820  ...        46.749820       12108.749820\n",
       "2015-02-01     -3.174038       -11.450298  ...        35.299522       12144.049342\n",
       "2015-03-01     -0.377725        -6.684969  ...        28.614552       12172.663894\n",
       "2015-04-01     -2.602233         5.479458  ...        34.094010       12206.757904\n",
       "2015-05-01      4.228557        -2.443365  ...        31.650645       12238.408549\n",
       "2015-06-01      1.559393         0.387639  ...        32.038284       12270.446833\n",
       "2015-07-01     -0.998410         3.883680  ...        35.921964       12306.368797\n",
       "2015-08-01      0.364510        -2.356101  ...        33.565863       12339.934659\n",
       "2015-09-01     -1.210627        -1.224147  ...        32.341716       12372.276375\n",
       "2015-10-01      0.225877         0.786927  ...        33.128643       12405.405019\n",
       "2015-11-01      1.338939         0.180974  ...        33.309618       12438.714636\n",
       "2015-12-01     -0.218585         0.212750  ...        33.522368       12472.237004\n",
       "\n",
       "[12 rows x 6 columns]"
      ]
     },
     "execution_count": 210,
     "metadata": {},
     "output_type": "execute_result"
    }
   ],
   "source": [
    "forecast_df"
   ]
  },
  {
   "cell_type": "code",
   "execution_count": null,
   "id": "9892ff87",
   "metadata": {},
   "outputs": [],
   "source": []
  },
  {
   "cell_type": "code",
   "execution_count": 211,
   "id": "311214d3",
   "metadata": {},
   "outputs": [
    {
     "data": {
      "text/plain": [
       "<AxesSubplot:xlabel='Date'>"
      ]
     },
     "execution_count": 211,
     "metadata": {},
     "output_type": "execute_result"
    },
    {
     "data": {
      "image/png": "[encoded data removed]",
      "text/plain": [
       "<Figure size 864x432 with 1 Axes>"
      ]
     },
     "metadata": {
      "needs_background": "light"
     },
     "output_type": "display_data"
    }
   ],
   "source": [
    "# Plotting Forecast Against Original Data:\n",
    "\n",
    "df[\"Money\"][-12:].plot(figsize= (12,6), legend= True)\n",
    "forecast_df[\"Money_Forecast\"].plot(label= \"Money Forecast\", legend= True)"
   ]
  },
  {
   "cell_type": "code",
   "execution_count": 212,
   "id": "a28d43b0",
   "metadata": {},
   "outputs": [
    {
     "data": {
      "text/plain": [
       "<AxesSubplot:xlabel='Date'>"
      ]
     },
     "execution_count": 212,
     "metadata": {},
     "output_type": "execute_result"
    },
    {
     "data": {
      "image/png": "[encoded data removed]",
      "text/plain": [
       "<Figure size 864x432 with 1 Axes>"
      ]
     },
     "metadata": {
      "needs_background": "light"
     },
     "output_type": "display_data"
    }
   ],
   "source": [
    "df[\"Spending\"][-12:].plot(figsize= (12,6), legend= True)\n",
    "forecast_df[\"Spending_Forecast\"].plot(label= \"Money Forecast\", legend= True)"
   ]
  },
  {
   "cell_type": "code",
   "execution_count": null,
   "id": "ac773aac",
   "metadata": {},
   "outputs": [],
   "source": []
  },
  {
   "cell_type": "code",
   "execution_count": 213,
   "id": "fce4177f",
   "metadata": {},
   "outputs": [
    {
     "data": {
      "text/plain": [
       "43.71049653558938"
      ]
     },
     "execution_count": 213,
     "metadata": {},
     "output_type": "execute_result"
    }
   ],
   "source": [
    "# Evaluating Model:\n",
    "\n",
    "np.sqrt(mean_squared_error(df[\"Money\"][-12:], forecast_df[\"Money_Forecast\"]))"
   ]
  },
  {
   "cell_type": "code",
   "execution_count": 214,
   "id": "49b4cecf",
   "metadata": {},
   "outputs": [
    {
     "data": {
      "text/plain": [
       "37.00117516940808"
      ]
     },
     "execution_count": 214,
     "metadata": {},
     "output_type": "execute_result"
    }
   ],
   "source": [
    "np.sqrt(mean_squared_error(df[\"Spending\"][-12:], forecast_df[\"Spending_Forecast\"]))"
   ]
  }
 ],
 "metadata": {
  "kernelspec": {
   "display_name": "Python 3 (ipykernel)",
   "language": "python",
   "name": "python3"
  },
  "language_info": {
   "codemirror_mode": {
    "name": "ipython",
    "version": 3
   },
   "file_extension": ".py",
   "mimetype": "text/x-python",
   "name": "python",
   "nbconvert_exporter": "python",
   "pygments_lexer": "ipython3",
   "version": "3.8.12"
  }
 },
 "nbformat": 4,
 "nbformat_minor": 5
}
