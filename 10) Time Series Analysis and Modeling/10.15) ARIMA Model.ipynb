{
 "cells": [
  {
   "cell_type": "markdown",
   "id": "32972eb6",
   "metadata": {},
   "source": [
    "# ARIMA Model"
   ]
  },
  {
   "cell_type": "code",
   "execution_count": null,
   "id": "acde1768",
   "metadata": {},
   "outputs": [],
   "source": []
  },
  {
   "cell_type": "markdown",
   "id": "85f83a97",
   "metadata": {},
   "source": [
    "### Function to Check Stationarity Using Augmented Dickey-Fuller Test:"
   ]
  },
  {
   "cell_type": "code",
   "execution_count": 1,
   "id": "1947feff",
   "metadata": {},
   "outputs": [],
   "source": [
    "from statsmodels.tsa.stattools import adfuller\n",
    "\n",
    "def dickey_fuller_result(series):\n",
    "    \"\"\"\n",
    "    Function To Perform Augmenter Dickey-Fuller Test and Display Results.\n",
    "    \"\"\"\n",
    "    \n",
    "    result= adfuller(series.dropna())\n",
    "    \n",
    "    labels = [\"Test Statistics\", \"p-Value\", \"No. of Lags\", \"No. of Observations\"]\n",
    "    \n",
    "    output = pd.Series(result[0:4], index= labels)\n",
    "    \n",
    "    for key,value in result[4].items():\n",
    "        output[f\"Critical Value {key}\"] = value\n",
    "        \n",
    "    print(output)\n",
    "    \n",
    "    print(\"\\n\")\n",
    "    \n",
    "    if result[1] <= 0.05:\n",
    "        print(\"Strong evidence against the null hypothesis\")\n",
    "        print(\"Reject the null hypothesis\")\n",
    "        print(\"Data has no unit root and is stationary\")\n",
    "    else:\n",
    "        print(\"Weak evidence against the null hypothesis\")\n",
    "        print(\"Fail to reject the null hypothesis\")\n",
    "        print(\"Data has a unit root and is non-stationary\")"
   ]
  },
  {
   "cell_type": "code",
   "execution_count": null,
   "id": "623fc4a3",
   "metadata": {},
   "outputs": [],
   "source": []
  },
  {
   "cell_type": "code",
   "execution_count": 2,
   "id": "234a6cb2",
   "metadata": {},
   "outputs": [],
   "source": [
    "import numpy as np\n",
    "import pandas as pd\n",
    "\n",
    "from pmdarima import auto_arima\n",
    "\n",
    "from statsmodels.tsa.seasonal import seasonal_decompose\n",
    "from statsmodels.tsa.arima.model import ARIMA\n",
    "from statsmodels.graphics.tsaplots import plot_acf, plot_pacf\n",
    "from statsmodels.tsa.statespace.tools import diff\n",
    "\n",
    "from sklearn.metrics import mean_squared_error"
   ]
  },
  {
   "cell_type": "code",
   "execution_count": null,
   "id": "737a879d",
   "metadata": {},
   "outputs": [],
   "source": []
  },
  {
   "cell_type": "code",
   "execution_count": 3,
   "id": "2e9cae17",
   "metadata": {},
   "outputs": [],
   "source": [
    "df = pd.read_csv(\"TradeInventories.csv\", index_col= 0, parse_dates= True)"
   ]
  },
  {
   "cell_type": "code",
   "execution_count": 4,
   "id": "1e5024e2",
   "metadata": {},
   "outputs": [
    {
     "data": {
      "text/html": [
       "<div>\n",
       "<style scoped>\n",
       "    .dataframe tbody tr th:only-of-type {\n",
       "        vertical-align: middle;\n",
       "    }\n",
       "\n",
       "    .dataframe tbody tr th {\n",
       "        vertical-align: top;\n",
       "    }\n",
       "\n",
       "    .dataframe thead th {\n",
       "        text-align: right;\n",
       "    }\n",
       "</style>\n",
       "<table border=\"1\" class=\"dataframe\">\n",
       "  <thead>\n",
       "    <tr style=\"text-align: right;\">\n",
       "      <th></th>\n",
       "      <th>Inventories</th>\n",
       "    </tr>\n",
       "    <tr>\n",
       "      <th>Date</th>\n",
       "      <th></th>\n",
       "    </tr>\n",
       "  </thead>\n",
       "  <tbody>\n",
       "    <tr>\n",
       "      <th>1997-01-01</th>\n",
       "      <td>1301161</td>\n",
       "    </tr>\n",
       "    <tr>\n",
       "      <th>1997-02-01</th>\n",
       "      <td>1307080</td>\n",
       "    </tr>\n",
       "    <tr>\n",
       "      <th>1997-03-01</th>\n",
       "      <td>1303978</td>\n",
       "    </tr>\n",
       "    <tr>\n",
       "      <th>1997-04-01</th>\n",
       "      <td>1319740</td>\n",
       "    </tr>\n",
       "    <tr>\n",
       "      <th>1997-05-01</th>\n",
       "      <td>1327294</td>\n",
       "    </tr>\n",
       "  </tbody>\n",
       "</table>\n",
       "</div>"
      ],
      "text/plain": [
       "            Inventories\n",
       "Date                   \n",
       "1997-01-01      1301161\n",
       "1997-02-01      1307080\n",
       "1997-03-01      1303978\n",
       "1997-04-01      1319740\n",
       "1997-05-01      1327294"
      ]
     },
     "execution_count": 4,
     "metadata": {},
     "output_type": "execute_result"
    }
   ],
   "source": [
    "df.head()"
   ]
  },
  {
   "cell_type": "code",
   "execution_count": 5,
   "id": "0eda1128",
   "metadata": {},
   "outputs": [
    {
     "data": {
      "text/plain": [
       "(264, 1)"
      ]
     },
     "execution_count": 5,
     "metadata": {},
     "output_type": "execute_result"
    }
   ],
   "source": [
    "df.shape"
   ]
  },
  {
   "cell_type": "code",
   "execution_count": 6,
   "id": "5bbd5251",
   "metadata": {},
   "outputs": [
    {
     "data": {
      "text/plain": [
       "DatetimeIndex(['1997-01-01', '1997-02-01', '1997-03-01', '1997-04-01',\n",
       "               '1997-05-01', '1997-06-01', '1997-07-01', '1997-08-01',\n",
       "               '1997-09-01', '1997-10-01',\n",
       "               ...\n",
       "               '2018-03-01', '2018-04-01', '2018-05-01', '2018-06-01',\n",
       "               '2018-07-01', '2018-08-01', '2018-09-01', '2018-10-01',\n",
       "               '2018-11-01', '2018-12-01'],\n",
       "              dtype='datetime64[ns]', name='Date', length=264, freq=None)"
      ]
     },
     "execution_count": 6,
     "metadata": {},
     "output_type": "execute_result"
    }
   ],
   "source": [
    "df.index"
   ]
  },
  {
   "cell_type": "code",
   "execution_count": 7,
   "id": "1242fea9",
   "metadata": {},
   "outputs": [],
   "source": [
    "df.index.freq = \"MS\""
   ]
  },
  {
   "cell_type": "code",
   "execution_count": 8,
   "id": "b4a647d7",
   "metadata": {},
   "outputs": [
    {
     "data": {
      "text/plain": [
       "DatetimeIndex(['1997-01-01', '1997-02-01', '1997-03-01', '1997-04-01',\n",
       "               '1997-05-01', '1997-06-01', '1997-07-01', '1997-08-01',\n",
       "               '1997-09-01', '1997-10-01',\n",
       "               ...\n",
       "               '2018-03-01', '2018-04-01', '2018-05-01', '2018-06-01',\n",
       "               '2018-07-01', '2018-08-01', '2018-09-01', '2018-10-01',\n",
       "               '2018-11-01', '2018-12-01'],\n",
       "              dtype='datetime64[ns]', name='Date', length=264, freq='MS')"
      ]
     },
     "execution_count": 8,
     "metadata": {},
     "output_type": "execute_result"
    }
   ],
   "source": [
    "df.index"
   ]
  },
  {
   "cell_type": "code",
   "execution_count": null,
   "id": "e9849805",
   "metadata": {},
   "outputs": [],
   "source": []
  },
  {
   "cell_type": "code",
   "execution_count": 9,
   "id": "965bd7ef",
   "metadata": {},
   "outputs": [
    {
     "data": {
      "text/plain": [
       "<AxesSubplot:xlabel='Date'>"
      ]
     },
     "execution_count": 9,
     "metadata": {},
     "output_type": "execute_result"
    },
    {
     "data": {
      "image/png": "[encoded data removed]",
      "text/plain": [
       "<Figure size 864x432 with 1 Axes>"
      ]
     },
     "metadata": {
      "needs_background": "light"
     },
     "output_type": "display_data"
    }
   ],
   "source": [
    "df.plot(figsize= (12,6))"
   ]
  },
  {
   "cell_type": "code",
   "execution_count": null,
   "id": "e0f23329",
   "metadata": {},
   "outputs": [],
   "source": []
  },
  {
   "cell_type": "markdown",
   "id": "5484e51e",
   "metadata": {},
   "source": [
    "### ETS Decomposition:"
   ]
  },
  {
   "cell_type": "code",
   "execution_count": 10,
   "id": "43a0d78f",
   "metadata": {},
   "outputs": [],
   "source": [
    "decomp = seasonal_decompose(df[\"Inventories\"], model= \"additive\")"
   ]
  },
  {
   "cell_type": "code",
   "execution_count": 11,
   "id": "101dac85",
   "metadata": {},
   "outputs": [
    {
     "data": {
      "image/png": "[encoded data removed]",
      "text/plain": [
       "<Figure size 432x288 with 4 Axes>"
      ]
     },
     "metadata": {
      "needs_background": "light"
     },
     "output_type": "display_data"
    }
   ],
   "source": [
    "decomp.plot();"
   ]
  },
  {
   "cell_type": "code",
   "execution_count": null,
   "id": "77fc36db",
   "metadata": {},
   "outputs": [],
   "source": []
  },
  {
   "cell_type": "code",
   "execution_count": 12,
   "id": "cfdce319",
   "metadata": {},
   "outputs": [],
   "source": [
    "# There is some Seasonality in our data, but we will ignore it for now as it's quite small."
   ]
  },
  {
   "cell_type": "code",
   "execution_count": null,
   "id": "62b6227e",
   "metadata": {},
   "outputs": [],
   "source": []
  },
  {
   "cell_type": "markdown",
   "id": "1d82c95f",
   "metadata": {},
   "source": [
    "### Stationarity Check:"
   ]
  },
  {
   "cell_type": "code",
   "execution_count": 13,
   "id": "69963196",
   "metadata": {},
   "outputs": [
    {
     "name": "stdout",
     "output_type": "stream",
     "text": [
      "Test Statistics         -0.087684\n",
      "p-Value                  0.950652\n",
      "No. of Lags              5.000000\n",
      "No. of Observations    258.000000\n",
      "Critical Value 1%       -3.455953\n",
      "Critical Value 5%       -2.872809\n",
      "Critical Value 10%      -2.572775\n",
      "dtype: float64\n",
      "\n",
      "\n",
      "Weak evidence against the null hypothesis\n",
      "Fail to reject the null hypothesis\n",
      "Data has a unit root and is non-stationary\n"
     ]
    }
   ],
   "source": [
    "dickey_fuller_result(df[\"Inventories\"])"
   ]
  },
  {
   "cell_type": "code",
   "execution_count": 14,
   "id": "386df302",
   "metadata": {},
   "outputs": [],
   "source": [
    "# Series is Non-Stationary.\n",
    "\n",
    "# We have to apply Differencing."
   ]
  },
  {
   "cell_type": "code",
   "execution_count": 15,
   "id": "f337b84d",
   "metadata": {},
   "outputs": [],
   "source": [
    "df[\"Diff_1\"] = diff(df[\"Inventories\"], k_diff= 1)"
   ]
  },
  {
   "cell_type": "code",
   "execution_count": 16,
   "id": "6b59eb19",
   "metadata": {},
   "outputs": [
    {
     "data": {
      "text/html": [
       "<div>\n",
       "<style scoped>\n",
       "    .dataframe tbody tr th:only-of-type {\n",
       "        vertical-align: middle;\n",
       "    }\n",
       "\n",
       "    .dataframe tbody tr th {\n",
       "        vertical-align: top;\n",
       "    }\n",
       "\n",
       "    .dataframe thead th {\n",
       "        text-align: right;\n",
       "    }\n",
       "</style>\n",
       "<table border=\"1\" class=\"dataframe\">\n",
       "  <thead>\n",
       "    <tr style=\"text-align: right;\">\n",
       "      <th></th>\n",
       "      <th>Inventories</th>\n",
       "      <th>Diff_1</th>\n",
       "    </tr>\n",
       "    <tr>\n",
       "      <th>Date</th>\n",
       "      <th></th>\n",
       "      <th></th>\n",
       "    </tr>\n",
       "  </thead>\n",
       "  <tbody>\n",
       "    <tr>\n",
       "      <th>1997-01-01</th>\n",
       "      <td>1301161</td>\n",
       "      <td>NaN</td>\n",
       "    </tr>\n",
       "    <tr>\n",
       "      <th>1997-02-01</th>\n",
       "      <td>1307080</td>\n",
       "      <td>5919.0</td>\n",
       "    </tr>\n",
       "    <tr>\n",
       "      <th>1997-03-01</th>\n",
       "      <td>1303978</td>\n",
       "      <td>-3102.0</td>\n",
       "    </tr>\n",
       "    <tr>\n",
       "      <th>1997-04-01</th>\n",
       "      <td>1319740</td>\n",
       "      <td>15762.0</td>\n",
       "    </tr>\n",
       "    <tr>\n",
       "      <th>1997-05-01</th>\n",
       "      <td>1327294</td>\n",
       "      <td>7554.0</td>\n",
       "    </tr>\n",
       "  </tbody>\n",
       "</table>\n",
       "</div>"
      ],
      "text/plain": [
       "            Inventories   Diff_1\n",
       "Date                            \n",
       "1997-01-01      1301161      NaN\n",
       "1997-02-01      1307080   5919.0\n",
       "1997-03-01      1303978  -3102.0\n",
       "1997-04-01      1319740  15762.0\n",
       "1997-05-01      1327294   7554.0"
      ]
     },
     "execution_count": 16,
     "metadata": {},
     "output_type": "execute_result"
    }
   ],
   "source": [
    "df.head()"
   ]
  },
  {
   "cell_type": "code",
   "execution_count": 17,
   "id": "1c64ce18",
   "metadata": {},
   "outputs": [
    {
     "name": "stdout",
     "output_type": "stream",
     "text": [
      "Test Statistics         -3.412249\n",
      "p-Value                  0.010548\n",
      "No. of Lags              4.000000\n",
      "No. of Observations    258.000000\n",
      "Critical Value 1%       -3.455953\n",
      "Critical Value 5%       -2.872809\n",
      "Critical Value 10%      -2.572775\n",
      "dtype: float64\n",
      "\n",
      "\n",
      "Strong evidence against the null hypothesis\n",
      "Reject the null hypothesis\n",
      "Data has no unit root and is stationary\n"
     ]
    }
   ],
   "source": [
    "# Checking Stationarity of First Order Differenced Data:\n",
    "\n",
    "dickey_fuller_result(df[\"Diff_1\"])"
   ]
  },
  {
   "cell_type": "code",
   "execution_count": 18,
   "id": "6e53a62a",
   "metadata": {},
   "outputs": [],
   "source": [
    "# This is Stationary."
   ]
  },
  {
   "cell_type": "code",
   "execution_count": null,
   "id": "16f42ad2",
   "metadata": {},
   "outputs": [],
   "source": []
  },
  {
   "cell_type": "markdown",
   "id": "a7b52f2f",
   "metadata": {},
   "source": [
    "### Run the ACF and PACF plots\n",
    "A <strong>PACF Plot</strong> can reveal recommended AR(p) orders, and an <strong>ACF Plot</strong> can do the same for MA(q) orders.<br>\n",
    "\n",
    "https://people.duke.edu/~rnau/411arim3.htm"
   ]
  },
  {
   "cell_type": "code",
   "execution_count": 19,
   "id": "7ac3f26d",
   "metadata": {},
   "outputs": [
    {
     "data": {
      "image/png": "[encoded data removed]",
      "text/plain": [
       "<Figure size 432x288 with 1 Axes>"
      ]
     },
     "metadata": {
      "needs_background": "light"
     },
     "output_type": "display_data"
    }
   ],
   "source": [
    "plot_acf(df[\"Inventories\"], lags= 40);"
   ]
  },
  {
   "cell_type": "code",
   "execution_count": 20,
   "id": "dc8249df",
   "metadata": {},
   "outputs": [
    {
     "data": {
      "image/png": "[encoded data removed]",
      "text/plain": [
       "<Figure size 432x288 with 1 Axes>"
      ]
     },
     "metadata": {
      "needs_background": "light"
     },
     "output_type": "display_data"
    }
   ],
   "source": [
    "plot_pacf(df[\"Inventories\"], lags= 40, method= \"ywm\");"
   ]
  },
  {
   "cell_type": "code",
   "execution_count": 21,
   "id": "daec2490",
   "metadata": {},
   "outputs": [],
   "source": [
    "# Looking at ACF and PACF Plots, Values of:\n",
    "\n",
    "# p should be 1, d is 1 (first order differencing gave stationarity), and q should be either 0 or 1."
   ]
  },
  {
   "cell_type": "code",
   "execution_count": 22,
   "id": "c82b1982",
   "metadata": {},
   "outputs": [],
   "source": [
    "# Let's Confirm the same using Auto Arima."
   ]
  },
  {
   "cell_type": "code",
   "execution_count": null,
   "id": "bbb8c926",
   "metadata": {},
   "outputs": [],
   "source": []
  },
  {
   "cell_type": "code",
   "execution_count": 23,
   "id": "f6314730",
   "metadata": {},
   "outputs": [
    {
     "name": "stdout",
     "output_type": "stream",
     "text": [
      "Performing stepwise search to minimize aic\n",
      " ARIMA(0,1,0)(0,0,0)[0] intercept   : AIC=5348.037, Time=0.03 sec\n",
      " ARIMA(1,1,0)(0,0,0)[0] intercept   : AIC=5399.843, Time=0.05 sec\n",
      " ARIMA(0,1,1)(0,0,0)[0] intercept   : AIC=5350.241, Time=0.05 sec\n",
      " ARIMA(0,1,0)(0,0,0)[0]             : AIC=5409.217, Time=0.02 sec\n",
      " ARIMA(1,1,1)(0,0,0)[0] intercept   : AIC=5378.835, Time=0.15 sec\n",
      "\n",
      "Best model:  ARIMA(0,1,0)(0,0,0)[0] intercept\n",
      "Total fit time: 0.302 seconds\n"
     ]
    }
   ],
   "source": [
    "grid_arima = auto_arima(df[\"Inventories\"], start_p= 0, start_q= 0, max_p= 3, max_q= 3, seasonal= False,\n",
    "                        trace= True)"
   ]
  },
  {
   "cell_type": "code",
   "execution_count": 24,
   "id": "6dcec0ad",
   "metadata": {},
   "outputs": [
    {
     "data": {
      "text/html": [
       "<table class=\"simpletable\">\n",
       "<caption>SARIMAX Results</caption>\n",
       "<tr>\n",
       "  <th>Dep. Variable:</th>           <td>y</td>        <th>  No. Observations:  </th>    <td>264</td>   \n",
       "</tr>\n",
       "<tr>\n",
       "  <th>Model:</th>           <td>SARIMAX(0, 1, 0)</td> <th>  Log Likelihood     </th> <td>-2672.018</td>\n",
       "</tr>\n",
       "<tr>\n",
       "  <th>Date:</th>            <td>Wed, 23 Nov 2022</td> <th>  AIC                </th> <td>5348.037</td> \n",
       "</tr>\n",
       "<tr>\n",
       "  <th>Time:</th>                <td>21:12:59</td>     <th>  BIC                </th> <td>5355.181</td> \n",
       "</tr>\n",
       "<tr>\n",
       "  <th>Sample:</th>             <td>01-01-1997</td>    <th>  HQIC               </th> <td>5350.908</td> \n",
       "</tr>\n",
       "<tr>\n",
       "  <th></th>                   <td>- 12-01-2018</td>   <th>                     </th>     <td> </td>    \n",
       "</tr>\n",
       "<tr>\n",
       "  <th>Covariance Type:</th>        <td>opg</td>       <th>                     </th>     <td> </td>    \n",
       "</tr>\n",
       "</table>\n",
       "<table class=\"simpletable\">\n",
       "<tr>\n",
       "      <td></td>         <th>coef</th>     <th>std err</th>      <th>z</th>      <th>P>|z|</th>  <th>[0.025</th>    <th>0.975]</th>  \n",
       "</tr>\n",
       "<tr>\n",
       "  <th>intercept</th> <td> 3258.3802</td> <td>  470.991</td> <td>    6.918</td> <td> 0.000</td> <td> 2335.255</td> <td> 4181.506</td>\n",
       "</tr>\n",
       "<tr>\n",
       "  <th>sigma2</th>    <td>  3.91e+07</td> <td> 2.95e+06</td> <td>   13.250</td> <td> 0.000</td> <td> 3.33e+07</td> <td> 4.49e+07</td>\n",
       "</tr>\n",
       "</table>\n",
       "<table class=\"simpletable\">\n",
       "<tr>\n",
       "  <th>Ljung-Box (L1) (Q):</th>     <td>82.61</td> <th>  Jarque-Bera (JB):  </th> <td>100.74</td>\n",
       "</tr>\n",
       "<tr>\n",
       "  <th>Prob(Q):</th>                <td>0.00</td>  <th>  Prob(JB):          </th>  <td>0.00</td> \n",
       "</tr>\n",
       "<tr>\n",
       "  <th>Heteroskedasticity (H):</th> <td>0.86</td>  <th>  Skew:              </th>  <td>-1.15</td>\n",
       "</tr>\n",
       "<tr>\n",
       "  <th>Prob(H) (two-sided):</th>    <td>0.48</td>  <th>  Kurtosis:          </th>  <td>4.98</td> \n",
       "</tr>\n",
       "</table><br/><br/>Warnings:<br/>[1] Covariance matrix calculated using the outer product of gradients (complex-step)."
      ],
      "text/plain": [
       "<class 'statsmodels.iolib.summary.Summary'>\n",
       "\"\"\"\n",
       "                               SARIMAX Results                                \n",
       "==============================================================================\n",
       "Dep. Variable:                      y   No. Observations:                  264\n",
       "Model:               SARIMAX(0, 1, 0)   Log Likelihood               -2672.018\n",
       "Date:                Wed, 23 Nov 2022   AIC                           5348.037\n",
       "Time:                        21:12:59   BIC                           5355.181\n",
       "Sample:                    01-01-1997   HQIC                          5350.908\n",
       "                         - 12-01-2018                                         \n",
       "Covariance Type:                  opg                                         \n",
       "==============================================================================\n",
       "                 coef    std err          z      P>|z|      [0.025      0.975]\n",
       "------------------------------------------------------------------------------\n",
       "intercept   3258.3802    470.991      6.918      0.000    2335.255    4181.506\n",
       "sigma2       3.91e+07   2.95e+06     13.250      0.000    3.33e+07    4.49e+07\n",
       "===================================================================================\n",
       "Ljung-Box (L1) (Q):                  82.61   Jarque-Bera (JB):               100.74\n",
       "Prob(Q):                              0.00   Prob(JB):                         0.00\n",
       "Heteroskedasticity (H):               0.86   Skew:                            -1.15\n",
       "Prob(H) (two-sided):                  0.48   Kurtosis:                         4.98\n",
       "===================================================================================\n",
       "\n",
       "Warnings:\n",
       "[1] Covariance matrix calculated using the outer product of gradients (complex-step).\n",
       "\"\"\""
      ]
     },
     "execution_count": 24,
     "metadata": {},
     "output_type": "execute_result"
    }
   ],
   "source": [
    "grid_arima.summary()"
   ]
  },
  {
   "cell_type": "code",
   "execution_count": 25,
   "id": "626cb068",
   "metadata": {},
   "outputs": [],
   "source": [
    "# Auto Arima : p= 0, d= 1, q= 0"
   ]
  },
  {
   "cell_type": "code",
   "execution_count": null,
   "id": "3b46ee2e",
   "metadata": {},
   "outputs": [],
   "source": []
  },
  {
   "cell_type": "code",
   "execution_count": 26,
   "id": "f52eb8f9",
   "metadata": {},
   "outputs": [],
   "source": [
    "# We will Build Model Using Both values."
   ]
  },
  {
   "cell_type": "code",
   "execution_count": null,
   "id": "1f72091d",
   "metadata": {},
   "outputs": [],
   "source": []
  },
  {
   "cell_type": "markdown",
   "id": "eeb12ac0",
   "metadata": {},
   "source": [
    "### Train Test Split:"
   ]
  },
  {
   "cell_type": "code",
   "execution_count": 27,
   "id": "d7625344",
   "metadata": {},
   "outputs": [
    {
     "data": {
      "text/plain": [
       "264"
      ]
     },
     "execution_count": 27,
     "metadata": {},
     "output_type": "execute_result"
    }
   ],
   "source": [
    "len(df)"
   ]
  },
  {
   "cell_type": "code",
   "execution_count": 28,
   "id": "c108ab82",
   "metadata": {},
   "outputs": [],
   "source": [
    "train_data = df[:252]\n",
    "test_data = df[252:]"
   ]
  },
  {
   "cell_type": "code",
   "execution_count": 29,
   "id": "be031c90",
   "metadata": {},
   "outputs": [
    {
     "data": {
      "text/plain": [
       "(252, 2)"
      ]
     },
     "execution_count": 29,
     "metadata": {},
     "output_type": "execute_result"
    }
   ],
   "source": [
    "train_data.shape"
   ]
  },
  {
   "cell_type": "code",
   "execution_count": 30,
   "id": "b2382c12",
   "metadata": {},
   "outputs": [
    {
     "data": {
      "text/plain": [
       "(12, 2)"
      ]
     },
     "execution_count": 30,
     "metadata": {},
     "output_type": "execute_result"
    }
   ],
   "source": [
    "test_data.shape"
   ]
  },
  {
   "cell_type": "code",
   "execution_count": null,
   "id": "41d8138a",
   "metadata": {},
   "outputs": [],
   "source": []
  },
  {
   "cell_type": "markdown",
   "id": "13b6fc46",
   "metadata": {},
   "source": [
    "### ARIMA(1,1,1) Model:"
   ]
  },
  {
   "cell_type": "code",
   "execution_count": 31,
   "id": "e199482c",
   "metadata": {},
   "outputs": [],
   "source": [
    "model = ARIMA(train_data[\"Inventories\"], order= (1,1,1))"
   ]
  },
  {
   "cell_type": "code",
   "execution_count": 32,
   "id": "609344dd",
   "metadata": {},
   "outputs": [
    {
     "name": "stderr",
     "output_type": "stream",
     "text": [
      "C:\\Users\\Shailya\\AppData\\Roaming\\Python\\Python38\\site-packages\\statsmodels\\base\\model.py:604: ConvergenceWarning: Maximum Likelihood optimization failed to converge. Check mle_retvals\n",
      "  warnings.warn(\"Maximum Likelihood optimization failed to \"\n"
     ]
    }
   ],
   "source": [
    "results = model.fit()"
   ]
  },
  {
   "cell_type": "code",
   "execution_count": 33,
   "id": "7ba7da97",
   "metadata": {},
   "outputs": [
    {
     "data": {
      "text/html": [
       "<table class=\"simpletable\">\n",
       "<caption>SARIMAX Results</caption>\n",
       "<tr>\n",
       "  <th>Dep. Variable:</th>      <td>Inventories</td>   <th>  No. Observations:  </th>    <td>252</td>   \n",
       "</tr>\n",
       "<tr>\n",
       "  <th>Model:</th>            <td>ARIMA(1, 1, 1)</td>  <th>  Log Likelihood     </th> <td>-2555.627</td>\n",
       "</tr>\n",
       "<tr>\n",
       "  <th>Date:</th>            <td>Wed, 23 Nov 2022</td> <th>  AIC                </th> <td>5117.254</td> \n",
       "</tr>\n",
       "<tr>\n",
       "  <th>Time:</th>                <td>21:12:59</td>     <th>  BIC                </th> <td>5127.830</td> \n",
       "</tr>\n",
       "<tr>\n",
       "  <th>Sample:</th>             <td>01-01-1997</td>    <th>  HQIC               </th> <td>5121.510</td> \n",
       "</tr>\n",
       "<tr>\n",
       "  <th></th>                   <td>- 12-01-2017</td>   <th>                     </th>     <td> </td>    \n",
       "</tr>\n",
       "<tr>\n",
       "  <th>Covariance Type:</th>        <td>opg</td>       <th>                     </th>     <td> </td>    \n",
       "</tr>\n",
       "</table>\n",
       "<table class=\"simpletable\">\n",
       "<tr>\n",
       "     <td></td>       <th>coef</th>     <th>std err</th>      <th>z</th>      <th>P>|z|</th>  <th>[0.025</th>    <th>0.975]</th>  \n",
       "</tr>\n",
       "<tr>\n",
       "  <th>ar.L1</th>  <td>    1.0000</td> <td>    0.001</td> <td>  855.681</td> <td> 0.000</td> <td>    0.998</td> <td>    1.002</td>\n",
       "</tr>\n",
       "<tr>\n",
       "  <th>ma.L1</th>  <td>   -0.9999</td> <td>    0.033</td> <td>  -30.428</td> <td> 0.000</td> <td>   -1.064</td> <td>   -0.935</td>\n",
       "</tr>\n",
       "<tr>\n",
       "  <th>sigma2</th> <td> 2.975e+07</td> <td> 2.14e-10</td> <td> 1.39e+17</td> <td> 0.000</td> <td> 2.98e+07</td> <td> 2.98e+07</td>\n",
       "</tr>\n",
       "</table>\n",
       "<table class=\"simpletable\">\n",
       "<tr>\n",
       "  <th>Ljung-Box (L1) (Q):</th>     <td>87.24</td> <th>  Jarque-Bera (JB):  </th> <td>98.76</td>\n",
       "</tr>\n",
       "<tr>\n",
       "  <th>Prob(Q):</th>                <td>0.00</td>  <th>  Prob(JB):          </th> <td>0.00</td> \n",
       "</tr>\n",
       "<tr>\n",
       "  <th>Heteroskedasticity (H):</th> <td>0.73</td>  <th>  Skew:              </th> <td>-1.17</td>\n",
       "</tr>\n",
       "<tr>\n",
       "  <th>Prob(H) (two-sided):</th>    <td>0.15</td>  <th>  Kurtosis:          </th> <td>4.99</td> \n",
       "</tr>\n",
       "</table><br/><br/>Warnings:<br/>[1] Covariance matrix calculated using the outer product of gradients (complex-step).<br/>[2] Covariance matrix is singular or near-singular, with condition number 2.03e+32. Standard errors may be unstable."
      ],
      "text/plain": [
       "<class 'statsmodels.iolib.summary.Summary'>\n",
       "\"\"\"\n",
       "                               SARIMAX Results                                \n",
       "==============================================================================\n",
       "Dep. Variable:            Inventories   No. Observations:                  252\n",
       "Model:                 ARIMA(1, 1, 1)   Log Likelihood               -2555.627\n",
       "Date:                Wed, 23 Nov 2022   AIC                           5117.254\n",
       "Time:                        21:12:59   BIC                           5127.830\n",
       "Sample:                    01-01-1997   HQIC                          5121.510\n",
       "                         - 12-01-2017                                         \n",
       "Covariance Type:                  opg                                         \n",
       "==============================================================================\n",
       "                 coef    std err          z      P>|z|      [0.025      0.975]\n",
       "------------------------------------------------------------------------------\n",
       "ar.L1          1.0000      0.001    855.681      0.000       0.998       1.002\n",
       "ma.L1         -0.9999      0.033    -30.428      0.000      -1.064      -0.935\n",
       "sigma2      2.975e+07   2.14e-10   1.39e+17      0.000    2.98e+07    2.98e+07\n",
       "===================================================================================\n",
       "Ljung-Box (L1) (Q):                  87.24   Jarque-Bera (JB):                98.76\n",
       "Prob(Q):                              0.00   Prob(JB):                         0.00\n",
       "Heteroskedasticity (H):               0.73   Skew:                            -1.17\n",
       "Prob(H) (two-sided):                  0.15   Kurtosis:                         4.99\n",
       "===================================================================================\n",
       "\n",
       "Warnings:\n",
       "[1] Covariance matrix calculated using the outer product of gradients (complex-step).\n",
       "[2] Covariance matrix is singular or near-singular, with condition number 2.03e+32. Standard errors may be unstable.\n",
       "\"\"\""
      ]
     },
     "execution_count": 33,
     "metadata": {},
     "output_type": "execute_result"
    }
   ],
   "source": [
    "results.summary()"
   ]
  },
  {
   "cell_type": "code",
   "execution_count": null,
   "id": "c68f8761",
   "metadata": {},
   "outputs": [],
   "source": []
  },
  {
   "cell_type": "code",
   "execution_count": 34,
   "id": "c93d64c0",
   "metadata": {},
   "outputs": [],
   "source": [
    "# Prediction on Test Data:\n",
    "\n",
    "start = len(train_data)\n",
    "end = len(train_data) + len(test_data) -1"
   ]
  },
  {
   "cell_type": "code",
   "execution_count": 35,
   "id": "328145b1",
   "metadata": {},
   "outputs": [],
   "source": [
    "preds = results.predict(start= start, end= end, dynamic= False, typ= \"levels\")"
   ]
  },
  {
   "cell_type": "code",
   "execution_count": 36,
   "id": "db535579",
   "metadata": {},
   "outputs": [
    {
     "data": {
      "text/plain": [
       "2018-01-01    2.107107e+06\n",
       "2018-02-01    2.110462e+06\n",
       "2018-03-01    2.113818e+06\n",
       "2018-04-01    2.117174e+06\n",
       "2018-05-01    2.120529e+06\n",
       "2018-06-01    2.123885e+06\n",
       "2018-07-01    2.127241e+06\n",
       "2018-08-01    2.130596e+06\n",
       "2018-09-01    2.133952e+06\n",
       "2018-10-01    2.137307e+06\n",
       "2018-11-01    2.140663e+06\n",
       "2018-12-01    2.144019e+06\n",
       "Freq: MS, Name: predicted_mean, dtype: float64"
      ]
     },
     "execution_count": 36,
     "metadata": {},
     "output_type": "execute_result"
    }
   ],
   "source": [
    "preds"
   ]
  },
  {
   "cell_type": "code",
   "execution_count": null,
   "id": "077f16c7",
   "metadata": {},
   "outputs": [],
   "source": []
  },
  {
   "cell_type": "code",
   "execution_count": 37,
   "id": "e31b05ac",
   "metadata": {},
   "outputs": [
    {
     "data": {
      "text/plain": [
       "<AxesSubplot:xlabel='Date'>"
      ]
     },
     "execution_count": 37,
     "metadata": {},
     "output_type": "execute_result"
    },
    {
     "data": {
      "image/png": "[encoded data removed]",
      "text/plain": [
       "<Figure size 864x432 with 1 Axes>"
      ]
     },
     "metadata": {
      "needs_background": "light"
     },
     "output_type": "display_data"
    }
   ],
   "source": [
    "# Plotting Test Data and Predictions:\n",
    "\n",
    "test_data[\"Inventories\"].plot(figsize= (12,6), legend= True)\n",
    "preds.plot(label= \"Predictions\", legend= True)"
   ]
  },
  {
   "cell_type": "code",
   "execution_count": null,
   "id": "035054c8",
   "metadata": {},
   "outputs": [],
   "source": []
  },
  {
   "cell_type": "code",
   "execution_count": 38,
   "id": "7caea55f",
   "metadata": {},
   "outputs": [
    {
     "data": {
      "text/plain": [
       "7698.87945927603"
      ]
     },
     "execution_count": 38,
     "metadata": {},
     "output_type": "execute_result"
    }
   ],
   "source": [
    "# Model Evaluation:\n",
    "\n",
    "np.sqrt(mean_squared_error(test_data[\"Inventories\"], preds))"
   ]
  },
  {
   "cell_type": "code",
   "execution_count": null,
   "id": "9d581fe9",
   "metadata": {},
   "outputs": [],
   "source": []
  },
  {
   "cell_type": "code",
   "execution_count": 39,
   "id": "1b5200fe",
   "metadata": {},
   "outputs": [],
   "source": [
    "# Retraining Model on Full Data to make Future Forecast:\n",
    "\n",
    "model = ARIMA(df[\"Inventories\"], order= (1,1,1))"
   ]
  },
  {
   "cell_type": "code",
   "execution_count": 40,
   "id": "e438f559",
   "metadata": {},
   "outputs": [],
   "source": [
    "results = model.fit()"
   ]
  },
  {
   "cell_type": "code",
   "execution_count": 41,
   "id": "88a23ff1",
   "metadata": {},
   "outputs": [
    {
     "data": {
      "text/html": [
       "<table class=\"simpletable\">\n",
       "<caption>SARIMAX Results</caption>\n",
       "<tr>\n",
       "  <th>Dep. Variable:</th>      <td>Inventories</td>   <th>  No. Observations:  </th>    <td>264</td>   \n",
       "</tr>\n",
       "<tr>\n",
       "  <th>Model:</th>            <td>ARIMA(1, 1, 1)</td>  <th>  Log Likelihood     </th> <td>-2672.278</td>\n",
       "</tr>\n",
       "<tr>\n",
       "  <th>Date:</th>            <td>Wed, 23 Nov 2022</td> <th>  AIC                </th> <td>5350.555</td> \n",
       "</tr>\n",
       "<tr>\n",
       "  <th>Time:</th>                <td>21:15:03</td>     <th>  BIC                </th> <td>5361.272</td> \n",
       "</tr>\n",
       "<tr>\n",
       "  <th>Sample:</th>             <td>01-01-1997</td>    <th>  HQIC               </th> <td>5354.862</td> \n",
       "</tr>\n",
       "<tr>\n",
       "  <th></th>                   <td>- 12-01-2018</td>   <th>                     </th>     <td> </td>    \n",
       "</tr>\n",
       "<tr>\n",
       "  <th>Covariance Type:</th>        <td>opg</td>       <th>                     </th>     <td> </td>    \n",
       "</tr>\n",
       "</table>\n",
       "<table class=\"simpletable\">\n",
       "<tr>\n",
       "     <td></td>       <th>coef</th>     <th>std err</th>      <th>z</th>      <th>P>|z|</th>  <th>[0.025</th>    <th>0.975]</th>  \n",
       "</tr>\n",
       "<tr>\n",
       "  <th>ar.L1</th>  <td>    1.0000</td> <td>    0.002</td> <td>  599.503</td> <td> 0.000</td> <td>    0.997</td> <td>    1.003</td>\n",
       "</tr>\n",
       "<tr>\n",
       "  <th>ma.L1</th>  <td>   -0.9998</td> <td>    0.026</td> <td>  -37.939</td> <td> 0.000</td> <td>   -1.051</td> <td>   -0.948</td>\n",
       "</tr>\n",
       "<tr>\n",
       "  <th>sigma2</th> <td> 3.906e+07</td> <td> 4.44e-11</td> <td> 8.79e+17</td> <td> 0.000</td> <td> 3.91e+07</td> <td> 3.91e+07</td>\n",
       "</tr>\n",
       "</table>\n",
       "<table class=\"simpletable\">\n",
       "<tr>\n",
       "  <th>Ljung-Box (L1) (Q):</th>     <td>82.61</td> <th>  Jarque-Bera (JB):  </th> <td>94.74</td>\n",
       "</tr>\n",
       "<tr>\n",
       "  <th>Prob(Q):</th>                <td>0.00</td>  <th>  Prob(JB):          </th> <td>0.00</td> \n",
       "</tr>\n",
       "<tr>\n",
       "  <th>Heteroskedasticity (H):</th> <td>0.88</td>  <th>  Skew:              </th> <td>-1.12</td>\n",
       "</tr>\n",
       "<tr>\n",
       "  <th>Prob(H) (two-sided):</th>    <td>0.55</td>  <th>  Kurtosis:          </th> <td>4.90</td> \n",
       "</tr>\n",
       "</table><br/><br/>Warnings:<br/>[1] Covariance matrix calculated using the outer product of gradients (complex-step).<br/>[2] Covariance matrix is singular or near-singular, with condition number 1.66e+33. Standard errors may be unstable."
      ],
      "text/plain": [
       "<class 'statsmodels.iolib.summary.Summary'>\n",
       "\"\"\"\n",
       "                               SARIMAX Results                                \n",
       "==============================================================================\n",
       "Dep. Variable:            Inventories   No. Observations:                  264\n",
       "Model:                 ARIMA(1, 1, 1)   Log Likelihood               -2672.278\n",
       "Date:                Wed, 23 Nov 2022   AIC                           5350.555\n",
       "Time:                        21:15:03   BIC                           5361.272\n",
       "Sample:                    01-01-1997   HQIC                          5354.862\n",
       "                         - 12-01-2018                                         \n",
       "Covariance Type:                  opg                                         \n",
       "==============================================================================\n",
       "                 coef    std err          z      P>|z|      [0.025      0.975]\n",
       "------------------------------------------------------------------------------\n",
       "ar.L1          1.0000      0.002    599.503      0.000       0.997       1.003\n",
       "ma.L1         -0.9998      0.026    -37.939      0.000      -1.051      -0.948\n",
       "sigma2      3.906e+07   4.44e-11   8.79e+17      0.000    3.91e+07    3.91e+07\n",
       "===================================================================================\n",
       "Ljung-Box (L1) (Q):                  82.61   Jarque-Bera (JB):                94.74\n",
       "Prob(Q):                              0.00   Prob(JB):                         0.00\n",
       "Heteroskedasticity (H):               0.88   Skew:                            -1.12\n",
       "Prob(H) (two-sided):                  0.55   Kurtosis:                         4.90\n",
       "===================================================================================\n",
       "\n",
       "Warnings:\n",
       "[1] Covariance matrix calculated using the outer product of gradients (complex-step).\n",
       "[2] Covariance matrix is singular or near-singular, with condition number 1.66e+33. Standard errors may be unstable.\n",
       "\"\"\""
      ]
     },
     "execution_count": 41,
     "metadata": {},
     "output_type": "execute_result"
    }
   ],
   "source": [
    "results.summary()"
   ]
  },
  {
   "cell_type": "code",
   "execution_count": null,
   "id": "f61dd73e",
   "metadata": {},
   "outputs": [],
   "source": []
  },
  {
   "cell_type": "code",
   "execution_count": 42,
   "id": "897bee7e",
   "metadata": {},
   "outputs": [],
   "source": [
    "forecast = results.predict(start= len(df), end= len(df)+12, typ= \"levels\")"
   ]
  },
  {
   "cell_type": "code",
   "execution_count": 43,
   "id": "3376d1ba",
   "metadata": {},
   "outputs": [
    {
     "data": {
      "text/plain": [
       "2019-01-01    2.161371e+06\n",
       "2019-02-01    2.164626e+06\n",
       "2019-03-01    2.167882e+06\n",
       "2019-04-01    2.171137e+06\n",
       "2019-05-01    2.174393e+06\n",
       "2019-06-01    2.177648e+06\n",
       "2019-07-01    2.180904e+06\n",
       "2019-08-01    2.184159e+06\n",
       "2019-09-01    2.187415e+06\n",
       "2019-10-01    2.190670e+06\n",
       "2019-11-01    2.193925e+06\n",
       "2019-12-01    2.197181e+06\n",
       "2020-01-01    2.200436e+06\n",
       "Freq: MS, Name: predicted_mean, dtype: float64"
      ]
     },
     "execution_count": 43,
     "metadata": {},
     "output_type": "execute_result"
    }
   ],
   "source": [
    "forecast"
   ]
  },
  {
   "cell_type": "code",
   "execution_count": null,
   "id": "a91bbfe8",
   "metadata": {},
   "outputs": [],
   "source": []
  },
  {
   "cell_type": "code",
   "execution_count": 44,
   "id": "6aa49e42",
   "metadata": {},
   "outputs": [
    {
     "data": {
      "text/plain": [
       "<AxesSubplot:xlabel='Date'>"
      ]
     },
     "execution_count": 44,
     "metadata": {},
     "output_type": "execute_result"
    },
    {
     "data": {
      "image/png": "[encoded data removed]",
      "text/plain": [
       "<Figure size 864x432 with 1 Axes>"
      ]
     },
     "metadata": {
      "needs_background": "light"
     },
     "output_type": "display_data"
    }
   ],
   "source": [
    "# Plotting Data and Forecast:\n",
    "\n",
    "df[\"Inventories\"].plot(figsize= (12,6), legend= True)\n",
    "forecast.plot(label= \"Forecast\", legend= True)"
   ]
  },
  {
   "cell_type": "code",
   "execution_count": null,
   "id": "dafefc1f",
   "metadata": {},
   "outputs": [],
   "source": []
  }
 ],
 "metadata": {
  "kernelspec": {
   "display_name": "Python 3 (ipykernel)",
   "language": "python",
   "name": "python3"
  },
  "language_info": {
   "codemirror_mode": {
    "name": "ipython",
    "version": 3
   },
   "file_extension": ".py",
   "mimetype": "text/x-python",
   "name": "python",
   "nbconvert_exporter": "python",
   "pygments_lexer": "ipython3",
   "version": "3.8.12"
  }
 },
 "nbformat": 4,
 "nbformat_minor": 5
}
