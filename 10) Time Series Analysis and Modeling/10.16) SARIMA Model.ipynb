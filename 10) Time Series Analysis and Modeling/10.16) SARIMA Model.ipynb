{
 "cells": [
  {
   "cell_type": "markdown",
   "id": "d1a553c3",
   "metadata": {},
   "source": [
    "# SARIMA Model"
   ]
  },
  {
   "cell_type": "markdown",
   "id": "c4bb4838",
   "metadata": {},
   "source": [
    "## SARIMA(p,d,q)(P,D,Q)m\n",
    "## Seasonal Autoregressive Integrated Moving Averages\n",
    "\n",
    "Where ARIMA accepts the parameters $(p,d,q)$, SARIMA accepts an <em>additional</em> set of parameters $(P,D,Q)m$ that specifically describe the seasonal components of the model. Here $P$, $D$ and $Q$ represent the seasonal regression, differencing and moving average coefficients, and $m$ represents the number of data points (rows) in each seasonal cycle.\n",
    "\n",
    "<strong>NOTE:</strong> The statsmodels implementation of SARIMA is called SARIMAX. The “X” added to the name means that the function also supports <em>exogenous</em> regressor variables."
   ]
  },
  {
   "cell_type": "code",
   "execution_count": null,
   "id": "a1686df8",
   "metadata": {},
   "outputs": [],
   "source": []
  },
  {
   "cell_type": "code",
   "execution_count": 52,
   "id": "c58e521a",
   "metadata": {},
   "outputs": [],
   "source": [
    "import numpy as np\n",
    "import pandas as pd\n",
    "\n",
    "from statsmodels.tsa.seasonal import seasonal_decompose\n",
    "from statsmodels.tsa.statespace.sarimax import SARIMAX\n",
    "from pmdarima import auto_arima\n",
    "\n",
    "from sklearn.metrics import mean_squared_error"
   ]
  },
  {
   "cell_type": "code",
   "execution_count": null,
   "id": "8b2fa239",
   "metadata": {},
   "outputs": [],
   "source": []
  },
  {
   "cell_type": "code",
   "execution_count": 18,
   "id": "6ee95174",
   "metadata": {},
   "outputs": [],
   "source": [
    "df = pd.read_csv(\"co2_mm_mlo.csv\")"
   ]
  },
  {
   "cell_type": "code",
   "execution_count": 19,
   "id": "d02f1614",
   "metadata": {},
   "outputs": [
    {
     "data": {
      "text/html": [
       "<div>\n",
       "<style scoped>\n",
       "    .dataframe tbody tr th:only-of-type {\n",
       "        vertical-align: middle;\n",
       "    }\n",
       "\n",
       "    .dataframe tbody tr th {\n",
       "        vertical-align: top;\n",
       "    }\n",
       "\n",
       "    .dataframe thead th {\n",
       "        text-align: right;\n",
       "    }\n",
       "</style>\n",
       "<table border=\"1\" class=\"dataframe\">\n",
       "  <thead>\n",
       "    <tr style=\"text-align: right;\">\n",
       "      <th></th>\n",
       "      <th>year</th>\n",
       "      <th>month</th>\n",
       "      <th>decimal_date</th>\n",
       "      <th>average</th>\n",
       "      <th>interpolated</th>\n",
       "    </tr>\n",
       "  </thead>\n",
       "  <tbody>\n",
       "    <tr>\n",
       "      <th>0</th>\n",
       "      <td>1958</td>\n",
       "      <td>3</td>\n",
       "      <td>1958.208</td>\n",
       "      <td>315.71</td>\n",
       "      <td>315.71</td>\n",
       "    </tr>\n",
       "    <tr>\n",
       "      <th>1</th>\n",
       "      <td>1958</td>\n",
       "      <td>4</td>\n",
       "      <td>1958.292</td>\n",
       "      <td>317.45</td>\n",
       "      <td>317.45</td>\n",
       "    </tr>\n",
       "    <tr>\n",
       "      <th>2</th>\n",
       "      <td>1958</td>\n",
       "      <td>5</td>\n",
       "      <td>1958.375</td>\n",
       "      <td>317.50</td>\n",
       "      <td>317.50</td>\n",
       "    </tr>\n",
       "    <tr>\n",
       "      <th>3</th>\n",
       "      <td>1958</td>\n",
       "      <td>6</td>\n",
       "      <td>1958.458</td>\n",
       "      <td>NaN</td>\n",
       "      <td>317.10</td>\n",
       "    </tr>\n",
       "    <tr>\n",
       "      <th>4</th>\n",
       "      <td>1958</td>\n",
       "      <td>7</td>\n",
       "      <td>1958.542</td>\n",
       "      <td>315.86</td>\n",
       "      <td>315.86</td>\n",
       "    </tr>\n",
       "  </tbody>\n",
       "</table>\n",
       "</div>"
      ],
      "text/plain": [
       "   year  month  decimal_date  average  interpolated\n",
       "0  1958      3      1958.208   315.71        315.71\n",
       "1  1958      4      1958.292   317.45        317.45\n",
       "2  1958      5      1958.375   317.50        317.50\n",
       "3  1958      6      1958.458      NaN        317.10\n",
       "4  1958      7      1958.542   315.86        315.86"
      ]
     },
     "execution_count": 19,
     "metadata": {},
     "output_type": "execute_result"
    }
   ],
   "source": [
    "df.head()"
   ]
  },
  {
   "cell_type": "code",
   "execution_count": null,
   "id": "704fba4b",
   "metadata": {},
   "outputs": [],
   "source": []
  },
  {
   "cell_type": "code",
   "execution_count": 20,
   "id": "8ca645ec",
   "metadata": {},
   "outputs": [],
   "source": [
    "# Creating Date Time Index from Data:\n",
    "\n",
    "df[\"Date\"] = pd.to_datetime({\"year\":df[\"year\"], \"month\":df[\"month\"], \"day\":1})"
   ]
  },
  {
   "cell_type": "code",
   "execution_count": 21,
   "id": "facc7044",
   "metadata": {},
   "outputs": [
    {
     "data": {
      "text/html": [
       "<div>\n",
       "<style scoped>\n",
       "    .dataframe tbody tr th:only-of-type {\n",
       "        vertical-align: middle;\n",
       "    }\n",
       "\n",
       "    .dataframe tbody tr th {\n",
       "        vertical-align: top;\n",
       "    }\n",
       "\n",
       "    .dataframe thead th {\n",
       "        text-align: right;\n",
       "    }\n",
       "</style>\n",
       "<table border=\"1\" class=\"dataframe\">\n",
       "  <thead>\n",
       "    <tr style=\"text-align: right;\">\n",
       "      <th></th>\n",
       "      <th>year</th>\n",
       "      <th>month</th>\n",
       "      <th>decimal_date</th>\n",
       "      <th>average</th>\n",
       "      <th>interpolated</th>\n",
       "      <th>Date</th>\n",
       "    </tr>\n",
       "  </thead>\n",
       "  <tbody>\n",
       "    <tr>\n",
       "      <th>0</th>\n",
       "      <td>1958</td>\n",
       "      <td>3</td>\n",
       "      <td>1958.208</td>\n",
       "      <td>315.71</td>\n",
       "      <td>315.71</td>\n",
       "      <td>1958-03-01</td>\n",
       "    </tr>\n",
       "    <tr>\n",
       "      <th>1</th>\n",
       "      <td>1958</td>\n",
       "      <td>4</td>\n",
       "      <td>1958.292</td>\n",
       "      <td>317.45</td>\n",
       "      <td>317.45</td>\n",
       "      <td>1958-04-01</td>\n",
       "    </tr>\n",
       "    <tr>\n",
       "      <th>2</th>\n",
       "      <td>1958</td>\n",
       "      <td>5</td>\n",
       "      <td>1958.375</td>\n",
       "      <td>317.50</td>\n",
       "      <td>317.50</td>\n",
       "      <td>1958-05-01</td>\n",
       "    </tr>\n",
       "    <tr>\n",
       "      <th>3</th>\n",
       "      <td>1958</td>\n",
       "      <td>6</td>\n",
       "      <td>1958.458</td>\n",
       "      <td>NaN</td>\n",
       "      <td>317.10</td>\n",
       "      <td>1958-06-01</td>\n",
       "    </tr>\n",
       "    <tr>\n",
       "      <th>4</th>\n",
       "      <td>1958</td>\n",
       "      <td>7</td>\n",
       "      <td>1958.542</td>\n",
       "      <td>315.86</td>\n",
       "      <td>315.86</td>\n",
       "      <td>1958-07-01</td>\n",
       "    </tr>\n",
       "  </tbody>\n",
       "</table>\n",
       "</div>"
      ],
      "text/plain": [
       "   year  month  decimal_date  average  interpolated       Date\n",
       "0  1958      3      1958.208   315.71        315.71 1958-03-01\n",
       "1  1958      4      1958.292   317.45        317.45 1958-04-01\n",
       "2  1958      5      1958.375   317.50        317.50 1958-05-01\n",
       "3  1958      6      1958.458      NaN        317.10 1958-06-01\n",
       "4  1958      7      1958.542   315.86        315.86 1958-07-01"
      ]
     },
     "execution_count": 21,
     "metadata": {},
     "output_type": "execute_result"
    }
   ],
   "source": [
    "df.head()"
   ]
  },
  {
   "cell_type": "code",
   "execution_count": 22,
   "id": "874f5632",
   "metadata": {},
   "outputs": [],
   "source": [
    "df = df.set_index(\"Date\")"
   ]
  },
  {
   "cell_type": "code",
   "execution_count": 23,
   "id": "8c1c0212",
   "metadata": {},
   "outputs": [
    {
     "data": {
      "text/html": [
       "<div>\n",
       "<style scoped>\n",
       "    .dataframe tbody tr th:only-of-type {\n",
       "        vertical-align: middle;\n",
       "    }\n",
       "\n",
       "    .dataframe tbody tr th {\n",
       "        vertical-align: top;\n",
       "    }\n",
       "\n",
       "    .dataframe thead th {\n",
       "        text-align: right;\n",
       "    }\n",
       "</style>\n",
       "<table border=\"1\" class=\"dataframe\">\n",
       "  <thead>\n",
       "    <tr style=\"text-align: right;\">\n",
       "      <th></th>\n",
       "      <th>year</th>\n",
       "      <th>month</th>\n",
       "      <th>decimal_date</th>\n",
       "      <th>average</th>\n",
       "      <th>interpolated</th>\n",
       "    </tr>\n",
       "    <tr>\n",
       "      <th>Date</th>\n",
       "      <th></th>\n",
       "      <th></th>\n",
       "      <th></th>\n",
       "      <th></th>\n",
       "      <th></th>\n",
       "    </tr>\n",
       "  </thead>\n",
       "  <tbody>\n",
       "    <tr>\n",
       "      <th>1958-03-01</th>\n",
       "      <td>1958</td>\n",
       "      <td>3</td>\n",
       "      <td>1958.208</td>\n",
       "      <td>315.71</td>\n",
       "      <td>315.71</td>\n",
       "    </tr>\n",
       "    <tr>\n",
       "      <th>1958-04-01</th>\n",
       "      <td>1958</td>\n",
       "      <td>4</td>\n",
       "      <td>1958.292</td>\n",
       "      <td>317.45</td>\n",
       "      <td>317.45</td>\n",
       "    </tr>\n",
       "    <tr>\n",
       "      <th>1958-05-01</th>\n",
       "      <td>1958</td>\n",
       "      <td>5</td>\n",
       "      <td>1958.375</td>\n",
       "      <td>317.50</td>\n",
       "      <td>317.50</td>\n",
       "    </tr>\n",
       "    <tr>\n",
       "      <th>1958-06-01</th>\n",
       "      <td>1958</td>\n",
       "      <td>6</td>\n",
       "      <td>1958.458</td>\n",
       "      <td>NaN</td>\n",
       "      <td>317.10</td>\n",
       "    </tr>\n",
       "    <tr>\n",
       "      <th>1958-07-01</th>\n",
       "      <td>1958</td>\n",
       "      <td>7</td>\n",
       "      <td>1958.542</td>\n",
       "      <td>315.86</td>\n",
       "      <td>315.86</td>\n",
       "    </tr>\n",
       "  </tbody>\n",
       "</table>\n",
       "</div>"
      ],
      "text/plain": [
       "            year  month  decimal_date  average  interpolated\n",
       "Date                                                        \n",
       "1958-03-01  1958      3      1958.208   315.71        315.71\n",
       "1958-04-01  1958      4      1958.292   317.45        317.45\n",
       "1958-05-01  1958      5      1958.375   317.50        317.50\n",
       "1958-06-01  1958      6      1958.458      NaN        317.10\n",
       "1958-07-01  1958      7      1958.542   315.86        315.86"
      ]
     },
     "execution_count": 23,
     "metadata": {},
     "output_type": "execute_result"
    }
   ],
   "source": [
    "df.head()"
   ]
  },
  {
   "cell_type": "code",
   "execution_count": 24,
   "id": "de64ba0e",
   "metadata": {
    "scrolled": true
   },
   "outputs": [
    {
     "data": {
      "text/plain": [
       "DatetimeIndex(['1958-03-01', '1958-04-01', '1958-05-01', '1958-06-01',\n",
       "               '1958-07-01', '1958-08-01', '1958-09-01', '1958-10-01',\n",
       "               '1958-11-01', '1958-12-01',\n",
       "               ...\n",
       "               '2018-02-01', '2018-03-01', '2018-04-01', '2018-05-01',\n",
       "               '2018-06-01', '2018-07-01', '2018-08-01', '2018-09-01',\n",
       "               '2018-10-01', '2018-11-01'],\n",
       "              dtype='datetime64[ns]', name='Date', length=729, freq=None)"
      ]
     },
     "execution_count": 24,
     "metadata": {},
     "output_type": "execute_result"
    }
   ],
   "source": [
    "df.index"
   ]
  },
  {
   "cell_type": "code",
   "execution_count": 25,
   "id": "0fdf4bfe",
   "metadata": {},
   "outputs": [],
   "source": [
    "df.index.freq = \"MS\""
   ]
  },
  {
   "cell_type": "code",
   "execution_count": 26,
   "id": "78a53e50",
   "metadata": {},
   "outputs": [
    {
     "data": {
      "text/plain": [
       "DatetimeIndex(['1958-03-01', '1958-04-01', '1958-05-01', '1958-06-01',\n",
       "               '1958-07-01', '1958-08-01', '1958-09-01', '1958-10-01',\n",
       "               '1958-11-01', '1958-12-01',\n",
       "               ...\n",
       "               '2018-02-01', '2018-03-01', '2018-04-01', '2018-05-01',\n",
       "               '2018-06-01', '2018-07-01', '2018-08-01', '2018-09-01',\n",
       "               '2018-10-01', '2018-11-01'],\n",
       "              dtype='datetime64[ns]', name='Date', length=729, freq='MS')"
      ]
     },
     "execution_count": 26,
     "metadata": {},
     "output_type": "execute_result"
    }
   ],
   "source": [
    "df.index"
   ]
  },
  {
   "cell_type": "code",
   "execution_count": null,
   "id": "450d0f54",
   "metadata": {},
   "outputs": [],
   "source": []
  },
  {
   "cell_type": "code",
   "execution_count": 28,
   "id": "fff17639",
   "metadata": {},
   "outputs": [
    {
     "data": {
      "text/plain": [
       "<AxesSubplot:xlabel='Date'>"
      ]
     },
     "execution_count": 28,
     "metadata": {},
     "output_type": "execute_result"
    },
    {
     "data": {
      "image/png": "[encoded data removed]",
      "text/plain": [
       "<Figure size 864x432 with 1 Axes>"
      ]
     },
     "metadata": {
      "needs_background": "light"
     },
     "output_type": "display_data"
    }
   ],
   "source": [
    "df[\"interpolated\"].plot(figsize= (12,6))"
   ]
  },
  {
   "cell_type": "code",
   "execution_count": null,
   "id": "dea9e245",
   "metadata": {},
   "outputs": [],
   "source": []
  },
  {
   "cell_type": "markdown",
   "id": "9aa963b8",
   "metadata": {},
   "source": [
    "### ETS Decompose:"
   ]
  },
  {
   "cell_type": "code",
   "execution_count": 29,
   "id": "e7d0a50d",
   "metadata": {},
   "outputs": [],
   "source": [
    "decomp = seasonal_decompose(df[\"interpolated\"], model= \"add\")"
   ]
  },
  {
   "cell_type": "code",
   "execution_count": 30,
   "id": "3417b8b3",
   "metadata": {},
   "outputs": [
    {
     "data": {
      "image/png": "[encoded data removed]",
      "text/plain": [
       "<Figure size 432x288 with 4 Axes>"
      ]
     },
     "metadata": {
      "needs_background": "light"
     },
     "output_type": "display_data"
    }
   ],
   "source": [
    "decomp.plot();"
   ]
  },
  {
   "cell_type": "code",
   "execution_count": 31,
   "id": "826862f6",
   "metadata": {},
   "outputs": [
    {
     "data": {
      "text/plain": [
       "<AxesSubplot:xlabel='Date'>"
      ]
     },
     "execution_count": 31,
     "metadata": {},
     "output_type": "execute_result"
    },
    {
     "data": {
      "image/png": "[encoded data removed]",
      "text/plain": [
       "<Figure size 864x288 with 1 Axes>"
      ]
     },
     "metadata": {
      "needs_background": "light"
     },
     "output_type": "display_data"
    }
   ],
   "source": [
    "decomp.seasonal.plot(figsize= (12,4))"
   ]
  },
  {
   "cell_type": "code",
   "execution_count": null,
   "id": "d49b16e4",
   "metadata": {},
   "outputs": [],
   "source": []
  },
  {
   "cell_type": "markdown",
   "id": "fd10271e",
   "metadata": {},
   "source": [
    "### Auto Arima to Obtain (p,d,q) and (P,D,Q,m):"
   ]
  },
  {
   "cell_type": "code",
   "execution_count": 32,
   "id": "0e11ac55",
   "metadata": {},
   "outputs": [
    {
     "name": "stdout",
     "output_type": "stream",
     "text": [
      "Performing stepwise search to minimize aic\n",
      " ARIMA(0,1,0)(0,0,0)[12] intercept   : AIC=2369.532, Time=0.09 sec\n",
      " ARIMA(1,1,0)(1,0,0)[12] intercept   : AIC=inf, Time=0.62 sec\n",
      " ARIMA(0,1,1)(0,0,1)[12] intercept   : AIC=1614.808, Time=0.44 sec\n",
      " ARIMA(0,1,0)(0,0,0)[12]             : AIC=2375.248, Time=0.04 sec\n",
      " ARIMA(0,1,1)(0,0,0)[12] intercept   : AIC=1935.623, Time=0.14 sec\n",
      " ARIMA(0,1,1)(1,0,1)[12] intercept   : AIC=428.681, Time=2.23 sec\n",
      " ARIMA(0,1,1)(1,0,0)[12] intercept   : AIC=791.747, Time=0.49 sec\n",
      " ARIMA(0,1,1)(2,0,1)[12] intercept   : AIC=431.798, Time=4.66 sec\n",
      " ARIMA(0,1,1)(1,0,2)[12] intercept   : AIC=431.208, Time=4.30 sec\n",
      " ARIMA(0,1,1)(0,0,2)[12] intercept   : AIC=1425.289, Time=1.08 sec\n",
      " ARIMA(0,1,1)(2,0,0)[12] intercept   : AIC=617.368, Time=1.82 sec\n",
      " ARIMA(0,1,1)(2,0,2)[12] intercept   : AIC=inf, Time=3.54 sec\n",
      " ARIMA(0,1,0)(1,0,1)[12] intercept   : AIC=inf, Time=1.23 sec\n",
      " ARIMA(1,1,1)(1,0,1)[12] intercept   : AIC=460.473, Time=1.88 sec\n",
      " ARIMA(0,1,2)(1,0,1)[12] intercept   : AIC=428.030, Time=2.01 sec\n",
      " ARIMA(0,1,2)(0,0,1)[12] intercept   : AIC=1506.152, Time=0.37 sec\n",
      " ARIMA(0,1,2)(1,0,0)[12] intercept   : AIC=791.261, Time=0.63 sec\n",
      " ARIMA(0,1,2)(2,0,1)[12] intercept   : AIC=430.486, Time=5.45 sec\n",
      " ARIMA(0,1,2)(1,0,2)[12] intercept   : AIC=430.055, Time=6.62 sec\n",
      " ARIMA(0,1,2)(0,0,0)[12] intercept   : AIC=1762.294, Time=0.17 sec\n",
      " ARIMA(0,1,2)(0,0,2)[12] intercept   : AIC=1349.347, Time=1.11 sec\n",
      " ARIMA(0,1,2)(2,0,0)[12] intercept   : AIC=617.552, Time=1.97 sec\n",
      " ARIMA(0,1,2)(2,0,2)[12] intercept   : AIC=inf, Time=9.29 sec\n",
      " ARIMA(1,1,2)(1,0,1)[12] intercept   : AIC=448.989, Time=4.20 sec\n",
      " ARIMA(0,1,3)(1,0,1)[12] intercept   : AIC=425.334, Time=2.93 sec\n",
      " ARIMA(0,1,3)(0,0,1)[12] intercept   : AIC=1473.242, Time=0.74 sec\n",
      " ARIMA(0,1,3)(1,0,0)[12] intercept   : AIC=785.898, Time=0.77 sec\n",
      " ARIMA(0,1,3)(2,0,1)[12] intercept   : AIC=428.687, Time=8.65 sec\n",
      " ARIMA(0,1,3)(1,0,2)[12] intercept   : AIC=428.294, Time=13.08 sec\n",
      " ARIMA(0,1,3)(0,0,0)[12] intercept   : AIC=1665.019, Time=0.25 sec\n",
      " ARIMA(0,1,3)(0,0,2)[12] intercept   : AIC=1344.820, Time=1.49 sec\n",
      " ARIMA(0,1,3)(2,0,0)[12] intercept   : AIC=614.805, Time=2.45 sec\n",
      " ARIMA(0,1,3)(2,0,2)[12] intercept   : AIC=inf, Time=6.72 sec\n",
      " ARIMA(1,1,3)(1,0,1)[12] intercept   : AIC=442.017, Time=5.98 sec\n",
      " ARIMA(0,1,4)(1,0,1)[12] intercept   : AIC=427.612, Time=5.26 sec\n",
      " ARIMA(1,1,4)(1,0,1)[12] intercept   : AIC=462.124, Time=2.46 sec\n",
      " ARIMA(0,1,3)(1,0,1)[12]             : AIC=423.401, Time=1.43 sec\n",
      " ARIMA(0,1,3)(0,0,1)[12]             : AIC=1473.391, Time=0.35 sec\n",
      " ARIMA(0,1,3)(1,0,0)[12]             : AIC=784.597, Time=0.36 sec\n",
      " ARIMA(0,1,3)(2,0,1)[12]             : AIC=425.366, Time=2.20 sec\n",
      " ARIMA(0,1,3)(1,0,2)[12]             : AIC=425.363, Time=4.13 sec\n",
      " ARIMA(0,1,3)(0,0,0)[12]             : AIC=1665.331, Time=0.13 sec\n",
      " ARIMA(0,1,3)(0,0,2)[12]             : AIC=1344.996, Time=0.89 sec\n",
      " ARIMA(0,1,3)(2,0,0)[12]             : AIC=613.245, Time=0.97 sec\n",
      " ARIMA(0,1,3)(2,0,2)[12]             : AIC=inf, Time=5.28 sec\n",
      " ARIMA(0,1,2)(1,0,1)[12]             : AIC=426.285, Time=0.93 sec\n",
      " ARIMA(1,1,3)(1,0,1)[12]             : AIC=437.161, Time=5.39 sec\n",
      " ARIMA(0,1,4)(1,0,1)[12]             : AIC=424.955, Time=2.12 sec\n",
      " ARIMA(1,1,2)(1,0,1)[12]             : AIC=440.773, Time=2.25 sec\n",
      " ARIMA(1,1,4)(1,0,1)[12]             : AIC=425.601, Time=3.25 sec\n",
      "\n",
      "Best model:  ARIMA(0,1,3)(1,0,1)[12]          \n",
      "Total fit time: 134.921 seconds\n"
     ]
    }
   ],
   "source": [
    "grid_arima = auto_arima(df[\"interpolated\"], seasonal= True, m= 12,\n",
    "          start_p = 0, start_q= 0, start_P= 0, start_Q= 0, maxiter=300, trace= True)"
   ]
  },
  {
   "cell_type": "code",
   "execution_count": 33,
   "id": "8ffd2ec2",
   "metadata": {},
   "outputs": [
    {
     "data": {
      "text/html": [
       "<table class=\"simpletable\">\n",
       "<caption>SARIMAX Results</caption>\n",
       "<tr>\n",
       "  <th>Dep. Variable:</th>                   <td>y</td>                <th>  No. Observations:  </th>    <td>729</td>  \n",
       "</tr>\n",
       "<tr>\n",
       "  <th>Model:</th>           <td>SARIMAX(0, 1, 3)x(1, 0, [1], 12)</td> <th>  Log Likelihood     </th> <td>-205.701</td>\n",
       "</tr>\n",
       "<tr>\n",
       "  <th>Date:</th>                    <td>Thu, 24 Nov 2022</td>         <th>  AIC                </th>  <td>423.401</td>\n",
       "</tr>\n",
       "<tr>\n",
       "  <th>Time:</th>                        <td>07:23:56</td>             <th>  BIC                </th>  <td>450.943</td>\n",
       "</tr>\n",
       "<tr>\n",
       "  <th>Sample:</th>                     <td>03-01-1958</td>            <th>  HQIC               </th>  <td>434.028</td>\n",
       "</tr>\n",
       "<tr>\n",
       "  <th></th>                           <td>- 11-01-2018</td>           <th>                     </th>     <td> </td>   \n",
       "</tr>\n",
       "<tr>\n",
       "  <th>Covariance Type:</th>                <td>opg</td>               <th>                     </th>     <td> </td>   \n",
       "</tr>\n",
       "</table>\n",
       "<table class=\"simpletable\">\n",
       "<tr>\n",
       "      <td></td>        <th>coef</th>     <th>std err</th>      <th>z</th>      <th>P>|z|</th>  <th>[0.025</th>    <th>0.975]</th>  \n",
       "</tr>\n",
       "<tr>\n",
       "  <th>ma.L1</th>    <td>   -0.3560</td> <td>    0.035</td> <td>  -10.073</td> <td> 0.000</td> <td>   -0.425</td> <td>   -0.287</td>\n",
       "</tr>\n",
       "<tr>\n",
       "  <th>ma.L2</th>    <td>   -0.0224</td> <td>    0.028</td> <td>   -0.792</td> <td> 0.428</td> <td>   -0.078</td> <td>    0.033</td>\n",
       "</tr>\n",
       "<tr>\n",
       "  <th>ma.L3</th>    <td>   -0.0861</td> <td>    0.028</td> <td>   -3.042</td> <td> 0.002</td> <td>   -0.142</td> <td>   -0.031</td>\n",
       "</tr>\n",
       "<tr>\n",
       "  <th>ar.S.L12</th> <td>    0.9996</td> <td>    0.000</td> <td> 2870.137</td> <td> 0.000</td> <td>    0.999</td> <td>    1.000</td>\n",
       "</tr>\n",
       "<tr>\n",
       "  <th>ma.S.L12</th> <td>   -0.8653</td> <td>    0.021</td> <td>  -40.475</td> <td> 0.000</td> <td>   -0.907</td> <td>   -0.823</td>\n",
       "</tr>\n",
       "<tr>\n",
       "  <th>sigma2</th>   <td>    0.0956</td> <td>    0.005</td> <td>   20.324</td> <td> 0.000</td> <td>    0.086</td> <td>    0.105</td>\n",
       "</tr>\n",
       "</table>\n",
       "<table class=\"simpletable\">\n",
       "<tr>\n",
       "  <th>Ljung-Box (L1) (Q):</th>     <td>0.07</td> <th>  Jarque-Bera (JB):  </th> <td>3.99</td>\n",
       "</tr>\n",
       "<tr>\n",
       "  <th>Prob(Q):</th>                <td>0.79</td> <th>  Prob(JB):          </th> <td>0.14</td>\n",
       "</tr>\n",
       "<tr>\n",
       "  <th>Heteroskedasticity (H):</th> <td>1.13</td> <th>  Skew:              </th> <td>0.00</td>\n",
       "</tr>\n",
       "<tr>\n",
       "  <th>Prob(H) (two-sided):</th>    <td>0.34</td> <th>  Kurtosis:          </th> <td>3.36</td>\n",
       "</tr>\n",
       "</table><br/><br/>Warnings:<br/>[1] Covariance matrix calculated using the outer product of gradients (complex-step)."
      ],
      "text/plain": [
       "<class 'statsmodels.iolib.summary.Summary'>\n",
       "\"\"\"\n",
       "                                      SARIMAX Results                                       \n",
       "============================================================================================\n",
       "Dep. Variable:                                    y   No. Observations:                  729\n",
       "Model:             SARIMAX(0, 1, 3)x(1, 0, [1], 12)   Log Likelihood                -205.701\n",
       "Date:                              Thu, 24 Nov 2022   AIC                            423.401\n",
       "Time:                                      07:23:56   BIC                            450.943\n",
       "Sample:                                  03-01-1958   HQIC                           434.028\n",
       "                                       - 11-01-2018                                         \n",
       "Covariance Type:                                opg                                         \n",
       "==============================================================================\n",
       "                 coef    std err          z      P>|z|      [0.025      0.975]\n",
       "------------------------------------------------------------------------------\n",
       "ma.L1         -0.3560      0.035    -10.073      0.000      -0.425      -0.287\n",
       "ma.L2         -0.0224      0.028     -0.792      0.428      -0.078       0.033\n",
       "ma.L3         -0.0861      0.028     -3.042      0.002      -0.142      -0.031\n",
       "ar.S.L12       0.9996      0.000   2870.137      0.000       0.999       1.000\n",
       "ma.S.L12      -0.8653      0.021    -40.475      0.000      -0.907      -0.823\n",
       "sigma2         0.0956      0.005     20.324      0.000       0.086       0.105\n",
       "===================================================================================\n",
       "Ljung-Box (L1) (Q):                   0.07   Jarque-Bera (JB):                 3.99\n",
       "Prob(Q):                              0.79   Prob(JB):                         0.14\n",
       "Heteroskedasticity (H):               1.13   Skew:                             0.00\n",
       "Prob(H) (two-sided):                  0.34   Kurtosis:                         3.36\n",
       "===================================================================================\n",
       "\n",
       "Warnings:\n",
       "[1] Covariance matrix calculated using the outer product of gradients (complex-step).\n",
       "\"\"\""
      ]
     },
     "execution_count": 33,
     "metadata": {},
     "output_type": "execute_result"
    }
   ],
   "source": [
    "grid_arima.summary()"
   ]
  },
  {
   "cell_type": "code",
   "execution_count": null,
   "id": "3fa542a3",
   "metadata": {},
   "outputs": [],
   "source": []
  },
  {
   "cell_type": "code",
   "execution_count": 34,
   "id": "feb7671e",
   "metadata": {},
   "outputs": [],
   "source": [
    "# So, (p,d,q)(P,D,Q,m) = (0,1,3)(1,0,1,12)"
   ]
  },
  {
   "cell_type": "code",
   "execution_count": null,
   "id": "0ef71e22",
   "metadata": {},
   "outputs": [],
   "source": []
  },
  {
   "cell_type": "markdown",
   "id": "fc03c800",
   "metadata": {},
   "source": [
    "### Train Test Split:"
   ]
  },
  {
   "cell_type": "code",
   "execution_count": 35,
   "id": "776e28b8",
   "metadata": {},
   "outputs": [
    {
     "data": {
      "text/html": [
       "<div>\n",
       "<style scoped>\n",
       "    .dataframe tbody tr th:only-of-type {\n",
       "        vertical-align: middle;\n",
       "    }\n",
       "\n",
       "    .dataframe tbody tr th {\n",
       "        vertical-align: top;\n",
       "    }\n",
       "\n",
       "    .dataframe thead th {\n",
       "        text-align: right;\n",
       "    }\n",
       "</style>\n",
       "<table border=\"1\" class=\"dataframe\">\n",
       "  <thead>\n",
       "    <tr style=\"text-align: right;\">\n",
       "      <th></th>\n",
       "      <th>year</th>\n",
       "      <th>month</th>\n",
       "      <th>decimal_date</th>\n",
       "      <th>average</th>\n",
       "      <th>interpolated</th>\n",
       "    </tr>\n",
       "    <tr>\n",
       "      <th>Date</th>\n",
       "      <th></th>\n",
       "      <th></th>\n",
       "      <th></th>\n",
       "      <th></th>\n",
       "      <th></th>\n",
       "    </tr>\n",
       "  </thead>\n",
       "  <tbody>\n",
       "    <tr>\n",
       "      <th>1958-03-01</th>\n",
       "      <td>1958</td>\n",
       "      <td>3</td>\n",
       "      <td>1958.208</td>\n",
       "      <td>315.71</td>\n",
       "      <td>315.71</td>\n",
       "    </tr>\n",
       "    <tr>\n",
       "      <th>1958-04-01</th>\n",
       "      <td>1958</td>\n",
       "      <td>4</td>\n",
       "      <td>1958.292</td>\n",
       "      <td>317.45</td>\n",
       "      <td>317.45</td>\n",
       "    </tr>\n",
       "    <tr>\n",
       "      <th>1958-05-01</th>\n",
       "      <td>1958</td>\n",
       "      <td>5</td>\n",
       "      <td>1958.375</td>\n",
       "      <td>317.50</td>\n",
       "      <td>317.50</td>\n",
       "    </tr>\n",
       "    <tr>\n",
       "      <th>1958-06-01</th>\n",
       "      <td>1958</td>\n",
       "      <td>6</td>\n",
       "      <td>1958.458</td>\n",
       "      <td>NaN</td>\n",
       "      <td>317.10</td>\n",
       "    </tr>\n",
       "    <tr>\n",
       "      <th>1958-07-01</th>\n",
       "      <td>1958</td>\n",
       "      <td>7</td>\n",
       "      <td>1958.542</td>\n",
       "      <td>315.86</td>\n",
       "      <td>315.86</td>\n",
       "    </tr>\n",
       "  </tbody>\n",
       "</table>\n",
       "</div>"
      ],
      "text/plain": [
       "            year  month  decimal_date  average  interpolated\n",
       "Date                                                        \n",
       "1958-03-01  1958      3      1958.208   315.71        315.71\n",
       "1958-04-01  1958      4      1958.292   317.45        317.45\n",
       "1958-05-01  1958      5      1958.375   317.50        317.50\n",
       "1958-06-01  1958      6      1958.458      NaN        317.10\n",
       "1958-07-01  1958      7      1958.542   315.86        315.86"
      ]
     },
     "execution_count": 35,
     "metadata": {},
     "output_type": "execute_result"
    }
   ],
   "source": [
    "df.head()"
   ]
  },
  {
   "cell_type": "code",
   "execution_count": 36,
   "id": "86a7e58e",
   "metadata": {},
   "outputs": [
    {
     "data": {
      "text/html": [
       "<div>\n",
       "<style scoped>\n",
       "    .dataframe tbody tr th:only-of-type {\n",
       "        vertical-align: middle;\n",
       "    }\n",
       "\n",
       "    .dataframe tbody tr th {\n",
       "        vertical-align: top;\n",
       "    }\n",
       "\n",
       "    .dataframe thead th {\n",
       "        text-align: right;\n",
       "    }\n",
       "</style>\n",
       "<table border=\"1\" class=\"dataframe\">\n",
       "  <thead>\n",
       "    <tr style=\"text-align: right;\">\n",
       "      <th></th>\n",
       "      <th>year</th>\n",
       "      <th>month</th>\n",
       "      <th>decimal_date</th>\n",
       "      <th>average</th>\n",
       "      <th>interpolated</th>\n",
       "    </tr>\n",
       "    <tr>\n",
       "      <th>Date</th>\n",
       "      <th></th>\n",
       "      <th></th>\n",
       "      <th></th>\n",
       "      <th></th>\n",
       "      <th></th>\n",
       "    </tr>\n",
       "  </thead>\n",
       "  <tbody>\n",
       "    <tr>\n",
       "      <th>2018-07-01</th>\n",
       "      <td>2018</td>\n",
       "      <td>7</td>\n",
       "      <td>2018.542</td>\n",
       "      <td>408.71</td>\n",
       "      <td>408.71</td>\n",
       "    </tr>\n",
       "    <tr>\n",
       "      <th>2018-08-01</th>\n",
       "      <td>2018</td>\n",
       "      <td>8</td>\n",
       "      <td>2018.625</td>\n",
       "      <td>406.99</td>\n",
       "      <td>406.99</td>\n",
       "    </tr>\n",
       "    <tr>\n",
       "      <th>2018-09-01</th>\n",
       "      <td>2018</td>\n",
       "      <td>9</td>\n",
       "      <td>2018.708</td>\n",
       "      <td>405.51</td>\n",
       "      <td>405.51</td>\n",
       "    </tr>\n",
       "    <tr>\n",
       "      <th>2018-10-01</th>\n",
       "      <td>2018</td>\n",
       "      <td>10</td>\n",
       "      <td>2018.792</td>\n",
       "      <td>406.00</td>\n",
       "      <td>406.00</td>\n",
       "    </tr>\n",
       "    <tr>\n",
       "      <th>2018-11-01</th>\n",
       "      <td>2018</td>\n",
       "      <td>11</td>\n",
       "      <td>2018.875</td>\n",
       "      <td>408.02</td>\n",
       "      <td>408.02</td>\n",
       "    </tr>\n",
       "  </tbody>\n",
       "</table>\n",
       "</div>"
      ],
      "text/plain": [
       "            year  month  decimal_date  average  interpolated\n",
       "Date                                                        \n",
       "2018-07-01  2018      7      2018.542   408.71        408.71\n",
       "2018-08-01  2018      8      2018.625   406.99        406.99\n",
       "2018-09-01  2018      9      2018.708   405.51        405.51\n",
       "2018-10-01  2018     10      2018.792   406.00        406.00\n",
       "2018-11-01  2018     11      2018.875   408.02        408.02"
      ]
     },
     "execution_count": 36,
     "metadata": {},
     "output_type": "execute_result"
    }
   ],
   "source": [
    "df.tail()"
   ]
  },
  {
   "cell_type": "code",
   "execution_count": 37,
   "id": "dc368e56",
   "metadata": {},
   "outputs": [
    {
     "data": {
      "text/plain": [
       "729"
      ]
     },
     "execution_count": 37,
     "metadata": {},
     "output_type": "execute_result"
    }
   ],
   "source": [
    "len(df)"
   ]
  },
  {
   "cell_type": "code",
   "execution_count": 38,
   "id": "07c9f896",
   "metadata": {},
   "outputs": [],
   "source": [
    "train_data = df[:693]\n",
    "test_data = df[693:]"
   ]
  },
  {
   "cell_type": "code",
   "execution_count": 39,
   "id": "5cc868c3",
   "metadata": {},
   "outputs": [
    {
     "data": {
      "text/plain": [
       "(693, 5)"
      ]
     },
     "execution_count": 39,
     "metadata": {},
     "output_type": "execute_result"
    }
   ],
   "source": [
    "train_data.shape"
   ]
  },
  {
   "cell_type": "code",
   "execution_count": 40,
   "id": "1326d894",
   "metadata": {},
   "outputs": [
    {
     "data": {
      "text/plain": [
       "(36, 5)"
      ]
     },
     "execution_count": 40,
     "metadata": {},
     "output_type": "execute_result"
    }
   ],
   "source": [
    "test_data.shape"
   ]
  },
  {
   "cell_type": "code",
   "execution_count": null,
   "id": "dcfb2b10",
   "metadata": {},
   "outputs": [],
   "source": []
  },
  {
   "cell_type": "markdown",
   "id": "c1047ac9",
   "metadata": {},
   "source": [
    "### SARIMA(0,1,3)(1,0,1,12) Model:"
   ]
  },
  {
   "cell_type": "code",
   "execution_count": 41,
   "id": "734aebe7",
   "metadata": {},
   "outputs": [],
   "source": [
    "model = SARIMAX(train_data[\"interpolated\"], order= (0,1,3), seasonal_order= (1,0,1,12))"
   ]
  },
  {
   "cell_type": "code",
   "execution_count": 42,
   "id": "b7f805f7",
   "metadata": {},
   "outputs": [],
   "source": [
    "results = model.fit()"
   ]
  },
  {
   "cell_type": "code",
   "execution_count": 43,
   "id": "a78878b9",
   "metadata": {},
   "outputs": [
    {
     "data": {
      "text/html": [
       "<table class=\"simpletable\">\n",
       "<caption>SARIMAX Results</caption>\n",
       "<tr>\n",
       "  <th>Dep. Variable:</th>             <td>interpolated</td>           <th>  No. Observations:  </th>    <td>693</td>  \n",
       "</tr>\n",
       "<tr>\n",
       "  <th>Model:</th>           <td>SARIMAX(0, 1, 3)x(1, 0, [1], 12)</td> <th>  Log Likelihood     </th> <td>-183.669</td>\n",
       "</tr>\n",
       "<tr>\n",
       "  <th>Date:</th>                    <td>Thu, 24 Nov 2022</td>         <th>  AIC                </th>  <td>379.337</td>\n",
       "</tr>\n",
       "<tr>\n",
       "  <th>Time:</th>                        <td>07:28:29</td>             <th>  BIC                </th>  <td>406.575</td>\n",
       "</tr>\n",
       "<tr>\n",
       "  <th>Sample:</th>                     <td>03-01-1958</td>            <th>  HQIC               </th>  <td>389.872</td>\n",
       "</tr>\n",
       "<tr>\n",
       "  <th></th>                           <td>- 11-01-2015</td>           <th>                     </th>     <td> </td>   \n",
       "</tr>\n",
       "<tr>\n",
       "  <th>Covariance Type:</th>                <td>opg</td>               <th>                     </th>     <td> </td>   \n",
       "</tr>\n",
       "</table>\n",
       "<table class=\"simpletable\">\n",
       "<tr>\n",
       "      <td></td>        <th>coef</th>     <th>std err</th>      <th>z</th>      <th>P>|z|</th>  <th>[0.025</th>    <th>0.975]</th>  \n",
       "</tr>\n",
       "<tr>\n",
       "  <th>ma.L1</th>    <td>   -0.3557</td> <td>    0.034</td> <td>  -10.428</td> <td> 0.000</td> <td>   -0.423</td> <td>   -0.289</td>\n",
       "</tr>\n",
       "<tr>\n",
       "  <th>ma.L2</th>    <td>   -0.0465</td> <td>    0.026</td> <td>   -1.817</td> <td> 0.069</td> <td>   -0.097</td> <td>    0.004</td>\n",
       "</tr>\n",
       "<tr>\n",
       "  <th>ma.L3</th>    <td>   -0.0652</td> <td>    0.030</td> <td>   -2.151</td> <td> 0.031</td> <td>   -0.125</td> <td>   -0.006</td>\n",
       "</tr>\n",
       "<tr>\n",
       "  <th>ar.S.L12</th> <td>    0.9997</td> <td>    0.000</td> <td> 3508.073</td> <td> 0.000</td> <td>    0.999</td> <td>    1.000</td>\n",
       "</tr>\n",
       "<tr>\n",
       "  <th>ma.S.L12</th> <td>   -0.8740</td> <td>    0.022</td> <td>  -39.762</td> <td> 0.000</td> <td>   -0.917</td> <td>   -0.831</td>\n",
       "</tr>\n",
       "<tr>\n",
       "  <th>sigma2</th>   <td>    0.0916</td> <td>    0.005</td> <td>   18.877</td> <td> 0.000</td> <td>    0.082</td> <td>    0.101</td>\n",
       "</tr>\n",
       "</table>\n",
       "<table class=\"simpletable\">\n",
       "<tr>\n",
       "  <th>Ljung-Box (L1) (Q):</th>     <td>0.08</td> <th>  Jarque-Bera (JB):  </th> <td>1.25</td> \n",
       "</tr>\n",
       "<tr>\n",
       "  <th>Prob(Q):</th>                <td>0.78</td> <th>  Prob(JB):          </th> <td>0.53</td> \n",
       "</tr>\n",
       "<tr>\n",
       "  <th>Heteroskedasticity (H):</th> <td>1.06</td> <th>  Skew:              </th> <td>-0.08</td>\n",
       "</tr>\n",
       "<tr>\n",
       "  <th>Prob(H) (two-sided):</th>    <td>0.64</td> <th>  Kurtosis:          </th> <td>3.14</td> \n",
       "</tr>\n",
       "</table><br/><br/>Warnings:<br/>[1] Covariance matrix calculated using the outer product of gradients (complex-step)."
      ],
      "text/plain": [
       "<class 'statsmodels.iolib.summary.Summary'>\n",
       "\"\"\"\n",
       "                                      SARIMAX Results                                       \n",
       "============================================================================================\n",
       "Dep. Variable:                         interpolated   No. Observations:                  693\n",
       "Model:             SARIMAX(0, 1, 3)x(1, 0, [1], 12)   Log Likelihood                -183.669\n",
       "Date:                              Thu, 24 Nov 2022   AIC                            379.337\n",
       "Time:                                      07:28:29   BIC                            406.575\n",
       "Sample:                                  03-01-1958   HQIC                           389.872\n",
       "                                       - 11-01-2015                                         \n",
       "Covariance Type:                                opg                                         \n",
       "==============================================================================\n",
       "                 coef    std err          z      P>|z|      [0.025      0.975]\n",
       "------------------------------------------------------------------------------\n",
       "ma.L1         -0.3557      0.034    -10.428      0.000      -0.423      -0.289\n",
       "ma.L2         -0.0465      0.026     -1.817      0.069      -0.097       0.004\n",
       "ma.L3         -0.0652      0.030     -2.151      0.031      -0.125      -0.006\n",
       "ar.S.L12       0.9997      0.000   3508.073      0.000       0.999       1.000\n",
       "ma.S.L12      -0.8740      0.022    -39.762      0.000      -0.917      -0.831\n",
       "sigma2         0.0916      0.005     18.877      0.000       0.082       0.101\n",
       "===================================================================================\n",
       "Ljung-Box (L1) (Q):                   0.08   Jarque-Bera (JB):                 1.25\n",
       "Prob(Q):                              0.78   Prob(JB):                         0.53\n",
       "Heteroskedasticity (H):               1.06   Skew:                            -0.08\n",
       "Prob(H) (two-sided):                  0.64   Kurtosis:                         3.14\n",
       "===================================================================================\n",
       "\n",
       "Warnings:\n",
       "[1] Covariance matrix calculated using the outer product of gradients (complex-step).\n",
       "\"\"\""
      ]
     },
     "execution_count": 43,
     "metadata": {},
     "output_type": "execute_result"
    }
   ],
   "source": [
    "results.summary()"
   ]
  },
  {
   "cell_type": "code",
   "execution_count": null,
   "id": "4b72f9d8",
   "metadata": {},
   "outputs": [],
   "source": []
  },
  {
   "cell_type": "code",
   "execution_count": 44,
   "id": "3799f5a8",
   "metadata": {},
   "outputs": [],
   "source": [
    "# Predictions on Test Data:"
   ]
  },
  {
   "cell_type": "code",
   "execution_count": 45,
   "id": "33d6c2d0",
   "metadata": {},
   "outputs": [],
   "source": [
    "start = len(train_data)\n",
    "\n",
    "end = len(train_data) + len(test_data) - 1"
   ]
  },
  {
   "cell_type": "code",
   "execution_count": 46,
   "id": "be7f6c5b",
   "metadata": {},
   "outputs": [],
   "source": [
    "preds = results.predict(start= start, end= end, typ= \"levels\", dynamic= False)"
   ]
  },
  {
   "cell_type": "code",
   "execution_count": 47,
   "id": "bb50d04e",
   "metadata": {},
   "outputs": [
    {
     "data": {
      "text/plain": [
       "2015-12-01    401.395552\n",
       "2016-01-01    402.519924\n",
       "2016-02-01    403.188114\n",
       "2016-03-01    404.138750\n",
       "2016-04-01    405.487927\n",
       "2016-05-01    406.128751\n",
       "2016-06-01    405.379349\n",
       "2016-07-01    403.813341\n",
       "2016-08-01    401.699984\n",
       "2016-09-01    400.263980\n",
       "2016-10-01    400.488145\n",
       "2016-11-01    401.960154\n",
       "2016-12-01    403.406428\n",
       "2017-01-01    404.583315\n",
       "2017-02-01    405.286113\n",
       "2017-03-01    406.236475\n",
       "2017-04-01    407.585263\n",
       "2017-05-01    408.225901\n",
       "2017-06-01    407.476716\n",
       "2017-07-01    405.911160\n",
       "2017-08-01    403.798413\n",
       "2017-09-01    402.362824\n",
       "2017-10-01    402.586923\n",
       "2017-11-01    404.058508\n",
       "2017-12-01    405.504364\n",
       "2018-01-01    406.680911\n",
       "2018-02-01    407.383507\n",
       "2018-03-01    408.333594\n",
       "2018-04-01    409.681992\n",
       "2018-05-01    410.322446\n",
       "2018-06-01    409.573477\n",
       "2018-07-01    408.008373\n",
       "2018-08-01    405.896236\n",
       "2018-09-01    404.461062\n",
       "2018-10-01    404.685096\n",
       "2018-11-01    406.156256\n",
       "Freq: MS, Name: predicted_mean, dtype: float64"
      ]
     },
     "execution_count": 47,
     "metadata": {},
     "output_type": "execute_result"
    }
   ],
   "source": [
    "preds"
   ]
  },
  {
   "cell_type": "code",
   "execution_count": null,
   "id": "796f4554",
   "metadata": {},
   "outputs": [],
   "source": []
  },
  {
   "cell_type": "code",
   "execution_count": 50,
   "id": "eeb5fa5b",
   "metadata": {},
   "outputs": [
    {
     "data": {
      "text/plain": [
       "<AxesSubplot:xlabel='Date'>"
      ]
     },
     "execution_count": 50,
     "metadata": {},
     "output_type": "execute_result"
    },
    {
     "data": {
      "image/png": "[encoded data removed]",
      "text/plain": [
       "<Figure size 864x432 with 1 Axes>"
      ]
     },
     "metadata": {
      "needs_background": "light"
     },
     "output_type": "display_data"
    }
   ],
   "source": [
    "# Plotting Test Data and Predictions:\n",
    "\n",
    "test_data[\"interpolated\"].plot(figsize= (12,6), legend= True)\n",
    "preds.plot(label= \"Predictions\", legend= True)"
   ]
  },
  {
   "cell_type": "code",
   "execution_count": null,
   "id": "ed49dd5e",
   "metadata": {},
   "outputs": [],
   "source": []
  },
  {
   "cell_type": "code",
   "execution_count": 51,
   "id": "e5cfcded",
   "metadata": {},
   "outputs": [],
   "source": [
    "# Model Evaluation:"
   ]
  },
  {
   "cell_type": "code",
   "execution_count": 53,
   "id": "3aaeba17",
   "metadata": {},
   "outputs": [
    {
     "data": {
      "text/plain": [
       "1.1759572518877133"
      ]
     },
     "execution_count": 53,
     "metadata": {},
     "output_type": "execute_result"
    }
   ],
   "source": [
    "np.sqrt(mean_squared_error(test_data[\"interpolated\"], preds))"
   ]
  },
  {
   "cell_type": "code",
   "execution_count": null,
   "id": "372135d8",
   "metadata": {},
   "outputs": [],
   "source": []
  },
  {
   "cell_type": "markdown",
   "id": "cddf8004",
   "metadata": {},
   "source": [
    "### Training Model on Whole Data and Future Forecasting:"
   ]
  },
  {
   "cell_type": "code",
   "execution_count": 54,
   "id": "921eadf9",
   "metadata": {},
   "outputs": [],
   "source": [
    "final_model = SARIMAX(df[\"interpolated\"], order=(0,1,3),seasonal_order=(1,0,1,12))"
   ]
  },
  {
   "cell_type": "code",
   "execution_count": 55,
   "id": "f72ad608",
   "metadata": {},
   "outputs": [],
   "source": [
    "results = final_model.fit()"
   ]
  },
  {
   "cell_type": "code",
   "execution_count": 56,
   "id": "badd4891",
   "metadata": {},
   "outputs": [
    {
     "data": {
      "text/html": [
       "<table class=\"simpletable\">\n",
       "<caption>SARIMAX Results</caption>\n",
       "<tr>\n",
       "  <th>Dep. Variable:</th>             <td>interpolated</td>           <th>  No. Observations:  </th>    <td>729</td>  \n",
       "</tr>\n",
       "<tr>\n",
       "  <th>Model:</th>           <td>SARIMAX(0, 1, 3)x(1, 0, [1], 12)</td> <th>  Log Likelihood     </th> <td>-205.701</td>\n",
       "</tr>\n",
       "<tr>\n",
       "  <th>Date:</th>                    <td>Thu, 24 Nov 2022</td>         <th>  AIC                </th>  <td>423.401</td>\n",
       "</tr>\n",
       "<tr>\n",
       "  <th>Time:</th>                        <td>07:35:05</td>             <th>  BIC                </th>  <td>450.943</td>\n",
       "</tr>\n",
       "<tr>\n",
       "  <th>Sample:</th>                     <td>03-01-1958</td>            <th>  HQIC               </th>  <td>434.028</td>\n",
       "</tr>\n",
       "<tr>\n",
       "  <th></th>                           <td>- 11-01-2018</td>           <th>                     </th>     <td> </td>   \n",
       "</tr>\n",
       "<tr>\n",
       "  <th>Covariance Type:</th>                <td>opg</td>               <th>                     </th>     <td> </td>   \n",
       "</tr>\n",
       "</table>\n",
       "<table class=\"simpletable\">\n",
       "<tr>\n",
       "      <td></td>        <th>coef</th>     <th>std err</th>      <th>z</th>      <th>P>|z|</th>  <th>[0.025</th>    <th>0.975]</th>  \n",
       "</tr>\n",
       "<tr>\n",
       "  <th>ma.L1</th>    <td>   -0.3560</td> <td>    0.035</td> <td>  -10.073</td> <td> 0.000</td> <td>   -0.425</td> <td>   -0.287</td>\n",
       "</tr>\n",
       "<tr>\n",
       "  <th>ma.L2</th>    <td>   -0.0224</td> <td>    0.028</td> <td>   -0.792</td> <td> 0.428</td> <td>   -0.078</td> <td>    0.033</td>\n",
       "</tr>\n",
       "<tr>\n",
       "  <th>ma.L3</th>    <td>   -0.0861</td> <td>    0.028</td> <td>   -3.042</td> <td> 0.002</td> <td>   -0.142</td> <td>   -0.031</td>\n",
       "</tr>\n",
       "<tr>\n",
       "  <th>ar.S.L12</th> <td>    0.9996</td> <td>    0.000</td> <td> 2870.137</td> <td> 0.000</td> <td>    0.999</td> <td>    1.000</td>\n",
       "</tr>\n",
       "<tr>\n",
       "  <th>ma.S.L12</th> <td>   -0.8653</td> <td>    0.021</td> <td>  -40.475</td> <td> 0.000</td> <td>   -0.907</td> <td>   -0.823</td>\n",
       "</tr>\n",
       "<tr>\n",
       "  <th>sigma2</th>   <td>    0.0956</td> <td>    0.005</td> <td>   20.324</td> <td> 0.000</td> <td>    0.086</td> <td>    0.105</td>\n",
       "</tr>\n",
       "</table>\n",
       "<table class=\"simpletable\">\n",
       "<tr>\n",
       "  <th>Ljung-Box (L1) (Q):</th>     <td>0.07</td> <th>  Jarque-Bera (JB):  </th> <td>3.99</td>\n",
       "</tr>\n",
       "<tr>\n",
       "  <th>Prob(Q):</th>                <td>0.79</td> <th>  Prob(JB):          </th> <td>0.14</td>\n",
       "</tr>\n",
       "<tr>\n",
       "  <th>Heteroskedasticity (H):</th> <td>1.13</td> <th>  Skew:              </th> <td>0.00</td>\n",
       "</tr>\n",
       "<tr>\n",
       "  <th>Prob(H) (two-sided):</th>    <td>0.34</td> <th>  Kurtosis:          </th> <td>3.36</td>\n",
       "</tr>\n",
       "</table><br/><br/>Warnings:<br/>[1] Covariance matrix calculated using the outer product of gradients (complex-step)."
      ],
      "text/plain": [
       "<class 'statsmodels.iolib.summary.Summary'>\n",
       "\"\"\"\n",
       "                                      SARIMAX Results                                       \n",
       "============================================================================================\n",
       "Dep. Variable:                         interpolated   No. Observations:                  729\n",
       "Model:             SARIMAX(0, 1, 3)x(1, 0, [1], 12)   Log Likelihood                -205.701\n",
       "Date:                              Thu, 24 Nov 2022   AIC                            423.401\n",
       "Time:                                      07:35:05   BIC                            450.943\n",
       "Sample:                                  03-01-1958   HQIC                           434.028\n",
       "                                       - 11-01-2018                                         \n",
       "Covariance Type:                                opg                                         \n",
       "==============================================================================\n",
       "                 coef    std err          z      P>|z|      [0.025      0.975]\n",
       "------------------------------------------------------------------------------\n",
       "ma.L1         -0.3560      0.035    -10.073      0.000      -0.425      -0.287\n",
       "ma.L2         -0.0224      0.028     -0.792      0.428      -0.078       0.033\n",
       "ma.L3         -0.0861      0.028     -3.042      0.002      -0.142      -0.031\n",
       "ar.S.L12       0.9996      0.000   2870.137      0.000       0.999       1.000\n",
       "ma.S.L12      -0.8653      0.021    -40.475      0.000      -0.907      -0.823\n",
       "sigma2         0.0956      0.005     20.324      0.000       0.086       0.105\n",
       "===================================================================================\n",
       "Ljung-Box (L1) (Q):                   0.07   Jarque-Bera (JB):                 3.99\n",
       "Prob(Q):                              0.79   Prob(JB):                         0.14\n",
       "Heteroskedasticity (H):               1.13   Skew:                             0.00\n",
       "Prob(H) (two-sided):                  0.34   Kurtosis:                         3.36\n",
       "===================================================================================\n",
       "\n",
       "Warnings:\n",
       "[1] Covariance matrix calculated using the outer product of gradients (complex-step).\n",
       "\"\"\""
      ]
     },
     "execution_count": 56,
     "metadata": {},
     "output_type": "execute_result"
    }
   ],
   "source": [
    "results.summary()"
   ]
  },
  {
   "cell_type": "code",
   "execution_count": null,
   "id": "08a59ad6",
   "metadata": {},
   "outputs": [],
   "source": []
  },
  {
   "cell_type": "code",
   "execution_count": 57,
   "id": "272424bd",
   "metadata": {},
   "outputs": [],
   "source": [
    "# Future Forecasting:\n",
    "\n",
    "forecast = results.predict(start= len(df), end= len(df)+24, typ= \"levels\")"
   ]
  },
  {
   "cell_type": "code",
   "execution_count": 58,
   "id": "bb86632d",
   "metadata": {},
   "outputs": [
    {
     "data": {
      "text/plain": [
       "2018-12-01    409.255203\n",
       "2019-01-01    410.416321\n",
       "2019-02-01    411.058184\n",
       "2019-03-01    411.987686\n",
       "2019-04-01    413.447184\n",
       "2019-05-01    414.103469\n",
       "2019-06-01    413.367621\n",
       "2019-07-01    411.625470\n",
       "2019-08-01    409.577278\n",
       "2019-09-01    408.123935\n",
       "2019-10-01    408.424311\n",
       "2019-11-01    410.023027\n",
       "2019-12-01    411.452531\n",
       "2020-01-01    412.641980\n",
       "2020-02-01    413.327937\n",
       "2020-03-01    414.257079\n",
       "2020-04-01    415.716010\n",
       "2020-05-01    416.372040\n",
       "2020-06-01    415.636478\n",
       "2020-07-01    413.895003\n",
       "2020-08-01    411.847608\n",
       "2020-09-01    410.394829\n",
       "2020-10-01    410.695088\n",
       "2020-11-01    412.293183\n",
       "2020-12-01    413.722132\n",
       "Freq: MS, Name: predicted_mean, dtype: float64"
      ]
     },
     "execution_count": 58,
     "metadata": {},
     "output_type": "execute_result"
    }
   ],
   "source": [
    "forecast"
   ]
  },
  {
   "cell_type": "code",
   "execution_count": null,
   "id": "3f02e585",
   "metadata": {},
   "outputs": [],
   "source": []
  },
  {
   "cell_type": "code",
   "execution_count": 60,
   "id": "c70a96f5",
   "metadata": {},
   "outputs": [
    {
     "data": {
      "text/plain": [
       "<AxesSubplot:xlabel='Date'>"
      ]
     },
     "execution_count": 60,
     "metadata": {},
     "output_type": "execute_result"
    },
    {
     "data": {
      "image/png": "[encoded data removed]",
      "text/plain": [
       "<Figure size 864x576 with 1 Axes>"
      ]
     },
     "metadata": {
      "needs_background": "light"
     },
     "output_type": "display_data"
    }
   ],
   "source": [
    "# Plotting Hostoric Data with Forecast:\n",
    "\n",
    "df[\"interpolated\"].plot(figsize= (12,8), legend= True)\n",
    "forecast.plot(label= \"Forecast\", legend= True)"
   ]
  }
 ],
 "metadata": {
  "kernelspec": {
   "display_name": "Python 3 (ipykernel)",
   "language": "python",
   "name": "python3"
  },
  "language_info": {
   "codemirror_mode": {
    "name": "ipython",
    "version": 3
   },
   "file_extension": ".py",
   "mimetype": "text/x-python",
   "name": "python",
   "nbconvert_exporter": "python",
   "pygments_lexer": "ipython3",
   "version": "3.8.12"
  }
 },
 "nbformat": 4,
 "nbformat_minor": 5
}
