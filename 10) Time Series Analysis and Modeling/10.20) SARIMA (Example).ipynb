{
 "cells": [
  {
   "cell_type": "markdown",
   "id": "03877b83",
   "metadata": {},
   "source": [
    "# SARIMA (Example)"
   ]
  },
  {
   "cell_type": "code",
   "execution_count": 1,
   "id": "f814b8e9",
   "metadata": {},
   "outputs": [],
   "source": [
    "import pandas as pd\n",
    "import numpy as np\n",
    "\n",
    "from statsmodels.tsa.statespace.sarimax import SARIMAX\n",
    "\n",
    "from statsmodels.tsa.seasonal import seasonal_decompose      \n",
    "from pmdarima import auto_arima                              \n",
    "\n",
    "from sklearn.metrics import mean_squared_error"
   ]
  },
  {
   "cell_type": "code",
   "execution_count": null,
   "id": "05f70a60",
   "metadata": {},
   "outputs": [],
   "source": []
  },
  {
   "cell_type": "code",
   "execution_count": 5,
   "id": "5a3a010e",
   "metadata": {},
   "outputs": [],
   "source": [
    "df = pd.read_csv(\"HospitalityEmployees.csv\", index_col= 0, parse_dates= True)"
   ]
  },
  {
   "cell_type": "code",
   "execution_count": 6,
   "id": "df0fc405",
   "metadata": {},
   "outputs": [
    {
     "data": {
      "text/html": [
       "<div>\n",
       "<style scoped>\n",
       "    .dataframe tbody tr th:only-of-type {\n",
       "        vertical-align: middle;\n",
       "    }\n",
       "\n",
       "    .dataframe tbody tr th {\n",
       "        vertical-align: top;\n",
       "    }\n",
       "\n",
       "    .dataframe thead th {\n",
       "        text-align: right;\n",
       "    }\n",
       "</style>\n",
       "<table border=\"1\" class=\"dataframe\">\n",
       "  <thead>\n",
       "    <tr style=\"text-align: right;\">\n",
       "      <th></th>\n",
       "      <th>Employees</th>\n",
       "    </tr>\n",
       "    <tr>\n",
       "      <th>Date</th>\n",
       "      <th></th>\n",
       "    </tr>\n",
       "  </thead>\n",
       "  <tbody>\n",
       "    <tr>\n",
       "      <th>1990-01-01</th>\n",
       "      <td>1064.5</td>\n",
       "    </tr>\n",
       "    <tr>\n",
       "      <th>1990-02-01</th>\n",
       "      <td>1074.5</td>\n",
       "    </tr>\n",
       "    <tr>\n",
       "      <th>1990-03-01</th>\n",
       "      <td>1090.0</td>\n",
       "    </tr>\n",
       "    <tr>\n",
       "      <th>1990-04-01</th>\n",
       "      <td>1097.4</td>\n",
       "    </tr>\n",
       "    <tr>\n",
       "      <th>1990-05-01</th>\n",
       "      <td>1108.7</td>\n",
       "    </tr>\n",
       "  </tbody>\n",
       "</table>\n",
       "</div>"
      ],
      "text/plain": [
       "            Employees\n",
       "Date                 \n",
       "1990-01-01     1064.5\n",
       "1990-02-01     1074.5\n",
       "1990-03-01     1090.0\n",
       "1990-04-01     1097.4\n",
       "1990-05-01     1108.7"
      ]
     },
     "execution_count": 6,
     "metadata": {},
     "output_type": "execute_result"
    }
   ],
   "source": [
    "df.head()"
   ]
  },
  {
   "cell_type": "code",
   "execution_count": 7,
   "id": "3d9fe046",
   "metadata": {},
   "outputs": [
    {
     "data": {
      "text/plain": [
       "DatetimeIndex(['1990-01-01', '1990-02-01', '1990-03-01', '1990-04-01',\n",
       "               '1990-05-01', '1990-06-01', '1990-07-01', '1990-08-01',\n",
       "               '1990-09-01', '1990-10-01',\n",
       "               ...\n",
       "               '2018-03-01', '2018-04-01', '2018-05-01', '2018-06-01',\n",
       "               '2018-07-01', '2018-08-01', '2018-09-01', '2018-10-01',\n",
       "               '2018-11-01', '2018-12-01'],\n",
       "              dtype='datetime64[ns]', name='Date', length=348, freq=None)"
      ]
     },
     "execution_count": 7,
     "metadata": {},
     "output_type": "execute_result"
    }
   ],
   "source": [
    "df.index"
   ]
  },
  {
   "cell_type": "code",
   "execution_count": 8,
   "id": "4d87609f",
   "metadata": {},
   "outputs": [],
   "source": [
    "df.index.freq = \"MS\""
   ]
  },
  {
   "cell_type": "code",
   "execution_count": 9,
   "id": "98ba8a7a",
   "metadata": {},
   "outputs": [
    {
     "data": {
      "text/plain": [
       "DatetimeIndex(['1990-01-01', '1990-02-01', '1990-03-01', '1990-04-01',\n",
       "               '1990-05-01', '1990-06-01', '1990-07-01', '1990-08-01',\n",
       "               '1990-09-01', '1990-10-01',\n",
       "               ...\n",
       "               '2018-03-01', '2018-04-01', '2018-05-01', '2018-06-01',\n",
       "               '2018-07-01', '2018-08-01', '2018-09-01', '2018-10-01',\n",
       "               '2018-11-01', '2018-12-01'],\n",
       "              dtype='datetime64[ns]', name='Date', length=348, freq='MS')"
      ]
     },
     "execution_count": 9,
     "metadata": {},
     "output_type": "execute_result"
    }
   ],
   "source": [
    "df.index"
   ]
  },
  {
   "cell_type": "code",
   "execution_count": null,
   "id": "e08129b9",
   "metadata": {},
   "outputs": [],
   "source": []
  },
  {
   "cell_type": "code",
   "execution_count": 10,
   "id": "a19bd129",
   "metadata": {},
   "outputs": [
    {
     "data": {
      "text/plain": [
       "<AxesSubplot:xlabel='Date'>"
      ]
     },
     "execution_count": 10,
     "metadata": {},
     "output_type": "execute_result"
    },
    {
     "data": {
      "image/png": "[encoded data removed]",
      "text/plain": [
       "<Figure size 864x432 with 1 Axes>"
      ]
     },
     "metadata": {
      "needs_background": "light"
     },
     "output_type": "display_data"
    }
   ],
   "source": [
    "df.plot(figsize= (12,6))"
   ]
  },
  {
   "cell_type": "code",
   "execution_count": null,
   "id": "f8e24bdf",
   "metadata": {},
   "outputs": [],
   "source": []
  },
  {
   "cell_type": "markdown",
   "id": "14658380",
   "metadata": {},
   "source": [
    "### ETS Decomposition:"
   ]
  },
  {
   "cell_type": "code",
   "execution_count": 11,
   "id": "e02af871",
   "metadata": {},
   "outputs": [],
   "source": [
    "decomp = seasonal_decompose(df[\"Employees\"], model= \"additive\")"
   ]
  },
  {
   "cell_type": "code",
   "execution_count": 13,
   "id": "6fcacbe6",
   "metadata": {},
   "outputs": [
    {
     "data": {
      "image/png": "[encoded data removed]",
      "text/plain": [
       "<Figure size 432x288 with 4 Axes>"
      ]
     },
     "metadata": {
      "needs_background": "light"
     },
     "output_type": "display_data"
    }
   ],
   "source": [
    "decomp.plot();"
   ]
  },
  {
   "cell_type": "code",
   "execution_count": null,
   "id": "5d7a65bf",
   "metadata": {},
   "outputs": [],
   "source": []
  },
  {
   "cell_type": "markdown",
   "id": "42656a69",
   "metadata": {},
   "source": [
    "### Order Selection by Auto Arima:"
   ]
  },
  {
   "cell_type": "code",
   "execution_count": 15,
   "id": "6511f370",
   "metadata": {},
   "outputs": [
    {
     "name": "stdout",
     "output_type": "stream",
     "text": [
      "Performing stepwise search to minimize aic\n",
      " ARIMA(2,1,2)(1,0,1)[12] intercept   : AIC=2214.387, Time=1.15 sec\n",
      " ARIMA(0,1,0)(0,0,0)[12] intercept   : AIC=2974.636, Time=0.03 sec\n",
      " ARIMA(1,1,0)(1,0,0)[12] intercept   : AIC=inf, Time=0.26 sec\n",
      " ARIMA(0,1,1)(0,0,1)[12] intercept   : AIC=2707.381, Time=0.27 sec\n",
      " ARIMA(0,1,0)(0,0,0)[12]             : AIC=2980.790, Time=0.02 sec\n",
      " ARIMA(2,1,2)(0,0,1)[12] intercept   : AIC=inf, Time=0.85 sec\n",
      " ARIMA(2,1,2)(1,0,0)[12] intercept   : AIC=2340.936, Time=0.58 sec\n",
      " ARIMA(2,1,2)(2,0,1)[12] intercept   : AIC=2327.595, Time=1.70 sec\n",
      " ARIMA(2,1,2)(1,0,2)[12] intercept   : AIC=inf, Time=2.91 sec\n",
      " ARIMA(2,1,2)(0,0,0)[12] intercept   : AIC=inf, Time=0.33 sec\n",
      " ARIMA(2,1,2)(0,0,2)[12] intercept   : AIC=inf, Time=1.80 sec\n",
      " ARIMA(2,1,2)(2,0,0)[12] intercept   : AIC=2264.870, Time=1.65 sec\n",
      " ARIMA(2,1,2)(2,0,2)[12] intercept   : AIC=inf, Time=2.80 sec\n",
      " ARIMA(1,1,2)(1,0,1)[12] intercept   : AIC=2210.598, Time=1.05 sec\n",
      " ARIMA(1,1,2)(0,0,1)[12] intercept   : AIC=2703.032, Time=0.44 sec\n",
      " ARIMA(1,1,2)(1,0,0)[12] intercept   : AIC=2344.522, Time=0.42 sec\n",
      " ARIMA(1,1,2)(2,0,1)[12] intercept   : AIC=2215.422, Time=2.32 sec\n",
      " ARIMA(1,1,2)(1,0,2)[12] intercept   : AIC=2239.118, Time=2.16 sec\n",
      " ARIMA(1,1,2)(0,0,0)[12] intercept   : AIC=2961.373, Time=0.23 sec\n",
      " ARIMA(1,1,2)(0,0,2)[12] intercept   : AIC=2596.838, Time=1.26 sec\n",
      " ARIMA(1,1,2)(2,0,0)[12] intercept   : AIC=2282.409, Time=1.31 sec\n",
      " ARIMA(1,1,2)(2,0,2)[12] intercept   : AIC=inf, Time=2.83 sec\n",
      " ARIMA(0,1,2)(1,0,1)[12] intercept   : AIC=2402.909, Time=0.26 sec\n",
      " ARIMA(1,1,1)(1,0,1)[12] intercept   : AIC=2236.826, Time=0.60 sec\n",
      " ARIMA(1,1,3)(1,0,1)[12] intercept   : AIC=2232.762, Time=1.09 sec\n",
      " ARIMA(0,1,1)(1,0,1)[12] intercept   : AIC=2233.847, Time=0.65 sec\n",
      " ARIMA(0,1,3)(1,0,1)[12] intercept   : AIC=2228.010, Time=0.74 sec\n",
      " ARIMA(2,1,1)(1,0,1)[12] intercept   : AIC=2214.626, Time=1.12 sec\n",
      " ARIMA(2,1,3)(1,0,1)[12] intercept   : AIC=2241.300, Time=1.29 sec\n",
      " ARIMA(1,1,2)(1,0,1)[12]             : AIC=2208.504, Time=0.67 sec\n",
      " ARIMA(1,1,2)(0,0,1)[12]             : AIC=2704.499, Time=0.29 sec\n",
      " ARIMA(1,1,2)(1,0,0)[12]             : AIC=2337.722, Time=0.35 sec\n",
      " ARIMA(1,1,2)(2,0,1)[12]             : AIC=2210.068, Time=1.77 sec\n",
      " ARIMA(1,1,2)(1,0,2)[12]             : AIC=2210.040, Time=1.38 sec\n",
      " ARIMA(1,1,2)(0,0,0)[12]             : AIC=2962.870, Time=0.10 sec\n",
      " ARIMA(1,1,2)(0,0,2)[12]             : AIC=2597.699, Time=0.83 sec\n",
      " ARIMA(1,1,2)(2,0,0)[12]             : AIC=2261.075, Time=0.73 sec\n",
      " ARIMA(1,1,2)(2,0,2)[12]             : AIC=inf, Time=2.52 sec\n",
      " ARIMA(0,1,2)(1,0,1)[12]             : AIC=2227.320, Time=0.40 sec\n",
      " ARIMA(1,1,1)(1,0,1)[12]             : AIC=2211.827, Time=0.43 sec\n",
      " ARIMA(2,1,2)(1,0,1)[12]             : AIC=2209.568, Time=0.99 sec\n",
      " ARIMA(1,1,3)(1,0,1)[12]             : AIC=2210.247, Time=0.81 sec\n",
      " ARIMA(0,1,1)(1,0,1)[12]             : AIC=2232.133, Time=0.32 sec\n",
      " ARIMA(0,1,3)(1,0,1)[12]             : AIC=2226.229, Time=0.55 sec\n",
      " ARIMA(2,1,1)(1,0,1)[12]             : AIC=2208.869, Time=0.96 sec\n",
      " ARIMA(2,1,3)(1,0,1)[12]             : AIC=2211.357, Time=1.16 sec\n",
      "\n",
      "Best model:  ARIMA(1,1,2)(1,0,1)[12]          \n",
      "Total fit time: 46.435 seconds\n"
     ]
    }
   ],
   "source": [
    "grid_arima = auto_arima(df[\"Employees\"],seasonal= 12, m= 12, trace= True)"
   ]
  },
  {
   "cell_type": "code",
   "execution_count": 16,
   "id": "2a05346a",
   "metadata": {},
   "outputs": [
    {
     "data": {
      "text/html": [
       "<table class=\"simpletable\">\n",
       "<caption>SARIMAX Results</caption>\n",
       "<tr>\n",
       "  <th>Dep. Variable:</th>                   <td>y</td>                <th>  No. Observations:  </th>    <td>348</td>   \n",
       "</tr>\n",
       "<tr>\n",
       "  <th>Model:</th>           <td>SARIMAX(1, 1, 2)x(1, 0, [1], 12)</td> <th>  Log Likelihood     </th> <td>-1098.252</td>\n",
       "</tr>\n",
       "<tr>\n",
       "  <th>Date:</th>                    <td>Thu, 24 Nov 2022</td>         <th>  AIC                </th> <td>2208.504</td> \n",
       "</tr>\n",
       "<tr>\n",
       "  <th>Time:</th>                        <td>15:00:59</td>             <th>  BIC                </th> <td>2231.600</td> \n",
       "</tr>\n",
       "<tr>\n",
       "  <th>Sample:</th>                     <td>01-01-1990</td>            <th>  HQIC               </th> <td>2217.700</td> \n",
       "</tr>\n",
       "<tr>\n",
       "  <th></th>                           <td>- 12-01-2018</td>           <th>                     </th>     <td> </td>    \n",
       "</tr>\n",
       "<tr>\n",
       "  <th>Covariance Type:</th>                <td>opg</td>               <th>                     </th>     <td> </td>    \n",
       "</tr>\n",
       "</table>\n",
       "<table class=\"simpletable\">\n",
       "<tr>\n",
       "      <td></td>        <th>coef</th>     <th>std err</th>      <th>z</th>      <th>P>|z|</th>  <th>[0.025</th>    <th>0.975]</th>  \n",
       "</tr>\n",
       "<tr>\n",
       "  <th>ar.L1</th>    <td>    0.9246</td> <td>    0.045</td> <td>   20.572</td> <td> 0.000</td> <td>    0.836</td> <td>    1.013</td>\n",
       "</tr>\n",
       "<tr>\n",
       "  <th>ma.L1</th>    <td>   -0.9441</td> <td>    0.070</td> <td>  -13.541</td> <td> 0.000</td> <td>   -1.081</td> <td>   -0.807</td>\n",
       "</tr>\n",
       "<tr>\n",
       "  <th>ma.L2</th>    <td>    0.1287</td> <td>    0.060</td> <td>    2.157</td> <td> 0.031</td> <td>    0.012</td> <td>    0.246</td>\n",
       "</tr>\n",
       "<tr>\n",
       "  <th>ar.S.L12</th> <td>    0.9972</td> <td>    0.001</td> <td>  706.317</td> <td> 0.000</td> <td>    0.994</td> <td>    1.000</td>\n",
       "</tr>\n",
       "<tr>\n",
       "  <th>ma.S.L12</th> <td>   -0.7494</td> <td>    0.043</td> <td>  -17.353</td> <td> 0.000</td> <td>   -0.834</td> <td>   -0.665</td>\n",
       "</tr>\n",
       "<tr>\n",
       "  <th>sigma2</th>   <td>   29.2905</td> <td>    1.716</td> <td>   17.068</td> <td> 0.000</td> <td>   25.927</td> <td>   32.654</td>\n",
       "</tr>\n",
       "</table>\n",
       "<table class=\"simpletable\">\n",
       "<tr>\n",
       "  <th>Ljung-Box (L1) (Q):</th>     <td>0.00</td> <th>  Jarque-Bera (JB):  </th> <td>67.40</td>\n",
       "</tr>\n",
       "<tr>\n",
       "  <th>Prob(Q):</th>                <td>0.99</td> <th>  Prob(JB):          </th> <td>0.00</td> \n",
       "</tr>\n",
       "<tr>\n",
       "  <th>Heteroskedasticity (H):</th> <td>0.86</td> <th>  Skew:              </th> <td>-0.11</td>\n",
       "</tr>\n",
       "<tr>\n",
       "  <th>Prob(H) (two-sided):</th>    <td>0.40</td> <th>  Kurtosis:          </th> <td>5.15</td> \n",
       "</tr>\n",
       "</table><br/><br/>Warnings:<br/>[1] Covariance matrix calculated using the outer product of gradients (complex-step)."
      ],
      "text/plain": [
       "<class 'statsmodels.iolib.summary.Summary'>\n",
       "\"\"\"\n",
       "                                      SARIMAX Results                                       \n",
       "============================================================================================\n",
       "Dep. Variable:                                    y   No. Observations:                  348\n",
       "Model:             SARIMAX(1, 1, 2)x(1, 0, [1], 12)   Log Likelihood               -1098.252\n",
       "Date:                              Thu, 24 Nov 2022   AIC                           2208.504\n",
       "Time:                                      15:00:59   BIC                           2231.600\n",
       "Sample:                                  01-01-1990   HQIC                          2217.700\n",
       "                                       - 12-01-2018                                         \n",
       "Covariance Type:                                opg                                         \n",
       "==============================================================================\n",
       "                 coef    std err          z      P>|z|      [0.025      0.975]\n",
       "------------------------------------------------------------------------------\n",
       "ar.L1          0.9246      0.045     20.572      0.000       0.836       1.013\n",
       "ma.L1         -0.9441      0.070    -13.541      0.000      -1.081      -0.807\n",
       "ma.L2          0.1287      0.060      2.157      0.031       0.012       0.246\n",
       "ar.S.L12       0.9972      0.001    706.317      0.000       0.994       1.000\n",
       "ma.S.L12      -0.7494      0.043    -17.353      0.000      -0.834      -0.665\n",
       "sigma2        29.2905      1.716     17.068      0.000      25.927      32.654\n",
       "===================================================================================\n",
       "Ljung-Box (L1) (Q):                   0.00   Jarque-Bera (JB):                67.40\n",
       "Prob(Q):                              0.99   Prob(JB):                         0.00\n",
       "Heteroskedasticity (H):               0.86   Skew:                            -0.11\n",
       "Prob(H) (two-sided):                  0.40   Kurtosis:                         5.15\n",
       "===================================================================================\n",
       "\n",
       "Warnings:\n",
       "[1] Covariance matrix calculated using the outer product of gradients (complex-step).\n",
       "\"\"\""
      ]
     },
     "execution_count": 16,
     "metadata": {},
     "output_type": "execute_result"
    }
   ],
   "source": [
    "grid_arima.summary()"
   ]
  },
  {
   "cell_type": "code",
   "execution_count": null,
   "id": "e2a71aca",
   "metadata": {},
   "outputs": [],
   "source": []
  },
  {
   "cell_type": "markdown",
   "id": "4e529690",
   "metadata": {},
   "source": [
    "### Train Test Split:"
   ]
  },
  {
   "cell_type": "code",
   "execution_count": 17,
   "id": "3225704b",
   "metadata": {},
   "outputs": [
    {
     "data": {
      "text/plain": [
       "(348, 1)"
      ]
     },
     "execution_count": 17,
     "metadata": {},
     "output_type": "execute_result"
    }
   ],
   "source": [
    "df.shape"
   ]
  },
  {
   "cell_type": "code",
   "execution_count": 18,
   "id": "aaf3033b",
   "metadata": {},
   "outputs": [],
   "source": [
    "train_data = df[:-24]"
   ]
  },
  {
   "cell_type": "code",
   "execution_count": 19,
   "id": "5d05c94b",
   "metadata": {},
   "outputs": [],
   "source": [
    "test_data = df[-24:]"
   ]
  },
  {
   "cell_type": "code",
   "execution_count": 20,
   "id": "fd3a9b48",
   "metadata": {},
   "outputs": [
    {
     "data": {
      "text/plain": [
       "(324, 1)"
      ]
     },
     "execution_count": 20,
     "metadata": {},
     "output_type": "execute_result"
    }
   ],
   "source": [
    "train_data.shape"
   ]
  },
  {
   "cell_type": "code",
   "execution_count": 21,
   "id": "ff7663d8",
   "metadata": {},
   "outputs": [
    {
     "data": {
      "text/plain": [
       "(24, 1)"
      ]
     },
     "execution_count": 21,
     "metadata": {},
     "output_type": "execute_result"
    }
   ],
   "source": [
    "test_data.shape"
   ]
  },
  {
   "cell_type": "code",
   "execution_count": null,
   "id": "1c33238a",
   "metadata": {},
   "outputs": [],
   "source": []
  },
  {
   "cell_type": "markdown",
   "id": "a7519137",
   "metadata": {},
   "source": [
    "### SARIMAX(1, 1, 2)(1, 0, 1, 12) Model:"
   ]
  },
  {
   "cell_type": "code",
   "execution_count": 22,
   "id": "67792f2f",
   "metadata": {},
   "outputs": [],
   "source": [
    "model = SARIMAX(train_data[\"Employees\"], order=(1,1,2), seasonal_order=(1,0,1,12))"
   ]
  },
  {
   "cell_type": "code",
   "execution_count": 23,
   "id": "34cbb979",
   "metadata": {},
   "outputs": [
    {
     "name": "stderr",
     "output_type": "stream",
     "text": [
      "C:\\Users\\Shailya\\AppData\\Roaming\\Python\\Python38\\site-packages\\statsmodels\\tsa\\statespace\\sarimax.py:966: UserWarning: Non-stationary starting autoregressive parameters found. Using zeros as starting parameters.\n",
      "  warn('Non-stationary starting autoregressive parameters'\n",
      "C:\\Users\\Shailya\\AppData\\Roaming\\Python\\Python38\\site-packages\\statsmodels\\tsa\\statespace\\sarimax.py:978: UserWarning: Non-invertible starting MA parameters found. Using zeros as starting parameters.\n",
      "  warn('Non-invertible starting MA parameters found.'\n"
     ]
    }
   ],
   "source": [
    "result = model.fit()"
   ]
  },
  {
   "cell_type": "code",
   "execution_count": 24,
   "id": "32a3c648",
   "metadata": {},
   "outputs": [
    {
     "data": {
      "text/html": [
       "<table class=\"simpletable\">\n",
       "<caption>SARIMAX Results</caption>\n",
       "<tr>\n",
       "  <th>Dep. Variable:</th>               <td>Employees</td>            <th>  No. Observations:  </th>    <td>324</td>   \n",
       "</tr>\n",
       "<tr>\n",
       "  <th>Model:</th>           <td>SARIMAX(1, 1, 2)x(1, 0, [1], 12)</td> <th>  Log Likelihood     </th> <td>-1017.185</td>\n",
       "</tr>\n",
       "<tr>\n",
       "  <th>Date:</th>                    <td>Thu, 24 Nov 2022</td>         <th>  AIC                </th> <td>2046.369</td> \n",
       "</tr>\n",
       "<tr>\n",
       "  <th>Time:</th>                        <td>15:03:56</td>             <th>  BIC                </th> <td>2069.035</td> \n",
       "</tr>\n",
       "<tr>\n",
       "  <th>Sample:</th>                     <td>01-01-1990</td>            <th>  HQIC               </th> <td>2055.417</td> \n",
       "</tr>\n",
       "<tr>\n",
       "  <th></th>                           <td>- 12-01-2016</td>           <th>                     </th>     <td> </td>    \n",
       "</tr>\n",
       "<tr>\n",
       "  <th>Covariance Type:</th>                <td>opg</td>               <th>                     </th>     <td> </td>    \n",
       "</tr>\n",
       "</table>\n",
       "<table class=\"simpletable\">\n",
       "<tr>\n",
       "      <td></td>        <th>coef</th>     <th>std err</th>      <th>z</th>      <th>P>|z|</th>  <th>[0.025</th>    <th>0.975]</th>  \n",
       "</tr>\n",
       "<tr>\n",
       "  <th>ar.L1</th>    <td>    0.9201</td> <td>    0.045</td> <td>   20.516</td> <td> 0.000</td> <td>    0.832</td> <td>    1.008</td>\n",
       "</tr>\n",
       "<tr>\n",
       "  <th>ma.L1</th>    <td>   -0.9578</td> <td>    0.072</td> <td>  -13.288</td> <td> 0.000</td> <td>   -1.099</td> <td>   -0.817</td>\n",
       "</tr>\n",
       "<tr>\n",
       "  <th>ma.L2</th>    <td>    0.1613</td> <td>    0.062</td> <td>    2.596</td> <td> 0.009</td> <td>    0.040</td> <td>    0.283</td>\n",
       "</tr>\n",
       "<tr>\n",
       "  <th>ar.S.L12</th> <td>    0.9971</td> <td>    0.001</td> <td>  681.174</td> <td> 0.000</td> <td>    0.994</td> <td>    1.000</td>\n",
       "</tr>\n",
       "<tr>\n",
       "  <th>ma.S.L12</th> <td>   -0.7464</td> <td>    0.047</td> <td>  -15.964</td> <td> 0.000</td> <td>   -0.838</td> <td>   -0.655</td>\n",
       "</tr>\n",
       "<tr>\n",
       "  <th>sigma2</th>   <td>   28.1560</td> <td>    1.628</td> <td>   17.292</td> <td> 0.000</td> <td>   24.965</td> <td>   31.347</td>\n",
       "</tr>\n",
       "</table>\n",
       "<table class=\"simpletable\">\n",
       "<tr>\n",
       "  <th>Ljung-Box (L1) (Q):</th>     <td>0.01</td> <th>  Jarque-Bera (JB):  </th> <td>87.83</td>\n",
       "</tr>\n",
       "<tr>\n",
       "  <th>Prob(Q):</th>                <td>0.94</td> <th>  Prob(JB):          </th> <td>0.00</td> \n",
       "</tr>\n",
       "<tr>\n",
       "  <th>Heteroskedasticity (H):</th> <td>0.78</td> <th>  Skew:              </th> <td>-0.17</td>\n",
       "</tr>\n",
       "<tr>\n",
       "  <th>Prob(H) (two-sided):</th>    <td>0.20</td> <th>  Kurtosis:          </th> <td>5.53</td> \n",
       "</tr>\n",
       "</table><br/><br/>Warnings:<br/>[1] Covariance matrix calculated using the outer product of gradients (complex-step)."
      ],
      "text/plain": [
       "<class 'statsmodels.iolib.summary.Summary'>\n",
       "\"\"\"\n",
       "                                      SARIMAX Results                                       \n",
       "============================================================================================\n",
       "Dep. Variable:                            Employees   No. Observations:                  324\n",
       "Model:             SARIMAX(1, 1, 2)x(1, 0, [1], 12)   Log Likelihood               -1017.185\n",
       "Date:                              Thu, 24 Nov 2022   AIC                           2046.369\n",
       "Time:                                      15:03:56   BIC                           2069.035\n",
       "Sample:                                  01-01-1990   HQIC                          2055.417\n",
       "                                       - 12-01-2016                                         \n",
       "Covariance Type:                                opg                                         \n",
       "==============================================================================\n",
       "                 coef    std err          z      P>|z|      [0.025      0.975]\n",
       "------------------------------------------------------------------------------\n",
       "ar.L1          0.9201      0.045     20.516      0.000       0.832       1.008\n",
       "ma.L1         -0.9578      0.072    -13.288      0.000      -1.099      -0.817\n",
       "ma.L2          0.1613      0.062      2.596      0.009       0.040       0.283\n",
       "ar.S.L12       0.9971      0.001    681.174      0.000       0.994       1.000\n",
       "ma.S.L12      -0.7464      0.047    -15.964      0.000      -0.838      -0.655\n",
       "sigma2        28.1560      1.628     17.292      0.000      24.965      31.347\n",
       "===================================================================================\n",
       "Ljung-Box (L1) (Q):                   0.01   Jarque-Bera (JB):                87.83\n",
       "Prob(Q):                              0.94   Prob(JB):                         0.00\n",
       "Heteroskedasticity (H):               0.78   Skew:                            -0.17\n",
       "Prob(H) (two-sided):                  0.20   Kurtosis:                         5.53\n",
       "===================================================================================\n",
       "\n",
       "Warnings:\n",
       "[1] Covariance matrix calculated using the outer product of gradients (complex-step).\n",
       "\"\"\""
      ]
     },
     "execution_count": 24,
     "metadata": {},
     "output_type": "execute_result"
    }
   ],
   "source": [
    "result.summary()"
   ]
  },
  {
   "cell_type": "code",
   "execution_count": null,
   "id": "7e9d5e8e",
   "metadata": {},
   "outputs": [],
   "source": []
  },
  {
   "cell_type": "markdown",
   "id": "fd1315e1",
   "metadata": {},
   "source": [
    "### Predictions:"
   ]
  },
  {
   "cell_type": "code",
   "execution_count": 25,
   "id": "a98e516e",
   "metadata": {},
   "outputs": [],
   "source": [
    "start = len(train_data)\n",
    "end = len(train_data) + len(test_data) -1"
   ]
  },
  {
   "cell_type": "code",
   "execution_count": 26,
   "id": "1662bce6",
   "metadata": {},
   "outputs": [],
   "source": [
    "preds = result.predict(start= start, end= end, typ= \"levels\")"
   ]
  },
  {
   "cell_type": "code",
   "execution_count": 27,
   "id": "a05bfa79",
   "metadata": {},
   "outputs": [
    {
     "data": {
      "text/plain": [
       "2017-01-01    1885.637555\n",
       "2017-02-01    1905.303930\n",
       "2017-03-01    1921.948620\n",
       "2017-04-01    1947.066891\n",
       "2017-05-01    1967.147246\n",
       "2017-06-01    1983.131183\n",
       "2017-07-01    1992.536639\n",
       "2017-08-01    1996.267661\n",
       "2017-09-01    1980.735981\n",
       "2017-10-01    1974.703287\n",
       "2017-11-01    1967.443238\n",
       "2017-12-01    1972.874859\n",
       "2018-01-01    1941.566580\n",
       "2018-02-01    1961.295644\n",
       "2018-03-01    1978.002172\n",
       "2018-04-01    2003.149218\n",
       "2018-05-01    2023.264739\n",
       "2018-06-01    2039.288179\n",
       "2018-07-01    2048.745185\n",
       "2018-08-01    2052.537756\n",
       "2018-09-01    2037.117101\n",
       "2018-10-01    2031.162873\n",
       "2018-11-01    2023.979922\n",
       "2018-12-01    2029.447742\n",
       "Freq: MS, Name: predicted_mean, dtype: float64"
      ]
     },
     "execution_count": 27,
     "metadata": {},
     "output_type": "execute_result"
    }
   ],
   "source": [
    "preds"
   ]
  },
  {
   "cell_type": "code",
   "execution_count": null,
   "id": "2fdf4053",
   "metadata": {},
   "outputs": [],
   "source": []
  },
  {
   "cell_type": "code",
   "execution_count": 28,
   "id": "f6af55b1",
   "metadata": {},
   "outputs": [
    {
     "data": {
      "text/plain": [
       "<AxesSubplot:xlabel='Date'>"
      ]
     },
     "execution_count": 28,
     "metadata": {},
     "output_type": "execute_result"
    },
    {
     "data": {
      "image/png": "[encoded data removed]",
      "text/plain": [
       "<Figure size 864x432 with 1 Axes>"
      ]
     },
     "metadata": {
      "needs_background": "light"
     },
     "output_type": "display_data"
    }
   ],
   "source": [
    "# Plotting Test Data and Predictions:\n",
    "\n",
    "test_data[\"Employees\"].plot(figsize= (12,6), legend= True)\n",
    "preds.plot(label= \"Predictions\", legend= True)"
   ]
  },
  {
   "cell_type": "code",
   "execution_count": null,
   "id": "0ab3529d",
   "metadata": {},
   "outputs": [],
   "source": []
  },
  {
   "cell_type": "code",
   "execution_count": 29,
   "id": "5fb44470",
   "metadata": {},
   "outputs": [
    {
     "data": {
      "text/plain": [
       "21.926030457400085"
      ]
     },
     "execution_count": 29,
     "metadata": {},
     "output_type": "execute_result"
    }
   ],
   "source": [
    "# Model Evaluation:\n",
    "\n",
    "np.sqrt(mean_squared_error(test_data[\"Employees\"], preds))"
   ]
  },
  {
   "cell_type": "code",
   "execution_count": 30,
   "id": "2dcc04b3",
   "metadata": {},
   "outputs": [
    {
     "data": {
      "text/plain": [
       "1968.9166666666667"
      ]
     },
     "execution_count": 30,
     "metadata": {},
     "output_type": "execute_result"
    }
   ],
   "source": [
    "test_data[\"Employees\"].mean()"
   ]
  },
  {
   "cell_type": "code",
   "execution_count": null,
   "id": "b17f42ef",
   "metadata": {},
   "outputs": [],
   "source": []
  },
  {
   "cell_type": "markdown",
   "id": "39871591",
   "metadata": {},
   "source": [
    "### Training Model on Full Data and Future Predictions:"
   ]
  },
  {
   "cell_type": "code",
   "execution_count": 31,
   "id": "26f97af2",
   "metadata": {},
   "outputs": [],
   "source": [
    "final_model = SARIMAX(df[\"Employees\"], order=(1,1,2), seasonal_order=(1,0,1,12))"
   ]
  },
  {
   "cell_type": "code",
   "execution_count": 32,
   "id": "9a027b35",
   "metadata": {},
   "outputs": [
    {
     "name": "stderr",
     "output_type": "stream",
     "text": [
      "C:\\Users\\Shailya\\AppData\\Roaming\\Python\\Python38\\site-packages\\statsmodels\\tsa\\statespace\\sarimax.py:966: UserWarning: Non-stationary starting autoregressive parameters found. Using zeros as starting parameters.\n",
      "  warn('Non-stationary starting autoregressive parameters'\n",
      "C:\\Users\\Shailya\\AppData\\Roaming\\Python\\Python38\\site-packages\\statsmodels\\tsa\\statespace\\sarimax.py:978: UserWarning: Non-invertible starting MA parameters found. Using zeros as starting parameters.\n",
      "  warn('Non-invertible starting MA parameters found.'\n",
      "C:\\Users\\Shailya\\AppData\\Roaming\\Python\\Python38\\site-packages\\statsmodels\\tsa\\statespace\\sarimax.py:997: UserWarning: Non-stationary starting seasonal autoregressive Using zeros as starting parameters.\n",
      "  warn('Non-stationary starting seasonal autoregressive'\n"
     ]
    }
   ],
   "source": [
    "result = final_model.fit()"
   ]
  },
  {
   "cell_type": "code",
   "execution_count": 33,
   "id": "817f9b4c",
   "metadata": {},
   "outputs": [
    {
     "data": {
      "text/html": [
       "<table class=\"simpletable\">\n",
       "<caption>SARIMAX Results</caption>\n",
       "<tr>\n",
       "  <th>Dep. Variable:</th>               <td>Employees</td>            <th>  No. Observations:  </th>    <td>348</td>   \n",
       "</tr>\n",
       "<tr>\n",
       "  <th>Model:</th>           <td>SARIMAX(1, 1, 2)x(1, 0, [1], 12)</td> <th>  Log Likelihood     </th> <td>-1098.252</td>\n",
       "</tr>\n",
       "<tr>\n",
       "  <th>Date:</th>                    <td>Thu, 24 Nov 2022</td>         <th>  AIC                </th> <td>2208.504</td> \n",
       "</tr>\n",
       "<tr>\n",
       "  <th>Time:</th>                        <td>15:09:34</td>             <th>  BIC                </th> <td>2231.600</td> \n",
       "</tr>\n",
       "<tr>\n",
       "  <th>Sample:</th>                     <td>01-01-1990</td>            <th>  HQIC               </th> <td>2217.700</td> \n",
       "</tr>\n",
       "<tr>\n",
       "  <th></th>                           <td>- 12-01-2018</td>           <th>                     </th>     <td> </td>    \n",
       "</tr>\n",
       "<tr>\n",
       "  <th>Covariance Type:</th>                <td>opg</td>               <th>                     </th>     <td> </td>    \n",
       "</tr>\n",
       "</table>\n",
       "<table class=\"simpletable\">\n",
       "<tr>\n",
       "      <td></td>        <th>coef</th>     <th>std err</th>      <th>z</th>      <th>P>|z|</th>  <th>[0.025</th>    <th>0.975]</th>  \n",
       "</tr>\n",
       "<tr>\n",
       "  <th>ar.L1</th>    <td>    0.9246</td> <td>    0.045</td> <td>   20.572</td> <td> 0.000</td> <td>    0.836</td> <td>    1.013</td>\n",
       "</tr>\n",
       "<tr>\n",
       "  <th>ma.L1</th>    <td>   -0.9441</td> <td>    0.070</td> <td>  -13.541</td> <td> 0.000</td> <td>   -1.081</td> <td>   -0.807</td>\n",
       "</tr>\n",
       "<tr>\n",
       "  <th>ma.L2</th>    <td>    0.1287</td> <td>    0.060</td> <td>    2.157</td> <td> 0.031</td> <td>    0.012</td> <td>    0.246</td>\n",
       "</tr>\n",
       "<tr>\n",
       "  <th>ar.S.L12</th> <td>    0.9972</td> <td>    0.001</td> <td>  706.317</td> <td> 0.000</td> <td>    0.994</td> <td>    1.000</td>\n",
       "</tr>\n",
       "<tr>\n",
       "  <th>ma.S.L12</th> <td>   -0.7494</td> <td>    0.043</td> <td>  -17.353</td> <td> 0.000</td> <td>   -0.834</td> <td>   -0.665</td>\n",
       "</tr>\n",
       "<tr>\n",
       "  <th>sigma2</th>   <td>   29.2905</td> <td>    1.716</td> <td>   17.068</td> <td> 0.000</td> <td>   25.927</td> <td>   32.654</td>\n",
       "</tr>\n",
       "</table>\n",
       "<table class=\"simpletable\">\n",
       "<tr>\n",
       "  <th>Ljung-Box (L1) (Q):</th>     <td>0.00</td> <th>  Jarque-Bera (JB):  </th> <td>67.40</td>\n",
       "</tr>\n",
       "<tr>\n",
       "  <th>Prob(Q):</th>                <td>0.99</td> <th>  Prob(JB):          </th> <td>0.00</td> \n",
       "</tr>\n",
       "<tr>\n",
       "  <th>Heteroskedasticity (H):</th> <td>0.86</td> <th>  Skew:              </th> <td>-0.11</td>\n",
       "</tr>\n",
       "<tr>\n",
       "  <th>Prob(H) (two-sided):</th>    <td>0.40</td> <th>  Kurtosis:          </th> <td>5.15</td> \n",
       "</tr>\n",
       "</table><br/><br/>Warnings:<br/>[1] Covariance matrix calculated using the outer product of gradients (complex-step)."
      ],
      "text/plain": [
       "<class 'statsmodels.iolib.summary.Summary'>\n",
       "\"\"\"\n",
       "                                      SARIMAX Results                                       \n",
       "============================================================================================\n",
       "Dep. Variable:                            Employees   No. Observations:                  348\n",
       "Model:             SARIMAX(1, 1, 2)x(1, 0, [1], 12)   Log Likelihood               -1098.252\n",
       "Date:                              Thu, 24 Nov 2022   AIC                           2208.504\n",
       "Time:                                      15:09:34   BIC                           2231.600\n",
       "Sample:                                  01-01-1990   HQIC                          2217.700\n",
       "                                       - 12-01-2018                                         \n",
       "Covariance Type:                                opg                                         \n",
       "==============================================================================\n",
       "                 coef    std err          z      P>|z|      [0.025      0.975]\n",
       "------------------------------------------------------------------------------\n",
       "ar.L1          0.9246      0.045     20.572      0.000       0.836       1.013\n",
       "ma.L1         -0.9441      0.070    -13.541      0.000      -1.081      -0.807\n",
       "ma.L2          0.1287      0.060      2.157      0.031       0.012       0.246\n",
       "ar.S.L12       0.9972      0.001    706.317      0.000       0.994       1.000\n",
       "ma.S.L12      -0.7494      0.043    -17.353      0.000      -0.834      -0.665\n",
       "sigma2        29.2905      1.716     17.068      0.000      25.927      32.654\n",
       "===================================================================================\n",
       "Ljung-Box (L1) (Q):                   0.00   Jarque-Bera (JB):                67.40\n",
       "Prob(Q):                              0.99   Prob(JB):                         0.00\n",
       "Heteroskedasticity (H):               0.86   Skew:                            -0.11\n",
       "Prob(H) (two-sided):                  0.40   Kurtosis:                         5.15\n",
       "===================================================================================\n",
       "\n",
       "Warnings:\n",
       "[1] Covariance matrix calculated using the outer product of gradients (complex-step).\n",
       "\"\"\""
      ]
     },
     "execution_count": 33,
     "metadata": {},
     "output_type": "execute_result"
    }
   ],
   "source": [
    "result.summary()"
   ]
  },
  {
   "cell_type": "code",
   "execution_count": null,
   "id": "d4475c1a",
   "metadata": {},
   "outputs": [],
   "source": []
  },
  {
   "cell_type": "code",
   "execution_count": 34,
   "id": "4a12e065",
   "metadata": {},
   "outputs": [],
   "source": [
    "forecast = result.predict(start= len(df), end= len(df)+23, typ= \"levels\")"
   ]
  },
  {
   "cell_type": "code",
   "execution_count": 35,
   "id": "896d982b",
   "metadata": {},
   "outputs": [
    {
     "data": {
      "text/plain": [
       "2019-01-01    1963.876381\n",
       "2019-02-01    1986.811315\n",
       "2019-03-01    2005.990827\n",
       "2019-04-01    2030.323614\n",
       "2019-05-01    2050.305235\n",
       "2019-06-01    2067.131599\n",
       "2019-07-01    2074.910484\n",
       "2019-08-01    2076.477995\n",
       "2019-09-01    2056.894510\n",
       "2019-10-01    2051.833006\n",
       "2019-11-01    2047.915000\n",
       "2019-12-01    2053.881163\n",
       "2020-01-01    2018.360688\n",
       "2020-02-01    2041.063200\n",
       "2020-03-01    2060.033480\n",
       "2020-04-01    2084.154381\n",
       "2020-05-01    2103.947127\n",
       "2020-06-01    2120.603466\n",
       "2020-07-01    2128.246877\n",
       "2020-08-01    2129.704845\n",
       "2020-09-01    2110.078828\n",
       "2020-10-01    2104.941564\n",
       "2020-11-01    2100.951384\n",
       "2020-12-01    2106.824035\n",
       "Freq: MS, Name: predicted_mean, dtype: float64"
      ]
     },
     "execution_count": 35,
     "metadata": {},
     "output_type": "execute_result"
    }
   ],
   "source": [
    "forecast"
   ]
  },
  {
   "cell_type": "code",
   "execution_count": null,
   "id": "3fe8d0e9",
   "metadata": {},
   "outputs": [],
   "source": []
  },
  {
   "cell_type": "code",
   "execution_count": 36,
   "id": "b708aa99",
   "metadata": {},
   "outputs": [
    {
     "data": {
      "text/plain": [
       "<AxesSubplot:xlabel='Date'>"
      ]
     },
     "execution_count": 36,
     "metadata": {},
     "output_type": "execute_result"
    },
    {
     "data": {
      "image/png": "[encoded data removed]",
      "text/plain": [
       "<Figure size 864x432 with 1 Axes>"
      ]
     },
     "metadata": {
      "needs_background": "light"
     },
     "output_type": "display_data"
    }
   ],
   "source": [
    "# Plotting Historic Data and Forecast:\n",
    "\n",
    "df[\"Employees\"].plot(figsize= (12,6), legend= True)\n",
    "forecast.plot(label= \"Forecast\", legend= True)"
   ]
  }
 ],
 "metadata": {
  "kernelspec": {
   "display_name": "Python 3 (ipykernel)",
   "language": "python",
   "name": "python3"
  },
  "language_info": {
   "codemirror_mode": {
    "name": "ipython",
    "version": 3
   },
   "file_extension": ".py",
   "mimetype": "text/x-python",
   "name": "python",
   "nbconvert_exporter": "python",
   "pygments_lexer": "ipython3",
   "version": "3.8.12"
  }
 },
 "nbformat": 4,
 "nbformat_minor": 5
}
