{
 "cells": [
  {
   "cell_type": "markdown",
   "id": "ad9c2241",
   "metadata": {},
   "source": [
    "# Python DateTime, Numpy DateTime and Pandas DateTime"
   ]
  },
  {
   "cell_type": "code",
   "execution_count": null,
   "id": "d0512036",
   "metadata": {},
   "outputs": [],
   "source": []
  },
  {
   "cell_type": "markdown",
   "id": "42d8bee4",
   "metadata": {},
   "source": [
    "### 1) Python Date Time:"
   ]
  },
  {
   "cell_type": "code",
   "execution_count": 1,
   "id": "22714ff8",
   "metadata": {},
   "outputs": [],
   "source": [
    "from datetime import datetime"
   ]
  },
  {
   "cell_type": "code",
   "execution_count": 5,
   "id": "71a3960d",
   "metadata": {},
   "outputs": [],
   "source": [
    "year = 2022\n",
    "month = 2\n",
    "day = 1\n",
    "hour = 15\n",
    "minute = 30\n",
    "sec = 15"
   ]
  },
  {
   "cell_type": "code",
   "execution_count": 6,
   "id": "a7568004",
   "metadata": {},
   "outputs": [],
   "source": [
    "date = datetime(year, month, day)"
   ]
  },
  {
   "cell_type": "code",
   "execution_count": 7,
   "id": "b46bb3f9",
   "metadata": {},
   "outputs": [
    {
     "data": {
      "text/plain": [
       "datetime.datetime(2022, 2, 1, 0, 0)"
      ]
     },
     "execution_count": 7,
     "metadata": {},
     "output_type": "execute_result"
    }
   ],
   "source": [
    "date"
   ]
  },
  {
   "cell_type": "code",
   "execution_count": null,
   "id": "ded6b4b2",
   "metadata": {},
   "outputs": [],
   "source": []
  },
  {
   "cell_type": "code",
   "execution_count": 8,
   "id": "df186331",
   "metadata": {},
   "outputs": [],
   "source": [
    "date = datetime(year, month, day, hour, minute, sec)"
   ]
  },
  {
   "cell_type": "code",
   "execution_count": 9,
   "id": "d2a0af67",
   "metadata": {},
   "outputs": [
    {
     "data": {
      "text/plain": [
       "datetime.datetime(2022, 2, 1, 15, 30, 15)"
      ]
     },
     "execution_count": 9,
     "metadata": {},
     "output_type": "execute_result"
    }
   ],
   "source": [
    "date"
   ]
  },
  {
   "cell_type": "code",
   "execution_count": 10,
   "id": "39e8627e",
   "metadata": {},
   "outputs": [
    {
     "data": {
      "text/plain": [
       "2022"
      ]
     },
     "execution_count": 10,
     "metadata": {},
     "output_type": "execute_result"
    }
   ],
   "source": [
    "date.year"
   ]
  },
  {
   "cell_type": "code",
   "execution_count": 11,
   "id": "7ea9447b",
   "metadata": {},
   "outputs": [
    {
     "data": {
      "text/plain": [
       "0"
      ]
     },
     "execution_count": 11,
     "metadata": {},
     "output_type": "execute_result"
    }
   ],
   "source": [
    "date.microsecond"
   ]
  },
  {
   "cell_type": "code",
   "execution_count": 13,
   "id": "bab65150",
   "metadata": {},
   "outputs": [
    {
     "data": {
      "text/plain": [
       "2"
      ]
     },
     "execution_count": 13,
     "metadata": {},
     "output_type": "execute_result"
    }
   ],
   "source": [
    "date.month"
   ]
  },
  {
   "cell_type": "code",
   "execution_count": 14,
   "id": "c0caef90",
   "metadata": {},
   "outputs": [
    {
     "data": {
      "text/plain": [
       "1"
      ]
     },
     "execution_count": 14,
     "metadata": {},
     "output_type": "execute_result"
    }
   ],
   "source": [
    "date.day"
   ]
  },
  {
   "cell_type": "code",
   "execution_count": 15,
   "id": "f73c292a",
   "metadata": {},
   "outputs": [
    {
     "data": {
      "text/plain": [
       "15"
      ]
     },
     "execution_count": 15,
     "metadata": {},
     "output_type": "execute_result"
    }
   ],
   "source": [
    "date.hour"
   ]
  },
  {
   "cell_type": "code",
   "execution_count": 16,
   "id": "71d10fcd",
   "metadata": {},
   "outputs": [
    {
     "data": {
      "text/plain": [
       "30"
      ]
     },
     "execution_count": 16,
     "metadata": {},
     "output_type": "execute_result"
    }
   ],
   "source": [
    "date.minute"
   ]
  },
  {
   "cell_type": "code",
   "execution_count": 17,
   "id": "5044eced",
   "metadata": {},
   "outputs": [
    {
     "data": {
      "text/plain": [
       "15"
      ]
     },
     "execution_count": 17,
     "metadata": {},
     "output_type": "execute_result"
    }
   ],
   "source": [
    "date.second"
   ]
  },
  {
   "cell_type": "code",
   "execution_count": 20,
   "id": "eac7d6b4",
   "metadata": {},
   "outputs": [
    {
     "data": {
      "text/plain": [
       "datetime.datetime"
      ]
     },
     "execution_count": 20,
     "metadata": {},
     "output_type": "execute_result"
    }
   ],
   "source": [
    "type(date)"
   ]
  },
  {
   "cell_type": "code",
   "execution_count": null,
   "id": "c8120996",
   "metadata": {},
   "outputs": [],
   "source": []
  },
  {
   "cell_type": "markdown",
   "id": "4274824c",
   "metadata": {},
   "source": [
    "### 2) Numpy Date Time:"
   ]
  },
  {
   "cell_type": "code",
   "execution_count": 18,
   "id": "ea1c2cf0",
   "metadata": {},
   "outputs": [],
   "source": [
    "import numpy as np"
   ]
  },
  {
   "cell_type": "markdown",
   "id": "2fac2b71",
   "metadata": {},
   "source": [
    "NumPy handles dates more efficiently than Python's datetime format.\n",
    "\n",
    "The NumPy data type is called <em>datetime64</em> to distinguish it from Python's datetime."
   ]
  },
  {
   "cell_type": "code",
   "execution_count": null,
   "id": "347359db",
   "metadata": {},
   "outputs": [],
   "source": []
  },
  {
   "cell_type": "code",
   "execution_count": 22,
   "id": "b48d889c",
   "metadata": {},
   "outputs": [],
   "source": [
    "x = np.array([\"2022-01-01\", \"2022-01-02\", \"2022-01-03\"])"
   ]
  },
  {
   "cell_type": "code",
   "execution_count": 23,
   "id": "478094ca",
   "metadata": {},
   "outputs": [
    {
     "data": {
      "text/plain": [
       "array(['2022-01-01', '2022-01-02', '2022-01-03'], dtype='<U10')"
      ]
     },
     "execution_count": 23,
     "metadata": {},
     "output_type": "execute_result"
    }
   ],
   "source": [
    "x"
   ]
  },
  {
   "cell_type": "code",
   "execution_count": 24,
   "id": "95fe816f",
   "metadata": {},
   "outputs": [
    {
     "data": {
      "text/plain": [
       "dtype('<U10')"
      ]
     },
     "execution_count": 24,
     "metadata": {},
     "output_type": "execute_result"
    }
   ],
   "source": [
    "x.dtype"
   ]
  },
  {
   "cell_type": "code",
   "execution_count": null,
   "id": "03269104",
   "metadata": {},
   "outputs": [],
   "source": []
  },
  {
   "cell_type": "code",
   "execution_count": 25,
   "id": "a6c7bda1",
   "metadata": {},
   "outputs": [],
   "source": [
    "x = np.array([\"2022-01-01\", \"2022-01-02\", \"2022-01-03\"], dtype= \"datetime64\")"
   ]
  },
  {
   "cell_type": "code",
   "execution_count": 26,
   "id": "6cd92524",
   "metadata": {},
   "outputs": [
    {
     "data": {
      "text/plain": [
       "array(['2022-01-01', '2022-01-02', '2022-01-03'], dtype='datetime64[D]')"
      ]
     },
     "execution_count": 26,
     "metadata": {},
     "output_type": "execute_result"
    }
   ],
   "source": [
    "x"
   ]
  },
  {
   "cell_type": "code",
   "execution_count": 27,
   "id": "14418619",
   "metadata": {},
   "outputs": [
    {
     "data": {
      "text/plain": [
       "dtype('<M8[D]')"
      ]
     },
     "execution_count": 27,
     "metadata": {},
     "output_type": "execute_result"
    }
   ],
   "source": [
    "x.dtype"
   ]
  },
  {
   "cell_type": "code",
   "execution_count": 29,
   "id": "fae17bcd",
   "metadata": {},
   "outputs": [],
   "source": [
    "# [D] shows that the Dates are being stored at the precision of Days."
   ]
  },
  {
   "cell_type": "code",
   "execution_count": 30,
   "id": "b3121354",
   "metadata": {},
   "outputs": [],
   "source": [
    "y = np.array([\"2022-01-01\", \"2022-01-02\", \"2022-01-03\"], dtype= \"datetime64[h]\") # Hour Level Precision"
   ]
  },
  {
   "cell_type": "code",
   "execution_count": 31,
   "id": "be3246c7",
   "metadata": {},
   "outputs": [
    {
     "data": {
      "text/plain": [
       "array(['2022-01-01T00', '2022-01-02T00', '2022-01-03T00'],\n",
       "      dtype='datetime64[h]')"
      ]
     },
     "execution_count": 31,
     "metadata": {},
     "output_type": "execute_result"
    }
   ],
   "source": [
    "y"
   ]
  },
  {
   "cell_type": "code",
   "execution_count": 32,
   "id": "5c4c3cfc",
   "metadata": {},
   "outputs": [],
   "source": [
    "z = np.array([\"2022-01-01\", \"2022-01-02\", \"2022-01-03\"], dtype= \"datetime64[Y]\") # Year Level Precision"
   ]
  },
  {
   "cell_type": "code",
   "execution_count": 33,
   "id": "19a486c9",
   "metadata": {},
   "outputs": [
    {
     "data": {
      "text/plain": [
       "array(['2022', '2022', '2022'], dtype='datetime64[Y]')"
      ]
     },
     "execution_count": 33,
     "metadata": {},
     "output_type": "execute_result"
    }
   ],
   "source": [
    "z"
   ]
  },
  {
   "cell_type": "code",
   "execution_count": 37,
   "id": "71999ebb",
   "metadata": {},
   "outputs": [
    {
     "data": {
      "text/plain": [
       "array(['2022-01', '2022-01', '2022-01'], dtype='datetime64[M]')"
      ]
     },
     "execution_count": 37,
     "metadata": {},
     "output_type": "execute_result"
    }
   ],
   "source": [
    "np.array([\"2022-01-01\", \"2022-01-02\", \"2022-01-03\"], dtype= \"datetime64[M]\") # Month Level Precision"
   ]
  },
  {
   "cell_type": "code",
   "execution_count": 38,
   "id": "450bb29c",
   "metadata": {},
   "outputs": [
    {
     "data": {
      "text/plain": [
       "array(['2022-01-01T00:00', '2022-01-02T00:00', '2022-01-03T00:00'],\n",
       "      dtype='datetime64[m]')"
      ]
     },
     "execution_count": 38,
     "metadata": {},
     "output_type": "execute_result"
    }
   ],
   "source": [
    "np.array([\"2022-01-01\", \"2022-01-02\", \"2022-01-03\"], dtype= \"datetime64[m]\") # Minute Level Precision"
   ]
  },
  {
   "cell_type": "code",
   "execution_count": 40,
   "id": "c68a2543",
   "metadata": {},
   "outputs": [
    {
     "data": {
      "text/plain": [
       "array(['2022-01-01T00:00:00', '2022-01-02T00:00:00',\n",
       "       '2022-01-03T00:00:00'], dtype='datetime64[s]')"
      ]
     },
     "execution_count": 40,
     "metadata": {},
     "output_type": "execute_result"
    }
   ],
   "source": [
    "np.array([\"2022-01-01\", \"2022-01-02\", \"2022-01-03\"], dtype= \"datetime64[s]\") # Second Level Precision"
   ]
  },
  {
   "cell_type": "code",
   "execution_count": 42,
   "id": "d5ee9aa6",
   "metadata": {},
   "outputs": [
    {
     "data": {
      "text/plain": [
       "array(['2022-01-01T00:00:00.000', '2022-01-02T00:00:00.000',\n",
       "       '2022-01-03T00:00:00.000'], dtype='datetime64[ms]')"
      ]
     },
     "execution_count": 42,
     "metadata": {},
     "output_type": "execute_result"
    }
   ],
   "source": [
    "np.array([\"2022-01-01\", \"2022-01-02\", \"2022-01-03\"], dtype= \"datetime64[ms]\") # MIli Second Level Precision"
   ]
  },
  {
   "cell_type": "code",
   "execution_count": 44,
   "id": "08e01de2",
   "metadata": {},
   "outputs": [
    {
     "data": {
      "text/plain": [
       "array(['2022-01-01T00:00:00.000000000', '2022-01-02T00:00:00.000000000',\n",
       "       '2022-01-03T00:00:00.000000000'], dtype='datetime64[ns]')"
      ]
     },
     "execution_count": 44,
     "metadata": {},
     "output_type": "execute_result"
    }
   ],
   "source": [
    "np.array([\"2022-01-01\", \"2022-01-02\", \"2022-01-03\"], dtype= \"datetime64[ns]\") # Nano Second Level Precision"
   ]
  },
  {
   "cell_type": "code",
   "execution_count": null,
   "id": "3de455a1",
   "metadata": {},
   "outputs": [],
   "source": []
  },
  {
   "cell_type": "markdown",
   "id": "6d25ad6d",
   "metadata": {},
   "source": [
    "Just as np.arange(start,stop,step) can be used to produce an array of evenly-spaced integers, we can pass a dtype argument to obtain an array of dates. "
   ]
  },
  {
   "cell_type": "code",
   "execution_count": 45,
   "id": "fdf2a872",
   "metadata": {},
   "outputs": [
    {
     "data": {
      "text/plain": [
       "array(['2018-01-01', '2018-01-08', '2018-01-15', '2018-01-22',\n",
       "       '2018-01-29'], dtype='datetime64[D]')"
      ]
     },
     "execution_count": 45,
     "metadata": {},
     "output_type": "execute_result"
    }
   ],
   "source": [
    "np.arange(\"2018-01-01\", \"2018-01-31\", 7, dtype = \"datetime64[D]\")"
   ]
  },
  {
   "cell_type": "code",
   "execution_count": 46,
   "id": "170a865d",
   "metadata": {},
   "outputs": [],
   "source": [
    "# As we have provided \"datetime64[D]\" in dtype, 7 steps will be taken in the unit of days."
   ]
  },
  {
   "cell_type": "code",
   "execution_count": null,
   "id": "28ffff12",
   "metadata": {},
   "outputs": [],
   "source": []
  },
  {
   "cell_type": "code",
   "execution_count": 47,
   "id": "c6d81654",
   "metadata": {},
   "outputs": [
    {
     "data": {
      "text/plain": [
       "array(['2018-01-01T00', '2018-01-01T07', '2018-01-01T14', '2018-01-01T21',\n",
       "       '2018-01-02T04', '2018-01-02T11', '2018-01-02T18', '2018-01-03T01',\n",
       "       '2018-01-03T08', '2018-01-03T15', '2018-01-03T22', '2018-01-04T05',\n",
       "       '2018-01-04T12', '2018-01-04T19', '2018-01-05T02', '2018-01-05T09',\n",
       "       '2018-01-05T16', '2018-01-05T23', '2018-01-06T06', '2018-01-06T13',\n",
       "       '2018-01-06T20', '2018-01-07T03', '2018-01-07T10', '2018-01-07T17'],\n",
       "      dtype='datetime64[h]')"
      ]
     },
     "execution_count": 47,
     "metadata": {},
     "output_type": "execute_result"
    }
   ],
   "source": [
    "np.arange(\"2018-01-01\", \"2018-01-08\", 7, dtype = \"datetime64[h]\")"
   ]
  },
  {
   "cell_type": "code",
   "execution_count": 48,
   "id": "472f7796",
   "metadata": {},
   "outputs": [],
   "source": [
    "# As we have provided \"datetime64[h]\" in dtype, 7 steps will be taken in the unit of hours."
   ]
  },
  {
   "cell_type": "code",
   "execution_count": null,
   "id": "ee1d832d",
   "metadata": {},
   "outputs": [],
   "source": []
  },
  {
   "cell_type": "code",
   "execution_count": 49,
   "id": "9daeef41",
   "metadata": {},
   "outputs": [
    {
     "data": {
      "text/plain": [
       "array(['2018', '2019', '2020', '2021', '2022', '2023', '2024', '2025',\n",
       "       '2026', '2027', '2028', '2029', '2030', '2031', '2032', '2033',\n",
       "       '2034', '2035', '2036', '2037', '2038', '2039'],\n",
       "      dtype='datetime64[Y]')"
      ]
     },
     "execution_count": 49,
     "metadata": {},
     "output_type": "execute_result"
    }
   ],
   "source": [
    "np.arange(\"2018\", \"2040\", dtype = \"datetime64[Y]\")"
   ]
  },
  {
   "cell_type": "code",
   "execution_count": 50,
   "id": "f87fd9b5",
   "metadata": {},
   "outputs": [
    {
     "data": {
      "text/plain": [
       "array(['2018', '2020', '2022', '2024', '2026', '2028', '2030', '2032',\n",
       "       '2034', '2036', '2038'], dtype='datetime64[Y]')"
      ]
     },
     "execution_count": 50,
     "metadata": {},
     "output_type": "execute_result"
    }
   ],
   "source": [
    "np.arange(\"2018\", \"2040\", 2 , dtype = \"datetime64[Y]\")"
   ]
  },
  {
   "cell_type": "code",
   "execution_count": null,
   "id": "729696a9",
   "metadata": {},
   "outputs": [],
   "source": []
  },
  {
   "cell_type": "markdown",
   "id": "5e01bde0",
   "metadata": {},
   "source": [
    "### 3) Pandas Date Time:"
   ]
  },
  {
   "cell_type": "code",
   "execution_count": 51,
   "id": "6f77c120",
   "metadata": {},
   "outputs": [],
   "source": [
    "import pandas as pd"
   ]
  },
  {
   "cell_type": "code",
   "execution_count": 53,
   "id": "bf6f029d",
   "metadata": {},
   "outputs": [
    {
     "data": {
      "text/plain": [
       "DatetimeIndex(['2022-01-01', '2022-01-02', '2022-01-03', '2022-01-04',\n",
       "               '2022-01-05', '2022-01-06', '2022-01-07', '2022-01-08',\n",
       "               '2022-01-09', '2022-01-10', '2022-01-11', '2022-01-12',\n",
       "               '2022-01-13', '2022-01-14', '2022-01-15', '2022-01-16',\n",
       "               '2022-01-17', '2022-01-18', '2022-01-19', '2022-01-20',\n",
       "               '2022-01-21', '2022-01-22', '2022-01-23', '2022-01-24',\n",
       "               '2022-01-25', '2022-01-26', '2022-01-27', '2022-01-28',\n",
       "               '2022-01-29', '2022-01-30', '2022-01-31'],\n",
       "              dtype='datetime64[ns]', freq='D')"
      ]
     },
     "execution_count": 53,
     "metadata": {},
     "output_type": "execute_result"
    }
   ],
   "source": [
    "pd.date_range(\"2022-01-01\", \"2022-01-31\", freq= \"D\")"
   ]
  },
  {
   "cell_type": "code",
   "execution_count": null,
   "id": "946d6c1c",
   "metadata": {},
   "outputs": [],
   "source": []
  },
  {
   "cell_type": "code",
   "execution_count": 54,
   "id": "a56d10b1",
   "metadata": {},
   "outputs": [
    {
     "data": {
      "text/plain": [
       "DatetimeIndex(['2022-01-01 00:00:00', '2022-01-04 08:00:00',\n",
       "               '2022-01-07 16:00:00', '2022-01-11 00:00:00',\n",
       "               '2022-01-14 08:00:00', '2022-01-17 16:00:00',\n",
       "               '2022-01-21 00:00:00', '2022-01-24 08:00:00',\n",
       "               '2022-01-27 16:00:00', '2022-01-31 00:00:00'],\n",
       "              dtype='datetime64[ns]', freq=None)"
      ]
     },
     "execution_count": 54,
     "metadata": {},
     "output_type": "execute_result"
    }
   ],
   "source": [
    "pd.date_range(\"2022-01-01\", \"2022-01-31\", periods= 10)"
   ]
  },
  {
   "cell_type": "code",
   "execution_count": null,
   "id": "5952f128",
   "metadata": {},
   "outputs": [],
   "source": []
  },
  {
   "cell_type": "code",
   "execution_count": 55,
   "id": "8a2e71ef",
   "metadata": {},
   "outputs": [
    {
     "data": {
      "text/plain": [
       "DatetimeIndex(['2022-01-01', '2022-01-02', '2022-01-03', '2022-01-04',\n",
       "               '2022-01-05', '2022-01-06', '2022-01-07', '2022-01-08',\n",
       "               '2022-01-09', '2022-01-10'],\n",
       "              dtype='datetime64[ns]', freq='D')"
      ]
     },
     "execution_count": 55,
     "metadata": {},
     "output_type": "execute_result"
    }
   ],
   "source": [
    "pd.date_range(\"2022-01-01\", periods= 10, freq= \"D\")"
   ]
  },
  {
   "cell_type": "code",
   "execution_count": null,
   "id": "54ea6ac1",
   "metadata": {},
   "outputs": [],
   "source": []
  },
  {
   "cell_type": "code",
   "execution_count": 56,
   "id": "7918df92",
   "metadata": {},
   "outputs": [],
   "source": [
    "# Using to_datetime:"
   ]
  },
  {
   "cell_type": "code",
   "execution_count": 58,
   "id": "df394c47",
   "metadata": {},
   "outputs": [
    {
     "data": {
      "text/plain": [
       "DatetimeIndex(['2018-01-01', '2022-11-10', '1992-02-01', '2021-01-11'], dtype='datetime64[ns]', freq=None)"
      ]
     },
     "execution_count": 58,
     "metadata": {},
     "output_type": "execute_result"
    }
   ],
   "source": [
    "pd.to_datetime([\"Jan 01, 2018\", \"2022-11-10\", \"01-Feb-1992\", \"01/11/2021\"])"
   ]
  },
  {
   "cell_type": "code",
   "execution_count": 59,
   "id": "d0228387",
   "metadata": {},
   "outputs": [],
   "source": [
    "# Pandas can Identify many formats for  Dates as shown above.\n",
    "\n",
    "# If we want to convert some specific format of Date that Pandas can not recognize, we can specify format exclusively."
   ]
  },
  {
   "cell_type": "code",
   "execution_count": 60,
   "id": "d7e9b3b9",
   "metadata": {},
   "outputs": [
    {
     "data": {
      "text/plain": [
       "DatetimeIndex(['1956-10-12', '1998-06-14'], dtype='datetime64[ns]', freq=None)"
      ]
     },
     "execution_count": 60,
     "metadata": {},
     "output_type": "execute_result"
    }
   ],
   "source": [
    "pd.to_datetime([\"12-10-1956\", \"14-06-1998\"], format= \"%d-%m-%Y\")"
   ]
  },
  {
   "cell_type": "code",
   "execution_count": 61,
   "id": "3b811197",
   "metadata": {},
   "outputs": [
    {
     "data": {
      "text/plain": [
       "DatetimeIndex(['1956-10-12', '1998-06-14'], dtype='datetime64[ns]', freq=None)"
      ]
     },
     "execution_count": 61,
     "metadata": {},
     "output_type": "execute_result"
    }
   ],
   "source": [
    "pd.to_datetime([\"12--10--1956\", \"14--06--1998\"], format= \"%d--%m--%Y\")"
   ]
  },
  {
   "cell_type": "code",
   "execution_count": 64,
   "id": "80d356ab",
   "metadata": {},
   "outputs": [
    {
     "data": {
      "text/plain": [
       "DatetimeIndex(['1990-10-12', '1998-06-14'], dtype='datetime64[ns]', freq=None)"
      ]
     },
     "execution_count": 64,
     "metadata": {},
     "output_type": "execute_result"
    }
   ],
   "source": [
    "pd.to_datetime([\"12--10--90\", \"14--06--98\"], format= \"%d--%m--%y\")"
   ]
  },
  {
   "cell_type": "code",
   "execution_count": null,
   "id": "74d19a10",
   "metadata": {},
   "outputs": [],
   "source": []
  },
  {
   "cell_type": "code",
   "execution_count": 65,
   "id": "1db18214",
   "metadata": {},
   "outputs": [],
   "source": [
    "index = pd.date_range(\"2022-02-01\", \"2022-02-28\", periods= 5)"
   ]
  },
  {
   "cell_type": "code",
   "execution_count": 66,
   "id": "458259ca",
   "metadata": {},
   "outputs": [
    {
     "data": {
      "text/plain": [
       "DatetimeIndex(['2022-02-01 00:00:00', '2022-02-07 18:00:00',\n",
       "               '2022-02-14 12:00:00', '2022-02-21 06:00:00',\n",
       "               '2022-02-28 00:00:00'],\n",
       "              dtype='datetime64[ns]', freq=None)"
      ]
     },
     "execution_count": 66,
     "metadata": {},
     "output_type": "execute_result"
    }
   ],
   "source": [
    "index"
   ]
  },
  {
   "cell_type": "code",
   "execution_count": 67,
   "id": "cf5f5d46",
   "metadata": {},
   "outputs": [],
   "source": [
    "data = np.random.randn(5,2)"
   ]
  },
  {
   "cell_type": "code",
   "execution_count": 68,
   "id": "ce82b86b",
   "metadata": {},
   "outputs": [
    {
     "data": {
      "text/plain": [
       "array([[-1.21262197, -1.21806289],\n",
       "       [-1.49832495, -0.53694472],\n",
       "       [-0.25778517, -0.70759321],\n",
       "       [ 0.87531787,  1.12639761],\n",
       "       [ 1.52268536, -0.88035007]])"
      ]
     },
     "execution_count": 68,
     "metadata": {},
     "output_type": "execute_result"
    }
   ],
   "source": [
    "data"
   ]
  },
  {
   "cell_type": "code",
   "execution_count": 69,
   "id": "c6030454",
   "metadata": {},
   "outputs": [],
   "source": [
    "df= pd.DataFrame(data= data, index= index, columns= [\"A\",\"B\"])"
   ]
  },
  {
   "cell_type": "code",
   "execution_count": 70,
   "id": "f927b3e7",
   "metadata": {},
   "outputs": [
    {
     "data": {
      "text/html": [
       "<div>\n",
       "<style scoped>\n",
       "    .dataframe tbody tr th:only-of-type {\n",
       "        vertical-align: middle;\n",
       "    }\n",
       "\n",
       "    .dataframe tbody tr th {\n",
       "        vertical-align: top;\n",
       "    }\n",
       "\n",
       "    .dataframe thead th {\n",
       "        text-align: right;\n",
       "    }\n",
       "</style>\n",
       "<table border=\"1\" class=\"dataframe\">\n",
       "  <thead>\n",
       "    <tr style=\"text-align: right;\">\n",
       "      <th></th>\n",
       "      <th>A</th>\n",
       "      <th>B</th>\n",
       "    </tr>\n",
       "  </thead>\n",
       "  <tbody>\n",
       "    <tr>\n",
       "      <th>2022-02-01 00:00:00</th>\n",
       "      <td>-1.212622</td>\n",
       "      <td>-1.218063</td>\n",
       "    </tr>\n",
       "    <tr>\n",
       "      <th>2022-02-07 18:00:00</th>\n",
       "      <td>-1.498325</td>\n",
       "      <td>-0.536945</td>\n",
       "    </tr>\n",
       "    <tr>\n",
       "      <th>2022-02-14 12:00:00</th>\n",
       "      <td>-0.257785</td>\n",
       "      <td>-0.707593</td>\n",
       "    </tr>\n",
       "    <tr>\n",
       "      <th>2022-02-21 06:00:00</th>\n",
       "      <td>0.875318</td>\n",
       "      <td>1.126398</td>\n",
       "    </tr>\n",
       "    <tr>\n",
       "      <th>2022-02-28 00:00:00</th>\n",
       "      <td>1.522685</td>\n",
       "      <td>-0.880350</td>\n",
       "    </tr>\n",
       "  </tbody>\n",
       "</table>\n",
       "</div>"
      ],
      "text/plain": [
       "                            A         B\n",
       "2022-02-01 00:00:00 -1.212622 -1.218063\n",
       "2022-02-07 18:00:00 -1.498325 -0.536945\n",
       "2022-02-14 12:00:00 -0.257785 -0.707593\n",
       "2022-02-21 06:00:00  0.875318  1.126398\n",
       "2022-02-28 00:00:00  1.522685 -0.880350"
      ]
     },
     "execution_count": 70,
     "metadata": {},
     "output_type": "execute_result"
    }
   ],
   "source": [
    "df"
   ]
  },
  {
   "cell_type": "code",
   "execution_count": 71,
   "id": "d2e8eca4",
   "metadata": {},
   "outputs": [
    {
     "data": {
      "text/plain": [
       "DatetimeIndex(['2022-02-01 00:00:00', '2022-02-07 18:00:00',\n",
       "               '2022-02-14 12:00:00', '2022-02-21 06:00:00',\n",
       "               '2022-02-28 00:00:00'],\n",
       "              dtype='datetime64[ns]', freq=None)"
      ]
     },
     "execution_count": 71,
     "metadata": {},
     "output_type": "execute_result"
    }
   ],
   "source": [
    "df.index"
   ]
  },
  {
   "cell_type": "code",
   "execution_count": 73,
   "id": "c754468c",
   "metadata": {},
   "outputs": [
    {
     "data": {
      "text/plain": [
       "Timestamp('2022-02-28 00:00:00')"
      ]
     },
     "execution_count": 73,
     "metadata": {},
     "output_type": "execute_result"
    }
   ],
   "source": [
    "df.index.max()"
   ]
  },
  {
   "cell_type": "code",
   "execution_count": 74,
   "id": "5c2e2a18",
   "metadata": {},
   "outputs": [
    {
     "data": {
      "text/plain": [
       "Timestamp('2022-02-01 00:00:00')"
      ]
     },
     "execution_count": 74,
     "metadata": {},
     "output_type": "execute_result"
    }
   ],
   "source": [
    "df.index.min()"
   ]
  },
  {
   "cell_type": "code",
   "execution_count": 75,
   "id": "27b828c5",
   "metadata": {},
   "outputs": [
    {
     "data": {
      "text/plain": [
       "4"
      ]
     },
     "execution_count": 75,
     "metadata": {},
     "output_type": "execute_result"
    }
   ],
   "source": [
    "df.index.argmax()"
   ]
  },
  {
   "cell_type": "code",
   "execution_count": 76,
   "id": "086c782d",
   "metadata": {},
   "outputs": [
    {
     "data": {
      "text/plain": [
       "0"
      ]
     },
     "execution_count": 76,
     "metadata": {},
     "output_type": "execute_result"
    }
   ],
   "source": [
    "df.index.argmin()"
   ]
  }
 ],
 "metadata": {
  "kernelspec": {
   "display_name": "Python 3 (ipykernel)",
   "language": "python",
   "name": "python3"
  },
  "language_info": {
   "codemirror_mode": {
    "name": "ipython",
    "version": 3
   },
   "file_extension": ".py",
   "mimetype": "text/x-python",
   "name": "python",
   "nbconvert_exporter": "python",
   "pygments_lexer": "ipython3",
   "version": "3.8.12"
  }
 },
 "nbformat": 4,
 "nbformat_minor": 5
}
