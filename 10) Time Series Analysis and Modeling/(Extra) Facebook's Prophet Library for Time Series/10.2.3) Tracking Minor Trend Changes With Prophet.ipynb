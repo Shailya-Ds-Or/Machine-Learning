{
 "cells": [
  {
   "cell_type": "markdown",
   "id": "5fbd8a4d",
   "metadata": {},
   "source": [
    "# Tracking Minor Trend Changes With Prophet"
   ]
  },
  {
   "cell_type": "code",
   "execution_count": 2,
   "id": "849d3b82",
   "metadata": {},
   "outputs": [],
   "source": [
    "import numpy as np\n",
    "import pandas as pd\n",
    "from prophet import Prophet\n",
    "\n",
    "from prophet.plot import add_changepoints_to_plot"
   ]
  },
  {
   "cell_type": "code",
   "execution_count": null,
   "id": "4dbbcbc5",
   "metadata": {},
   "outputs": [],
   "source": []
  },
  {
   "cell_type": "code",
   "execution_count": 3,
   "id": "56b1afb6",
   "metadata": {},
   "outputs": [],
   "source": [
    "df = pd.read_csv(\"HospitalityEmployees.csv\")"
   ]
  },
  {
   "cell_type": "code",
   "execution_count": 4,
   "id": "249f8ad9",
   "metadata": {},
   "outputs": [
    {
     "data": {
      "text/html": [
       "<div>\n",
       "<style scoped>\n",
       "    .dataframe tbody tr th:only-of-type {\n",
       "        vertical-align: middle;\n",
       "    }\n",
       "\n",
       "    .dataframe tbody tr th {\n",
       "        vertical-align: top;\n",
       "    }\n",
       "\n",
       "    .dataframe thead th {\n",
       "        text-align: right;\n",
       "    }\n",
       "</style>\n",
       "<table border=\"1\" class=\"dataframe\">\n",
       "  <thead>\n",
       "    <tr style=\"text-align: right;\">\n",
       "      <th></th>\n",
       "      <th>Date</th>\n",
       "      <th>Employees</th>\n",
       "    </tr>\n",
       "  </thead>\n",
       "  <tbody>\n",
       "    <tr>\n",
       "      <th>0</th>\n",
       "      <td>1/1/1990</td>\n",
       "      <td>1064.5</td>\n",
       "    </tr>\n",
       "    <tr>\n",
       "      <th>1</th>\n",
       "      <td>2/1/1990</td>\n",
       "      <td>1074.5</td>\n",
       "    </tr>\n",
       "    <tr>\n",
       "      <th>2</th>\n",
       "      <td>3/1/1990</td>\n",
       "      <td>1090.0</td>\n",
       "    </tr>\n",
       "    <tr>\n",
       "      <th>3</th>\n",
       "      <td>4/1/1990</td>\n",
       "      <td>1097.4</td>\n",
       "    </tr>\n",
       "    <tr>\n",
       "      <th>4</th>\n",
       "      <td>5/1/1990</td>\n",
       "      <td>1108.7</td>\n",
       "    </tr>\n",
       "  </tbody>\n",
       "</table>\n",
       "</div>"
      ],
      "text/plain": [
       "       Date  Employees\n",
       "0  1/1/1990     1064.5\n",
       "1  2/1/1990     1074.5\n",
       "2  3/1/1990     1090.0\n",
       "3  4/1/1990     1097.4\n",
       "4  5/1/1990     1108.7"
      ]
     },
     "execution_count": 4,
     "metadata": {},
     "output_type": "execute_result"
    }
   ],
   "source": [
    "df.head()"
   ]
  },
  {
   "cell_type": "code",
   "execution_count": 6,
   "id": "5bf7bd32",
   "metadata": {},
   "outputs": [],
   "source": [
    "df.columns = [\"ds\", \"y\"]"
   ]
  },
  {
   "cell_type": "code",
   "execution_count": 7,
   "id": "40b664ef",
   "metadata": {},
   "outputs": [],
   "source": [
    "df[\"ds\"] = pd.to_datetime(df[\"ds\"])"
   ]
  },
  {
   "cell_type": "code",
   "execution_count": 8,
   "id": "7c009e60",
   "metadata": {},
   "outputs": [
    {
     "data": {
      "text/html": [
       "<div>\n",
       "<style scoped>\n",
       "    .dataframe tbody tr th:only-of-type {\n",
       "        vertical-align: middle;\n",
       "    }\n",
       "\n",
       "    .dataframe tbody tr th {\n",
       "        vertical-align: top;\n",
       "    }\n",
       "\n",
       "    .dataframe thead th {\n",
       "        text-align: right;\n",
       "    }\n",
       "</style>\n",
       "<table border=\"1\" class=\"dataframe\">\n",
       "  <thead>\n",
       "    <tr style=\"text-align: right;\">\n",
       "      <th></th>\n",
       "      <th>ds</th>\n",
       "      <th>y</th>\n",
       "    </tr>\n",
       "  </thead>\n",
       "  <tbody>\n",
       "    <tr>\n",
       "      <th>0</th>\n",
       "      <td>1990-01-01</td>\n",
       "      <td>1064.5</td>\n",
       "    </tr>\n",
       "    <tr>\n",
       "      <th>1</th>\n",
       "      <td>1990-02-01</td>\n",
       "      <td>1074.5</td>\n",
       "    </tr>\n",
       "    <tr>\n",
       "      <th>2</th>\n",
       "      <td>1990-03-01</td>\n",
       "      <td>1090.0</td>\n",
       "    </tr>\n",
       "    <tr>\n",
       "      <th>3</th>\n",
       "      <td>1990-04-01</td>\n",
       "      <td>1097.4</td>\n",
       "    </tr>\n",
       "    <tr>\n",
       "      <th>4</th>\n",
       "      <td>1990-05-01</td>\n",
       "      <td>1108.7</td>\n",
       "    </tr>\n",
       "  </tbody>\n",
       "</table>\n",
       "</div>"
      ],
      "text/plain": [
       "          ds       y\n",
       "0 1990-01-01  1064.5\n",
       "1 1990-02-01  1074.5\n",
       "2 1990-03-01  1090.0\n",
       "3 1990-04-01  1097.4\n",
       "4 1990-05-01  1108.7"
      ]
     },
     "execution_count": 8,
     "metadata": {},
     "output_type": "execute_result"
    }
   ],
   "source": [
    "df.head()"
   ]
  },
  {
   "cell_type": "code",
   "execution_count": 9,
   "id": "618c7043",
   "metadata": {},
   "outputs": [
    {
     "name": "stdout",
     "output_type": "stream",
     "text": [
      "<class 'pandas.core.frame.DataFrame'>\n",
      "RangeIndex: 348 entries, 0 to 347\n",
      "Data columns (total 2 columns):\n",
      " #   Column  Non-Null Count  Dtype         \n",
      "---  ------  --------------  -----         \n",
      " 0   ds      348 non-null    datetime64[ns]\n",
      " 1   y       348 non-null    float64       \n",
      "dtypes: datetime64[ns](1), float64(1)\n",
      "memory usage: 5.6 KB\n"
     ]
    }
   ],
   "source": [
    "df.info()"
   ]
  },
  {
   "cell_type": "code",
   "execution_count": null,
   "id": "451b4dda",
   "metadata": {},
   "outputs": [],
   "source": []
  },
  {
   "cell_type": "code",
   "execution_count": 10,
   "id": "4909b275",
   "metadata": {},
   "outputs": [
    {
     "data": {
      "text/plain": [
       "<AxesSubplot:xlabel='ds'>"
      ]
     },
     "execution_count": 10,
     "metadata": {},
     "output_type": "execute_result"
    },
    {
     "data": {
      "image/png": "[encoded data removed]",
      "text/plain": [
       "<Figure size 864x576 with 1 Axes>"
      ]
     },
     "metadata": {
      "needs_background": "light"
     },
     "output_type": "display_data"
    }
   ],
   "source": [
    "df.plot(x= \"ds\", y= \"y\", figsize= (12,8))"
   ]
  },
  {
   "cell_type": "code",
   "execution_count": null,
   "id": "0adf1ad2",
   "metadata": {},
   "outputs": [],
   "source": []
  },
  {
   "cell_type": "code",
   "execution_count": 11,
   "id": "c69c2676",
   "metadata": {},
   "outputs": [],
   "source": [
    "model= Prophet()"
   ]
  },
  {
   "cell_type": "code",
   "execution_count": 12,
   "id": "2fd0ef90",
   "metadata": {},
   "outputs": [
    {
     "name": "stderr",
     "output_type": "stream",
     "text": [
      "03:17:57 - cmdstanpy - INFO - Chain [1] start processing\n",
      "03:17:58 - cmdstanpy - INFO - Chain [1] done processing\n"
     ]
    },
    {
     "data": {
      "text/plain": [
       "<prophet.forecaster.Prophet at 0x22a88631a00>"
      ]
     },
     "execution_count": 12,
     "metadata": {},
     "output_type": "execute_result"
    }
   ],
   "source": [
    "model.fit(df)"
   ]
  },
  {
   "cell_type": "code",
   "execution_count": 13,
   "id": "02499d65",
   "metadata": {},
   "outputs": [],
   "source": [
    "future_df = model.make_future_dataframe(periods=24, freq= \"MS\")"
   ]
  },
  {
   "cell_type": "code",
   "execution_count": 14,
   "id": "bc107d33",
   "metadata": {},
   "outputs": [
    {
     "data": {
      "text/html": [
       "<div>\n",
       "<style scoped>\n",
       "    .dataframe tbody tr th:only-of-type {\n",
       "        vertical-align: middle;\n",
       "    }\n",
       "\n",
       "    .dataframe tbody tr th {\n",
       "        vertical-align: top;\n",
       "    }\n",
       "\n",
       "    .dataframe thead th {\n",
       "        text-align: right;\n",
       "    }\n",
       "</style>\n",
       "<table border=\"1\" class=\"dataframe\">\n",
       "  <thead>\n",
       "    <tr style=\"text-align: right;\">\n",
       "      <th></th>\n",
       "      <th>ds</th>\n",
       "    </tr>\n",
       "  </thead>\n",
       "  <tbody>\n",
       "    <tr>\n",
       "      <th>0</th>\n",
       "      <td>1990-01-01</td>\n",
       "    </tr>\n",
       "    <tr>\n",
       "      <th>1</th>\n",
       "      <td>1990-02-01</td>\n",
       "    </tr>\n",
       "    <tr>\n",
       "      <th>2</th>\n",
       "      <td>1990-03-01</td>\n",
       "    </tr>\n",
       "    <tr>\n",
       "      <th>3</th>\n",
       "      <td>1990-04-01</td>\n",
       "    </tr>\n",
       "    <tr>\n",
       "      <th>4</th>\n",
       "      <td>1990-05-01</td>\n",
       "    </tr>\n",
       "  </tbody>\n",
       "</table>\n",
       "</div>"
      ],
      "text/plain": [
       "          ds\n",
       "0 1990-01-01\n",
       "1 1990-02-01\n",
       "2 1990-03-01\n",
       "3 1990-04-01\n",
       "4 1990-05-01"
      ]
     },
     "execution_count": 14,
     "metadata": {},
     "output_type": "execute_result"
    }
   ],
   "source": [
    "future_df.head()"
   ]
  },
  {
   "cell_type": "code",
   "execution_count": 15,
   "id": "80443eb6",
   "metadata": {},
   "outputs": [],
   "source": [
    "forecast = model.predict(future_df)"
   ]
  },
  {
   "cell_type": "code",
   "execution_count": 16,
   "id": "77c34672",
   "metadata": {},
   "outputs": [
    {
     "data": {
      "text/html": [
       "<div>\n",
       "<style scoped>\n",
       "    .dataframe tbody tr th:only-of-type {\n",
       "        vertical-align: middle;\n",
       "    }\n",
       "\n",
       "    .dataframe tbody tr th {\n",
       "        vertical-align: top;\n",
       "    }\n",
       "\n",
       "    .dataframe thead th {\n",
       "        text-align: right;\n",
       "    }\n",
       "</style>\n",
       "<table border=\"1\" class=\"dataframe\">\n",
       "  <thead>\n",
       "    <tr style=\"text-align: right;\">\n",
       "      <th></th>\n",
       "      <th>ds</th>\n",
       "      <th>trend</th>\n",
       "      <th>yhat_lower</th>\n",
       "      <th>yhat_upper</th>\n",
       "      <th>trend_lower</th>\n",
       "      <th>trend_upper</th>\n",
       "      <th>additive_terms</th>\n",
       "      <th>additive_terms_lower</th>\n",
       "      <th>additive_terms_upper</th>\n",
       "      <th>yearly</th>\n",
       "      <th>yearly_lower</th>\n",
       "      <th>yearly_upper</th>\n",
       "      <th>multiplicative_terms</th>\n",
       "      <th>multiplicative_terms_lower</th>\n",
       "      <th>multiplicative_terms_upper</th>\n",
       "      <th>yhat</th>\n",
       "    </tr>\n",
       "  </thead>\n",
       "  <tbody>\n",
       "    <tr>\n",
       "      <th>0</th>\n",
       "      <td>1990-01-01</td>\n",
       "      <td>1107.275673</td>\n",
       "      <td>1046.673301</td>\n",
       "      <td>1072.000799</td>\n",
       "      <td>1107.275673</td>\n",
       "      <td>1107.275673</td>\n",
       "      <td>-47.610612</td>\n",
       "      <td>-47.610612</td>\n",
       "      <td>-47.610612</td>\n",
       "      <td>-47.610612</td>\n",
       "      <td>-47.610612</td>\n",
       "      <td>-47.610612</td>\n",
       "      <td>0.0</td>\n",
       "      <td>0.0</td>\n",
       "      <td>0.0</td>\n",
       "      <td>1059.665060</td>\n",
       "    </tr>\n",
       "    <tr>\n",
       "      <th>1</th>\n",
       "      <td>1990-02-01</td>\n",
       "      <td>1107.788191</td>\n",
       "      <td>1061.939158</td>\n",
       "      <td>1086.900571</td>\n",
       "      <td>1107.788191</td>\n",
       "      <td>1107.788191</td>\n",
       "      <td>-33.149270</td>\n",
       "      <td>-33.149270</td>\n",
       "      <td>-33.149270</td>\n",
       "      <td>-33.149270</td>\n",
       "      <td>-33.149270</td>\n",
       "      <td>-33.149270</td>\n",
       "      <td>0.0</td>\n",
       "      <td>0.0</td>\n",
       "      <td>0.0</td>\n",
       "      <td>1074.638921</td>\n",
       "    </tr>\n",
       "    <tr>\n",
       "      <th>2</th>\n",
       "      <td>1990-03-01</td>\n",
       "      <td>1108.251111</td>\n",
       "      <td>1076.285970</td>\n",
       "      <td>1101.689870</td>\n",
       "      <td>1108.251111</td>\n",
       "      <td>1108.251111</td>\n",
       "      <td>-18.665064</td>\n",
       "      <td>-18.665064</td>\n",
       "      <td>-18.665064</td>\n",
       "      <td>-18.665064</td>\n",
       "      <td>-18.665064</td>\n",
       "      <td>-18.665064</td>\n",
       "      <td>0.0</td>\n",
       "      <td>0.0</td>\n",
       "      <td>0.0</td>\n",
       "      <td>1089.586047</td>\n",
       "    </tr>\n",
       "    <tr>\n",
       "      <th>3</th>\n",
       "      <td>1990-04-01</td>\n",
       "      <td>1108.763630</td>\n",
       "      <td>1093.072728</td>\n",
       "      <td>1118.340919</td>\n",
       "      <td>1108.763630</td>\n",
       "      <td>1108.763630</td>\n",
       "      <td>-3.011239</td>\n",
       "      <td>-3.011239</td>\n",
       "      <td>-3.011239</td>\n",
       "      <td>-3.011239</td>\n",
       "      <td>-3.011239</td>\n",
       "      <td>-3.011239</td>\n",
       "      <td>0.0</td>\n",
       "      <td>0.0</td>\n",
       "      <td>0.0</td>\n",
       "      <td>1105.752390</td>\n",
       "    </tr>\n",
       "    <tr>\n",
       "      <th>4</th>\n",
       "      <td>1990-05-01</td>\n",
       "      <td>1109.259615</td>\n",
       "      <td>1110.140178</td>\n",
       "      <td>1135.293483</td>\n",
       "      <td>1109.259615</td>\n",
       "      <td>1109.259615</td>\n",
       "      <td>13.309684</td>\n",
       "      <td>13.309684</td>\n",
       "      <td>13.309684</td>\n",
       "      <td>13.309684</td>\n",
       "      <td>13.309684</td>\n",
       "      <td>13.309684</td>\n",
       "      <td>0.0</td>\n",
       "      <td>0.0</td>\n",
       "      <td>0.0</td>\n",
       "      <td>1122.569300</td>\n",
       "    </tr>\n",
       "  </tbody>\n",
       "</table>\n",
       "</div>"
      ],
      "text/plain": [
       "          ds        trend  ...  multiplicative_terms_upper         yhat\n",
       "0 1990-01-01  1107.275673  ...                         0.0  1059.665060\n",
       "1 1990-02-01  1107.788191  ...                         0.0  1074.638921\n",
       "2 1990-03-01  1108.251111  ...                         0.0  1089.586047\n",
       "3 1990-04-01  1108.763630  ...                         0.0  1105.752390\n",
       "4 1990-05-01  1109.259615  ...                         0.0  1122.569300\n",
       "\n",
       "[5 rows x 16 columns]"
      ]
     },
     "execution_count": 16,
     "metadata": {},
     "output_type": "execute_result"
    }
   ],
   "source": [
    "forecast.head()"
   ]
  },
  {
   "cell_type": "code",
   "execution_count": 17,
   "id": "8234d808",
   "metadata": {},
   "outputs": [
    {
     "data": {
      "text/html": [
       "<div>\n",
       "<style scoped>\n",
       "    .dataframe tbody tr th:only-of-type {\n",
       "        vertical-align: middle;\n",
       "    }\n",
       "\n",
       "    .dataframe tbody tr th {\n",
       "        vertical-align: top;\n",
       "    }\n",
       "\n",
       "    .dataframe thead th {\n",
       "        text-align: right;\n",
       "    }\n",
       "</style>\n",
       "<table border=\"1\" class=\"dataframe\">\n",
       "  <thead>\n",
       "    <tr style=\"text-align: right;\">\n",
       "      <th></th>\n",
       "      <th>ds</th>\n",
       "      <th>trend</th>\n",
       "      <th>yhat_lower</th>\n",
       "      <th>yhat_upper</th>\n",
       "      <th>trend_lower</th>\n",
       "      <th>trend_upper</th>\n",
       "      <th>additive_terms</th>\n",
       "      <th>additive_terms_lower</th>\n",
       "      <th>additive_terms_upper</th>\n",
       "      <th>yearly</th>\n",
       "      <th>yearly_lower</th>\n",
       "      <th>yearly_upper</th>\n",
       "      <th>multiplicative_terms</th>\n",
       "      <th>multiplicative_terms_lower</th>\n",
       "      <th>multiplicative_terms_upper</th>\n",
       "      <th>yhat</th>\n",
       "    </tr>\n",
       "  </thead>\n",
       "  <tbody>\n",
       "    <tr>\n",
       "      <th>367</th>\n",
       "      <td>2020-08-01</td>\n",
       "      <td>2150.062725</td>\n",
       "      <td>2150.241294</td>\n",
       "      <td>2206.589933</td>\n",
       "      <td>2124.342819</td>\n",
       "      <td>2174.793176</td>\n",
       "      <td>28.333207</td>\n",
       "      <td>28.333207</td>\n",
       "      <td>28.333207</td>\n",
       "      <td>28.333207</td>\n",
       "      <td>28.333207</td>\n",
       "      <td>28.333207</td>\n",
       "      <td>0.0</td>\n",
       "      <td>0.0</td>\n",
       "      <td>0.0</td>\n",
       "      <td>2178.395932</td>\n",
       "    </tr>\n",
       "    <tr>\n",
       "      <th>368</th>\n",
       "      <td>2020-09-01</td>\n",
       "      <td>2155.571007</td>\n",
       "      <td>2137.313549</td>\n",
       "      <td>2198.017319</td>\n",
       "      <td>2127.704374</td>\n",
       "      <td>2182.175227</td>\n",
       "      <td>12.142018</td>\n",
       "      <td>12.142018</td>\n",
       "      <td>12.142018</td>\n",
       "      <td>12.142018</td>\n",
       "      <td>12.142018</td>\n",
       "      <td>12.142018</td>\n",
       "      <td>0.0</td>\n",
       "      <td>0.0</td>\n",
       "      <td>0.0</td>\n",
       "      <td>2167.713025</td>\n",
       "    </tr>\n",
       "    <tr>\n",
       "      <th>369</th>\n",
       "      <td>2020-10-01</td>\n",
       "      <td>2160.901602</td>\n",
       "      <td>2121.709649</td>\n",
       "      <td>2186.430212</td>\n",
       "      <td>2130.574647</td>\n",
       "      <td>2190.602906</td>\n",
       "      <td>-4.586287</td>\n",
       "      <td>-4.586287</td>\n",
       "      <td>-4.586287</td>\n",
       "      <td>-4.586287</td>\n",
       "      <td>-4.586287</td>\n",
       "      <td>-4.586287</td>\n",
       "      <td>0.0</td>\n",
       "      <td>0.0</td>\n",
       "      <td>0.0</td>\n",
       "      <td>2156.315314</td>\n",
       "    </tr>\n",
       "    <tr>\n",
       "      <th>370</th>\n",
       "      <td>2020-11-01</td>\n",
       "      <td>2166.409883</td>\n",
       "      <td>2118.265031</td>\n",
       "      <td>2186.954093</td>\n",
       "      <td>2134.019311</td>\n",
       "      <td>2198.285306</td>\n",
       "      <td>-12.562162</td>\n",
       "      <td>-12.562162</td>\n",
       "      <td>-12.562162</td>\n",
       "      <td>-12.562162</td>\n",
       "      <td>-12.562162</td>\n",
       "      <td>-12.562162</td>\n",
       "      <td>0.0</td>\n",
       "      <td>0.0</td>\n",
       "      <td>0.0</td>\n",
       "      <td>2153.847721</td>\n",
       "    </tr>\n",
       "    <tr>\n",
       "      <th>371</th>\n",
       "      <td>2020-12-01</td>\n",
       "      <td>2171.740478</td>\n",
       "      <td>2127.243827</td>\n",
       "      <td>2198.521466</td>\n",
       "      <td>2137.280687</td>\n",
       "      <td>2205.962709</td>\n",
       "      <td>-7.970088</td>\n",
       "      <td>-7.970088</td>\n",
       "      <td>-7.970088</td>\n",
       "      <td>-7.970088</td>\n",
       "      <td>-7.970088</td>\n",
       "      <td>-7.970088</td>\n",
       "      <td>0.0</td>\n",
       "      <td>0.0</td>\n",
       "      <td>0.0</td>\n",
       "      <td>2163.770390</td>\n",
       "    </tr>\n",
       "  </tbody>\n",
       "</table>\n",
       "</div>"
      ],
      "text/plain": [
       "            ds        trend  ...  multiplicative_terms_upper         yhat\n",
       "367 2020-08-01  2150.062725  ...                         0.0  2178.395932\n",
       "368 2020-09-01  2155.571007  ...                         0.0  2167.713025\n",
       "369 2020-10-01  2160.901602  ...                         0.0  2156.315314\n",
       "370 2020-11-01  2166.409883  ...                         0.0  2153.847721\n",
       "371 2020-12-01  2171.740478  ...                         0.0  2163.770390\n",
       "\n",
       "[5 rows x 16 columns]"
      ]
     },
     "execution_count": 17,
     "metadata": {},
     "output_type": "execute_result"
    }
   ],
   "source": [
    "forecast.tail()"
   ]
  },
  {
   "cell_type": "code",
   "execution_count": 18,
   "id": "aabb0e4d",
   "metadata": {},
   "outputs": [
    {
     "data": {
      "text/html": [
       "<div>\n",
       "<style scoped>\n",
       "    .dataframe tbody tr th:only-of-type {\n",
       "        vertical-align: middle;\n",
       "    }\n",
       "\n",
       "    .dataframe tbody tr th {\n",
       "        vertical-align: top;\n",
       "    }\n",
       "\n",
       "    .dataframe thead th {\n",
       "        text-align: right;\n",
       "    }\n",
       "</style>\n",
       "<table border=\"1\" class=\"dataframe\">\n",
       "  <thead>\n",
       "    <tr style=\"text-align: right;\">\n",
       "      <th></th>\n",
       "      <th>ds</th>\n",
       "      <th>y</th>\n",
       "    </tr>\n",
       "  </thead>\n",
       "  <tbody>\n",
       "    <tr>\n",
       "      <th>343</th>\n",
       "      <td>2018-08-01</td>\n",
       "      <td>2019.1</td>\n",
       "    </tr>\n",
       "    <tr>\n",
       "      <th>344</th>\n",
       "      <td>2018-09-01</td>\n",
       "      <td>1992.5</td>\n",
       "    </tr>\n",
       "    <tr>\n",
       "      <th>345</th>\n",
       "      <td>2018-10-01</td>\n",
       "      <td>1984.3</td>\n",
       "    </tr>\n",
       "    <tr>\n",
       "      <th>346</th>\n",
       "      <td>2018-11-01</td>\n",
       "      <td>1990.1</td>\n",
       "    </tr>\n",
       "    <tr>\n",
       "      <th>347</th>\n",
       "      <td>2018-12-01</td>\n",
       "      <td>2000.2</td>\n",
       "    </tr>\n",
       "  </tbody>\n",
       "</table>\n",
       "</div>"
      ],
      "text/plain": [
       "            ds       y\n",
       "343 2018-08-01  2019.1\n",
       "344 2018-09-01  1992.5\n",
       "345 2018-10-01  1984.3\n",
       "346 2018-11-01  1990.1\n",
       "347 2018-12-01  2000.2"
      ]
     },
     "execution_count": 18,
     "metadata": {},
     "output_type": "execute_result"
    }
   ],
   "source": [
    "df.tail()"
   ]
  },
  {
   "cell_type": "code",
   "execution_count": null,
   "id": "3aeb6bdc",
   "metadata": {},
   "outputs": [],
   "source": []
  },
  {
   "cell_type": "code",
   "execution_count": 20,
   "id": "945b8841",
   "metadata": {},
   "outputs": [
    {
     "data": {
      "image/png": "[encoded data removed]",
      "text/plain": [
       "<Figure size 720x432 with 1 Axes>"
      ]
     },
     "metadata": {},
     "output_type": "display_data"
    }
   ],
   "source": [
    "fig = model.plot(forecast)\n",
    "a = add_changepoints_to_plot(fig.gca(), model, forecast)"
   ]
  }
 ],
 "metadata": {
  "kernelspec": {
   "display_name": "Python 3 (ipykernel)",
   "language": "python",
   "name": "python3"
  },
  "language_info": {
   "codemirror_mode": {
    "name": "ipython",
    "version": 3
   },
   "file_extension": ".py",
   "mimetype": "text/x-python",
   "name": "python",
   "nbconvert_exporter": "python",
   "pygments_lexer": "ipython3",
   "version": "3.8.12"
  }
 },
 "nbformat": 4,
 "nbformat_minor": 5
}
