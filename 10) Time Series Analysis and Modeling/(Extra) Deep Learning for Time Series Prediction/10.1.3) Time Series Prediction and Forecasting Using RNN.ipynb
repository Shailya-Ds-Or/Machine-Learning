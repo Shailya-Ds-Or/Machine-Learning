{
 "cells": [
  {
   "cell_type": "markdown",
   "id": "10311d62",
   "metadata": {},
   "source": [
    "# Time Series Prediction and Forecasting Using RNN"
   ]
  },
  {
   "cell_type": "code",
   "execution_count": 12,
   "id": "32e6392b",
   "metadata": {},
   "outputs": [],
   "source": [
    "import numpy as np\n",
    "import pandas as pd\n",
    "import matplotlib.pyplot as plt\n",
    "\n",
    "from sklearn.preprocessing import MinMaxScaler\n",
    "\n",
    "from statsmodels.tsa.seasonal import seasonal_decompose\n",
    "\n",
    "from keras.preprocessing.sequence import TimeseriesGenerator\n",
    "\n",
    "from keras.models import Sequential\n",
    "from keras.layers import Dense, LSTM"
   ]
  },
  {
   "cell_type": "code",
   "execution_count": null,
   "id": "e4600ed4",
   "metadata": {},
   "outputs": [],
   "source": []
  },
  {
   "cell_type": "code",
   "execution_count": 13,
   "id": "e48276e3",
   "metadata": {},
   "outputs": [],
   "source": [
    "df= pd.read_csv(\"Miles_Traveled.csv\", index_col= 0, parse_dates= True)"
   ]
  },
  {
   "cell_type": "code",
   "execution_count": 14,
   "id": "eb55725e",
   "metadata": {},
   "outputs": [
    {
     "data": {
      "text/html": [
       "<div>\n",
       "<style scoped>\n",
       "    .dataframe tbody tr th:only-of-type {\n",
       "        vertical-align: middle;\n",
       "    }\n",
       "\n",
       "    .dataframe tbody tr th {\n",
       "        vertical-align: top;\n",
       "    }\n",
       "\n",
       "    .dataframe thead th {\n",
       "        text-align: right;\n",
       "    }\n",
       "</style>\n",
       "<table border=\"1\" class=\"dataframe\">\n",
       "  <thead>\n",
       "    <tr style=\"text-align: right;\">\n",
       "      <th></th>\n",
       "      <th>TRFVOLUSM227NFWA</th>\n",
       "    </tr>\n",
       "    <tr>\n",
       "      <th>DATE</th>\n",
       "      <th></th>\n",
       "    </tr>\n",
       "  </thead>\n",
       "  <tbody>\n",
       "    <tr>\n",
       "      <th>1970-01-01</th>\n",
       "      <td>80173.0</td>\n",
       "    </tr>\n",
       "    <tr>\n",
       "      <th>1970-02-01</th>\n",
       "      <td>77442.0</td>\n",
       "    </tr>\n",
       "    <tr>\n",
       "      <th>1970-03-01</th>\n",
       "      <td>90223.0</td>\n",
       "    </tr>\n",
       "    <tr>\n",
       "      <th>1970-04-01</th>\n",
       "      <td>89956.0</td>\n",
       "    </tr>\n",
       "    <tr>\n",
       "      <th>1970-05-01</th>\n",
       "      <td>97972.0</td>\n",
       "    </tr>\n",
       "  </tbody>\n",
       "</table>\n",
       "</div>"
      ],
      "text/plain": [
       "            TRFVOLUSM227NFWA\n",
       "DATE                        \n",
       "1970-01-01           80173.0\n",
       "1970-02-01           77442.0\n",
       "1970-03-01           90223.0\n",
       "1970-04-01           89956.0\n",
       "1970-05-01           97972.0"
      ]
     },
     "execution_count": 14,
     "metadata": {},
     "output_type": "execute_result"
    }
   ],
   "source": [
    "df.head()"
   ]
  },
  {
   "cell_type": "code",
   "execution_count": 15,
   "id": "e8558c47",
   "metadata": {},
   "outputs": [],
   "source": [
    "df.columns= [\"Miles\"]"
   ]
  },
  {
   "cell_type": "code",
   "execution_count": 16,
   "id": "2a79090e",
   "metadata": {},
   "outputs": [
    {
     "data": {
      "text/html": [
       "<div>\n",
       "<style scoped>\n",
       "    .dataframe tbody tr th:only-of-type {\n",
       "        vertical-align: middle;\n",
       "    }\n",
       "\n",
       "    .dataframe tbody tr th {\n",
       "        vertical-align: top;\n",
       "    }\n",
       "\n",
       "    .dataframe thead th {\n",
       "        text-align: right;\n",
       "    }\n",
       "</style>\n",
       "<table border=\"1\" class=\"dataframe\">\n",
       "  <thead>\n",
       "    <tr style=\"text-align: right;\">\n",
       "      <th></th>\n",
       "      <th>Miles</th>\n",
       "    </tr>\n",
       "    <tr>\n",
       "      <th>DATE</th>\n",
       "      <th></th>\n",
       "    </tr>\n",
       "  </thead>\n",
       "  <tbody>\n",
       "    <tr>\n",
       "      <th>1970-01-01</th>\n",
       "      <td>80173.0</td>\n",
       "    </tr>\n",
       "    <tr>\n",
       "      <th>1970-02-01</th>\n",
       "      <td>77442.0</td>\n",
       "    </tr>\n",
       "    <tr>\n",
       "      <th>1970-03-01</th>\n",
       "      <td>90223.0</td>\n",
       "    </tr>\n",
       "    <tr>\n",
       "      <th>1970-04-01</th>\n",
       "      <td>89956.0</td>\n",
       "    </tr>\n",
       "    <tr>\n",
       "      <th>1970-05-01</th>\n",
       "      <td>97972.0</td>\n",
       "    </tr>\n",
       "  </tbody>\n",
       "</table>\n",
       "</div>"
      ],
      "text/plain": [
       "              Miles\n",
       "DATE               \n",
       "1970-01-01  80173.0\n",
       "1970-02-01  77442.0\n",
       "1970-03-01  90223.0\n",
       "1970-04-01  89956.0\n",
       "1970-05-01  97972.0"
      ]
     },
     "execution_count": 16,
     "metadata": {},
     "output_type": "execute_result"
    }
   ],
   "source": [
    "df.head()"
   ]
  },
  {
   "cell_type": "code",
   "execution_count": 17,
   "id": "fc3b62bf",
   "metadata": {},
   "outputs": [
    {
     "data": {
      "text/plain": [
       "(588, 1)"
      ]
     },
     "execution_count": 17,
     "metadata": {},
     "output_type": "execute_result"
    }
   ],
   "source": [
    "df.shape"
   ]
  },
  {
   "cell_type": "code",
   "execution_count": 18,
   "id": "67ad63c1",
   "metadata": {},
   "outputs": [
    {
     "data": {
      "text/plain": [
       "DatetimeIndex(['1970-01-01', '1970-02-01', '1970-03-01', '1970-04-01',\n",
       "               '1970-05-01', '1970-06-01', '1970-07-01', '1970-08-01',\n",
       "               '1970-09-01', '1970-10-01',\n",
       "               ...\n",
       "               '2018-03-01', '2018-04-01', '2018-05-01', '2018-06-01',\n",
       "               '2018-07-01', '2018-08-01', '2018-09-01', '2018-10-01',\n",
       "               '2018-11-01', '2018-12-01'],\n",
       "              dtype='datetime64[ns]', name='DATE', length=588, freq=None)"
      ]
     },
     "execution_count": 18,
     "metadata": {},
     "output_type": "execute_result"
    }
   ],
   "source": [
    "df.index"
   ]
  },
  {
   "cell_type": "code",
   "execution_count": 19,
   "id": "aca15d15",
   "metadata": {},
   "outputs": [],
   "source": [
    "df.index.freq = \"MS\""
   ]
  },
  {
   "cell_type": "code",
   "execution_count": 20,
   "id": "c335d38d",
   "metadata": {},
   "outputs": [
    {
     "data": {
      "text/plain": [
       "DatetimeIndex(['1970-01-01', '1970-02-01', '1970-03-01', '1970-04-01',\n",
       "               '1970-05-01', '1970-06-01', '1970-07-01', '1970-08-01',\n",
       "               '1970-09-01', '1970-10-01',\n",
       "               ...\n",
       "               '2018-03-01', '2018-04-01', '2018-05-01', '2018-06-01',\n",
       "               '2018-07-01', '2018-08-01', '2018-09-01', '2018-10-01',\n",
       "               '2018-11-01', '2018-12-01'],\n",
       "              dtype='datetime64[ns]', name='DATE', length=588, freq='MS')"
      ]
     },
     "execution_count": 20,
     "metadata": {},
     "output_type": "execute_result"
    }
   ],
   "source": [
    "df.index"
   ]
  },
  {
   "cell_type": "code",
   "execution_count": null,
   "id": "5e5ea2ee",
   "metadata": {},
   "outputs": [],
   "source": []
  },
  {
   "cell_type": "code",
   "execution_count": 21,
   "id": "d98b42ac",
   "metadata": {},
   "outputs": [
    {
     "data": {
      "text/plain": [
       "<AxesSubplot:xlabel='DATE'>"
      ]
     },
     "execution_count": 21,
     "metadata": {},
     "output_type": "execute_result"
    },
    {
     "data": {
      "image/png": "[encoded data removed]",
      "text/plain": [
       "<Figure size 864x432 with 1 Axes>"
      ]
     },
     "metadata": {
      "needs_background": "light"
     },
     "output_type": "display_data"
    }
   ],
   "source": [
    "df.plot(figsize= (12,6))"
   ]
  },
  {
   "cell_type": "code",
   "execution_count": null,
   "id": "9380ff55",
   "metadata": {},
   "outputs": [],
   "source": []
  },
  {
   "cell_type": "markdown",
   "id": "c3a659d9",
   "metadata": {},
   "source": [
    "### ETS Decomposition:"
   ]
  },
  {
   "cell_type": "code",
   "execution_count": 23,
   "id": "80a0ad1c",
   "metadata": {},
   "outputs": [],
   "source": [
    "decomp = seasonal_decompose(df[\"Miles\"], model= \"additive\")"
   ]
  },
  {
   "cell_type": "code",
   "execution_count": 24,
   "id": "a8ab177a",
   "metadata": {},
   "outputs": [
    {
     "data": {
      "text/plain": [
       "<AxesSubplot:xlabel='DATE'>"
      ]
     },
     "execution_count": 24,
     "metadata": {},
     "output_type": "execute_result"
    },
    {
     "data": {
      "image/png": "[encoded data removed]",
      "text/plain": [
       "<Figure size 864x288 with 1 Axes>"
      ]
     },
     "metadata": {
      "needs_background": "light"
     },
     "output_type": "display_data"
    }
   ],
   "source": [
    "decomp.observed.plot(figsize= (12,4))"
   ]
  },
  {
   "cell_type": "code",
   "execution_count": 25,
   "id": "4e1addfc",
   "metadata": {},
   "outputs": [
    {
     "data": {
      "text/plain": [
       "<AxesSubplot:xlabel='DATE'>"
      ]
     },
     "execution_count": 25,
     "metadata": {},
     "output_type": "execute_result"
    },
    {
     "data": {
      "image/png": "[encoded data removed]",
      "text/plain": [
       "<Figure size 864x288 with 1 Axes>"
      ]
     },
     "metadata": {
      "needs_background": "light"
     },
     "output_type": "display_data"
    }
   ],
   "source": [
    "decomp.trend.plot(figsize= (12,4))"
   ]
  },
  {
   "cell_type": "code",
   "execution_count": 26,
   "id": "9f1052cd",
   "metadata": {},
   "outputs": [
    {
     "data": {
      "text/plain": [
       "<AxesSubplot:xlabel='DATE'>"
      ]
     },
     "execution_count": 26,
     "metadata": {},
     "output_type": "execute_result"
    },
    {
     "data": {
      "image/png": "[encoded data removed]",
      "text/plain": [
       "<Figure size 864x288 with 1 Axes>"
      ]
     },
     "metadata": {
      "needs_background": "light"
     },
     "output_type": "display_data"
    }
   ],
   "source": [
    "decomp.seasonal.plot(figsize= (12,4))"
   ]
  },
  {
   "cell_type": "code",
   "execution_count": 27,
   "id": "1f508000",
   "metadata": {},
   "outputs": [
    {
     "data": {
      "text/plain": [
       "<AxesSubplot:xlabel='DATE'>"
      ]
     },
     "execution_count": 27,
     "metadata": {},
     "output_type": "execute_result"
    },
    {
     "data": {
      "image/png": "[encoded data removed]",
      "text/plain": [
       "<Figure size 864x288 with 1 Axes>"
      ]
     },
     "metadata": {
      "needs_background": "light"
     },
     "output_type": "display_data"
    }
   ],
   "source": [
    "decomp.resid.plot(figsize= (12,4))"
   ]
  },
  {
   "cell_type": "code",
   "execution_count": null,
   "id": "e4c25cc0",
   "metadata": {},
   "outputs": [],
   "source": []
  },
  {
   "cell_type": "markdown",
   "id": "09cf6f53",
   "metadata": {},
   "source": [
    "### Train Test Split:"
   ]
  },
  {
   "cell_type": "code",
   "execution_count": 28,
   "id": "7abfb769",
   "metadata": {},
   "outputs": [
    {
     "data": {
      "text/plain": [
       "588"
      ]
     },
     "execution_count": 28,
     "metadata": {},
     "output_type": "execute_result"
    }
   ],
   "source": [
    "len(df)"
   ]
  },
  {
   "cell_type": "code",
   "execution_count": 29,
   "id": "ba9f0cd5",
   "metadata": {},
   "outputs": [],
   "source": [
    "train_data = df[:554]\n",
    "test_data = df[554:]"
   ]
  },
  {
   "cell_type": "code",
   "execution_count": 30,
   "id": "03ddf6f7",
   "metadata": {},
   "outputs": [
    {
     "data": {
      "text/plain": [
       "(554, 1)"
      ]
     },
     "execution_count": 30,
     "metadata": {},
     "output_type": "execute_result"
    }
   ],
   "source": [
    "train_data.shape"
   ]
  },
  {
   "cell_type": "code",
   "execution_count": 31,
   "id": "b4e1587b",
   "metadata": {},
   "outputs": [
    {
     "data": {
      "text/plain": [
       "(34, 1)"
      ]
     },
     "execution_count": 31,
     "metadata": {},
     "output_type": "execute_result"
    }
   ],
   "source": [
    "test_data.shape"
   ]
  },
  {
   "cell_type": "code",
   "execution_count": null,
   "id": "ab255990",
   "metadata": {},
   "outputs": [],
   "source": []
  },
  {
   "cell_type": "markdown",
   "id": "e3f3278c",
   "metadata": {},
   "source": [
    "### Scalling:"
   ]
  },
  {
   "cell_type": "code",
   "execution_count": 32,
   "id": "2904cdf7",
   "metadata": {},
   "outputs": [],
   "source": [
    "scalar = MinMaxScaler()"
   ]
  },
  {
   "cell_type": "code",
   "execution_count": 33,
   "id": "80dadae0",
   "metadata": {},
   "outputs": [
    {
     "data": {
      "text/plain": [
       "MinMaxScaler()"
      ]
     },
     "execution_count": 33,
     "metadata": {},
     "output_type": "execute_result"
    }
   ],
   "source": [
    "scalar.fit(train_data)"
   ]
  },
  {
   "cell_type": "code",
   "execution_count": 34,
   "id": "ef64d268",
   "metadata": {},
   "outputs": [],
   "source": [
    "scaled_train = scalar.transform(train_data)"
   ]
  },
  {
   "cell_type": "code",
   "execution_count": 35,
   "id": "7a215856",
   "metadata": {},
   "outputs": [],
   "source": [
    "scaled_test = scalar.transform(test_data)"
   ]
  },
  {
   "cell_type": "code",
   "execution_count": 36,
   "id": "9bcb7611",
   "metadata": {},
   "outputs": [
    {
     "data": {
      "text/plain": [
       "array([[0.0135918 ],\n",
       "       [0.        ],\n",
       "       [0.06360922],\n",
       "       [0.0622804 ],\n",
       "       [0.10217489]])"
      ]
     },
     "execution_count": 36,
     "metadata": {},
     "output_type": "execute_result"
    }
   ],
   "source": [
    "scaled_train[:5]"
   ]
  },
  {
   "cell_type": "code",
   "execution_count": 37,
   "id": "4c5b9670",
   "metadata": {},
   "outputs": [
    {
     "data": {
      "text/plain": [
       "array([[0.93418106],\n",
       "       [0.95660678],\n",
       "       [0.99800926],\n",
       "       [0.99312696],\n",
       "       [1.03378291]])"
      ]
     },
     "execution_count": 37,
     "metadata": {},
     "output_type": "execute_result"
    }
   ],
   "source": [
    "scaled_test[:5]"
   ]
  },
  {
   "cell_type": "code",
   "execution_count": null,
   "id": "e1092869",
   "metadata": {},
   "outputs": [],
   "source": []
  },
  {
   "cell_type": "markdown",
   "id": "93661a24",
   "metadata": {},
   "source": [
    "### Time Series Generator:"
   ]
  },
  {
   "cell_type": "code",
   "execution_count": 38,
   "id": "e8fb3db1",
   "metadata": {},
   "outputs": [],
   "source": [
    "n_inputs= 24\n",
    "n_features= 1"
   ]
  },
  {
   "cell_type": "code",
   "execution_count": 40,
   "id": "872456f6",
   "metadata": {},
   "outputs": [],
   "source": [
    "time_gen = TimeseriesGenerator(data= scaled_train, targets= scaled_train, length= n_inputs, batch_size= 1)"
   ]
  },
  {
   "cell_type": "code",
   "execution_count": 41,
   "id": "9cffa020",
   "metadata": {},
   "outputs": [
    {
     "data": {
      "text/plain": [
       "(array([[[0.0135918 ],\n",
       "         [0.        ],\n",
       "         [0.06360922],\n",
       "         [0.0622804 ],\n",
       "         [0.10217489],\n",
       "         [0.11244214],\n",
       "         [0.14408003],\n",
       "         [0.14695167],\n",
       "         [0.08864779],\n",
       "         [0.09393819],\n",
       "         [0.06092669],\n",
       "         [0.06205644],\n",
       "         [0.03928731],\n",
       "         [0.01331807],\n",
       "         [0.07730055],\n",
       "         [0.10284179],\n",
       "         [0.13045837],\n",
       "         [0.13930722],\n",
       "         [0.17430946],\n",
       "         [0.17518539],\n",
       "         [0.1186881 ],\n",
       "         [0.12483452],\n",
       "         [0.09014582],\n",
       "         [0.08994675]]]),\n",
       " array([[0.07476733]]))"
      ]
     },
     "execution_count": 41,
     "metadata": {},
     "output_type": "execute_result"
    }
   ],
   "source": [
    "time_gen[0]"
   ]
  },
  {
   "cell_type": "code",
   "execution_count": 42,
   "id": "bba09425",
   "metadata": {},
   "outputs": [],
   "source": [
    "x,y = time_gen[0]"
   ]
  },
  {
   "cell_type": "code",
   "execution_count": 43,
   "id": "ccb9c3b1",
   "metadata": {},
   "outputs": [
    {
     "data": {
      "text/plain": [
       "array([[[0.0135918 ],\n",
       "        [0.        ],\n",
       "        [0.06360922],\n",
       "        [0.0622804 ],\n",
       "        [0.10217489],\n",
       "        [0.11244214],\n",
       "        [0.14408003],\n",
       "        [0.14695167],\n",
       "        [0.08864779],\n",
       "        [0.09393819],\n",
       "        [0.06092669],\n",
       "        [0.06205644],\n",
       "        [0.03928731],\n",
       "        [0.01331807],\n",
       "        [0.07730055],\n",
       "        [0.10284179],\n",
       "        [0.13045837],\n",
       "        [0.13930722],\n",
       "        [0.17430946],\n",
       "        [0.17518539],\n",
       "        [0.1186881 ],\n",
       "        [0.12483452],\n",
       "        [0.09014582],\n",
       "        [0.08994675]]])"
      ]
     },
     "execution_count": 43,
     "metadata": {},
     "output_type": "execute_result"
    }
   ],
   "source": [
    "x"
   ]
  },
  {
   "cell_type": "code",
   "execution_count": 44,
   "id": "0e3cd83f",
   "metadata": {},
   "outputs": [
    {
     "data": {
      "text/plain": [
       "array([[0.07476733]])"
      ]
     },
     "execution_count": 44,
     "metadata": {},
     "output_type": "execute_result"
    }
   ],
   "source": [
    "y"
   ]
  },
  {
   "cell_type": "code",
   "execution_count": 45,
   "id": "ca4f1f33",
   "metadata": {},
   "outputs": [
    {
     "data": {
      "text/plain": [
       "(1, 24, 1)"
      ]
     },
     "execution_count": 45,
     "metadata": {},
     "output_type": "execute_result"
    }
   ],
   "source": [
    "x.shape"
   ]
  },
  {
   "cell_type": "code",
   "execution_count": null,
   "id": "46ec094d",
   "metadata": {},
   "outputs": [],
   "source": []
  },
  {
   "cell_type": "markdown",
   "id": "b21b1940",
   "metadata": {},
   "source": [
    "### Recurrent Neural Network:"
   ]
  },
  {
   "cell_type": "code",
   "execution_count": 47,
   "id": "092415a3",
   "metadata": {},
   "outputs": [],
   "source": [
    "model = Sequential()\n",
    "\n",
    "model.add(LSTM(200, activation= \"relu\", input_shape= (n_inputs, n_features)))\n",
    "\n",
    "model.add(Dense(1))\n",
    "\n",
    "model.compile(loss= \"mse\", optimizer= \"adam\")"
   ]
  },
  {
   "cell_type": "code",
   "execution_count": 48,
   "id": "39585a7c",
   "metadata": {},
   "outputs": [
    {
     "name": "stdout",
     "output_type": "stream",
     "text": [
      "Model: \"sequential_1\"\n",
      "_________________________________________________________________\n",
      " Layer (type)                Output Shape              Param #   \n",
      "=================================================================\n",
      " lstm_1 (LSTM)               (None, 200)               161600    \n",
      "                                                                 \n",
      " dense_1 (Dense)             (None, 1)                 201       \n",
      "                                                                 \n",
      "=================================================================\n",
      "Total params: 161,801\n",
      "Trainable params: 161,801\n",
      "Non-trainable params: 0\n",
      "_________________________________________________________________\n"
     ]
    }
   ],
   "source": [
    "model.summary()"
   ]
  },
  {
   "cell_type": "code",
   "execution_count": 51,
   "id": "7caa9a15",
   "metadata": {},
   "outputs": [
    {
     "name": "stdout",
     "output_type": "stream",
     "text": [
      "Epoch 1/50\n",
      "530/530 [==============================] - 7s 11ms/step - loss: 0.0163\n",
      "Epoch 2/50\n",
      "530/530 [==============================] - 6s 11ms/step - loss: 0.0070\n",
      "Epoch 3/50\n",
      "530/530 [==============================] - 6s 11ms/step - loss: 0.0068\n",
      "Epoch 4/50\n",
      "530/530 [==============================] - 6s 11ms/step - loss: 0.0060\n",
      "Epoch 5/50\n",
      "530/530 [==============================] - 6s 11ms/step - loss: 0.0060\n",
      "Epoch 6/50\n",
      "530/530 [==============================] - 6s 11ms/step - loss: 0.0048\n",
      "Epoch 7/50\n",
      "530/530 [==============================] - 6s 11ms/step - loss: 0.0031\n",
      "Epoch 8/50\n",
      "530/530 [==============================] - 6s 11ms/step - loss: 0.0027\n",
      "Epoch 9/50\n",
      "530/530 [==============================] - 6s 11ms/step - loss: 0.0019\n",
      "Epoch 10/50\n",
      "530/530 [==============================] - 6s 11ms/step - loss: 0.0020\n",
      "Epoch 11/50\n",
      "530/530 [==============================] - 6s 11ms/step - loss: 0.0016\n",
      "Epoch 12/50\n",
      "530/530 [==============================] - 6s 12ms/step - loss: 0.0014\n",
      "Epoch 13/50\n",
      "530/530 [==============================] - 6s 12ms/step - loss: 0.0014\n",
      "Epoch 14/50\n",
      "530/530 [==============================] - 6s 12ms/step - loss: 0.0013\n",
      "Epoch 15/50\n",
      "530/530 [==============================] - 6s 12ms/step - loss: 0.0012\n",
      "Epoch 16/50\n",
      "530/530 [==============================] - 6s 12ms/step - loss: 0.0012\n",
      "Epoch 17/50\n",
      "530/530 [==============================] - 6s 11ms/step - loss: 0.0012\n",
      "Epoch 18/50\n",
      "530/530 [==============================] - 6s 11ms/step - loss: 0.0012\n",
      "Epoch 19/50\n",
      "530/530 [==============================] - 6s 11ms/step - loss: 0.0010\n",
      "Epoch 20/50\n",
      "530/530 [==============================] - 6s 11ms/step - loss: 0.0010\n",
      "Epoch 21/50\n",
      "530/530 [==============================] - 6s 11ms/step - loss: 0.0010\n",
      "Epoch 22/50\n",
      "530/530 [==============================] - 6s 11ms/step - loss: 8.9682e-04\n",
      "Epoch 23/50\n",
      "530/530 [==============================] - 6s 11ms/step - loss: 9.1940e-04\n",
      "Epoch 24/50\n",
      "530/530 [==============================] - 6s 11ms/step - loss: 8.6186e-04\n",
      "Epoch 25/50\n",
      "530/530 [==============================] - 6s 11ms/step - loss: 8.9303e-04\n",
      "Epoch 26/50\n",
      "530/530 [==============================] - 6s 11ms/step - loss: 8.1780e-04\n",
      "Epoch 27/50\n",
      "530/530 [==============================] - 6s 11ms/step - loss: 8.6837e-04\n",
      "Epoch 28/50\n",
      "530/530 [==============================] - 6s 11ms/step - loss: 7.7845e-04\n",
      "Epoch 29/50\n",
      "530/530 [==============================] - 6s 11ms/step - loss: 8.6191e-04\n",
      "Epoch 30/50\n",
      "530/530 [==============================] - 6s 11ms/step - loss: 7.6050e-04\n",
      "Epoch 31/50\n",
      "530/530 [==============================] - 6s 11ms/step - loss: 7.3694e-04\n",
      "Epoch 32/50\n",
      "530/530 [==============================] - 6s 11ms/step - loss: 7.5543e-04\n",
      "Epoch 33/50\n",
      "530/530 [==============================] - 6s 10ms/step - loss: 7.3233e-04\n",
      "Epoch 34/50\n",
      "530/530 [==============================] - 6s 12ms/step - loss: 8.0697e-04\n",
      "Epoch 35/50\n",
      "530/530 [==============================] - 6s 11ms/step - loss: 6.9471e-04\n",
      "Epoch 36/50\n",
      "530/530 [==============================] - 6s 10ms/step - loss: 7.5086e-04\n",
      "Epoch 37/50\n",
      "530/530 [==============================] - 6s 11ms/step - loss: 7.0375e-04\n",
      "Epoch 38/50\n",
      "530/530 [==============================] - 6s 11ms/step - loss: 7.5520e-04\n",
      "Epoch 39/50\n",
      "530/530 [==============================] - 6s 11ms/step - loss: 6.6120e-04\n",
      "Epoch 40/50\n",
      "530/530 [==============================] - 6s 11ms/step - loss: 6.4044e-04\n",
      "Epoch 41/50\n",
      "530/530 [==============================] - 6s 11ms/step - loss: 7.4274e-04\n",
      "Epoch 42/50\n",
      "530/530 [==============================] - 6s 11ms/step - loss: 6.4753e-04\n",
      "Epoch 43/50\n",
      "530/530 [==============================] - 6s 11ms/step - loss: 7.2589e-04\n",
      "Epoch 44/50\n",
      "530/530 [==============================] - 6s 11ms/step - loss: 6.4545e-04\n",
      "Epoch 45/50\n",
      "530/530 [==============================] - 6s 11ms/step - loss: 6.1972e-04\n",
      "Epoch 46/50\n",
      "530/530 [==============================] - 6s 11ms/step - loss: 5.5572e-04\n",
      "Epoch 47/50\n",
      "530/530 [==============================] - 6s 11ms/step - loss: 6.9281e-04\n",
      "Epoch 48/50\n",
      "530/530 [==============================] - 6s 11ms/step - loss: 5.8336e-04\n",
      "Epoch 49/50\n",
      "530/530 [==============================] - 6s 12ms/step - loss: 6.1958e-04\n",
      "Epoch 50/50\n",
      "530/530 [==============================] - 6s 11ms/step - loss: 5.3542e-04\n"
     ]
    },
    {
     "data": {
      "text/plain": [
       "<keras.callbacks.History at 0x26f63fd74c0>"
      ]
     },
     "execution_count": 51,
     "metadata": {},
     "output_type": "execute_result"
    }
   ],
   "source": [
    "model.fit(time_gen, epochs= 50)"
   ]
  },
  {
   "cell_type": "code",
   "execution_count": null,
   "id": "98be0cce",
   "metadata": {},
   "outputs": [],
   "source": []
  },
  {
   "cell_type": "code",
   "execution_count": 52,
   "id": "da8e490b",
   "metadata": {},
   "outputs": [
    {
     "data": {
      "text/plain": [
       "[0.016326922923326492,\n",
       " 0.006953861564397812,\n",
       " 0.006799866445362568,\n",
       " 0.00604759156703949,\n",
       " 0.005995871964842081,\n",
       " 0.004848018754273653,\n",
       " 0.0030589071102440357,\n",
       " 0.002748466096818447,\n",
       " 0.0018721790984272957,\n",
       " 0.0020108933094888926,\n",
       " 0.0015885216416791081,\n",
       " 0.0014260848984122276,\n",
       " 0.0014438815414905548,\n",
       " 0.0012940578162670135,\n",
       " 0.0012237883638590574,\n",
       " 0.001191534218378365,\n",
       " 0.0011586265172809362,\n",
       " 0.0012188495602458715,\n",
       " 0.0010322295129299164,\n",
       " 0.0010122068924829364,\n",
       " 0.0010077212937176228,\n",
       " 0.0008968203328549862,\n",
       " 0.0009193951264023781,\n",
       " 0.0008618568535894156,\n",
       " 0.0008930292096920311,\n",
       " 0.0008178003481589258,\n",
       " 0.0008683669730089605,\n",
       " 0.0007784498739056289,\n",
       " 0.0008619121508672833,\n",
       " 0.000760498340241611,\n",
       " 0.0007369433878920972,\n",
       " 0.0007554286858066916,\n",
       " 0.0007323281606659293,\n",
       " 0.0008069672621786594,\n",
       " 0.0006947132060304284,\n",
       " 0.0007508571143262088,\n",
       " 0.0007037495961412787,\n",
       " 0.0007551982998847961,\n",
       " 0.0006612025899812579,\n",
       " 0.0006404353189282119,\n",
       " 0.0007427405216731131,\n",
       " 0.0006475289701484144,\n",
       " 0.0007258899859152734,\n",
       " 0.0006454517715610564,\n",
       " 0.000619716418441385,\n",
       " 0.0005557236727327108,\n",
       " 0.0006928105722181499,\n",
       " 0.0005833619507029653,\n",
       " 0.0006195797468535602,\n",
       " 0.0005354231689125299]"
      ]
     },
     "execution_count": 52,
     "metadata": {},
     "output_type": "execute_result"
    }
   ],
   "source": [
    "model.history.history[\"loss\"]"
   ]
  },
  {
   "cell_type": "code",
   "execution_count": 54,
   "id": "76fd7105",
   "metadata": {},
   "outputs": [
    {
     "data": {
      "text/plain": [
       "[<matplotlib.lines.Line2D at 0x26f6fdefc40>]"
      ]
     },
     "execution_count": 54,
     "metadata": {},
     "output_type": "execute_result"
    },
    {
     "data": {
      "image/png": "[encoded data removed]",
      "text/plain": [
       "<Figure size 432x288 with 1 Axes>"
      ]
     },
     "metadata": {
      "needs_background": "light"
     },
     "output_type": "display_data"
    }
   ],
   "source": [
    "plt.plot(range(len(model.history.history[\"loss\"])), model.history.history[\"loss\"])"
   ]
  },
  {
   "cell_type": "code",
   "execution_count": null,
   "id": "269c3fe6",
   "metadata": {},
   "outputs": [],
   "source": []
  },
  {
   "cell_type": "markdown",
   "id": "e76b577e",
   "metadata": {},
   "source": [
    "### Predictions on Test Data:"
   ]
  },
  {
   "cell_type": "code",
   "execution_count": 55,
   "id": "623c2d38",
   "metadata": {},
   "outputs": [],
   "source": [
    "first_batch = scaled_train[-n_inputs:]"
   ]
  },
  {
   "cell_type": "code",
   "execution_count": 56,
   "id": "874fdedc",
   "metadata": {},
   "outputs": [
    {
     "data": {
      "text/plain": [
       "array([[0.87583736],\n",
       "       [0.89232071],\n",
       "       [0.93960583],\n",
       "       [0.92578012],\n",
       "       [0.95859752],\n",
       "       [0.9525158 ],\n",
       "       [0.8472901 ],\n",
       "       [0.93416613],\n",
       "       [0.81624944],\n",
       "       [0.87009904],\n",
       "       [0.77666849],\n",
       "       [0.6956552 ],\n",
       "       [0.89869606],\n",
       "       [0.92258498],\n",
       "       [0.96250933],\n",
       "       [0.96119046],\n",
       "       [1.        ],\n",
       "       [0.96932763],\n",
       "       [0.8841288 ],\n",
       "       [0.95071418],\n",
       "       [0.85303837],\n",
       "       [0.9056985 ],\n",
       "       [0.80743045],\n",
       "       [0.72447619]])"
      ]
     },
     "execution_count": 56,
     "metadata": {},
     "output_type": "execute_result"
    }
   ],
   "source": [
    "first_batch"
   ]
  },
  {
   "cell_type": "code",
   "execution_count": 57,
   "id": "bff0abf1",
   "metadata": {},
   "outputs": [],
   "source": [
    "# Reshaping Batch in Tim Generator Batch Shape (x.shape in line 45):\n",
    "\n",
    "first_batch= first_batch.reshape((1, n_inputs, n_features))"
   ]
  },
  {
   "cell_type": "code",
   "execution_count": 58,
   "id": "f2c5a699",
   "metadata": {},
   "outputs": [
    {
     "data": {
      "text/plain": [
       "array([[[0.87583736],\n",
       "        [0.89232071],\n",
       "        [0.93960583],\n",
       "        [0.92578012],\n",
       "        [0.95859752],\n",
       "        [0.9525158 ],\n",
       "        [0.8472901 ],\n",
       "        [0.93416613],\n",
       "        [0.81624944],\n",
       "        [0.87009904],\n",
       "        [0.77666849],\n",
       "        [0.6956552 ],\n",
       "        [0.89869606],\n",
       "        [0.92258498],\n",
       "        [0.96250933],\n",
       "        [0.96119046],\n",
       "        [1.        ],\n",
       "        [0.96932763],\n",
       "        [0.8841288 ],\n",
       "        [0.95071418],\n",
       "        [0.85303837],\n",
       "        [0.9056985 ],\n",
       "        [0.80743045],\n",
       "        [0.72447619]]])"
      ]
     },
     "execution_count": 58,
     "metadata": {},
     "output_type": "execute_result"
    }
   ],
   "source": [
    "first_batch"
   ]
  },
  {
   "cell_type": "code",
   "execution_count": 59,
   "id": "105d29fe",
   "metadata": {},
   "outputs": [
    {
     "data": {
      "text/plain": [
       "array([[0.9100647]], dtype=float32)"
      ]
     },
     "execution_count": 59,
     "metadata": {},
     "output_type": "execute_result"
    }
   ],
   "source": [
    "model.predict(first_batch)"
   ]
  },
  {
   "cell_type": "code",
   "execution_count": 60,
   "id": "7e8e58a6",
   "metadata": {},
   "outputs": [
    {
     "data": {
      "text/plain": [
       "array([0.9100647], dtype=float32)"
      ]
     },
     "execution_count": 60,
     "metadata": {},
     "output_type": "execute_result"
    }
   ],
   "source": [
    "model.predict(first_batch)[0]"
   ]
  },
  {
   "cell_type": "code",
   "execution_count": null,
   "id": "7cc4bcce",
   "metadata": {},
   "outputs": [],
   "source": []
  },
  {
   "cell_type": "markdown",
   "id": "00c2349e",
   "metadata": {},
   "source": [
    "### Loop To Perform Number of Predictions as Length of Test Data:"
   ]
  },
  {
   "cell_type": "code",
   "execution_count": 61,
   "id": "f2b3d7f8",
   "metadata": {},
   "outputs": [],
   "source": [
    "test_preds = []\n",
    "\n",
    "batch = scaled_train[-n_inputs:]\n",
    "batch = batch.reshape((1, n_inputs, n_features))\n",
    "\n",
    "for i in range(len(test_data)):\n",
    "    \n",
    "    current_pred = model.predict(batch)[0]\n",
    "    \n",
    "    test_preds.append(current_pred)\n",
    "    \n",
    "    batch = np.append(batch[:, 1:, :],[[current_pred]], axis= 1)"
   ]
  },
  {
   "cell_type": "code",
   "execution_count": 62,
   "id": "d60db226",
   "metadata": {},
   "outputs": [
    {
     "data": {
      "text/plain": [
       "[array([0.9100647], dtype=float32),\n",
       " array([0.91498625], dtype=float32),\n",
       " array([0.97151375], dtype=float32),\n",
       " array([0.96569204], dtype=float32),\n",
       " array([0.9940779], dtype=float32),\n",
       " array([0.97636914], dtype=float32),\n",
       " array([0.89668393], dtype=float32),\n",
       " array([0.9456612], dtype=float32),\n",
       " array([0.8491883], dtype=float32),\n",
       " array([0.8708074], dtype=float32),\n",
       " array([0.77940357], dtype=float32),\n",
       " array([0.7174951], dtype=float32),\n",
       " array([0.91994464], dtype=float32),\n",
       " array([0.92987883], dtype=float32),\n",
       " array([0.9872674], dtype=float32),\n",
       " array([0.9888319], dtype=float32),\n",
       " array([1.0233709], dtype=float32),\n",
       " array([0.9920496], dtype=float32),\n",
       " array([0.924698], dtype=float32),\n",
       " array([0.9580643], dtype=float32),\n",
       " array([0.87755764], dtype=float32),\n",
       " array([0.89424646], dtype=float32),\n",
       " array([0.8000318], dtype=float32),\n",
       " array([0.7416662], dtype=float32),\n",
       " array([0.9310049], dtype=float32),\n",
       " array([0.9350809], dtype=float32),\n",
       " array([0.99720144], dtype=float32),\n",
       " array([0.99493754], dtype=float32),\n",
       " array([1.023284], dtype=float32),\n",
       " array([0.9976982], dtype=float32),\n",
       " array([0.9341866], dtype=float32),\n",
       " array([0.95577705], dtype=float32),\n",
       " array([0.87683463], dtype=float32),\n",
       " array([0.87601304], dtype=float32)]"
      ]
     },
     "execution_count": 62,
     "metadata": {},
     "output_type": "execute_result"
    }
   ],
   "source": [
    "test_preds"
   ]
  },
  {
   "cell_type": "code",
   "execution_count": null,
   "id": "1923c56b",
   "metadata": {},
   "outputs": [],
   "source": []
  },
  {
   "cell_type": "markdown",
   "id": "64b503af",
   "metadata": {},
   "source": [
    "### Inverse Scalling:"
   ]
  },
  {
   "cell_type": "code",
   "execution_count": 63,
   "id": "8cb878b7",
   "metadata": {},
   "outputs": [],
   "source": [
    "unscaled_pred = scalar.inverse_transform(test_preds)"
   ]
  },
  {
   "cell_type": "code",
   "execution_count": 64,
   "id": "ab2d20d2",
   "metadata": {},
   "outputs": [
    {
     "data": {
      "text/plain": [
       "array([[260301.29962158],\n",
       "       [261290.18777204],\n",
       "       [272648.25741959],\n",
       "       [271478.50226116],\n",
       "       [277182.07664919],\n",
       "       [273623.85180902],\n",
       "       [257612.7023263 ],\n",
       "       [267453.70233846],\n",
       "       [248069.41070271],\n",
       "       [252413.33274794],\n",
       "       [234047.55878043],\n",
       "       [221608.28718972],\n",
       "       [262286.47731376],\n",
       "       [264282.55349469],\n",
       "       [275813.63365722],\n",
       "       [276127.98918796],\n",
       "       [283067.90730309],\n",
       "       [276774.52107501],\n",
       "       [263241.56817269],\n",
       "       [269945.86335611],\n",
       "       [253769.6556623 ],\n",
       "       [257122.94100833],\n",
       "       [238192.38579583],\n",
       "       [226464.98911929],\n",
       "       [264508.81091189],\n",
       "       [265327.8024013 ],\n",
       "       [277809.68588543],\n",
       "       [277354.79973149],\n",
       "       [283050.44576836],\n",
       "       [277909.49688029],\n",
       "       [265148.10907674],\n",
       "       [269486.28246856],\n",
       "       [253624.38240004],\n",
       "       [253459.30023623]])"
      ]
     },
     "execution_count": 64,
     "metadata": {},
     "output_type": "execute_result"
    }
   ],
   "source": [
    "unscaled_pred"
   ]
  },
  {
   "cell_type": "code",
   "execution_count": 65,
   "id": "231cd77f",
   "metadata": {},
   "outputs": [
    {
     "data": {
      "text/html": [
       "<div>\n",
       "<style scoped>\n",
       "    .dataframe tbody tr th:only-of-type {\n",
       "        vertical-align: middle;\n",
       "    }\n",
       "\n",
       "    .dataframe tbody tr th {\n",
       "        vertical-align: top;\n",
       "    }\n",
       "\n",
       "    .dataframe thead th {\n",
       "        text-align: right;\n",
       "    }\n",
       "</style>\n",
       "<table border=\"1\" class=\"dataframe\">\n",
       "  <thead>\n",
       "    <tr style=\"text-align: right;\">\n",
       "      <th></th>\n",
       "      <th>Miles</th>\n",
       "    </tr>\n",
       "    <tr>\n",
       "      <th>DATE</th>\n",
       "      <th></th>\n",
       "    </tr>\n",
       "  </thead>\n",
       "  <tbody>\n",
       "    <tr>\n",
       "      <th>2016-03-01</th>\n",
       "      <td>265147.0</td>\n",
       "    </tr>\n",
       "    <tr>\n",
       "      <th>2016-04-01</th>\n",
       "      <td>269653.0</td>\n",
       "    </tr>\n",
       "    <tr>\n",
       "      <th>2016-05-01</th>\n",
       "      <td>277972.0</td>\n",
       "    </tr>\n",
       "    <tr>\n",
       "      <th>2016-06-01</th>\n",
       "      <td>276991.0</td>\n",
       "    </tr>\n",
       "    <tr>\n",
       "      <th>2016-07-01</th>\n",
       "      <td>285160.0</td>\n",
       "    </tr>\n",
       "    <tr>\n",
       "      <th>2016-08-01</th>\n",
       "      <td>279213.0</td>\n",
       "    </tr>\n",
       "    <tr>\n",
       "      <th>2016-09-01</th>\n",
       "      <td>262039.0</td>\n",
       "    </tr>\n",
       "    <tr>\n",
       "      <th>2016-10-01</th>\n",
       "      <td>275610.0</td>\n",
       "    </tr>\n",
       "    <tr>\n",
       "      <th>2016-11-01</th>\n",
       "      <td>255154.0</td>\n",
       "    </tr>\n",
       "    <tr>\n",
       "      <th>2016-12-01</th>\n",
       "      <td>264778.0</td>\n",
       "    </tr>\n",
       "    <tr>\n",
       "      <th>2017-01-01</th>\n",
       "      <td>244587.0</td>\n",
       "    </tr>\n",
       "    <tr>\n",
       "      <th>2017-02-01</th>\n",
       "      <td>226947.0</td>\n",
       "    </tr>\n",
       "    <tr>\n",
       "      <th>2017-03-01</th>\n",
       "      <td>267355.0</td>\n",
       "    </tr>\n",
       "    <tr>\n",
       "      <th>2017-04-01</th>\n",
       "      <td>272904.0</td>\n",
       "    </tr>\n",
       "    <tr>\n",
       "      <th>2017-05-01</th>\n",
       "      <td>283956.0</td>\n",
       "    </tr>\n",
       "    <tr>\n",
       "      <th>2017-06-01</th>\n",
       "      <td>280537.0</td>\n",
       "    </tr>\n",
       "    <tr>\n",
       "      <th>2017-07-01</th>\n",
       "      <td>287343.0</td>\n",
       "    </tr>\n",
       "    <tr>\n",
       "      <th>2017-08-01</th>\n",
       "      <td>283184.0</td>\n",
       "    </tr>\n",
       "    <tr>\n",
       "      <th>2017-09-01</th>\n",
       "      <td>262673.0</td>\n",
       "    </tr>\n",
       "    <tr>\n",
       "      <th>2017-10-01</th>\n",
       "      <td>278937.0</td>\n",
       "    </tr>\n",
       "    <tr>\n",
       "      <th>2017-11-01</th>\n",
       "      <td>257712.0</td>\n",
       "    </tr>\n",
       "    <tr>\n",
       "      <th>2017-12-01</th>\n",
       "      <td>266535.0</td>\n",
       "    </tr>\n",
       "    <tr>\n",
       "      <th>2018-01-01</th>\n",
       "      <td>245695.0</td>\n",
       "    </tr>\n",
       "    <tr>\n",
       "      <th>2018-02-01</th>\n",
       "      <td>226660.0</td>\n",
       "    </tr>\n",
       "    <tr>\n",
       "      <th>2018-03-01</th>\n",
       "      <td>268480.0</td>\n",
       "    </tr>\n",
       "    <tr>\n",
       "      <th>2018-04-01</th>\n",
       "      <td>272475.0</td>\n",
       "    </tr>\n",
       "    <tr>\n",
       "      <th>2018-05-01</th>\n",
       "      <td>286164.0</td>\n",
       "    </tr>\n",
       "    <tr>\n",
       "      <th>2018-06-01</th>\n",
       "      <td>280877.0</td>\n",
       "    </tr>\n",
       "    <tr>\n",
       "      <th>2018-07-01</th>\n",
       "      <td>288145.0</td>\n",
       "    </tr>\n",
       "    <tr>\n",
       "      <th>2018-08-01</th>\n",
       "      <td>286608.0</td>\n",
       "    </tr>\n",
       "    <tr>\n",
       "      <th>2018-09-01</th>\n",
       "      <td>260595.0</td>\n",
       "    </tr>\n",
       "    <tr>\n",
       "      <th>2018-10-01</th>\n",
       "      <td>282174.0</td>\n",
       "    </tr>\n",
       "    <tr>\n",
       "      <th>2018-11-01</th>\n",
       "      <td>258590.0</td>\n",
       "    </tr>\n",
       "    <tr>\n",
       "      <th>2018-12-01</th>\n",
       "      <td>268413.0</td>\n",
       "    </tr>\n",
       "  </tbody>\n",
       "</table>\n",
       "</div>"
      ],
      "text/plain": [
       "               Miles\n",
       "DATE                \n",
       "2016-03-01  265147.0\n",
       "2016-04-01  269653.0\n",
       "2016-05-01  277972.0\n",
       "2016-06-01  276991.0\n",
       "2016-07-01  285160.0\n",
       "2016-08-01  279213.0\n",
       "2016-09-01  262039.0\n",
       "2016-10-01  275610.0\n",
       "2016-11-01  255154.0\n",
       "2016-12-01  264778.0\n",
       "2017-01-01  244587.0\n",
       "2017-02-01  226947.0\n",
       "2017-03-01  267355.0\n",
       "2017-04-01  272904.0\n",
       "2017-05-01  283956.0\n",
       "2017-06-01  280537.0\n",
       "2017-07-01  287343.0\n",
       "2017-08-01  283184.0\n",
       "2017-09-01  262673.0\n",
       "2017-10-01  278937.0\n",
       "2017-11-01  257712.0\n",
       "2017-12-01  266535.0\n",
       "2018-01-01  245695.0\n",
       "2018-02-01  226660.0\n",
       "2018-03-01  268480.0\n",
       "2018-04-01  272475.0\n",
       "2018-05-01  286164.0\n",
       "2018-06-01  280877.0\n",
       "2018-07-01  288145.0\n",
       "2018-08-01  286608.0\n",
       "2018-09-01  260595.0\n",
       "2018-10-01  282174.0\n",
       "2018-11-01  258590.0\n",
       "2018-12-01  268413.0"
      ]
     },
     "execution_count": 65,
     "metadata": {},
     "output_type": "execute_result"
    }
   ],
   "source": [
    "test_data"
   ]
  },
  {
   "cell_type": "code",
   "execution_count": 66,
   "id": "aef113f6",
   "metadata": {},
   "outputs": [
    {
     "name": "stderr",
     "output_type": "stream",
     "text": [
      "C:\\Users\\Shailya\\AppData\\Local\\Temp/ipykernel_11916/2165736587.py:1: SettingWithCopyWarning: \n",
      "A value is trying to be set on a copy of a slice from a DataFrame.\n",
      "Try using .loc[row_indexer,col_indexer] = value instead\n",
      "\n",
      "See the caveats in the documentation: https://pandas.pydata.org/pandas-docs/stable/user_guide/indexing.html#returning-a-view-versus-a-copy\n",
      "  test_data[\"Predictions\"] = unscaled_pred\n"
     ]
    }
   ],
   "source": [
    "test_data[\"Predictions\"] = unscaled_pred"
   ]
  },
  {
   "cell_type": "code",
   "execution_count": 67,
   "id": "8d744391",
   "metadata": {},
   "outputs": [
    {
     "data": {
      "text/html": [
       "<div>\n",
       "<style scoped>\n",
       "    .dataframe tbody tr th:only-of-type {\n",
       "        vertical-align: middle;\n",
       "    }\n",
       "\n",
       "    .dataframe tbody tr th {\n",
       "        vertical-align: top;\n",
       "    }\n",
       "\n",
       "    .dataframe thead th {\n",
       "        text-align: right;\n",
       "    }\n",
       "</style>\n",
       "<table border=\"1\" class=\"dataframe\">\n",
       "  <thead>\n",
       "    <tr style=\"text-align: right;\">\n",
       "      <th></th>\n",
       "      <th>Miles</th>\n",
       "      <th>Predictions</th>\n",
       "    </tr>\n",
       "    <tr>\n",
       "      <th>DATE</th>\n",
       "      <th></th>\n",
       "      <th></th>\n",
       "    </tr>\n",
       "  </thead>\n",
       "  <tbody>\n",
       "    <tr>\n",
       "      <th>2016-03-01</th>\n",
       "      <td>265147.0</td>\n",
       "      <td>260301.299622</td>\n",
       "    </tr>\n",
       "    <tr>\n",
       "      <th>2016-04-01</th>\n",
       "      <td>269653.0</td>\n",
       "      <td>261290.187772</td>\n",
       "    </tr>\n",
       "    <tr>\n",
       "      <th>2016-05-01</th>\n",
       "      <td>277972.0</td>\n",
       "      <td>272648.257420</td>\n",
       "    </tr>\n",
       "    <tr>\n",
       "      <th>2016-06-01</th>\n",
       "      <td>276991.0</td>\n",
       "      <td>271478.502261</td>\n",
       "    </tr>\n",
       "    <tr>\n",
       "      <th>2016-07-01</th>\n",
       "      <td>285160.0</td>\n",
       "      <td>277182.076649</td>\n",
       "    </tr>\n",
       "  </tbody>\n",
       "</table>\n",
       "</div>"
      ],
      "text/plain": [
       "               Miles    Predictions\n",
       "DATE                               \n",
       "2016-03-01  265147.0  260301.299622\n",
       "2016-04-01  269653.0  261290.187772\n",
       "2016-05-01  277972.0  272648.257420\n",
       "2016-06-01  276991.0  271478.502261\n",
       "2016-07-01  285160.0  277182.076649"
      ]
     },
     "execution_count": 67,
     "metadata": {},
     "output_type": "execute_result"
    }
   ],
   "source": [
    "test_data.head()"
   ]
  },
  {
   "cell_type": "code",
   "execution_count": null,
   "id": "7715588e",
   "metadata": {},
   "outputs": [],
   "source": []
  },
  {
   "cell_type": "code",
   "execution_count": 68,
   "id": "64e230b4",
   "metadata": {},
   "outputs": [
    {
     "data": {
      "text/plain": [
       "<AxesSubplot:xlabel='DATE'>"
      ]
     },
     "execution_count": 68,
     "metadata": {},
     "output_type": "execute_result"
    },
    {
     "data": {
      "image/png": "[encoded data removed]",
      "text/plain": [
       "<Figure size 864x432 with 1 Axes>"
      ]
     },
     "metadata": {
      "needs_background": "light"
     },
     "output_type": "display_data"
    }
   ],
   "source": [
    "test_data.plot(figsize= (12,6))"
   ]
  },
  {
   "cell_type": "code",
   "execution_count": null,
   "id": "72307779",
   "metadata": {},
   "outputs": [],
   "source": []
  },
  {
   "cell_type": "markdown",
   "id": "d0297eac",
   "metadata": {},
   "source": [
    "### Training Model on Whole Data and Forecast into Future:"
   ]
  },
  {
   "cell_type": "code",
   "execution_count": 69,
   "id": "fd3e2096",
   "metadata": {},
   "outputs": [
    {
     "data": {
      "text/html": [
       "<div>\n",
       "<style scoped>\n",
       "    .dataframe tbody tr th:only-of-type {\n",
       "        vertical-align: middle;\n",
       "    }\n",
       "\n",
       "    .dataframe tbody tr th {\n",
       "        vertical-align: top;\n",
       "    }\n",
       "\n",
       "    .dataframe thead th {\n",
       "        text-align: right;\n",
       "    }\n",
       "</style>\n",
       "<table border=\"1\" class=\"dataframe\">\n",
       "  <thead>\n",
       "    <tr style=\"text-align: right;\">\n",
       "      <th></th>\n",
       "      <th>Miles</th>\n",
       "    </tr>\n",
       "    <tr>\n",
       "      <th>DATE</th>\n",
       "      <th></th>\n",
       "    </tr>\n",
       "  </thead>\n",
       "  <tbody>\n",
       "    <tr>\n",
       "      <th>1970-01-01</th>\n",
       "      <td>80173.0</td>\n",
       "    </tr>\n",
       "    <tr>\n",
       "      <th>1970-02-01</th>\n",
       "      <td>77442.0</td>\n",
       "    </tr>\n",
       "    <tr>\n",
       "      <th>1970-03-01</th>\n",
       "      <td>90223.0</td>\n",
       "    </tr>\n",
       "    <tr>\n",
       "      <th>1970-04-01</th>\n",
       "      <td>89956.0</td>\n",
       "    </tr>\n",
       "    <tr>\n",
       "      <th>1970-05-01</th>\n",
       "      <td>97972.0</td>\n",
       "    </tr>\n",
       "  </tbody>\n",
       "</table>\n",
       "</div>"
      ],
      "text/plain": [
       "              Miles\n",
       "DATE               \n",
       "1970-01-01  80173.0\n",
       "1970-02-01  77442.0\n",
       "1970-03-01  90223.0\n",
       "1970-04-01  89956.0\n",
       "1970-05-01  97972.0"
      ]
     },
     "execution_count": 69,
     "metadata": {},
     "output_type": "execute_result"
    }
   ],
   "source": [
    "df.head()"
   ]
  },
  {
   "cell_type": "code",
   "execution_count": 70,
   "id": "3b6daba5",
   "metadata": {},
   "outputs": [],
   "source": [
    "scalar = MinMaxScaler()"
   ]
  },
  {
   "cell_type": "code",
   "execution_count": 71,
   "id": "6e100d9c",
   "metadata": {},
   "outputs": [],
   "source": [
    "scaled_df = scalar.fit_transform(df)"
   ]
  },
  {
   "cell_type": "code",
   "execution_count": 73,
   "id": "383d5679",
   "metadata": {},
   "outputs": [
    {
     "data": {
      "text/plain": [
       "array([[0.01296137],\n",
       "       [0.        ],\n",
       "       [0.06065884],\n",
       "       [0.05939166],\n",
       "       [0.09743573]])"
      ]
     },
     "execution_count": 73,
     "metadata": {},
     "output_type": "execute_result"
    }
   ],
   "source": [
    "scaled_df[:5]"
   ]
  },
  {
   "cell_type": "code",
   "execution_count": null,
   "id": "8e3bf5bf",
   "metadata": {},
   "outputs": [],
   "source": []
  },
  {
   "cell_type": "code",
   "execution_count": 74,
   "id": "8c2fe57b",
   "metadata": {},
   "outputs": [],
   "source": [
    "n_inputs = 24\n",
    "n_features = 1"
   ]
  },
  {
   "cell_type": "code",
   "execution_count": 75,
   "id": "3c2b9da5",
   "metadata": {},
   "outputs": [],
   "source": [
    "final_time_gen = TimeseriesGenerator(data= scaled_df, targets= scaled_df, length= n_inputs, batch_size= 1)"
   ]
  },
  {
   "cell_type": "code",
   "execution_count": 76,
   "id": "245d8da4",
   "metadata": {},
   "outputs": [
    {
     "data": {
      "text/plain": [
       "(array([[[0.01296137],\n",
       "         [0.        ],\n",
       "         [0.06065884],\n",
       "         [0.05939166],\n",
       "         [0.09743573],\n",
       "         [0.10722676],\n",
       "         [0.13739719],\n",
       "         [0.14013564],\n",
       "         [0.08453605],\n",
       "         [0.08958107],\n",
       "         [0.05810074],\n",
       "         [0.05917808],\n",
       "         [0.03746506],\n",
       "         [0.01270034],\n",
       "         [0.07371513],\n",
       "         [0.09807169],\n",
       "         [0.12440734],\n",
       "         [0.13284576],\n",
       "         [0.1662245 ],\n",
       "         [0.1670598 ],\n",
       "         [0.11318301],\n",
       "         [0.11904434],\n",
       "         [0.0859646 ],\n",
       "         [0.08577476]]]),\n",
       " array([[0.07129941]]))"
      ]
     },
     "execution_count": 76,
     "metadata": {},
     "output_type": "execute_result"
    }
   ],
   "source": [
    "final_time_gen[0]"
   ]
  },
  {
   "cell_type": "code",
   "execution_count": null,
   "id": "12c319ed",
   "metadata": {},
   "outputs": [],
   "source": []
  },
  {
   "cell_type": "code",
   "execution_count": 77,
   "id": "6c63c46b",
   "metadata": {},
   "outputs": [
    {
     "name": "stdout",
     "output_type": "stream",
     "text": [
      "Model: \"sequential_1\"\n",
      "_________________________________________________________________\n",
      " Layer (type)                Output Shape              Param #   \n",
      "=================================================================\n",
      " lstm_1 (LSTM)               (None, 200)               161600    \n",
      "                                                                 \n",
      " dense_1 (Dense)             (None, 1)                 201       \n",
      "                                                                 \n",
      "=================================================================\n",
      "Total params: 161,801\n",
      "Trainable params: 161,801\n",
      "Non-trainable params: 0\n",
      "_________________________________________________________________\n"
     ]
    }
   ],
   "source": [
    "model.summary()"
   ]
  },
  {
   "cell_type": "code",
   "execution_count": 78,
   "id": "1a48ca13",
   "metadata": {},
   "outputs": [
    {
     "name": "stdout",
     "output_type": "stream",
     "text": [
      "Epoch 1/50\n",
      "564/564 [==============================] - 6s 11ms/step - loss: 5.8579e-04\n",
      "Epoch 2/50\n",
      "564/564 [==============================] - 6s 11ms/step - loss: 5.7206e-04\n",
      "Epoch 3/50\n",
      "564/564 [==============================] - 6s 11ms/step - loss: 5.2190e-04\n",
      "Epoch 4/50\n",
      "564/564 [==============================] - 6s 11ms/step - loss: 5.6701e-04\n",
      "Epoch 5/50\n",
      "564/564 [==============================] - 6s 11ms/step - loss: 4.6713e-04\n",
      "Epoch 6/50\n",
      "564/564 [==============================] - 6s 11ms/step - loss: 5.1698e-04\n",
      "Epoch 7/50\n",
      "564/564 [==============================] - 6s 11ms/step - loss: 5.2623e-04\n",
      "Epoch 8/50\n",
      "564/564 [==============================] - 6s 11ms/step - loss: 5.1281e-04\n",
      "Epoch 9/50\n",
      "564/564 [==============================] - 6s 11ms/step - loss: 5.2264e-04\n",
      "Epoch 10/50\n",
      "564/564 [==============================] - 6s 11ms/step - loss: 4.8213e-04\n",
      "Epoch 11/50\n",
      "564/564 [==============================] - 6s 11ms/step - loss: 4.5282e-04\n",
      "Epoch 12/50\n",
      "564/564 [==============================] - 6s 11ms/step - loss: 4.3351e-04\n",
      "Epoch 13/50\n",
      "564/564 [==============================] - 6s 11ms/step - loss: 6.9403e-04\n",
      "Epoch 14/50\n",
      "564/564 [==============================] - 6s 11ms/step - loss: 5.0481e-04\n",
      "Epoch 15/50\n",
      "564/564 [==============================] - 6s 11ms/step - loss: 4.5520e-04\n",
      "Epoch 16/50\n",
      "564/564 [==============================] - 6s 11ms/step - loss: 4.2252e-04\n",
      "Epoch 17/50\n",
      "564/564 [==============================] - 6s 11ms/step - loss: 4.4202e-04\n",
      "Epoch 18/50\n",
      "564/564 [==============================] - 6s 11ms/step - loss: 4.5714e-04\n",
      "Epoch 19/50\n",
      "564/564 [==============================] - 6s 11ms/step - loss: 4.7313e-04\n",
      "Epoch 20/50\n",
      "564/564 [==============================] - 6s 11ms/step - loss: 4.7565e-04\n",
      "Epoch 21/50\n",
      "564/564 [==============================] - 7s 12ms/step - loss: 4.7231e-04\n",
      "Epoch 22/50\n",
      "564/564 [==============================] - 6s 11ms/step - loss: 7.0859e-04\n",
      "Epoch 23/50\n",
      "564/564 [==============================] - 6s 11ms/step - loss: 6.6083e-04\n",
      "Epoch 24/50\n",
      "564/564 [==============================] - 7s 12ms/step - loss: 6.2678e-04\n",
      "Epoch 25/50\n",
      "564/564 [==============================] - 6s 11ms/step - loss: 5.0370e-04: 0s - \n",
      "Epoch 26/50\n",
      "564/564 [==============================] - 6s 11ms/step - loss: 4.1453e-04\n",
      "Epoch 27/50\n",
      "564/564 [==============================] - 6s 11ms/step - loss: 4.2754e-04\n",
      "Epoch 28/50\n",
      "564/564 [==============================] - 6s 11ms/step - loss: 4.3152e-04\n",
      "Epoch 29/50\n",
      "564/564 [==============================] - 6s 11ms/step - loss: 4.4467e-04\n",
      "Epoch 30/50\n",
      "564/564 [==============================] - 6s 11ms/step - loss: 4.2242e-04\n",
      "Epoch 31/50\n",
      "564/564 [==============================] - 6s 11ms/step - loss: 4.2867e-04\n",
      "Epoch 32/50\n",
      "564/564 [==============================] - 6s 11ms/step - loss: 4.2067e-04\n",
      "Epoch 33/50\n",
      "564/564 [==============================] - 6s 11ms/step - loss: 3.9051e-04\n",
      "Epoch 34/50\n",
      "564/564 [==============================] - 6s 11ms/step - loss: 4.1674e-04\n",
      "Epoch 35/50\n",
      "564/564 [==============================] - 6s 11ms/step - loss: 4.0325e-04\n",
      "Epoch 36/50\n",
      "564/564 [==============================] - 6s 11ms/step - loss: 4.8882e-04\n",
      "Epoch 37/50\n",
      "564/564 [==============================] - 6s 11ms/step - loss: 3.8626e-04\n",
      "Epoch 38/50\n",
      "564/564 [==============================] - 6s 11ms/step - loss: 3.9002e-04\n",
      "Epoch 39/50\n",
      "564/564 [==============================] - 6s 11ms/step - loss: 3.5336e-04\n",
      "Epoch 40/50\n",
      "564/564 [==============================] - 7s 12ms/step - loss: 3.5831e-04\n",
      "Epoch 41/50\n",
      "564/564 [==============================] - 6s 11ms/step - loss: 3.6158e-04\n",
      "Epoch 42/50\n",
      "564/564 [==============================] - 6s 11ms/step - loss: 3.6447e-04\n",
      "Epoch 43/50\n",
      "564/564 [==============================] - 6s 11ms/step - loss: 3.4022e-04\n",
      "Epoch 44/50\n",
      "564/564 [==============================] - 6s 11ms/step - loss: 3.5935e-04\n",
      "Epoch 45/50\n",
      "564/564 [==============================] - 6s 11ms/step - loss: 3.6221e-04\n",
      "Epoch 46/50\n",
      "564/564 [==============================] - 6s 11ms/step - loss: 3.1980e-04\n",
      "Epoch 47/50\n",
      "564/564 [==============================] - 6s 11ms/step - loss: 3.6195e-04\n",
      "Epoch 48/50\n",
      "564/564 [==============================] - 6s 11ms/step - loss: 3.2700e-04\n",
      "Epoch 49/50\n",
      "564/564 [==============================] - 6s 11ms/step - loss: 3.5361e-04\n",
      "Epoch 50/50\n",
      "564/564 [==============================] - 7s 12ms/step - loss: 3.4299e-04\n"
     ]
    },
    {
     "data": {
      "text/plain": [
       "<keras.callbacks.History at 0x26f70a729d0>"
      ]
     },
     "execution_count": 78,
     "metadata": {},
     "output_type": "execute_result"
    }
   ],
   "source": [
    "model.fit(final_time_gen, epochs= 50)"
   ]
  },
  {
   "cell_type": "code",
   "execution_count": null,
   "id": "020acbe8",
   "metadata": {},
   "outputs": [],
   "source": []
  },
  {
   "cell_type": "code",
   "execution_count": 79,
   "id": "d0502dc9",
   "metadata": {},
   "outputs": [],
   "source": [
    "# Forecasting for Next 24 Unseen Months:\n",
    "\n",
    "forecast = []\n",
    "batch = scaled_df[-n_inputs:]\n",
    "batch = batch.reshape((1, n_inputs, n_features))\n",
    "\n",
    "for i in range(24):\n",
    "    \n",
    "    current_forecast = model.predict(batch)[0]\n",
    "    \n",
    "    forecast.append(current_forecast)\n",
    "    \n",
    "    batch = np.append(batch[:, 1:, :],[[current_forecast]], axis= 1)"
   ]
  },
  {
   "cell_type": "code",
   "execution_count": 80,
   "id": "a41c0eb3",
   "metadata": {},
   "outputs": [
    {
     "data": {
      "text/plain": [
       "[array([0.8111081], dtype=float32),\n",
       " array([0.74572885], dtype=float32),\n",
       " array([0.92359316], dtype=float32),\n",
       " array([0.9294778], dtype=float32),\n",
       " array([0.98724794], dtype=float32),\n",
       " array([0.9774016], dtype=float32),\n",
       " array([0.9949424], dtype=float32),\n",
       " array([0.9852736], dtype=float32),\n",
       " array([0.88681746], dtype=float32),\n",
       " array([0.9608562], dtype=float32),\n",
       " array([0.86144614], dtype=float32),\n",
       " array([0.90579545], dtype=float32),\n",
       " array([0.81282365], dtype=float32),\n",
       " array([0.7569778], dtype=float32),\n",
       " array([0.9291434], dtype=float32),\n",
       " array([0.92463243], dtype=float32),\n",
       " array([0.9792695], dtype=float32),\n",
       " array([0.97156084], dtype=float32),\n",
       " array([0.9907968], dtype=float32),\n",
       " array([0.98367584], dtype=float32),\n",
       " array([0.88155365], dtype=float32),\n",
       " array([0.9638175], dtype=float32),\n",
       " array([0.85826313], dtype=float32),\n",
       " array([0.90371525], dtype=float32)]"
      ]
     },
     "execution_count": 80,
     "metadata": {},
     "output_type": "execute_result"
    }
   ],
   "source": [
    "forecast"
   ]
  },
  {
   "cell_type": "code",
   "execution_count": null,
   "id": "1d68ef29",
   "metadata": {},
   "outputs": [],
   "source": []
  },
  {
   "cell_type": "code",
   "execution_count": 81,
   "id": "878825d8",
   "metadata": {},
   "outputs": [],
   "source": [
    "# Inverse Scalling:\n",
    "\n",
    "final_forecast = scalar.inverse_transform(forecast)"
   ]
  },
  {
   "cell_type": "code",
   "execution_count": 82,
   "id": "f4dec38e",
   "metadata": {},
   "outputs": [
    {
     "data": {
      "text/plain": [
       "array([[248344.91259336],\n",
       "       [234569.30595839],\n",
       "       [272045.8503269 ],\n",
       "       [273285.76318157],\n",
       "       [285458.10351896],\n",
       "       [283383.4523145 ],\n",
       "       [287079.35412908],\n",
       "       [285042.10326171],\n",
       "       [264297.09828234],\n",
       "       [279897.28375363],\n",
       "       [258951.28649926],\n",
       "       [268295.81975043],\n",
       "       [248706.38220465],\n",
       "       [236939.49266744],\n",
       "       [273215.30787897],\n",
       "       [272264.82691443],\n",
       "       [283777.02241659],\n",
       "       [282152.78279364],\n",
       "       [286205.85908341],\n",
       "       [284705.4499923 ],\n",
       "       [263187.99869537],\n",
       "       [280521.233904  ],\n",
       "       [258280.61732471],\n",
       "       [267857.51492679]])"
      ]
     },
     "execution_count": 82,
     "metadata": {},
     "output_type": "execute_result"
    }
   ],
   "source": [
    "final_forecast"
   ]
  },
  {
   "cell_type": "code",
   "execution_count": 84,
   "id": "e1f671c2",
   "metadata": {},
   "outputs": [
    {
     "data": {
      "text/plain": [
       "(24, 1)"
      ]
     },
     "execution_count": 84,
     "metadata": {},
     "output_type": "execute_result"
    }
   ],
   "source": [
    "final_forecast.shape"
   ]
  },
  {
   "cell_type": "code",
   "execution_count": 96,
   "id": "073c3333",
   "metadata": {},
   "outputs": [],
   "source": [
    "forecast_ser = pd.Series(final_forecast.reshape(24,))"
   ]
  },
  {
   "cell_type": "code",
   "execution_count": 97,
   "id": "f0438536",
   "metadata": {},
   "outputs": [
    {
     "data": {
      "text/plain": [
       "0     248344.912593\n",
       "1     234569.305958\n",
       "2     272045.850327\n",
       "3     273285.763182\n",
       "4     285458.103519\n",
       "5     283383.452314\n",
       "6     287079.354129\n",
       "7     285042.103262\n",
       "8     264297.098282\n",
       "9     279897.283754\n",
       "10    258951.286499\n",
       "11    268295.819750\n",
       "12    248706.382205\n",
       "13    236939.492667\n",
       "14    273215.307879\n",
       "15    272264.826914\n",
       "16    283777.022417\n",
       "17    282152.782794\n",
       "18    286205.859083\n",
       "19    284705.449992\n",
       "20    263187.998695\n",
       "21    280521.233904\n",
       "22    258280.617325\n",
       "23    267857.514927\n",
       "dtype: float64"
      ]
     },
     "execution_count": 97,
     "metadata": {},
     "output_type": "execute_result"
    }
   ],
   "source": [
    "forecast_ser"
   ]
  },
  {
   "cell_type": "code",
   "execution_count": 98,
   "id": "f461c9a9",
   "metadata": {},
   "outputs": [],
   "source": [
    "# We Need to add Date Index in forecast Series srarting from next date after last date of df."
   ]
  },
  {
   "cell_type": "code",
   "execution_count": 99,
   "id": "b3c38d9d",
   "metadata": {},
   "outputs": [
    {
     "data": {
      "text/html": [
       "<div>\n",
       "<style scoped>\n",
       "    .dataframe tbody tr th:only-of-type {\n",
       "        vertical-align: middle;\n",
       "    }\n",
       "\n",
       "    .dataframe tbody tr th {\n",
       "        vertical-align: top;\n",
       "    }\n",
       "\n",
       "    .dataframe thead th {\n",
       "        text-align: right;\n",
       "    }\n",
       "</style>\n",
       "<table border=\"1\" class=\"dataframe\">\n",
       "  <thead>\n",
       "    <tr style=\"text-align: right;\">\n",
       "      <th></th>\n",
       "      <th>Miles</th>\n",
       "    </tr>\n",
       "    <tr>\n",
       "      <th>DATE</th>\n",
       "      <th></th>\n",
       "    </tr>\n",
       "  </thead>\n",
       "  <tbody>\n",
       "    <tr>\n",
       "      <th>2018-08-01</th>\n",
       "      <td>286608.0</td>\n",
       "    </tr>\n",
       "    <tr>\n",
       "      <th>2018-09-01</th>\n",
       "      <td>260595.0</td>\n",
       "    </tr>\n",
       "    <tr>\n",
       "      <th>2018-10-01</th>\n",
       "      <td>282174.0</td>\n",
       "    </tr>\n",
       "    <tr>\n",
       "      <th>2018-11-01</th>\n",
       "      <td>258590.0</td>\n",
       "    </tr>\n",
       "    <tr>\n",
       "      <th>2018-12-01</th>\n",
       "      <td>268413.0</td>\n",
       "    </tr>\n",
       "  </tbody>\n",
       "</table>\n",
       "</div>"
      ],
      "text/plain": [
       "               Miles\n",
       "DATE                \n",
       "2018-08-01  286608.0\n",
       "2018-09-01  260595.0\n",
       "2018-10-01  282174.0\n",
       "2018-11-01  258590.0\n",
       "2018-12-01  268413.0"
      ]
     },
     "execution_count": 99,
     "metadata": {},
     "output_type": "execute_result"
    }
   ],
   "source": [
    "df.tail()"
   ]
  },
  {
   "cell_type": "code",
   "execution_count": 100,
   "id": "ba88eb6f",
   "metadata": {},
   "outputs": [],
   "source": [
    "idx = pd.date_range(\"2019-01-01\", periods= 24, freq= \"MS\")"
   ]
  },
  {
   "cell_type": "code",
   "execution_count": 102,
   "id": "ea859b00",
   "metadata": {},
   "outputs": [],
   "source": [
    "forecast_ser.index = idx"
   ]
  },
  {
   "cell_type": "code",
   "execution_count": 103,
   "id": "cbc981a5",
   "metadata": {},
   "outputs": [
    {
     "data": {
      "text/plain": [
       "2019-01-01    248344.912593\n",
       "2019-02-01    234569.305958\n",
       "2019-03-01    272045.850327\n",
       "2019-04-01    273285.763182\n",
       "2019-05-01    285458.103519\n",
       "2019-06-01    283383.452314\n",
       "2019-07-01    287079.354129\n",
       "2019-08-01    285042.103262\n",
       "2019-09-01    264297.098282\n",
       "2019-10-01    279897.283754\n",
       "2019-11-01    258951.286499\n",
       "2019-12-01    268295.819750\n",
       "2020-01-01    248706.382205\n",
       "2020-02-01    236939.492667\n",
       "2020-03-01    273215.307879\n",
       "2020-04-01    272264.826914\n",
       "2020-05-01    283777.022417\n",
       "2020-06-01    282152.782794\n",
       "2020-07-01    286205.859083\n",
       "2020-08-01    284705.449992\n",
       "2020-09-01    263187.998695\n",
       "2020-10-01    280521.233904\n",
       "2020-11-01    258280.617325\n",
       "2020-12-01    267857.514927\n",
       "Freq: MS, dtype: float64"
      ]
     },
     "execution_count": 103,
     "metadata": {},
     "output_type": "execute_result"
    }
   ],
   "source": [
    "forecast_ser"
   ]
  },
  {
   "cell_type": "code",
   "execution_count": null,
   "id": "c752b70c",
   "metadata": {},
   "outputs": [],
   "source": []
  },
  {
   "cell_type": "code",
   "execution_count": 105,
   "id": "2f718829",
   "metadata": {},
   "outputs": [
    {
     "data": {
      "text/plain": [
       "<AxesSubplot:xlabel='DATE'>"
      ]
     },
     "execution_count": 105,
     "metadata": {},
     "output_type": "execute_result"
    },
    {
     "data": {
      "image/png": "[encoded data removed]",
      "text/plain": [
       "<Figure size 864x432 with 1 Axes>"
      ]
     },
     "metadata": {
      "needs_background": "light"
     },
     "output_type": "display_data"
    }
   ],
   "source": [
    "# Plotting Historic Data and Forecast:\n",
    "\n",
    "df[\"Miles\"].plot(figsize= (12,6), legend= True)\n",
    "forecast_ser.plot(label= \"Forecast\", legend= True)"
   ]
  }
 ],
 "metadata": {
  "kernelspec": {
   "display_name": "Python 3 (ipykernel)",
   "language": "python",
   "name": "python3"
  },
  "language_info": {
   "codemirror_mode": {
    "name": "ipython",
    "version": 3
   },
   "file_extension": ".py",
   "mimetype": "text/x-python",
   "name": "python",
   "nbconvert_exporter": "python",
   "pygments_lexer": "ipython3",
   "version": "3.8.12"
  }
 },
 "nbformat": 4,
 "nbformat_minor": 5
}
