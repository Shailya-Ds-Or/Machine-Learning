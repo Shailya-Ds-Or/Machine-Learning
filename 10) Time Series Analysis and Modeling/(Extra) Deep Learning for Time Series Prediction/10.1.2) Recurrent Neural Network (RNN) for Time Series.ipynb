{
 "cells": [
  {
   "cell_type": "markdown",
   "id": "bded7e0a",
   "metadata": {},
   "source": [
    "# Recurrent Neural Network (RNN) for Time Series"
   ]
  },
  {
   "cell_type": "code",
   "execution_count": 127,
   "id": "e65a7468",
   "metadata": {},
   "outputs": [],
   "source": [
    "import numpy as np\n",
    "import pandas as pd\n",
    "import matplotlib.pyplot as plt\n",
    "\n",
    "from statsmodels.tsa.seasonal import seasonal_decompose\n",
    "\n",
    "from sklearn.preprocessing import MinMaxScaler"
   ]
  },
  {
   "cell_type": "code",
   "execution_count": null,
   "id": "83374a46",
   "metadata": {},
   "outputs": [],
   "source": []
  },
  {
   "cell_type": "code",
   "execution_count": 128,
   "id": "08e6e4c0",
   "metadata": {},
   "outputs": [],
   "source": [
    "df= pd.read_csv(\"Alcohol_Sales.csv\", index_col= 0, parse_dates= True)"
   ]
  },
  {
   "cell_type": "code",
   "execution_count": 129,
   "id": "08e31318",
   "metadata": {},
   "outputs": [
    {
     "data": {
      "text/html": [
       "<div>\n",
       "<style scoped>\n",
       "    .dataframe tbody tr th:only-of-type {\n",
       "        vertical-align: middle;\n",
       "    }\n",
       "\n",
       "    .dataframe tbody tr th {\n",
       "        vertical-align: top;\n",
       "    }\n",
       "\n",
       "    .dataframe thead th {\n",
       "        text-align: right;\n",
       "    }\n",
       "</style>\n",
       "<table border=\"1\" class=\"dataframe\">\n",
       "  <thead>\n",
       "    <tr style=\"text-align: right;\">\n",
       "      <th></th>\n",
       "      <th>S4248SM144NCEN</th>\n",
       "    </tr>\n",
       "    <tr>\n",
       "      <th>DATE</th>\n",
       "      <th></th>\n",
       "    </tr>\n",
       "  </thead>\n",
       "  <tbody>\n",
       "    <tr>\n",
       "      <th>1992-01-01</th>\n",
       "      <td>3459</td>\n",
       "    </tr>\n",
       "    <tr>\n",
       "      <th>1992-02-01</th>\n",
       "      <td>3458</td>\n",
       "    </tr>\n",
       "    <tr>\n",
       "      <th>1992-03-01</th>\n",
       "      <td>4002</td>\n",
       "    </tr>\n",
       "    <tr>\n",
       "      <th>1992-04-01</th>\n",
       "      <td>4564</td>\n",
       "    </tr>\n",
       "    <tr>\n",
       "      <th>1992-05-01</th>\n",
       "      <td>4221</td>\n",
       "    </tr>\n",
       "  </tbody>\n",
       "</table>\n",
       "</div>"
      ],
      "text/plain": [
       "            S4248SM144NCEN\n",
       "DATE                      \n",
       "1992-01-01            3459\n",
       "1992-02-01            3458\n",
       "1992-03-01            4002\n",
       "1992-04-01            4564\n",
       "1992-05-01            4221"
      ]
     },
     "execution_count": 129,
     "metadata": {},
     "output_type": "execute_result"
    }
   ],
   "source": [
    "df.head()"
   ]
  },
  {
   "cell_type": "code",
   "execution_count": 130,
   "id": "5b02bde4",
   "metadata": {},
   "outputs": [],
   "source": [
    "df.columns = [\"Sales\"]"
   ]
  },
  {
   "cell_type": "code",
   "execution_count": 131,
   "id": "d3fa3a0c",
   "metadata": {},
   "outputs": [
    {
     "data": {
      "text/html": [
       "<div>\n",
       "<style scoped>\n",
       "    .dataframe tbody tr th:only-of-type {\n",
       "        vertical-align: middle;\n",
       "    }\n",
       "\n",
       "    .dataframe tbody tr th {\n",
       "        vertical-align: top;\n",
       "    }\n",
       "\n",
       "    .dataframe thead th {\n",
       "        text-align: right;\n",
       "    }\n",
       "</style>\n",
       "<table border=\"1\" class=\"dataframe\">\n",
       "  <thead>\n",
       "    <tr style=\"text-align: right;\">\n",
       "      <th></th>\n",
       "      <th>Sales</th>\n",
       "    </tr>\n",
       "    <tr>\n",
       "      <th>DATE</th>\n",
       "      <th></th>\n",
       "    </tr>\n",
       "  </thead>\n",
       "  <tbody>\n",
       "    <tr>\n",
       "      <th>1992-01-01</th>\n",
       "      <td>3459</td>\n",
       "    </tr>\n",
       "    <tr>\n",
       "      <th>1992-02-01</th>\n",
       "      <td>3458</td>\n",
       "    </tr>\n",
       "    <tr>\n",
       "      <th>1992-03-01</th>\n",
       "      <td>4002</td>\n",
       "    </tr>\n",
       "    <tr>\n",
       "      <th>1992-04-01</th>\n",
       "      <td>4564</td>\n",
       "    </tr>\n",
       "    <tr>\n",
       "      <th>1992-05-01</th>\n",
       "      <td>4221</td>\n",
       "    </tr>\n",
       "  </tbody>\n",
       "</table>\n",
       "</div>"
      ],
      "text/plain": [
       "            Sales\n",
       "DATE             \n",
       "1992-01-01   3459\n",
       "1992-02-01   3458\n",
       "1992-03-01   4002\n",
       "1992-04-01   4564\n",
       "1992-05-01   4221"
      ]
     },
     "execution_count": 131,
     "metadata": {},
     "output_type": "execute_result"
    }
   ],
   "source": [
    "df.head()"
   ]
  },
  {
   "cell_type": "code",
   "execution_count": 132,
   "id": "0745bd13",
   "metadata": {},
   "outputs": [
    {
     "data": {
      "text/plain": [
       "DatetimeIndex(['1992-01-01', '1992-02-01', '1992-03-01', '1992-04-01',\n",
       "               '1992-05-01', '1992-06-01', '1992-07-01', '1992-08-01',\n",
       "               '1992-09-01', '1992-10-01',\n",
       "               ...\n",
       "               '2018-04-01', '2018-05-01', '2018-06-01', '2018-07-01',\n",
       "               '2018-08-01', '2018-09-01', '2018-10-01', '2018-11-01',\n",
       "               '2018-12-01', '2019-01-01'],\n",
       "              dtype='datetime64[ns]', name='DATE', length=325, freq=None)"
      ]
     },
     "execution_count": 132,
     "metadata": {},
     "output_type": "execute_result"
    }
   ],
   "source": [
    "df.index"
   ]
  },
  {
   "cell_type": "code",
   "execution_count": 133,
   "id": "f0c6a130",
   "metadata": {},
   "outputs": [],
   "source": [
    "df.index.freq= \"MS\""
   ]
  },
  {
   "cell_type": "code",
   "execution_count": 134,
   "id": "9af62e6d",
   "metadata": {},
   "outputs": [
    {
     "data": {
      "text/plain": [
       "DatetimeIndex(['1992-01-01', '1992-02-01', '1992-03-01', '1992-04-01',\n",
       "               '1992-05-01', '1992-06-01', '1992-07-01', '1992-08-01',\n",
       "               '1992-09-01', '1992-10-01',\n",
       "               ...\n",
       "               '2018-04-01', '2018-05-01', '2018-06-01', '2018-07-01',\n",
       "               '2018-08-01', '2018-09-01', '2018-10-01', '2018-11-01',\n",
       "               '2018-12-01', '2019-01-01'],\n",
       "              dtype='datetime64[ns]', name='DATE', length=325, freq='MS')"
      ]
     },
     "execution_count": 134,
     "metadata": {},
     "output_type": "execute_result"
    }
   ],
   "source": [
    "df.index"
   ]
  },
  {
   "cell_type": "code",
   "execution_count": null,
   "id": "612e9e90",
   "metadata": {},
   "outputs": [],
   "source": []
  },
  {
   "cell_type": "code",
   "execution_count": 135,
   "id": "4d8c27bf",
   "metadata": {},
   "outputs": [
    {
     "data": {
      "text/plain": [
       "<AxesSubplot:xlabel='DATE'>"
      ]
     },
     "execution_count": 135,
     "metadata": {},
     "output_type": "execute_result"
    },
    {
     "data": {
      "image/png": "[encoded data removed]",
      "text/plain": [
       "<Figure size 864x432 with 1 Axes>"
      ]
     },
     "metadata": {
      "needs_background": "light"
     },
     "output_type": "display_data"
    }
   ],
   "source": [
    "df.plot(figsize= (12,6))"
   ]
  },
  {
   "cell_type": "code",
   "execution_count": null,
   "id": "c9f5f2df",
   "metadata": {},
   "outputs": [],
   "source": []
  },
  {
   "cell_type": "markdown",
   "id": "0a954754",
   "metadata": {},
   "source": [
    "### ETS Decomposition:"
   ]
  },
  {
   "cell_type": "code",
   "execution_count": 136,
   "id": "0be6610d",
   "metadata": {},
   "outputs": [],
   "source": [
    "decomp = seasonal_decompose(df[\"Sales\"], model= \"additive\")"
   ]
  },
  {
   "cell_type": "code",
   "execution_count": 137,
   "id": "051db485",
   "metadata": {},
   "outputs": [
    {
     "data": {
      "text/plain": [
       "<AxesSubplot:xlabel='DATE'>"
      ]
     },
     "execution_count": 137,
     "metadata": {},
     "output_type": "execute_result"
    },
    {
     "data": {
      "image/png": "[encoded data removed]",
      "text/plain": [
       "<Figure size 864x288 with 1 Axes>"
      ]
     },
     "metadata": {
      "needs_background": "light"
     },
     "output_type": "display_data"
    }
   ],
   "source": [
    "decomp.observed.plot(figsize= (12,4))"
   ]
  },
  {
   "cell_type": "code",
   "execution_count": 138,
   "id": "65786c3c",
   "metadata": {},
   "outputs": [
    {
     "data": {
      "text/plain": [
       "<AxesSubplot:xlabel='DATE'>"
      ]
     },
     "execution_count": 138,
     "metadata": {},
     "output_type": "execute_result"
    },
    {
     "data": {
      "image/png": "[encoded data removed]",
      "text/plain": [
       "<Figure size 864x288 with 1 Axes>"
      ]
     },
     "metadata": {
      "needs_background": "light"
     },
     "output_type": "display_data"
    }
   ],
   "source": [
    "decomp.trend.plot(figsize= (12,4))"
   ]
  },
  {
   "cell_type": "code",
   "execution_count": 139,
   "id": "7831b110",
   "metadata": {},
   "outputs": [
    {
     "data": {
      "text/plain": [
       "<AxesSubplot:xlabel='DATE'>"
      ]
     },
     "execution_count": 139,
     "metadata": {},
     "output_type": "execute_result"
    },
    {
     "data": {
      "image/png": "[encoded data removed]",
      "text/plain": [
       "<Figure size 864x288 with 1 Axes>"
      ]
     },
     "metadata": {
      "needs_background": "light"
     },
     "output_type": "display_data"
    }
   ],
   "source": [
    "decomp.seasonal.plot(figsize= (12,4))"
   ]
  },
  {
   "cell_type": "code",
   "execution_count": 140,
   "id": "ef715f37",
   "metadata": {},
   "outputs": [
    {
     "data": {
      "text/plain": [
       "<AxesSubplot:xlabel='DATE'>"
      ]
     },
     "execution_count": 140,
     "metadata": {},
     "output_type": "execute_result"
    },
    {
     "data": {
      "image/png": "[encoded data removed]",
      "text/plain": [
       "<Figure size 864x288 with 1 Axes>"
      ]
     },
     "metadata": {
      "needs_background": "light"
     },
     "output_type": "display_data"
    }
   ],
   "source": [
    "decomp.resid.plot(figsize= (12,4))"
   ]
  },
  {
   "cell_type": "code",
   "execution_count": null,
   "id": "06b0d313",
   "metadata": {},
   "outputs": [],
   "source": []
  },
  {
   "cell_type": "markdown",
   "id": "d64e44ad",
   "metadata": {},
   "source": [
    "### Train Test Split:"
   ]
  },
  {
   "cell_type": "code",
   "execution_count": 141,
   "id": "fe6f9bb4",
   "metadata": {},
   "outputs": [
    {
     "data": {
      "text/plain": [
       "325"
      ]
     },
     "execution_count": 141,
     "metadata": {},
     "output_type": "execute_result"
    }
   ],
   "source": [
    "len(df)"
   ]
  },
  {
   "cell_type": "code",
   "execution_count": 142,
   "id": "c4c56f4b",
   "metadata": {},
   "outputs": [],
   "source": [
    "train_data = df[:313]\n",
    "test_data = df[313:]"
   ]
  },
  {
   "cell_type": "code",
   "execution_count": null,
   "id": "0d49910b",
   "metadata": {},
   "outputs": [],
   "source": []
  },
  {
   "cell_type": "markdown",
   "id": "28d96d8a",
   "metadata": {},
   "source": [
    "### Scalling:"
   ]
  },
  {
   "cell_type": "code",
   "execution_count": 143,
   "id": "97579245",
   "metadata": {},
   "outputs": [],
   "source": [
    "scaler = MinMaxScaler()"
   ]
  },
  {
   "cell_type": "code",
   "execution_count": 144,
   "id": "14cd7cc5",
   "metadata": {},
   "outputs": [
    {
     "data": {
      "text/plain": [
       "MinMaxScaler()"
      ]
     },
     "execution_count": 144,
     "metadata": {},
     "output_type": "execute_result"
    }
   ],
   "source": [
    "scaler.fit(train_data)"
   ]
  },
  {
   "cell_type": "code",
   "execution_count": 145,
   "id": "796c753d",
   "metadata": {},
   "outputs": [],
   "source": [
    "scaled_train = scaler.transform(train_data)\n",
    "scaled_test = scaler.transform(test_data)"
   ]
  },
  {
   "cell_type": "code",
   "execution_count": 146,
   "id": "9ebc1054",
   "metadata": {},
   "outputs": [
    {
     "data": {
      "text/plain": [
       "array([[0.03658432],\n",
       "       [0.03649885],\n",
       "       [0.08299855],\n",
       "       [0.13103684],\n",
       "       [0.1017181 ],\n",
       "       [0.12804513],\n",
       "       [0.12266006],\n",
       "       [0.09453799],\n",
       "       [0.09359774],\n",
       "       [0.10496624]])"
      ]
     },
     "execution_count": 146,
     "metadata": {},
     "output_type": "execute_result"
    }
   ],
   "source": [
    "scaled_train[:10]"
   ]
  },
  {
   "cell_type": "code",
   "execution_count": 147,
   "id": "a8e6f4ab",
   "metadata": {},
   "outputs": [
    {
     "data": {
      "text/plain": [
       "array([[0.63116506],\n",
       "       [0.82502778],\n",
       "       [0.75972305],\n",
       "       [0.94939738],\n",
       "       [0.98743482],\n",
       "       [0.82135225],\n",
       "       [0.95956919],\n",
       "       [0.80049577],\n",
       "       [0.93025045],\n",
       "       [0.95247457]])"
      ]
     },
     "execution_count": 147,
     "metadata": {},
     "output_type": "execute_result"
    }
   ],
   "source": [
    "scaled_test[:10]"
   ]
  },
  {
   "cell_type": "code",
   "execution_count": null,
   "id": "a3438a46",
   "metadata": {},
   "outputs": [],
   "source": []
  },
  {
   "cell_type": "markdown",
   "id": "c9ff7819",
   "metadata": {},
   "source": [
    "### Time Series Generator\n",
    "\n",
    "This class takes in a sequence of data-points gathered at\n",
    "equal intervals, along with time series parameters such as\n",
    "stride, length of history, etc., to produce batches for\n",
    "training/validation.\n",
    "\n",
    "#### Arguments\n",
    "    data: Indexable generator (such as list or Numpy array)\n",
    "        containing consecutive data points (timesteps).\n",
    "        The data should be at 2D, and axis 0 is expected\n",
    "        to be the time dimension.\n",
    "    targets: Targets corresponding to timesteps in `data`.\n",
    "        It should have same length as `data`.\n",
    "    length: Length of the output sequences (in number of timesteps).\n",
    "    sampling_rate: Period between successive individual timesteps\n",
    "        within sequences. For rate `r`, timesteps\n",
    "        `data[i]`, `data[i-r]`, ... `data[i - length]`\n",
    "        are used for create a sample sequence.\n",
    "    stride: Period between successive output sequences.\n",
    "        For stride `s`, consecutive output samples would\n",
    "        be centered around `data[i]`, `data[i+s]`, `data[i+2*s]`, etc.\n",
    "    start_index: Data points earlier than `start_index` will not be used\n",
    "        in the output sequences. This is useful to reserve part of the\n",
    "        data for test or validation.\n",
    "    end_index: Data points later than `end_index` will not be used\n",
    "        in the output sequences. This is useful to reserve part of the\n",
    "        data for test or validation.\n",
    "    shuffle: Whether to shuffle output samples,\n",
    "        or instead draw them in chronological order.\n",
    "    reverse: Boolean: if `true`, timesteps in each output sample will be\n",
    "        in reverse chronological order.\n",
    "    batch_size: Number of timeseries samples in each batch\n",
    "        (except maybe the last one)."
   ]
  },
  {
   "cell_type": "code",
   "execution_count": 148,
   "id": "0b314b7d",
   "metadata": {},
   "outputs": [],
   "source": [
    "from keras.preprocessing.sequence import TimeseriesGenerator"
   ]
  },
  {
   "cell_type": "code",
   "execution_count": 149,
   "id": "3f61636c",
   "metadata": {},
   "outputs": [],
   "source": [
    "n_inputs = 12\n",
    "n_features = 1"
   ]
  },
  {
   "cell_type": "code",
   "execution_count": 150,
   "id": "a52ef191",
   "metadata": {},
   "outputs": [],
   "source": [
    "time_gen = TimeseriesGenerator(data= scaled_train, targets= scaled_train, length= n_inputs, batch_size= 1)"
   ]
  },
  {
   "cell_type": "code",
   "execution_count": 151,
   "id": "0793077d",
   "metadata": {},
   "outputs": [
    {
     "data": {
      "text/plain": [
       "(array([[[0.03658432],\n",
       "         [0.03649885],\n",
       "         [0.08299855],\n",
       "         [0.13103684],\n",
       "         [0.1017181 ],\n",
       "         [0.12804513],\n",
       "         [0.12266006],\n",
       "         [0.09453799],\n",
       "         [0.09359774],\n",
       "         [0.10496624],\n",
       "         [0.10334217],\n",
       "         [0.16283443]]]),\n",
       " array([[0.]]))"
      ]
     },
     "execution_count": 151,
     "metadata": {},
     "output_type": "execute_result"
    }
   ],
   "source": [
    "time_gen[0]"
   ]
  },
  {
   "cell_type": "code",
   "execution_count": 152,
   "id": "faafc143",
   "metadata": {},
   "outputs": [],
   "source": [
    "# This Means It will take first 12 Values in to predict next one value."
   ]
  },
  {
   "cell_type": "code",
   "execution_count": null,
   "id": "e902a55b",
   "metadata": {},
   "outputs": [],
   "source": []
  },
  {
   "cell_type": "markdown",
   "id": "47eea495",
   "metadata": {},
   "source": [
    "### RNN:"
   ]
  },
  {
   "cell_type": "code",
   "execution_count": 153,
   "id": "008aaa2d",
   "metadata": {},
   "outputs": [],
   "source": [
    "from keras.models import Sequential\n",
    "from keras.layers import LSTM, Dense"
   ]
  },
  {
   "cell_type": "code",
   "execution_count": 154,
   "id": "b90ee60d",
   "metadata": {},
   "outputs": [],
   "source": [
    "model = Sequential()\n",
    "\n",
    "model.add(LSTM(200, activation= \"relu\", input_shape= (n_inputs, n_features)))\n",
    "\n",
    "model.add(Dense(1))\n",
    "\n",
    "model.compile(loss= \"mse\", optimizer= \"adam\")"
   ]
  },
  {
   "cell_type": "code",
   "execution_count": 155,
   "id": "cb0be8ce",
   "metadata": {},
   "outputs": [
    {
     "name": "stdout",
     "output_type": "stream",
     "text": [
      "Model: \"sequential_2\"\n",
      "_________________________________________________________________\n",
      " Layer (type)                Output Shape              Param #   \n",
      "=================================================================\n",
      " lstm_2 (LSTM)               (None, 200)               161600    \n",
      "                                                                 \n",
      " dense_2 (Dense)             (None, 1)                 201       \n",
      "                                                                 \n",
      "=================================================================\n",
      "Total params: 161,801\n",
      "Trainable params: 161,801\n",
      "Non-trainable params: 0\n",
      "_________________________________________________________________\n"
     ]
    }
   ],
   "source": [
    "model.summary()"
   ]
  },
  {
   "cell_type": "code",
   "execution_count": null,
   "id": "8f107590",
   "metadata": {},
   "outputs": [],
   "source": []
  },
  {
   "cell_type": "code",
   "execution_count": 156,
   "id": "edf4b830",
   "metadata": {
    "scrolled": false
   },
   "outputs": [
    {
     "name": "stdout",
     "output_type": "stream",
     "text": [
      "Epoch 1/50\n",
      "301/301 [==============================] - 3s 7ms/step - loss: 0.0154\n",
      "Epoch 2/50\n",
      "301/301 [==============================] - 2s 7ms/step - loss: 0.0096\n",
      "Epoch 3/50\n",
      "301/301 [==============================] - 2s 8ms/step - loss: 0.0087\n",
      "Epoch 4/50\n",
      "301/301 [==============================] - 4s 13ms/step - loss: 0.0070\n",
      "Epoch 5/50\n",
      "301/301 [==============================] - 2s 8ms/step - loss: 0.0061\n",
      "Epoch 6/50\n",
      "301/301 [==============================] - 3s 10ms/step - loss: 0.0038\n",
      "Epoch 7/50\n",
      "301/301 [==============================] - 2s 7ms/step - loss: 0.0028\n",
      "Epoch 8/50\n",
      "301/301 [==============================] - 3s 11ms/step - loss: 0.0027\n",
      "Epoch 9/50\n",
      "301/301 [==============================] - 3s 9ms/step - loss: 0.0026\n",
      "Epoch 10/50\n",
      "301/301 [==============================] - 3s 10ms/step - loss: 0.0024\n",
      "Epoch 11/50\n",
      "301/301 [==============================] - 4s 12ms/step - loss: 0.0019: 0s - loss: 0.\n",
      "Epoch 12/50\n",
      "301/301 [==============================] - 2s 7ms/step - loss: 0.0016\n",
      "Epoch 13/50\n",
      "301/301 [==============================] - 3s 10ms/step - loss: 0.0021: 0s - loss: \n",
      "Epoch 14/50\n",
      "301/301 [==============================] - 3s 9ms/step - loss: 0.0017\n",
      "Epoch 15/50\n",
      "301/301 [==============================] - 4s 12ms/step - loss: 0.0017\n",
      "Epoch 16/50\n",
      "301/301 [==============================] - 2s 7ms/step - loss: 0.0019\n",
      "Epoch 17/50\n",
      "301/301 [==============================] - 3s 10ms/step - loss: 0.0017\n",
      "Epoch 18/50\n",
      "301/301 [==============================] - 2s 6ms/step - loss: 0.0014\n",
      "Epoch 19/50\n",
      "301/301 [==============================] - 3s 11ms/step - loss: 0.0017\n",
      "Epoch 20/50\n",
      "301/301 [==============================] - 2s 6ms/step - loss: 0.0016\n",
      "Epoch 21/50\n",
      "301/301 [==============================] - 3s 10ms/step - loss: 0.0015\n",
      "Epoch 22/50\n",
      "301/301 [==============================] - 2s 6ms/step - loss: 0.0017\n",
      "Epoch 23/50\n",
      "301/301 [==============================] - 3s 10ms/step - loss: 0.0016\n",
      "Epoch 24/50\n",
      "301/301 [==============================] - 2s 6ms/step - loss: 0.0017\n",
      "Epoch 25/50\n",
      "301/301 [==============================] - 3s 10ms/step - loss: 0.0016\n",
      "Epoch 26/50\n",
      "301/301 [==============================] - 2s 6ms/step - loss: 0.0016\n",
      "Epoch 27/50\n",
      "301/301 [==============================] - 3s 9ms/step - loss: 0.0017\n",
      "Epoch 28/50\n",
      "301/301 [==============================] - 2s 6ms/step - loss: 0.0015\n",
      "Epoch 29/50\n",
      "301/301 [==============================] - 2s 7ms/step - loss: 0.0015\n",
      "Epoch 30/50\n",
      "301/301 [==============================] - 2s 8ms/step - loss: 0.0015\n",
      "Epoch 31/50\n",
      "301/301 [==============================] - 2s 6ms/step - loss: 0.0016\n",
      "Epoch 32/50\n",
      "301/301 [==============================] - 3s 10ms/step - loss: 0.0015\n",
      "Epoch 33/50\n",
      "301/301 [==============================] - 2s 6ms/step - loss: 0.0014\n",
      "Epoch 34/50\n",
      "301/301 [==============================] - 3s 10ms/step - loss: 0.0015\n",
      "Epoch 35/50\n",
      "301/301 [==============================] - 2s 6ms/step - loss: 0.0016\n",
      "Epoch 36/50\n",
      "301/301 [==============================] - 3s 10ms/step - loss: 0.0015\n",
      "Epoch 37/50\n",
      "301/301 [==============================] - 2s 5ms/step - loss: 0.0015\n",
      "Epoch 38/50\n",
      "301/301 [==============================] - 2s 8ms/step - loss: 0.0016\n",
      "Epoch 39/50\n",
      "301/301 [==============================] - 2s 8ms/step - loss: 0.0015\n",
      "Epoch 40/50\n",
      "301/301 [==============================] - 2s 5ms/step - loss: 0.0013\n",
      "Epoch 41/50\n",
      "301/301 [==============================] - 3s 10ms/step - loss: 0.0012:\n",
      "Epoch 42/50\n",
      "301/301 [==============================] - 2s 6ms/step - loss: 0.0015\n",
      "Epoch 43/50\n",
      "301/301 [==============================] - 4s 13ms/step - loss: 0.0014\n",
      "Epoch 44/50\n",
      "301/301 [==============================] - 2s 6ms/step - loss: 0.0015\n",
      "Epoch 45/50\n",
      "301/301 [==============================] - 3s 10ms/step - loss: 0.0015\n",
      "Epoch 46/50\n",
      "301/301 [==============================] - 2s 5ms/step - loss: 0.0015\n",
      "Epoch 47/50\n",
      "301/301 [==============================] - 3s 9ms/step - loss: 0.0015\n",
      "Epoch 48/50\n",
      "301/301 [==============================] - 3s 9ms/step - loss: 0.0016\n",
      "Epoch 49/50\n",
      "301/301 [==============================] - 2s 5ms/step - loss: 0.0015\n",
      "Epoch 50/50\n",
      "301/301 [==============================] - 4s 12ms/step - loss: 0.0015\n"
     ]
    },
    {
     "data": {
      "text/plain": [
       "<keras.callbacks.History at 0x2873c858700>"
      ]
     },
     "execution_count": 156,
     "metadata": {},
     "output_type": "execute_result"
    }
   ],
   "source": [
    "model.fit(time_gen, epochs= 50)"
   ]
  },
  {
   "cell_type": "code",
   "execution_count": null,
   "id": "8fdcc209",
   "metadata": {},
   "outputs": [],
   "source": []
  },
  {
   "cell_type": "code",
   "execution_count": 157,
   "id": "67b1648d",
   "metadata": {},
   "outputs": [
    {
     "data": {
      "text/plain": [
       "[0.015441596508026123,\n",
       " 0.009560719132423401,\n",
       " 0.008701767772436142,\n",
       " 0.006994305178523064,\n",
       " 0.006077227182686329,\n",
       " 0.0038344250060617924,\n",
       " 0.0028182887472212315,\n",
       " 0.0027443217113614082,\n",
       " 0.002592771779745817,\n",
       " 0.0023539827670902014,\n",
       " 0.001938176341354847,\n",
       " 0.001638256129808724,\n",
       " 0.0020602724980562925,\n",
       " 0.0017446994315832853,\n",
       " 0.0017291945405304432,\n",
       " 0.0019178297370672226,\n",
       " 0.0017216346459463239,\n",
       " 0.001437390223145485,\n",
       " 0.0017046885332092643,\n",
       " 0.0015786334406584501,\n",
       " 0.0015451378421857953,\n",
       " 0.0016924634110182524,\n",
       " 0.0015592233976349235,\n",
       " 0.0016855167923495173,\n",
       " 0.0015571678522974253,\n",
       " 0.001557197654619813,\n",
       " 0.0017267720540985465,\n",
       " 0.0014704684726893902,\n",
       " 0.0015367233427241445,\n",
       " 0.0015356272924691439,\n",
       " 0.0016109044663608074,\n",
       " 0.0014838592614978552,\n",
       " 0.0014166535111144185,\n",
       " 0.0014874461339786649,\n",
       " 0.0015876813558861613,\n",
       " 0.0015138364396989346,\n",
       " 0.0015153915155678988,\n",
       " 0.0016349863726645708,\n",
       " 0.0015045427717268467,\n",
       " 0.0013078091433271766,\n",
       " 0.0012111992109566927,\n",
       " 0.0014693834818899632,\n",
       " 0.0014145623426884413,\n",
       " 0.0015190629055723548,\n",
       " 0.00145266845356673,\n",
       " 0.0014752073911949992,\n",
       " 0.0015316189965233207,\n",
       " 0.0015628704568371177,\n",
       " 0.0014568831538781524,\n",
       " 0.0014502014964818954]"
      ]
     },
     "execution_count": 157,
     "metadata": {},
     "output_type": "execute_result"
    }
   ],
   "source": [
    "model.history.history[\"loss\"]"
   ]
  },
  {
   "cell_type": "code",
   "execution_count": 158,
   "id": "fc936760",
   "metadata": {},
   "outputs": [
    {
     "data": {
      "text/plain": [
       "[<matplotlib.lines.Line2D at 0x28741da7220>]"
      ]
     },
     "execution_count": 158,
     "metadata": {},
     "output_type": "execute_result"
    },
    {
     "data": {
      "image/png": "[encoded data removed]",
      "text/plain": [
       "<Figure size 432x288 with 1 Axes>"
      ]
     },
     "metadata": {
      "needs_background": "light"
     },
     "output_type": "display_data"
    }
   ],
   "source": [
    "plt.plot(range(len(model.history.history[\"loss\"])), model.history.history[\"loss\"])"
   ]
  },
  {
   "cell_type": "code",
   "execution_count": null,
   "id": "10b1dfcb",
   "metadata": {},
   "outputs": [],
   "source": []
  },
  {
   "cell_type": "markdown",
   "id": "d5663a38",
   "metadata": {},
   "source": [
    "### Prediction on Test Data:"
   ]
  },
  {
   "cell_type": "code",
   "execution_count": 159,
   "id": "65e3439a",
   "metadata": {},
   "outputs": [],
   "source": [
    "# We need Previous 12 points from Train Data to Predict first Test Data Value:\n",
    "\n",
    "first_batch = scaled_train[-12:]"
   ]
  },
  {
   "cell_type": "code",
   "execution_count": 160,
   "id": "e9fef012",
   "metadata": {},
   "outputs": [
    {
     "data": {
      "text/plain": [
       "array([[0.63432772],\n",
       "       [0.80776135],\n",
       "       [0.72313873],\n",
       "       [0.89870929],\n",
       "       [1.        ],\n",
       "       [0.71672793],\n",
       "       [0.88648602],\n",
       "       [0.75869732],\n",
       "       [0.82742115],\n",
       "       [0.87443371],\n",
       "       [0.96025301],\n",
       "       [0.5584238 ]])"
      ]
     },
     "execution_count": 160,
     "metadata": {},
     "output_type": "execute_result"
    }
   ],
   "source": [
    "first_batch"
   ]
  },
  {
   "cell_type": "code",
   "execution_count": null,
   "id": "1bd669ce",
   "metadata": {},
   "outputs": [],
   "source": []
  },
  {
   "cell_type": "code",
   "execution_count": 161,
   "id": "deffaa14",
   "metadata": {},
   "outputs": [
    {
     "data": {
      "text/plain": [
       "(array([[[0.03658432],\n",
       "         [0.03649885],\n",
       "         [0.08299855],\n",
       "         [0.13103684],\n",
       "         [0.1017181 ],\n",
       "         [0.12804513],\n",
       "         [0.12266006],\n",
       "         [0.09453799],\n",
       "         [0.09359774],\n",
       "         [0.10496624],\n",
       "         [0.10334217],\n",
       "         [0.16283443]]]),\n",
       " array([[0.]]))"
      ]
     },
     "execution_count": 161,
     "metadata": {},
     "output_type": "execute_result"
    }
   ],
   "source": [
    "# We need to Reshape this Batch in shape of Time Generator:\n",
    "\n",
    "time_gen[0]"
   ]
  },
  {
   "cell_type": "code",
   "execution_count": 162,
   "id": "ccb554ac",
   "metadata": {},
   "outputs": [],
   "source": [
    "x,y = time_gen[0]"
   ]
  },
  {
   "cell_type": "code",
   "execution_count": 163,
   "id": "5029c7d7",
   "metadata": {},
   "outputs": [
    {
     "data": {
      "text/plain": [
       "(1, 12, 1)"
      ]
     },
     "execution_count": 163,
     "metadata": {},
     "output_type": "execute_result"
    }
   ],
   "source": [
    "x.shape"
   ]
  },
  {
   "cell_type": "code",
   "execution_count": null,
   "id": "d6de58aa",
   "metadata": {},
   "outputs": [],
   "source": []
  },
  {
   "cell_type": "code",
   "execution_count": 164,
   "id": "38825f0b",
   "metadata": {},
   "outputs": [],
   "source": [
    "first_batch = first_batch.reshape((1,n_inputs, n_features))"
   ]
  },
  {
   "cell_type": "code",
   "execution_count": 165,
   "id": "26521624",
   "metadata": {},
   "outputs": [
    {
     "data": {
      "text/plain": [
       "array([[[0.63432772],\n",
       "        [0.80776135],\n",
       "        [0.72313873],\n",
       "        [0.89870929],\n",
       "        [1.        ],\n",
       "        [0.71672793],\n",
       "        [0.88648602],\n",
       "        [0.75869732],\n",
       "        [0.82742115],\n",
       "        [0.87443371],\n",
       "        [0.96025301],\n",
       "        [0.5584238 ]]])"
      ]
     },
     "execution_count": 165,
     "metadata": {},
     "output_type": "execute_result"
    }
   ],
   "source": [
    "first_batch"
   ]
  },
  {
   "cell_type": "code",
   "execution_count": 166,
   "id": "b3b53b4a",
   "metadata": {},
   "outputs": [
    {
     "data": {
      "text/plain": [
       "array([[0.69846725]], dtype=float32)"
      ]
     },
     "execution_count": 166,
     "metadata": {},
     "output_type": "execute_result"
    }
   ],
   "source": [
    "model.predict(first_batch)"
   ]
  },
  {
   "cell_type": "code",
   "execution_count": 167,
   "id": "e1825c29",
   "metadata": {},
   "outputs": [
    {
     "data": {
      "text/plain": [
       "array([0.69846725], dtype=float32)"
      ]
     },
     "execution_count": 167,
     "metadata": {},
     "output_type": "execute_result"
    }
   ],
   "source": [
    "model.predict(first_batch)[0]"
   ]
  },
  {
   "cell_type": "code",
   "execution_count": 168,
   "id": "4e959702",
   "metadata": {},
   "outputs": [
    {
     "data": {
      "text/plain": [
       "array([[0.63116506],\n",
       "       [0.82502778],\n",
       "       [0.75972305],\n",
       "       [0.94939738],\n",
       "       [0.98743482],\n",
       "       [0.82135225],\n",
       "       [0.95956919],\n",
       "       [0.80049577],\n",
       "       [0.93025045],\n",
       "       [0.95247457],\n",
       "       [1.0661595 ],\n",
       "       [0.65706471]])"
      ]
     },
     "execution_count": 168,
     "metadata": {},
     "output_type": "execute_result"
    }
   ],
   "source": [
    "scaled_test"
   ]
  },
  {
   "cell_type": "code",
   "execution_count": 169,
   "id": "858710c1",
   "metadata": {},
   "outputs": [],
   "source": [
    "# So, we used first_batch of 12 previous values to Predict One Next Value (First Value of Test Data)."
   ]
  },
  {
   "cell_type": "code",
   "execution_count": 170,
   "id": "47f69eef",
   "metadata": {},
   "outputs": [],
   "source": [
    "# We need to run a loop for predicting next values and we need to keep removinh first values from batch and keep adding \n",
    "# current prediction to batch."
   ]
  },
  {
   "cell_type": "code",
   "execution_count": 171,
   "id": "6097e254",
   "metadata": {},
   "outputs": [],
   "source": [
    "test_prediction = []\n",
    "\n",
    "batch = scaled_train[-n_inputs:]\n",
    "batch = batch.reshape((1,n_inputs,n_features))\n",
    "\n",
    "for i in range(len(test_data)):\n",
    "    \n",
    "    # Get 1st Prediction using 12 values from Batch:\n",
    "    current_pred = model.predict(batch)[0]\n",
    "    \n",
    "    # Append Current Prediction to Test Predictions:\n",
    "    test_prediction.append(current_pred)\n",
    "    \n",
    "    # Update Batch: Remove first value and add current prediction as last value in batch:\n",
    "    batch = np.append(batch[:, 1:, :], [[current_pred]], axis= 1)"
   ]
  },
  {
   "cell_type": "code",
   "execution_count": 172,
   "id": "d755c4f3",
   "metadata": {},
   "outputs": [
    {
     "data": {
      "text/plain": [
       "[array([0.69846725], dtype=float32),\n",
       " array([0.8102724], dtype=float32),\n",
       " array([0.7745617], dtype=float32),\n",
       " array([0.9327351], dtype=float32),\n",
       " array([1.0367713], dtype=float32),\n",
       " array([0.7513616], dtype=float32),\n",
       " array([0.92365044], dtype=float32),\n",
       " array([0.77132374], dtype=float32),\n",
       " array([0.87254506], dtype=float32),\n",
       " array([0.8921665], dtype=float32),\n",
       " array([0.99908805], dtype=float32),\n",
       " array([0.58118546], dtype=float32)]"
      ]
     },
     "execution_count": 172,
     "metadata": {},
     "output_type": "execute_result"
    }
   ],
   "source": [
    "test_prediction"
   ]
  },
  {
   "cell_type": "code",
   "execution_count": null,
   "id": "30a9b473",
   "metadata": {},
   "outputs": [],
   "source": []
  },
  {
   "cell_type": "markdown",
   "id": "27a85d55",
   "metadata": {},
   "source": [
    "### Inverse Scalling of Predictions to Compare:"
   ]
  },
  {
   "cell_type": "code",
   "execution_count": 173,
   "id": "44acdcc4",
   "metadata": {},
   "outputs": [],
   "source": [
    "unscaled_preds = scaler.inverse_transform(test_prediction)"
   ]
  },
  {
   "cell_type": "code",
   "execution_count": 174,
   "id": "f3f06b4b",
   "metadata": {},
   "outputs": [
    {
     "data": {
      "text/plain": [
       "array([[11202.36841202],\n",
       "       [12510.37675625],\n",
       "       [12092.5973658 ],\n",
       "       [13943.06776512],\n",
       "       [15160.18740892],\n",
       "       [11821.1794579 ],\n",
       "       [13836.78653914],\n",
       "       [12054.7164399 ],\n",
       "       [13238.90469784],\n",
       "       [13468.45582879],\n",
       "       [14719.33108449],\n",
       "       [ 9830.2886976 ]])"
      ]
     },
     "execution_count": 174,
     "metadata": {},
     "output_type": "execute_result"
    }
   ],
   "source": [
    "unscaled_preds"
   ]
  },
  {
   "cell_type": "code",
   "execution_count": 175,
   "id": "6847ecf0",
   "metadata": {},
   "outputs": [
    {
     "data": {
      "text/html": [
       "<div>\n",
       "<style scoped>\n",
       "    .dataframe tbody tr th:only-of-type {\n",
       "        vertical-align: middle;\n",
       "    }\n",
       "\n",
       "    .dataframe tbody tr th {\n",
       "        vertical-align: top;\n",
       "    }\n",
       "\n",
       "    .dataframe thead th {\n",
       "        text-align: right;\n",
       "    }\n",
       "</style>\n",
       "<table border=\"1\" class=\"dataframe\">\n",
       "  <thead>\n",
       "    <tr style=\"text-align: right;\">\n",
       "      <th></th>\n",
       "      <th>Sales</th>\n",
       "    </tr>\n",
       "    <tr>\n",
       "      <th>DATE</th>\n",
       "      <th></th>\n",
       "    </tr>\n",
       "  </thead>\n",
       "  <tbody>\n",
       "    <tr>\n",
       "      <th>2018-02-01</th>\n",
       "      <td>10415</td>\n",
       "    </tr>\n",
       "    <tr>\n",
       "      <th>2018-03-01</th>\n",
       "      <td>12683</td>\n",
       "    </tr>\n",
       "    <tr>\n",
       "      <th>2018-04-01</th>\n",
       "      <td>11919</td>\n",
       "    </tr>\n",
       "    <tr>\n",
       "      <th>2018-05-01</th>\n",
       "      <td>14138</td>\n",
       "    </tr>\n",
       "    <tr>\n",
       "      <th>2018-06-01</th>\n",
       "      <td>14583</td>\n",
       "    </tr>\n",
       "    <tr>\n",
       "      <th>2018-07-01</th>\n",
       "      <td>12640</td>\n",
       "    </tr>\n",
       "    <tr>\n",
       "      <th>2018-08-01</th>\n",
       "      <td>14257</td>\n",
       "    </tr>\n",
       "    <tr>\n",
       "      <th>2018-09-01</th>\n",
       "      <td>12396</td>\n",
       "    </tr>\n",
       "    <tr>\n",
       "      <th>2018-10-01</th>\n",
       "      <td>13914</td>\n",
       "    </tr>\n",
       "    <tr>\n",
       "      <th>2018-11-01</th>\n",
       "      <td>14174</td>\n",
       "    </tr>\n",
       "    <tr>\n",
       "      <th>2018-12-01</th>\n",
       "      <td>15504</td>\n",
       "    </tr>\n",
       "    <tr>\n",
       "      <th>2019-01-01</th>\n",
       "      <td>10718</td>\n",
       "    </tr>\n",
       "  </tbody>\n",
       "</table>\n",
       "</div>"
      ],
      "text/plain": [
       "            Sales\n",
       "DATE             \n",
       "2018-02-01  10415\n",
       "2018-03-01  12683\n",
       "2018-04-01  11919\n",
       "2018-05-01  14138\n",
       "2018-06-01  14583\n",
       "2018-07-01  12640\n",
       "2018-08-01  14257\n",
       "2018-09-01  12396\n",
       "2018-10-01  13914\n",
       "2018-11-01  14174\n",
       "2018-12-01  15504\n",
       "2019-01-01  10718"
      ]
     },
     "execution_count": 175,
     "metadata": {},
     "output_type": "execute_result"
    }
   ],
   "source": [
    "test_data"
   ]
  },
  {
   "cell_type": "code",
   "execution_count": 176,
   "id": "fa21ec66",
   "metadata": {},
   "outputs": [
    {
     "name": "stderr",
     "output_type": "stream",
     "text": [
      "C:\\Users\\Shailya\\AppData\\Local\\Temp/ipykernel_10492/1283401480.py:1: SettingWithCopyWarning: \n",
      "A value is trying to be set on a copy of a slice from a DataFrame.\n",
      "Try using .loc[row_indexer,col_indexer] = value instead\n",
      "\n",
      "See the caveats in the documentation: https://pandas.pydata.org/pandas-docs/stable/user_guide/indexing.html#returning-a-view-versus-a-copy\n",
      "  test_data[\"Predictions\"] = unscaled_preds\n"
     ]
    }
   ],
   "source": [
    "test_data[\"Predictions\"] = unscaled_preds"
   ]
  },
  {
   "cell_type": "code",
   "execution_count": 177,
   "id": "a7ac5667",
   "metadata": {},
   "outputs": [
    {
     "data": {
      "text/html": [
       "<div>\n",
       "<style scoped>\n",
       "    .dataframe tbody tr th:only-of-type {\n",
       "        vertical-align: middle;\n",
       "    }\n",
       "\n",
       "    .dataframe tbody tr th {\n",
       "        vertical-align: top;\n",
       "    }\n",
       "\n",
       "    .dataframe thead th {\n",
       "        text-align: right;\n",
       "    }\n",
       "</style>\n",
       "<table border=\"1\" class=\"dataframe\">\n",
       "  <thead>\n",
       "    <tr style=\"text-align: right;\">\n",
       "      <th></th>\n",
       "      <th>Sales</th>\n",
       "      <th>Predictions</th>\n",
       "    </tr>\n",
       "    <tr>\n",
       "      <th>DATE</th>\n",
       "      <th></th>\n",
       "      <th></th>\n",
       "    </tr>\n",
       "  </thead>\n",
       "  <tbody>\n",
       "    <tr>\n",
       "      <th>2018-02-01</th>\n",
       "      <td>10415</td>\n",
       "      <td>11202.368412</td>\n",
       "    </tr>\n",
       "    <tr>\n",
       "      <th>2018-03-01</th>\n",
       "      <td>12683</td>\n",
       "      <td>12510.376756</td>\n",
       "    </tr>\n",
       "    <tr>\n",
       "      <th>2018-04-01</th>\n",
       "      <td>11919</td>\n",
       "      <td>12092.597366</td>\n",
       "    </tr>\n",
       "    <tr>\n",
       "      <th>2018-05-01</th>\n",
       "      <td>14138</td>\n",
       "      <td>13943.067765</td>\n",
       "    </tr>\n",
       "    <tr>\n",
       "      <th>2018-06-01</th>\n",
       "      <td>14583</td>\n",
       "      <td>15160.187409</td>\n",
       "    </tr>\n",
       "    <tr>\n",
       "      <th>2018-07-01</th>\n",
       "      <td>12640</td>\n",
       "      <td>11821.179458</td>\n",
       "    </tr>\n",
       "    <tr>\n",
       "      <th>2018-08-01</th>\n",
       "      <td>14257</td>\n",
       "      <td>13836.786539</td>\n",
       "    </tr>\n",
       "    <tr>\n",
       "      <th>2018-09-01</th>\n",
       "      <td>12396</td>\n",
       "      <td>12054.716440</td>\n",
       "    </tr>\n",
       "    <tr>\n",
       "      <th>2018-10-01</th>\n",
       "      <td>13914</td>\n",
       "      <td>13238.904698</td>\n",
       "    </tr>\n",
       "    <tr>\n",
       "      <th>2018-11-01</th>\n",
       "      <td>14174</td>\n",
       "      <td>13468.455829</td>\n",
       "    </tr>\n",
       "    <tr>\n",
       "      <th>2018-12-01</th>\n",
       "      <td>15504</td>\n",
       "      <td>14719.331084</td>\n",
       "    </tr>\n",
       "    <tr>\n",
       "      <th>2019-01-01</th>\n",
       "      <td>10718</td>\n",
       "      <td>9830.288698</td>\n",
       "    </tr>\n",
       "  </tbody>\n",
       "</table>\n",
       "</div>"
      ],
      "text/plain": [
       "            Sales   Predictions\n",
       "DATE                           \n",
       "2018-02-01  10415  11202.368412\n",
       "2018-03-01  12683  12510.376756\n",
       "2018-04-01  11919  12092.597366\n",
       "2018-05-01  14138  13943.067765\n",
       "2018-06-01  14583  15160.187409\n",
       "2018-07-01  12640  11821.179458\n",
       "2018-08-01  14257  13836.786539\n",
       "2018-09-01  12396  12054.716440\n",
       "2018-10-01  13914  13238.904698\n",
       "2018-11-01  14174  13468.455829\n",
       "2018-12-01  15504  14719.331084\n",
       "2019-01-01  10718   9830.288698"
      ]
     },
     "execution_count": 177,
     "metadata": {},
     "output_type": "execute_result"
    }
   ],
   "source": [
    "test_data"
   ]
  },
  {
   "cell_type": "code",
   "execution_count": null,
   "id": "88f75dbf",
   "metadata": {},
   "outputs": [],
   "source": []
  },
  {
   "cell_type": "code",
   "execution_count": 178,
   "id": "d0c1cf2c",
   "metadata": {},
   "outputs": [
    {
     "data": {
      "text/plain": [
       "<AxesSubplot:xlabel='DATE'>"
      ]
     },
     "execution_count": 178,
     "metadata": {},
     "output_type": "execute_result"
    },
    {
     "data": {
      "image/png": "[encoded data removed]",
      "text/plain": [
       "<Figure size 864x432 with 1 Axes>"
      ]
     },
     "metadata": {
      "needs_background": "light"
     },
     "output_type": "display_data"
    }
   ],
   "source": [
    "# Plotting Test vs Predictions:\n",
    "\n",
    "test_data.plot(figsize= (12,6))"
   ]
  }
 ],
 "metadata": {
  "kernelspec": {
   "display_name": "Python 3 (ipykernel)",
   "language": "python",
   "name": "python3"
  },
  "language_info": {
   "codemirror_mode": {
    "name": "ipython",
    "version": 3
   },
   "file_extension": ".py",
   "mimetype": "text/x-python",
   "name": "python",
   "nbconvert_exporter": "python",
   "pygments_lexer": "ipython3",
   "version": "3.8.12"
  }
 },
 "nbformat": 4,
 "nbformat_minor": 5
}
