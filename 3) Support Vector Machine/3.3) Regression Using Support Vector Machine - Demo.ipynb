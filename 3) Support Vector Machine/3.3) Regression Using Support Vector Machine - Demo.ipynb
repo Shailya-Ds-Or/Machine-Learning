{
 "cells": [
  {
   "cell_type": "markdown",
   "id": "509bd3b3",
   "metadata": {},
   "source": [
    "# Regression Using Support Vector Machine"
   ]
  },
  {
   "cell_type": "markdown",
   "id": "ce175610",
   "metadata": {},
   "source": [
    "The concrete slump test measures the consistency of fresh concrete before it sets. It is performed to check the workability of freshly made concrete, and therefore the ease with which concrete flows. It can also be used as an indicator of an improperly mixed batch.\n",
    "\n",
    "Our data set consists of various cement properties and the resulting slump test metrics in cm. Later on the set concrete is tested for its compressive strength 28 days later.\n",
    "\n",
    "Input variables (7)(component kg in one M^3 concrete):\n",
    "* Cement\n",
    "* Slag\n",
    "* Fly ash\n",
    "* Water\n",
    "* SP\n",
    "* Coarse Aggr.\n",
    "* Fine Aggr.\n",
    "\n",
    "Output variables (3):\n",
    "* SLUMP (cm)\n",
    "* FLOW (cm)\n",
    "* **28-day Compressive Strength (Mpa)**"
   ]
  },
  {
   "cell_type": "code",
   "execution_count": null,
   "id": "b4a494ad",
   "metadata": {},
   "outputs": [],
   "source": []
  },
  {
   "cell_type": "code",
   "execution_count": 1,
   "id": "74c0fa71",
   "metadata": {},
   "outputs": [],
   "source": [
    "import numpy as np\n",
    "import pandas as pd\n",
    "import matplotlib.pyplot as plt\n",
    "import seaborn as sns\n",
    "\n",
    "from sklearn.preprocessing import StandardScaler\n",
    "from sklearn.model_selection import train_test_split, GridSearchCV\n",
    "from sklearn.svm import SVR\n",
    "from sklearn.metrics import r2_score, mean_absolute_error, mean_squared_error"
   ]
  },
  {
   "cell_type": "code",
   "execution_count": null,
   "id": "82af5eb9",
   "metadata": {},
   "outputs": [],
   "source": []
  },
  {
   "cell_type": "code",
   "execution_count": 2,
   "id": "6971fe4e",
   "metadata": {},
   "outputs": [],
   "source": [
    "df = pd.read_csv(\"cement_slump.csv\")"
   ]
  },
  {
   "cell_type": "code",
   "execution_count": 3,
   "id": "affca95b",
   "metadata": {},
   "outputs": [
    {
     "data": {
      "text/html": [
       "<div>\n",
       "<style scoped>\n",
       "    .dataframe tbody tr th:only-of-type {\n",
       "        vertical-align: middle;\n",
       "    }\n",
       "\n",
       "    .dataframe tbody tr th {\n",
       "        vertical-align: top;\n",
       "    }\n",
       "\n",
       "    .dataframe thead th {\n",
       "        text-align: right;\n",
       "    }\n",
       "</style>\n",
       "<table border=\"1\" class=\"dataframe\">\n",
       "  <thead>\n",
       "    <tr style=\"text-align: right;\">\n",
       "      <th></th>\n",
       "      <th>Cement</th>\n",
       "      <th>Slag</th>\n",
       "      <th>Fly ash</th>\n",
       "      <th>Water</th>\n",
       "      <th>SP</th>\n",
       "      <th>Coarse Aggr.</th>\n",
       "      <th>Fine Aggr.</th>\n",
       "      <th>SLUMP(cm)</th>\n",
       "      <th>FLOW(cm)</th>\n",
       "      <th>Compressive Strength (28-day)(Mpa)</th>\n",
       "    </tr>\n",
       "  </thead>\n",
       "  <tbody>\n",
       "    <tr>\n",
       "      <th>0</th>\n",
       "      <td>273.0</td>\n",
       "      <td>82.0</td>\n",
       "      <td>105.0</td>\n",
       "      <td>210.0</td>\n",
       "      <td>9.0</td>\n",
       "      <td>904.0</td>\n",
       "      <td>680.0</td>\n",
       "      <td>23.0</td>\n",
       "      <td>62.0</td>\n",
       "      <td>34.99</td>\n",
       "    </tr>\n",
       "    <tr>\n",
       "      <th>1</th>\n",
       "      <td>163.0</td>\n",
       "      <td>149.0</td>\n",
       "      <td>191.0</td>\n",
       "      <td>180.0</td>\n",
       "      <td>12.0</td>\n",
       "      <td>843.0</td>\n",
       "      <td>746.0</td>\n",
       "      <td>0.0</td>\n",
       "      <td>20.0</td>\n",
       "      <td>41.14</td>\n",
       "    </tr>\n",
       "    <tr>\n",
       "      <th>2</th>\n",
       "      <td>162.0</td>\n",
       "      <td>148.0</td>\n",
       "      <td>191.0</td>\n",
       "      <td>179.0</td>\n",
       "      <td>16.0</td>\n",
       "      <td>840.0</td>\n",
       "      <td>743.0</td>\n",
       "      <td>1.0</td>\n",
       "      <td>20.0</td>\n",
       "      <td>41.81</td>\n",
       "    </tr>\n",
       "    <tr>\n",
       "      <th>3</th>\n",
       "      <td>162.0</td>\n",
       "      <td>148.0</td>\n",
       "      <td>190.0</td>\n",
       "      <td>179.0</td>\n",
       "      <td>19.0</td>\n",
       "      <td>838.0</td>\n",
       "      <td>741.0</td>\n",
       "      <td>3.0</td>\n",
       "      <td>21.5</td>\n",
       "      <td>42.08</td>\n",
       "    </tr>\n",
       "    <tr>\n",
       "      <th>4</th>\n",
       "      <td>154.0</td>\n",
       "      <td>112.0</td>\n",
       "      <td>144.0</td>\n",
       "      <td>220.0</td>\n",
       "      <td>10.0</td>\n",
       "      <td>923.0</td>\n",
       "      <td>658.0</td>\n",
       "      <td>20.0</td>\n",
       "      <td>64.0</td>\n",
       "      <td>26.82</td>\n",
       "    </tr>\n",
       "  </tbody>\n",
       "</table>\n",
       "</div>"
      ],
      "text/plain": [
       "   Cement   Slag  Fly ash  Water    SP  Coarse Aggr.  Fine Aggr.  SLUMP(cm)  \\\n",
       "0   273.0   82.0    105.0  210.0   9.0         904.0       680.0       23.0   \n",
       "1   163.0  149.0    191.0  180.0  12.0         843.0       746.0        0.0   \n",
       "2   162.0  148.0    191.0  179.0  16.0         840.0       743.0        1.0   \n",
       "3   162.0  148.0    190.0  179.0  19.0         838.0       741.0        3.0   \n",
       "4   154.0  112.0    144.0  220.0  10.0         923.0       658.0       20.0   \n",
       "\n",
       "   FLOW(cm)  Compressive Strength (28-day)(Mpa)  \n",
       "0      62.0                               34.99  \n",
       "1      20.0                               41.14  \n",
       "2      20.0                               41.81  \n",
       "3      21.5                               42.08  \n",
       "4      64.0                               26.82  "
      ]
     },
     "execution_count": 3,
     "metadata": {},
     "output_type": "execute_result"
    }
   ],
   "source": [
    "df.head()"
   ]
  },
  {
   "cell_type": "code",
   "execution_count": 4,
   "id": "79f41912",
   "metadata": {},
   "outputs": [
    {
     "data": {
      "text/plain": [
       "(103, 10)"
      ]
     },
     "execution_count": 4,
     "metadata": {},
     "output_type": "execute_result"
    }
   ],
   "source": [
    "df.shape"
   ]
  },
  {
   "cell_type": "code",
   "execution_count": 5,
   "id": "7b110e0d",
   "metadata": {},
   "outputs": [
    {
     "name": "stdout",
     "output_type": "stream",
     "text": [
      "<class 'pandas.core.frame.DataFrame'>\n",
      "RangeIndex: 103 entries, 0 to 102\n",
      "Data columns (total 10 columns):\n",
      " #   Column                              Non-Null Count  Dtype  \n",
      "---  ------                              --------------  -----  \n",
      " 0   Cement                              103 non-null    float64\n",
      " 1   Slag                                103 non-null    float64\n",
      " 2   Fly ash                             103 non-null    float64\n",
      " 3   Water                               103 non-null    float64\n",
      " 4   SP                                  103 non-null    float64\n",
      " 5   Coarse Aggr.                        103 non-null    float64\n",
      " 6   Fine Aggr.                          103 non-null    float64\n",
      " 7   SLUMP(cm)                           103 non-null    float64\n",
      " 8   FLOW(cm)                            103 non-null    float64\n",
      " 9   Compressive Strength (28-day)(Mpa)  103 non-null    float64\n",
      "dtypes: float64(10)\n",
      "memory usage: 8.2 KB\n"
     ]
    }
   ],
   "source": [
    "df.info()"
   ]
  },
  {
   "cell_type": "code",
   "execution_count": 6,
   "id": "2682f401",
   "metadata": {},
   "outputs": [
    {
     "data": {
      "text/html": [
       "<div>\n",
       "<style scoped>\n",
       "    .dataframe tbody tr th:only-of-type {\n",
       "        vertical-align: middle;\n",
       "    }\n",
       "\n",
       "    .dataframe tbody tr th {\n",
       "        vertical-align: top;\n",
       "    }\n",
       "\n",
       "    .dataframe thead th {\n",
       "        text-align: right;\n",
       "    }\n",
       "</style>\n",
       "<table border=\"1\" class=\"dataframe\">\n",
       "  <thead>\n",
       "    <tr style=\"text-align: right;\">\n",
       "      <th></th>\n",
       "      <th>Cement</th>\n",
       "      <th>Slag</th>\n",
       "      <th>Fly ash</th>\n",
       "      <th>Water</th>\n",
       "      <th>SP</th>\n",
       "      <th>Coarse Aggr.</th>\n",
       "      <th>Fine Aggr.</th>\n",
       "      <th>SLUMP(cm)</th>\n",
       "      <th>FLOW(cm)</th>\n",
       "      <th>Compressive Strength (28-day)(Mpa)</th>\n",
       "    </tr>\n",
       "  </thead>\n",
       "  <tbody>\n",
       "    <tr>\n",
       "      <th>count</th>\n",
       "      <td>103.000000</td>\n",
       "      <td>103.000000</td>\n",
       "      <td>103.000000</td>\n",
       "      <td>103.000000</td>\n",
       "      <td>103.000000</td>\n",
       "      <td>103.000000</td>\n",
       "      <td>103.000000</td>\n",
       "      <td>103.000000</td>\n",
       "      <td>103.00000</td>\n",
       "      <td>103.000000</td>\n",
       "    </tr>\n",
       "    <tr>\n",
       "      <th>mean</th>\n",
       "      <td>229.894175</td>\n",
       "      <td>77.973786</td>\n",
       "      <td>149.014563</td>\n",
       "      <td>197.167961</td>\n",
       "      <td>8.539806</td>\n",
       "      <td>883.978641</td>\n",
       "      <td>739.604854</td>\n",
       "      <td>18.048544</td>\n",
       "      <td>49.61068</td>\n",
       "      <td>36.038738</td>\n",
       "    </tr>\n",
       "    <tr>\n",
       "      <th>std</th>\n",
       "      <td>78.877230</td>\n",
       "      <td>60.461363</td>\n",
       "      <td>85.418080</td>\n",
       "      <td>20.208158</td>\n",
       "      <td>2.807530</td>\n",
       "      <td>88.391393</td>\n",
       "      <td>63.342117</td>\n",
       "      <td>8.750844</td>\n",
       "      <td>17.56861</td>\n",
       "      <td>7.837120</td>\n",
       "    </tr>\n",
       "    <tr>\n",
       "      <th>min</th>\n",
       "      <td>137.000000</td>\n",
       "      <td>0.000000</td>\n",
       "      <td>0.000000</td>\n",
       "      <td>160.000000</td>\n",
       "      <td>4.400000</td>\n",
       "      <td>708.000000</td>\n",
       "      <td>640.600000</td>\n",
       "      <td>0.000000</td>\n",
       "      <td>20.00000</td>\n",
       "      <td>17.190000</td>\n",
       "    </tr>\n",
       "    <tr>\n",
       "      <th>25%</th>\n",
       "      <td>152.000000</td>\n",
       "      <td>0.050000</td>\n",
       "      <td>115.500000</td>\n",
       "      <td>180.000000</td>\n",
       "      <td>6.000000</td>\n",
       "      <td>819.500000</td>\n",
       "      <td>684.500000</td>\n",
       "      <td>14.500000</td>\n",
       "      <td>38.50000</td>\n",
       "      <td>30.900000</td>\n",
       "    </tr>\n",
       "    <tr>\n",
       "      <th>50%</th>\n",
       "      <td>248.000000</td>\n",
       "      <td>100.000000</td>\n",
       "      <td>164.000000</td>\n",
       "      <td>196.000000</td>\n",
       "      <td>8.000000</td>\n",
       "      <td>879.000000</td>\n",
       "      <td>742.700000</td>\n",
       "      <td>21.500000</td>\n",
       "      <td>54.00000</td>\n",
       "      <td>35.520000</td>\n",
       "    </tr>\n",
       "    <tr>\n",
       "      <th>75%</th>\n",
       "      <td>303.900000</td>\n",
       "      <td>125.000000</td>\n",
       "      <td>235.950000</td>\n",
       "      <td>209.500000</td>\n",
       "      <td>10.000000</td>\n",
       "      <td>952.800000</td>\n",
       "      <td>788.000000</td>\n",
       "      <td>24.000000</td>\n",
       "      <td>63.75000</td>\n",
       "      <td>41.205000</td>\n",
       "    </tr>\n",
       "    <tr>\n",
       "      <th>max</th>\n",
       "      <td>374.000000</td>\n",
       "      <td>193.000000</td>\n",
       "      <td>260.000000</td>\n",
       "      <td>240.000000</td>\n",
       "      <td>19.000000</td>\n",
       "      <td>1049.900000</td>\n",
       "      <td>902.000000</td>\n",
       "      <td>29.000000</td>\n",
       "      <td>78.00000</td>\n",
       "      <td>58.530000</td>\n",
       "    </tr>\n",
       "  </tbody>\n",
       "</table>\n",
       "</div>"
      ],
      "text/plain": [
       "           Cement        Slag     Fly ash       Water          SP  \\\n",
       "count  103.000000  103.000000  103.000000  103.000000  103.000000   \n",
       "mean   229.894175   77.973786  149.014563  197.167961    8.539806   \n",
       "std     78.877230   60.461363   85.418080   20.208158    2.807530   \n",
       "min    137.000000    0.000000    0.000000  160.000000    4.400000   \n",
       "25%    152.000000    0.050000  115.500000  180.000000    6.000000   \n",
       "50%    248.000000  100.000000  164.000000  196.000000    8.000000   \n",
       "75%    303.900000  125.000000  235.950000  209.500000   10.000000   \n",
       "max    374.000000  193.000000  260.000000  240.000000   19.000000   \n",
       "\n",
       "       Coarse Aggr.  Fine Aggr.   SLUMP(cm)   FLOW(cm)  \\\n",
       "count    103.000000  103.000000  103.000000  103.00000   \n",
       "mean     883.978641  739.604854   18.048544   49.61068   \n",
       "std       88.391393   63.342117    8.750844   17.56861   \n",
       "min      708.000000  640.600000    0.000000   20.00000   \n",
       "25%      819.500000  684.500000   14.500000   38.50000   \n",
       "50%      879.000000  742.700000   21.500000   54.00000   \n",
       "75%      952.800000  788.000000   24.000000   63.75000   \n",
       "max     1049.900000  902.000000   29.000000   78.00000   \n",
       "\n",
       "       Compressive Strength (28-day)(Mpa)  \n",
       "count                          103.000000  \n",
       "mean                            36.038738  \n",
       "std                              7.837120  \n",
       "min                             17.190000  \n",
       "25%                             30.900000  \n",
       "50%                             35.520000  \n",
       "75%                             41.205000  \n",
       "max                             58.530000  "
      ]
     },
     "execution_count": 6,
     "metadata": {},
     "output_type": "execute_result"
    }
   ],
   "source": [
    "df.describe()"
   ]
  },
  {
   "cell_type": "code",
   "execution_count": null,
   "id": "6967b7d7",
   "metadata": {},
   "outputs": [],
   "source": []
  },
  {
   "cell_type": "code",
   "execution_count": null,
   "id": "07f3959b",
   "metadata": {},
   "outputs": [],
   "source": [
    "# No missing Values."
   ]
  },
  {
   "cell_type": "code",
   "execution_count": null,
   "id": "03872a8d",
   "metadata": {},
   "outputs": [],
   "source": []
  },
  {
   "cell_type": "code",
   "execution_count": 7,
   "id": "b5409848",
   "metadata": {},
   "outputs": [
    {
     "data": {
      "image/png": "[encoded data removed]",
      "text/plain": [
       "<Figure size 1000x800 with 2 Axes>"
      ]
     },
     "metadata": {
      "needs_background": "light"
     },
     "output_type": "display_data"
    }
   ],
   "source": [
    "# Correlation Between Features and Target Variable.\n",
    "\n",
    "plt.figure(figsize= (10,8), dpi= 100)\n",
    "\n",
    "sns.heatmap(df.corr(), annot= True)\n",
    "\n",
    "plt.show()"
   ]
  },
  {
   "cell_type": "code",
   "execution_count": 8,
   "id": "c4a20919",
   "metadata": {},
   "outputs": [],
   "source": [
    "# \"Cement\" and \"Fly ash\" has considerable Positive Correlatio with Target."
   ]
  },
  {
   "cell_type": "code",
   "execution_count": null,
   "id": "709ca336",
   "metadata": {},
   "outputs": [],
   "source": []
  },
  {
   "cell_type": "markdown",
   "id": "713389bc",
   "metadata": {},
   "source": [
    "### Train Test Split:"
   ]
  },
  {
   "cell_type": "code",
   "execution_count": 9,
   "id": "95b91ea7",
   "metadata": {},
   "outputs": [
    {
     "data": {
      "text/plain": [
       "Index(['Cement', 'Slag', 'Fly ash', 'Water', 'SP', 'Coarse Aggr.',\n",
       "       'Fine Aggr.', 'SLUMP(cm)', 'FLOW(cm)',\n",
       "       'Compressive Strength (28-day)(Mpa)'],\n",
       "      dtype='object')"
      ]
     },
     "execution_count": 9,
     "metadata": {},
     "output_type": "execute_result"
    }
   ],
   "source": [
    "df.columns"
   ]
  },
  {
   "cell_type": "code",
   "execution_count": 10,
   "id": "6ae830c1",
   "metadata": {},
   "outputs": [],
   "source": [
    "# Features:\n",
    "\n",
    "x= df.drop('Compressive Strength (28-day)(Mpa)', axis= 1)"
   ]
  },
  {
   "cell_type": "code",
   "execution_count": 11,
   "id": "9b80100e",
   "metadata": {},
   "outputs": [
    {
     "data": {
      "text/html": [
       "<div>\n",
       "<style scoped>\n",
       "    .dataframe tbody tr th:only-of-type {\n",
       "        vertical-align: middle;\n",
       "    }\n",
       "\n",
       "    .dataframe tbody tr th {\n",
       "        vertical-align: top;\n",
       "    }\n",
       "\n",
       "    .dataframe thead th {\n",
       "        text-align: right;\n",
       "    }\n",
       "</style>\n",
       "<table border=\"1\" class=\"dataframe\">\n",
       "  <thead>\n",
       "    <tr style=\"text-align: right;\">\n",
       "      <th></th>\n",
       "      <th>Cement</th>\n",
       "      <th>Slag</th>\n",
       "      <th>Fly ash</th>\n",
       "      <th>Water</th>\n",
       "      <th>SP</th>\n",
       "      <th>Coarse Aggr.</th>\n",
       "      <th>Fine Aggr.</th>\n",
       "      <th>SLUMP(cm)</th>\n",
       "      <th>FLOW(cm)</th>\n",
       "    </tr>\n",
       "  </thead>\n",
       "  <tbody>\n",
       "    <tr>\n",
       "      <th>0</th>\n",
       "      <td>273.0</td>\n",
       "      <td>82.0</td>\n",
       "      <td>105.0</td>\n",
       "      <td>210.0</td>\n",
       "      <td>9.0</td>\n",
       "      <td>904.0</td>\n",
       "      <td>680.0</td>\n",
       "      <td>23.0</td>\n",
       "      <td>62.0</td>\n",
       "    </tr>\n",
       "    <tr>\n",
       "      <th>1</th>\n",
       "      <td>163.0</td>\n",
       "      <td>149.0</td>\n",
       "      <td>191.0</td>\n",
       "      <td>180.0</td>\n",
       "      <td>12.0</td>\n",
       "      <td>843.0</td>\n",
       "      <td>746.0</td>\n",
       "      <td>0.0</td>\n",
       "      <td>20.0</td>\n",
       "    </tr>\n",
       "    <tr>\n",
       "      <th>2</th>\n",
       "      <td>162.0</td>\n",
       "      <td>148.0</td>\n",
       "      <td>191.0</td>\n",
       "      <td>179.0</td>\n",
       "      <td>16.0</td>\n",
       "      <td>840.0</td>\n",
       "      <td>743.0</td>\n",
       "      <td>1.0</td>\n",
       "      <td>20.0</td>\n",
       "    </tr>\n",
       "    <tr>\n",
       "      <th>3</th>\n",
       "      <td>162.0</td>\n",
       "      <td>148.0</td>\n",
       "      <td>190.0</td>\n",
       "      <td>179.0</td>\n",
       "      <td>19.0</td>\n",
       "      <td>838.0</td>\n",
       "      <td>741.0</td>\n",
       "      <td>3.0</td>\n",
       "      <td>21.5</td>\n",
       "    </tr>\n",
       "    <tr>\n",
       "      <th>4</th>\n",
       "      <td>154.0</td>\n",
       "      <td>112.0</td>\n",
       "      <td>144.0</td>\n",
       "      <td>220.0</td>\n",
       "      <td>10.0</td>\n",
       "      <td>923.0</td>\n",
       "      <td>658.0</td>\n",
       "      <td>20.0</td>\n",
       "      <td>64.0</td>\n",
       "    </tr>\n",
       "  </tbody>\n",
       "</table>\n",
       "</div>"
      ],
      "text/plain": [
       "   Cement   Slag  Fly ash  Water    SP  Coarse Aggr.  Fine Aggr.  SLUMP(cm)  \\\n",
       "0   273.0   82.0    105.0  210.0   9.0         904.0       680.0       23.0   \n",
       "1   163.0  149.0    191.0  180.0  12.0         843.0       746.0        0.0   \n",
       "2   162.0  148.0    191.0  179.0  16.0         840.0       743.0        1.0   \n",
       "3   162.0  148.0    190.0  179.0  19.0         838.0       741.0        3.0   \n",
       "4   154.0  112.0    144.0  220.0  10.0         923.0       658.0       20.0   \n",
       "\n",
       "   FLOW(cm)  \n",
       "0      62.0  \n",
       "1      20.0  \n",
       "2      20.0  \n",
       "3      21.5  \n",
       "4      64.0  "
      ]
     },
     "execution_count": 11,
     "metadata": {},
     "output_type": "execute_result"
    }
   ],
   "source": [
    "x.head()"
   ]
  },
  {
   "cell_type": "code",
   "execution_count": null,
   "id": "24dfc367",
   "metadata": {},
   "outputs": [],
   "source": []
  },
  {
   "cell_type": "code",
   "execution_count": 12,
   "id": "b367b94c",
   "metadata": {},
   "outputs": [],
   "source": [
    "# Target:\n",
    "\n",
    "y = df['Compressive Strength (28-day)(Mpa)']"
   ]
  },
  {
   "cell_type": "code",
   "execution_count": 13,
   "id": "846dc434",
   "metadata": {},
   "outputs": [
    {
     "data": {
      "text/plain": [
       "0    34.99\n",
       "1    41.14\n",
       "2    41.81\n",
       "3    42.08\n",
       "4    26.82\n",
       "Name: Compressive Strength (28-day)(Mpa), dtype: float64"
      ]
     },
     "execution_count": 13,
     "metadata": {},
     "output_type": "execute_result"
    }
   ],
   "source": [
    "y.head()"
   ]
  },
  {
   "cell_type": "code",
   "execution_count": null,
   "id": "48143458",
   "metadata": {},
   "outputs": [],
   "source": []
  },
  {
   "cell_type": "code",
   "execution_count": 14,
   "id": "c64f18f5",
   "metadata": {},
   "outputs": [],
   "source": [
    "x_train, x_test, y_train, y_test = train_test_split(x, y, test_size= 0.2, random_state= 42)"
   ]
  },
  {
   "cell_type": "code",
   "execution_count": 15,
   "id": "5c39fcc8",
   "metadata": {},
   "outputs": [
    {
     "name": "stdout",
     "output_type": "stream",
     "text": [
      "(82, 9)\n",
      "(21, 9)\n",
      "(82,)\n",
      "(21,)\n"
     ]
    }
   ],
   "source": [
    "print(x_train.shape)\n",
    "print(x_test.shape)\n",
    "print(y_train.shape)\n",
    "print(y_test.shape)"
   ]
  },
  {
   "cell_type": "code",
   "execution_count": null,
   "id": "21ef25f4",
   "metadata": {},
   "outputs": [],
   "source": []
  },
  {
   "cell_type": "markdown",
   "id": "7cc43c44",
   "metadata": {},
   "source": [
    "### Scalling:"
   ]
  },
  {
   "cell_type": "code",
   "execution_count": 16,
   "id": "ffc862b0",
   "metadata": {},
   "outputs": [],
   "source": [
    "sc = StandardScaler()"
   ]
  },
  {
   "cell_type": "code",
   "execution_count": 17,
   "id": "78f94d65",
   "metadata": {},
   "outputs": [
    {
     "data": {
      "text/html": [
       "<div>\n",
       "<style scoped>\n",
       "    .dataframe tbody tr th:only-of-type {\n",
       "        vertical-align: middle;\n",
       "    }\n",
       "\n",
       "    .dataframe tbody tr th {\n",
       "        vertical-align: top;\n",
       "    }\n",
       "\n",
       "    .dataframe thead th {\n",
       "        text-align: right;\n",
       "    }\n",
       "</style>\n",
       "<table border=\"1\" class=\"dataframe\">\n",
       "  <thead>\n",
       "    <tr style=\"text-align: right;\">\n",
       "      <th></th>\n",
       "      <th>Cement</th>\n",
       "      <th>Slag</th>\n",
       "      <th>Fly ash</th>\n",
       "      <th>Water</th>\n",
       "      <th>SP</th>\n",
       "      <th>Coarse Aggr.</th>\n",
       "      <th>Fine Aggr.</th>\n",
       "      <th>SLUMP(cm)</th>\n",
       "      <th>FLOW(cm)</th>\n",
       "    </tr>\n",
       "  </thead>\n",
       "  <tbody>\n",
       "    <tr>\n",
       "      <th>0</th>\n",
       "      <td>0.997420</td>\n",
       "      <td>-1.297210</td>\n",
       "      <td>-0.035970</td>\n",
       "      <td>1.055528</td>\n",
       "      <td>0.499793</td>\n",
       "      <td>0.268550</td>\n",
       "      <td>-0.949186</td>\n",
       "      <td>0.706785</td>\n",
       "      <td>0.764070</td>\n",
       "    </tr>\n",
       "    <tr>\n",
       "      <th>1</th>\n",
       "      <td>-1.040961</td>\n",
       "      <td>1.657774</td>\n",
       "      <td>-1.649362</td>\n",
       "      <td>-0.656558</td>\n",
       "      <td>0.843322</td>\n",
       "      <td>0.951727</td>\n",
       "      <td>0.289249</td>\n",
       "      <td>-1.960431</td>\n",
       "      <td>-1.591123</td>\n",
       "    </tr>\n",
       "    <tr>\n",
       "      <th>2</th>\n",
       "      <td>1.136688</td>\n",
       "      <td>0.787695</td>\n",
       "      <td>0.213992</td>\n",
       "      <td>0.713111</td>\n",
       "      <td>-0.874324</td>\n",
       "      <td>-1.906231</td>\n",
       "      <td>-0.257592</td>\n",
       "      <td>-1.738163</td>\n",
       "      <td>-1.591123</td>\n",
       "    </tr>\n",
       "    <tr>\n",
       "      <th>3</th>\n",
       "      <td>0.858152</td>\n",
       "      <td>0.459364</td>\n",
       "      <td>-1.649362</td>\n",
       "      <td>-0.509808</td>\n",
       "      <td>-0.874324</td>\n",
       "      <td>-0.107198</td>\n",
       "      <td>1.222097</td>\n",
       "      <td>-1.627029</td>\n",
       "      <td>-1.591123</td>\n",
       "    </tr>\n",
       "    <tr>\n",
       "      <th>4</th>\n",
       "      <td>0.228913</td>\n",
       "      <td>0.360864</td>\n",
       "      <td>1.067272</td>\n",
       "      <td>-1.346284</td>\n",
       "      <td>-0.290324</td>\n",
       "      <td>0.749051</td>\n",
       "      <td>-1.582879</td>\n",
       "      <td>-1.960431</td>\n",
       "      <td>-1.591123</td>\n",
       "    </tr>\n",
       "  </tbody>\n",
       "</table>\n",
       "</div>"
      ],
      "text/plain": [
       "     Cement      Slag   Fly ash     Water        SP  Coarse Aggr.  Fine Aggr.  \\\n",
       "0  0.997420 -1.297210 -0.035970  1.055528  0.499793      0.268550   -0.949186   \n",
       "1 -1.040961  1.657774 -1.649362 -0.656558  0.843322      0.951727    0.289249   \n",
       "2  1.136688  0.787695  0.213992  0.713111 -0.874324     -1.906231   -0.257592   \n",
       "3  0.858152  0.459364 -1.649362 -0.509808 -0.874324     -0.107198    1.222097   \n",
       "4  0.228913  0.360864  1.067272 -1.346284 -0.290324      0.749051   -1.582879   \n",
       "\n",
       "   SLUMP(cm)  FLOW(cm)  \n",
       "0   0.706785  0.764070  \n",
       "1  -1.960431 -1.591123  \n",
       "2  -1.738163 -1.591123  \n",
       "3  -1.627029 -1.591123  \n",
       "4  -1.960431 -1.591123  "
      ]
     },
     "execution_count": 17,
     "metadata": {},
     "output_type": "execute_result"
    }
   ],
   "source": [
    "temp = sc.fit_transform(x_train)\n",
    "x_train = pd.DataFrame(temp, columns= x_train.columns)\n",
    "x_train.head()"
   ]
  },
  {
   "cell_type": "code",
   "execution_count": null,
   "id": "27524725",
   "metadata": {},
   "outputs": [],
   "source": []
  },
  {
   "cell_type": "code",
   "execution_count": 18,
   "id": "118bc81f",
   "metadata": {},
   "outputs": [
    {
     "data": {
      "text/html": [
       "<div>\n",
       "<style scoped>\n",
       "    .dataframe tbody tr th:only-of-type {\n",
       "        vertical-align: middle;\n",
       "    }\n",
       "\n",
       "    .dataframe tbody tr th {\n",
       "        vertical-align: top;\n",
       "    }\n",
       "\n",
       "    .dataframe thead th {\n",
       "        text-align: right;\n",
       "    }\n",
       "</style>\n",
       "<table border=\"1\" class=\"dataframe\">\n",
       "  <thead>\n",
       "    <tr style=\"text-align: right;\">\n",
       "      <th></th>\n",
       "      <th>Cement</th>\n",
       "      <th>Slag</th>\n",
       "      <th>Fly ash</th>\n",
       "      <th>Water</th>\n",
       "      <th>SP</th>\n",
       "      <th>Coarse Aggr.</th>\n",
       "      <th>Fine Aggr.</th>\n",
       "      <th>SLUMP(cm)</th>\n",
       "      <th>FLOW(cm)</th>\n",
       "    </tr>\n",
       "  </thead>\n",
       "  <tbody>\n",
       "    <tr>\n",
       "      <th>0</th>\n",
       "      <td>1.149349</td>\n",
       "      <td>-1.297210</td>\n",
       "      <td>0.213992</td>\n",
       "      <td>-0.314141</td>\n",
       "      <td>-1.217853</td>\n",
       "      <td>-0.209674</td>\n",
       "      <td>0.562670</td>\n",
       "      <td>0.706785</td>\n",
       "      <td>0.651918</td>\n",
       "    </tr>\n",
       "    <tr>\n",
       "      <th>1</th>\n",
       "      <td>-0.813067</td>\n",
       "      <td>-1.297210</td>\n",
       "      <td>1.304736</td>\n",
       "      <td>-0.656558</td>\n",
       "      <td>1.530380</td>\n",
       "      <td>-0.334923</td>\n",
       "      <td>1.415100</td>\n",
       "      <td>0.373383</td>\n",
       "      <td>0.315462</td>\n",
       "    </tr>\n",
       "    <tr>\n",
       "      <th>2</th>\n",
       "      <td>0.870813</td>\n",
       "      <td>0.459364</td>\n",
       "      <td>-1.649362</td>\n",
       "      <td>0.664194</td>\n",
       "      <td>0.499793</td>\n",
       "      <td>-0.084425</td>\n",
       "      <td>0.096246</td>\n",
       "      <td>0.817919</td>\n",
       "      <td>0.820146</td>\n",
       "    </tr>\n",
       "    <tr>\n",
       "      <th>3</th>\n",
       "      <td>0.718884</td>\n",
       "      <td>0.245948</td>\n",
       "      <td>-0.274570</td>\n",
       "      <td>-0.411974</td>\n",
       "      <td>0.156264</td>\n",
       "      <td>0.177459</td>\n",
       "      <td>-0.691849</td>\n",
       "      <td>0.817919</td>\n",
       "      <td>0.707994</td>\n",
       "    </tr>\n",
       "    <tr>\n",
       "      <th>4</th>\n",
       "      <td>-0.889032</td>\n",
       "      <td>1.099610</td>\n",
       "      <td>0.486678</td>\n",
       "      <td>0.321777</td>\n",
       "      <td>0.843322</td>\n",
       "      <td>-0.676512</td>\n",
       "      <td>-0.466679</td>\n",
       "      <td>-0.515689</td>\n",
       "      <td>-0.581755</td>\n",
       "    </tr>\n",
       "  </tbody>\n",
       "</table>\n",
       "</div>"
      ],
      "text/plain": [
       "     Cement      Slag   Fly ash     Water        SP  Coarse Aggr.  Fine Aggr.  \\\n",
       "0  1.149349 -1.297210  0.213992 -0.314141 -1.217853     -0.209674    0.562670   \n",
       "1 -0.813067 -1.297210  1.304736 -0.656558  1.530380     -0.334923    1.415100   \n",
       "2  0.870813  0.459364 -1.649362  0.664194  0.499793     -0.084425    0.096246   \n",
       "3  0.718884  0.245948 -0.274570 -0.411974  0.156264      0.177459   -0.691849   \n",
       "4 -0.889032  1.099610  0.486678  0.321777  0.843322     -0.676512   -0.466679   \n",
       "\n",
       "   SLUMP(cm)  FLOW(cm)  \n",
       "0   0.706785  0.651918  \n",
       "1   0.373383  0.315462  \n",
       "2   0.817919  0.820146  \n",
       "3   0.817919  0.707994  \n",
       "4  -0.515689 -0.581755  "
      ]
     },
     "execution_count": 18,
     "metadata": {},
     "output_type": "execute_result"
    }
   ],
   "source": [
    "temp = sc.transform(x_test)\n",
    "x_test = pd.DataFrame(temp, columns= x_test.columns)\n",
    "x_test.head()"
   ]
  },
  {
   "cell_type": "code",
   "execution_count": null,
   "id": "ca8e89e9",
   "metadata": {},
   "outputs": [],
   "source": []
  },
  {
   "cell_type": "markdown",
   "id": "569b762c",
   "metadata": {},
   "source": [
    "### Model:"
   ]
  },
  {
   "cell_type": "code",
   "execution_count": 19,
   "id": "73150973",
   "metadata": {},
   "outputs": [],
   "source": [
    "model = SVR()"
   ]
  },
  {
   "cell_type": "code",
   "execution_count": 20,
   "id": "e5837d18",
   "metadata": {},
   "outputs": [
    {
     "data": {
      "text/plain": [
       "SVR()"
      ]
     },
     "execution_count": 20,
     "metadata": {},
     "output_type": "execute_result"
    }
   ],
   "source": [
    "model.fit(x_train, y_train)"
   ]
  },
  {
   "cell_type": "code",
   "execution_count": 21,
   "id": "159738c0",
   "metadata": {},
   "outputs": [],
   "source": [
    "pred = model.predict(x_test)"
   ]
  },
  {
   "cell_type": "code",
   "execution_count": 22,
   "id": "6291fb02",
   "metadata": {},
   "outputs": [
    {
     "data": {
      "text/plain": [
       "0.4844708298909186"
      ]
     },
     "execution_count": 22,
     "metadata": {},
     "output_type": "execute_result"
    }
   ],
   "source": [
    "r2_score(y_test, pred)"
   ]
  },
  {
   "cell_type": "code",
   "execution_count": 23,
   "id": "1ac9f7e0",
   "metadata": {},
   "outputs": [
    {
     "data": {
      "text/plain": [
       "4.119000968703548"
      ]
     },
     "execution_count": 23,
     "metadata": {},
     "output_type": "execute_result"
    }
   ],
   "source": [
    "mean_absolute_error(y_test, pred)"
   ]
  },
  {
   "cell_type": "code",
   "execution_count": 24,
   "id": "2f67d6d5",
   "metadata": {},
   "outputs": [
    {
     "data": {
      "text/plain": [
       "26.08434398204699"
      ]
     },
     "execution_count": 24,
     "metadata": {},
     "output_type": "execute_result"
    }
   ],
   "source": [
    "mean_squared_error(y_test, pred)"
   ]
  },
  {
   "cell_type": "code",
   "execution_count": null,
   "id": "49d9b41b",
   "metadata": {},
   "outputs": [],
   "source": []
  },
  {
   "cell_type": "markdown",
   "id": "ae1867e1",
   "metadata": {},
   "source": [
    "### Grid Search:"
   ]
  },
  {
   "cell_type": "code",
   "execution_count": 25,
   "id": "13f9b2b0",
   "metadata": {},
   "outputs": [],
   "source": [
    "model = SVR()"
   ]
  },
  {
   "cell_type": "code",
   "execution_count": 26,
   "id": "8f9b5e32",
   "metadata": {},
   "outputs": [],
   "source": [
    "param_dict = {\"kernel\" : [\"linear\",\"poly\",\"rbf\",\"sigmoid\"],\n",
    "             \"C\" : [0.01, 0.1, 1, 10, 100],\n",
    "             \"gamma\" : [\"scale\", \"auto\"],\n",
    "             \"degree\" : [1,2,3],\n",
    "             \"epsilon\" : [0.01, 0.1, 0, 0.5, 1, 2]}"
   ]
  },
  {
   "cell_type": "code",
   "execution_count": 27,
   "id": "1f19e777",
   "metadata": {},
   "outputs": [],
   "source": [
    "grid_model = GridSearchCV(estimator= model, param_grid= param_dict, cv= 5)"
   ]
  },
  {
   "cell_type": "code",
   "execution_count": 28,
   "id": "f8695656",
   "metadata": {},
   "outputs": [
    {
     "data": {
      "text/plain": [
       "GridSearchCV(cv=5, estimator=SVR(),\n",
       "             param_grid={'C': [0.01, 0.1, 1, 10, 100], 'degree': [1, 2, 3],\n",
       "                         'epsilon': [0.01, 0.1, 0, 0.5, 1, 2],\n",
       "                         'gamma': ['scale', 'auto'],\n",
       "                         'kernel': ['linear', 'poly', 'rbf', 'sigmoid']})"
      ]
     },
     "execution_count": 28,
     "metadata": {},
     "output_type": "execute_result"
    }
   ],
   "source": [
    "grid_model.fit(x_train, y_train)"
   ]
  },
  {
   "cell_type": "code",
   "execution_count": 29,
   "id": "e7538290",
   "metadata": {},
   "outputs": [
    {
     "data": {
      "text/plain": [
       "SVR(C=100, degree=1, epsilon=0)"
      ]
     },
     "execution_count": 29,
     "metadata": {},
     "output_type": "execute_result"
    }
   ],
   "source": [
    "grid_model.best_estimator_"
   ]
  },
  {
   "cell_type": "code",
   "execution_count": 30,
   "id": "7d7dbd63",
   "metadata": {},
   "outputs": [
    {
     "data": {
      "text/plain": [
       "{'C': 100, 'degree': 1, 'epsilon': 0, 'gamma': 'scale', 'kernel': 'rbf'}"
      ]
     },
     "execution_count": 30,
     "metadata": {},
     "output_type": "execute_result"
    }
   ],
   "source": [
    "grid_model.best_params_"
   ]
  },
  {
   "cell_type": "code",
   "execution_count": 31,
   "id": "ade9e8c7",
   "metadata": {},
   "outputs": [
    {
     "data": {
      "text/plain": [
       "0.9171688266279888"
      ]
     },
     "execution_count": 31,
     "metadata": {},
     "output_type": "execute_result"
    }
   ],
   "source": [
    "grid_model.best_score_"
   ]
  },
  {
   "cell_type": "code",
   "execution_count": 32,
   "id": "fb5c87b7",
   "metadata": {},
   "outputs": [],
   "source": [
    "pred = grid_model.predict(x_test)"
   ]
  },
  {
   "cell_type": "code",
   "execution_count": 33,
   "id": "50cffbf4",
   "metadata": {},
   "outputs": [
    {
     "data": {
      "text/plain": [
       "0.957273472792728"
      ]
     },
     "execution_count": 33,
     "metadata": {},
     "output_type": "execute_result"
    }
   ],
   "source": [
    "r2_score(y_test, pred)"
   ]
  },
  {
   "cell_type": "code",
   "execution_count": 34,
   "id": "043a3566",
   "metadata": {},
   "outputs": [
    {
     "data": {
      "text/plain": [
       "0.9792301074685588"
      ]
     },
     "execution_count": 34,
     "metadata": {},
     "output_type": "execute_result"
    }
   ],
   "source": [
    "mean_absolute_error(y_test, pred)"
   ]
  },
  {
   "cell_type": "code",
   "execution_count": 35,
   "id": "5cb2b76d",
   "metadata": {},
   "outputs": [
    {
     "data": {
      "text/plain": [
       "2.161843591890166"
      ]
     },
     "execution_count": 35,
     "metadata": {},
     "output_type": "execute_result"
    }
   ],
   "source": [
    "mean_squared_error(y_test, pred)"
   ]
  }
 ],
 "metadata": {
  "kernelspec": {
   "display_name": "Python 3 (ipykernel)",
   "language": "python",
   "name": "python3"
  },
  "language_info": {
   "codemirror_mode": {
    "name": "ipython",
    "version": 3
   },
   "file_extension": ".py",
   "mimetype": "text/x-python",
   "name": "python",
   "nbconvert_exporter": "python",
   "pygments_lexer": "ipython3",
   "version": "3.8.12"
  }
 },
 "nbformat": 4,
 "nbformat_minor": 5
}
