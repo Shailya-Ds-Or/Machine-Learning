{
 "cells": [
  {
   "cell_type": "markdown",
   "id": "a55d1a3c",
   "metadata": {},
   "source": [
    "# Uber Fare Prediction"
   ]
  },
  {
   "cell_type": "markdown",
   "id": "74b4b579",
   "metadata": {},
   "source": [
    "#### DESCRIPTION\n",
    "\n",
    "Design an algorithm that will tell the fare to be charged for a passenger.\n",
    "\n",
    "Problem Statement Scenario:\n",
    "\n",
    "A fare calculator helps a customer in identifying the fare valid for the trip. They are often used by passengers who are new to a city or tourists to get an estimate of the travel costs.\n",
    "You are provided with a dataset with features like fare amount, pickup and drop location, passenger count, and so on.\n",
    "\n",
    "Following actions should be performed:\n",
    "\n",
    "1) Understand the type of data.\n",
    "\n",
    "2) Identify the output variable.\n",
    "\n",
    "3) Identify the factors which affect the output variable.\n",
    "\n",
    "4) Check if there are any biases in your dataset.\n",
    "\n",
    "5) Count the null values existing in columns.\n",
    "\n",
    "6) Remove the null value rows in the target variable.\n",
    "\n",
    "7) Perform train test split.\n",
    "\n",
    "8) Predict the accuracy using regression models.\n",
    "\n",
    "9) Check and compare the accuracy of the different models."
   ]
  },
  {
   "cell_type": "code",
   "execution_count": null,
   "id": "5ba5f36e",
   "metadata": {},
   "outputs": [],
   "source": []
  },
  {
   "cell_type": "code",
   "execution_count": 143,
   "id": "9763c9e2",
   "metadata": {},
   "outputs": [],
   "source": [
    "import pandas as pd\n",
    "import numpy as np\n",
    "import matplotlib.pyplot as plt\n",
    "import seaborn as sns\n",
    "from datetime import datetime as dt\n",
    "\n",
    "from sklearn.preprocessing import StandardScaler\n",
    "from sklearn.model_selection import train_test_split\n",
    "from sklearn.ensemble import RandomForestRegressor\n",
    "from xgboost import XGBRegressor\n",
    "from sklearn.svm import SVR\n",
    "from sklearn.metrics import r2_score\n",
    "\n",
    "import warnings\n",
    "warnings.filterwarnings(\"ignore\")"
   ]
  },
  {
   "cell_type": "code",
   "execution_count": null,
   "id": "b1400164",
   "metadata": {},
   "outputs": [],
   "source": []
  },
  {
   "cell_type": "code",
   "execution_count": 92,
   "id": "1314d4e9",
   "metadata": {},
   "outputs": [],
   "source": [
    "df = pd.read_csv(\"uber_train.csv\")"
   ]
  },
  {
   "cell_type": "code",
   "execution_count": 93,
   "id": "681bb29a",
   "metadata": {},
   "outputs": [
    {
     "data": {
      "text/html": [
       "<div>\n",
       "<style scoped>\n",
       "    .dataframe tbody tr th:only-of-type {\n",
       "        vertical-align: middle;\n",
       "    }\n",
       "\n",
       "    .dataframe tbody tr th {\n",
       "        vertical-align: top;\n",
       "    }\n",
       "\n",
       "    .dataframe thead th {\n",
       "        text-align: right;\n",
       "    }\n",
       "</style>\n",
       "<table border=\"1\" class=\"dataframe\">\n",
       "  <thead>\n",
       "    <tr style=\"text-align: right;\">\n",
       "      <th></th>\n",
       "      <th>key</th>\n",
       "      <th>fare_amount</th>\n",
       "      <th>pickup_datetime</th>\n",
       "      <th>pickup_longitude</th>\n",
       "      <th>pickup_latitude</th>\n",
       "      <th>dropoff_longitude</th>\n",
       "      <th>dropoff_latitude</th>\n",
       "      <th>passenger_count</th>\n",
       "    </tr>\n",
       "  </thead>\n",
       "  <tbody>\n",
       "    <tr>\n",
       "      <th>0</th>\n",
       "      <td>2009-06-15 17:26:21.0000001</td>\n",
       "      <td>4.5</td>\n",
       "      <td>2009-06-15 17:26:21 UTC</td>\n",
       "      <td>-73.844311</td>\n",
       "      <td>40.721319</td>\n",
       "      <td>-73.841610</td>\n",
       "      <td>40.712278</td>\n",
       "      <td>1</td>\n",
       "    </tr>\n",
       "    <tr>\n",
       "      <th>1</th>\n",
       "      <td>2010-01-05 16:52:16.0000002</td>\n",
       "      <td>16.9</td>\n",
       "      <td>2010-01-05 16:52:16 UTC</td>\n",
       "      <td>-74.016048</td>\n",
       "      <td>40.711303</td>\n",
       "      <td>-73.979268</td>\n",
       "      <td>40.782004</td>\n",
       "      <td>1</td>\n",
       "    </tr>\n",
       "    <tr>\n",
       "      <th>2</th>\n",
       "      <td>2011-08-18 00:35:00.00000049</td>\n",
       "      <td>5.7</td>\n",
       "      <td>2011-08-18 00:35:00 UTC</td>\n",
       "      <td>-73.982738</td>\n",
       "      <td>40.761270</td>\n",
       "      <td>-73.991242</td>\n",
       "      <td>40.750562</td>\n",
       "      <td>2</td>\n",
       "    </tr>\n",
       "    <tr>\n",
       "      <th>3</th>\n",
       "      <td>2012-04-21 04:30:42.0000001</td>\n",
       "      <td>7.7</td>\n",
       "      <td>2012-04-21 04:30:42 UTC</td>\n",
       "      <td>-73.987130</td>\n",
       "      <td>40.733143</td>\n",
       "      <td>-73.991567</td>\n",
       "      <td>40.758092</td>\n",
       "      <td>1</td>\n",
       "    </tr>\n",
       "    <tr>\n",
       "      <th>4</th>\n",
       "      <td>2010-03-09 07:51:00.000000135</td>\n",
       "      <td>5.3</td>\n",
       "      <td>2010-03-09 07:51:00 UTC</td>\n",
       "      <td>-73.968095</td>\n",
       "      <td>40.768008</td>\n",
       "      <td>-73.956655</td>\n",
       "      <td>40.783762</td>\n",
       "      <td>1</td>\n",
       "    </tr>\n",
       "  </tbody>\n",
       "</table>\n",
       "</div>"
      ],
      "text/plain": [
       "                             key  fare_amount          pickup_datetime  \\\n",
       "0    2009-06-15 17:26:21.0000001          4.5  2009-06-15 17:26:21 UTC   \n",
       "1    2010-01-05 16:52:16.0000002         16.9  2010-01-05 16:52:16 UTC   \n",
       "2   2011-08-18 00:35:00.00000049          5.7  2011-08-18 00:35:00 UTC   \n",
       "3    2012-04-21 04:30:42.0000001          7.7  2012-04-21 04:30:42 UTC   \n",
       "4  2010-03-09 07:51:00.000000135          5.3  2010-03-09 07:51:00 UTC   \n",
       "\n",
       "   pickup_longitude  pickup_latitude  dropoff_longitude  dropoff_latitude  \\\n",
       "0        -73.844311        40.721319         -73.841610         40.712278   \n",
       "1        -74.016048        40.711303         -73.979268         40.782004   \n",
       "2        -73.982738        40.761270         -73.991242         40.750562   \n",
       "3        -73.987130        40.733143         -73.991567         40.758092   \n",
       "4        -73.968095        40.768008         -73.956655         40.783762   \n",
       "\n",
       "   passenger_count  \n",
       "0                1  \n",
       "1                1  \n",
       "2                2  \n",
       "3                1  \n",
       "4                1  "
      ]
     },
     "execution_count": 93,
     "metadata": {},
     "output_type": "execute_result"
    }
   ],
   "source": [
    "df.head()"
   ]
  },
  {
   "cell_type": "code",
   "execution_count": 94,
   "id": "8c089dbf",
   "metadata": {},
   "outputs": [
    {
     "data": {
      "text/plain": [
       "(20000, 8)"
      ]
     },
     "execution_count": 94,
     "metadata": {},
     "output_type": "execute_result"
    }
   ],
   "source": [
    "df.shape"
   ]
  },
  {
   "cell_type": "code",
   "execution_count": 95,
   "id": "66679208",
   "metadata": {},
   "outputs": [
    {
     "name": "stdout",
     "output_type": "stream",
     "text": [
      "<class 'pandas.core.frame.DataFrame'>\n",
      "RangeIndex: 20000 entries, 0 to 19999\n",
      "Data columns (total 8 columns):\n",
      " #   Column             Non-Null Count  Dtype  \n",
      "---  ------             --------------  -----  \n",
      " 0   key                20000 non-null  object \n",
      " 1   fare_amount        20000 non-null  float64\n",
      " 2   pickup_datetime    20000 non-null  object \n",
      " 3   pickup_longitude   20000 non-null  float64\n",
      " 4   pickup_latitude    20000 non-null  float64\n",
      " 5   dropoff_longitude  20000 non-null  float64\n",
      " 6   dropoff_latitude   20000 non-null  float64\n",
      " 7   passenger_count    20000 non-null  int64  \n",
      "dtypes: float64(5), int64(1), object(2)\n",
      "memory usage: 1.2+ MB\n"
     ]
    }
   ],
   "source": [
    "df.info()"
   ]
  },
  {
   "cell_type": "code",
   "execution_count": 96,
   "id": "b26a447a",
   "metadata": {},
   "outputs": [
    {
     "data": {
      "text/html": [
       "<div>\n",
       "<style scoped>\n",
       "    .dataframe tbody tr th:only-of-type {\n",
       "        vertical-align: middle;\n",
       "    }\n",
       "\n",
       "    .dataframe tbody tr th {\n",
       "        vertical-align: top;\n",
       "    }\n",
       "\n",
       "    .dataframe thead th {\n",
       "        text-align: right;\n",
       "    }\n",
       "</style>\n",
       "<table border=\"1\" class=\"dataframe\">\n",
       "  <thead>\n",
       "    <tr style=\"text-align: right;\">\n",
       "      <th></th>\n",
       "      <th>fare_amount</th>\n",
       "      <th>pickup_longitude</th>\n",
       "      <th>pickup_latitude</th>\n",
       "      <th>dropoff_longitude</th>\n",
       "      <th>dropoff_latitude</th>\n",
       "      <th>passenger_count</th>\n",
       "    </tr>\n",
       "  </thead>\n",
       "  <tbody>\n",
       "    <tr>\n",
       "      <th>count</th>\n",
       "      <td>20000.000000</td>\n",
       "      <td>20000.000000</td>\n",
       "      <td>20000.000000</td>\n",
       "      <td>20000.000000</td>\n",
       "      <td>20000.000000</td>\n",
       "      <td>20000.000000</td>\n",
       "    </tr>\n",
       "    <tr>\n",
       "      <th>mean</th>\n",
       "      <td>11.303321</td>\n",
       "      <td>-72.478584</td>\n",
       "      <td>39.921043</td>\n",
       "      <td>-72.497221</td>\n",
       "      <td>39.913606</td>\n",
       "      <td>1.658000</td>\n",
       "    </tr>\n",
       "    <tr>\n",
       "      <th>std</th>\n",
       "      <td>9.541637</td>\n",
       "      <td>10.525376</td>\n",
       "      <td>6.678592</td>\n",
       "      <td>10.460530</td>\n",
       "      <td>6.139231</td>\n",
       "      <td>1.283674</td>\n",
       "    </tr>\n",
       "    <tr>\n",
       "      <th>min</th>\n",
       "      <td>-3.000000</td>\n",
       "      <td>-74.438233</td>\n",
       "      <td>-74.006893</td>\n",
       "      <td>-84.654241</td>\n",
       "      <td>-74.006377</td>\n",
       "      <td>0.000000</td>\n",
       "    </tr>\n",
       "    <tr>\n",
       "      <th>25%</th>\n",
       "      <td>6.000000</td>\n",
       "      <td>-73.992150</td>\n",
       "      <td>40.734706</td>\n",
       "      <td>-73.991224</td>\n",
       "      <td>40.734537</td>\n",
       "      <td>1.000000</td>\n",
       "    </tr>\n",
       "    <tr>\n",
       "      <th>50%</th>\n",
       "      <td>8.500000</td>\n",
       "      <td>-73.981711</td>\n",
       "      <td>40.752680</td>\n",
       "      <td>-73.980216</td>\n",
       "      <td>40.753583</td>\n",
       "      <td>1.000000</td>\n",
       "    </tr>\n",
       "    <tr>\n",
       "      <th>75%</th>\n",
       "      <td>12.500000</td>\n",
       "      <td>-73.966802</td>\n",
       "      <td>40.767443</td>\n",
       "      <td>-73.963729</td>\n",
       "      <td>40.768135</td>\n",
       "      <td>2.000000</td>\n",
       "    </tr>\n",
       "    <tr>\n",
       "      <th>max</th>\n",
       "      <td>180.000000</td>\n",
       "      <td>40.766125</td>\n",
       "      <td>401.083332</td>\n",
       "      <td>40.802437</td>\n",
       "      <td>41.366138</td>\n",
       "      <td>6.000000</td>\n",
       "    </tr>\n",
       "  </tbody>\n",
       "</table>\n",
       "</div>"
      ],
      "text/plain": [
       "        fare_amount  pickup_longitude  pickup_latitude  dropoff_longitude  \\\n",
       "count  20000.000000      20000.000000     20000.000000       20000.000000   \n",
       "mean      11.303321        -72.478584        39.921043         -72.497221   \n",
       "std        9.541637         10.525376         6.678592          10.460530   \n",
       "min       -3.000000        -74.438233       -74.006893         -84.654241   \n",
       "25%        6.000000        -73.992150        40.734706         -73.991224   \n",
       "50%        8.500000        -73.981711        40.752680         -73.980216   \n",
       "75%       12.500000        -73.966802        40.767443         -73.963729   \n",
       "max      180.000000         40.766125       401.083332          40.802437   \n",
       "\n",
       "       dropoff_latitude  passenger_count  \n",
       "count      20000.000000     20000.000000  \n",
       "mean          39.913606         1.658000  \n",
       "std            6.139231         1.283674  \n",
       "min          -74.006377         0.000000  \n",
       "25%           40.734537         1.000000  \n",
       "50%           40.753583         1.000000  \n",
       "75%           40.768135         2.000000  \n",
       "max           41.366138         6.000000  "
      ]
     },
     "execution_count": 96,
     "metadata": {},
     "output_type": "execute_result"
    }
   ],
   "source": [
    "df.describe()"
   ]
  },
  {
   "cell_type": "code",
   "execution_count": null,
   "id": "1c717a23",
   "metadata": {},
   "outputs": [],
   "source": []
  },
  {
   "cell_type": "markdown",
   "id": "3e107eff",
   "metadata": {},
   "source": [
    "### 1) Treating Fare Column:"
   ]
  },
  {
   "cell_type": "markdown",
   "id": "b8ea9001",
   "metadata": {},
   "source": [
    "**Minimum Fare Value is -3, which is not Possible.**\n",
    "**So, there is atleast one or more Observation in Data with Negative Fare Value.**\n",
    "**We will Drop that Rows.**"
   ]
  },
  {
   "cell_type": "code",
   "execution_count": 97,
   "id": "9261a1ef",
   "metadata": {},
   "outputs": [],
   "source": [
    "df = df[df[\"fare_amount\"] > 0]"
   ]
  },
  {
   "cell_type": "code",
   "execution_count": 98,
   "id": "6668d77e",
   "metadata": {},
   "outputs": [
    {
     "data": {
      "text/plain": [
       "(19996, 8)"
      ]
     },
     "execution_count": 98,
     "metadata": {},
     "output_type": "execute_result"
    }
   ],
   "source": [
    "df.shape"
   ]
  },
  {
   "cell_type": "code",
   "execution_count": 99,
   "id": "8990c6bb",
   "metadata": {},
   "outputs": [
    {
     "data": {
      "text/html": [
       "<div>\n",
       "<style scoped>\n",
       "    .dataframe tbody tr th:only-of-type {\n",
       "        vertical-align: middle;\n",
       "    }\n",
       "\n",
       "    .dataframe tbody tr th {\n",
       "        vertical-align: top;\n",
       "    }\n",
       "\n",
       "    .dataframe thead th {\n",
       "        text-align: right;\n",
       "    }\n",
       "</style>\n",
       "<table border=\"1\" class=\"dataframe\">\n",
       "  <thead>\n",
       "    <tr style=\"text-align: right;\">\n",
       "      <th></th>\n",
       "      <th>fare_amount</th>\n",
       "      <th>pickup_longitude</th>\n",
       "      <th>pickup_latitude</th>\n",
       "      <th>dropoff_longitude</th>\n",
       "      <th>dropoff_latitude</th>\n",
       "      <th>passenger_count</th>\n",
       "    </tr>\n",
       "  </thead>\n",
       "  <tbody>\n",
       "    <tr>\n",
       "      <th>count</th>\n",
       "      <td>19996.000000</td>\n",
       "      <td>19996.000000</td>\n",
       "      <td>19996.000000</td>\n",
       "      <td>19996.000000</td>\n",
       "      <td>19996.000000</td>\n",
       "      <td>19996.000000</td>\n",
       "    </tr>\n",
       "    <tr>\n",
       "      <th>mean</th>\n",
       "      <td>11.306003</td>\n",
       "      <td>-72.478291</td>\n",
       "      <td>39.920885</td>\n",
       "      <td>-72.496931</td>\n",
       "      <td>39.913447</td>\n",
       "      <td>1.657982</td>\n",
       "    </tr>\n",
       "    <tr>\n",
       "      <th>std</th>\n",
       "      <td>9.540692</td>\n",
       "      <td>10.526409</td>\n",
       "      <td>6.679250</td>\n",
       "      <td>10.461556</td>\n",
       "      <td>6.139835</td>\n",
       "      <td>1.283670</td>\n",
       "    </tr>\n",
       "    <tr>\n",
       "      <th>min</th>\n",
       "      <td>0.010000</td>\n",
       "      <td>-74.438233</td>\n",
       "      <td>-74.006893</td>\n",
       "      <td>-84.654241</td>\n",
       "      <td>-74.006377</td>\n",
       "      <td>0.000000</td>\n",
       "    </tr>\n",
       "    <tr>\n",
       "      <th>25%</th>\n",
       "      <td>6.000000</td>\n",
       "      <td>-73.992148</td>\n",
       "      <td>40.734709</td>\n",
       "      <td>-73.991221</td>\n",
       "      <td>40.734544</td>\n",
       "      <td>1.000000</td>\n",
       "    </tr>\n",
       "    <tr>\n",
       "      <th>50%</th>\n",
       "      <td>8.500000</td>\n",
       "      <td>-73.981709</td>\n",
       "      <td>40.752686</td>\n",
       "      <td>-73.980214</td>\n",
       "      <td>40.753589</td>\n",
       "      <td>1.000000</td>\n",
       "    </tr>\n",
       "    <tr>\n",
       "      <th>75%</th>\n",
       "      <td>12.500000</td>\n",
       "      <td>-73.966802</td>\n",
       "      <td>40.767446</td>\n",
       "      <td>-73.963729</td>\n",
       "      <td>40.768137</td>\n",
       "      <td>2.000000</td>\n",
       "    </tr>\n",
       "    <tr>\n",
       "      <th>max</th>\n",
       "      <td>180.000000</td>\n",
       "      <td>40.766125</td>\n",
       "      <td>401.083332</td>\n",
       "      <td>40.802437</td>\n",
       "      <td>41.366138</td>\n",
       "      <td>6.000000</td>\n",
       "    </tr>\n",
       "  </tbody>\n",
       "</table>\n",
       "</div>"
      ],
      "text/plain": [
       "        fare_amount  pickup_longitude  pickup_latitude  dropoff_longitude  \\\n",
       "count  19996.000000      19996.000000     19996.000000       19996.000000   \n",
       "mean      11.306003        -72.478291        39.920885         -72.496931   \n",
       "std        9.540692         10.526409         6.679250          10.461556   \n",
       "min        0.010000        -74.438233       -74.006893         -84.654241   \n",
       "25%        6.000000        -73.992148        40.734709         -73.991221   \n",
       "50%        8.500000        -73.981709        40.752686         -73.980214   \n",
       "75%       12.500000        -73.966802        40.767446         -73.963729   \n",
       "max      180.000000         40.766125       401.083332          40.802437   \n",
       "\n",
       "       dropoff_latitude  passenger_count  \n",
       "count      19996.000000     19996.000000  \n",
       "mean          39.913447         1.657982  \n",
       "std            6.139835         1.283670  \n",
       "min          -74.006377         0.000000  \n",
       "25%           40.734544         1.000000  \n",
       "50%           40.753589         1.000000  \n",
       "75%           40.768137         2.000000  \n",
       "max           41.366138         6.000000  "
      ]
     },
     "execution_count": 99,
     "metadata": {},
     "output_type": "execute_result"
    }
   ],
   "source": [
    "df.describe()"
   ]
  },
  {
   "cell_type": "code",
   "execution_count": null,
   "id": "424a39b7",
   "metadata": {},
   "outputs": [],
   "source": []
  },
  {
   "cell_type": "markdown",
   "id": "3b196bac",
   "metadata": {},
   "source": [
    "### 2) Treating Longitude and Latitude Columns:"
   ]
  },
  {
   "cell_type": "markdown",
   "id": "05594fcb",
   "metadata": {},
   "source": [
    "**Latitude and longitude are a pair of numbers (coordinates) used to describe a position on the plane of a geographic coordinate system. The numbers are in decimal degrees format and range from -90 to 90 for latitude and -180 to 180 for longitude.**"
   ]
  },
  {
   "cell_type": "markdown",
   "id": "02d38593",
   "metadata": {},
   "source": [
    "**pickup_latitude has a maximum value of 401.08, which is not possible. We will Drop Rows having pickup_latitude value > 90.**"
   ]
  },
  {
   "cell_type": "code",
   "execution_count": 100,
   "id": "85e52d26",
   "metadata": {},
   "outputs": [],
   "source": [
    "df = df[df[\"pickup_latitude\"] <= 90]"
   ]
  },
  {
   "cell_type": "code",
   "execution_count": 101,
   "id": "00110ab9",
   "metadata": {},
   "outputs": [
    {
     "data": {
      "text/plain": [
       "(19995, 8)"
      ]
     },
     "execution_count": 101,
     "metadata": {},
     "output_type": "execute_result"
    }
   ],
   "source": [
    "df.shape"
   ]
  },
  {
   "cell_type": "code",
   "execution_count": 102,
   "id": "d2d7f291",
   "metadata": {},
   "outputs": [
    {
     "data": {
      "text/html": [
       "<div>\n",
       "<style scoped>\n",
       "    .dataframe tbody tr th:only-of-type {\n",
       "        vertical-align: middle;\n",
       "    }\n",
       "\n",
       "    .dataframe tbody tr th {\n",
       "        vertical-align: top;\n",
       "    }\n",
       "\n",
       "    .dataframe thead th {\n",
       "        text-align: right;\n",
       "    }\n",
       "</style>\n",
       "<table border=\"1\" class=\"dataframe\">\n",
       "  <thead>\n",
       "    <tr style=\"text-align: right;\">\n",
       "      <th></th>\n",
       "      <th>fare_amount</th>\n",
       "      <th>pickup_longitude</th>\n",
       "      <th>pickup_latitude</th>\n",
       "      <th>dropoff_longitude</th>\n",
       "      <th>dropoff_latitude</th>\n",
       "      <th>passenger_count</th>\n",
       "    </tr>\n",
       "  </thead>\n",
       "  <tbody>\n",
       "    <tr>\n",
       "      <th>count</th>\n",
       "      <td>19995.000000</td>\n",
       "      <td>19995.000000</td>\n",
       "      <td>19995.000000</td>\n",
       "      <td>19995.000000</td>\n",
       "      <td>19995.000000</td>\n",
       "      <td>19995.000000</td>\n",
       "    </tr>\n",
       "    <tr>\n",
       "      <th>mean</th>\n",
       "      <td>11.306403</td>\n",
       "      <td>-72.478218</td>\n",
       "      <td>39.902822</td>\n",
       "      <td>-72.496858</td>\n",
       "      <td>39.913404</td>\n",
       "      <td>1.658015</td>\n",
       "    </tr>\n",
       "    <tr>\n",
       "      <th>std</th>\n",
       "      <td>9.540763</td>\n",
       "      <td>10.526667</td>\n",
       "      <td>6.171743</td>\n",
       "      <td>10.461813</td>\n",
       "      <td>6.139985</td>\n",
       "      <td>1.283694</td>\n",
       "    </tr>\n",
       "    <tr>\n",
       "      <th>min</th>\n",
       "      <td>0.010000</td>\n",
       "      <td>-74.438233</td>\n",
       "      <td>-74.006893</td>\n",
       "      <td>-84.654241</td>\n",
       "      <td>-74.006377</td>\n",
       "      <td>0.000000</td>\n",
       "    </tr>\n",
       "    <tr>\n",
       "      <th>25%</th>\n",
       "      <td>6.000000</td>\n",
       "      <td>-73.992149</td>\n",
       "      <td>40.734709</td>\n",
       "      <td>-73.991221</td>\n",
       "      <td>40.734544</td>\n",
       "      <td>1.000000</td>\n",
       "    </tr>\n",
       "    <tr>\n",
       "      <th>50%</th>\n",
       "      <td>8.500000</td>\n",
       "      <td>-73.981710</td>\n",
       "      <td>40.752685</td>\n",
       "      <td>-73.980215</td>\n",
       "      <td>40.753587</td>\n",
       "      <td>1.000000</td>\n",
       "    </tr>\n",
       "    <tr>\n",
       "      <th>75%</th>\n",
       "      <td>12.500000</td>\n",
       "      <td>-73.966808</td>\n",
       "      <td>40.767443</td>\n",
       "      <td>-73.963737</td>\n",
       "      <td>40.768136</td>\n",
       "      <td>2.000000</td>\n",
       "    </tr>\n",
       "    <tr>\n",
       "      <th>max</th>\n",
       "      <td>180.000000</td>\n",
       "      <td>40.766125</td>\n",
       "      <td>41.366138</td>\n",
       "      <td>40.802437</td>\n",
       "      <td>41.366138</td>\n",
       "      <td>6.000000</td>\n",
       "    </tr>\n",
       "  </tbody>\n",
       "</table>\n",
       "</div>"
      ],
      "text/plain": [
       "        fare_amount  pickup_longitude  pickup_latitude  dropoff_longitude  \\\n",
       "count  19995.000000      19995.000000     19995.000000       19995.000000   \n",
       "mean      11.306403        -72.478218        39.902822         -72.496858   \n",
       "std        9.540763         10.526667         6.171743          10.461813   \n",
       "min        0.010000        -74.438233       -74.006893         -84.654241   \n",
       "25%        6.000000        -73.992149        40.734709         -73.991221   \n",
       "50%        8.500000        -73.981710        40.752685         -73.980215   \n",
       "75%       12.500000        -73.966808        40.767443         -73.963737   \n",
       "max      180.000000         40.766125        41.366138          40.802437   \n",
       "\n",
       "       dropoff_latitude  passenger_count  \n",
       "count      19995.000000     19995.000000  \n",
       "mean          39.913404         1.658015  \n",
       "std            6.139985         1.283694  \n",
       "min          -74.006377         0.000000  \n",
       "25%           40.734544         1.000000  \n",
       "50%           40.753587         1.000000  \n",
       "75%           40.768136         2.000000  \n",
       "max           41.366138         6.000000  "
      ]
     },
     "execution_count": 102,
     "metadata": {},
     "output_type": "execute_result"
    }
   ],
   "source": [
    "df.describe()"
   ]
  },
  {
   "cell_type": "code",
   "execution_count": null,
   "id": "265c17b7",
   "metadata": {},
   "outputs": [],
   "source": []
  },
  {
   "cell_type": "markdown",
   "id": "14ba1013",
   "metadata": {},
   "source": [
    "### 3) Understand the type of data:"
   ]
  },
  {
   "cell_type": "code",
   "execution_count": 103,
   "id": "29843e5a",
   "metadata": {},
   "outputs": [
    {
     "data": {
      "text/plain": [
       "key                   object\n",
       "fare_amount          float64\n",
       "pickup_datetime       object\n",
       "pickup_longitude     float64\n",
       "pickup_latitude      float64\n",
       "dropoff_longitude    float64\n",
       "dropoff_latitude     float64\n",
       "passenger_count        int64\n",
       "dtype: object"
      ]
     },
     "execution_count": 103,
     "metadata": {},
     "output_type": "execute_result"
    }
   ],
   "source": [
    "df.dtypes"
   ]
  },
  {
   "cell_type": "code",
   "execution_count": 104,
   "id": "20d46202",
   "metadata": {},
   "outputs": [
    {
     "data": {
      "text/plain": [
       "19995"
      ]
     },
     "execution_count": 104,
     "metadata": {},
     "output_type": "execute_result"
    }
   ],
   "source": [
    "df[\"key\"].nunique()"
   ]
  },
  {
   "cell_type": "code",
   "execution_count": null,
   "id": "fbf536c1",
   "metadata": {},
   "outputs": [],
   "source": []
  },
  {
   "cell_type": "code",
   "execution_count": 105,
   "id": "7a0b7cc8",
   "metadata": {},
   "outputs": [
    {
     "data": {
      "text/html": [
       "<div>\n",
       "<style scoped>\n",
       "    .dataframe tbody tr th:only-of-type {\n",
       "        vertical-align: middle;\n",
       "    }\n",
       "\n",
       "    .dataframe tbody tr th {\n",
       "        vertical-align: top;\n",
       "    }\n",
       "\n",
       "    .dataframe thead th {\n",
       "        text-align: right;\n",
       "    }\n",
       "</style>\n",
       "<table border=\"1\" class=\"dataframe\">\n",
       "  <thead>\n",
       "    <tr style=\"text-align: right;\">\n",
       "      <th></th>\n",
       "      <th>key</th>\n",
       "      <th>fare_amount</th>\n",
       "      <th>pickup_datetime</th>\n",
       "      <th>pickup_longitude</th>\n",
       "      <th>pickup_latitude</th>\n",
       "      <th>dropoff_longitude</th>\n",
       "      <th>dropoff_latitude</th>\n",
       "      <th>passenger_count</th>\n",
       "    </tr>\n",
       "  </thead>\n",
       "  <tbody>\n",
       "    <tr>\n",
       "      <th>0</th>\n",
       "      <td>2009-06-15 17:26:21.0000001</td>\n",
       "      <td>4.5</td>\n",
       "      <td>2009-06-15 17:26:21 UTC</td>\n",
       "      <td>-73.844311</td>\n",
       "      <td>40.721319</td>\n",
       "      <td>-73.841610</td>\n",
       "      <td>40.712278</td>\n",
       "      <td>1</td>\n",
       "    </tr>\n",
       "    <tr>\n",
       "      <th>1</th>\n",
       "      <td>2010-01-05 16:52:16.0000002</td>\n",
       "      <td>16.9</td>\n",
       "      <td>2010-01-05 16:52:16 UTC</td>\n",
       "      <td>-74.016048</td>\n",
       "      <td>40.711303</td>\n",
       "      <td>-73.979268</td>\n",
       "      <td>40.782004</td>\n",
       "      <td>1</td>\n",
       "    </tr>\n",
       "    <tr>\n",
       "      <th>2</th>\n",
       "      <td>2011-08-18 00:35:00.00000049</td>\n",
       "      <td>5.7</td>\n",
       "      <td>2011-08-18 00:35:00 UTC</td>\n",
       "      <td>-73.982738</td>\n",
       "      <td>40.761270</td>\n",
       "      <td>-73.991242</td>\n",
       "      <td>40.750562</td>\n",
       "      <td>2</td>\n",
       "    </tr>\n",
       "    <tr>\n",
       "      <th>3</th>\n",
       "      <td>2012-04-21 04:30:42.0000001</td>\n",
       "      <td>7.7</td>\n",
       "      <td>2012-04-21 04:30:42 UTC</td>\n",
       "      <td>-73.987130</td>\n",
       "      <td>40.733143</td>\n",
       "      <td>-73.991567</td>\n",
       "      <td>40.758092</td>\n",
       "      <td>1</td>\n",
       "    </tr>\n",
       "    <tr>\n",
       "      <th>4</th>\n",
       "      <td>2010-03-09 07:51:00.000000135</td>\n",
       "      <td>5.3</td>\n",
       "      <td>2010-03-09 07:51:00 UTC</td>\n",
       "      <td>-73.968095</td>\n",
       "      <td>40.768008</td>\n",
       "      <td>-73.956655</td>\n",
       "      <td>40.783762</td>\n",
       "      <td>1</td>\n",
       "    </tr>\n",
       "  </tbody>\n",
       "</table>\n",
       "</div>"
      ],
      "text/plain": [
       "                             key  fare_amount          pickup_datetime  \\\n",
       "0    2009-06-15 17:26:21.0000001          4.5  2009-06-15 17:26:21 UTC   \n",
       "1    2010-01-05 16:52:16.0000002         16.9  2010-01-05 16:52:16 UTC   \n",
       "2   2011-08-18 00:35:00.00000049          5.7  2011-08-18 00:35:00 UTC   \n",
       "3    2012-04-21 04:30:42.0000001          7.7  2012-04-21 04:30:42 UTC   \n",
       "4  2010-03-09 07:51:00.000000135          5.3  2010-03-09 07:51:00 UTC   \n",
       "\n",
       "   pickup_longitude  pickup_latitude  dropoff_longitude  dropoff_latitude  \\\n",
       "0        -73.844311        40.721319         -73.841610         40.712278   \n",
       "1        -74.016048        40.711303         -73.979268         40.782004   \n",
       "2        -73.982738        40.761270         -73.991242         40.750562   \n",
       "3        -73.987130        40.733143         -73.991567         40.758092   \n",
       "4        -73.968095        40.768008         -73.956655         40.783762   \n",
       "\n",
       "   passenger_count  \n",
       "0                1  \n",
       "1                1  \n",
       "2                2  \n",
       "3                1  \n",
       "4                1  "
      ]
     },
     "execution_count": 105,
     "metadata": {},
     "output_type": "execute_result"
    }
   ],
   "source": [
    "df.head()"
   ]
  },
  {
   "cell_type": "code",
   "execution_count": null,
   "id": "c38d4303",
   "metadata": {},
   "outputs": [],
   "source": []
  },
  {
   "cell_type": "markdown",
   "id": "ae670c67",
   "metadata": {},
   "source": [
    "**We can Convert \"pickup_datetime\" in Date Time Object so that it can be used to Extract Information like Year, Month, Date, Weekday etc.**"
   ]
  },
  {
   "cell_type": "code",
   "execution_count": 106,
   "id": "ecf1897b",
   "metadata": {},
   "outputs": [],
   "source": [
    "df[\"pickup_datetime\"] = pd.to_datetime(df[\"pickup_datetime\"])"
   ]
  },
  {
   "cell_type": "code",
   "execution_count": 107,
   "id": "6325ec1c",
   "metadata": {},
   "outputs": [
    {
     "data": {
      "text/plain": [
       "key                               object\n",
       "fare_amount                      float64\n",
       "pickup_datetime      datetime64[ns, UTC]\n",
       "pickup_longitude                 float64\n",
       "pickup_latitude                  float64\n",
       "dropoff_longitude                float64\n",
       "dropoff_latitude                 float64\n",
       "passenger_count                    int64\n",
       "dtype: object"
      ]
     },
     "execution_count": 107,
     "metadata": {},
     "output_type": "execute_result"
    }
   ],
   "source": [
    "df.dtypes"
   ]
  },
  {
   "cell_type": "code",
   "execution_count": 108,
   "id": "aca0539a",
   "metadata": {},
   "outputs": [],
   "source": [
    "df[\"Day\"] = df[\"pickup_datetime\"].dt.day"
   ]
  },
  {
   "cell_type": "code",
   "execution_count": 109,
   "id": "10da86f4",
   "metadata": {},
   "outputs": [],
   "source": [
    "df[\"Month\"] = df[\"pickup_datetime\"].dt.month"
   ]
  },
  {
   "cell_type": "code",
   "execution_count": 110,
   "id": "ffca89a2",
   "metadata": {},
   "outputs": [],
   "source": [
    "df[\"Year\"] = df[\"pickup_datetime\"].dt.year"
   ]
  },
  {
   "cell_type": "code",
   "execution_count": 111,
   "id": "9b700665",
   "metadata": {},
   "outputs": [],
   "source": [
    "df[\"Hour\"] = df[\"pickup_datetime\"].dt.hour"
   ]
  },
  {
   "cell_type": "code",
   "execution_count": 112,
   "id": "d3a29868",
   "metadata": {},
   "outputs": [],
   "source": [
    "df[\"Weekday\"] = df[\"pickup_datetime\"].dt.weekday"
   ]
  },
  {
   "cell_type": "code",
   "execution_count": 113,
   "id": "2f29495e",
   "metadata": {},
   "outputs": [
    {
     "data": {
      "text/html": [
       "<div>\n",
       "<style scoped>\n",
       "    .dataframe tbody tr th:only-of-type {\n",
       "        vertical-align: middle;\n",
       "    }\n",
       "\n",
       "    .dataframe tbody tr th {\n",
       "        vertical-align: top;\n",
       "    }\n",
       "\n",
       "    .dataframe thead th {\n",
       "        text-align: right;\n",
       "    }\n",
       "</style>\n",
       "<table border=\"1\" class=\"dataframe\">\n",
       "  <thead>\n",
       "    <tr style=\"text-align: right;\">\n",
       "      <th></th>\n",
       "      <th>key</th>\n",
       "      <th>fare_amount</th>\n",
       "      <th>pickup_datetime</th>\n",
       "      <th>pickup_longitude</th>\n",
       "      <th>pickup_latitude</th>\n",
       "      <th>dropoff_longitude</th>\n",
       "      <th>dropoff_latitude</th>\n",
       "      <th>passenger_count</th>\n",
       "      <th>Day</th>\n",
       "      <th>Month</th>\n",
       "      <th>Year</th>\n",
       "      <th>Hour</th>\n",
       "      <th>Weekday</th>\n",
       "    </tr>\n",
       "  </thead>\n",
       "  <tbody>\n",
       "    <tr>\n",
       "      <th>0</th>\n",
       "      <td>2009-06-15 17:26:21.0000001</td>\n",
       "      <td>4.5</td>\n",
       "      <td>2009-06-15 17:26:21+00:00</td>\n",
       "      <td>-73.844311</td>\n",
       "      <td>40.721319</td>\n",
       "      <td>-73.841610</td>\n",
       "      <td>40.712278</td>\n",
       "      <td>1</td>\n",
       "      <td>15</td>\n",
       "      <td>6</td>\n",
       "      <td>2009</td>\n",
       "      <td>17</td>\n",
       "      <td>0</td>\n",
       "    </tr>\n",
       "    <tr>\n",
       "      <th>1</th>\n",
       "      <td>2010-01-05 16:52:16.0000002</td>\n",
       "      <td>16.9</td>\n",
       "      <td>2010-01-05 16:52:16+00:00</td>\n",
       "      <td>-74.016048</td>\n",
       "      <td>40.711303</td>\n",
       "      <td>-73.979268</td>\n",
       "      <td>40.782004</td>\n",
       "      <td>1</td>\n",
       "      <td>5</td>\n",
       "      <td>1</td>\n",
       "      <td>2010</td>\n",
       "      <td>16</td>\n",
       "      <td>1</td>\n",
       "    </tr>\n",
       "    <tr>\n",
       "      <th>2</th>\n",
       "      <td>2011-08-18 00:35:00.00000049</td>\n",
       "      <td>5.7</td>\n",
       "      <td>2011-08-18 00:35:00+00:00</td>\n",
       "      <td>-73.982738</td>\n",
       "      <td>40.761270</td>\n",
       "      <td>-73.991242</td>\n",
       "      <td>40.750562</td>\n",
       "      <td>2</td>\n",
       "      <td>18</td>\n",
       "      <td>8</td>\n",
       "      <td>2011</td>\n",
       "      <td>0</td>\n",
       "      <td>3</td>\n",
       "    </tr>\n",
       "    <tr>\n",
       "      <th>3</th>\n",
       "      <td>2012-04-21 04:30:42.0000001</td>\n",
       "      <td>7.7</td>\n",
       "      <td>2012-04-21 04:30:42+00:00</td>\n",
       "      <td>-73.987130</td>\n",
       "      <td>40.733143</td>\n",
       "      <td>-73.991567</td>\n",
       "      <td>40.758092</td>\n",
       "      <td>1</td>\n",
       "      <td>21</td>\n",
       "      <td>4</td>\n",
       "      <td>2012</td>\n",
       "      <td>4</td>\n",
       "      <td>5</td>\n",
       "    </tr>\n",
       "    <tr>\n",
       "      <th>4</th>\n",
       "      <td>2010-03-09 07:51:00.000000135</td>\n",
       "      <td>5.3</td>\n",
       "      <td>2010-03-09 07:51:00+00:00</td>\n",
       "      <td>-73.968095</td>\n",
       "      <td>40.768008</td>\n",
       "      <td>-73.956655</td>\n",
       "      <td>40.783762</td>\n",
       "      <td>1</td>\n",
       "      <td>9</td>\n",
       "      <td>3</td>\n",
       "      <td>2010</td>\n",
       "      <td>7</td>\n",
       "      <td>1</td>\n",
       "    </tr>\n",
       "  </tbody>\n",
       "</table>\n",
       "</div>"
      ],
      "text/plain": [
       "                             key  fare_amount           pickup_datetime  \\\n",
       "0    2009-06-15 17:26:21.0000001          4.5 2009-06-15 17:26:21+00:00   \n",
       "1    2010-01-05 16:52:16.0000002         16.9 2010-01-05 16:52:16+00:00   \n",
       "2   2011-08-18 00:35:00.00000049          5.7 2011-08-18 00:35:00+00:00   \n",
       "3    2012-04-21 04:30:42.0000001          7.7 2012-04-21 04:30:42+00:00   \n",
       "4  2010-03-09 07:51:00.000000135          5.3 2010-03-09 07:51:00+00:00   \n",
       "\n",
       "   pickup_longitude  pickup_latitude  dropoff_longitude  dropoff_latitude  \\\n",
       "0        -73.844311        40.721319         -73.841610         40.712278   \n",
       "1        -74.016048        40.711303         -73.979268         40.782004   \n",
       "2        -73.982738        40.761270         -73.991242         40.750562   \n",
       "3        -73.987130        40.733143         -73.991567         40.758092   \n",
       "4        -73.968095        40.768008         -73.956655         40.783762   \n",
       "\n",
       "   passenger_count  Day  Month  Year  Hour  Weekday  \n",
       "0                1   15      6  2009    17        0  \n",
       "1                1    5      1  2010    16        1  \n",
       "2                2   18      8  2011     0        3  \n",
       "3                1   21      4  2012     4        5  \n",
       "4                1    9      3  2010     7        1  "
      ]
     },
     "execution_count": 113,
     "metadata": {},
     "output_type": "execute_result"
    }
   ],
   "source": [
    "df.head()"
   ]
  },
  {
   "cell_type": "code",
   "execution_count": null,
   "id": "a8e323f4",
   "metadata": {},
   "outputs": [],
   "source": []
  },
  {
   "cell_type": "markdown",
   "id": "88176326",
   "metadata": {},
   "source": [
    "**We can Now Set \"key\" as Index as it has Unique value for all observations and we can drop \"pickup_datetime\" as it has been converted in more useful information like year, month, day, weekday and hour.**"
   ]
  },
  {
   "cell_type": "code",
   "execution_count": 114,
   "id": "2780de6f",
   "metadata": {},
   "outputs": [],
   "source": [
    "df = df.set_index(\"key\")"
   ]
  },
  {
   "cell_type": "code",
   "execution_count": 115,
   "id": "9dfb871e",
   "metadata": {},
   "outputs": [
    {
     "data": {
      "text/html": [
       "<div>\n",
       "<style scoped>\n",
       "    .dataframe tbody tr th:only-of-type {\n",
       "        vertical-align: middle;\n",
       "    }\n",
       "\n",
       "    .dataframe tbody tr th {\n",
       "        vertical-align: top;\n",
       "    }\n",
       "\n",
       "    .dataframe thead th {\n",
       "        text-align: right;\n",
       "    }\n",
       "</style>\n",
       "<table border=\"1\" class=\"dataframe\">\n",
       "  <thead>\n",
       "    <tr style=\"text-align: right;\">\n",
       "      <th></th>\n",
       "      <th>fare_amount</th>\n",
       "      <th>pickup_datetime</th>\n",
       "      <th>pickup_longitude</th>\n",
       "      <th>pickup_latitude</th>\n",
       "      <th>dropoff_longitude</th>\n",
       "      <th>dropoff_latitude</th>\n",
       "      <th>passenger_count</th>\n",
       "      <th>Day</th>\n",
       "      <th>Month</th>\n",
       "      <th>Year</th>\n",
       "      <th>Hour</th>\n",
       "      <th>Weekday</th>\n",
       "    </tr>\n",
       "    <tr>\n",
       "      <th>key</th>\n",
       "      <th></th>\n",
       "      <th></th>\n",
       "      <th></th>\n",
       "      <th></th>\n",
       "      <th></th>\n",
       "      <th></th>\n",
       "      <th></th>\n",
       "      <th></th>\n",
       "      <th></th>\n",
       "      <th></th>\n",
       "      <th></th>\n",
       "      <th></th>\n",
       "    </tr>\n",
       "  </thead>\n",
       "  <tbody>\n",
       "    <tr>\n",
       "      <th>2009-06-15 17:26:21.0000001</th>\n",
       "      <td>4.5</td>\n",
       "      <td>2009-06-15 17:26:21+00:00</td>\n",
       "      <td>-73.844311</td>\n",
       "      <td>40.721319</td>\n",
       "      <td>-73.841610</td>\n",
       "      <td>40.712278</td>\n",
       "      <td>1</td>\n",
       "      <td>15</td>\n",
       "      <td>6</td>\n",
       "      <td>2009</td>\n",
       "      <td>17</td>\n",
       "      <td>0</td>\n",
       "    </tr>\n",
       "    <tr>\n",
       "      <th>2010-01-05 16:52:16.0000002</th>\n",
       "      <td>16.9</td>\n",
       "      <td>2010-01-05 16:52:16+00:00</td>\n",
       "      <td>-74.016048</td>\n",
       "      <td>40.711303</td>\n",
       "      <td>-73.979268</td>\n",
       "      <td>40.782004</td>\n",
       "      <td>1</td>\n",
       "      <td>5</td>\n",
       "      <td>1</td>\n",
       "      <td>2010</td>\n",
       "      <td>16</td>\n",
       "      <td>1</td>\n",
       "    </tr>\n",
       "    <tr>\n",
       "      <th>2011-08-18 00:35:00.00000049</th>\n",
       "      <td>5.7</td>\n",
       "      <td>2011-08-18 00:35:00+00:00</td>\n",
       "      <td>-73.982738</td>\n",
       "      <td>40.761270</td>\n",
       "      <td>-73.991242</td>\n",
       "      <td>40.750562</td>\n",
       "      <td>2</td>\n",
       "      <td>18</td>\n",
       "      <td>8</td>\n",
       "      <td>2011</td>\n",
       "      <td>0</td>\n",
       "      <td>3</td>\n",
       "    </tr>\n",
       "    <tr>\n",
       "      <th>2012-04-21 04:30:42.0000001</th>\n",
       "      <td>7.7</td>\n",
       "      <td>2012-04-21 04:30:42+00:00</td>\n",
       "      <td>-73.987130</td>\n",
       "      <td>40.733143</td>\n",
       "      <td>-73.991567</td>\n",
       "      <td>40.758092</td>\n",
       "      <td>1</td>\n",
       "      <td>21</td>\n",
       "      <td>4</td>\n",
       "      <td>2012</td>\n",
       "      <td>4</td>\n",
       "      <td>5</td>\n",
       "    </tr>\n",
       "    <tr>\n",
       "      <th>2010-03-09 07:51:00.000000135</th>\n",
       "      <td>5.3</td>\n",
       "      <td>2010-03-09 07:51:00+00:00</td>\n",
       "      <td>-73.968095</td>\n",
       "      <td>40.768008</td>\n",
       "      <td>-73.956655</td>\n",
       "      <td>40.783762</td>\n",
       "      <td>1</td>\n",
       "      <td>9</td>\n",
       "      <td>3</td>\n",
       "      <td>2010</td>\n",
       "      <td>7</td>\n",
       "      <td>1</td>\n",
       "    </tr>\n",
       "  </tbody>\n",
       "</table>\n",
       "</div>"
      ],
      "text/plain": [
       "                               fare_amount           pickup_datetime  \\\n",
       "key                                                                    \n",
       "2009-06-15 17:26:21.0000001            4.5 2009-06-15 17:26:21+00:00   \n",
       "2010-01-05 16:52:16.0000002           16.9 2010-01-05 16:52:16+00:00   \n",
       "2011-08-18 00:35:00.00000049           5.7 2011-08-18 00:35:00+00:00   \n",
       "2012-04-21 04:30:42.0000001            7.7 2012-04-21 04:30:42+00:00   \n",
       "2010-03-09 07:51:00.000000135          5.3 2010-03-09 07:51:00+00:00   \n",
       "\n",
       "                               pickup_longitude  pickup_latitude  \\\n",
       "key                                                                \n",
       "2009-06-15 17:26:21.0000001          -73.844311        40.721319   \n",
       "2010-01-05 16:52:16.0000002          -74.016048        40.711303   \n",
       "2011-08-18 00:35:00.00000049         -73.982738        40.761270   \n",
       "2012-04-21 04:30:42.0000001          -73.987130        40.733143   \n",
       "2010-03-09 07:51:00.000000135        -73.968095        40.768008   \n",
       "\n",
       "                               dropoff_longitude  dropoff_latitude  \\\n",
       "key                                                                  \n",
       "2009-06-15 17:26:21.0000001           -73.841610         40.712278   \n",
       "2010-01-05 16:52:16.0000002           -73.979268         40.782004   \n",
       "2011-08-18 00:35:00.00000049          -73.991242         40.750562   \n",
       "2012-04-21 04:30:42.0000001           -73.991567         40.758092   \n",
       "2010-03-09 07:51:00.000000135         -73.956655         40.783762   \n",
       "\n",
       "                               passenger_count  Day  Month  Year  Hour  \\\n",
       "key                                                                      \n",
       "2009-06-15 17:26:21.0000001                  1   15      6  2009    17   \n",
       "2010-01-05 16:52:16.0000002                  1    5      1  2010    16   \n",
       "2011-08-18 00:35:00.00000049                 2   18      8  2011     0   \n",
       "2012-04-21 04:30:42.0000001                  1   21      4  2012     4   \n",
       "2010-03-09 07:51:00.000000135                1    9      3  2010     7   \n",
       "\n",
       "                               Weekday  \n",
       "key                                     \n",
       "2009-06-15 17:26:21.0000001          0  \n",
       "2010-01-05 16:52:16.0000002          1  \n",
       "2011-08-18 00:35:00.00000049         3  \n",
       "2012-04-21 04:30:42.0000001          5  \n",
       "2010-03-09 07:51:00.000000135        1  "
      ]
     },
     "execution_count": 115,
     "metadata": {},
     "output_type": "execute_result"
    }
   ],
   "source": [
    "df.head()"
   ]
  },
  {
   "cell_type": "code",
   "execution_count": 116,
   "id": "6ae140bd",
   "metadata": {},
   "outputs": [],
   "source": [
    "df = df.drop(\"pickup_datetime\", axis= 1)"
   ]
  },
  {
   "cell_type": "code",
   "execution_count": 117,
   "id": "4235a85e",
   "metadata": {},
   "outputs": [
    {
     "data": {
      "text/html": [
       "<div>\n",
       "<style scoped>\n",
       "    .dataframe tbody tr th:only-of-type {\n",
       "        vertical-align: middle;\n",
       "    }\n",
       "\n",
       "    .dataframe tbody tr th {\n",
       "        vertical-align: top;\n",
       "    }\n",
       "\n",
       "    .dataframe thead th {\n",
       "        text-align: right;\n",
       "    }\n",
       "</style>\n",
       "<table border=\"1\" class=\"dataframe\">\n",
       "  <thead>\n",
       "    <tr style=\"text-align: right;\">\n",
       "      <th></th>\n",
       "      <th>fare_amount</th>\n",
       "      <th>pickup_longitude</th>\n",
       "      <th>pickup_latitude</th>\n",
       "      <th>dropoff_longitude</th>\n",
       "      <th>dropoff_latitude</th>\n",
       "      <th>passenger_count</th>\n",
       "      <th>Day</th>\n",
       "      <th>Month</th>\n",
       "      <th>Year</th>\n",
       "      <th>Hour</th>\n",
       "      <th>Weekday</th>\n",
       "    </tr>\n",
       "    <tr>\n",
       "      <th>key</th>\n",
       "      <th></th>\n",
       "      <th></th>\n",
       "      <th></th>\n",
       "      <th></th>\n",
       "      <th></th>\n",
       "      <th></th>\n",
       "      <th></th>\n",
       "      <th></th>\n",
       "      <th></th>\n",
       "      <th></th>\n",
       "      <th></th>\n",
       "    </tr>\n",
       "  </thead>\n",
       "  <tbody>\n",
       "    <tr>\n",
       "      <th>2009-06-15 17:26:21.0000001</th>\n",
       "      <td>4.5</td>\n",
       "      <td>-73.844311</td>\n",
       "      <td>40.721319</td>\n",
       "      <td>-73.841610</td>\n",
       "      <td>40.712278</td>\n",
       "      <td>1</td>\n",
       "      <td>15</td>\n",
       "      <td>6</td>\n",
       "      <td>2009</td>\n",
       "      <td>17</td>\n",
       "      <td>0</td>\n",
       "    </tr>\n",
       "    <tr>\n",
       "      <th>2010-01-05 16:52:16.0000002</th>\n",
       "      <td>16.9</td>\n",
       "      <td>-74.016048</td>\n",
       "      <td>40.711303</td>\n",
       "      <td>-73.979268</td>\n",
       "      <td>40.782004</td>\n",
       "      <td>1</td>\n",
       "      <td>5</td>\n",
       "      <td>1</td>\n",
       "      <td>2010</td>\n",
       "      <td>16</td>\n",
       "      <td>1</td>\n",
       "    </tr>\n",
       "    <tr>\n",
       "      <th>2011-08-18 00:35:00.00000049</th>\n",
       "      <td>5.7</td>\n",
       "      <td>-73.982738</td>\n",
       "      <td>40.761270</td>\n",
       "      <td>-73.991242</td>\n",
       "      <td>40.750562</td>\n",
       "      <td>2</td>\n",
       "      <td>18</td>\n",
       "      <td>8</td>\n",
       "      <td>2011</td>\n",
       "      <td>0</td>\n",
       "      <td>3</td>\n",
       "    </tr>\n",
       "    <tr>\n",
       "      <th>2012-04-21 04:30:42.0000001</th>\n",
       "      <td>7.7</td>\n",
       "      <td>-73.987130</td>\n",
       "      <td>40.733143</td>\n",
       "      <td>-73.991567</td>\n",
       "      <td>40.758092</td>\n",
       "      <td>1</td>\n",
       "      <td>21</td>\n",
       "      <td>4</td>\n",
       "      <td>2012</td>\n",
       "      <td>4</td>\n",
       "      <td>5</td>\n",
       "    </tr>\n",
       "    <tr>\n",
       "      <th>2010-03-09 07:51:00.000000135</th>\n",
       "      <td>5.3</td>\n",
       "      <td>-73.968095</td>\n",
       "      <td>40.768008</td>\n",
       "      <td>-73.956655</td>\n",
       "      <td>40.783762</td>\n",
       "      <td>1</td>\n",
       "      <td>9</td>\n",
       "      <td>3</td>\n",
       "      <td>2010</td>\n",
       "      <td>7</td>\n",
       "      <td>1</td>\n",
       "    </tr>\n",
       "  </tbody>\n",
       "</table>\n",
       "</div>"
      ],
      "text/plain": [
       "                               fare_amount  pickup_longitude  pickup_latitude  \\\n",
       "key                                                                             \n",
       "2009-06-15 17:26:21.0000001            4.5        -73.844311        40.721319   \n",
       "2010-01-05 16:52:16.0000002           16.9        -74.016048        40.711303   \n",
       "2011-08-18 00:35:00.00000049           5.7        -73.982738        40.761270   \n",
       "2012-04-21 04:30:42.0000001            7.7        -73.987130        40.733143   \n",
       "2010-03-09 07:51:00.000000135          5.3        -73.968095        40.768008   \n",
       "\n",
       "                               dropoff_longitude  dropoff_latitude  \\\n",
       "key                                                                  \n",
       "2009-06-15 17:26:21.0000001           -73.841610         40.712278   \n",
       "2010-01-05 16:52:16.0000002           -73.979268         40.782004   \n",
       "2011-08-18 00:35:00.00000049          -73.991242         40.750562   \n",
       "2012-04-21 04:30:42.0000001           -73.991567         40.758092   \n",
       "2010-03-09 07:51:00.000000135         -73.956655         40.783762   \n",
       "\n",
       "                               passenger_count  Day  Month  Year  Hour  \\\n",
       "key                                                                      \n",
       "2009-06-15 17:26:21.0000001                  1   15      6  2009    17   \n",
       "2010-01-05 16:52:16.0000002                  1    5      1  2010    16   \n",
       "2011-08-18 00:35:00.00000049                 2   18      8  2011     0   \n",
       "2012-04-21 04:30:42.0000001                  1   21      4  2012     4   \n",
       "2010-03-09 07:51:00.000000135                1    9      3  2010     7   \n",
       "\n",
       "                               Weekday  \n",
       "key                                     \n",
       "2009-06-15 17:26:21.0000001          0  \n",
       "2010-01-05 16:52:16.0000002          1  \n",
       "2011-08-18 00:35:00.00000049         3  \n",
       "2012-04-21 04:30:42.0000001          5  \n",
       "2010-03-09 07:51:00.000000135        1  "
      ]
     },
     "execution_count": 117,
     "metadata": {},
     "output_type": "execute_result"
    }
   ],
   "source": [
    "df.head()"
   ]
  },
  {
   "cell_type": "code",
   "execution_count": null,
   "id": "e1c122b3",
   "metadata": {},
   "outputs": [],
   "source": []
  },
  {
   "cell_type": "markdown",
   "id": "1b20593d",
   "metadata": {},
   "source": [
    "### 4) Identify the output variable:"
   ]
  },
  {
   "cell_type": "code",
   "execution_count": 118,
   "id": "88151d18",
   "metadata": {},
   "outputs": [],
   "source": [
    "# \"fare_amount\" is our Target / Output Variable."
   ]
  },
  {
   "cell_type": "code",
   "execution_count": 119,
   "id": "6eeea690",
   "metadata": {},
   "outputs": [
    {
     "data": {
      "text/plain": [
       "<Figure size 1600x1200 with 0 Axes>"
      ]
     },
     "metadata": {},
     "output_type": "display_data"
    },
    {
     "data": {
      "image/png": "[encoded data removed]",
      "text/plain": [
       "<Figure size 360x360 with 1 Axes>"
      ]
     },
     "metadata": {
      "needs_background": "light"
     },
     "output_type": "display_data"
    }
   ],
   "source": [
    "plt.figure(figsize= (8,6), dpi= 200)\n",
    "\n",
    "sns.displot(data= df, x= \"fare_amount\")\n",
    "\n",
    "plt.show()"
   ]
  },
  {
   "cell_type": "markdown",
   "id": "2fd3ddf3",
   "metadata": {},
   "source": [
    "**fare_amount distribution is Highly Right Skewed shoeing that most of the rides have fare amounts in Range of 0-50.**"
   ]
  },
  {
   "cell_type": "code",
   "execution_count": null,
   "id": "1bc81473",
   "metadata": {},
   "outputs": [],
   "source": []
  },
  {
   "cell_type": "markdown",
   "id": "467a3169",
   "metadata": {},
   "source": [
    "### 5)  Identify the factors which affect the output variable:"
   ]
  },
  {
   "cell_type": "code",
   "execution_count": 120,
   "id": "892f62c1",
   "metadata": {},
   "outputs": [
    {
     "data": {
      "image/png": "[encoded data removed]",
      "text/plain": [
       "<Figure size 2000x1200 with 2 Axes>"
      ]
     },
     "metadata": {
      "needs_background": "light"
     },
     "output_type": "display_data"
    }
   ],
   "source": [
    "plt.figure(figsize= (10,6), dpi= 200)\n",
    "\n",
    "sns.heatmap(df.corr(), annot= True)\n",
    "\n",
    "plt.show()"
   ]
  },
  {
   "cell_type": "markdown",
   "id": "a5285a10",
   "metadata": {},
   "source": [
    "**Fare Amount has no considerable Positive or Negative Correlation with any Feature.**"
   ]
  },
  {
   "cell_type": "code",
   "execution_count": null,
   "id": "615f721a",
   "metadata": {},
   "outputs": [],
   "source": []
  },
  {
   "cell_type": "markdown",
   "id": "78f9106a",
   "metadata": {},
   "source": [
    "### 6) Check if there are any biases in your dataset:"
   ]
  },
  {
   "cell_type": "markdown",
   "id": "94151720",
   "metadata": {},
   "source": [
    "**There are High Correlations Between Latitudes and Longitudes, which are obvious.**\n",
    "\n",
    "**No other Multicolinearity or Biases in data.**"
   ]
  },
  {
   "cell_type": "code",
   "execution_count": null,
   "id": "592b59c9",
   "metadata": {},
   "outputs": [],
   "source": []
  },
  {
   "cell_type": "markdown",
   "id": "0fdec6bb",
   "metadata": {},
   "source": [
    "### 7) Count the null values existing in columns:"
   ]
  },
  {
   "cell_type": "code",
   "execution_count": 121,
   "id": "d4e1d678",
   "metadata": {},
   "outputs": [
    {
     "data": {
      "text/plain": [
       "fare_amount          0\n",
       "pickup_longitude     0\n",
       "pickup_latitude      0\n",
       "dropoff_longitude    0\n",
       "dropoff_latitude     0\n",
       "passenger_count      0\n",
       "Day                  0\n",
       "Month                0\n",
       "Year                 0\n",
       "Hour                 0\n",
       "Weekday              0\n",
       "dtype: int64"
      ]
     },
     "execution_count": 121,
     "metadata": {},
     "output_type": "execute_result"
    }
   ],
   "source": [
    "df.isna().sum()"
   ]
  },
  {
   "cell_type": "markdown",
   "id": "51a0ef98",
   "metadata": {},
   "source": [
    "**There are No Missing Values in Data.**"
   ]
  },
  {
   "cell_type": "code",
   "execution_count": null,
   "id": "1c3e286c",
   "metadata": {},
   "outputs": [],
   "source": []
  },
  {
   "cell_type": "markdown",
   "id": "9e2679f5",
   "metadata": {},
   "source": [
    "### 8) EDA:"
   ]
  },
  {
   "cell_type": "code",
   "execution_count": 122,
   "id": "0914ea90",
   "metadata": {},
   "outputs": [
    {
     "data": {
      "text/html": [
       "<div>\n",
       "<style scoped>\n",
       "    .dataframe tbody tr th:only-of-type {\n",
       "        vertical-align: middle;\n",
       "    }\n",
       "\n",
       "    .dataframe tbody tr th {\n",
       "        vertical-align: top;\n",
       "    }\n",
       "\n",
       "    .dataframe thead th {\n",
       "        text-align: right;\n",
       "    }\n",
       "</style>\n",
       "<table border=\"1\" class=\"dataframe\">\n",
       "  <thead>\n",
       "    <tr style=\"text-align: right;\">\n",
       "      <th></th>\n",
       "      <th>fare_amount</th>\n",
       "      <th>pickup_longitude</th>\n",
       "      <th>pickup_latitude</th>\n",
       "      <th>dropoff_longitude</th>\n",
       "      <th>dropoff_latitude</th>\n",
       "      <th>passenger_count</th>\n",
       "      <th>Day</th>\n",
       "      <th>Month</th>\n",
       "      <th>Year</th>\n",
       "      <th>Hour</th>\n",
       "      <th>Weekday</th>\n",
       "    </tr>\n",
       "    <tr>\n",
       "      <th>key</th>\n",
       "      <th></th>\n",
       "      <th></th>\n",
       "      <th></th>\n",
       "      <th></th>\n",
       "      <th></th>\n",
       "      <th></th>\n",
       "      <th></th>\n",
       "      <th></th>\n",
       "      <th></th>\n",
       "      <th></th>\n",
       "      <th></th>\n",
       "    </tr>\n",
       "  </thead>\n",
       "  <tbody>\n",
       "    <tr>\n",
       "      <th>2009-06-15 17:26:21.0000001</th>\n",
       "      <td>4.5</td>\n",
       "      <td>-73.844311</td>\n",
       "      <td>40.721319</td>\n",
       "      <td>-73.841610</td>\n",
       "      <td>40.712278</td>\n",
       "      <td>1</td>\n",
       "      <td>15</td>\n",
       "      <td>6</td>\n",
       "      <td>2009</td>\n",
       "      <td>17</td>\n",
       "      <td>0</td>\n",
       "    </tr>\n",
       "    <tr>\n",
       "      <th>2010-01-05 16:52:16.0000002</th>\n",
       "      <td>16.9</td>\n",
       "      <td>-74.016048</td>\n",
       "      <td>40.711303</td>\n",
       "      <td>-73.979268</td>\n",
       "      <td>40.782004</td>\n",
       "      <td>1</td>\n",
       "      <td>5</td>\n",
       "      <td>1</td>\n",
       "      <td>2010</td>\n",
       "      <td>16</td>\n",
       "      <td>1</td>\n",
       "    </tr>\n",
       "    <tr>\n",
       "      <th>2011-08-18 00:35:00.00000049</th>\n",
       "      <td>5.7</td>\n",
       "      <td>-73.982738</td>\n",
       "      <td>40.761270</td>\n",
       "      <td>-73.991242</td>\n",
       "      <td>40.750562</td>\n",
       "      <td>2</td>\n",
       "      <td>18</td>\n",
       "      <td>8</td>\n",
       "      <td>2011</td>\n",
       "      <td>0</td>\n",
       "      <td>3</td>\n",
       "    </tr>\n",
       "    <tr>\n",
       "      <th>2012-04-21 04:30:42.0000001</th>\n",
       "      <td>7.7</td>\n",
       "      <td>-73.987130</td>\n",
       "      <td>40.733143</td>\n",
       "      <td>-73.991567</td>\n",
       "      <td>40.758092</td>\n",
       "      <td>1</td>\n",
       "      <td>21</td>\n",
       "      <td>4</td>\n",
       "      <td>2012</td>\n",
       "      <td>4</td>\n",
       "      <td>5</td>\n",
       "    </tr>\n",
       "    <tr>\n",
       "      <th>2010-03-09 07:51:00.000000135</th>\n",
       "      <td>5.3</td>\n",
       "      <td>-73.968095</td>\n",
       "      <td>40.768008</td>\n",
       "      <td>-73.956655</td>\n",
       "      <td>40.783762</td>\n",
       "      <td>1</td>\n",
       "      <td>9</td>\n",
       "      <td>3</td>\n",
       "      <td>2010</td>\n",
       "      <td>7</td>\n",
       "      <td>1</td>\n",
       "    </tr>\n",
       "  </tbody>\n",
       "</table>\n",
       "</div>"
      ],
      "text/plain": [
       "                               fare_amount  pickup_longitude  pickup_latitude  \\\n",
       "key                                                                             \n",
       "2009-06-15 17:26:21.0000001            4.5        -73.844311        40.721319   \n",
       "2010-01-05 16:52:16.0000002           16.9        -74.016048        40.711303   \n",
       "2011-08-18 00:35:00.00000049           5.7        -73.982738        40.761270   \n",
       "2012-04-21 04:30:42.0000001            7.7        -73.987130        40.733143   \n",
       "2010-03-09 07:51:00.000000135          5.3        -73.968095        40.768008   \n",
       "\n",
       "                               dropoff_longitude  dropoff_latitude  \\\n",
       "key                                                                  \n",
       "2009-06-15 17:26:21.0000001           -73.841610         40.712278   \n",
       "2010-01-05 16:52:16.0000002           -73.979268         40.782004   \n",
       "2011-08-18 00:35:00.00000049          -73.991242         40.750562   \n",
       "2012-04-21 04:30:42.0000001           -73.991567         40.758092   \n",
       "2010-03-09 07:51:00.000000135         -73.956655         40.783762   \n",
       "\n",
       "                               passenger_count  Day  Month  Year  Hour  \\\n",
       "key                                                                      \n",
       "2009-06-15 17:26:21.0000001                  1   15      6  2009    17   \n",
       "2010-01-05 16:52:16.0000002                  1    5      1  2010    16   \n",
       "2011-08-18 00:35:00.00000049                 2   18      8  2011     0   \n",
       "2012-04-21 04:30:42.0000001                  1   21      4  2012     4   \n",
       "2010-03-09 07:51:00.000000135                1    9      3  2010     7   \n",
       "\n",
       "                               Weekday  \n",
       "key                                     \n",
       "2009-06-15 17:26:21.0000001          0  \n",
       "2010-01-05 16:52:16.0000002          1  \n",
       "2011-08-18 00:35:00.00000049         3  \n",
       "2012-04-21 04:30:42.0000001          5  \n",
       "2010-03-09 07:51:00.000000135        1  "
      ]
     },
     "execution_count": 122,
     "metadata": {},
     "output_type": "execute_result"
    }
   ],
   "source": [
    "df.head()"
   ]
  },
  {
   "cell_type": "code",
   "execution_count": null,
   "id": "eb043277",
   "metadata": {},
   "outputs": [],
   "source": []
  },
  {
   "cell_type": "code",
   "execution_count": 123,
   "id": "2115f584",
   "metadata": {
    "scrolled": false
   },
   "outputs": [
    {
     "data": {
      "text/plain": [
       "<Figure size 1600x1200 with 0 Axes>"
      ]
     },
     "metadata": {},
     "output_type": "display_data"
    },
    {
     "data": {
      "image/png": "[encoded data removed]",
      "text/plain": [
       "<Figure size 360x2520 with 7 Axes>"
      ]
     },
     "metadata": {
      "needs_background": "light"
     },
     "output_type": "display_data"
    }
   ],
   "source": [
    "# Fare Amount vs. Weekday:\n",
    "\n",
    "plt.figure(figsize= (8,6), dpi= 200)\n",
    "\n",
    "sns.displot(data= df, x= \"fare_amount\", row= \"Weekday\")\n",
    "\n",
    "plt.show()"
   ]
  },
  {
   "cell_type": "code",
   "execution_count": null,
   "id": "afacdfe3",
   "metadata": {},
   "outputs": [],
   "source": []
  },
  {
   "cell_type": "code",
   "execution_count": 124,
   "id": "4822867a",
   "metadata": {},
   "outputs": [
    {
     "data": {
      "image/png": "[encoded data removed]",
      "text/plain": [
       "<Figure size 1200x800 with 1 Axes>"
      ]
     },
     "metadata": {
      "needs_background": "light"
     },
     "output_type": "display_data"
    }
   ],
   "source": [
    "plt.figure(figsize= (6,4), dpi= 200)\n",
    "\n",
    "sns.countplot(data= df, x= \"Year\")\n",
    "\n",
    "plt.show()"
   ]
  },
  {
   "cell_type": "code",
   "execution_count": null,
   "id": "e23c30c4",
   "metadata": {},
   "outputs": [],
   "source": []
  },
  {
   "cell_type": "code",
   "execution_count": 125,
   "id": "0a8655d1",
   "metadata": {},
   "outputs": [
    {
     "data": {
      "image/png": "[encoded data removed]",
      "text/plain": [
       "<Figure size 1200x800 with 1 Axes>"
      ]
     },
     "metadata": {
      "needs_background": "light"
     },
     "output_type": "display_data"
    }
   ],
   "source": [
    "plt.figure(figsize= (6,4), dpi= 200)\n",
    "\n",
    "sns.countplot(data= df, x= \"Month\")\n",
    "\n",
    "plt.show()"
   ]
  },
  {
   "cell_type": "code",
   "execution_count": null,
   "id": "6379af99",
   "metadata": {},
   "outputs": [],
   "source": []
  },
  {
   "cell_type": "code",
   "execution_count": 126,
   "id": "f3233b0f",
   "metadata": {},
   "outputs": [
    {
     "data": {
      "image/png": "[encoded data removed]",
      "text/plain": [
       "<Figure size 1200x800 with 1 Axes>"
      ]
     },
     "metadata": {
      "needs_background": "light"
     },
     "output_type": "display_data"
    }
   ],
   "source": [
    "plt.figure(figsize= (6,4), dpi= 200)\n",
    "\n",
    "sns.countplot(data= df, x= \"Day\")\n",
    "\n",
    "plt.xticks(rotation= 90)\n",
    "\n",
    "plt.show()"
   ]
  },
  {
   "cell_type": "code",
   "execution_count": null,
   "id": "bf3a683b",
   "metadata": {},
   "outputs": [],
   "source": []
  },
  {
   "cell_type": "code",
   "execution_count": 127,
   "id": "3b9baef7",
   "metadata": {},
   "outputs": [
    {
     "data": {
      "image/png": "[encoded data removed]",
      "text/plain": [
       "<Figure size 1200x800 with 1 Axes>"
      ]
     },
     "metadata": {
      "needs_background": "light"
     },
     "output_type": "display_data"
    }
   ],
   "source": [
    "plt.figure(figsize= (6,4), dpi= 200)\n",
    "\n",
    "sns.countplot(data= df, x= \"Weekday\")\n",
    "\n",
    "plt.show()"
   ]
  },
  {
   "cell_type": "code",
   "execution_count": null,
   "id": "755bca37",
   "metadata": {},
   "outputs": [],
   "source": []
  },
  {
   "cell_type": "code",
   "execution_count": 128,
   "id": "e4a5953b",
   "metadata": {},
   "outputs": [
    {
     "data": {
      "image/png": "[encoded data removed]",
      "text/plain": [
       "<Figure size 1200x800 with 1 Axes>"
      ]
     },
     "metadata": {
      "needs_background": "light"
     },
     "output_type": "display_data"
    }
   ],
   "source": [
    "plt.figure(figsize= (6,4), dpi= 200)\n",
    "\n",
    "sns.countplot(data= df, x= \"Hour\")\n",
    "\n",
    "plt.show()"
   ]
  },
  {
   "cell_type": "code",
   "execution_count": null,
   "id": "50000d88",
   "metadata": {},
   "outputs": [],
   "source": []
  },
  {
   "cell_type": "markdown",
   "id": "63d38333",
   "metadata": {},
   "source": [
    "### 9) Dummy Variable for Categorical Features:"
   ]
  },
  {
   "cell_type": "code",
   "execution_count": 129,
   "id": "541387f5",
   "metadata": {},
   "outputs": [
    {
     "data": {
      "text/plain": [
       "fare_amount          float64\n",
       "pickup_longitude     float64\n",
       "pickup_latitude      float64\n",
       "dropoff_longitude    float64\n",
       "dropoff_latitude     float64\n",
       "passenger_count        int64\n",
       "Day                    int64\n",
       "Month                  int64\n",
       "Year                   int64\n",
       "Hour                   int64\n",
       "Weekday                int64\n",
       "dtype: object"
      ]
     },
     "execution_count": 129,
     "metadata": {},
     "output_type": "execute_result"
    }
   ],
   "source": [
    "df.dtypes"
   ]
  },
  {
   "cell_type": "code",
   "execution_count": 130,
   "id": "c0c70f7e",
   "metadata": {},
   "outputs": [
    {
     "name": "stdout",
     "output_type": "stream",
     "text": [
      "fare_amount\n",
      "479\n",
      "pickup_longitude\n",
      "16649\n",
      "pickup_latitude\n",
      "17300\n",
      "dropoff_longitude\n",
      "16854\n",
      "dropoff_latitude\n",
      "17376\n",
      "passenger_count\n",
      "7\n",
      "Day\n",
      "31\n",
      "Month\n",
      "12\n",
      "Year\n",
      "7\n",
      "Hour\n",
      "24\n",
      "Weekday\n",
      "7\n"
     ]
    }
   ],
   "source": [
    "for col in df.columns:\n",
    "    print(col)\n",
    "    print(df[col].nunique())"
   ]
  },
  {
   "cell_type": "code",
   "execution_count": null,
   "id": "262e07f7",
   "metadata": {},
   "outputs": [],
   "source": []
  },
  {
   "cell_type": "markdown",
   "id": "933488f1",
   "metadata": {},
   "source": [
    "**We need to get Dummy Variables for Day, Month, Year, Hour and Weekday as they are all Nominal Categorical Features.**\n",
    "\n",
    "**Passenger Count is Discrete Feature.**"
   ]
  },
  {
   "cell_type": "code",
   "execution_count": 131,
   "id": "2fc2c15a",
   "metadata": {},
   "outputs": [],
   "source": [
    "df = pd.get_dummies(data= df, columns=[\"Day\",\"Month\",\"Year\",\"Hour\",\"Weekday\"], drop_first= True)"
   ]
  },
  {
   "cell_type": "code",
   "execution_count": 132,
   "id": "72183084",
   "metadata": {},
   "outputs": [
    {
     "data": {
      "text/html": [
       "<div>\n",
       "<style scoped>\n",
       "    .dataframe tbody tr th:only-of-type {\n",
       "        vertical-align: middle;\n",
       "    }\n",
       "\n",
       "    .dataframe tbody tr th {\n",
       "        vertical-align: top;\n",
       "    }\n",
       "\n",
       "    .dataframe thead th {\n",
       "        text-align: right;\n",
       "    }\n",
       "</style>\n",
       "<table border=\"1\" class=\"dataframe\">\n",
       "  <thead>\n",
       "    <tr style=\"text-align: right;\">\n",
       "      <th></th>\n",
       "      <th>fare_amount</th>\n",
       "      <th>pickup_longitude</th>\n",
       "      <th>pickup_latitude</th>\n",
       "      <th>dropoff_longitude</th>\n",
       "      <th>dropoff_latitude</th>\n",
       "      <th>passenger_count</th>\n",
       "      <th>Day_2</th>\n",
       "      <th>Day_3</th>\n",
       "      <th>Day_4</th>\n",
       "      <th>Day_5</th>\n",
       "      <th>...</th>\n",
       "      <th>Hour_20</th>\n",
       "      <th>Hour_21</th>\n",
       "      <th>Hour_22</th>\n",
       "      <th>Hour_23</th>\n",
       "      <th>Weekday_1</th>\n",
       "      <th>Weekday_2</th>\n",
       "      <th>Weekday_3</th>\n",
       "      <th>Weekday_4</th>\n",
       "      <th>Weekday_5</th>\n",
       "      <th>Weekday_6</th>\n",
       "    </tr>\n",
       "    <tr>\n",
       "      <th>key</th>\n",
       "      <th></th>\n",
       "      <th></th>\n",
       "      <th></th>\n",
       "      <th></th>\n",
       "      <th></th>\n",
       "      <th></th>\n",
       "      <th></th>\n",
       "      <th></th>\n",
       "      <th></th>\n",
       "      <th></th>\n",
       "      <th></th>\n",
       "      <th></th>\n",
       "      <th></th>\n",
       "      <th></th>\n",
       "      <th></th>\n",
       "      <th></th>\n",
       "      <th></th>\n",
       "      <th></th>\n",
       "      <th></th>\n",
       "      <th></th>\n",
       "      <th></th>\n",
       "    </tr>\n",
       "  </thead>\n",
       "  <tbody>\n",
       "    <tr>\n",
       "      <th>2009-06-15 17:26:21.0000001</th>\n",
       "      <td>4.5</td>\n",
       "      <td>-73.844311</td>\n",
       "      <td>40.721319</td>\n",
       "      <td>-73.841610</td>\n",
       "      <td>40.712278</td>\n",
       "      <td>1</td>\n",
       "      <td>0</td>\n",
       "      <td>0</td>\n",
       "      <td>0</td>\n",
       "      <td>0</td>\n",
       "      <td>...</td>\n",
       "      <td>0</td>\n",
       "      <td>0</td>\n",
       "      <td>0</td>\n",
       "      <td>0</td>\n",
       "      <td>0</td>\n",
       "      <td>0</td>\n",
       "      <td>0</td>\n",
       "      <td>0</td>\n",
       "      <td>0</td>\n",
       "      <td>0</td>\n",
       "    </tr>\n",
       "    <tr>\n",
       "      <th>2010-01-05 16:52:16.0000002</th>\n",
       "      <td>16.9</td>\n",
       "      <td>-74.016048</td>\n",
       "      <td>40.711303</td>\n",
       "      <td>-73.979268</td>\n",
       "      <td>40.782004</td>\n",
       "      <td>1</td>\n",
       "      <td>0</td>\n",
       "      <td>0</td>\n",
       "      <td>0</td>\n",
       "      <td>1</td>\n",
       "      <td>...</td>\n",
       "      <td>0</td>\n",
       "      <td>0</td>\n",
       "      <td>0</td>\n",
       "      <td>0</td>\n",
       "      <td>1</td>\n",
       "      <td>0</td>\n",
       "      <td>0</td>\n",
       "      <td>0</td>\n",
       "      <td>0</td>\n",
       "      <td>0</td>\n",
       "    </tr>\n",
       "    <tr>\n",
       "      <th>2011-08-18 00:35:00.00000049</th>\n",
       "      <td>5.7</td>\n",
       "      <td>-73.982738</td>\n",
       "      <td>40.761270</td>\n",
       "      <td>-73.991242</td>\n",
       "      <td>40.750562</td>\n",
       "      <td>2</td>\n",
       "      <td>0</td>\n",
       "      <td>0</td>\n",
       "      <td>0</td>\n",
       "      <td>0</td>\n",
       "      <td>...</td>\n",
       "      <td>0</td>\n",
       "      <td>0</td>\n",
       "      <td>0</td>\n",
       "      <td>0</td>\n",
       "      <td>0</td>\n",
       "      <td>0</td>\n",
       "      <td>1</td>\n",
       "      <td>0</td>\n",
       "      <td>0</td>\n",
       "      <td>0</td>\n",
       "    </tr>\n",
       "    <tr>\n",
       "      <th>2012-04-21 04:30:42.0000001</th>\n",
       "      <td>7.7</td>\n",
       "      <td>-73.987130</td>\n",
       "      <td>40.733143</td>\n",
       "      <td>-73.991567</td>\n",
       "      <td>40.758092</td>\n",
       "      <td>1</td>\n",
       "      <td>0</td>\n",
       "      <td>0</td>\n",
       "      <td>0</td>\n",
       "      <td>0</td>\n",
       "      <td>...</td>\n",
       "      <td>0</td>\n",
       "      <td>0</td>\n",
       "      <td>0</td>\n",
       "      <td>0</td>\n",
       "      <td>0</td>\n",
       "      <td>0</td>\n",
       "      <td>0</td>\n",
       "      <td>0</td>\n",
       "      <td>1</td>\n",
       "      <td>0</td>\n",
       "    </tr>\n",
       "    <tr>\n",
       "      <th>2010-03-09 07:51:00.000000135</th>\n",
       "      <td>5.3</td>\n",
       "      <td>-73.968095</td>\n",
       "      <td>40.768008</td>\n",
       "      <td>-73.956655</td>\n",
       "      <td>40.783762</td>\n",
       "      <td>1</td>\n",
       "      <td>0</td>\n",
       "      <td>0</td>\n",
       "      <td>0</td>\n",
       "      <td>0</td>\n",
       "      <td>...</td>\n",
       "      <td>0</td>\n",
       "      <td>0</td>\n",
       "      <td>0</td>\n",
       "      <td>0</td>\n",
       "      <td>1</td>\n",
       "      <td>0</td>\n",
       "      <td>0</td>\n",
       "      <td>0</td>\n",
       "      <td>0</td>\n",
       "      <td>0</td>\n",
       "    </tr>\n",
       "  </tbody>\n",
       "</table>\n",
       "<p>5 rows × 82 columns</p>\n",
       "</div>"
      ],
      "text/plain": [
       "                               fare_amount  pickup_longitude  pickup_latitude  \\\n",
       "key                                                                             \n",
       "2009-06-15 17:26:21.0000001            4.5        -73.844311        40.721319   \n",
       "2010-01-05 16:52:16.0000002           16.9        -74.016048        40.711303   \n",
       "2011-08-18 00:35:00.00000049           5.7        -73.982738        40.761270   \n",
       "2012-04-21 04:30:42.0000001            7.7        -73.987130        40.733143   \n",
       "2010-03-09 07:51:00.000000135          5.3        -73.968095        40.768008   \n",
       "\n",
       "                               dropoff_longitude  dropoff_latitude  \\\n",
       "key                                                                  \n",
       "2009-06-15 17:26:21.0000001           -73.841610         40.712278   \n",
       "2010-01-05 16:52:16.0000002           -73.979268         40.782004   \n",
       "2011-08-18 00:35:00.00000049          -73.991242         40.750562   \n",
       "2012-04-21 04:30:42.0000001           -73.991567         40.758092   \n",
       "2010-03-09 07:51:00.000000135         -73.956655         40.783762   \n",
       "\n",
       "                               passenger_count  Day_2  Day_3  Day_4  Day_5  \\\n",
       "key                                                                          \n",
       "2009-06-15 17:26:21.0000001                  1      0      0      0      0   \n",
       "2010-01-05 16:52:16.0000002                  1      0      0      0      1   \n",
       "2011-08-18 00:35:00.00000049                 2      0      0      0      0   \n",
       "2012-04-21 04:30:42.0000001                  1      0      0      0      0   \n",
       "2010-03-09 07:51:00.000000135                1      0      0      0      0   \n",
       "\n",
       "                               ...  Hour_20  Hour_21  Hour_22  Hour_23  \\\n",
       "key                            ...                                       \n",
       "2009-06-15 17:26:21.0000001    ...        0        0        0        0   \n",
       "2010-01-05 16:52:16.0000002    ...        0        0        0        0   \n",
       "2011-08-18 00:35:00.00000049   ...        0        0        0        0   \n",
       "2012-04-21 04:30:42.0000001    ...        0        0        0        0   \n",
       "2010-03-09 07:51:00.000000135  ...        0        0        0        0   \n",
       "\n",
       "                               Weekday_1  Weekday_2  Weekday_3  Weekday_4  \\\n",
       "key                                                                         \n",
       "2009-06-15 17:26:21.0000001            0          0          0          0   \n",
       "2010-01-05 16:52:16.0000002            1          0          0          0   \n",
       "2011-08-18 00:35:00.00000049           0          0          1          0   \n",
       "2012-04-21 04:30:42.0000001            0          0          0          0   \n",
       "2010-03-09 07:51:00.000000135          1          0          0          0   \n",
       "\n",
       "                               Weekday_5  Weekday_6  \n",
       "key                                                  \n",
       "2009-06-15 17:26:21.0000001            0          0  \n",
       "2010-01-05 16:52:16.0000002            0          0  \n",
       "2011-08-18 00:35:00.00000049           0          0  \n",
       "2012-04-21 04:30:42.0000001            1          0  \n",
       "2010-03-09 07:51:00.000000135          0          0  \n",
       "\n",
       "[5 rows x 82 columns]"
      ]
     },
     "execution_count": 132,
     "metadata": {},
     "output_type": "execute_result"
    }
   ],
   "source": [
    "df.head()"
   ]
  },
  {
   "cell_type": "code",
   "execution_count": 133,
   "id": "6e8e7549",
   "metadata": {},
   "outputs": [
    {
     "data": {
      "text/plain": [
       "(19995, 82)"
      ]
     },
     "execution_count": 133,
     "metadata": {},
     "output_type": "execute_result"
    }
   ],
   "source": [
    "df.shape"
   ]
  },
  {
   "cell_type": "code",
   "execution_count": null,
   "id": "36ed9ef9",
   "metadata": {},
   "outputs": [],
   "source": []
  },
  {
   "cell_type": "markdown",
   "id": "b9311bf2",
   "metadata": {},
   "source": [
    "### 10) Train Test Split:"
   ]
  },
  {
   "cell_type": "code",
   "execution_count": 134,
   "id": "7015b783",
   "metadata": {},
   "outputs": [],
   "source": [
    "x = df.drop(\"fare_amount\", axis= 1)"
   ]
  },
  {
   "cell_type": "code",
   "execution_count": 135,
   "id": "8a955acc",
   "metadata": {},
   "outputs": [],
   "source": [
    "y = df[\"fare_amount\"]"
   ]
  },
  {
   "cell_type": "code",
   "execution_count": 136,
   "id": "898f53ec",
   "metadata": {},
   "outputs": [
    {
     "data": {
      "text/plain": [
       "(19995, 81)"
      ]
     },
     "execution_count": 136,
     "metadata": {},
     "output_type": "execute_result"
    }
   ],
   "source": [
    "x.shape"
   ]
  },
  {
   "cell_type": "code",
   "execution_count": 137,
   "id": "ade4fc4a",
   "metadata": {},
   "outputs": [
    {
     "data": {
      "text/plain": [
       "(19995,)"
      ]
     },
     "execution_count": 137,
     "metadata": {},
     "output_type": "execute_result"
    }
   ],
   "source": [
    "y.shape"
   ]
  },
  {
   "cell_type": "code",
   "execution_count": null,
   "id": "98314f7d",
   "metadata": {},
   "outputs": [],
   "source": []
  },
  {
   "cell_type": "code",
   "execution_count": 138,
   "id": "69a3f10f",
   "metadata": {},
   "outputs": [],
   "source": [
    "x_train, x_test, y_train, y_test = train_test_split(x, y, test_size= 0.25, random_state= 42)"
   ]
  },
  {
   "cell_type": "code",
   "execution_count": 139,
   "id": "d36f5d61",
   "metadata": {},
   "outputs": [
    {
     "name": "stdout",
     "output_type": "stream",
     "text": [
      "(14996, 81)\n",
      "(4999, 81)\n",
      "(14996,)\n",
      "(4999,)\n"
     ]
    }
   ],
   "source": [
    "print(x_train.shape)\n",
    "print(x_test.shape)\n",
    "print(y_train.shape)\n",
    "print(y_test.shape)"
   ]
  },
  {
   "cell_type": "code",
   "execution_count": null,
   "id": "7fd68552",
   "metadata": {},
   "outputs": [],
   "source": []
  },
  {
   "cell_type": "markdown",
   "id": "9a55577d",
   "metadata": {},
   "source": [
    "### 11) Scalling:"
   ]
  },
  {
   "cell_type": "code",
   "execution_count": 140,
   "id": "984fe764",
   "metadata": {},
   "outputs": [],
   "source": [
    "sc= StandardScaler()"
   ]
  },
  {
   "cell_type": "code",
   "execution_count": 141,
   "id": "776ede13",
   "metadata": {},
   "outputs": [
    {
     "data": {
      "text/html": [
       "<div>\n",
       "<style scoped>\n",
       "    .dataframe tbody tr th:only-of-type {\n",
       "        vertical-align: middle;\n",
       "    }\n",
       "\n",
       "    .dataframe tbody tr th {\n",
       "        vertical-align: top;\n",
       "    }\n",
       "\n",
       "    .dataframe thead th {\n",
       "        text-align: right;\n",
       "    }\n",
       "</style>\n",
       "<table border=\"1\" class=\"dataframe\">\n",
       "  <thead>\n",
       "    <tr style=\"text-align: right;\">\n",
       "      <th></th>\n",
       "      <th>pickup_longitude</th>\n",
       "      <th>pickup_latitude</th>\n",
       "      <th>dropoff_longitude</th>\n",
       "      <th>dropoff_latitude</th>\n",
       "      <th>passenger_count</th>\n",
       "      <th>Day_2</th>\n",
       "      <th>Day_3</th>\n",
       "      <th>Day_4</th>\n",
       "      <th>Day_5</th>\n",
       "      <th>Day_6</th>\n",
       "      <th>...</th>\n",
       "      <th>Hour_20</th>\n",
       "      <th>Hour_21</th>\n",
       "      <th>Hour_22</th>\n",
       "      <th>Hour_23</th>\n",
       "      <th>Weekday_1</th>\n",
       "      <th>Weekday_2</th>\n",
       "      <th>Weekday_3</th>\n",
       "      <th>Weekday_4</th>\n",
       "      <th>Weekday_5</th>\n",
       "      <th>Weekday_6</th>\n",
       "    </tr>\n",
       "    <tr>\n",
       "      <th>key</th>\n",
       "      <th></th>\n",
       "      <th></th>\n",
       "      <th></th>\n",
       "      <th></th>\n",
       "      <th></th>\n",
       "      <th></th>\n",
       "      <th></th>\n",
       "      <th></th>\n",
       "      <th></th>\n",
       "      <th></th>\n",
       "      <th></th>\n",
       "      <th></th>\n",
       "      <th></th>\n",
       "      <th></th>\n",
       "      <th></th>\n",
       "      <th></th>\n",
       "      <th></th>\n",
       "      <th></th>\n",
       "      <th></th>\n",
       "      <th></th>\n",
       "      <th></th>\n",
       "    </tr>\n",
       "  </thead>\n",
       "  <tbody>\n",
       "    <tr>\n",
       "      <th>2010-12-06 00:05:03.0000003</th>\n",
       "      <td>-0.140926</td>\n",
       "      <td>0.138612</td>\n",
       "      <td>-0.140013</td>\n",
       "      <td>0.136520</td>\n",
       "      <td>-0.514504</td>\n",
       "      <td>-0.183985</td>\n",
       "      <td>-0.175484</td>\n",
       "      <td>-0.174877</td>\n",
       "      <td>-0.178688</td>\n",
       "      <td>5.395595</td>\n",
       "      <td>...</td>\n",
       "      <td>-0.249681</td>\n",
       "      <td>-0.245586</td>\n",
       "      <td>-0.247109</td>\n",
       "      <td>-0.227185</td>\n",
       "      <td>-0.409217</td>\n",
       "      <td>-0.408661</td>\n",
       "      <td>-0.414422</td>\n",
       "      <td>-0.418941</td>\n",
       "      <td>-0.421906</td>\n",
       "      <td>-0.394779</td>\n",
       "    </tr>\n",
       "    <tr>\n",
       "      <th>2009-06-16 09:54:18.0000002</th>\n",
       "      <td>-0.141719</td>\n",
       "      <td>0.136777</td>\n",
       "      <td>-0.142525</td>\n",
       "      <td>0.134269</td>\n",
       "      <td>-0.514504</td>\n",
       "      <td>-0.183985</td>\n",
       "      <td>-0.175484</td>\n",
       "      <td>-0.174877</td>\n",
       "      <td>-0.178688</td>\n",
       "      <td>-0.185336</td>\n",
       "      <td>...</td>\n",
       "      <td>-0.249681</td>\n",
       "      <td>-0.245586</td>\n",
       "      <td>-0.247109</td>\n",
       "      <td>-0.227185</td>\n",
       "      <td>2.443694</td>\n",
       "      <td>-0.408661</td>\n",
       "      <td>-0.414422</td>\n",
       "      <td>-0.418941</td>\n",
       "      <td>-0.421906</td>\n",
       "      <td>-0.394779</td>\n",
       "    </tr>\n",
       "    <tr>\n",
       "      <th>2009-05-03 03:01:00.000000184</th>\n",
       "      <td>-0.139085</td>\n",
       "      <td>0.123890</td>\n",
       "      <td>-0.138784</td>\n",
       "      <td>0.123639</td>\n",
       "      <td>-0.514504</td>\n",
       "      <td>-0.183985</td>\n",
       "      <td>5.698527</td>\n",
       "      <td>-0.174877</td>\n",
       "      <td>-0.178688</td>\n",
       "      <td>-0.185336</td>\n",
       "      <td>...</td>\n",
       "      <td>-0.249681</td>\n",
       "      <td>-0.245586</td>\n",
       "      <td>-0.247109</td>\n",
       "      <td>-0.227185</td>\n",
       "      <td>-0.409217</td>\n",
       "      <td>-0.408661</td>\n",
       "      <td>-0.414422</td>\n",
       "      <td>-0.418941</td>\n",
       "      <td>-0.421906</td>\n",
       "      <td>2.533065</td>\n",
       "    </tr>\n",
       "    <tr>\n",
       "      <th>2014-09-10 04:05:24.0000001</th>\n",
       "      <td>-0.141919</td>\n",
       "      <td>0.139141</td>\n",
       "      <td>-0.139886</td>\n",
       "      <td>0.138048</td>\n",
       "      <td>0.263974</td>\n",
       "      <td>-0.183985</td>\n",
       "      <td>-0.175484</td>\n",
       "      <td>-0.174877</td>\n",
       "      <td>-0.178688</td>\n",
       "      <td>-0.185336</td>\n",
       "      <td>...</td>\n",
       "      <td>-0.249681</td>\n",
       "      <td>-0.245586</td>\n",
       "      <td>-0.247109</td>\n",
       "      <td>-0.227185</td>\n",
       "      <td>-0.409217</td>\n",
       "      <td>2.447015</td>\n",
       "      <td>-0.414422</td>\n",
       "      <td>-0.418941</td>\n",
       "      <td>-0.421906</td>\n",
       "      <td>-0.394779</td>\n",
       "    </tr>\n",
       "    <tr>\n",
       "      <th>2009-09-01 17:32:00.000000173</th>\n",
       "      <td>-0.142148</td>\n",
       "      <td>0.141978</td>\n",
       "      <td>-0.139851</td>\n",
       "      <td>0.141285</td>\n",
       "      <td>-0.514504</td>\n",
       "      <td>-0.183985</td>\n",
       "      <td>-0.175484</td>\n",
       "      <td>-0.174877</td>\n",
       "      <td>-0.178688</td>\n",
       "      <td>-0.185336</td>\n",
       "      <td>...</td>\n",
       "      <td>-0.249681</td>\n",
       "      <td>-0.245586</td>\n",
       "      <td>-0.247109</td>\n",
       "      <td>-0.227185</td>\n",
       "      <td>2.443694</td>\n",
       "      <td>-0.408661</td>\n",
       "      <td>-0.414422</td>\n",
       "      <td>-0.418941</td>\n",
       "      <td>-0.421906</td>\n",
       "      <td>-0.394779</td>\n",
       "    </tr>\n",
       "  </tbody>\n",
       "</table>\n",
       "<p>5 rows × 81 columns</p>\n",
       "</div>"
      ],
      "text/plain": [
       "                               pickup_longitude  pickup_latitude  \\\n",
       "key                                                                \n",
       "2010-12-06 00:05:03.0000003           -0.140926         0.138612   \n",
       "2009-06-16 09:54:18.0000002           -0.141719         0.136777   \n",
       "2009-05-03 03:01:00.000000184         -0.139085         0.123890   \n",
       "2014-09-10 04:05:24.0000001           -0.141919         0.139141   \n",
       "2009-09-01 17:32:00.000000173         -0.142148         0.141978   \n",
       "\n",
       "                               dropoff_longitude  dropoff_latitude  \\\n",
       "key                                                                  \n",
       "2010-12-06 00:05:03.0000003            -0.140013          0.136520   \n",
       "2009-06-16 09:54:18.0000002            -0.142525          0.134269   \n",
       "2009-05-03 03:01:00.000000184          -0.138784          0.123639   \n",
       "2014-09-10 04:05:24.0000001            -0.139886          0.138048   \n",
       "2009-09-01 17:32:00.000000173          -0.139851          0.141285   \n",
       "\n",
       "                               passenger_count     Day_2     Day_3     Day_4  \\\n",
       "key                                                                            \n",
       "2010-12-06 00:05:03.0000003          -0.514504 -0.183985 -0.175484 -0.174877   \n",
       "2009-06-16 09:54:18.0000002          -0.514504 -0.183985 -0.175484 -0.174877   \n",
       "2009-05-03 03:01:00.000000184        -0.514504 -0.183985  5.698527 -0.174877   \n",
       "2014-09-10 04:05:24.0000001           0.263974 -0.183985 -0.175484 -0.174877   \n",
       "2009-09-01 17:32:00.000000173        -0.514504 -0.183985 -0.175484 -0.174877   \n",
       "\n",
       "                                  Day_5     Day_6  ...   Hour_20   Hour_21  \\\n",
       "key                                                ...                       \n",
       "2010-12-06 00:05:03.0000003   -0.178688  5.395595  ... -0.249681 -0.245586   \n",
       "2009-06-16 09:54:18.0000002   -0.178688 -0.185336  ... -0.249681 -0.245586   \n",
       "2009-05-03 03:01:00.000000184 -0.178688 -0.185336  ... -0.249681 -0.245586   \n",
       "2014-09-10 04:05:24.0000001   -0.178688 -0.185336  ... -0.249681 -0.245586   \n",
       "2009-09-01 17:32:00.000000173 -0.178688 -0.185336  ... -0.249681 -0.245586   \n",
       "\n",
       "                                Hour_22   Hour_23  Weekday_1  Weekday_2  \\\n",
       "key                                                                       \n",
       "2010-12-06 00:05:03.0000003   -0.247109 -0.227185  -0.409217  -0.408661   \n",
       "2009-06-16 09:54:18.0000002   -0.247109 -0.227185   2.443694  -0.408661   \n",
       "2009-05-03 03:01:00.000000184 -0.247109 -0.227185  -0.409217  -0.408661   \n",
       "2014-09-10 04:05:24.0000001   -0.247109 -0.227185  -0.409217   2.447015   \n",
       "2009-09-01 17:32:00.000000173 -0.247109 -0.227185   2.443694  -0.408661   \n",
       "\n",
       "                               Weekday_3  Weekday_4  Weekday_5  Weekday_6  \n",
       "key                                                                        \n",
       "2010-12-06 00:05:03.0000003    -0.414422  -0.418941  -0.421906  -0.394779  \n",
       "2009-06-16 09:54:18.0000002    -0.414422  -0.418941  -0.421906  -0.394779  \n",
       "2009-05-03 03:01:00.000000184  -0.414422  -0.418941  -0.421906   2.533065  \n",
       "2014-09-10 04:05:24.0000001    -0.414422  -0.418941  -0.421906  -0.394779  \n",
       "2009-09-01 17:32:00.000000173  -0.414422  -0.418941  -0.421906  -0.394779  \n",
       "\n",
       "[5 rows x 81 columns]"
      ]
     },
     "execution_count": 141,
     "metadata": {},
     "output_type": "execute_result"
    }
   ],
   "source": [
    "temp = sc.fit_transform(x_train)\n",
    "x_train = pd.DataFrame(temp, index= x_train.index, columns= x_train.columns)\n",
    "x_train.head()"
   ]
  },
  {
   "cell_type": "code",
   "execution_count": null,
   "id": "ca9183f8",
   "metadata": {},
   "outputs": [],
   "source": []
  },
  {
   "cell_type": "code",
   "execution_count": 142,
   "id": "401e834e",
   "metadata": {},
   "outputs": [
    {
     "data": {
      "text/html": [
       "<div>\n",
       "<style scoped>\n",
       "    .dataframe tbody tr th:only-of-type {\n",
       "        vertical-align: middle;\n",
       "    }\n",
       "\n",
       "    .dataframe tbody tr th {\n",
       "        vertical-align: top;\n",
       "    }\n",
       "\n",
       "    .dataframe thead th {\n",
       "        text-align: right;\n",
       "    }\n",
       "</style>\n",
       "<table border=\"1\" class=\"dataframe\">\n",
       "  <thead>\n",
       "    <tr style=\"text-align: right;\">\n",
       "      <th></th>\n",
       "      <th>pickup_longitude</th>\n",
       "      <th>pickup_latitude</th>\n",
       "      <th>dropoff_longitude</th>\n",
       "      <th>dropoff_latitude</th>\n",
       "      <th>passenger_count</th>\n",
       "      <th>Day_2</th>\n",
       "      <th>Day_3</th>\n",
       "      <th>Day_4</th>\n",
       "      <th>Day_5</th>\n",
       "      <th>Day_6</th>\n",
       "      <th>...</th>\n",
       "      <th>Hour_20</th>\n",
       "      <th>Hour_21</th>\n",
       "      <th>Hour_22</th>\n",
       "      <th>Hour_23</th>\n",
       "      <th>Weekday_1</th>\n",
       "      <th>Weekday_2</th>\n",
       "      <th>Weekday_3</th>\n",
       "      <th>Weekday_4</th>\n",
       "      <th>Weekday_5</th>\n",
       "      <th>Weekday_6</th>\n",
       "    </tr>\n",
       "    <tr>\n",
       "      <th>key</th>\n",
       "      <th></th>\n",
       "      <th></th>\n",
       "      <th></th>\n",
       "      <th></th>\n",
       "      <th></th>\n",
       "      <th></th>\n",
       "      <th></th>\n",
       "      <th></th>\n",
       "      <th></th>\n",
       "      <th></th>\n",
       "      <th></th>\n",
       "      <th></th>\n",
       "      <th></th>\n",
       "      <th></th>\n",
       "      <th></th>\n",
       "      <th></th>\n",
       "      <th></th>\n",
       "      <th></th>\n",
       "      <th></th>\n",
       "      <th></th>\n",
       "      <th></th>\n",
       "    </tr>\n",
       "  </thead>\n",
       "  <tbody>\n",
       "    <tr>\n",
       "      <th>2010-02-26 20:33:44.0000002</th>\n",
       "      <td>-0.141562</td>\n",
       "      <td>0.141994</td>\n",
       "      <td>-0.140264</td>\n",
       "      <td>0.141338</td>\n",
       "      <td>-0.514504</td>\n",
       "      <td>-0.183985</td>\n",
       "      <td>-0.175484</td>\n",
       "      <td>-0.174877</td>\n",
       "      <td>-0.178688</td>\n",
       "      <td>-0.185336</td>\n",
       "      <td>...</td>\n",
       "      <td>4.005110</td>\n",
       "      <td>-0.245586</td>\n",
       "      <td>-0.247109</td>\n",
       "      <td>-0.227185</td>\n",
       "      <td>-0.409217</td>\n",
       "      <td>-0.408661</td>\n",
       "      <td>-0.414422</td>\n",
       "      <td>2.386971</td>\n",
       "      <td>-0.421906</td>\n",
       "      <td>-0.394779</td>\n",
       "    </tr>\n",
       "    <tr>\n",
       "      <th>2014-10-25 11:25:29.0000004</th>\n",
       "      <td>-0.143064</td>\n",
       "      <td>0.132272</td>\n",
       "      <td>-0.140852</td>\n",
       "      <td>0.137543</td>\n",
       "      <td>-0.514504</td>\n",
       "      <td>-0.183985</td>\n",
       "      <td>-0.175484</td>\n",
       "      <td>-0.174877</td>\n",
       "      <td>-0.178688</td>\n",
       "      <td>-0.185336</td>\n",
       "      <td>...</td>\n",
       "      <td>-0.249681</td>\n",
       "      <td>-0.245586</td>\n",
       "      <td>-0.247109</td>\n",
       "      <td>-0.227185</td>\n",
       "      <td>-0.409217</td>\n",
       "      <td>-0.408661</td>\n",
       "      <td>-0.414422</td>\n",
       "      <td>-0.418941</td>\n",
       "      <td>2.370196</td>\n",
       "      <td>-0.394779</td>\n",
       "    </tr>\n",
       "    <tr>\n",
       "      <th>2014-08-21 21:54:00.00000073</th>\n",
       "      <td>-0.142391</td>\n",
       "      <td>0.136571</td>\n",
       "      <td>-0.140900</td>\n",
       "      <td>0.129913</td>\n",
       "      <td>0.263974</td>\n",
       "      <td>-0.183985</td>\n",
       "      <td>-0.175484</td>\n",
       "      <td>-0.174877</td>\n",
       "      <td>-0.178688</td>\n",
       "      <td>-0.185336</td>\n",
       "      <td>...</td>\n",
       "      <td>-0.249681</td>\n",
       "      <td>4.071892</td>\n",
       "      <td>-0.247109</td>\n",
       "      <td>-0.227185</td>\n",
       "      <td>-0.409217</td>\n",
       "      <td>-0.408661</td>\n",
       "      <td>2.412999</td>\n",
       "      <td>-0.418941</td>\n",
       "      <td>-0.421906</td>\n",
       "      <td>-0.394779</td>\n",
       "    </tr>\n",
       "    <tr>\n",
       "      <th>2014-06-28 01:24:57.0000001</th>\n",
       "      <td>-0.144838</td>\n",
       "      <td>0.129194</td>\n",
       "      <td>-0.143426</td>\n",
       "      <td>0.127776</td>\n",
       "      <td>-0.514504</td>\n",
       "      <td>-0.183985</td>\n",
       "      <td>-0.175484</td>\n",
       "      <td>-0.174877</td>\n",
       "      <td>-0.178688</td>\n",
       "      <td>-0.185336</td>\n",
       "      <td>...</td>\n",
       "      <td>-0.249681</td>\n",
       "      <td>-0.245586</td>\n",
       "      <td>-0.247109</td>\n",
       "      <td>-0.227185</td>\n",
       "      <td>-0.409217</td>\n",
       "      <td>-0.408661</td>\n",
       "      <td>-0.414422</td>\n",
       "      <td>-0.418941</td>\n",
       "      <td>2.370196</td>\n",
       "      <td>-0.394779</td>\n",
       "    </tr>\n",
       "    <tr>\n",
       "      <th>2012-01-11 06:22:00.0000001</th>\n",
       "      <td>-0.142484</td>\n",
       "      <td>0.138994</td>\n",
       "      <td>-0.140500</td>\n",
       "      <td>0.139326</td>\n",
       "      <td>1.042453</td>\n",
       "      <td>-0.183985</td>\n",
       "      <td>-0.175484</td>\n",
       "      <td>-0.174877</td>\n",
       "      <td>-0.178688</td>\n",
       "      <td>-0.185336</td>\n",
       "      <td>...</td>\n",
       "      <td>-0.249681</td>\n",
       "      <td>-0.245586</td>\n",
       "      <td>-0.247109</td>\n",
       "      <td>-0.227185</td>\n",
       "      <td>-0.409217</td>\n",
       "      <td>2.447015</td>\n",
       "      <td>-0.414422</td>\n",
       "      <td>-0.418941</td>\n",
       "      <td>-0.421906</td>\n",
       "      <td>-0.394779</td>\n",
       "    </tr>\n",
       "  </tbody>\n",
       "</table>\n",
       "<p>5 rows × 81 columns</p>\n",
       "</div>"
      ],
      "text/plain": [
       "                              pickup_longitude  pickup_latitude  \\\n",
       "key                                                               \n",
       "2010-02-26 20:33:44.0000002          -0.141562         0.141994   \n",
       "2014-10-25 11:25:29.0000004          -0.143064         0.132272   \n",
       "2014-08-21 21:54:00.00000073         -0.142391         0.136571   \n",
       "2014-06-28 01:24:57.0000001          -0.144838         0.129194   \n",
       "2012-01-11 06:22:00.0000001          -0.142484         0.138994   \n",
       "\n",
       "                              dropoff_longitude  dropoff_latitude  \\\n",
       "key                                                                 \n",
       "2010-02-26 20:33:44.0000002           -0.140264          0.141338   \n",
       "2014-10-25 11:25:29.0000004           -0.140852          0.137543   \n",
       "2014-08-21 21:54:00.00000073          -0.140900          0.129913   \n",
       "2014-06-28 01:24:57.0000001           -0.143426          0.127776   \n",
       "2012-01-11 06:22:00.0000001           -0.140500          0.139326   \n",
       "\n",
       "                              passenger_count     Day_2     Day_3     Day_4  \\\n",
       "key                                                                           \n",
       "2010-02-26 20:33:44.0000002         -0.514504 -0.183985 -0.175484 -0.174877   \n",
       "2014-10-25 11:25:29.0000004         -0.514504 -0.183985 -0.175484 -0.174877   \n",
       "2014-08-21 21:54:00.00000073         0.263974 -0.183985 -0.175484 -0.174877   \n",
       "2014-06-28 01:24:57.0000001         -0.514504 -0.183985 -0.175484 -0.174877   \n",
       "2012-01-11 06:22:00.0000001          1.042453 -0.183985 -0.175484 -0.174877   \n",
       "\n",
       "                                 Day_5     Day_6  ...   Hour_20   Hour_21  \\\n",
       "key                                               ...                       \n",
       "2010-02-26 20:33:44.0000002  -0.178688 -0.185336  ...  4.005110 -0.245586   \n",
       "2014-10-25 11:25:29.0000004  -0.178688 -0.185336  ... -0.249681 -0.245586   \n",
       "2014-08-21 21:54:00.00000073 -0.178688 -0.185336  ... -0.249681  4.071892   \n",
       "2014-06-28 01:24:57.0000001  -0.178688 -0.185336  ... -0.249681 -0.245586   \n",
       "2012-01-11 06:22:00.0000001  -0.178688 -0.185336  ... -0.249681 -0.245586   \n",
       "\n",
       "                               Hour_22   Hour_23  Weekday_1  Weekday_2  \\\n",
       "key                                                                      \n",
       "2010-02-26 20:33:44.0000002  -0.247109 -0.227185  -0.409217  -0.408661   \n",
       "2014-10-25 11:25:29.0000004  -0.247109 -0.227185  -0.409217  -0.408661   \n",
       "2014-08-21 21:54:00.00000073 -0.247109 -0.227185  -0.409217  -0.408661   \n",
       "2014-06-28 01:24:57.0000001  -0.247109 -0.227185  -0.409217  -0.408661   \n",
       "2012-01-11 06:22:00.0000001  -0.247109 -0.227185  -0.409217   2.447015   \n",
       "\n",
       "                              Weekday_3  Weekday_4  Weekday_5  Weekday_6  \n",
       "key                                                                       \n",
       "2010-02-26 20:33:44.0000002   -0.414422   2.386971  -0.421906  -0.394779  \n",
       "2014-10-25 11:25:29.0000004   -0.414422  -0.418941   2.370196  -0.394779  \n",
       "2014-08-21 21:54:00.00000073   2.412999  -0.418941  -0.421906  -0.394779  \n",
       "2014-06-28 01:24:57.0000001   -0.414422  -0.418941   2.370196  -0.394779  \n",
       "2012-01-11 06:22:00.0000001   -0.414422  -0.418941  -0.421906  -0.394779  \n",
       "\n",
       "[5 rows x 81 columns]"
      ]
     },
     "execution_count": 142,
     "metadata": {},
     "output_type": "execute_result"
    }
   ],
   "source": [
    "temp = sc.transform(x_test)\n",
    "x_test = pd.DataFrame(temp, index= x_test.index, columns= x_test.columns)\n",
    "x_test.head()"
   ]
  },
  {
   "cell_type": "code",
   "execution_count": null,
   "id": "b7d30f5e",
   "metadata": {},
   "outputs": [],
   "source": []
  },
  {
   "cell_type": "markdown",
   "id": "9b61fad6",
   "metadata": {},
   "source": [
    "### 12) Random Forest Regressor:"
   ]
  },
  {
   "cell_type": "code",
   "execution_count": 144,
   "id": "2b47c412",
   "metadata": {},
   "outputs": [],
   "source": [
    "rf_model = RandomForestRegressor(n_estimators= 100)"
   ]
  },
  {
   "cell_type": "code",
   "execution_count": 145,
   "id": "c8c9e53e",
   "metadata": {},
   "outputs": [
    {
     "data": {
      "text/plain": [
       "RandomForestRegressor()"
      ]
     },
     "execution_count": 145,
     "metadata": {},
     "output_type": "execute_result"
    }
   ],
   "source": [
    "rf_model.fit(x_train, y_train)"
   ]
  },
  {
   "cell_type": "code",
   "execution_count": 147,
   "id": "ea821525",
   "metadata": {},
   "outputs": [],
   "source": [
    "pred = rf_model.predict(x_test)"
   ]
  },
  {
   "cell_type": "code",
   "execution_count": 148,
   "id": "645a9735",
   "metadata": {},
   "outputs": [
    {
     "data": {
      "text/plain": [
       "0.7624701330526458"
      ]
     },
     "execution_count": 148,
     "metadata": {},
     "output_type": "execute_result"
    }
   ],
   "source": [
    "r2_score(y_test, pred)"
   ]
  },
  {
   "cell_type": "code",
   "execution_count": null,
   "id": "68182fe3",
   "metadata": {},
   "outputs": [],
   "source": []
  },
  {
   "cell_type": "markdown",
   "id": "ab591218",
   "metadata": {},
   "source": [
    "### 13) XGB Regressor:"
   ]
  },
  {
   "cell_type": "code",
   "execution_count": 149,
   "id": "31c98fc3",
   "metadata": {},
   "outputs": [],
   "source": [
    "xgb_model = XGBRegressor(n_estimators= 100)"
   ]
  },
  {
   "cell_type": "code",
   "execution_count": 150,
   "id": "7eba7fdd",
   "metadata": {},
   "outputs": [
    {
     "data": {
      "text/plain": [
       "XGBRegressor(base_score=0.5, booster='gbtree', colsample_bylevel=1,\n",
       "             colsample_bynode=1, colsample_bytree=1, gamma=0, gpu_id=-1,\n",
       "             importance_type='gain', interaction_constraints='',\n",
       "             learning_rate=0.300000012, max_delta_step=0, max_depth=6,\n",
       "             min_child_weight=1, missing=nan, monotone_constraints='()',\n",
       "             n_estimators=100, n_jobs=4, num_parallel_tree=1, random_state=0,\n",
       "             reg_alpha=0, reg_lambda=1, scale_pos_weight=1, subsample=1,\n",
       "             tree_method='exact', validate_parameters=1, verbosity=None)"
      ]
     },
     "execution_count": 150,
     "metadata": {},
     "output_type": "execute_result"
    }
   ],
   "source": [
    "xgb_model.fit(x_train, y_train)"
   ]
  },
  {
   "cell_type": "code",
   "execution_count": 151,
   "id": "9309284f",
   "metadata": {},
   "outputs": [],
   "source": [
    "pred = xgb_model.predict(x_test)"
   ]
  },
  {
   "cell_type": "code",
   "execution_count": 152,
   "id": "b0b98123",
   "metadata": {},
   "outputs": [
    {
     "data": {
      "text/plain": [
       "0.754563916499755"
      ]
     },
     "execution_count": 152,
     "metadata": {},
     "output_type": "execute_result"
    }
   ],
   "source": [
    "r2_score(y_test, pred)"
   ]
  }
 ],
 "metadata": {
  "kernelspec": {
   "display_name": "Python 3 (ipykernel)",
   "language": "python",
   "name": "python3"
  },
  "language_info": {
   "codemirror_mode": {
    "name": "ipython",
    "version": 3
   },
   "file_extension": ".py",
   "mimetype": "text/x-python",
   "name": "python",
   "nbconvert_exporter": "python",
   "pygments_lexer": "ipython3",
   "version": "3.8.12"
  }
 },
 "nbformat": 4,
 "nbformat_minor": 5
}
