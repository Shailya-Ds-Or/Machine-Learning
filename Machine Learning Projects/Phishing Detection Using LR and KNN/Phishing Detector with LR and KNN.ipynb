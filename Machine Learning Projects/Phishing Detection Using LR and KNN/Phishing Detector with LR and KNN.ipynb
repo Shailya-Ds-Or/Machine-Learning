{
 "cells": [
  {
   "cell_type": "markdown",
   "id": "a4d38aac",
   "metadata": {},
   "source": [
    "# Phishing Detector with LR and KNN"
   ]
  },
  {
   "cell_type": "markdown",
   "id": "09e4cfc1",
   "metadata": {},
   "source": [
    "#### DESCRIPTION\n",
    "\n",
    "#### Background of Problem Statement :\n",
    "\n",
    "You are expected to write the code for a binary classification model (phishing website or not) using Python Scikit-Learn that trains on the data and calculates the accuracy score on the test data. You have to use one or more of the classification algorithms to train a model on the phishing website dataset.\n",
    "\n",
    "#### Problem Objective :\n",
    "\n",
    "The dataset is a text file.\n",
    "\n",
    "Domain: Cyber Security and Web Mining\n",
    "\n",
    "Questions to be answered with analysis :\n",
    "\n",
    "1) Write the code for a binary classification model (phishing website or not) using Python Scikit-Learn that trains on the data and calculates the accuracy score on the test data.\n",
    "\n",
    "2) Use one or more of the classification algorithms to train a model on the phishing website dataset.\n",
    "\n",
    "#### Analysis Tasks to be performed:\n",
    "\n",
    "Initiation :\n",
    "\n",
    "Begin by creating a new ipynb file and load the dataset in it.\n",
    "\n",
    "Exercise 1 :\n",
    "\n",
    "Build a phishing website classifier using Logistic Regression with “C” parameter = 100. \n",
    "Use 70% of data as training data and the remaining 30% as test data.                                                                                                                                                                         \n",
    "Print count of misclassified samples in the test data prediction as well as the accuracy score of the model. \n",
    " \n",
    "Exercise 2 :\n",
    "\n",
    "Train with only two input parameters - parameter Prefix_Suffix and 13 URL_of_Anchor.\n",
    "\n",
    "Check accuracy using the test data and compare the accuracy with the previous value.\n",
    "\n",
    "Plot the test samples along with the decision boundary when trained with index 5 and index 13 parameters.\n",
    "\n",
    "Hint :\n",
    "The dataset is a “.txt” file with no headers and has only the column values.\n",
    "\n",
    "The actual column-wise header is described below and, if needed, you can add the header manually.\n",
    "\n",
    "The header list is as follows :\n",
    "\n",
    "[ 'UsingIP', 'LongURL', 'ShortURL', 'Symbol@', 'Redirecting//',\n",
    "           'PrefixSuffix-', 'SubDomains', 'HTTPS', 'DomainRegLen', 'Favicon',\n",
    "           'NonStdPort', 'HTTPSDomainURL', 'RequestURL', 'AnchorURL',\n",
    "           'LinksInScriptTags', 'ServerFormHandler', 'InfoEmail', 'AbnormalURL',\n",
    "           'WebsiteForwarding', 'StatusBarCust', 'DisableRightClick',\n",
    "           'UsingPopupWindow', 'IframeRedirection', 'AgeofDomain',\n",
    "           'DNSRecording', 'WebsiteTraffic', 'PageRank', 'GoogleIndex',\n",
    "           'LinksPointingToPage', 'StatsReport', 'class' ]"
   ]
  },
  {
   "cell_type": "code",
   "execution_count": null,
   "id": "33bfe503",
   "metadata": {},
   "outputs": [],
   "source": []
  },
  {
   "cell_type": "code",
   "execution_count": 27,
   "id": "18158943",
   "metadata": {},
   "outputs": [],
   "source": [
    "import pandas as pd\n",
    "import numpy as np\n",
    "import matplotlib.pyplot as plt\n",
    "\n",
    "from sklearn.model_selection import train_test_split\n",
    "\n",
    "from sklearn.linear_model import LogisticRegression\n",
    "from sklearn.neighbors import KNeighborsClassifier\n",
    "\n",
    "from sklearn.metrics import plot_confusion_matrix, classification_report"
   ]
  },
  {
   "cell_type": "code",
   "execution_count": null,
   "id": "2e107941",
   "metadata": {},
   "outputs": [],
   "source": []
  },
  {
   "cell_type": "code",
   "execution_count": 5,
   "id": "c6255ff7",
   "metadata": {},
   "outputs": [],
   "source": [
    "df = pd.read_csv(\"phishing.txt\", header= None)"
   ]
  },
  {
   "cell_type": "code",
   "execution_count": 6,
   "id": "016fd2cb",
   "metadata": {},
   "outputs": [
    {
     "data": {
      "text/html": [
       "<div>\n",
       "<style scoped>\n",
       "    .dataframe tbody tr th:only-of-type {\n",
       "        vertical-align: middle;\n",
       "    }\n",
       "\n",
       "    .dataframe tbody tr th {\n",
       "        vertical-align: top;\n",
       "    }\n",
       "\n",
       "    .dataframe thead th {\n",
       "        text-align: right;\n",
       "    }\n",
       "</style>\n",
       "<table border=\"1\" class=\"dataframe\">\n",
       "  <thead>\n",
       "    <tr style=\"text-align: right;\">\n",
       "      <th></th>\n",
       "      <th>0</th>\n",
       "      <th>1</th>\n",
       "      <th>2</th>\n",
       "      <th>3</th>\n",
       "      <th>4</th>\n",
       "      <th>5</th>\n",
       "      <th>6</th>\n",
       "      <th>7</th>\n",
       "      <th>8</th>\n",
       "      <th>9</th>\n",
       "      <th>...</th>\n",
       "      <th>21</th>\n",
       "      <th>22</th>\n",
       "      <th>23</th>\n",
       "      <th>24</th>\n",
       "      <th>25</th>\n",
       "      <th>26</th>\n",
       "      <th>27</th>\n",
       "      <th>28</th>\n",
       "      <th>29</th>\n",
       "      <th>30</th>\n",
       "    </tr>\n",
       "  </thead>\n",
       "  <tbody>\n",
       "    <tr>\n",
       "      <th>0</th>\n",
       "      <td>-1</td>\n",
       "      <td>1</td>\n",
       "      <td>1</td>\n",
       "      <td>1</td>\n",
       "      <td>-1</td>\n",
       "      <td>-1</td>\n",
       "      <td>-1</td>\n",
       "      <td>-1</td>\n",
       "      <td>-1</td>\n",
       "      <td>1</td>\n",
       "      <td>...</td>\n",
       "      <td>1</td>\n",
       "      <td>1</td>\n",
       "      <td>-1</td>\n",
       "      <td>-1</td>\n",
       "      <td>-1</td>\n",
       "      <td>-1</td>\n",
       "      <td>1</td>\n",
       "      <td>1</td>\n",
       "      <td>-1</td>\n",
       "      <td>-1</td>\n",
       "    </tr>\n",
       "    <tr>\n",
       "      <th>1</th>\n",
       "      <td>1</td>\n",
       "      <td>1</td>\n",
       "      <td>1</td>\n",
       "      <td>1</td>\n",
       "      <td>1</td>\n",
       "      <td>-1</td>\n",
       "      <td>0</td>\n",
       "      <td>1</td>\n",
       "      <td>-1</td>\n",
       "      <td>1</td>\n",
       "      <td>...</td>\n",
       "      <td>1</td>\n",
       "      <td>1</td>\n",
       "      <td>-1</td>\n",
       "      <td>-1</td>\n",
       "      <td>0</td>\n",
       "      <td>-1</td>\n",
       "      <td>1</td>\n",
       "      <td>1</td>\n",
       "      <td>1</td>\n",
       "      <td>-1</td>\n",
       "    </tr>\n",
       "    <tr>\n",
       "      <th>2</th>\n",
       "      <td>1</td>\n",
       "      <td>0</td>\n",
       "      <td>1</td>\n",
       "      <td>1</td>\n",
       "      <td>1</td>\n",
       "      <td>-1</td>\n",
       "      <td>-1</td>\n",
       "      <td>-1</td>\n",
       "      <td>-1</td>\n",
       "      <td>1</td>\n",
       "      <td>...</td>\n",
       "      <td>1</td>\n",
       "      <td>1</td>\n",
       "      <td>1</td>\n",
       "      <td>-1</td>\n",
       "      <td>1</td>\n",
       "      <td>-1</td>\n",
       "      <td>1</td>\n",
       "      <td>0</td>\n",
       "      <td>-1</td>\n",
       "      <td>-1</td>\n",
       "    </tr>\n",
       "    <tr>\n",
       "      <th>3</th>\n",
       "      <td>1</td>\n",
       "      <td>0</td>\n",
       "      <td>1</td>\n",
       "      <td>1</td>\n",
       "      <td>1</td>\n",
       "      <td>-1</td>\n",
       "      <td>-1</td>\n",
       "      <td>-1</td>\n",
       "      <td>1</td>\n",
       "      <td>1</td>\n",
       "      <td>...</td>\n",
       "      <td>1</td>\n",
       "      <td>1</td>\n",
       "      <td>-1</td>\n",
       "      <td>-1</td>\n",
       "      <td>1</td>\n",
       "      <td>-1</td>\n",
       "      <td>1</td>\n",
       "      <td>-1</td>\n",
       "      <td>1</td>\n",
       "      <td>-1</td>\n",
       "    </tr>\n",
       "    <tr>\n",
       "      <th>4</th>\n",
       "      <td>1</td>\n",
       "      <td>0</td>\n",
       "      <td>-1</td>\n",
       "      <td>1</td>\n",
       "      <td>1</td>\n",
       "      <td>-1</td>\n",
       "      <td>1</td>\n",
       "      <td>1</td>\n",
       "      <td>-1</td>\n",
       "      <td>1</td>\n",
       "      <td>...</td>\n",
       "      <td>-1</td>\n",
       "      <td>1</td>\n",
       "      <td>-1</td>\n",
       "      <td>-1</td>\n",
       "      <td>0</td>\n",
       "      <td>-1</td>\n",
       "      <td>1</td>\n",
       "      <td>1</td>\n",
       "      <td>1</td>\n",
       "      <td>1</td>\n",
       "    </tr>\n",
       "  </tbody>\n",
       "</table>\n",
       "<p>5 rows × 31 columns</p>\n",
       "</div>"
      ],
      "text/plain": [
       "   0   1   2   3   4   5   6   7   8   9   ...  21  22  23  24  25  26  27  \\\n",
       "0  -1   1   1   1  -1  -1  -1  -1  -1   1  ...   1   1  -1  -1  -1  -1   1   \n",
       "1   1   1   1   1   1  -1   0   1  -1   1  ...   1   1  -1  -1   0  -1   1   \n",
       "2   1   0   1   1   1  -1  -1  -1  -1   1  ...   1   1   1  -1   1  -1   1   \n",
       "3   1   0   1   1   1  -1  -1  -1   1   1  ...   1   1  -1  -1   1  -1   1   \n",
       "4   1   0  -1   1   1  -1   1   1  -1   1  ...  -1   1  -1  -1   0  -1   1   \n",
       "\n",
       "   28  29  30  \n",
       "0   1  -1  -1  \n",
       "1   1   1  -1  \n",
       "2   0  -1  -1  \n",
       "3  -1   1  -1  \n",
       "4   1   1   1  \n",
       "\n",
       "[5 rows x 31 columns]"
      ]
     },
     "execution_count": 6,
     "metadata": {},
     "output_type": "execute_result"
    }
   ],
   "source": [
    "df.head()"
   ]
  },
  {
   "cell_type": "code",
   "execution_count": null,
   "id": "d91acdf1",
   "metadata": {},
   "outputs": [],
   "source": []
  },
  {
   "cell_type": "code",
   "execution_count": 7,
   "id": "538cdc5b",
   "metadata": {},
   "outputs": [],
   "source": [
    "df.columns = [ 'UsingIP', 'LongURL', 'ShortURL', 'Symbol@', 'Redirecting//', 'PrefixSuffix-', 'SubDomains', \n",
    "              'HTTPS', 'DomainRegLen', 'Favicon', 'NonStdPort', 'HTTPSDomainURL', 'RequestURL', 'AnchorURL', \n",
    "              'LinksInScriptTags', 'ServerFormHandler', 'InfoEmail', 'AbnormalURL', 'WebsiteForwarding', \n",
    "              'StatusBarCust', 'DisableRightClick', 'UsingPopupWindow', 'IframeRedirection', 'AgeofDomain', \n",
    "              'DNSRecording', 'WebsiteTraffic', 'PageRank', 'GoogleIndex', 'LinksPointingToPage', 'StatsReport', 'class' ]"
   ]
  },
  {
   "cell_type": "code",
   "execution_count": null,
   "id": "28620087",
   "metadata": {},
   "outputs": [],
   "source": []
  },
  {
   "cell_type": "code",
   "execution_count": 8,
   "id": "19038146",
   "metadata": {},
   "outputs": [
    {
     "data": {
      "text/html": [
       "<div>\n",
       "<style scoped>\n",
       "    .dataframe tbody tr th:only-of-type {\n",
       "        vertical-align: middle;\n",
       "    }\n",
       "\n",
       "    .dataframe tbody tr th {\n",
       "        vertical-align: top;\n",
       "    }\n",
       "\n",
       "    .dataframe thead th {\n",
       "        text-align: right;\n",
       "    }\n",
       "</style>\n",
       "<table border=\"1\" class=\"dataframe\">\n",
       "  <thead>\n",
       "    <tr style=\"text-align: right;\">\n",
       "      <th></th>\n",
       "      <th>UsingIP</th>\n",
       "      <th>LongURL</th>\n",
       "      <th>ShortURL</th>\n",
       "      <th>Symbol@</th>\n",
       "      <th>Redirecting//</th>\n",
       "      <th>PrefixSuffix-</th>\n",
       "      <th>SubDomains</th>\n",
       "      <th>HTTPS</th>\n",
       "      <th>DomainRegLen</th>\n",
       "      <th>Favicon</th>\n",
       "      <th>...</th>\n",
       "      <th>UsingPopupWindow</th>\n",
       "      <th>IframeRedirection</th>\n",
       "      <th>AgeofDomain</th>\n",
       "      <th>DNSRecording</th>\n",
       "      <th>WebsiteTraffic</th>\n",
       "      <th>PageRank</th>\n",
       "      <th>GoogleIndex</th>\n",
       "      <th>LinksPointingToPage</th>\n",
       "      <th>StatsReport</th>\n",
       "      <th>class</th>\n",
       "    </tr>\n",
       "  </thead>\n",
       "  <tbody>\n",
       "    <tr>\n",
       "      <th>0</th>\n",
       "      <td>-1</td>\n",
       "      <td>1</td>\n",
       "      <td>1</td>\n",
       "      <td>1</td>\n",
       "      <td>-1</td>\n",
       "      <td>-1</td>\n",
       "      <td>-1</td>\n",
       "      <td>-1</td>\n",
       "      <td>-1</td>\n",
       "      <td>1</td>\n",
       "      <td>...</td>\n",
       "      <td>1</td>\n",
       "      <td>1</td>\n",
       "      <td>-1</td>\n",
       "      <td>-1</td>\n",
       "      <td>-1</td>\n",
       "      <td>-1</td>\n",
       "      <td>1</td>\n",
       "      <td>1</td>\n",
       "      <td>-1</td>\n",
       "      <td>-1</td>\n",
       "    </tr>\n",
       "    <tr>\n",
       "      <th>1</th>\n",
       "      <td>1</td>\n",
       "      <td>1</td>\n",
       "      <td>1</td>\n",
       "      <td>1</td>\n",
       "      <td>1</td>\n",
       "      <td>-1</td>\n",
       "      <td>0</td>\n",
       "      <td>1</td>\n",
       "      <td>-1</td>\n",
       "      <td>1</td>\n",
       "      <td>...</td>\n",
       "      <td>1</td>\n",
       "      <td>1</td>\n",
       "      <td>-1</td>\n",
       "      <td>-1</td>\n",
       "      <td>0</td>\n",
       "      <td>-1</td>\n",
       "      <td>1</td>\n",
       "      <td>1</td>\n",
       "      <td>1</td>\n",
       "      <td>-1</td>\n",
       "    </tr>\n",
       "    <tr>\n",
       "      <th>2</th>\n",
       "      <td>1</td>\n",
       "      <td>0</td>\n",
       "      <td>1</td>\n",
       "      <td>1</td>\n",
       "      <td>1</td>\n",
       "      <td>-1</td>\n",
       "      <td>-1</td>\n",
       "      <td>-1</td>\n",
       "      <td>-1</td>\n",
       "      <td>1</td>\n",
       "      <td>...</td>\n",
       "      <td>1</td>\n",
       "      <td>1</td>\n",
       "      <td>1</td>\n",
       "      <td>-1</td>\n",
       "      <td>1</td>\n",
       "      <td>-1</td>\n",
       "      <td>1</td>\n",
       "      <td>0</td>\n",
       "      <td>-1</td>\n",
       "      <td>-1</td>\n",
       "    </tr>\n",
       "    <tr>\n",
       "      <th>3</th>\n",
       "      <td>1</td>\n",
       "      <td>0</td>\n",
       "      <td>1</td>\n",
       "      <td>1</td>\n",
       "      <td>1</td>\n",
       "      <td>-1</td>\n",
       "      <td>-1</td>\n",
       "      <td>-1</td>\n",
       "      <td>1</td>\n",
       "      <td>1</td>\n",
       "      <td>...</td>\n",
       "      <td>1</td>\n",
       "      <td>1</td>\n",
       "      <td>-1</td>\n",
       "      <td>-1</td>\n",
       "      <td>1</td>\n",
       "      <td>-1</td>\n",
       "      <td>1</td>\n",
       "      <td>-1</td>\n",
       "      <td>1</td>\n",
       "      <td>-1</td>\n",
       "    </tr>\n",
       "    <tr>\n",
       "      <th>4</th>\n",
       "      <td>1</td>\n",
       "      <td>0</td>\n",
       "      <td>-1</td>\n",
       "      <td>1</td>\n",
       "      <td>1</td>\n",
       "      <td>-1</td>\n",
       "      <td>1</td>\n",
       "      <td>1</td>\n",
       "      <td>-1</td>\n",
       "      <td>1</td>\n",
       "      <td>...</td>\n",
       "      <td>-1</td>\n",
       "      <td>1</td>\n",
       "      <td>-1</td>\n",
       "      <td>-1</td>\n",
       "      <td>0</td>\n",
       "      <td>-1</td>\n",
       "      <td>1</td>\n",
       "      <td>1</td>\n",
       "      <td>1</td>\n",
       "      <td>1</td>\n",
       "    </tr>\n",
       "  </tbody>\n",
       "</table>\n",
       "<p>5 rows × 31 columns</p>\n",
       "</div>"
      ],
      "text/plain": [
       "   UsingIP  LongURL  ShortURL  Symbol@  Redirecting//  PrefixSuffix-  \\\n",
       "0       -1        1         1        1             -1             -1   \n",
       "1        1        1         1        1              1             -1   \n",
       "2        1        0         1        1              1             -1   \n",
       "3        1        0         1        1              1             -1   \n",
       "4        1        0        -1        1              1             -1   \n",
       "\n",
       "   SubDomains  HTTPS  DomainRegLen  Favicon  ...  UsingPopupWindow  \\\n",
       "0          -1     -1            -1        1  ...                 1   \n",
       "1           0      1            -1        1  ...                 1   \n",
       "2          -1     -1            -1        1  ...                 1   \n",
       "3          -1     -1             1        1  ...                 1   \n",
       "4           1      1            -1        1  ...                -1   \n",
       "\n",
       "   IframeRedirection  AgeofDomain  DNSRecording  WebsiteTraffic  PageRank  \\\n",
       "0                  1           -1            -1              -1        -1   \n",
       "1                  1           -1            -1               0        -1   \n",
       "2                  1            1            -1               1        -1   \n",
       "3                  1           -1            -1               1        -1   \n",
       "4                  1           -1            -1               0        -1   \n",
       "\n",
       "   GoogleIndex  LinksPointingToPage  StatsReport  class  \n",
       "0            1                    1           -1     -1  \n",
       "1            1                    1            1     -1  \n",
       "2            1                    0           -1     -1  \n",
       "3            1                   -1            1     -1  \n",
       "4            1                    1            1      1  \n",
       "\n",
       "[5 rows x 31 columns]"
      ]
     },
     "execution_count": 8,
     "metadata": {},
     "output_type": "execute_result"
    }
   ],
   "source": [
    "df.head()"
   ]
  },
  {
   "cell_type": "code",
   "execution_count": 16,
   "id": "25c84727",
   "metadata": {},
   "outputs": [
    {
     "data": {
      "text/plain": [
       "(11055, 31)"
      ]
     },
     "execution_count": 16,
     "metadata": {},
     "output_type": "execute_result"
    }
   ],
   "source": [
    "df.shape"
   ]
  },
  {
   "cell_type": "code",
   "execution_count": null,
   "id": "b2e11876",
   "metadata": {},
   "outputs": [],
   "source": []
  },
  {
   "cell_type": "code",
   "execution_count": 10,
   "id": "0194d286",
   "metadata": {},
   "outputs": [
    {
     "data": {
      "text/plain": [
       " 1    6157\n",
       "-1    4898\n",
       "Name: class, dtype: int64"
      ]
     },
     "execution_count": 10,
     "metadata": {},
     "output_type": "execute_result"
    }
   ],
   "source": [
    "df[\"class\"].value_counts()"
   ]
  },
  {
   "cell_type": "code",
   "execution_count": null,
   "id": "76b5c3ff",
   "metadata": {},
   "outputs": [],
   "source": []
  },
  {
   "cell_type": "code",
   "execution_count": 12,
   "id": "d3aab949",
   "metadata": {},
   "outputs": [
    {
     "name": "stdout",
     "output_type": "stream",
     "text": [
      "UsingIP\n",
      "2\n",
      "LongURL\n",
      "3\n",
      "ShortURL\n",
      "2\n",
      "Symbol@\n",
      "2\n",
      "Redirecting//\n",
      "2\n",
      "PrefixSuffix-\n",
      "2\n",
      "SubDomains\n",
      "3\n",
      "HTTPS\n",
      "3\n",
      "DomainRegLen\n",
      "2\n",
      "Favicon\n",
      "2\n",
      "NonStdPort\n",
      "2\n",
      "HTTPSDomainURL\n",
      "2\n",
      "RequestURL\n",
      "2\n",
      "AnchorURL\n",
      "3\n",
      "LinksInScriptTags\n",
      "3\n",
      "ServerFormHandler\n",
      "3\n",
      "InfoEmail\n",
      "2\n",
      "AbnormalURL\n",
      "2\n",
      "WebsiteForwarding\n",
      "2\n",
      "StatusBarCust\n",
      "2\n",
      "DisableRightClick\n",
      "2\n",
      "UsingPopupWindow\n",
      "2\n",
      "IframeRedirection\n",
      "2\n",
      "AgeofDomain\n",
      "2\n",
      "DNSRecording\n",
      "2\n",
      "WebsiteTraffic\n",
      "3\n",
      "PageRank\n",
      "2\n",
      "GoogleIndex\n",
      "2\n",
      "LinksPointingToPage\n",
      "3\n",
      "StatsReport\n",
      "2\n",
      "class\n",
      "2\n"
     ]
    }
   ],
   "source": [
    "for col in df.columns:\n",
    "    \n",
    "    print(col)\n",
    "    print(df[col].nunique())"
   ]
  },
  {
   "cell_type": "code",
   "execution_count": 13,
   "id": "bfe1ed5e",
   "metadata": {},
   "outputs": [],
   "source": [
    "# All columns are categorical."
   ]
  },
  {
   "cell_type": "code",
   "execution_count": null,
   "id": "0e17e448",
   "metadata": {},
   "outputs": [],
   "source": []
  },
  {
   "cell_type": "code",
   "execution_count": 14,
   "id": "c42d226e",
   "metadata": {
    "scrolled": false
   },
   "outputs": [
    {
     "name": "stdout",
     "output_type": "stream",
     "text": [
      "UsingIP\n",
      " 1    7262\n",
      "-1    3793\n",
      "Name: UsingIP, dtype: int64\n",
      "LongURL\n",
      "-1    8960\n",
      " 1    1960\n",
      " 0     135\n",
      "Name: LongURL, dtype: int64\n",
      "ShortURL\n",
      " 1    9611\n",
      "-1    1444\n",
      "Name: ShortURL, dtype: int64\n",
      "Symbol@\n",
      " 1    9400\n",
      "-1    1655\n",
      "Name: Symbol@, dtype: int64\n",
      "Redirecting//\n",
      " 1    9626\n",
      "-1    1429\n",
      "Name: Redirecting//, dtype: int64\n",
      "PrefixSuffix-\n",
      "-1    9590\n",
      " 1    1465\n",
      "Name: PrefixSuffix-, dtype: int64\n",
      "SubDomains\n",
      " 1    4070\n",
      " 0    3622\n",
      "-1    3363\n",
      "Name: SubDomains, dtype: int64\n",
      "HTTPS\n",
      " 1    6331\n",
      "-1    3557\n",
      " 0    1167\n",
      "Name: HTTPS, dtype: int64\n",
      "DomainRegLen\n",
      "-1    7389\n",
      " 1    3666\n",
      "Name: DomainRegLen, dtype: int64\n",
      "Favicon\n",
      " 1    9002\n",
      "-1    2053\n",
      "Name: Favicon, dtype: int64\n",
      "NonStdPort\n",
      " 1    9553\n",
      "-1    1502\n",
      "Name: NonStdPort, dtype: int64\n",
      "HTTPSDomainURL\n",
      " 1    9259\n",
      "-1    1796\n",
      "Name: HTTPSDomainURL, dtype: int64\n",
      "RequestURL\n",
      " 1    6560\n",
      "-1    4495\n",
      "Name: RequestURL, dtype: int64\n",
      "AnchorURL\n",
      " 0    5337\n",
      "-1    3282\n",
      " 1    2436\n",
      "Name: AnchorURL, dtype: int64\n",
      "LinksInScriptTags\n",
      " 0    4449\n",
      "-1    3956\n",
      " 1    2650\n",
      "Name: LinksInScriptTags, dtype: int64\n",
      "ServerFormHandler\n",
      "-1    8440\n",
      " 1    1854\n",
      " 0     761\n",
      "Name: ServerFormHandler, dtype: int64\n",
      "InfoEmail\n",
      " 1    9041\n",
      "-1    2014\n",
      "Name: InfoEmail, dtype: int64\n",
      "AbnormalURL\n",
      " 1    9426\n",
      "-1    1629\n",
      "Name: AbnormalURL, dtype: int64\n",
      "WebsiteForwarding\n",
      "0    9776\n",
      "1    1279\n",
      "Name: WebsiteForwarding, dtype: int64\n",
      "StatusBarCust\n",
      " 1    9740\n",
      "-1    1315\n",
      "Name: StatusBarCust, dtype: int64\n",
      "DisableRightClick\n",
      " 1    10579\n",
      "-1      476\n",
      "Name: DisableRightClick, dtype: int64\n",
      "UsingPopupWindow\n",
      " 1    8918\n",
      "-1    2137\n",
      "Name: UsingPopupWindow, dtype: int64\n",
      "IframeRedirection\n",
      " 1    10043\n",
      "-1     1012\n",
      "Name: IframeRedirection, dtype: int64\n",
      "AgeofDomain\n",
      " 1    5866\n",
      "-1    5189\n",
      "Name: AgeofDomain, dtype: int64\n",
      "DNSRecording\n",
      " 1    7612\n",
      "-1    3443\n",
      "Name: DNSRecording, dtype: int64\n",
      "WebsiteTraffic\n",
      " 1    5831\n",
      "-1    2655\n",
      " 0    2569\n",
      "Name: WebsiteTraffic, dtype: int64\n",
      "PageRank\n",
      "-1    8201\n",
      " 1    2854\n",
      "Name: PageRank, dtype: int64\n",
      "GoogleIndex\n",
      " 1    9516\n",
      "-1    1539\n",
      "Name: GoogleIndex, dtype: int64\n",
      "LinksPointingToPage\n",
      " 0    6156\n",
      " 1    4351\n",
      "-1     548\n",
      "Name: LinksPointingToPage, dtype: int64\n",
      "StatsReport\n",
      " 1    9505\n",
      "-1    1550\n",
      "Name: StatsReport, dtype: int64\n",
      "class\n",
      " 1    6157\n",
      "-1    4898\n",
      "Name: class, dtype: int64\n"
     ]
    }
   ],
   "source": [
    "for col in df.columns:\n",
    "    \n",
    "    print(col)\n",
    "    print(df[col].value_counts())"
   ]
  },
  {
   "cell_type": "code",
   "execution_count": 15,
   "id": "70de5644",
   "metadata": {},
   "outputs": [],
   "source": [
    "# All Columns have values in (-1,0,1) only.\n",
    "# No need to apply Label Encoder or Standardization."
   ]
  },
  {
   "cell_type": "code",
   "execution_count": null,
   "id": "38da7a23",
   "metadata": {},
   "outputs": [],
   "source": []
  },
  {
   "cell_type": "markdown",
   "id": "5609d8b7",
   "metadata": {},
   "source": [
    "### Train Test Spilt:"
   ]
  },
  {
   "cell_type": "code",
   "execution_count": 17,
   "id": "8485f376",
   "metadata": {},
   "outputs": [],
   "source": [
    "x = df.drop(\"class\",axis= 1)\n",
    "y = df[\"class\"]"
   ]
  },
  {
   "cell_type": "code",
   "execution_count": 18,
   "id": "3ff5852b",
   "metadata": {},
   "outputs": [],
   "source": [
    "x_train, x_test, y_train, y_test = train_test_split(x, y, test_size= 0.2, random_state= 42)"
   ]
  },
  {
   "cell_type": "code",
   "execution_count": 19,
   "id": "730c3d5c",
   "metadata": {},
   "outputs": [
    {
     "name": "stdout",
     "output_type": "stream",
     "text": [
      "(8844, 30)\n",
      "(8844,)\n",
      "(2211, 30)\n",
      "(2211,)\n"
     ]
    }
   ],
   "source": [
    "print(x_train.shape)\n",
    "print(y_train.shape)\n",
    "print(x_test.shape)\n",
    "print(y_test.shape)"
   ]
  },
  {
   "cell_type": "code",
   "execution_count": null,
   "id": "aadd4e05",
   "metadata": {},
   "outputs": [],
   "source": []
  },
  {
   "cell_type": "markdown",
   "id": "d4136932",
   "metadata": {},
   "source": [
    "### Logisitc Regression:"
   ]
  },
  {
   "cell_type": "code",
   "execution_count": 35,
   "id": "882adb22",
   "metadata": {},
   "outputs": [],
   "source": [
    "logreg = LogisticRegression(C= 100)"
   ]
  },
  {
   "cell_type": "code",
   "execution_count": 36,
   "id": "4094d209",
   "metadata": {},
   "outputs": [
    {
     "data": {
      "text/plain": [
       "LogisticRegression(C=100)"
      ]
     },
     "execution_count": 36,
     "metadata": {},
     "output_type": "execute_result"
    }
   ],
   "source": [
    "logreg.fit(x_train, y_train)"
   ]
  },
  {
   "cell_type": "code",
   "execution_count": 37,
   "id": "5b32d5e5",
   "metadata": {},
   "outputs": [],
   "source": [
    "pred = logreg.predict(x_test)"
   ]
  },
  {
   "cell_type": "code",
   "execution_count": 38,
   "id": "490357c7",
   "metadata": {},
   "outputs": [
    {
     "name": "stdout",
     "output_type": "stream",
     "text": [
      "              precision    recall  f1-score   support\n",
      "\n",
      "          -1       0.92      0.90      0.91       956\n",
      "           1       0.93      0.94      0.93      1255\n",
      "\n",
      "    accuracy                           0.92      2211\n",
      "   macro avg       0.92      0.92      0.92      2211\n",
      "weighted avg       0.92      0.92      0.92      2211\n",
      "\n"
     ]
    }
   ],
   "source": [
    "print(classification_report(y_test, pred))"
   ]
  },
  {
   "cell_type": "code",
   "execution_count": 39,
   "id": "ab71cca1",
   "metadata": {},
   "outputs": [
    {
     "data": {
      "image/png": "[encoded data removed]",
      "text/plain": [
       "<Figure size 432x288 with 2 Axes>"
      ]
     },
     "metadata": {
      "needs_background": "light"
     },
     "output_type": "display_data"
    }
   ],
   "source": [
    "plot_confusion_matrix(logreg, x_test, y_test)\n",
    "plt.show()"
   ]
  },
  {
   "cell_type": "code",
   "execution_count": null,
   "id": "39451f45",
   "metadata": {},
   "outputs": [],
   "source": []
  },
  {
   "cell_type": "markdown",
   "id": "a89ec335",
   "metadata": {},
   "source": [
    "### KNN:"
   ]
  },
  {
   "cell_type": "code",
   "execution_count": 29,
   "id": "ceec8b24",
   "metadata": {},
   "outputs": [],
   "source": [
    "knn = KNeighborsClassifier(n_neighbors= 10)"
   ]
  },
  {
   "cell_type": "code",
   "execution_count": 30,
   "id": "d255b7fd",
   "metadata": {},
   "outputs": [
    {
     "data": {
      "text/plain": [
       "KNeighborsClassifier(n_neighbors=10)"
      ]
     },
     "execution_count": 30,
     "metadata": {},
     "output_type": "execute_result"
    }
   ],
   "source": [
    "knn.fit(x_train, y_train)"
   ]
  },
  {
   "cell_type": "code",
   "execution_count": 31,
   "id": "b0e9a590",
   "metadata": {},
   "outputs": [],
   "source": [
    "pred = knn.predict(x_test)"
   ]
  },
  {
   "cell_type": "code",
   "execution_count": 32,
   "id": "b2e88849",
   "metadata": {},
   "outputs": [
    {
     "name": "stdout",
     "output_type": "stream",
     "text": [
      "              precision    recall  f1-score   support\n",
      "\n",
      "          -1       0.92      0.94      0.93       956\n",
      "           1       0.95      0.93      0.94      1255\n",
      "\n",
      "    accuracy                           0.94      2211\n",
      "   macro avg       0.93      0.94      0.93      2211\n",
      "weighted avg       0.94      0.94      0.94      2211\n",
      "\n"
     ]
    }
   ],
   "source": [
    "print(classification_report(y_test, pred))"
   ]
  },
  {
   "cell_type": "code",
   "execution_count": 33,
   "id": "1c797d21",
   "metadata": {},
   "outputs": [
    {
     "data": {
      "image/png": "[encoded data removed]",
      "text/plain": [
       "<Figure size 432x288 with 2 Axes>"
      ]
     },
     "metadata": {
      "needs_background": "light"
     },
     "output_type": "display_data"
    }
   ],
   "source": [
    "plot_confusion_matrix(knn, x_test, y_test)\n",
    "plt.show()"
   ]
  },
  {
   "cell_type": "code",
   "execution_count": null,
   "id": "ac517c19",
   "metadata": {},
   "outputs": [],
   "source": []
  },
  {
   "cell_type": "markdown",
   "id": "9f1df33f",
   "metadata": {},
   "source": [
    "### Building Model Using Only Prefix_Suffix and URL_of_Anchor:"
   ]
  },
  {
   "cell_type": "code",
   "execution_count": 40,
   "id": "187f43a5",
   "metadata": {},
   "outputs": [
    {
     "data": {
      "text/plain": [
       "Index(['UsingIP', 'LongURL', 'ShortURL', 'Symbol@', 'Redirecting//',\n",
       "       'PrefixSuffix-', 'SubDomains', 'HTTPS', 'DomainRegLen', 'Favicon',\n",
       "       'NonStdPort', 'HTTPSDomainURL', 'RequestURL', 'AnchorURL',\n",
       "       'LinksInScriptTags', 'ServerFormHandler', 'InfoEmail', 'AbnormalURL',\n",
       "       'WebsiteForwarding', 'StatusBarCust', 'DisableRightClick',\n",
       "       'UsingPopupWindow', 'IframeRedirection', 'AgeofDomain', 'DNSRecording',\n",
       "       'WebsiteTraffic', 'PageRank', 'GoogleIndex', 'LinksPointingToPage',\n",
       "       'StatsReport'],\n",
       "      dtype='object')"
      ]
     },
     "execution_count": 40,
     "metadata": {},
     "output_type": "execute_result"
    }
   ],
   "source": [
    "x.columns"
   ]
  },
  {
   "cell_type": "code",
   "execution_count": 41,
   "id": "308ec9a6",
   "metadata": {},
   "outputs": [],
   "source": [
    "x_train_2 = x_train[[\"PrefixSuffix-\", \"AnchorURL\"]]"
   ]
  },
  {
   "cell_type": "code",
   "execution_count": 42,
   "id": "eb86ec80",
   "metadata": {},
   "outputs": [],
   "source": [
    "x_test_2 = x_test[[\"PrefixSuffix-\", \"AnchorURL\"]]"
   ]
  },
  {
   "cell_type": "code",
   "execution_count": null,
   "id": "94728390",
   "metadata": {},
   "outputs": [],
   "source": []
  },
  {
   "cell_type": "code",
   "execution_count": 43,
   "id": "97875c65",
   "metadata": {},
   "outputs": [
    {
     "name": "stdout",
     "output_type": "stream",
     "text": [
      "              precision    recall  f1-score   support\n",
      "\n",
      "          -1       0.99      0.66      0.79       956\n",
      "           1       0.80      1.00      0.88      1255\n",
      "\n",
      "    accuracy                           0.85      2211\n",
      "   macro avg       0.89      0.83      0.84      2211\n",
      "weighted avg       0.88      0.85      0.85      2211\n",
      "\n"
     ]
    },
    {
     "data": {
      "image/png": "[encoded data removed]",
      "text/plain": [
       "<Figure size 432x288 with 2 Axes>"
      ]
     },
     "metadata": {
      "needs_background": "light"
     },
     "output_type": "display_data"
    }
   ],
   "source": [
    "### Logistic Regression:\n",
    "\n",
    "log_model_2 = LogisticRegression(C= 100)\n",
    "\n",
    "log_model_2.fit(x_train_2, y_train)\n",
    "\n",
    "pred = log_model_2.predict(x_test_2)\n",
    "\n",
    "print(classification_report(y_test, pred))\n",
    "\n",
    "plot_confusion_matrix(log_model_2, x_test_2, y_test)\n",
    "plt.show()"
   ]
  },
  {
   "cell_type": "code",
   "execution_count": null,
   "id": "84f948f3",
   "metadata": {},
   "outputs": [],
   "source": []
  },
  {
   "cell_type": "code",
   "execution_count": 44,
   "id": "2d3d6bd8",
   "metadata": {},
   "outputs": [
    {
     "name": "stdout",
     "output_type": "stream",
     "text": [
      "              precision    recall  f1-score   support\n",
      "\n",
      "          -1       0.99      0.66      0.79       956\n",
      "           1       0.80      1.00      0.88      1255\n",
      "\n",
      "    accuracy                           0.85      2211\n",
      "   macro avg       0.89      0.83      0.84      2211\n",
      "weighted avg       0.88      0.85      0.85      2211\n",
      "\n"
     ]
    },
    {
     "data": {
      "image/png": "[encoded data removed]",
      "text/plain": [
       "<Figure size 432x288 with 2 Axes>"
      ]
     },
     "metadata": {
      "needs_background": "light"
     },
     "output_type": "display_data"
    }
   ],
   "source": [
    "### knn:\n",
    "\n",
    "knn_model_2 = KNeighborsClassifier(n_neighbors= 10)\n",
    "\n",
    "knn_model_2.fit(x_train_2, y_train)\n",
    "\n",
    "pred = knn_model_2.predict(x_test_2)\n",
    "\n",
    "print(classification_report(y_test, pred))\n",
    "\n",
    "plot_confusion_matrix(knn_model_2, x_test_2, y_test)\n",
    "plt.show()"
   ]
  },
  {
   "cell_type": "code",
   "execution_count": null,
   "id": "947bf130",
   "metadata": {},
   "outputs": [],
   "source": []
  },
  {
   "cell_type": "code",
   "execution_count": 45,
   "id": "7b6b24f3",
   "metadata": {},
   "outputs": [],
   "source": [
    "# Even after Removing 28 Independent Variables from Model, Accuracies of Both Models Dropped by Approximately 6-9% Only.\n",
    "# Shows how Importnat these Two Independent Variable are to Classify Target Varible.\n",
    "\n",
    "# Also, Using Two Independent Variables, Both Logistic Regression and KNN are giving Exactly same Result."
   ]
  }
 ],
 "metadata": {
  "kernelspec": {
   "display_name": "Python 3 (ipykernel)",
   "language": "python",
   "name": "python3"
  },
  "language_info": {
   "codemirror_mode": {
    "name": "ipython",
    "version": 3
   },
   "file_extension": ".py",
   "mimetype": "text/x-python",
   "name": "python",
   "nbconvert_exporter": "python",
   "pygments_lexer": "ipython3",
   "version": "3.8.12"
  }
 },
 "nbformat": 4,
 "nbformat_minor": 5
}
