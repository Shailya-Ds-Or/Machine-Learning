{
 "cells": [
  {
   "cell_type": "markdown",
   "id": "2396adf5",
   "metadata": {},
   "source": [
    "# Income Qualification"
   ]
  },
  {
   "cell_type": "markdown",
   "id": "ed070d4b",
   "metadata": {},
   "source": [
    "### DESCRIPTION\n",
    "\n",
    "Identify the level of income qualification needed for the families in Latin America.\n",
    "\n",
    "#### Problem Statement Scenario:\n",
    "Many social programs have a hard time ensuring that the right people are given enough aid. It’s tricky when a program focuses on the poorest segment of the population. This segment of the population can’t provide the necessary income and expense records to prove that they qualify.\n",
    "\n",
    "In Latin America, a popular method called Proxy Means Test (PMT) uses an algorithm to verify income qualification. With PMT, agencies use a model that considers a family’s observable household attributes like the material of their walls and ceiling or the assets found in their homes to\n",
    "classify them and predict their level of need.\n",
    "\n",
    "While this is an improvement, accuracy remains a problem as the region’s population grows and poverty declines.\n",
    "\n",
    "The Inter-American Development Bank (IDB)believes that new methods beyond traditional econometrics, based on a dataset of Costa Rican household characteristics, might help improve PMT’s performance.\n",
    "\n",
    "#### Following actions should be performed:\n",
    "\n",
    "1) Identify the output variable.\n",
    "\n",
    "2) Understand the type of data.\n",
    "\n",
    "3) Check if there are any biases in your dataset.\n",
    "\n",
    "4) Check whether all members of the house have the same poverty level.\n",
    "\n",
    "5) Check if there is a house without a family head.\n",
    "\n",
    "6) Set poverty level of the members and the head of the house within a family.\n",
    "\n",
    "7) Count how many null values are existing in columns.\n",
    "\n",
    "8) Remove null value rows of the target variable.\n",
    "\n",
    "9) Predict the accuracy using random forest classifier.\n",
    "\n",
    "10) Check the accuracy using random forest with cross validation."
   ]
  },
  {
   "cell_type": "code",
   "execution_count": null,
   "id": "06438a67",
   "metadata": {},
   "outputs": [],
   "source": []
  },
  {
   "cell_type": "code",
   "execution_count": 71,
   "id": "9405d3c5",
   "metadata": {},
   "outputs": [],
   "source": [
    "import pandas as pd\n",
    "import numpy as np\n",
    "import matplotlib.pyplot as plt\n",
    "import seaborn as sns\n",
    "\n",
    "from sklearn.preprocessing import LabelEncoder, StandardScaler\n",
    "from sklearn.model_selection import train_test_split, cross_validate\n",
    "from imblearn.over_sampling import SMOTE\n",
    "from sklearn.ensemble import RandomForestClassifier\n",
    "from sklearn.metrics import classification_report, plot_confusion_matrix\n",
    "\n",
    "import warnings\n",
    "warnings.filterwarnings(\"ignore\")"
   ]
  },
  {
   "cell_type": "code",
   "execution_count": null,
   "id": "59f2c6eb",
   "metadata": {},
   "outputs": [],
   "source": []
  },
  {
   "cell_type": "code",
   "execution_count": 72,
   "id": "3bbb48fd",
   "metadata": {},
   "outputs": [],
   "source": [
    "income_train = pd.read_csv(\"train.csv\")"
   ]
  },
  {
   "cell_type": "code",
   "execution_count": 73,
   "id": "973c0582",
   "metadata": {},
   "outputs": [],
   "source": [
    "income_test = pd.read_csv(\"test.csv\")"
   ]
  },
  {
   "cell_type": "code",
   "execution_count": null,
   "id": "b25abc89",
   "metadata": {},
   "outputs": [],
   "source": []
  },
  {
   "cell_type": "markdown",
   "id": "00df4d64",
   "metadata": {},
   "source": [
    "**We will Work on Train and Test Data Simultaneously so that we can make same changes in Test Data that we do in Train Data.**"
   ]
  },
  {
   "cell_type": "code",
   "execution_count": null,
   "id": "353901f4",
   "metadata": {},
   "outputs": [],
   "source": []
  },
  {
   "cell_type": "markdown",
   "id": "d4c8e519",
   "metadata": {},
   "source": [
    "#### 1) Exploring Data:"
   ]
  },
  {
   "cell_type": "code",
   "execution_count": 74,
   "id": "103bad35",
   "metadata": {},
   "outputs": [
    {
     "data": {
      "text/html": [
       "<div>\n",
       "<style scoped>\n",
       "    .dataframe tbody tr th:only-of-type {\n",
       "        vertical-align: middle;\n",
       "    }\n",
       "\n",
       "    .dataframe tbody tr th {\n",
       "        vertical-align: top;\n",
       "    }\n",
       "\n",
       "    .dataframe thead th {\n",
       "        text-align: right;\n",
       "    }\n",
       "</style>\n",
       "<table border=\"1\" class=\"dataframe\">\n",
       "  <thead>\n",
       "    <tr style=\"text-align: right;\">\n",
       "      <th></th>\n",
       "      <th>Id</th>\n",
       "      <th>v2a1</th>\n",
       "      <th>hacdor</th>\n",
       "      <th>rooms</th>\n",
       "      <th>hacapo</th>\n",
       "      <th>v14a</th>\n",
       "      <th>refrig</th>\n",
       "      <th>v18q</th>\n",
       "      <th>v18q1</th>\n",
       "      <th>r4h1</th>\n",
       "      <th>...</th>\n",
       "      <th>SQBescolari</th>\n",
       "      <th>SQBage</th>\n",
       "      <th>SQBhogar_total</th>\n",
       "      <th>SQBedjefe</th>\n",
       "      <th>SQBhogar_nin</th>\n",
       "      <th>SQBovercrowding</th>\n",
       "      <th>SQBdependency</th>\n",
       "      <th>SQBmeaned</th>\n",
       "      <th>agesq</th>\n",
       "      <th>Target</th>\n",
       "    </tr>\n",
       "  </thead>\n",
       "  <tbody>\n",
       "    <tr>\n",
       "      <th>0</th>\n",
       "      <td>ID_279628684</td>\n",
       "      <td>190000.0</td>\n",
       "      <td>0</td>\n",
       "      <td>3</td>\n",
       "      <td>0</td>\n",
       "      <td>1</td>\n",
       "      <td>1</td>\n",
       "      <td>0</td>\n",
       "      <td>NaN</td>\n",
       "      <td>0</td>\n",
       "      <td>...</td>\n",
       "      <td>100</td>\n",
       "      <td>1849</td>\n",
       "      <td>1</td>\n",
       "      <td>100</td>\n",
       "      <td>0</td>\n",
       "      <td>1.000000</td>\n",
       "      <td>0.0</td>\n",
       "      <td>100.0</td>\n",
       "      <td>1849</td>\n",
       "      <td>4</td>\n",
       "    </tr>\n",
       "    <tr>\n",
       "      <th>1</th>\n",
       "      <td>ID_f29eb3ddd</td>\n",
       "      <td>135000.0</td>\n",
       "      <td>0</td>\n",
       "      <td>4</td>\n",
       "      <td>0</td>\n",
       "      <td>1</td>\n",
       "      <td>1</td>\n",
       "      <td>1</td>\n",
       "      <td>1.0</td>\n",
       "      <td>0</td>\n",
       "      <td>...</td>\n",
       "      <td>144</td>\n",
       "      <td>4489</td>\n",
       "      <td>1</td>\n",
       "      <td>144</td>\n",
       "      <td>0</td>\n",
       "      <td>1.000000</td>\n",
       "      <td>64.0</td>\n",
       "      <td>144.0</td>\n",
       "      <td>4489</td>\n",
       "      <td>4</td>\n",
       "    </tr>\n",
       "    <tr>\n",
       "      <th>2</th>\n",
       "      <td>ID_68de51c94</td>\n",
       "      <td>NaN</td>\n",
       "      <td>0</td>\n",
       "      <td>8</td>\n",
       "      <td>0</td>\n",
       "      <td>1</td>\n",
       "      <td>1</td>\n",
       "      <td>0</td>\n",
       "      <td>NaN</td>\n",
       "      <td>0</td>\n",
       "      <td>...</td>\n",
       "      <td>121</td>\n",
       "      <td>8464</td>\n",
       "      <td>1</td>\n",
       "      <td>0</td>\n",
       "      <td>0</td>\n",
       "      <td>0.250000</td>\n",
       "      <td>64.0</td>\n",
       "      <td>121.0</td>\n",
       "      <td>8464</td>\n",
       "      <td>4</td>\n",
       "    </tr>\n",
       "    <tr>\n",
       "      <th>3</th>\n",
       "      <td>ID_d671db89c</td>\n",
       "      <td>180000.0</td>\n",
       "      <td>0</td>\n",
       "      <td>5</td>\n",
       "      <td>0</td>\n",
       "      <td>1</td>\n",
       "      <td>1</td>\n",
       "      <td>1</td>\n",
       "      <td>1.0</td>\n",
       "      <td>0</td>\n",
       "      <td>...</td>\n",
       "      <td>81</td>\n",
       "      <td>289</td>\n",
       "      <td>16</td>\n",
       "      <td>121</td>\n",
       "      <td>4</td>\n",
       "      <td>1.777778</td>\n",
       "      <td>1.0</td>\n",
       "      <td>121.0</td>\n",
       "      <td>289</td>\n",
       "      <td>4</td>\n",
       "    </tr>\n",
       "    <tr>\n",
       "      <th>4</th>\n",
       "      <td>ID_d56d6f5f5</td>\n",
       "      <td>180000.0</td>\n",
       "      <td>0</td>\n",
       "      <td>5</td>\n",
       "      <td>0</td>\n",
       "      <td>1</td>\n",
       "      <td>1</td>\n",
       "      <td>1</td>\n",
       "      <td>1.0</td>\n",
       "      <td>0</td>\n",
       "      <td>...</td>\n",
       "      <td>121</td>\n",
       "      <td>1369</td>\n",
       "      <td>16</td>\n",
       "      <td>121</td>\n",
       "      <td>4</td>\n",
       "      <td>1.777778</td>\n",
       "      <td>1.0</td>\n",
       "      <td>121.0</td>\n",
       "      <td>1369</td>\n",
       "      <td>4</td>\n",
       "    </tr>\n",
       "  </tbody>\n",
       "</table>\n",
       "<p>5 rows × 143 columns</p>\n",
       "</div>"
      ],
      "text/plain": [
       "             Id      v2a1  hacdor  rooms  hacapo  v14a  refrig  v18q  v18q1  \\\n",
       "0  ID_279628684  190000.0       0      3       0     1       1     0    NaN   \n",
       "1  ID_f29eb3ddd  135000.0       0      4       0     1       1     1    1.0   \n",
       "2  ID_68de51c94       NaN       0      8       0     1       1     0    NaN   \n",
       "3  ID_d671db89c  180000.0       0      5       0     1       1     1    1.0   \n",
       "4  ID_d56d6f5f5  180000.0       0      5       0     1       1     1    1.0   \n",
       "\n",
       "   r4h1  ...  SQBescolari  SQBage  SQBhogar_total  SQBedjefe  SQBhogar_nin  \\\n",
       "0     0  ...          100    1849               1        100             0   \n",
       "1     0  ...          144    4489               1        144             0   \n",
       "2     0  ...          121    8464               1          0             0   \n",
       "3     0  ...           81     289              16        121             4   \n",
       "4     0  ...          121    1369              16        121             4   \n",
       "\n",
       "   SQBovercrowding  SQBdependency  SQBmeaned  agesq  Target  \n",
       "0         1.000000            0.0      100.0   1849       4  \n",
       "1         1.000000           64.0      144.0   4489       4  \n",
       "2         0.250000           64.0      121.0   8464       4  \n",
       "3         1.777778            1.0      121.0    289       4  \n",
       "4         1.777778            1.0      121.0   1369       4  \n",
       "\n",
       "[5 rows x 143 columns]"
      ]
     },
     "execution_count": 74,
     "metadata": {},
     "output_type": "execute_result"
    }
   ],
   "source": [
    "income_train.head()"
   ]
  },
  {
   "cell_type": "code",
   "execution_count": 75,
   "id": "ee31ee7c",
   "metadata": {},
   "outputs": [
    {
     "data": {
      "text/html": [
       "<div>\n",
       "<style scoped>\n",
       "    .dataframe tbody tr th:only-of-type {\n",
       "        vertical-align: middle;\n",
       "    }\n",
       "\n",
       "    .dataframe tbody tr th {\n",
       "        vertical-align: top;\n",
       "    }\n",
       "\n",
       "    .dataframe thead th {\n",
       "        text-align: right;\n",
       "    }\n",
       "</style>\n",
       "<table border=\"1\" class=\"dataframe\">\n",
       "  <thead>\n",
       "    <tr style=\"text-align: right;\">\n",
       "      <th></th>\n",
       "      <th>Id</th>\n",
       "      <th>v2a1</th>\n",
       "      <th>hacdor</th>\n",
       "      <th>rooms</th>\n",
       "      <th>hacapo</th>\n",
       "      <th>v14a</th>\n",
       "      <th>refrig</th>\n",
       "      <th>v18q</th>\n",
       "      <th>v18q1</th>\n",
       "      <th>r4h1</th>\n",
       "      <th>...</th>\n",
       "      <th>age</th>\n",
       "      <th>SQBescolari</th>\n",
       "      <th>SQBage</th>\n",
       "      <th>SQBhogar_total</th>\n",
       "      <th>SQBedjefe</th>\n",
       "      <th>SQBhogar_nin</th>\n",
       "      <th>SQBovercrowding</th>\n",
       "      <th>SQBdependency</th>\n",
       "      <th>SQBmeaned</th>\n",
       "      <th>agesq</th>\n",
       "    </tr>\n",
       "  </thead>\n",
       "  <tbody>\n",
       "    <tr>\n",
       "      <th>0</th>\n",
       "      <td>ID_2f6873615</td>\n",
       "      <td>NaN</td>\n",
       "      <td>0</td>\n",
       "      <td>5</td>\n",
       "      <td>0</td>\n",
       "      <td>1</td>\n",
       "      <td>1</td>\n",
       "      <td>0</td>\n",
       "      <td>NaN</td>\n",
       "      <td>1</td>\n",
       "      <td>...</td>\n",
       "      <td>4</td>\n",
       "      <td>0</td>\n",
       "      <td>16</td>\n",
       "      <td>9</td>\n",
       "      <td>0</td>\n",
       "      <td>1</td>\n",
       "      <td>2.25</td>\n",
       "      <td>0.25</td>\n",
       "      <td>272.25</td>\n",
       "      <td>16</td>\n",
       "    </tr>\n",
       "    <tr>\n",
       "      <th>1</th>\n",
       "      <td>ID_1c78846d2</td>\n",
       "      <td>NaN</td>\n",
       "      <td>0</td>\n",
       "      <td>5</td>\n",
       "      <td>0</td>\n",
       "      <td>1</td>\n",
       "      <td>1</td>\n",
       "      <td>0</td>\n",
       "      <td>NaN</td>\n",
       "      <td>1</td>\n",
       "      <td>...</td>\n",
       "      <td>41</td>\n",
       "      <td>256</td>\n",
       "      <td>1681</td>\n",
       "      <td>9</td>\n",
       "      <td>0</td>\n",
       "      <td>1</td>\n",
       "      <td>2.25</td>\n",
       "      <td>0.25</td>\n",
       "      <td>272.25</td>\n",
       "      <td>1681</td>\n",
       "    </tr>\n",
       "    <tr>\n",
       "      <th>2</th>\n",
       "      <td>ID_e5442cf6a</td>\n",
       "      <td>NaN</td>\n",
       "      <td>0</td>\n",
       "      <td>5</td>\n",
       "      <td>0</td>\n",
       "      <td>1</td>\n",
       "      <td>1</td>\n",
       "      <td>0</td>\n",
       "      <td>NaN</td>\n",
       "      <td>1</td>\n",
       "      <td>...</td>\n",
       "      <td>41</td>\n",
       "      <td>289</td>\n",
       "      <td>1681</td>\n",
       "      <td>9</td>\n",
       "      <td>0</td>\n",
       "      <td>1</td>\n",
       "      <td>2.25</td>\n",
       "      <td>0.25</td>\n",
       "      <td>272.25</td>\n",
       "      <td>1681</td>\n",
       "    </tr>\n",
       "    <tr>\n",
       "      <th>3</th>\n",
       "      <td>ID_a8db26a79</td>\n",
       "      <td>NaN</td>\n",
       "      <td>0</td>\n",
       "      <td>14</td>\n",
       "      <td>0</td>\n",
       "      <td>1</td>\n",
       "      <td>1</td>\n",
       "      <td>1</td>\n",
       "      <td>1.0</td>\n",
       "      <td>0</td>\n",
       "      <td>...</td>\n",
       "      <td>59</td>\n",
       "      <td>256</td>\n",
       "      <td>3481</td>\n",
       "      <td>1</td>\n",
       "      <td>256</td>\n",
       "      <td>0</td>\n",
       "      <td>1.00</td>\n",
       "      <td>0.00</td>\n",
       "      <td>256.00</td>\n",
       "      <td>3481</td>\n",
       "    </tr>\n",
       "    <tr>\n",
       "      <th>4</th>\n",
       "      <td>ID_a62966799</td>\n",
       "      <td>175000.0</td>\n",
       "      <td>0</td>\n",
       "      <td>4</td>\n",
       "      <td>0</td>\n",
       "      <td>1</td>\n",
       "      <td>1</td>\n",
       "      <td>1</td>\n",
       "      <td>1.0</td>\n",
       "      <td>0</td>\n",
       "      <td>...</td>\n",
       "      <td>18</td>\n",
       "      <td>121</td>\n",
       "      <td>324</td>\n",
       "      <td>1</td>\n",
       "      <td>0</td>\n",
       "      <td>1</td>\n",
       "      <td>0.25</td>\n",
       "      <td>64.00</td>\n",
       "      <td>NaN</td>\n",
       "      <td>324</td>\n",
       "    </tr>\n",
       "  </tbody>\n",
       "</table>\n",
       "<p>5 rows × 142 columns</p>\n",
       "</div>"
      ],
      "text/plain": [
       "             Id      v2a1  hacdor  rooms  hacapo  v14a  refrig  v18q  v18q1  \\\n",
       "0  ID_2f6873615       NaN       0      5       0     1       1     0    NaN   \n",
       "1  ID_1c78846d2       NaN       0      5       0     1       1     0    NaN   \n",
       "2  ID_e5442cf6a       NaN       0      5       0     1       1     0    NaN   \n",
       "3  ID_a8db26a79       NaN       0     14       0     1       1     1    1.0   \n",
       "4  ID_a62966799  175000.0       0      4       0     1       1     1    1.0   \n",
       "\n",
       "   r4h1  ...  age  SQBescolari  SQBage  SQBhogar_total  SQBedjefe  \\\n",
       "0     1  ...    4            0      16               9          0   \n",
       "1     1  ...   41          256    1681               9          0   \n",
       "2     1  ...   41          289    1681               9          0   \n",
       "3     0  ...   59          256    3481               1        256   \n",
       "4     0  ...   18          121     324               1          0   \n",
       "\n",
       "   SQBhogar_nin  SQBovercrowding  SQBdependency  SQBmeaned  agesq  \n",
       "0             1             2.25           0.25     272.25     16  \n",
       "1             1             2.25           0.25     272.25   1681  \n",
       "2             1             2.25           0.25     272.25   1681  \n",
       "3             0             1.00           0.00     256.00   3481  \n",
       "4             1             0.25          64.00        NaN    324  \n",
       "\n",
       "[5 rows x 142 columns]"
      ]
     },
     "execution_count": 75,
     "metadata": {},
     "output_type": "execute_result"
    }
   ],
   "source": [
    "income_test.head()"
   ]
  },
  {
   "cell_type": "code",
   "execution_count": null,
   "id": "e2990ae5",
   "metadata": {},
   "outputs": [],
   "source": []
  },
  {
   "cell_type": "code",
   "execution_count": 76,
   "id": "0ef2cbb8",
   "metadata": {},
   "outputs": [
    {
     "data": {
      "text/plain": [
       "Index(['Id', 'v2a1', 'hacdor', 'rooms', 'hacapo', 'v14a', 'refrig', 'v18q',\n",
       "       'v18q1', 'r4h1',\n",
       "       ...\n",
       "       'SQBescolari', 'SQBage', 'SQBhogar_total', 'SQBedjefe', 'SQBhogar_nin',\n",
       "       'SQBovercrowding', 'SQBdependency', 'SQBmeaned', 'agesq', 'Target'],\n",
       "      dtype='object', length=143)"
      ]
     },
     "execution_count": 76,
     "metadata": {},
     "output_type": "execute_result"
    }
   ],
   "source": [
    "income_train.columns"
   ]
  },
  {
   "cell_type": "code",
   "execution_count": 77,
   "id": "da72bd88",
   "metadata": {},
   "outputs": [
    {
     "data": {
      "text/plain": [
       "Index(['Id', 'v2a1', 'hacdor', 'rooms', 'hacapo', 'v14a', 'refrig', 'v18q',\n",
       "       'v18q1', 'r4h1',\n",
       "       ...\n",
       "       'age', 'SQBescolari', 'SQBage', 'SQBhogar_total', 'SQBedjefe',\n",
       "       'SQBhogar_nin', 'SQBovercrowding', 'SQBdependency', 'SQBmeaned',\n",
       "       'agesq'],\n",
       "      dtype='object', length=142)"
      ]
     },
     "execution_count": 77,
     "metadata": {},
     "output_type": "execute_result"
    }
   ],
   "source": [
    "income_test.columns"
   ]
  },
  {
   "cell_type": "code",
   "execution_count": null,
   "id": "b9ca5745",
   "metadata": {},
   "outputs": [],
   "source": []
  },
  {
   "cell_type": "code",
   "execution_count": 78,
   "id": "705d959d",
   "metadata": {},
   "outputs": [
    {
     "name": "stdout",
     "output_type": "stream",
     "text": [
      "<class 'pandas.core.frame.DataFrame'>\n",
      "RangeIndex: 9557 entries, 0 to 9556\n",
      "Columns: 143 entries, Id to Target\n",
      "dtypes: float64(8), int64(130), object(5)\n",
      "memory usage: 10.4+ MB\n"
     ]
    }
   ],
   "source": [
    "income_train.info()"
   ]
  },
  {
   "cell_type": "code",
   "execution_count": 79,
   "id": "67b0ba32",
   "metadata": {},
   "outputs": [
    {
     "name": "stdout",
     "output_type": "stream",
     "text": [
      "<class 'pandas.core.frame.DataFrame'>\n",
      "RangeIndex: 23856 entries, 0 to 23855\n",
      "Columns: 142 entries, Id to agesq\n",
      "dtypes: float64(8), int64(129), object(5)\n",
      "memory usage: 25.8+ MB\n"
     ]
    }
   ],
   "source": [
    "income_test.info()"
   ]
  },
  {
   "cell_type": "code",
   "execution_count": null,
   "id": "f95ecd8f",
   "metadata": {},
   "outputs": [],
   "source": []
  },
  {
   "cell_type": "code",
   "execution_count": 80,
   "id": "166d9452",
   "metadata": {},
   "outputs": [
    {
     "data": {
      "text/html": [
       "<div>\n",
       "<style scoped>\n",
       "    .dataframe tbody tr th:only-of-type {\n",
       "        vertical-align: middle;\n",
       "    }\n",
       "\n",
       "    .dataframe tbody tr th {\n",
       "        vertical-align: top;\n",
       "    }\n",
       "\n",
       "    .dataframe thead th {\n",
       "        text-align: right;\n",
       "    }\n",
       "</style>\n",
       "<table border=\"1\" class=\"dataframe\">\n",
       "  <thead>\n",
       "    <tr style=\"text-align: right;\">\n",
       "      <th></th>\n",
       "      <th>v2a1</th>\n",
       "      <th>hacdor</th>\n",
       "      <th>rooms</th>\n",
       "      <th>hacapo</th>\n",
       "      <th>v14a</th>\n",
       "      <th>refrig</th>\n",
       "      <th>v18q</th>\n",
       "      <th>v18q1</th>\n",
       "      <th>r4h1</th>\n",
       "      <th>r4h2</th>\n",
       "      <th>...</th>\n",
       "      <th>SQBescolari</th>\n",
       "      <th>SQBage</th>\n",
       "      <th>SQBhogar_total</th>\n",
       "      <th>SQBedjefe</th>\n",
       "      <th>SQBhogar_nin</th>\n",
       "      <th>SQBovercrowding</th>\n",
       "      <th>SQBdependency</th>\n",
       "      <th>SQBmeaned</th>\n",
       "      <th>agesq</th>\n",
       "      <th>Target</th>\n",
       "    </tr>\n",
       "  </thead>\n",
       "  <tbody>\n",
       "    <tr>\n",
       "      <th>count</th>\n",
       "      <td>2.697000e+03</td>\n",
       "      <td>9557.000000</td>\n",
       "      <td>9557.000000</td>\n",
       "      <td>9557.000000</td>\n",
       "      <td>9557.000000</td>\n",
       "      <td>9557.000000</td>\n",
       "      <td>9557.000000</td>\n",
       "      <td>2215.000000</td>\n",
       "      <td>9557.000000</td>\n",
       "      <td>9557.000000</td>\n",
       "      <td>...</td>\n",
       "      <td>9557.000000</td>\n",
       "      <td>9557.000000</td>\n",
       "      <td>9557.000000</td>\n",
       "      <td>9557.000000</td>\n",
       "      <td>9557.000000</td>\n",
       "      <td>9557.000000</td>\n",
       "      <td>9557.000000</td>\n",
       "      <td>9552.000000</td>\n",
       "      <td>9557.000000</td>\n",
       "      <td>9557.000000</td>\n",
       "    </tr>\n",
       "    <tr>\n",
       "      <th>mean</th>\n",
       "      <td>1.652316e+05</td>\n",
       "      <td>0.038087</td>\n",
       "      <td>4.955530</td>\n",
       "      <td>0.023648</td>\n",
       "      <td>0.994768</td>\n",
       "      <td>0.957623</td>\n",
       "      <td>0.231767</td>\n",
       "      <td>1.404063</td>\n",
       "      <td>0.385895</td>\n",
       "      <td>1.559171</td>\n",
       "      <td>...</td>\n",
       "      <td>74.222769</td>\n",
       "      <td>1643.774302</td>\n",
       "      <td>19.132887</td>\n",
       "      <td>53.500262</td>\n",
       "      <td>3.844826</td>\n",
       "      <td>3.249485</td>\n",
       "      <td>3.900409</td>\n",
       "      <td>102.588867</td>\n",
       "      <td>1643.774302</td>\n",
       "      <td>3.302292</td>\n",
       "    </tr>\n",
       "    <tr>\n",
       "      <th>std</th>\n",
       "      <td>1.504571e+05</td>\n",
       "      <td>0.191417</td>\n",
       "      <td>1.468381</td>\n",
       "      <td>0.151957</td>\n",
       "      <td>0.072145</td>\n",
       "      <td>0.201459</td>\n",
       "      <td>0.421983</td>\n",
       "      <td>0.763131</td>\n",
       "      <td>0.680779</td>\n",
       "      <td>1.036574</td>\n",
       "      <td>...</td>\n",
       "      <td>76.777549</td>\n",
       "      <td>1741.197050</td>\n",
       "      <td>18.751395</td>\n",
       "      <td>78.445804</td>\n",
       "      <td>6.946296</td>\n",
       "      <td>4.129547</td>\n",
       "      <td>12.511831</td>\n",
       "      <td>93.516890</td>\n",
       "      <td>1741.197050</td>\n",
       "      <td>1.009565</td>\n",
       "    </tr>\n",
       "    <tr>\n",
       "      <th>min</th>\n",
       "      <td>0.000000e+00</td>\n",
       "      <td>0.000000</td>\n",
       "      <td>1.000000</td>\n",
       "      <td>0.000000</td>\n",
       "      <td>0.000000</td>\n",
       "      <td>0.000000</td>\n",
       "      <td>0.000000</td>\n",
       "      <td>1.000000</td>\n",
       "      <td>0.000000</td>\n",
       "      <td>0.000000</td>\n",
       "      <td>...</td>\n",
       "      <td>0.000000</td>\n",
       "      <td>0.000000</td>\n",
       "      <td>1.000000</td>\n",
       "      <td>0.000000</td>\n",
       "      <td>0.000000</td>\n",
       "      <td>0.040000</td>\n",
       "      <td>0.000000</td>\n",
       "      <td>0.000000</td>\n",
       "      <td>0.000000</td>\n",
       "      <td>1.000000</td>\n",
       "    </tr>\n",
       "    <tr>\n",
       "      <th>25%</th>\n",
       "      <td>8.000000e+04</td>\n",
       "      <td>0.000000</td>\n",
       "      <td>4.000000</td>\n",
       "      <td>0.000000</td>\n",
       "      <td>1.000000</td>\n",
       "      <td>1.000000</td>\n",
       "      <td>0.000000</td>\n",
       "      <td>1.000000</td>\n",
       "      <td>0.000000</td>\n",
       "      <td>1.000000</td>\n",
       "      <td>...</td>\n",
       "      <td>16.000000</td>\n",
       "      <td>289.000000</td>\n",
       "      <td>9.000000</td>\n",
       "      <td>0.000000</td>\n",
       "      <td>0.000000</td>\n",
       "      <td>1.000000</td>\n",
       "      <td>0.111111</td>\n",
       "      <td>36.000000</td>\n",
       "      <td>289.000000</td>\n",
       "      <td>3.000000</td>\n",
       "    </tr>\n",
       "    <tr>\n",
       "      <th>50%</th>\n",
       "      <td>1.300000e+05</td>\n",
       "      <td>0.000000</td>\n",
       "      <td>5.000000</td>\n",
       "      <td>0.000000</td>\n",
       "      <td>1.000000</td>\n",
       "      <td>1.000000</td>\n",
       "      <td>0.000000</td>\n",
       "      <td>1.000000</td>\n",
       "      <td>0.000000</td>\n",
       "      <td>1.000000</td>\n",
       "      <td>...</td>\n",
       "      <td>36.000000</td>\n",
       "      <td>961.000000</td>\n",
       "      <td>16.000000</td>\n",
       "      <td>36.000000</td>\n",
       "      <td>1.000000</td>\n",
       "      <td>2.250000</td>\n",
       "      <td>0.444444</td>\n",
       "      <td>81.000000</td>\n",
       "      <td>961.000000</td>\n",
       "      <td>4.000000</td>\n",
       "    </tr>\n",
       "    <tr>\n",
       "      <th>75%</th>\n",
       "      <td>2.000000e+05</td>\n",
       "      <td>0.000000</td>\n",
       "      <td>6.000000</td>\n",
       "      <td>0.000000</td>\n",
       "      <td>1.000000</td>\n",
       "      <td>1.000000</td>\n",
       "      <td>0.000000</td>\n",
       "      <td>2.000000</td>\n",
       "      <td>1.000000</td>\n",
       "      <td>2.000000</td>\n",
       "      <td>...</td>\n",
       "      <td>121.000000</td>\n",
       "      <td>2601.000000</td>\n",
       "      <td>25.000000</td>\n",
       "      <td>81.000000</td>\n",
       "      <td>4.000000</td>\n",
       "      <td>4.000000</td>\n",
       "      <td>1.777778</td>\n",
       "      <td>134.560010</td>\n",
       "      <td>2601.000000</td>\n",
       "      <td>4.000000</td>\n",
       "    </tr>\n",
       "    <tr>\n",
       "      <th>max</th>\n",
       "      <td>2.353477e+06</td>\n",
       "      <td>1.000000</td>\n",
       "      <td>11.000000</td>\n",
       "      <td>1.000000</td>\n",
       "      <td>1.000000</td>\n",
       "      <td>1.000000</td>\n",
       "      <td>1.000000</td>\n",
       "      <td>6.000000</td>\n",
       "      <td>5.000000</td>\n",
       "      <td>8.000000</td>\n",
       "      <td>...</td>\n",
       "      <td>441.000000</td>\n",
       "      <td>9409.000000</td>\n",
       "      <td>169.000000</td>\n",
       "      <td>441.000000</td>\n",
       "      <td>81.000000</td>\n",
       "      <td>36.000000</td>\n",
       "      <td>64.000000</td>\n",
       "      <td>1369.000000</td>\n",
       "      <td>9409.000000</td>\n",
       "      <td>4.000000</td>\n",
       "    </tr>\n",
       "  </tbody>\n",
       "</table>\n",
       "<p>8 rows × 138 columns</p>\n",
       "</div>"
      ],
      "text/plain": [
       "               v2a1       hacdor        rooms       hacapo         v14a  \\\n",
       "count  2.697000e+03  9557.000000  9557.000000  9557.000000  9557.000000   \n",
       "mean   1.652316e+05     0.038087     4.955530     0.023648     0.994768   \n",
       "std    1.504571e+05     0.191417     1.468381     0.151957     0.072145   \n",
       "min    0.000000e+00     0.000000     1.000000     0.000000     0.000000   \n",
       "25%    8.000000e+04     0.000000     4.000000     0.000000     1.000000   \n",
       "50%    1.300000e+05     0.000000     5.000000     0.000000     1.000000   \n",
       "75%    2.000000e+05     0.000000     6.000000     0.000000     1.000000   \n",
       "max    2.353477e+06     1.000000    11.000000     1.000000     1.000000   \n",
       "\n",
       "            refrig         v18q        v18q1         r4h1         r4h2  ...  \\\n",
       "count  9557.000000  9557.000000  2215.000000  9557.000000  9557.000000  ...   \n",
       "mean      0.957623     0.231767     1.404063     0.385895     1.559171  ...   \n",
       "std       0.201459     0.421983     0.763131     0.680779     1.036574  ...   \n",
       "min       0.000000     0.000000     1.000000     0.000000     0.000000  ...   \n",
       "25%       1.000000     0.000000     1.000000     0.000000     1.000000  ...   \n",
       "50%       1.000000     0.000000     1.000000     0.000000     1.000000  ...   \n",
       "75%       1.000000     0.000000     2.000000     1.000000     2.000000  ...   \n",
       "max       1.000000     1.000000     6.000000     5.000000     8.000000  ...   \n",
       "\n",
       "       SQBescolari       SQBage  SQBhogar_total    SQBedjefe  SQBhogar_nin  \\\n",
       "count  9557.000000  9557.000000     9557.000000  9557.000000   9557.000000   \n",
       "mean     74.222769  1643.774302       19.132887    53.500262      3.844826   \n",
       "std      76.777549  1741.197050       18.751395    78.445804      6.946296   \n",
       "min       0.000000     0.000000        1.000000     0.000000      0.000000   \n",
       "25%      16.000000   289.000000        9.000000     0.000000      0.000000   \n",
       "50%      36.000000   961.000000       16.000000    36.000000      1.000000   \n",
       "75%     121.000000  2601.000000       25.000000    81.000000      4.000000   \n",
       "max     441.000000  9409.000000      169.000000   441.000000     81.000000   \n",
       "\n",
       "       SQBovercrowding  SQBdependency    SQBmeaned        agesq       Target  \n",
       "count      9557.000000    9557.000000  9552.000000  9557.000000  9557.000000  \n",
       "mean          3.249485       3.900409   102.588867  1643.774302     3.302292  \n",
       "std           4.129547      12.511831    93.516890  1741.197050     1.009565  \n",
       "min           0.040000       0.000000     0.000000     0.000000     1.000000  \n",
       "25%           1.000000       0.111111    36.000000   289.000000     3.000000  \n",
       "50%           2.250000       0.444444    81.000000   961.000000     4.000000  \n",
       "75%           4.000000       1.777778   134.560010  2601.000000     4.000000  \n",
       "max          36.000000      64.000000  1369.000000  9409.000000     4.000000  \n",
       "\n",
       "[8 rows x 138 columns]"
      ]
     },
     "execution_count": 80,
     "metadata": {},
     "output_type": "execute_result"
    }
   ],
   "source": [
    "income_train.describe()"
   ]
  },
  {
   "cell_type": "code",
   "execution_count": 81,
   "id": "d8c234f0",
   "metadata": {},
   "outputs": [
    {
     "data": {
      "text/html": [
       "<div>\n",
       "<style scoped>\n",
       "    .dataframe tbody tr th:only-of-type {\n",
       "        vertical-align: middle;\n",
       "    }\n",
       "\n",
       "    .dataframe tbody tr th {\n",
       "        vertical-align: top;\n",
       "    }\n",
       "\n",
       "    .dataframe thead th {\n",
       "        text-align: right;\n",
       "    }\n",
       "</style>\n",
       "<table border=\"1\" class=\"dataframe\">\n",
       "  <thead>\n",
       "    <tr style=\"text-align: right;\">\n",
       "      <th></th>\n",
       "      <th>v2a1</th>\n",
       "      <th>hacdor</th>\n",
       "      <th>rooms</th>\n",
       "      <th>hacapo</th>\n",
       "      <th>v14a</th>\n",
       "      <th>refrig</th>\n",
       "      <th>v18q</th>\n",
       "      <th>v18q1</th>\n",
       "      <th>r4h1</th>\n",
       "      <th>r4h2</th>\n",
       "      <th>...</th>\n",
       "      <th>age</th>\n",
       "      <th>SQBescolari</th>\n",
       "      <th>SQBage</th>\n",
       "      <th>SQBhogar_total</th>\n",
       "      <th>SQBedjefe</th>\n",
       "      <th>SQBhogar_nin</th>\n",
       "      <th>SQBovercrowding</th>\n",
       "      <th>SQBdependency</th>\n",
       "      <th>SQBmeaned</th>\n",
       "      <th>agesq</th>\n",
       "    </tr>\n",
       "  </thead>\n",
       "  <tbody>\n",
       "    <tr>\n",
       "      <th>count</th>\n",
       "      <td>6.453000e+03</td>\n",
       "      <td>23856.000000</td>\n",
       "      <td>23856.000000</td>\n",
       "      <td>23856.000000</td>\n",
       "      <td>23856.000000</td>\n",
       "      <td>23856.000000</td>\n",
       "      <td>23856.000000</td>\n",
       "      <td>5730.000000</td>\n",
       "      <td>23856.000000</td>\n",
       "      <td>23856.000000</td>\n",
       "      <td>...</td>\n",
       "      <td>23856.000000</td>\n",
       "      <td>23856.00000</td>\n",
       "      <td>23856.000000</td>\n",
       "      <td>23856.000000</td>\n",
       "      <td>23856.000000</td>\n",
       "      <td>23856.000000</td>\n",
       "      <td>23856.000000</td>\n",
       "      <td>23856.000000</td>\n",
       "      <td>23825.000000</td>\n",
       "      <td>23856.000000</td>\n",
       "    </tr>\n",
       "    <tr>\n",
       "      <th>mean</th>\n",
       "      <td>1.748726e+05</td>\n",
       "      <td>0.050679</td>\n",
       "      <td>4.955776</td>\n",
       "      <td>0.028421</td>\n",
       "      <td>0.992748</td>\n",
       "      <td>0.961603</td>\n",
       "      <td>0.240191</td>\n",
       "      <td>1.348517</td>\n",
       "      <td>0.416541</td>\n",
       "      <td>1.563967</td>\n",
       "      <td>...</td>\n",
       "      <td>34.454183</td>\n",
       "      <td>74.44974</td>\n",
       "      <td>1657.798080</td>\n",
       "      <td>19.113389</td>\n",
       "      <td>54.087232</td>\n",
       "      <td>3.885480</td>\n",
       "      <td>3.564751</td>\n",
       "      <td>4.171669</td>\n",
       "      <td>100.509220</td>\n",
       "      <td>1657.798080</td>\n",
       "    </tr>\n",
       "    <tr>\n",
       "      <th>std</th>\n",
       "      <td>1.567887e+05</td>\n",
       "      <td>0.219346</td>\n",
       "      <td>1.539753</td>\n",
       "      <td>0.166174</td>\n",
       "      <td>0.084850</td>\n",
       "      <td>0.192157</td>\n",
       "      <td>0.427208</td>\n",
       "      <td>0.694216</td>\n",
       "      <td>0.713255</td>\n",
       "      <td>0.990171</td>\n",
       "      <td>...</td>\n",
       "      <td>21.696245</td>\n",
       "      <td>76.99701</td>\n",
       "      <td>1753.603406</td>\n",
       "      <td>17.314597</td>\n",
       "      <td>77.312255</td>\n",
       "      <td>6.878967</td>\n",
       "      <td>6.668757</td>\n",
       "      <td>13.105989</td>\n",
       "      <td>89.211063</td>\n",
       "      <td>1753.603406</td>\n",
       "    </tr>\n",
       "    <tr>\n",
       "      <th>min</th>\n",
       "      <td>0.000000e+00</td>\n",
       "      <td>0.000000</td>\n",
       "      <td>1.000000</td>\n",
       "      <td>0.000000</td>\n",
       "      <td>0.000000</td>\n",
       "      <td>0.000000</td>\n",
       "      <td>0.000000</td>\n",
       "      <td>1.000000</td>\n",
       "      <td>0.000000</td>\n",
       "      <td>0.000000</td>\n",
       "      <td>...</td>\n",
       "      <td>0.000000</td>\n",
       "      <td>0.00000</td>\n",
       "      <td>0.000000</td>\n",
       "      <td>1.000000</td>\n",
       "      <td>0.000000</td>\n",
       "      <td>0.000000</td>\n",
       "      <td>0.020408</td>\n",
       "      <td>0.000000</td>\n",
       "      <td>0.000000</td>\n",
       "      <td>0.000000</td>\n",
       "    </tr>\n",
       "    <tr>\n",
       "      <th>25%</th>\n",
       "      <td>8.000000e+04</td>\n",
       "      <td>0.000000</td>\n",
       "      <td>4.000000</td>\n",
       "      <td>0.000000</td>\n",
       "      <td>1.000000</td>\n",
       "      <td>1.000000</td>\n",
       "      <td>0.000000</td>\n",
       "      <td>1.000000</td>\n",
       "      <td>0.000000</td>\n",
       "      <td>1.000000</td>\n",
       "      <td>...</td>\n",
       "      <td>16.000000</td>\n",
       "      <td>16.00000</td>\n",
       "      <td>256.000000</td>\n",
       "      <td>9.000000</td>\n",
       "      <td>0.000000</td>\n",
       "      <td>0.000000</td>\n",
       "      <td>1.000000</td>\n",
       "      <td>0.111111</td>\n",
       "      <td>36.000000</td>\n",
       "      <td>256.000000</td>\n",
       "    </tr>\n",
       "    <tr>\n",
       "      <th>50%</th>\n",
       "      <td>1.400000e+05</td>\n",
       "      <td>0.000000</td>\n",
       "      <td>5.000000</td>\n",
       "      <td>0.000000</td>\n",
       "      <td>1.000000</td>\n",
       "      <td>1.000000</td>\n",
       "      <td>0.000000</td>\n",
       "      <td>1.000000</td>\n",
       "      <td>0.000000</td>\n",
       "      <td>1.000000</td>\n",
       "      <td>...</td>\n",
       "      <td>32.000000</td>\n",
       "      <td>36.00000</td>\n",
       "      <td>1024.000000</td>\n",
       "      <td>16.000000</td>\n",
       "      <td>36.000000</td>\n",
       "      <td>1.000000</td>\n",
       "      <td>2.250000</td>\n",
       "      <td>0.444444</td>\n",
       "      <td>75.111115</td>\n",
       "      <td>1024.000000</td>\n",
       "    </tr>\n",
       "    <tr>\n",
       "      <th>75%</th>\n",
       "      <td>2.200000e+05</td>\n",
       "      <td>0.000000</td>\n",
       "      <td>6.000000</td>\n",
       "      <td>0.000000</td>\n",
       "      <td>1.000000</td>\n",
       "      <td>1.000000</td>\n",
       "      <td>0.000000</td>\n",
       "      <td>1.750000</td>\n",
       "      <td>1.000000</td>\n",
       "      <td>2.000000</td>\n",
       "      <td>...</td>\n",
       "      <td>51.000000</td>\n",
       "      <td>121.00000</td>\n",
       "      <td>2601.000000</td>\n",
       "      <td>25.000000</td>\n",
       "      <td>81.000000</td>\n",
       "      <td>4.000000</td>\n",
       "      <td>4.000000</td>\n",
       "      <td>1.777778</td>\n",
       "      <td>132.250000</td>\n",
       "      <td>2601.000000</td>\n",
       "    </tr>\n",
       "    <tr>\n",
       "      <th>max</th>\n",
       "      <td>2.852700e+06</td>\n",
       "      <td>1.000000</td>\n",
       "      <td>15.000000</td>\n",
       "      <td>1.000000</td>\n",
       "      <td>1.000000</td>\n",
       "      <td>1.000000</td>\n",
       "      <td>1.000000</td>\n",
       "      <td>6.000000</td>\n",
       "      <td>6.000000</td>\n",
       "      <td>7.000000</td>\n",
       "      <td>...</td>\n",
       "      <td>97.000000</td>\n",
       "      <td>441.00000</td>\n",
       "      <td>9409.000000</td>\n",
       "      <td>169.000000</td>\n",
       "      <td>441.000000</td>\n",
       "      <td>100.000000</td>\n",
       "      <td>169.000000</td>\n",
       "      <td>64.000000</td>\n",
       "      <td>1296.000000</td>\n",
       "      <td>9409.000000</td>\n",
       "    </tr>\n",
       "  </tbody>\n",
       "</table>\n",
       "<p>8 rows × 137 columns</p>\n",
       "</div>"
      ],
      "text/plain": [
       "               v2a1        hacdor         rooms        hacapo          v14a  \\\n",
       "count  6.453000e+03  23856.000000  23856.000000  23856.000000  23856.000000   \n",
       "mean   1.748726e+05      0.050679      4.955776      0.028421      0.992748   \n",
       "std    1.567887e+05      0.219346      1.539753      0.166174      0.084850   \n",
       "min    0.000000e+00      0.000000      1.000000      0.000000      0.000000   \n",
       "25%    8.000000e+04      0.000000      4.000000      0.000000      1.000000   \n",
       "50%    1.400000e+05      0.000000      5.000000      0.000000      1.000000   \n",
       "75%    2.200000e+05      0.000000      6.000000      0.000000      1.000000   \n",
       "max    2.852700e+06      1.000000     15.000000      1.000000      1.000000   \n",
       "\n",
       "             refrig          v18q        v18q1          r4h1          r4h2  \\\n",
       "count  23856.000000  23856.000000  5730.000000  23856.000000  23856.000000   \n",
       "mean       0.961603      0.240191     1.348517      0.416541      1.563967   \n",
       "std        0.192157      0.427208     0.694216      0.713255      0.990171   \n",
       "min        0.000000      0.000000     1.000000      0.000000      0.000000   \n",
       "25%        1.000000      0.000000     1.000000      0.000000      1.000000   \n",
       "50%        1.000000      0.000000     1.000000      0.000000      1.000000   \n",
       "75%        1.000000      0.000000     1.750000      1.000000      2.000000   \n",
       "max        1.000000      1.000000     6.000000      6.000000      7.000000   \n",
       "\n",
       "       ...           age  SQBescolari        SQBage  SQBhogar_total  \\\n",
       "count  ...  23856.000000  23856.00000  23856.000000    23856.000000   \n",
       "mean   ...     34.454183     74.44974   1657.798080       19.113389   \n",
       "std    ...     21.696245     76.99701   1753.603406       17.314597   \n",
       "min    ...      0.000000      0.00000      0.000000        1.000000   \n",
       "25%    ...     16.000000     16.00000    256.000000        9.000000   \n",
       "50%    ...     32.000000     36.00000   1024.000000       16.000000   \n",
       "75%    ...     51.000000    121.00000   2601.000000       25.000000   \n",
       "max    ...     97.000000    441.00000   9409.000000      169.000000   \n",
       "\n",
       "          SQBedjefe  SQBhogar_nin  SQBovercrowding  SQBdependency  \\\n",
       "count  23856.000000  23856.000000     23856.000000   23856.000000   \n",
       "mean      54.087232      3.885480         3.564751       4.171669   \n",
       "std       77.312255      6.878967         6.668757      13.105989   \n",
       "min        0.000000      0.000000         0.020408       0.000000   \n",
       "25%        0.000000      0.000000         1.000000       0.111111   \n",
       "50%       36.000000      1.000000         2.250000       0.444444   \n",
       "75%       81.000000      4.000000         4.000000       1.777778   \n",
       "max      441.000000    100.000000       169.000000      64.000000   \n",
       "\n",
       "          SQBmeaned         agesq  \n",
       "count  23825.000000  23856.000000  \n",
       "mean     100.509220   1657.798080  \n",
       "std       89.211063   1753.603406  \n",
       "min        0.000000      0.000000  \n",
       "25%       36.000000    256.000000  \n",
       "50%       75.111115   1024.000000  \n",
       "75%      132.250000   2601.000000  \n",
       "max     1296.000000   9409.000000  \n",
       "\n",
       "[8 rows x 137 columns]"
      ]
     },
     "execution_count": 81,
     "metadata": {},
     "output_type": "execute_result"
    }
   ],
   "source": [
    "income_test.describe()"
   ]
  },
  {
   "cell_type": "code",
   "execution_count": null,
   "id": "fba389cb",
   "metadata": {},
   "outputs": [],
   "source": []
  },
  {
   "cell_type": "markdown",
   "id": "60a76f32",
   "metadata": {},
   "source": [
    "#### 2) Identify the output variable:"
   ]
  },
  {
   "cell_type": "code",
   "execution_count": 82,
   "id": "7d5e6b21",
   "metadata": {},
   "outputs": [],
   "source": [
    "# Comparing Columns from Train and Test Data Frame. Whichever Column is Not Present in Test Data is our Target Variable."
   ]
  },
  {
   "cell_type": "code",
   "execution_count": 83,
   "id": "7628060e",
   "metadata": {},
   "outputs": [],
   "source": [
    "temp1 = income_train.columns.tolist()"
   ]
  },
  {
   "cell_type": "code",
   "execution_count": 84,
   "id": "5cfe5144",
   "metadata": {},
   "outputs": [],
   "source": [
    "temp2 = income_test.columns.tolist()"
   ]
  },
  {
   "cell_type": "code",
   "execution_count": 85,
   "id": "6aadb248",
   "metadata": {},
   "outputs": [],
   "source": [
    "not_matching_colum = []\n",
    "\n",
    "for i in temp1:\n",
    "    if i not in temp2:\n",
    "        not_matching_colum.append(i)"
   ]
  },
  {
   "cell_type": "code",
   "execution_count": 86,
   "id": "71e4e016",
   "metadata": {},
   "outputs": [
    {
     "data": {
      "text/plain": [
       "['Target']"
      ]
     },
     "execution_count": 86,
     "metadata": {},
     "output_type": "execute_result"
    }
   ],
   "source": [
    "not_matching_colum"
   ]
  },
  {
   "cell_type": "code",
   "execution_count": 87,
   "id": "61106433",
   "metadata": {},
   "outputs": [],
   "source": [
    "# So, \"Target\" Column in Train Data Frame is Our Target/Output Variable."
   ]
  },
  {
   "cell_type": "code",
   "execution_count": 88,
   "id": "16957d63",
   "metadata": {},
   "outputs": [
    {
     "data": {
      "text/plain": [
       "dtype('int64')"
      ]
     },
     "execution_count": 88,
     "metadata": {},
     "output_type": "execute_result"
    }
   ],
   "source": [
    "income_train[\"Target\"].dtypes"
   ]
  },
  {
   "cell_type": "code",
   "execution_count": 89,
   "id": "8ae0cb31",
   "metadata": {},
   "outputs": [
    {
     "data": {
      "text/plain": [
       "array([4, 2, 3, 1], dtype=int64)"
      ]
     },
     "execution_count": 89,
     "metadata": {},
     "output_type": "execute_result"
    }
   ],
   "source": [
    "income_train[\"Target\"].unique()"
   ]
  },
  {
   "cell_type": "code",
   "execution_count": 90,
   "id": "79de087a",
   "metadata": {},
   "outputs": [],
   "source": [
    "# So, \"Target\" is Categorical Variable."
   ]
  },
  {
   "cell_type": "code",
   "execution_count": 91,
   "id": "4504a49c",
   "metadata": {},
   "outputs": [
    {
     "data": {
      "text/plain": [
       "4    5996\n",
       "2    1597\n",
       "3    1209\n",
       "1     755\n",
       "Name: Target, dtype: int64"
      ]
     },
     "execution_count": 91,
     "metadata": {},
     "output_type": "execute_result"
    }
   ],
   "source": [
    "income_train[\"Target\"].value_counts()"
   ]
  },
  {
   "cell_type": "code",
   "execution_count": null,
   "id": "3d00b366",
   "metadata": {},
   "outputs": [],
   "source": []
  },
  {
   "cell_type": "markdown",
   "id": "d71ad9b0",
   "metadata": {},
   "source": [
    "#### 3) Understand the type of data:"
   ]
  },
  {
   "cell_type": "code",
   "execution_count": 92,
   "id": "a8db3f68",
   "metadata": {},
   "outputs": [
    {
     "data": {
      "text/plain": [
       "Id                  object\n",
       "v2a1               float64\n",
       "hacdor               int64\n",
       "rooms                int64\n",
       "hacapo               int64\n",
       "                    ...   \n",
       "SQBovercrowding    float64\n",
       "SQBdependency      float64\n",
       "SQBmeaned          float64\n",
       "agesq                int64\n",
       "Target               int64\n",
       "Length: 143, dtype: object"
      ]
     },
     "execution_count": 92,
     "metadata": {},
     "output_type": "execute_result"
    }
   ],
   "source": [
    "income_train.dtypes"
   ]
  },
  {
   "cell_type": "code",
   "execution_count": 93,
   "id": "17c37993",
   "metadata": {},
   "outputs": [
    {
     "data": {
      "text/plain": [
       "Id                  object\n",
       "v2a1               float64\n",
       "hacdor               int64\n",
       "rooms                int64\n",
       "hacapo               int64\n",
       "                    ...   \n",
       "SQBhogar_nin         int64\n",
       "SQBovercrowding    float64\n",
       "SQBdependency      float64\n",
       "SQBmeaned          float64\n",
       "agesq                int64\n",
       "Length: 142, dtype: object"
      ]
     },
     "execution_count": 93,
     "metadata": {},
     "output_type": "execute_result"
    }
   ],
   "source": [
    "income_test.dtypes"
   ]
  },
  {
   "cell_type": "code",
   "execution_count": 94,
   "id": "5e9abcbf",
   "metadata": {},
   "outputs": [
    {
     "data": {
      "text/plain": [
       "int64      130\n",
       "float64      8\n",
       "object       5\n",
       "dtype: int64"
      ]
     },
     "execution_count": 94,
     "metadata": {},
     "output_type": "execute_result"
    }
   ],
   "source": [
    "income_train.dtypes.value_counts()"
   ]
  },
  {
   "cell_type": "code",
   "execution_count": 95,
   "id": "8215a7fa",
   "metadata": {},
   "outputs": [
    {
     "data": {
      "text/plain": [
       "int64      129\n",
       "float64      8\n",
       "object       5\n",
       "dtype: int64"
      ]
     },
     "execution_count": 95,
     "metadata": {},
     "output_type": "execute_result"
    }
   ],
   "source": [
    "income_test.dtypes.value_counts()"
   ]
  },
  {
   "cell_type": "code",
   "execution_count": null,
   "id": "85df48b1",
   "metadata": {},
   "outputs": [],
   "source": []
  },
  {
   "cell_type": "code",
   "execution_count": 96,
   "id": "2d8dfb6e",
   "metadata": {},
   "outputs": [],
   "source": [
    "# Let's Explore \"Object\" Data Type First"
   ]
  },
  {
   "cell_type": "code",
   "execution_count": 97,
   "id": "3c07a268",
   "metadata": {},
   "outputs": [
    {
     "data": {
      "text/plain": [
       "Index(['Id', 'idhogar', 'dependency', 'edjefe', 'edjefa'], dtype='object')"
      ]
     },
     "execution_count": 97,
     "metadata": {},
     "output_type": "execute_result"
    }
   ],
   "source": [
    "income_train.select_dtypes(\"object\").columns"
   ]
  },
  {
   "cell_type": "code",
   "execution_count": 98,
   "id": "4176be5f",
   "metadata": {},
   "outputs": [
    {
     "data": {
      "text/plain": [
       "9557"
      ]
     },
     "execution_count": 98,
     "metadata": {},
     "output_type": "execute_result"
    }
   ],
   "source": [
    "income_train[\"Id\"].nunique()"
   ]
  },
  {
   "cell_type": "code",
   "execution_count": 99,
   "id": "33e7b93d",
   "metadata": {},
   "outputs": [
    {
     "data": {
      "text/plain": [
       "23856"
      ]
     },
     "execution_count": 99,
     "metadata": {},
     "output_type": "execute_result"
    }
   ],
   "source": [
    "income_test[\"Id\"].nunique()"
   ]
  },
  {
   "cell_type": "code",
   "execution_count": 100,
   "id": "59e15fe6",
   "metadata": {},
   "outputs": [
    {
     "data": {
      "text/plain": [
       "(9557, 143)"
      ]
     },
     "execution_count": 100,
     "metadata": {},
     "output_type": "execute_result"
    }
   ],
   "source": [
    "income_train.shape"
   ]
  },
  {
   "cell_type": "code",
   "execution_count": 101,
   "id": "3177b759",
   "metadata": {},
   "outputs": [
    {
     "data": {
      "text/plain": [
       "(23856, 142)"
      ]
     },
     "execution_count": 101,
     "metadata": {},
     "output_type": "execute_result"
    }
   ],
   "source": [
    "income_test.shape"
   ]
  },
  {
   "cell_type": "code",
   "execution_count": 102,
   "id": "79cacd4b",
   "metadata": {},
   "outputs": [],
   "source": [
    "# Since ID is an Unique Number, We can make it an index."
   ]
  },
  {
   "cell_type": "code",
   "execution_count": 103,
   "id": "1c2f4268",
   "metadata": {},
   "outputs": [],
   "source": [
    "income_train = income_train.set_index(\"Id\")"
   ]
  },
  {
   "cell_type": "code",
   "execution_count": 104,
   "id": "79dc37b9",
   "metadata": {},
   "outputs": [],
   "source": [
    "income_test = income_test.set_index(\"Id\")"
   ]
  },
  {
   "cell_type": "code",
   "execution_count": 105,
   "id": "ea944a4a",
   "metadata": {},
   "outputs": [
    {
     "data": {
      "text/html": [
       "<div>\n",
       "<style scoped>\n",
       "    .dataframe tbody tr th:only-of-type {\n",
       "        vertical-align: middle;\n",
       "    }\n",
       "\n",
       "    .dataframe tbody tr th {\n",
       "        vertical-align: top;\n",
       "    }\n",
       "\n",
       "    .dataframe thead th {\n",
       "        text-align: right;\n",
       "    }\n",
       "</style>\n",
       "<table border=\"1\" class=\"dataframe\">\n",
       "  <thead>\n",
       "    <tr style=\"text-align: right;\">\n",
       "      <th></th>\n",
       "      <th>v2a1</th>\n",
       "      <th>hacdor</th>\n",
       "      <th>rooms</th>\n",
       "      <th>hacapo</th>\n",
       "      <th>v14a</th>\n",
       "      <th>refrig</th>\n",
       "      <th>v18q</th>\n",
       "      <th>v18q1</th>\n",
       "      <th>r4h1</th>\n",
       "      <th>r4h2</th>\n",
       "      <th>...</th>\n",
       "      <th>SQBescolari</th>\n",
       "      <th>SQBage</th>\n",
       "      <th>SQBhogar_total</th>\n",
       "      <th>SQBedjefe</th>\n",
       "      <th>SQBhogar_nin</th>\n",
       "      <th>SQBovercrowding</th>\n",
       "      <th>SQBdependency</th>\n",
       "      <th>SQBmeaned</th>\n",
       "      <th>agesq</th>\n",
       "      <th>Target</th>\n",
       "    </tr>\n",
       "    <tr>\n",
       "      <th>Id</th>\n",
       "      <th></th>\n",
       "      <th></th>\n",
       "      <th></th>\n",
       "      <th></th>\n",
       "      <th></th>\n",
       "      <th></th>\n",
       "      <th></th>\n",
       "      <th></th>\n",
       "      <th></th>\n",
       "      <th></th>\n",
       "      <th></th>\n",
       "      <th></th>\n",
       "      <th></th>\n",
       "      <th></th>\n",
       "      <th></th>\n",
       "      <th></th>\n",
       "      <th></th>\n",
       "      <th></th>\n",
       "      <th></th>\n",
       "      <th></th>\n",
       "      <th></th>\n",
       "    </tr>\n",
       "  </thead>\n",
       "  <tbody>\n",
       "    <tr>\n",
       "      <th>ID_279628684</th>\n",
       "      <td>190000.0</td>\n",
       "      <td>0</td>\n",
       "      <td>3</td>\n",
       "      <td>0</td>\n",
       "      <td>1</td>\n",
       "      <td>1</td>\n",
       "      <td>0</td>\n",
       "      <td>NaN</td>\n",
       "      <td>0</td>\n",
       "      <td>1</td>\n",
       "      <td>...</td>\n",
       "      <td>100</td>\n",
       "      <td>1849</td>\n",
       "      <td>1</td>\n",
       "      <td>100</td>\n",
       "      <td>0</td>\n",
       "      <td>1.000000</td>\n",
       "      <td>0.0</td>\n",
       "      <td>100.0</td>\n",
       "      <td>1849</td>\n",
       "      <td>4</td>\n",
       "    </tr>\n",
       "    <tr>\n",
       "      <th>ID_f29eb3ddd</th>\n",
       "      <td>135000.0</td>\n",
       "      <td>0</td>\n",
       "      <td>4</td>\n",
       "      <td>0</td>\n",
       "      <td>1</td>\n",
       "      <td>1</td>\n",
       "      <td>1</td>\n",
       "      <td>1.0</td>\n",
       "      <td>0</td>\n",
       "      <td>1</td>\n",
       "      <td>...</td>\n",
       "      <td>144</td>\n",
       "      <td>4489</td>\n",
       "      <td>1</td>\n",
       "      <td>144</td>\n",
       "      <td>0</td>\n",
       "      <td>1.000000</td>\n",
       "      <td>64.0</td>\n",
       "      <td>144.0</td>\n",
       "      <td>4489</td>\n",
       "      <td>4</td>\n",
       "    </tr>\n",
       "    <tr>\n",
       "      <th>ID_68de51c94</th>\n",
       "      <td>NaN</td>\n",
       "      <td>0</td>\n",
       "      <td>8</td>\n",
       "      <td>0</td>\n",
       "      <td>1</td>\n",
       "      <td>1</td>\n",
       "      <td>0</td>\n",
       "      <td>NaN</td>\n",
       "      <td>0</td>\n",
       "      <td>0</td>\n",
       "      <td>...</td>\n",
       "      <td>121</td>\n",
       "      <td>8464</td>\n",
       "      <td>1</td>\n",
       "      <td>0</td>\n",
       "      <td>0</td>\n",
       "      <td>0.250000</td>\n",
       "      <td>64.0</td>\n",
       "      <td>121.0</td>\n",
       "      <td>8464</td>\n",
       "      <td>4</td>\n",
       "    </tr>\n",
       "    <tr>\n",
       "      <th>ID_d671db89c</th>\n",
       "      <td>180000.0</td>\n",
       "      <td>0</td>\n",
       "      <td>5</td>\n",
       "      <td>0</td>\n",
       "      <td>1</td>\n",
       "      <td>1</td>\n",
       "      <td>1</td>\n",
       "      <td>1.0</td>\n",
       "      <td>0</td>\n",
       "      <td>2</td>\n",
       "      <td>...</td>\n",
       "      <td>81</td>\n",
       "      <td>289</td>\n",
       "      <td>16</td>\n",
       "      <td>121</td>\n",
       "      <td>4</td>\n",
       "      <td>1.777778</td>\n",
       "      <td>1.0</td>\n",
       "      <td>121.0</td>\n",
       "      <td>289</td>\n",
       "      <td>4</td>\n",
       "    </tr>\n",
       "    <tr>\n",
       "      <th>ID_d56d6f5f5</th>\n",
       "      <td>180000.0</td>\n",
       "      <td>0</td>\n",
       "      <td>5</td>\n",
       "      <td>0</td>\n",
       "      <td>1</td>\n",
       "      <td>1</td>\n",
       "      <td>1</td>\n",
       "      <td>1.0</td>\n",
       "      <td>0</td>\n",
       "      <td>2</td>\n",
       "      <td>...</td>\n",
       "      <td>121</td>\n",
       "      <td>1369</td>\n",
       "      <td>16</td>\n",
       "      <td>121</td>\n",
       "      <td>4</td>\n",
       "      <td>1.777778</td>\n",
       "      <td>1.0</td>\n",
       "      <td>121.0</td>\n",
       "      <td>1369</td>\n",
       "      <td>4</td>\n",
       "    </tr>\n",
       "  </tbody>\n",
       "</table>\n",
       "<p>5 rows × 142 columns</p>\n",
       "</div>"
      ],
      "text/plain": [
       "                  v2a1  hacdor  rooms  hacapo  v14a  refrig  v18q  v18q1  \\\n",
       "Id                                                                         \n",
       "ID_279628684  190000.0       0      3       0     1       1     0    NaN   \n",
       "ID_f29eb3ddd  135000.0       0      4       0     1       1     1    1.0   \n",
       "ID_68de51c94       NaN       0      8       0     1       1     0    NaN   \n",
       "ID_d671db89c  180000.0       0      5       0     1       1     1    1.0   \n",
       "ID_d56d6f5f5  180000.0       0      5       0     1       1     1    1.0   \n",
       "\n",
       "              r4h1  r4h2  ...  SQBescolari  SQBage  SQBhogar_total  SQBedjefe  \\\n",
       "Id                        ...                                                   \n",
       "ID_279628684     0     1  ...          100    1849               1        100   \n",
       "ID_f29eb3ddd     0     1  ...          144    4489               1        144   \n",
       "ID_68de51c94     0     0  ...          121    8464               1          0   \n",
       "ID_d671db89c     0     2  ...           81     289              16        121   \n",
       "ID_d56d6f5f5     0     2  ...          121    1369              16        121   \n",
       "\n",
       "              SQBhogar_nin  SQBovercrowding  SQBdependency  SQBmeaned  agesq  \\\n",
       "Id                                                                             \n",
       "ID_279628684             0         1.000000            0.0      100.0   1849   \n",
       "ID_f29eb3ddd             0         1.000000           64.0      144.0   4489   \n",
       "ID_68de51c94             0         0.250000           64.0      121.0   8464   \n",
       "ID_d671db89c             4         1.777778            1.0      121.0    289   \n",
       "ID_d56d6f5f5             4         1.777778            1.0      121.0   1369   \n",
       "\n",
       "              Target  \n",
       "Id                    \n",
       "ID_279628684       4  \n",
       "ID_f29eb3ddd       4  \n",
       "ID_68de51c94       4  \n",
       "ID_d671db89c       4  \n",
       "ID_d56d6f5f5       4  \n",
       "\n",
       "[5 rows x 142 columns]"
      ]
     },
     "execution_count": 105,
     "metadata": {},
     "output_type": "execute_result"
    }
   ],
   "source": [
    "income_train.head()"
   ]
  },
  {
   "cell_type": "code",
   "execution_count": 106,
   "id": "eec03bd3",
   "metadata": {},
   "outputs": [
    {
     "data": {
      "text/plain": [
       "(23856, 141)"
      ]
     },
     "execution_count": 106,
     "metadata": {},
     "output_type": "execute_result"
    }
   ],
   "source": [
    "income_test.shape"
   ]
  },
  {
   "cell_type": "markdown",
   "id": "719a9b41",
   "metadata": {},
   "source": [
    "-------------------------------------------------------------------------------------------------------------------------------"
   ]
  },
  {
   "cell_type": "code",
   "execution_count": 107,
   "id": "c162c340",
   "metadata": {},
   "outputs": [
    {
     "data": {
      "text/plain": [
       "2988"
      ]
     },
     "execution_count": 107,
     "metadata": {},
     "output_type": "execute_result"
    }
   ],
   "source": [
    "income_train[\"idhogar\"].nunique()                                        # idhogar: Household level identifier"
   ]
  },
  {
   "cell_type": "code",
   "execution_count": 108,
   "id": "5298d86a",
   "metadata": {},
   "outputs": [
    {
     "data": {
      "text/plain": [
       "fd8a6d014    13\n",
       "ae6cf0558    12\n",
       "0c7436de6    12\n",
       "b7a0b59d7    11\n",
       "4476ccd4c    11\n",
       "             ..\n",
       "9f6b2b309     1\n",
       "75226a178     1\n",
       "1637ac45b     1\n",
       "0194d569d     1\n",
       "21eb7fcc1     1\n",
       "Name: idhogar, Length: 2988, dtype: int64"
      ]
     },
     "execution_count": 108,
     "metadata": {},
     "output_type": "execute_result"
    }
   ],
   "source": [
    "income_train[\"idhogar\"].value_counts()"
   ]
  },
  {
   "cell_type": "code",
   "execution_count": 109,
   "id": "fdebcd02",
   "metadata": {},
   "outputs": [
    {
     "data": {
      "text/plain": [
       "7352"
      ]
     },
     "execution_count": 109,
     "metadata": {},
     "output_type": "execute_result"
    }
   ],
   "source": [
    "income_test[\"idhogar\"].nunique()"
   ]
  },
  {
   "cell_type": "code",
   "execution_count": 110,
   "id": "9dd3d2ec",
   "metadata": {},
   "outputs": [
    {
     "data": {
      "text/plain": [
       "8e9159699    13\n",
       "830539cad    13\n",
       "9a906088e    13\n",
       "ef31faf0f    12\n",
       "7c6740850    11\n",
       "             ..\n",
       "c2975df37     1\n",
       "25e1fff14     1\n",
       "d6e3f9e9a     1\n",
       "5a667591a     1\n",
       "0df790c33     1\n",
       "Name: idhogar, Length: 7352, dtype: int64"
      ]
     },
     "execution_count": 110,
     "metadata": {},
     "output_type": "execute_result"
    }
   ],
   "source": [
    "income_test[\"idhogar\"].value_counts()"
   ]
  },
  {
   "cell_type": "code",
   "execution_count": 111,
   "id": "a2177b86",
   "metadata": {},
   "outputs": [],
   "source": [
    "# Applying Lable Encoder to Change Strings to Numbers."
   ]
  },
  {
   "cell_type": "code",
   "execution_count": 112,
   "id": "404cf6e6",
   "metadata": {},
   "outputs": [],
   "source": [
    "le = LabelEncoder()"
   ]
  },
  {
   "cell_type": "code",
   "execution_count": 113,
   "id": "20c08a57",
   "metadata": {},
   "outputs": [],
   "source": [
    "income_train[\"idhogar\"] = le.fit_transform(income_train[\"idhogar\"])\n",
    "income_test[\"idhogar\"] = le.fit_transform(income_test[\"idhogar\"])"
   ]
  },
  {
   "cell_type": "code",
   "execution_count": 114,
   "id": "ff0ae75a",
   "metadata": {},
   "outputs": [
    {
     "data": {
      "text/plain": [
       "2946    13\n",
       "2034    12\n",
       "150     12\n",
       "2132    11\n",
       "816     11\n",
       "        ..\n",
       "1850     1\n",
       "1379     1\n",
       "275      1\n",
       "18       1\n",
       "401      1\n",
       "Name: idhogar, Length: 2988, dtype: int64"
      ]
     },
     "execution_count": 114,
     "metadata": {},
     "output_type": "execute_result"
    }
   ],
   "source": [
    "income_train[\"idhogar\"].value_counts()"
   ]
  },
  {
   "cell_type": "code",
   "execution_count": 115,
   "id": "56a89613",
   "metadata": {},
   "outputs": [
    {
     "data": {
      "text/plain": [
       "4066    13\n",
       "3739    13\n",
       "4393    13\n",
       "6859    12\n",
       "3541    11\n",
       "        ..\n",
       "5493     1\n",
       "1039     1\n",
       "6118     1\n",
       "2570     1\n",
       "362      1\n",
       "Name: idhogar, Length: 7352, dtype: int64"
      ]
     },
     "execution_count": 115,
     "metadata": {},
     "output_type": "execute_result"
    }
   ],
   "source": [
    "income_test[\"idhogar\"].value_counts()"
   ]
  },
  {
   "cell_type": "markdown",
   "id": "23fde87c",
   "metadata": {},
   "source": [
    "-------------------------------------------------------------------------------------------------------------------------------"
   ]
  },
  {
   "cell_type": "code",
   "execution_count": 116,
   "id": "eedc5ff9",
   "metadata": {},
   "outputs": [
    {
     "data": {
      "text/plain": [
       "array(['no', '8', 'yes', '3', '.5', '.25', '2', '.66666669', '.33333334',\n",
       "       '1.5', '.40000001', '.75', '1.25', '.2', '2.5', '1.2', '4',\n",
       "       '1.3333334', '2.25', '.22222222', '5', '.83333331', '.80000001',\n",
       "       '6', '3.5', '1.6666666', '.2857143', '1.75', '.71428573',\n",
       "       '.16666667', '.60000002'], dtype=object)"
      ]
     },
     "execution_count": 116,
     "metadata": {},
     "output_type": "execute_result"
    }
   ],
   "source": [
    "income_train[\"dependency\"].unique()                         # dependency : Dependency rate, calculated = (number of members \n",
    "                                                            # of the household younger than 19 or older than 64)/(number of \n",
    "                                                            # member of household between 19 and 64)"
   ]
  },
  {
   "cell_type": "code",
   "execution_count": 117,
   "id": "81bfcf42",
   "metadata": {},
   "outputs": [
    {
     "data": {
      "text/plain": [
       "array(['.5', 'no', '8', 'yes', '.25', '2', '.33333334', '.375',\n",
       "       '.60000002', '1.5', '.2', '.75', '.66666669', '3', '.14285715',\n",
       "       '.40000001', '.80000001', '1.6666666', '.2857143', '1.25', '2.5',\n",
       "       '5', '.85714287', '1.3333334', '.16666667', '4', '.125',\n",
       "       '.83333331', '2.3333333', '7', '1.2', '3.5', '2.25', '3.3333333',\n",
       "       '6'], dtype=object)"
      ]
     },
     "execution_count": 117,
     "metadata": {},
     "output_type": "execute_result"
    }
   ],
   "source": [
    "income_test[\"dependency\"].unique()"
   ]
  },
  {
   "cell_type": "code",
   "execution_count": 118,
   "id": "c71ba6b3",
   "metadata": {},
   "outputs": [],
   "source": [
    "# As we can See, There are Only Two Values in Column That are not Numbers.\n",
    "# Let's Covert them to Numbers.\n",
    "# Yes = 1, No = 0"
   ]
  },
  {
   "cell_type": "code",
   "execution_count": 119,
   "id": "5092333f",
   "metadata": {},
   "outputs": [],
   "source": [
    "income_train[\"dependency\"] = income_train[\"dependency\"].replace({\"yes\" : 1, \"no\" : 0})\n",
    "income_test[\"dependency\"] = income_test[\"dependency\"].replace({\"yes\" : 1, \"no\" : 0})"
   ]
  },
  {
   "cell_type": "code",
   "execution_count": 120,
   "id": "573595b6",
   "metadata": {},
   "outputs": [],
   "source": [
    "income_train[\"dependency\"] = income_train[\"dependency\"].astype(\"float\")"
   ]
  },
  {
   "cell_type": "code",
   "execution_count": 121,
   "id": "f2332693",
   "metadata": {},
   "outputs": [],
   "source": [
    "income_test[\"dependency\"] = income_test[\"dependency\"].astype(\"float\")"
   ]
  },
  {
   "cell_type": "code",
   "execution_count": 122,
   "id": "fb2ea06a",
   "metadata": {},
   "outputs": [
    {
     "data": {
      "text/plain": [
       "array([0.        , 8.        , 1.        , 3.        , 0.5       ,\n",
       "       0.25      , 2.        , 0.66666669, 0.33333334, 1.5       ,\n",
       "       0.40000001, 0.75      , 1.25      , 0.2       , 2.5       ,\n",
       "       1.2       , 4.        , 1.3333334 , 2.25      , 0.22222222,\n",
       "       5.        , 0.83333331, 0.80000001, 6.        , 3.5       ,\n",
       "       1.6666666 , 0.2857143 , 1.75      , 0.71428573, 0.16666667,\n",
       "       0.60000002])"
      ]
     },
     "execution_count": 122,
     "metadata": {},
     "output_type": "execute_result"
    }
   ],
   "source": [
    "income_train[\"dependency\"].unique()"
   ]
  },
  {
   "cell_type": "code",
   "execution_count": 123,
   "id": "9e9cd23b",
   "metadata": {},
   "outputs": [
    {
     "data": {
      "text/plain": [
       "array([0.5       , 0.        , 8.        , 1.        , 0.25      ,\n",
       "       2.        , 0.33333334, 0.375     , 0.60000002, 1.5       ,\n",
       "       0.2       , 0.75      , 0.66666669, 3.        , 0.14285715,\n",
       "       0.40000001, 0.80000001, 1.6666666 , 0.2857143 , 1.25      ,\n",
       "       2.5       , 5.        , 0.85714287, 1.3333334 , 0.16666667,\n",
       "       4.        , 0.125     , 0.83333331, 2.3333333 , 7.        ,\n",
       "       1.2       , 3.5       , 2.25      , 3.3333333 , 6.        ])"
      ]
     },
     "execution_count": 123,
     "metadata": {},
     "output_type": "execute_result"
    }
   ],
   "source": [
    "income_test[\"dependency\"].unique() "
   ]
  },
  {
   "cell_type": "markdown",
   "id": "24ccad5a",
   "metadata": {},
   "source": [
    "-------------------------------------------------------------------------------------------------------------------------------"
   ]
  },
  {
   "cell_type": "code",
   "execution_count": 124,
   "id": "aa0f9714",
   "metadata": {},
   "outputs": [
    {
     "data": {
      "text/plain": [
       "array(['10', '12', 'no', '11', '9', '15', '4', '6', '8', '17', '7', '16',\n",
       "       '14', '5', '21', '2', '19', 'yes', '3', '18', '13', '20'],\n",
       "      dtype=object)"
      ]
     },
     "execution_count": 124,
     "metadata": {},
     "output_type": "execute_result"
    }
   ],
   "source": [
    "income_train[\"edjefe\"].unique()"
   ]
  },
  {
   "cell_type": "code",
   "execution_count": 125,
   "id": "9595a741",
   "metadata": {},
   "outputs": [
    {
     "data": {
      "text/plain": [
       "array(['no', '16', '10', '6', '11', '8', '13', '14', '5', '3', '9', '17',\n",
       "       '15', '7', '21', '4', '12', '2', '20', 'yes', '19', '18'],\n",
       "      dtype=object)"
      ]
     },
     "execution_count": 125,
     "metadata": {},
     "output_type": "execute_result"
    }
   ],
   "source": [
    "income_test[\"edjefe\"].unique()"
   ]
  },
  {
   "cell_type": "code",
   "execution_count": 126,
   "id": "161dc809",
   "metadata": {},
   "outputs": [],
   "source": [
    "# As we can See, There are Only Two Values in Column That are not Numbers.\n",
    "# Let's Covert them to Numbers.\n",
    "# Yes = 1, No = 0"
   ]
  },
  {
   "cell_type": "code",
   "execution_count": 127,
   "id": "cf052c0e",
   "metadata": {},
   "outputs": [],
   "source": [
    "income_train[\"edjefe\"] = income_train[\"edjefe\"].replace({\"yes\" : 1, \"no\" : 0}).astype(\"int64\")\n",
    "income_test[\"edjefe\"] = income_test[\"edjefe\"].replace({\"yes\" : 1, \"no\" : 0}).astype(\"int64\")"
   ]
  },
  {
   "cell_type": "code",
   "execution_count": 128,
   "id": "3d0ec935",
   "metadata": {},
   "outputs": [
    {
     "data": {
      "text/plain": [
       "array([10, 12,  0, 11,  9, 15,  4,  6,  8, 17,  7, 16, 14,  5, 21,  2, 19,\n",
       "        1,  3, 18, 13, 20], dtype=int64)"
      ]
     },
     "execution_count": 128,
     "metadata": {},
     "output_type": "execute_result"
    }
   ],
   "source": [
    "income_train[\"edjefe\"].unique()"
   ]
  },
  {
   "cell_type": "code",
   "execution_count": 129,
   "id": "fba228c4",
   "metadata": {},
   "outputs": [
    {
     "data": {
      "text/plain": [
       "array([ 0, 16, 10,  6, 11,  8, 13, 14,  5,  3,  9, 17, 15,  7, 21,  4, 12,\n",
       "        2, 20,  1, 19, 18], dtype=int64)"
      ]
     },
     "execution_count": 129,
     "metadata": {},
     "output_type": "execute_result"
    }
   ],
   "source": [
    "income_test[\"edjefe\"].unique()"
   ]
  },
  {
   "cell_type": "markdown",
   "id": "dfed6885",
   "metadata": {},
   "source": [
    "-------------------------------------------------------------------------------------------------------------------------------"
   ]
  },
  {
   "cell_type": "code",
   "execution_count": 130,
   "id": "19509cbb",
   "metadata": {},
   "outputs": [
    {
     "data": {
      "text/plain": [
       "array(['no', '11', '4', '10', '9', '15', '7', '14', '13', '8', '17', '6',\n",
       "       '5', '3', '16', '19', 'yes', '21', '12', '2', '20', '18'],\n",
       "      dtype=object)"
      ]
     },
     "execution_count": 130,
     "metadata": {},
     "output_type": "execute_result"
    }
   ],
   "source": [
    "income_train[\"edjefa\"].unique()"
   ]
  },
  {
   "cell_type": "code",
   "execution_count": 131,
   "id": "4d4fdb0e",
   "metadata": {},
   "outputs": [
    {
     "data": {
      "text/plain": [
       "array(['17', 'no', '11', '14', '10', '15', '9', '6', '8', '3', '2', '5',\n",
       "       '16', '12', 'yes', '7', '13', '21', '4', '19', '18', '20'],\n",
       "      dtype=object)"
      ]
     },
     "execution_count": 131,
     "metadata": {},
     "output_type": "execute_result"
    }
   ],
   "source": [
    "income_test[\"edjefa\"].unique()"
   ]
  },
  {
   "cell_type": "code",
   "execution_count": 132,
   "id": "b8da6bae",
   "metadata": {},
   "outputs": [],
   "source": [
    "# As we can See, There are Only Two Values in Column That are not Numbers.\n",
    "# Let's Covert them to Numbers.\n",
    "# Yes = 1, No = 0"
   ]
  },
  {
   "cell_type": "code",
   "execution_count": 133,
   "id": "0dcc89e9",
   "metadata": {},
   "outputs": [],
   "source": [
    "income_train[\"edjefa\"] = income_train[\"edjefa\"].replace({\"yes\" : 1, \"no\" : 0}).astype(\"int64\")\n",
    "income_test[\"edjefa\"] = income_test[\"edjefa\"].replace({\"yes\" : 1, \"no\" : 0}).astype(\"int64\")"
   ]
  },
  {
   "cell_type": "code",
   "execution_count": 134,
   "id": "8644f476",
   "metadata": {},
   "outputs": [
    {
     "data": {
      "text/plain": [
       "array([ 0, 11,  4, 10,  9, 15,  7, 14, 13,  8, 17,  6,  5,  3, 16, 19,  1,\n",
       "       21, 12,  2, 20, 18], dtype=int64)"
      ]
     },
     "execution_count": 134,
     "metadata": {},
     "output_type": "execute_result"
    }
   ],
   "source": [
    "income_train[\"edjefa\"].unique()"
   ]
  },
  {
   "cell_type": "code",
   "execution_count": 135,
   "id": "f0201633",
   "metadata": {},
   "outputs": [
    {
     "data": {
      "text/plain": [
       "array([17,  0, 11, 14, 10, 15,  9,  6,  8,  3,  2,  5, 16, 12,  1,  7, 13,\n",
       "       21,  4, 19, 18, 20], dtype=int64)"
      ]
     },
     "execution_count": 135,
     "metadata": {},
     "output_type": "execute_result"
    }
   ],
   "source": [
    "income_test[\"edjefa\"].unique()"
   ]
  },
  {
   "cell_type": "markdown",
   "id": "6390ab6c",
   "metadata": {},
   "source": [
    "-------------------------------------------------------------------------------------------------------------------------------"
   ]
  },
  {
   "cell_type": "code",
   "execution_count": 136,
   "id": "8d30c17d",
   "metadata": {},
   "outputs": [
    {
     "data": {
      "text/plain": [
       "int64      132\n",
       "float64      9\n",
       "int32        1\n",
       "dtype: int64"
      ]
     },
     "execution_count": 136,
     "metadata": {},
     "output_type": "execute_result"
    }
   ],
   "source": [
    "income_train.dtypes.value_counts()"
   ]
  },
  {
   "cell_type": "code",
   "execution_count": 137,
   "id": "7eae539e",
   "metadata": {},
   "outputs": [
    {
     "data": {
      "text/plain": [
       "int64      131\n",
       "float64      9\n",
       "int32        1\n",
       "dtype: int64"
      ]
     },
     "execution_count": 137,
     "metadata": {},
     "output_type": "execute_result"
    }
   ],
   "source": [
    "income_test.dtypes.value_counts()"
   ]
  },
  {
   "cell_type": "code",
   "execution_count": null,
   "id": "8f19485f",
   "metadata": {},
   "outputs": [],
   "source": []
  },
  {
   "cell_type": "markdown",
   "id": "d07d1e67",
   "metadata": {},
   "source": [
    "#### 4) Check if there are any biases in your dataset:"
   ]
  },
  {
   "cell_type": "code",
   "execution_count": 138,
   "id": "0e1341c0",
   "metadata": {},
   "outputs": [],
   "source": [
    "# Firstly, let's Check if Target Variable is Class Imbalanced or Not."
   ]
  },
  {
   "cell_type": "code",
   "execution_count": 139,
   "id": "6042d8e1",
   "metadata": {},
   "outputs": [
    {
     "data": {
      "text/plain": [
       "4    5996\n",
       "2    1597\n",
       "3    1209\n",
       "1     755\n",
       "Name: Target, dtype: int64"
      ]
     },
     "execution_count": 139,
     "metadata": {},
     "output_type": "execute_result"
    }
   ],
   "source": [
    "income_train[\"Target\"].value_counts()"
   ]
  },
  {
   "cell_type": "code",
   "execution_count": 140,
   "id": "6a398332",
   "metadata": {},
   "outputs": [
    {
     "data": {
      "image/png": "[encoded data removed]",
      "text/plain": [
       "<Figure size 576x288 with 1 Axes>"
      ]
     },
     "metadata": {
      "needs_background": "light"
     },
     "output_type": "display_data"
    }
   ],
   "source": [
    "plt.figure(figsize= (8,4))\n",
    "sns.countplot(income_train[\"Target\"])\n",
    "plt.show()"
   ]
  },
  {
   "cell_type": "code",
   "execution_count": 141,
   "id": "e10d3b4f",
   "metadata": {},
   "outputs": [],
   "source": [
    "# So, Our Dataset is Clearly Class Imbalanced."
   ]
  },
  {
   "cell_type": "markdown",
   "id": "54b63621",
   "metadata": {},
   "source": [
    "-------------------------------------------------------------------------------------------------------------------------------"
   ]
  },
  {
   "cell_type": "code",
   "execution_count": 142,
   "id": "2d6b51be",
   "metadata": {},
   "outputs": [],
   "source": [
    "# Checking For Correlation of All Variables with Target Variable."
   ]
  },
  {
   "cell_type": "code",
   "execution_count": 143,
   "id": "c375ddcd",
   "metadata": {},
   "outputs": [
    {
     "data": {
      "image/png": "[encoded data removed]",
      "text/plain": [
       "<Figure size 1800x720 with 1 Axes>"
      ]
     },
     "metadata": {
      "needs_background": "light"
     },
     "output_type": "display_data"
    }
   ],
   "source": [
    "plt.figure(figsize= (25,10))\n",
    "\n",
    "income_train.corr()[\"Target\"].plot()\n",
    "\n",
    "plt.show()"
   ]
  },
  {
   "cell_type": "code",
   "execution_count": 144,
   "id": "4739d3d7",
   "metadata": {},
   "outputs": [],
   "source": [
    "# As Seen from The Graph and Data above, None of the Variables Have Correlation Greater Than 0.3 or less Than -0.3 To Target\n",
    "# Variable. (Last Peek In Graph is Correlation of Target Variable With Itself, which is Obviously 1.)\n",
    "\n",
    "# So, Our Target Variable is Not Biased Towards any Independent Variable."
   ]
  },
  {
   "cell_type": "markdown",
   "id": "012828f0",
   "metadata": {},
   "source": [
    "-------------------------------------------------------------------------------------------------------------------------------"
   ]
  },
  {
   "cell_type": "code",
   "execution_count": 145,
   "id": "56720b36",
   "metadata": {},
   "outputs": [],
   "source": [
    "# Checking For Correlation Between Independent Variables to Avoid Multicolinearity."
   ]
  },
  {
   "cell_type": "code",
   "execution_count": 146,
   "id": "5f363cef",
   "metadata": {},
   "outputs": [],
   "source": [
    "corr_matrix = income_train.drop(\"Target\", axis= 1).corr().abs()"
   ]
  },
  {
   "cell_type": "code",
   "execution_count": 147,
   "id": "a8a5ef52",
   "metadata": {},
   "outputs": [
    {
     "data": {
      "text/html": [
       "<div>\n",
       "<style scoped>\n",
       "    .dataframe tbody tr th:only-of-type {\n",
       "        vertical-align: middle;\n",
       "    }\n",
       "\n",
       "    .dataframe tbody tr th {\n",
       "        vertical-align: top;\n",
       "    }\n",
       "\n",
       "    .dataframe thead th {\n",
       "        text-align: right;\n",
       "    }\n",
       "</style>\n",
       "<table border=\"1\" class=\"dataframe\">\n",
       "  <thead>\n",
       "    <tr style=\"text-align: right;\">\n",
       "      <th></th>\n",
       "      <th>v2a1</th>\n",
       "      <th>hacdor</th>\n",
       "      <th>rooms</th>\n",
       "      <th>hacapo</th>\n",
       "      <th>v14a</th>\n",
       "      <th>refrig</th>\n",
       "      <th>v18q</th>\n",
       "      <th>v18q1</th>\n",
       "      <th>r4h1</th>\n",
       "      <th>r4h2</th>\n",
       "      <th>...</th>\n",
       "      <th>age</th>\n",
       "      <th>SQBescolari</th>\n",
       "      <th>SQBage</th>\n",
       "      <th>SQBhogar_total</th>\n",
       "      <th>SQBedjefe</th>\n",
       "      <th>SQBhogar_nin</th>\n",
       "      <th>SQBovercrowding</th>\n",
       "      <th>SQBdependency</th>\n",
       "      <th>SQBmeaned</th>\n",
       "      <th>agesq</th>\n",
       "    </tr>\n",
       "  </thead>\n",
       "  <tbody>\n",
       "    <tr>\n",
       "      <th>v2a1</th>\n",
       "      <td>1.000000</td>\n",
       "      <td>0.091732</td>\n",
       "      <td>0.443461</td>\n",
       "      <td>0.073509</td>\n",
       "      <td>0.033551</td>\n",
       "      <td>0.088970</td>\n",
       "      <td>0.278364</td>\n",
       "      <td>0.302292</td>\n",
       "      <td>0.081900</td>\n",
       "      <td>0.002401</td>\n",
       "      <td>...</td>\n",
       "      <td>0.078897</td>\n",
       "      <td>0.358305</td>\n",
       "      <td>0.062343</td>\n",
       "      <td>0.061309</td>\n",
       "      <td>0.364290</td>\n",
       "      <td>0.082246</td>\n",
       "      <td>0.191915</td>\n",
       "      <td>0.061352</td>\n",
       "      <td>0.402561</td>\n",
       "      <td>0.062343</td>\n",
       "    </tr>\n",
       "    <tr>\n",
       "      <th>hacdor</th>\n",
       "      <td>0.091732</td>\n",
       "      <td>1.000000</td>\n",
       "      <td>0.233369</td>\n",
       "      <td>0.652594</td>\n",
       "      <td>0.175011</td>\n",
       "      <td>0.101965</td>\n",
       "      <td>0.084680</td>\n",
       "      <td>0.049262</td>\n",
       "      <td>0.232508</td>\n",
       "      <td>0.059313</td>\n",
       "      <td>...</td>\n",
       "      <td>0.118168</td>\n",
       "      <td>0.109862</td>\n",
       "      <td>0.102725</td>\n",
       "      <td>0.350546</td>\n",
       "      <td>0.082229</td>\n",
       "      <td>0.388043</td>\n",
       "      <td>0.794699</td>\n",
       "      <td>0.005278</td>\n",
       "      <td>0.099153</td>\n",
       "      <td>0.102725</td>\n",
       "    </tr>\n",
       "    <tr>\n",
       "      <th>rooms</th>\n",
       "      <td>0.443461</td>\n",
       "      <td>0.233369</td>\n",
       "      <td>1.000000</td>\n",
       "      <td>0.213368</td>\n",
       "      <td>0.129183</td>\n",
       "      <td>0.130531</td>\n",
       "      <td>0.254256</td>\n",
       "      <td>0.208919</td>\n",
       "      <td>0.066578</td>\n",
       "      <td>0.267627</td>\n",
       "      <td>...</td>\n",
       "      <td>0.077046</td>\n",
       "      <td>0.233679</td>\n",
       "      <td>0.068288</td>\n",
       "      <td>0.221595</td>\n",
       "      <td>0.198890</td>\n",
       "      <td>0.007952</td>\n",
       "      <td>0.355526</td>\n",
       "      <td>0.027575</td>\n",
       "      <td>0.250061</td>\n",
       "      <td>0.068288</td>\n",
       "    </tr>\n",
       "    <tr>\n",
       "      <th>hacapo</th>\n",
       "      <td>0.073509</td>\n",
       "      <td>0.652594</td>\n",
       "      <td>0.213368</td>\n",
       "      <td>1.000000</td>\n",
       "      <td>0.150986</td>\n",
       "      <td>0.124506</td>\n",
       "      <td>0.067529</td>\n",
       "      <td>0.037414</td>\n",
       "      <td>0.226378</td>\n",
       "      <td>0.126645</td>\n",
       "      <td>...</td>\n",
       "      <td>0.087773</td>\n",
       "      <td>0.092703</td>\n",
       "      <td>0.075528</td>\n",
       "      <td>0.373720</td>\n",
       "      <td>0.071170</td>\n",
       "      <td>0.367025</td>\n",
       "      <td>0.640096</td>\n",
       "      <td>0.014411</td>\n",
       "      <td>0.103324</td>\n",
       "      <td>0.075528</td>\n",
       "    </tr>\n",
       "    <tr>\n",
       "      <th>v14a</th>\n",
       "      <td>0.033551</td>\n",
       "      <td>0.175011</td>\n",
       "      <td>0.129183</td>\n",
       "      <td>0.150986</td>\n",
       "      <td>1.000000</td>\n",
       "      <td>0.143143</td>\n",
       "      <td>0.036396</td>\n",
       "      <td>0.011255</td>\n",
       "      <td>0.054769</td>\n",
       "      <td>0.018133</td>\n",
       "      <td>...</td>\n",
       "      <td>0.027193</td>\n",
       "      <td>0.036483</td>\n",
       "      <td>0.023831</td>\n",
       "      <td>0.009100</td>\n",
       "      <td>0.018897</td>\n",
       "      <td>0.015193</td>\n",
       "      <td>0.174969</td>\n",
       "      <td>0.005712</td>\n",
       "      <td>0.034711</td>\n",
       "      <td>0.023831</td>\n",
       "    </tr>\n",
       "    <tr>\n",
       "      <th>...</th>\n",
       "      <td>...</td>\n",
       "      <td>...</td>\n",
       "      <td>...</td>\n",
       "      <td>...</td>\n",
       "      <td>...</td>\n",
       "      <td>...</td>\n",
       "      <td>...</td>\n",
       "      <td>...</td>\n",
       "      <td>...</td>\n",
       "      <td>...</td>\n",
       "      <td>...</td>\n",
       "      <td>...</td>\n",
       "      <td>...</td>\n",
       "      <td>...</td>\n",
       "      <td>...</td>\n",
       "      <td>...</td>\n",
       "      <td>...</td>\n",
       "      <td>...</td>\n",
       "      <td>...</td>\n",
       "      <td>...</td>\n",
       "      <td>...</td>\n",
       "    </tr>\n",
       "    <tr>\n",
       "      <th>SQBhogar_nin</th>\n",
       "      <td>0.082246</td>\n",
       "      <td>0.388043</td>\n",
       "      <td>0.007952</td>\n",
       "      <td>0.367025</td>\n",
       "      <td>0.015193</td>\n",
       "      <td>0.108718</td>\n",
       "      <td>0.050562</td>\n",
       "      <td>0.092212</td>\n",
       "      <td>0.565494</td>\n",
       "      <td>0.124701</td>\n",
       "      <td>...</td>\n",
       "      <td>0.316034</td>\n",
       "      <td>0.181581</td>\n",
       "      <td>0.278921</td>\n",
       "      <td>0.733956</td>\n",
       "      <td>0.049536</td>\n",
       "      <td>1.000000</td>\n",
       "      <td>0.477876</td>\n",
       "      <td>0.049113</td>\n",
       "      <td>0.009591</td>\n",
       "      <td>0.278921</td>\n",
       "    </tr>\n",
       "    <tr>\n",
       "      <th>SQBovercrowding</th>\n",
       "      <td>0.191915</td>\n",
       "      <td>0.794699</td>\n",
       "      <td>0.355526</td>\n",
       "      <td>0.640096</td>\n",
       "      <td>0.174969</td>\n",
       "      <td>0.123054</td>\n",
       "      <td>0.125936</td>\n",
       "      <td>0.062806</td>\n",
       "      <td>0.355660</td>\n",
       "      <td>0.144478</td>\n",
       "      <td>...</td>\n",
       "      <td>0.240636</td>\n",
       "      <td>0.201253</td>\n",
       "      <td>0.218349</td>\n",
       "      <td>0.475192</td>\n",
       "      <td>0.106004</td>\n",
       "      <td>0.477876</td>\n",
       "      <td>1.000000</td>\n",
       "      <td>0.049525</td>\n",
       "      <td>0.150997</td>\n",
       "      <td>0.218349</td>\n",
       "    </tr>\n",
       "    <tr>\n",
       "      <th>SQBdependency</th>\n",
       "      <td>0.061352</td>\n",
       "      <td>0.005278</td>\n",
       "      <td>0.027575</td>\n",
       "      <td>0.014411</td>\n",
       "      <td>0.005712</td>\n",
       "      <td>0.034080</td>\n",
       "      <td>0.071504</td>\n",
       "      <td>0.033226</td>\n",
       "      <td>0.036977</td>\n",
       "      <td>0.157357</td>\n",
       "      <td>...</td>\n",
       "      <td>0.303847</td>\n",
       "      <td>0.049172</td>\n",
       "      <td>0.395814</td>\n",
       "      <td>0.104255</td>\n",
       "      <td>0.032319</td>\n",
       "      <td>0.049113</td>\n",
       "      <td>0.049525</td>\n",
       "      <td>1.000000</td>\n",
       "      <td>0.065129</td>\n",
       "      <td>0.395814</td>\n",
       "    </tr>\n",
       "    <tr>\n",
       "      <th>SQBmeaned</th>\n",
       "      <td>0.402561</td>\n",
       "      <td>0.099153</td>\n",
       "      <td>0.250061</td>\n",
       "      <td>0.103324</td>\n",
       "      <td>0.034711</td>\n",
       "      <td>0.117406</td>\n",
       "      <td>0.302763</td>\n",
       "      <td>0.115522</td>\n",
       "      <td>0.083552</td>\n",
       "      <td>0.062217</td>\n",
       "      <td>...</td>\n",
       "      <td>0.085065</td>\n",
       "      <td>0.510876</td>\n",
       "      <td>0.112386</td>\n",
       "      <td>0.067588</td>\n",
       "      <td>0.470993</td>\n",
       "      <td>0.009591</td>\n",
       "      <td>0.150997</td>\n",
       "      <td>0.065129</td>\n",
       "      <td>1.000000</td>\n",
       "      <td>0.112386</td>\n",
       "    </tr>\n",
       "    <tr>\n",
       "      <th>agesq</th>\n",
       "      <td>0.062343</td>\n",
       "      <td>0.102725</td>\n",
       "      <td>0.068288</td>\n",
       "      <td>0.075528</td>\n",
       "      <td>0.023831</td>\n",
       "      <td>0.025846</td>\n",
       "      <td>0.054670</td>\n",
       "      <td>0.031046</td>\n",
       "      <td>0.272690</td>\n",
       "      <td>0.054712</td>\n",
       "      <td>...</td>\n",
       "      <td>0.958090</td>\n",
       "      <td>0.051899</td>\n",
       "      <td>1.000000</td>\n",
       "      <td>0.238110</td>\n",
       "      <td>0.018314</td>\n",
       "      <td>0.278921</td>\n",
       "      <td>0.218349</td>\n",
       "      <td>0.395814</td>\n",
       "      <td>0.112386</td>\n",
       "      <td>1.000000</td>\n",
       "    </tr>\n",
       "  </tbody>\n",
       "</table>\n",
       "<p>141 rows × 141 columns</p>\n",
       "</div>"
      ],
      "text/plain": [
       "                     v2a1    hacdor     rooms    hacapo      v14a    refrig  \\\n",
       "v2a1             1.000000  0.091732  0.443461  0.073509  0.033551  0.088970   \n",
       "hacdor           0.091732  1.000000  0.233369  0.652594  0.175011  0.101965   \n",
       "rooms            0.443461  0.233369  1.000000  0.213368  0.129183  0.130531   \n",
       "hacapo           0.073509  0.652594  0.213368  1.000000  0.150986  0.124506   \n",
       "v14a             0.033551  0.175011  0.129183  0.150986  1.000000  0.143143   \n",
       "...                   ...       ...       ...       ...       ...       ...   \n",
       "SQBhogar_nin     0.082246  0.388043  0.007952  0.367025  0.015193  0.108718   \n",
       "SQBovercrowding  0.191915  0.794699  0.355526  0.640096  0.174969  0.123054   \n",
       "SQBdependency    0.061352  0.005278  0.027575  0.014411  0.005712  0.034080   \n",
       "SQBmeaned        0.402561  0.099153  0.250061  0.103324  0.034711  0.117406   \n",
       "agesq            0.062343  0.102725  0.068288  0.075528  0.023831  0.025846   \n",
       "\n",
       "                     v18q     v18q1      r4h1      r4h2  ...       age  \\\n",
       "v2a1             0.278364  0.302292  0.081900  0.002401  ...  0.078897   \n",
       "hacdor           0.084680  0.049262  0.232508  0.059313  ...  0.118168   \n",
       "rooms            0.254256  0.208919  0.066578  0.267627  ...  0.077046   \n",
       "hacapo           0.067529  0.037414  0.226378  0.126645  ...  0.087773   \n",
       "v14a             0.036396  0.011255  0.054769  0.018133  ...  0.027193   \n",
       "...                   ...       ...       ...       ...  ...       ...   \n",
       "SQBhogar_nin     0.050562  0.092212  0.565494  0.124701  ...  0.316034   \n",
       "SQBovercrowding  0.125936  0.062806  0.355660  0.144478  ...  0.240636   \n",
       "SQBdependency    0.071504  0.033226  0.036977  0.157357  ...  0.303847   \n",
       "SQBmeaned        0.302763  0.115522  0.083552  0.062217  ...  0.085065   \n",
       "agesq            0.054670  0.031046  0.272690  0.054712  ...  0.958090   \n",
       "\n",
       "                 SQBescolari    SQBage  SQBhogar_total  SQBedjefe  \\\n",
       "v2a1                0.358305  0.062343        0.061309   0.364290   \n",
       "hacdor              0.109862  0.102725        0.350546   0.082229   \n",
       "rooms               0.233679  0.068288        0.221595   0.198890   \n",
       "hacapo              0.092703  0.075528        0.373720   0.071170   \n",
       "v14a                0.036483  0.023831        0.009100   0.018897   \n",
       "...                      ...       ...             ...        ...   \n",
       "SQBhogar_nin        0.181581  0.278921        0.733956   0.049536   \n",
       "SQBovercrowding     0.201253  0.218349        0.475192   0.106004   \n",
       "SQBdependency       0.049172  0.395814        0.104255   0.032319   \n",
       "SQBmeaned           0.510876  0.112386        0.067588   0.470993   \n",
       "agesq               0.051899  1.000000        0.238110   0.018314   \n",
       "\n",
       "                 SQBhogar_nin  SQBovercrowding  SQBdependency  SQBmeaned  \\\n",
       "v2a1                 0.082246         0.191915       0.061352   0.402561   \n",
       "hacdor               0.388043         0.794699       0.005278   0.099153   \n",
       "rooms                0.007952         0.355526       0.027575   0.250061   \n",
       "hacapo               0.367025         0.640096       0.014411   0.103324   \n",
       "v14a                 0.015193         0.174969       0.005712   0.034711   \n",
       "...                       ...              ...            ...        ...   \n",
       "SQBhogar_nin         1.000000         0.477876       0.049113   0.009591   \n",
       "SQBovercrowding      0.477876         1.000000       0.049525   0.150997   \n",
       "SQBdependency        0.049113         0.049525       1.000000   0.065129   \n",
       "SQBmeaned            0.009591         0.150997       0.065129   1.000000   \n",
       "agesq                0.278921         0.218349       0.395814   0.112386   \n",
       "\n",
       "                    agesq  \n",
       "v2a1             0.062343  \n",
       "hacdor           0.102725  \n",
       "rooms            0.068288  \n",
       "hacapo           0.075528  \n",
       "v14a             0.023831  \n",
       "...                   ...  \n",
       "SQBhogar_nin     0.278921  \n",
       "SQBovercrowding  0.218349  \n",
       "SQBdependency    0.395814  \n",
       "SQBmeaned        0.112386  \n",
       "agesq            1.000000  \n",
       "\n",
       "[141 rows x 141 columns]"
      ]
     },
     "execution_count": 147,
     "metadata": {},
     "output_type": "execute_result"
    }
   ],
   "source": [
    "corr_matrix"
   ]
  },
  {
   "cell_type": "code",
   "execution_count": 148,
   "id": "8e0b7708",
   "metadata": {},
   "outputs": [],
   "source": [
    "# In this Correlation Matrix, Values above and Below Diagonal are Exactly Same.\n",
    "# i.e. Coreelation of \"v2a1\" with \"hacdor\" is same as Correltion of \"hacdor\" with \"v2a1\".\n",
    "\n",
    "# So, can use Either of the Upper or Traingle for Further Calculation."
   ]
  },
  {
   "cell_type": "code",
   "execution_count": null,
   "id": "086a337b",
   "metadata": {},
   "outputs": [],
   "source": []
  },
  {
   "cell_type": "markdown",
   "id": "137212a2",
   "metadata": {},
   "source": [
    "https://numpy.org/doc/stable/reference/generated/numpy.triu.html\n",
    "\n",
    "https://stackoverflow.com/questions/40690854/set-diagonal-triangle-in-pandas-dataframe-to-nan\n",
    "\n",
    "https://numpy.org/doc/stable/reference/generated/numpy.where.html"
   ]
  },
  {
   "cell_type": "code",
   "execution_count": 149,
   "id": "80e61755",
   "metadata": {},
   "outputs": [
    {
     "data": {
      "text/plain": [
       "(141, 141)"
      ]
     },
     "execution_count": 149,
     "metadata": {},
     "output_type": "execute_result"
    }
   ],
   "source": [
    "corr_matrix.shape"
   ]
  },
  {
   "cell_type": "code",
   "execution_count": 150,
   "id": "49df16dc",
   "metadata": {},
   "outputs": [
    {
     "data": {
      "text/plain": [
       "array([[1., 1., 1., ..., 1., 1., 1.],\n",
       "       [1., 1., 1., ..., 1., 1., 1.],\n",
       "       [1., 1., 1., ..., 1., 1., 1.],\n",
       "       ...,\n",
       "       [1., 1., 1., ..., 1., 1., 1.],\n",
       "       [1., 1., 1., ..., 1., 1., 1.],\n",
       "       [1., 1., 1., ..., 1., 1., 1.]])"
      ]
     },
     "execution_count": 150,
     "metadata": {},
     "output_type": "execute_result"
    }
   ],
   "source": [
    "np.ones(corr_matrix.shape)"
   ]
  },
  {
   "cell_type": "code",
   "execution_count": 151,
   "id": "9aba429d",
   "metadata": {},
   "outputs": [
    {
     "data": {
      "text/plain": [
       "array([[0., 1., 1., ..., 1., 1., 1.],\n",
       "       [0., 0., 1., ..., 1., 1., 1.],\n",
       "       [0., 0., 0., ..., 1., 1., 1.],\n",
       "       ...,\n",
       "       [0., 0., 0., ..., 0., 1., 1.],\n",
       "       [0., 0., 0., ..., 0., 0., 1.],\n",
       "       [0., 0., 0., ..., 0., 0., 0.]])"
      ]
     },
     "execution_count": 151,
     "metadata": {},
     "output_type": "execute_result"
    }
   ],
   "source": [
    "np.triu(np.ones(corr_matrix.shape),k=1)"
   ]
  },
  {
   "cell_type": "code",
   "execution_count": 152,
   "id": "52ab0895",
   "metadata": {},
   "outputs": [
    {
     "data": {
      "text/plain": [
       "array([[False,  True,  True, ...,  True,  True,  True],\n",
       "       [False, False,  True, ...,  True,  True,  True],\n",
       "       [False, False, False, ...,  True,  True,  True],\n",
       "       ...,\n",
       "       [False, False, False, ..., False,  True,  True],\n",
       "       [False, False, False, ..., False, False,  True],\n",
       "       [False, False, False, ..., False, False, False]])"
      ]
     },
     "execution_count": 152,
     "metadata": {},
     "output_type": "execute_result"
    }
   ],
   "source": [
    "(np.triu(np.ones(corr_matrix.shape),k=1).astype(np.bool))"
   ]
  },
  {
   "cell_type": "code",
   "execution_count": 153,
   "id": "8fa7a40a",
   "metadata": {},
   "outputs": [
    {
     "data": {
      "text/html": [
       "<div>\n",
       "<style scoped>\n",
       "    .dataframe tbody tr th:only-of-type {\n",
       "        vertical-align: middle;\n",
       "    }\n",
       "\n",
       "    .dataframe tbody tr th {\n",
       "        vertical-align: top;\n",
       "    }\n",
       "\n",
       "    .dataframe thead th {\n",
       "        text-align: right;\n",
       "    }\n",
       "</style>\n",
       "<table border=\"1\" class=\"dataframe\">\n",
       "  <thead>\n",
       "    <tr style=\"text-align: right;\">\n",
       "      <th></th>\n",
       "      <th>v2a1</th>\n",
       "      <th>hacdor</th>\n",
       "      <th>rooms</th>\n",
       "      <th>hacapo</th>\n",
       "      <th>v14a</th>\n",
       "      <th>refrig</th>\n",
       "      <th>v18q</th>\n",
       "      <th>v18q1</th>\n",
       "      <th>r4h1</th>\n",
       "      <th>r4h2</th>\n",
       "      <th>...</th>\n",
       "      <th>age</th>\n",
       "      <th>SQBescolari</th>\n",
       "      <th>SQBage</th>\n",
       "      <th>SQBhogar_total</th>\n",
       "      <th>SQBedjefe</th>\n",
       "      <th>SQBhogar_nin</th>\n",
       "      <th>SQBovercrowding</th>\n",
       "      <th>SQBdependency</th>\n",
       "      <th>SQBmeaned</th>\n",
       "      <th>agesq</th>\n",
       "    </tr>\n",
       "  </thead>\n",
       "  <tbody>\n",
       "    <tr>\n",
       "      <th>v2a1</th>\n",
       "      <td>NaN</td>\n",
       "      <td>0.091732</td>\n",
       "      <td>0.443461</td>\n",
       "      <td>0.073509</td>\n",
       "      <td>0.033551</td>\n",
       "      <td>0.088970</td>\n",
       "      <td>0.278364</td>\n",
       "      <td>0.302292</td>\n",
       "      <td>0.081900</td>\n",
       "      <td>0.002401</td>\n",
       "      <td>...</td>\n",
       "      <td>0.078897</td>\n",
       "      <td>0.358305</td>\n",
       "      <td>0.062343</td>\n",
       "      <td>0.061309</td>\n",
       "      <td>0.364290</td>\n",
       "      <td>0.082246</td>\n",
       "      <td>0.191915</td>\n",
       "      <td>0.061352</td>\n",
       "      <td>0.402561</td>\n",
       "      <td>0.062343</td>\n",
       "    </tr>\n",
       "    <tr>\n",
       "      <th>hacdor</th>\n",
       "      <td>NaN</td>\n",
       "      <td>NaN</td>\n",
       "      <td>0.233369</td>\n",
       "      <td>0.652594</td>\n",
       "      <td>0.175011</td>\n",
       "      <td>0.101965</td>\n",
       "      <td>0.084680</td>\n",
       "      <td>0.049262</td>\n",
       "      <td>0.232508</td>\n",
       "      <td>0.059313</td>\n",
       "      <td>...</td>\n",
       "      <td>0.118168</td>\n",
       "      <td>0.109862</td>\n",
       "      <td>0.102725</td>\n",
       "      <td>0.350546</td>\n",
       "      <td>0.082229</td>\n",
       "      <td>0.388043</td>\n",
       "      <td>0.794699</td>\n",
       "      <td>0.005278</td>\n",
       "      <td>0.099153</td>\n",
       "      <td>0.102725</td>\n",
       "    </tr>\n",
       "    <tr>\n",
       "      <th>rooms</th>\n",
       "      <td>NaN</td>\n",
       "      <td>NaN</td>\n",
       "      <td>NaN</td>\n",
       "      <td>0.213368</td>\n",
       "      <td>0.129183</td>\n",
       "      <td>0.130531</td>\n",
       "      <td>0.254256</td>\n",
       "      <td>0.208919</td>\n",
       "      <td>0.066578</td>\n",
       "      <td>0.267627</td>\n",
       "      <td>...</td>\n",
       "      <td>0.077046</td>\n",
       "      <td>0.233679</td>\n",
       "      <td>0.068288</td>\n",
       "      <td>0.221595</td>\n",
       "      <td>0.198890</td>\n",
       "      <td>0.007952</td>\n",
       "      <td>0.355526</td>\n",
       "      <td>0.027575</td>\n",
       "      <td>0.250061</td>\n",
       "      <td>0.068288</td>\n",
       "    </tr>\n",
       "    <tr>\n",
       "      <th>hacapo</th>\n",
       "      <td>NaN</td>\n",
       "      <td>NaN</td>\n",
       "      <td>NaN</td>\n",
       "      <td>NaN</td>\n",
       "      <td>0.150986</td>\n",
       "      <td>0.124506</td>\n",
       "      <td>0.067529</td>\n",
       "      <td>0.037414</td>\n",
       "      <td>0.226378</td>\n",
       "      <td>0.126645</td>\n",
       "      <td>...</td>\n",
       "      <td>0.087773</td>\n",
       "      <td>0.092703</td>\n",
       "      <td>0.075528</td>\n",
       "      <td>0.373720</td>\n",
       "      <td>0.071170</td>\n",
       "      <td>0.367025</td>\n",
       "      <td>0.640096</td>\n",
       "      <td>0.014411</td>\n",
       "      <td>0.103324</td>\n",
       "      <td>0.075528</td>\n",
       "    </tr>\n",
       "    <tr>\n",
       "      <th>v14a</th>\n",
       "      <td>NaN</td>\n",
       "      <td>NaN</td>\n",
       "      <td>NaN</td>\n",
       "      <td>NaN</td>\n",
       "      <td>NaN</td>\n",
       "      <td>0.143143</td>\n",
       "      <td>0.036396</td>\n",
       "      <td>0.011255</td>\n",
       "      <td>0.054769</td>\n",
       "      <td>0.018133</td>\n",
       "      <td>...</td>\n",
       "      <td>0.027193</td>\n",
       "      <td>0.036483</td>\n",
       "      <td>0.023831</td>\n",
       "      <td>0.009100</td>\n",
       "      <td>0.018897</td>\n",
       "      <td>0.015193</td>\n",
       "      <td>0.174969</td>\n",
       "      <td>0.005712</td>\n",
       "      <td>0.034711</td>\n",
       "      <td>0.023831</td>\n",
       "    </tr>\n",
       "    <tr>\n",
       "      <th>...</th>\n",
       "      <td>...</td>\n",
       "      <td>...</td>\n",
       "      <td>...</td>\n",
       "      <td>...</td>\n",
       "      <td>...</td>\n",
       "      <td>...</td>\n",
       "      <td>...</td>\n",
       "      <td>...</td>\n",
       "      <td>...</td>\n",
       "      <td>...</td>\n",
       "      <td>...</td>\n",
       "      <td>...</td>\n",
       "      <td>...</td>\n",
       "      <td>...</td>\n",
       "      <td>...</td>\n",
       "      <td>...</td>\n",
       "      <td>...</td>\n",
       "      <td>...</td>\n",
       "      <td>...</td>\n",
       "      <td>...</td>\n",
       "      <td>...</td>\n",
       "    </tr>\n",
       "    <tr>\n",
       "      <th>SQBhogar_nin</th>\n",
       "      <td>NaN</td>\n",
       "      <td>NaN</td>\n",
       "      <td>NaN</td>\n",
       "      <td>NaN</td>\n",
       "      <td>NaN</td>\n",
       "      <td>NaN</td>\n",
       "      <td>NaN</td>\n",
       "      <td>NaN</td>\n",
       "      <td>NaN</td>\n",
       "      <td>NaN</td>\n",
       "      <td>...</td>\n",
       "      <td>NaN</td>\n",
       "      <td>NaN</td>\n",
       "      <td>NaN</td>\n",
       "      <td>NaN</td>\n",
       "      <td>NaN</td>\n",
       "      <td>NaN</td>\n",
       "      <td>0.477876</td>\n",
       "      <td>0.049113</td>\n",
       "      <td>0.009591</td>\n",
       "      <td>0.278921</td>\n",
       "    </tr>\n",
       "    <tr>\n",
       "      <th>SQBovercrowding</th>\n",
       "      <td>NaN</td>\n",
       "      <td>NaN</td>\n",
       "      <td>NaN</td>\n",
       "      <td>NaN</td>\n",
       "      <td>NaN</td>\n",
       "      <td>NaN</td>\n",
       "      <td>NaN</td>\n",
       "      <td>NaN</td>\n",
       "      <td>NaN</td>\n",
       "      <td>NaN</td>\n",
       "      <td>...</td>\n",
       "      <td>NaN</td>\n",
       "      <td>NaN</td>\n",
       "      <td>NaN</td>\n",
       "      <td>NaN</td>\n",
       "      <td>NaN</td>\n",
       "      <td>NaN</td>\n",
       "      <td>NaN</td>\n",
       "      <td>0.049525</td>\n",
       "      <td>0.150997</td>\n",
       "      <td>0.218349</td>\n",
       "    </tr>\n",
       "    <tr>\n",
       "      <th>SQBdependency</th>\n",
       "      <td>NaN</td>\n",
       "      <td>NaN</td>\n",
       "      <td>NaN</td>\n",
       "      <td>NaN</td>\n",
       "      <td>NaN</td>\n",
       "      <td>NaN</td>\n",
       "      <td>NaN</td>\n",
       "      <td>NaN</td>\n",
       "      <td>NaN</td>\n",
       "      <td>NaN</td>\n",
       "      <td>...</td>\n",
       "      <td>NaN</td>\n",
       "      <td>NaN</td>\n",
       "      <td>NaN</td>\n",
       "      <td>NaN</td>\n",
       "      <td>NaN</td>\n",
       "      <td>NaN</td>\n",
       "      <td>NaN</td>\n",
       "      <td>NaN</td>\n",
       "      <td>0.065129</td>\n",
       "      <td>0.395814</td>\n",
       "    </tr>\n",
       "    <tr>\n",
       "      <th>SQBmeaned</th>\n",
       "      <td>NaN</td>\n",
       "      <td>NaN</td>\n",
       "      <td>NaN</td>\n",
       "      <td>NaN</td>\n",
       "      <td>NaN</td>\n",
       "      <td>NaN</td>\n",
       "      <td>NaN</td>\n",
       "      <td>NaN</td>\n",
       "      <td>NaN</td>\n",
       "      <td>NaN</td>\n",
       "      <td>...</td>\n",
       "      <td>NaN</td>\n",
       "      <td>NaN</td>\n",
       "      <td>NaN</td>\n",
       "      <td>NaN</td>\n",
       "      <td>NaN</td>\n",
       "      <td>NaN</td>\n",
       "      <td>NaN</td>\n",
       "      <td>NaN</td>\n",
       "      <td>NaN</td>\n",
       "      <td>0.112386</td>\n",
       "    </tr>\n",
       "    <tr>\n",
       "      <th>agesq</th>\n",
       "      <td>NaN</td>\n",
       "      <td>NaN</td>\n",
       "      <td>NaN</td>\n",
       "      <td>NaN</td>\n",
       "      <td>NaN</td>\n",
       "      <td>NaN</td>\n",
       "      <td>NaN</td>\n",
       "      <td>NaN</td>\n",
       "      <td>NaN</td>\n",
       "      <td>NaN</td>\n",
       "      <td>...</td>\n",
       "      <td>NaN</td>\n",
       "      <td>NaN</td>\n",
       "      <td>NaN</td>\n",
       "      <td>NaN</td>\n",
       "      <td>NaN</td>\n",
       "      <td>NaN</td>\n",
       "      <td>NaN</td>\n",
       "      <td>NaN</td>\n",
       "      <td>NaN</td>\n",
       "      <td>NaN</td>\n",
       "    </tr>\n",
       "  </tbody>\n",
       "</table>\n",
       "<p>141 rows × 141 columns</p>\n",
       "</div>"
      ],
      "text/plain": [
       "                 v2a1    hacdor     rooms    hacapo      v14a    refrig  \\\n",
       "v2a1              NaN  0.091732  0.443461  0.073509  0.033551  0.088970   \n",
       "hacdor            NaN       NaN  0.233369  0.652594  0.175011  0.101965   \n",
       "rooms             NaN       NaN       NaN  0.213368  0.129183  0.130531   \n",
       "hacapo            NaN       NaN       NaN       NaN  0.150986  0.124506   \n",
       "v14a              NaN       NaN       NaN       NaN       NaN  0.143143   \n",
       "...               ...       ...       ...       ...       ...       ...   \n",
       "SQBhogar_nin      NaN       NaN       NaN       NaN       NaN       NaN   \n",
       "SQBovercrowding   NaN       NaN       NaN       NaN       NaN       NaN   \n",
       "SQBdependency     NaN       NaN       NaN       NaN       NaN       NaN   \n",
       "SQBmeaned         NaN       NaN       NaN       NaN       NaN       NaN   \n",
       "agesq             NaN       NaN       NaN       NaN       NaN       NaN   \n",
       "\n",
       "                     v18q     v18q1      r4h1      r4h2  ...       age  \\\n",
       "v2a1             0.278364  0.302292  0.081900  0.002401  ...  0.078897   \n",
       "hacdor           0.084680  0.049262  0.232508  0.059313  ...  0.118168   \n",
       "rooms            0.254256  0.208919  0.066578  0.267627  ...  0.077046   \n",
       "hacapo           0.067529  0.037414  0.226378  0.126645  ...  0.087773   \n",
       "v14a             0.036396  0.011255  0.054769  0.018133  ...  0.027193   \n",
       "...                   ...       ...       ...       ...  ...       ...   \n",
       "SQBhogar_nin          NaN       NaN       NaN       NaN  ...       NaN   \n",
       "SQBovercrowding       NaN       NaN       NaN       NaN  ...       NaN   \n",
       "SQBdependency         NaN       NaN       NaN       NaN  ...       NaN   \n",
       "SQBmeaned             NaN       NaN       NaN       NaN  ...       NaN   \n",
       "agesq                 NaN       NaN       NaN       NaN  ...       NaN   \n",
       "\n",
       "                 SQBescolari    SQBage  SQBhogar_total  SQBedjefe  \\\n",
       "v2a1                0.358305  0.062343        0.061309   0.364290   \n",
       "hacdor              0.109862  0.102725        0.350546   0.082229   \n",
       "rooms               0.233679  0.068288        0.221595   0.198890   \n",
       "hacapo              0.092703  0.075528        0.373720   0.071170   \n",
       "v14a                0.036483  0.023831        0.009100   0.018897   \n",
       "...                      ...       ...             ...        ...   \n",
       "SQBhogar_nin             NaN       NaN             NaN        NaN   \n",
       "SQBovercrowding          NaN       NaN             NaN        NaN   \n",
       "SQBdependency            NaN       NaN             NaN        NaN   \n",
       "SQBmeaned                NaN       NaN             NaN        NaN   \n",
       "agesq                    NaN       NaN             NaN        NaN   \n",
       "\n",
       "                 SQBhogar_nin  SQBovercrowding  SQBdependency  SQBmeaned  \\\n",
       "v2a1                 0.082246         0.191915       0.061352   0.402561   \n",
       "hacdor               0.388043         0.794699       0.005278   0.099153   \n",
       "rooms                0.007952         0.355526       0.027575   0.250061   \n",
       "hacapo               0.367025         0.640096       0.014411   0.103324   \n",
       "v14a                 0.015193         0.174969       0.005712   0.034711   \n",
       "...                       ...              ...            ...        ...   \n",
       "SQBhogar_nin              NaN         0.477876       0.049113   0.009591   \n",
       "SQBovercrowding           NaN              NaN       0.049525   0.150997   \n",
       "SQBdependency             NaN              NaN            NaN   0.065129   \n",
       "SQBmeaned                 NaN              NaN            NaN        NaN   \n",
       "agesq                     NaN              NaN            NaN        NaN   \n",
       "\n",
       "                    agesq  \n",
       "v2a1             0.062343  \n",
       "hacdor           0.102725  \n",
       "rooms            0.068288  \n",
       "hacapo           0.075528  \n",
       "v14a             0.023831  \n",
       "...                   ...  \n",
       "SQBhogar_nin     0.278921  \n",
       "SQBovercrowding  0.218349  \n",
       "SQBdependency    0.395814  \n",
       "SQBmeaned        0.112386  \n",
       "agesq                 NaN  \n",
       "\n",
       "[141 rows x 141 columns]"
      ]
     },
     "execution_count": 153,
     "metadata": {},
     "output_type": "execute_result"
    }
   ],
   "source": [
    "corr_matrix.where(np.triu(np.ones(corr_matrix.shape),k=1).astype(np.bool))"
   ]
  },
  {
   "cell_type": "code",
   "execution_count": 154,
   "id": "5289376e",
   "metadata": {},
   "outputs": [],
   "source": [
    "Upper_Tri = corr_matrix.where(np.triu(np.ones(corr_matrix.shape),k=1).astype(np.bool))"
   ]
  },
  {
   "cell_type": "code",
   "execution_count": 155,
   "id": "23bf7167",
   "metadata": {},
   "outputs": [
    {
     "data": {
      "text/html": [
       "<div>\n",
       "<style scoped>\n",
       "    .dataframe tbody tr th:only-of-type {\n",
       "        vertical-align: middle;\n",
       "    }\n",
       "\n",
       "    .dataframe tbody tr th {\n",
       "        vertical-align: top;\n",
       "    }\n",
       "\n",
       "    .dataframe thead th {\n",
       "        text-align: right;\n",
       "    }\n",
       "</style>\n",
       "<table border=\"1\" class=\"dataframe\">\n",
       "  <thead>\n",
       "    <tr style=\"text-align: right;\">\n",
       "      <th></th>\n",
       "      <th>v2a1</th>\n",
       "      <th>hacdor</th>\n",
       "      <th>rooms</th>\n",
       "      <th>hacapo</th>\n",
       "      <th>v14a</th>\n",
       "      <th>refrig</th>\n",
       "      <th>v18q</th>\n",
       "      <th>v18q1</th>\n",
       "      <th>r4h1</th>\n",
       "      <th>r4h2</th>\n",
       "      <th>...</th>\n",
       "      <th>age</th>\n",
       "      <th>SQBescolari</th>\n",
       "      <th>SQBage</th>\n",
       "      <th>SQBhogar_total</th>\n",
       "      <th>SQBedjefe</th>\n",
       "      <th>SQBhogar_nin</th>\n",
       "      <th>SQBovercrowding</th>\n",
       "      <th>SQBdependency</th>\n",
       "      <th>SQBmeaned</th>\n",
       "      <th>agesq</th>\n",
       "    </tr>\n",
       "  </thead>\n",
       "  <tbody>\n",
       "    <tr>\n",
       "      <th>v2a1</th>\n",
       "      <td>NaN</td>\n",
       "      <td>0.091732</td>\n",
       "      <td>0.443461</td>\n",
       "      <td>0.073509</td>\n",
       "      <td>0.033551</td>\n",
       "      <td>0.088970</td>\n",
       "      <td>0.278364</td>\n",
       "      <td>0.302292</td>\n",
       "      <td>0.081900</td>\n",
       "      <td>0.002401</td>\n",
       "      <td>...</td>\n",
       "      <td>0.078897</td>\n",
       "      <td>0.358305</td>\n",
       "      <td>0.062343</td>\n",
       "      <td>0.061309</td>\n",
       "      <td>0.364290</td>\n",
       "      <td>0.082246</td>\n",
       "      <td>0.191915</td>\n",
       "      <td>0.061352</td>\n",
       "      <td>0.402561</td>\n",
       "      <td>0.062343</td>\n",
       "    </tr>\n",
       "    <tr>\n",
       "      <th>hacdor</th>\n",
       "      <td>NaN</td>\n",
       "      <td>NaN</td>\n",
       "      <td>0.233369</td>\n",
       "      <td>0.652594</td>\n",
       "      <td>0.175011</td>\n",
       "      <td>0.101965</td>\n",
       "      <td>0.084680</td>\n",
       "      <td>0.049262</td>\n",
       "      <td>0.232508</td>\n",
       "      <td>0.059313</td>\n",
       "      <td>...</td>\n",
       "      <td>0.118168</td>\n",
       "      <td>0.109862</td>\n",
       "      <td>0.102725</td>\n",
       "      <td>0.350546</td>\n",
       "      <td>0.082229</td>\n",
       "      <td>0.388043</td>\n",
       "      <td>0.794699</td>\n",
       "      <td>0.005278</td>\n",
       "      <td>0.099153</td>\n",
       "      <td>0.102725</td>\n",
       "    </tr>\n",
       "    <tr>\n",
       "      <th>rooms</th>\n",
       "      <td>NaN</td>\n",
       "      <td>NaN</td>\n",
       "      <td>NaN</td>\n",
       "      <td>0.213368</td>\n",
       "      <td>0.129183</td>\n",
       "      <td>0.130531</td>\n",
       "      <td>0.254256</td>\n",
       "      <td>0.208919</td>\n",
       "      <td>0.066578</td>\n",
       "      <td>0.267627</td>\n",
       "      <td>...</td>\n",
       "      <td>0.077046</td>\n",
       "      <td>0.233679</td>\n",
       "      <td>0.068288</td>\n",
       "      <td>0.221595</td>\n",
       "      <td>0.198890</td>\n",
       "      <td>0.007952</td>\n",
       "      <td>0.355526</td>\n",
       "      <td>0.027575</td>\n",
       "      <td>0.250061</td>\n",
       "      <td>0.068288</td>\n",
       "    </tr>\n",
       "    <tr>\n",
       "      <th>hacapo</th>\n",
       "      <td>NaN</td>\n",
       "      <td>NaN</td>\n",
       "      <td>NaN</td>\n",
       "      <td>NaN</td>\n",
       "      <td>0.150986</td>\n",
       "      <td>0.124506</td>\n",
       "      <td>0.067529</td>\n",
       "      <td>0.037414</td>\n",
       "      <td>0.226378</td>\n",
       "      <td>0.126645</td>\n",
       "      <td>...</td>\n",
       "      <td>0.087773</td>\n",
       "      <td>0.092703</td>\n",
       "      <td>0.075528</td>\n",
       "      <td>0.373720</td>\n",
       "      <td>0.071170</td>\n",
       "      <td>0.367025</td>\n",
       "      <td>0.640096</td>\n",
       "      <td>0.014411</td>\n",
       "      <td>0.103324</td>\n",
       "      <td>0.075528</td>\n",
       "    </tr>\n",
       "    <tr>\n",
       "      <th>v14a</th>\n",
       "      <td>NaN</td>\n",
       "      <td>NaN</td>\n",
       "      <td>NaN</td>\n",
       "      <td>NaN</td>\n",
       "      <td>NaN</td>\n",
       "      <td>0.143143</td>\n",
       "      <td>0.036396</td>\n",
       "      <td>0.011255</td>\n",
       "      <td>0.054769</td>\n",
       "      <td>0.018133</td>\n",
       "      <td>...</td>\n",
       "      <td>0.027193</td>\n",
       "      <td>0.036483</td>\n",
       "      <td>0.023831</td>\n",
       "      <td>0.009100</td>\n",
       "      <td>0.018897</td>\n",
       "      <td>0.015193</td>\n",
       "      <td>0.174969</td>\n",
       "      <td>0.005712</td>\n",
       "      <td>0.034711</td>\n",
       "      <td>0.023831</td>\n",
       "    </tr>\n",
       "    <tr>\n",
       "      <th>...</th>\n",
       "      <td>...</td>\n",
       "      <td>...</td>\n",
       "      <td>...</td>\n",
       "      <td>...</td>\n",
       "      <td>...</td>\n",
       "      <td>...</td>\n",
       "      <td>...</td>\n",
       "      <td>...</td>\n",
       "      <td>...</td>\n",
       "      <td>...</td>\n",
       "      <td>...</td>\n",
       "      <td>...</td>\n",
       "      <td>...</td>\n",
       "      <td>...</td>\n",
       "      <td>...</td>\n",
       "      <td>...</td>\n",
       "      <td>...</td>\n",
       "      <td>...</td>\n",
       "      <td>...</td>\n",
       "      <td>...</td>\n",
       "      <td>...</td>\n",
       "    </tr>\n",
       "    <tr>\n",
       "      <th>SQBhogar_nin</th>\n",
       "      <td>NaN</td>\n",
       "      <td>NaN</td>\n",
       "      <td>NaN</td>\n",
       "      <td>NaN</td>\n",
       "      <td>NaN</td>\n",
       "      <td>NaN</td>\n",
       "      <td>NaN</td>\n",
       "      <td>NaN</td>\n",
       "      <td>NaN</td>\n",
       "      <td>NaN</td>\n",
       "      <td>...</td>\n",
       "      <td>NaN</td>\n",
       "      <td>NaN</td>\n",
       "      <td>NaN</td>\n",
       "      <td>NaN</td>\n",
       "      <td>NaN</td>\n",
       "      <td>NaN</td>\n",
       "      <td>0.477876</td>\n",
       "      <td>0.049113</td>\n",
       "      <td>0.009591</td>\n",
       "      <td>0.278921</td>\n",
       "    </tr>\n",
       "    <tr>\n",
       "      <th>SQBovercrowding</th>\n",
       "      <td>NaN</td>\n",
       "      <td>NaN</td>\n",
       "      <td>NaN</td>\n",
       "      <td>NaN</td>\n",
       "      <td>NaN</td>\n",
       "      <td>NaN</td>\n",
       "      <td>NaN</td>\n",
       "      <td>NaN</td>\n",
       "      <td>NaN</td>\n",
       "      <td>NaN</td>\n",
       "      <td>...</td>\n",
       "      <td>NaN</td>\n",
       "      <td>NaN</td>\n",
       "      <td>NaN</td>\n",
       "      <td>NaN</td>\n",
       "      <td>NaN</td>\n",
       "      <td>NaN</td>\n",
       "      <td>NaN</td>\n",
       "      <td>0.049525</td>\n",
       "      <td>0.150997</td>\n",
       "      <td>0.218349</td>\n",
       "    </tr>\n",
       "    <tr>\n",
       "      <th>SQBdependency</th>\n",
       "      <td>NaN</td>\n",
       "      <td>NaN</td>\n",
       "      <td>NaN</td>\n",
       "      <td>NaN</td>\n",
       "      <td>NaN</td>\n",
       "      <td>NaN</td>\n",
       "      <td>NaN</td>\n",
       "      <td>NaN</td>\n",
       "      <td>NaN</td>\n",
       "      <td>NaN</td>\n",
       "      <td>...</td>\n",
       "      <td>NaN</td>\n",
       "      <td>NaN</td>\n",
       "      <td>NaN</td>\n",
       "      <td>NaN</td>\n",
       "      <td>NaN</td>\n",
       "      <td>NaN</td>\n",
       "      <td>NaN</td>\n",
       "      <td>NaN</td>\n",
       "      <td>0.065129</td>\n",
       "      <td>0.395814</td>\n",
       "    </tr>\n",
       "    <tr>\n",
       "      <th>SQBmeaned</th>\n",
       "      <td>NaN</td>\n",
       "      <td>NaN</td>\n",
       "      <td>NaN</td>\n",
       "      <td>NaN</td>\n",
       "      <td>NaN</td>\n",
       "      <td>NaN</td>\n",
       "      <td>NaN</td>\n",
       "      <td>NaN</td>\n",
       "      <td>NaN</td>\n",
       "      <td>NaN</td>\n",
       "      <td>...</td>\n",
       "      <td>NaN</td>\n",
       "      <td>NaN</td>\n",
       "      <td>NaN</td>\n",
       "      <td>NaN</td>\n",
       "      <td>NaN</td>\n",
       "      <td>NaN</td>\n",
       "      <td>NaN</td>\n",
       "      <td>NaN</td>\n",
       "      <td>NaN</td>\n",
       "      <td>0.112386</td>\n",
       "    </tr>\n",
       "    <tr>\n",
       "      <th>agesq</th>\n",
       "      <td>NaN</td>\n",
       "      <td>NaN</td>\n",
       "      <td>NaN</td>\n",
       "      <td>NaN</td>\n",
       "      <td>NaN</td>\n",
       "      <td>NaN</td>\n",
       "      <td>NaN</td>\n",
       "      <td>NaN</td>\n",
       "      <td>NaN</td>\n",
       "      <td>NaN</td>\n",
       "      <td>...</td>\n",
       "      <td>NaN</td>\n",
       "      <td>NaN</td>\n",
       "      <td>NaN</td>\n",
       "      <td>NaN</td>\n",
       "      <td>NaN</td>\n",
       "      <td>NaN</td>\n",
       "      <td>NaN</td>\n",
       "      <td>NaN</td>\n",
       "      <td>NaN</td>\n",
       "      <td>NaN</td>\n",
       "    </tr>\n",
       "  </tbody>\n",
       "</table>\n",
       "<p>141 rows × 141 columns</p>\n",
       "</div>"
      ],
      "text/plain": [
       "                 v2a1    hacdor     rooms    hacapo      v14a    refrig  \\\n",
       "v2a1              NaN  0.091732  0.443461  0.073509  0.033551  0.088970   \n",
       "hacdor            NaN       NaN  0.233369  0.652594  0.175011  0.101965   \n",
       "rooms             NaN       NaN       NaN  0.213368  0.129183  0.130531   \n",
       "hacapo            NaN       NaN       NaN       NaN  0.150986  0.124506   \n",
       "v14a              NaN       NaN       NaN       NaN       NaN  0.143143   \n",
       "...               ...       ...       ...       ...       ...       ...   \n",
       "SQBhogar_nin      NaN       NaN       NaN       NaN       NaN       NaN   \n",
       "SQBovercrowding   NaN       NaN       NaN       NaN       NaN       NaN   \n",
       "SQBdependency     NaN       NaN       NaN       NaN       NaN       NaN   \n",
       "SQBmeaned         NaN       NaN       NaN       NaN       NaN       NaN   \n",
       "agesq             NaN       NaN       NaN       NaN       NaN       NaN   \n",
       "\n",
       "                     v18q     v18q1      r4h1      r4h2  ...       age  \\\n",
       "v2a1             0.278364  0.302292  0.081900  0.002401  ...  0.078897   \n",
       "hacdor           0.084680  0.049262  0.232508  0.059313  ...  0.118168   \n",
       "rooms            0.254256  0.208919  0.066578  0.267627  ...  0.077046   \n",
       "hacapo           0.067529  0.037414  0.226378  0.126645  ...  0.087773   \n",
       "v14a             0.036396  0.011255  0.054769  0.018133  ...  0.027193   \n",
       "...                   ...       ...       ...       ...  ...       ...   \n",
       "SQBhogar_nin          NaN       NaN       NaN       NaN  ...       NaN   \n",
       "SQBovercrowding       NaN       NaN       NaN       NaN  ...       NaN   \n",
       "SQBdependency         NaN       NaN       NaN       NaN  ...       NaN   \n",
       "SQBmeaned             NaN       NaN       NaN       NaN  ...       NaN   \n",
       "agesq                 NaN       NaN       NaN       NaN  ...       NaN   \n",
       "\n",
       "                 SQBescolari    SQBage  SQBhogar_total  SQBedjefe  \\\n",
       "v2a1                0.358305  0.062343        0.061309   0.364290   \n",
       "hacdor              0.109862  0.102725        0.350546   0.082229   \n",
       "rooms               0.233679  0.068288        0.221595   0.198890   \n",
       "hacapo              0.092703  0.075528        0.373720   0.071170   \n",
       "v14a                0.036483  0.023831        0.009100   0.018897   \n",
       "...                      ...       ...             ...        ...   \n",
       "SQBhogar_nin             NaN       NaN             NaN        NaN   \n",
       "SQBovercrowding          NaN       NaN             NaN        NaN   \n",
       "SQBdependency            NaN       NaN             NaN        NaN   \n",
       "SQBmeaned                NaN       NaN             NaN        NaN   \n",
       "agesq                    NaN       NaN             NaN        NaN   \n",
       "\n",
       "                 SQBhogar_nin  SQBovercrowding  SQBdependency  SQBmeaned  \\\n",
       "v2a1                 0.082246         0.191915       0.061352   0.402561   \n",
       "hacdor               0.388043         0.794699       0.005278   0.099153   \n",
       "rooms                0.007952         0.355526       0.027575   0.250061   \n",
       "hacapo               0.367025         0.640096       0.014411   0.103324   \n",
       "v14a                 0.015193         0.174969       0.005712   0.034711   \n",
       "...                       ...              ...            ...        ...   \n",
       "SQBhogar_nin              NaN         0.477876       0.049113   0.009591   \n",
       "SQBovercrowding           NaN              NaN       0.049525   0.150997   \n",
       "SQBdependency             NaN              NaN            NaN   0.065129   \n",
       "SQBmeaned                 NaN              NaN            NaN        NaN   \n",
       "agesq                     NaN              NaN            NaN        NaN   \n",
       "\n",
       "                    agesq  \n",
       "v2a1             0.062343  \n",
       "hacdor           0.102725  \n",
       "rooms            0.068288  \n",
       "hacapo           0.075528  \n",
       "v14a             0.023831  \n",
       "...                   ...  \n",
       "SQBhogar_nin     0.278921  \n",
       "SQBovercrowding  0.218349  \n",
       "SQBdependency    0.395814  \n",
       "SQBmeaned        0.112386  \n",
       "agesq                 NaN  \n",
       "\n",
       "[141 rows x 141 columns]"
      ]
     },
     "execution_count": 155,
     "metadata": {},
     "output_type": "execute_result"
    }
   ],
   "source": [
    "Upper_Tri"
   ]
  },
  {
   "cell_type": "code",
   "execution_count": null,
   "id": "fe34db0a",
   "metadata": {},
   "outputs": [],
   "source": []
  },
  {
   "cell_type": "code",
   "execution_count": 156,
   "id": "6c1d8bc7",
   "metadata": {},
   "outputs": [],
   "source": [
    "# Now, we will Choose Colums which have Absolute Correlation Greater Than 0.75(75%) and Drop them from Data \n",
    "# to avoid Multicolinearity"
   ]
  },
  {
   "cell_type": "code",
   "execution_count": 157,
   "id": "630faef1",
   "metadata": {},
   "outputs": [],
   "source": [
    "Cols_to_drop = []\n",
    "\n",
    "for i in Upper_Tri.columns:\n",
    "    if any(Upper_Tri[i] > 0.75):\n",
    "        Cols_to_drop.append(i)"
   ]
  },
  {
   "cell_type": "code",
   "execution_count": 158,
   "id": "90604b22",
   "metadata": {},
   "outputs": [
    {
     "data": {
      "text/plain": [
       "['r4h3',\n",
       " 'r4m3',\n",
       " 'r4t1',\n",
       " 'r4t2',\n",
       " 'r4t3',\n",
       " 'tamhog',\n",
       " 'tamviv',\n",
       " 'hhsize',\n",
       " 'pisocemento',\n",
       " 'techoentrepiso',\n",
       " 'abastaguafuera',\n",
       " 'coopele',\n",
       " 'sanitario3',\n",
       " 'energcocinar3',\n",
       " 'elimbasu3',\n",
       " 'epared3',\n",
       " 'etecho3',\n",
       " 'eviv3',\n",
       " 'female',\n",
       " 'hogar_nin',\n",
       " 'hogar_adul',\n",
       " 'hogar_total',\n",
       " 'bedrooms',\n",
       " 'area2',\n",
       " 'SQBescolari',\n",
       " 'SQBage',\n",
       " 'SQBhogar_total',\n",
       " 'SQBedjefe',\n",
       " 'SQBhogar_nin',\n",
       " 'SQBovercrowding',\n",
       " 'SQBdependency',\n",
       " 'SQBmeaned',\n",
       " 'agesq']"
      ]
     },
     "execution_count": 158,
     "metadata": {},
     "output_type": "execute_result"
    }
   ],
   "source": [
    "Cols_to_drop"
   ]
  },
  {
   "cell_type": "code",
   "execution_count": 159,
   "id": "ec0ced6e",
   "metadata": {},
   "outputs": [
    {
     "data": {
      "text/plain": [
       "33"
      ]
     },
     "execution_count": 159,
     "metadata": {},
     "output_type": "execute_result"
    }
   ],
   "source": [
    "len(Cols_to_drop)"
   ]
  },
  {
   "cell_type": "code",
   "execution_count": 160,
   "id": "5ca37d7f",
   "metadata": {},
   "outputs": [],
   "source": [
    "# We Will Drop This Columns From Both Train and Test Data."
   ]
  },
  {
   "cell_type": "code",
   "execution_count": 161,
   "id": "c1515d29",
   "metadata": {},
   "outputs": [],
   "source": [
    "income_train = income_train.drop(Cols_to_drop, axis= 1)\n",
    "income_test = income_test.drop(Cols_to_drop, axis= 1)"
   ]
  },
  {
   "cell_type": "code",
   "execution_count": 162,
   "id": "26be0ac1",
   "metadata": {},
   "outputs": [
    {
     "data": {
      "text/plain": [
       "(9557, 109)"
      ]
     },
     "execution_count": 162,
     "metadata": {},
     "output_type": "execute_result"
    }
   ],
   "source": [
    "income_train.shape"
   ]
  },
  {
   "cell_type": "code",
   "execution_count": 163,
   "id": "a0f2512b",
   "metadata": {},
   "outputs": [
    {
     "data": {
      "text/plain": [
       "(23856, 108)"
      ]
     },
     "execution_count": 163,
     "metadata": {},
     "output_type": "execute_result"
    }
   ],
   "source": [
    "income_test.shape"
   ]
  },
  {
   "cell_type": "code",
   "execution_count": null,
   "id": "34c33aef",
   "metadata": {},
   "outputs": [],
   "source": []
  },
  {
   "cell_type": "markdown",
   "id": "03dbf518",
   "metadata": {},
   "source": [
    "#### 5) Check whether all members of the house have the same poverty level:"
   ]
  },
  {
   "cell_type": "code",
   "execution_count": 164,
   "id": "161487d0",
   "metadata": {},
   "outputs": [],
   "source": [
    "# We will Group the Train Data Using \"idhogar\" Which is Unique for Each Family and check the Variance in \"Target\" Varibale \n",
    "# for them.\n",
    "# If Variance of \"Target\" for Any \"idhogar\" is > 0, Members of That Family have Different Poverty Level. "
   ]
  },
  {
   "cell_type": "code",
   "execution_count": 165,
   "id": "55bcc36f",
   "metadata": {},
   "outputs": [],
   "source": [
    "temp = income_train.groupby(\"idhogar\", as_index= False)[\"Target\"].var().sort_values(\"Target\", ascending= False)"
   ]
  },
  {
   "cell_type": "code",
   "execution_count": 166,
   "id": "e2df72f9",
   "metadata": {},
   "outputs": [
    {
     "data": {
      "text/html": [
       "<div>\n",
       "<style scoped>\n",
       "    .dataframe tbody tr th:only-of-type {\n",
       "        vertical-align: middle;\n",
       "    }\n",
       "\n",
       "    .dataframe tbody tr th {\n",
       "        vertical-align: top;\n",
       "    }\n",
       "\n",
       "    .dataframe thead th {\n",
       "        text-align: right;\n",
       "    }\n",
       "</style>\n",
       "<table border=\"1\" class=\"dataframe\">\n",
       "  <thead>\n",
       "    <tr style=\"text-align: right;\">\n",
       "      <th></th>\n",
       "      <th>idhogar</th>\n",
       "      <th>Target</th>\n",
       "    </tr>\n",
       "  </thead>\n",
       "  <tbody>\n",
       "    <tr>\n",
       "      <th>1079</th>\n",
       "      <td>1079</td>\n",
       "      <td>1.0</td>\n",
       "    </tr>\n",
       "    <tr>\n",
       "      <th>712</th>\n",
       "      <td>712</td>\n",
       "      <td>1.0</td>\n",
       "    </tr>\n",
       "    <tr>\n",
       "      <th>2205</th>\n",
       "      <td>2205</td>\n",
       "      <td>0.5</td>\n",
       "    </tr>\n",
       "    <tr>\n",
       "      <th>769</th>\n",
       "      <td>769</td>\n",
       "      <td>0.5</td>\n",
       "    </tr>\n",
       "    <tr>\n",
       "      <th>977</th>\n",
       "      <td>977</td>\n",
       "      <td>0.5</td>\n",
       "    </tr>\n",
       "    <tr>\n",
       "      <th>...</th>\n",
       "      <td>...</td>\n",
       "      <td>...</td>\n",
       "    </tr>\n",
       "    <tr>\n",
       "      <th>2957</th>\n",
       "      <td>2957</td>\n",
       "      <td>NaN</td>\n",
       "    </tr>\n",
       "    <tr>\n",
       "      <th>2960</th>\n",
       "      <td>2960</td>\n",
       "      <td>NaN</td>\n",
       "    </tr>\n",
       "    <tr>\n",
       "      <th>2970</th>\n",
       "      <td>2970</td>\n",
       "      <td>NaN</td>\n",
       "    </tr>\n",
       "    <tr>\n",
       "      <th>2975</th>\n",
       "      <td>2975</td>\n",
       "      <td>NaN</td>\n",
       "    </tr>\n",
       "    <tr>\n",
       "      <th>2977</th>\n",
       "      <td>2977</td>\n",
       "      <td>NaN</td>\n",
       "    </tr>\n",
       "  </tbody>\n",
       "</table>\n",
       "<p>2988 rows × 2 columns</p>\n",
       "</div>"
      ],
      "text/plain": [
       "      idhogar  Target\n",
       "1079     1079     1.0\n",
       "712       712     1.0\n",
       "2205     2205     0.5\n",
       "769       769     0.5\n",
       "977       977     0.5\n",
       "...       ...     ...\n",
       "2957     2957     NaN\n",
       "2960     2960     NaN\n",
       "2970     2970     NaN\n",
       "2975     2975     NaN\n",
       "2977     2977     NaN\n",
       "\n",
       "[2988 rows x 2 columns]"
      ]
     },
     "execution_count": 166,
     "metadata": {},
     "output_type": "execute_result"
    }
   ],
   "source": [
    "temp"
   ]
  },
  {
   "cell_type": "code",
   "execution_count": 167,
   "id": "4b1c0341",
   "metadata": {},
   "outputs": [],
   "source": [
    "# So, there are Some Families Having Members with Different Poverty Level.\n",
    "# We will Store them in Differetnt Data Frame."
   ]
  },
  {
   "cell_type": "code",
   "execution_count": 168,
   "id": "418b0bd9",
   "metadata": {},
   "outputs": [],
   "source": [
    "diff_pov_level = temp[temp[\"Target\"] > 0]"
   ]
  },
  {
   "cell_type": "code",
   "execution_count": 169,
   "id": "baee8a74",
   "metadata": {},
   "outputs": [
    {
     "data": {
      "text/html": [
       "<div>\n",
       "<style scoped>\n",
       "    .dataframe tbody tr th:only-of-type {\n",
       "        vertical-align: middle;\n",
       "    }\n",
       "\n",
       "    .dataframe tbody tr th {\n",
       "        vertical-align: top;\n",
       "    }\n",
       "\n",
       "    .dataframe thead th {\n",
       "        text-align: right;\n",
       "    }\n",
       "</style>\n",
       "<table border=\"1\" class=\"dataframe\">\n",
       "  <thead>\n",
       "    <tr style=\"text-align: right;\">\n",
       "      <th></th>\n",
       "      <th>idhogar</th>\n",
       "      <th>Target</th>\n",
       "    </tr>\n",
       "  </thead>\n",
       "  <tbody>\n",
       "    <tr>\n",
       "      <th>1079</th>\n",
       "      <td>1079</td>\n",
       "      <td>1.000000</td>\n",
       "    </tr>\n",
       "    <tr>\n",
       "      <th>712</th>\n",
       "      <td>712</td>\n",
       "      <td>1.000000</td>\n",
       "    </tr>\n",
       "    <tr>\n",
       "      <th>2205</th>\n",
       "      <td>2205</td>\n",
       "      <td>0.500000</td>\n",
       "    </tr>\n",
       "    <tr>\n",
       "      <th>769</th>\n",
       "      <td>769</td>\n",
       "      <td>0.500000</td>\n",
       "    </tr>\n",
       "    <tr>\n",
       "      <th>977</th>\n",
       "      <td>977</td>\n",
       "      <td>0.500000</td>\n",
       "    </tr>\n",
       "    <tr>\n",
       "      <th>...</th>\n",
       "      <td>...</td>\n",
       "      <td>...</td>\n",
       "    </tr>\n",
       "    <tr>\n",
       "      <th>523</th>\n",
       "      <td>523</td>\n",
       "      <td>0.166667</td>\n",
       "    </tr>\n",
       "    <tr>\n",
       "      <th>836</th>\n",
       "      <td>836</td>\n",
       "      <td>0.166667</td>\n",
       "    </tr>\n",
       "    <tr>\n",
       "      <th>808</th>\n",
       "      <td>808</td>\n",
       "      <td>0.166667</td>\n",
       "    </tr>\n",
       "    <tr>\n",
       "      <th>2327</th>\n",
       "      <td>2327</td>\n",
       "      <td>0.166667</td>\n",
       "    </tr>\n",
       "    <tr>\n",
       "      <th>1222</th>\n",
       "      <td>1222</td>\n",
       "      <td>0.166667</td>\n",
       "    </tr>\n",
       "  </tbody>\n",
       "</table>\n",
       "<p>85 rows × 2 columns</p>\n",
       "</div>"
      ],
      "text/plain": [
       "      idhogar    Target\n",
       "1079     1079  1.000000\n",
       "712       712  1.000000\n",
       "2205     2205  0.500000\n",
       "769       769  0.500000\n",
       "977       977  0.500000\n",
       "...       ...       ...\n",
       "523       523  0.166667\n",
       "836       836  0.166667\n",
       "808       808  0.166667\n",
       "2327     2327  0.166667\n",
       "1222     1222  0.166667\n",
       "\n",
       "[85 rows x 2 columns]"
      ]
     },
     "execution_count": 169,
     "metadata": {},
     "output_type": "execute_result"
    }
   ],
   "source": [
    "diff_pov_level"
   ]
  },
  {
   "cell_type": "code",
   "execution_count": 170,
   "id": "9e3f3e5b",
   "metadata": {},
   "outputs": [],
   "source": [
    "# So, 85 Families are with Different Poverty Levels among Members."
   ]
  },
  {
   "cell_type": "code",
   "execution_count": null,
   "id": "cab1a339",
   "metadata": {},
   "outputs": [],
   "source": []
  },
  {
   "cell_type": "markdown",
   "id": "91d6aae8",
   "metadata": {},
   "source": [
    "#### 6) Check if there is a house without a family head:"
   ]
  },
  {
   "cell_type": "code",
   "execution_count": 171,
   "id": "16200427",
   "metadata": {},
   "outputs": [
    {
     "data": {
      "text/plain": [
       "0    6584\n",
       "1    2973\n",
       "Name: parentesco1, dtype: int64"
      ]
     },
     "execution_count": 171,
     "metadata": {},
     "output_type": "execute_result"
    }
   ],
   "source": [
    "income_train[\"parentesco1\"].value_counts()"
   ]
  },
  {
   "cell_type": "code",
   "execution_count": 172,
   "id": "9b9863b8",
   "metadata": {},
   "outputs": [
    {
     "data": {
      "text/plain": [
       "0    16522\n",
       "1     7334\n",
       "Name: parentesco1, dtype: int64"
      ]
     },
     "execution_count": 172,
     "metadata": {},
     "output_type": "execute_result"
    }
   ],
   "source": [
    "income_test[\"parentesco1\"].value_counts()"
   ]
  },
  {
   "cell_type": "code",
   "execution_count": 173,
   "id": "c1e32496",
   "metadata": {},
   "outputs": [],
   "source": [
    "# We will Group the Data Using \"idhogar\" Which is Unique for Each Family and check the Sum of \"parentesco1\" Varibale for them.\n",
    "# If Sum of \"parentesco1\" for Any \"idhogar\" is = 0, that House is Without a Family Head. "
   ]
  },
  {
   "cell_type": "code",
   "execution_count": 174,
   "id": "42191ec7",
   "metadata": {},
   "outputs": [],
   "source": [
    "temp1 = income_train.groupby(\"idhogar\", as_index= False)[\"parentesco1\"].sum().sort_values(\"parentesco1\")\n",
    "temp2 = income_test.groupby(\"idhogar\", as_index= False)[\"parentesco1\"].sum().sort_values(\"parentesco1\")"
   ]
  },
  {
   "cell_type": "code",
   "execution_count": 175,
   "id": "930a5dd1",
   "metadata": {},
   "outputs": [
    {
     "data": {
      "text/html": [
       "<div>\n",
       "<style scoped>\n",
       "    .dataframe tbody tr th:only-of-type {\n",
       "        vertical-align: middle;\n",
       "    }\n",
       "\n",
       "    .dataframe tbody tr th {\n",
       "        vertical-align: top;\n",
       "    }\n",
       "\n",
       "    .dataframe thead th {\n",
       "        text-align: right;\n",
       "    }\n",
       "</style>\n",
       "<table border=\"1\" class=\"dataframe\">\n",
       "  <thead>\n",
       "    <tr style=\"text-align: right;\">\n",
       "      <th></th>\n",
       "      <th>idhogar</th>\n",
       "      <th>parentesco1</th>\n",
       "    </tr>\n",
       "  </thead>\n",
       "  <tbody>\n",
       "    <tr>\n",
       "      <th>331</th>\n",
       "      <td>331</td>\n",
       "      <td>0</td>\n",
       "    </tr>\n",
       "    <tr>\n",
       "      <th>38</th>\n",
       "      <td>38</td>\n",
       "      <td>0</td>\n",
       "    </tr>\n",
       "    <tr>\n",
       "      <th>1143</th>\n",
       "      <td>1143</td>\n",
       "      <td>0</td>\n",
       "    </tr>\n",
       "    <tr>\n",
       "      <th>2027</th>\n",
       "      <td>2027</td>\n",
       "      <td>0</td>\n",
       "    </tr>\n",
       "    <tr>\n",
       "      <th>230</th>\n",
       "      <td>230</td>\n",
       "      <td>0</td>\n",
       "    </tr>\n",
       "    <tr>\n",
       "      <th>...</th>\n",
       "      <td>...</td>\n",
       "      <td>...</td>\n",
       "    </tr>\n",
       "    <tr>\n",
       "      <th>1001</th>\n",
       "      <td>1001</td>\n",
       "      <td>1</td>\n",
       "    </tr>\n",
       "    <tr>\n",
       "      <th>1002</th>\n",
       "      <td>1002</td>\n",
       "      <td>1</td>\n",
       "    </tr>\n",
       "    <tr>\n",
       "      <th>1003</th>\n",
       "      <td>1003</td>\n",
       "      <td>1</td>\n",
       "    </tr>\n",
       "    <tr>\n",
       "      <th>994</th>\n",
       "      <td>994</td>\n",
       "      <td>1</td>\n",
       "    </tr>\n",
       "    <tr>\n",
       "      <th>2987</th>\n",
       "      <td>2987</td>\n",
       "      <td>1</td>\n",
       "    </tr>\n",
       "  </tbody>\n",
       "</table>\n",
       "<p>2988 rows × 2 columns</p>\n",
       "</div>"
      ],
      "text/plain": [
       "      idhogar  parentesco1\n",
       "331       331            0\n",
       "38         38            0\n",
       "1143     1143            0\n",
       "2027     2027            0\n",
       "230       230            0\n",
       "...       ...          ...\n",
       "1001     1001            1\n",
       "1002     1002            1\n",
       "1003     1003            1\n",
       "994       994            1\n",
       "2987     2987            1\n",
       "\n",
       "[2988 rows x 2 columns]"
      ]
     },
     "execution_count": 175,
     "metadata": {},
     "output_type": "execute_result"
    }
   ],
   "source": [
    "temp1"
   ]
  },
  {
   "cell_type": "code",
   "execution_count": 176,
   "id": "fe0baacf",
   "metadata": {},
   "outputs": [
    {
     "data": {
      "text/html": [
       "<div>\n",
       "<style scoped>\n",
       "    .dataframe tbody tr th:only-of-type {\n",
       "        vertical-align: middle;\n",
       "    }\n",
       "\n",
       "    .dataframe tbody tr th {\n",
       "        vertical-align: top;\n",
       "    }\n",
       "\n",
       "    .dataframe thead th {\n",
       "        text-align: right;\n",
       "    }\n",
       "</style>\n",
       "<table border=\"1\" class=\"dataframe\">\n",
       "  <thead>\n",
       "    <tr style=\"text-align: right;\">\n",
       "      <th></th>\n",
       "      <th>idhogar</th>\n",
       "      <th>parentesco1</th>\n",
       "    </tr>\n",
       "  </thead>\n",
       "  <tbody>\n",
       "    <tr>\n",
       "      <th>689</th>\n",
       "      <td>689</td>\n",
       "      <td>0</td>\n",
       "    </tr>\n",
       "    <tr>\n",
       "      <th>6497</th>\n",
       "      <td>6497</td>\n",
       "      <td>0</td>\n",
       "    </tr>\n",
       "    <tr>\n",
       "      <th>6355</th>\n",
       "      <td>6355</td>\n",
       "      <td>0</td>\n",
       "    </tr>\n",
       "    <tr>\n",
       "      <th>2570</th>\n",
       "      <td>2570</td>\n",
       "      <td>0</td>\n",
       "    </tr>\n",
       "    <tr>\n",
       "      <th>6970</th>\n",
       "      <td>6970</td>\n",
       "      <td>0</td>\n",
       "    </tr>\n",
       "    <tr>\n",
       "      <th>...</th>\n",
       "      <td>...</td>\n",
       "      <td>...</td>\n",
       "    </tr>\n",
       "    <tr>\n",
       "      <th>2446</th>\n",
       "      <td>2446</td>\n",
       "      <td>1</td>\n",
       "    </tr>\n",
       "    <tr>\n",
       "      <th>2445</th>\n",
       "      <td>2445</td>\n",
       "      <td>1</td>\n",
       "    </tr>\n",
       "    <tr>\n",
       "      <th>2444</th>\n",
       "      <td>2444</td>\n",
       "      <td>1</td>\n",
       "    </tr>\n",
       "    <tr>\n",
       "      <th>2442</th>\n",
       "      <td>2442</td>\n",
       "      <td>1</td>\n",
       "    </tr>\n",
       "    <tr>\n",
       "      <th>7351</th>\n",
       "      <td>7351</td>\n",
       "      <td>1</td>\n",
       "    </tr>\n",
       "  </tbody>\n",
       "</table>\n",
       "<p>7352 rows × 2 columns</p>\n",
       "</div>"
      ],
      "text/plain": [
       "      idhogar  parentesco1\n",
       "689       689            0\n",
       "6497     6497            0\n",
       "6355     6355            0\n",
       "2570     2570            0\n",
       "6970     6970            0\n",
       "...       ...          ...\n",
       "2446     2446            1\n",
       "2445     2445            1\n",
       "2444     2444            1\n",
       "2442     2442            1\n",
       "7351     7351            1\n",
       "\n",
       "[7352 rows x 2 columns]"
      ]
     },
     "execution_count": 176,
     "metadata": {},
     "output_type": "execute_result"
    }
   ],
   "source": [
    "temp2"
   ]
  },
  {
   "cell_type": "code",
   "execution_count": 177,
   "id": "9d38a31f",
   "metadata": {},
   "outputs": [],
   "source": [
    "# So, Both Training and Testing Data have Famlilies Without Family Head.\n",
    "# We will Store them in Different Data Frame."
   ]
  },
  {
   "cell_type": "code",
   "execution_count": 178,
   "id": "b9d408a7",
   "metadata": {},
   "outputs": [],
   "source": [
    "without_house_head = pd.concat([temp1, temp2])"
   ]
  },
  {
   "cell_type": "code",
   "execution_count": 179,
   "id": "4e7e5c2c",
   "metadata": {},
   "outputs": [],
   "source": [
    "without_house_head = without_house_head[without_house_head[\"parentesco1\"] == 0]"
   ]
  },
  {
   "cell_type": "code",
   "execution_count": 180,
   "id": "b8eca6ea",
   "metadata": {},
   "outputs": [
    {
     "data": {
      "text/html": [
       "<div>\n",
       "<style scoped>\n",
       "    .dataframe tbody tr th:only-of-type {\n",
       "        vertical-align: middle;\n",
       "    }\n",
       "\n",
       "    .dataframe tbody tr th {\n",
       "        vertical-align: top;\n",
       "    }\n",
       "\n",
       "    .dataframe thead th {\n",
       "        text-align: right;\n",
       "    }\n",
       "</style>\n",
       "<table border=\"1\" class=\"dataframe\">\n",
       "  <thead>\n",
       "    <tr style=\"text-align: right;\">\n",
       "      <th></th>\n",
       "      <th>idhogar</th>\n",
       "      <th>parentesco1</th>\n",
       "    </tr>\n",
       "  </thead>\n",
       "  <tbody>\n",
       "    <tr>\n",
       "      <th>331</th>\n",
       "      <td>331</td>\n",
       "      <td>0</td>\n",
       "    </tr>\n",
       "    <tr>\n",
       "      <th>38</th>\n",
       "      <td>38</td>\n",
       "      <td>0</td>\n",
       "    </tr>\n",
       "    <tr>\n",
       "      <th>1143</th>\n",
       "      <td>1143</td>\n",
       "      <td>0</td>\n",
       "    </tr>\n",
       "    <tr>\n",
       "      <th>2027</th>\n",
       "      <td>2027</td>\n",
       "      <td>0</td>\n",
       "    </tr>\n",
       "    <tr>\n",
       "      <th>230</th>\n",
       "      <td>230</td>\n",
       "      <td>0</td>\n",
       "    </tr>\n",
       "    <tr>\n",
       "      <th>2807</th>\n",
       "      <td>2807</td>\n",
       "      <td>0</td>\n",
       "    </tr>\n",
       "    <tr>\n",
       "      <th>1268</th>\n",
       "      <td>1268</td>\n",
       "      <td>0</td>\n",
       "    </tr>\n",
       "    <tr>\n",
       "      <th>1613</th>\n",
       "      <td>1613</td>\n",
       "      <td>0</td>\n",
       "    </tr>\n",
       "    <tr>\n",
       "      <th>2251</th>\n",
       "      <td>2251</td>\n",
       "      <td>0</td>\n",
       "    </tr>\n",
       "    <tr>\n",
       "      <th>2068</th>\n",
       "      <td>2068</td>\n",
       "      <td>0</td>\n",
       "    </tr>\n",
       "    <tr>\n",
       "      <th>645</th>\n",
       "      <td>645</td>\n",
       "      <td>0</td>\n",
       "    </tr>\n",
       "    <tr>\n",
       "      <th>2241</th>\n",
       "      <td>2241</td>\n",
       "      <td>0</td>\n",
       "    </tr>\n",
       "    <tr>\n",
       "      <th>1867</th>\n",
       "      <td>1867</td>\n",
       "      <td>0</td>\n",
       "    </tr>\n",
       "    <tr>\n",
       "      <th>2453</th>\n",
       "      <td>2453</td>\n",
       "      <td>0</td>\n",
       "    </tr>\n",
       "    <tr>\n",
       "      <th>114</th>\n",
       "      <td>114</td>\n",
       "      <td>0</td>\n",
       "    </tr>\n",
       "    <tr>\n",
       "      <th>689</th>\n",
       "      <td>689</td>\n",
       "      <td>0</td>\n",
       "    </tr>\n",
       "    <tr>\n",
       "      <th>6497</th>\n",
       "      <td>6497</td>\n",
       "      <td>0</td>\n",
       "    </tr>\n",
       "    <tr>\n",
       "      <th>6355</th>\n",
       "      <td>6355</td>\n",
       "      <td>0</td>\n",
       "    </tr>\n",
       "    <tr>\n",
       "      <th>2570</th>\n",
       "      <td>2570</td>\n",
       "      <td>0</td>\n",
       "    </tr>\n",
       "    <tr>\n",
       "      <th>6970</th>\n",
       "      <td>6970</td>\n",
       "      <td>0</td>\n",
       "    </tr>\n",
       "    <tr>\n",
       "      <th>5935</th>\n",
       "      <td>5935</td>\n",
       "      <td>0</td>\n",
       "    </tr>\n",
       "    <tr>\n",
       "      <th>2907</th>\n",
       "      <td>2907</td>\n",
       "      <td>0</td>\n",
       "    </tr>\n",
       "    <tr>\n",
       "      <th>6525</th>\n",
       "      <td>6525</td>\n",
       "      <td>0</td>\n",
       "    </tr>\n",
       "    <tr>\n",
       "      <th>5021</th>\n",
       "      <td>5021</td>\n",
       "      <td>0</td>\n",
       "    </tr>\n",
       "    <tr>\n",
       "      <th>7252</th>\n",
       "      <td>7252</td>\n",
       "      <td>0</td>\n",
       "    </tr>\n",
       "    <tr>\n",
       "      <th>1287</th>\n",
       "      <td>1287</td>\n",
       "      <td>0</td>\n",
       "    </tr>\n",
       "    <tr>\n",
       "      <th>7092</th>\n",
       "      <td>7092</td>\n",
       "      <td>0</td>\n",
       "    </tr>\n",
       "    <tr>\n",
       "      <th>6099</th>\n",
       "      <td>6099</td>\n",
       "      <td>0</td>\n",
       "    </tr>\n",
       "    <tr>\n",
       "      <th>373</th>\n",
       "      <td>373</td>\n",
       "      <td>0</td>\n",
       "    </tr>\n",
       "    <tr>\n",
       "      <th>5155</th>\n",
       "      <td>5155</td>\n",
       "      <td>0</td>\n",
       "    </tr>\n",
       "    <tr>\n",
       "      <th>4154</th>\n",
       "      <td>4154</td>\n",
       "      <td>0</td>\n",
       "    </tr>\n",
       "    <tr>\n",
       "      <th>4483</th>\n",
       "      <td>4483</td>\n",
       "      <td>0</td>\n",
       "    </tr>\n",
       "    <tr>\n",
       "      <th>5852</th>\n",
       "      <td>5852</td>\n",
       "      <td>0</td>\n",
       "    </tr>\n",
       "  </tbody>\n",
       "</table>\n",
       "</div>"
      ],
      "text/plain": [
       "      idhogar  parentesco1\n",
       "331       331            0\n",
       "38         38            0\n",
       "1143     1143            0\n",
       "2027     2027            0\n",
       "230       230            0\n",
       "2807     2807            0\n",
       "1268     1268            0\n",
       "1613     1613            0\n",
       "2251     2251            0\n",
       "2068     2068            0\n",
       "645       645            0\n",
       "2241     2241            0\n",
       "1867     1867            0\n",
       "2453     2453            0\n",
       "114       114            0\n",
       "689       689            0\n",
       "6497     6497            0\n",
       "6355     6355            0\n",
       "2570     2570            0\n",
       "6970     6970            0\n",
       "5935     5935            0\n",
       "2907     2907            0\n",
       "6525     6525            0\n",
       "5021     5021            0\n",
       "7252     7252            0\n",
       "1287     1287            0\n",
       "7092     7092            0\n",
       "6099     6099            0\n",
       "373       373            0\n",
       "5155     5155            0\n",
       "4154     4154            0\n",
       "4483     4483            0\n",
       "5852     5852            0"
      ]
     },
     "execution_count": 180,
     "metadata": {},
     "output_type": "execute_result"
    }
   ],
   "source": [
    "without_house_head"
   ]
  },
  {
   "cell_type": "code",
   "execution_count": 181,
   "id": "fd2e80e1",
   "metadata": {},
   "outputs": [],
   "source": [
    "# So, there are 33 Houses without a Family Head among Train and Test Data."
   ]
  },
  {
   "cell_type": "code",
   "execution_count": null,
   "id": "fee84caa",
   "metadata": {},
   "outputs": [],
   "source": []
  },
  {
   "cell_type": "markdown",
   "id": "47fb0f58",
   "metadata": {},
   "source": [
    "#### 7) Set poverty level of the members and the head of the house within a family:"
   ]
  },
  {
   "cell_type": "code",
   "execution_count": 182,
   "id": "0505bdb1",
   "metadata": {},
   "outputs": [],
   "source": [
    "temp1 = diff_pov_level[\"idhogar\"].tolist()\n",
    "temp2 = without_house_head[\"idhogar\"].tolist()"
   ]
  },
  {
   "cell_type": "code",
   "execution_count": 183,
   "id": "d8d94768",
   "metadata": {},
   "outputs": [],
   "source": [
    "in_both_list = []\n",
    "\n",
    "for i in temp1:\n",
    "    if i in temp2:\n",
    "        in_both_list.append(i)"
   ]
  },
  {
   "cell_type": "code",
   "execution_count": 184,
   "id": "5377a3fa",
   "metadata": {},
   "outputs": [
    {
     "data": {
      "text/plain": [
       "[]"
      ]
     },
     "execution_count": 184,
     "metadata": {},
     "output_type": "execute_result"
    }
   ],
   "source": [
    "in_both_list"
   ]
  },
  {
   "cell_type": "code",
   "execution_count": 185,
   "id": "cc10c2b2",
   "metadata": {},
   "outputs": [],
   "source": [
    "# So, Families Without a Family Head have No Discrepencies in Poverty Level among Membrers.\n",
    "\n",
    "# For Families With Family Head, if Family Members have Different Poverty Levels, we will Change it to Poverty Level of\n",
    "# Family Head."
   ]
  },
  {
   "cell_type": "code",
   "execution_count": 186,
   "id": "8c318f84",
   "metadata": {},
   "outputs": [],
   "source": [
    "for id in temp1:\n",
    "    if income_train.groupby(\"idhogar\").get_group(id)[\"Target\"].var() > 0 :\n",
    "        poverty_level = income_train[(income_train[\"idhogar\"] == id) & (income_train[\"parentesco1\"] == 1)][\"Target\"]\n",
    "        income_train.loc[income_train['idhogar']== id, 'Target'] = float(poverty_level)"
   ]
  },
  {
   "cell_type": "code",
   "execution_count": 187,
   "id": "923f8d9b",
   "metadata": {},
   "outputs": [],
   "source": [
    "# Let's Check If There are Any Families Left with Povert Level Discrepency Amnong Members."
   ]
  },
  {
   "cell_type": "code",
   "execution_count": 188,
   "id": "3e43615e",
   "metadata": {},
   "outputs": [
    {
     "data": {
      "text/html": [
       "<div>\n",
       "<style scoped>\n",
       "    .dataframe tbody tr th:only-of-type {\n",
       "        vertical-align: middle;\n",
       "    }\n",
       "\n",
       "    .dataframe tbody tr th {\n",
       "        vertical-align: top;\n",
       "    }\n",
       "\n",
       "    .dataframe thead th {\n",
       "        text-align: right;\n",
       "    }\n",
       "</style>\n",
       "<table border=\"1\" class=\"dataframe\">\n",
       "  <thead>\n",
       "    <tr style=\"text-align: right;\">\n",
       "      <th></th>\n",
       "      <th>idhogar</th>\n",
       "      <th>Target</th>\n",
       "    </tr>\n",
       "  </thead>\n",
       "  <tbody>\n",
       "    <tr>\n",
       "      <th>0</th>\n",
       "      <td>0</td>\n",
       "      <td>0.0</td>\n",
       "    </tr>\n",
       "    <tr>\n",
       "      <th>1964</th>\n",
       "      <td>1964</td>\n",
       "      <td>0.0</td>\n",
       "    </tr>\n",
       "    <tr>\n",
       "      <th>1991</th>\n",
       "      <td>1991</td>\n",
       "      <td>0.0</td>\n",
       "    </tr>\n",
       "    <tr>\n",
       "      <th>1992</th>\n",
       "      <td>1992</td>\n",
       "      <td>0.0</td>\n",
       "    </tr>\n",
       "    <tr>\n",
       "      <th>1993</th>\n",
       "      <td>1993</td>\n",
       "      <td>0.0</td>\n",
       "    </tr>\n",
       "    <tr>\n",
       "      <th>...</th>\n",
       "      <td>...</td>\n",
       "      <td>...</td>\n",
       "    </tr>\n",
       "    <tr>\n",
       "      <th>2957</th>\n",
       "      <td>2957</td>\n",
       "      <td>NaN</td>\n",
       "    </tr>\n",
       "    <tr>\n",
       "      <th>2960</th>\n",
       "      <td>2960</td>\n",
       "      <td>NaN</td>\n",
       "    </tr>\n",
       "    <tr>\n",
       "      <th>2970</th>\n",
       "      <td>2970</td>\n",
       "      <td>NaN</td>\n",
       "    </tr>\n",
       "    <tr>\n",
       "      <th>2975</th>\n",
       "      <td>2975</td>\n",
       "      <td>NaN</td>\n",
       "    </tr>\n",
       "    <tr>\n",
       "      <th>2977</th>\n",
       "      <td>2977</td>\n",
       "      <td>NaN</td>\n",
       "    </tr>\n",
       "  </tbody>\n",
       "</table>\n",
       "<p>2988 rows × 2 columns</p>\n",
       "</div>"
      ],
      "text/plain": [
       "      idhogar  Target\n",
       "0           0     0.0\n",
       "1964     1964     0.0\n",
       "1991     1991     0.0\n",
       "1992     1992     0.0\n",
       "1993     1993     0.0\n",
       "...       ...     ...\n",
       "2957     2957     NaN\n",
       "2960     2960     NaN\n",
       "2970     2970     NaN\n",
       "2975     2975     NaN\n",
       "2977     2977     NaN\n",
       "\n",
       "[2988 rows x 2 columns]"
      ]
     },
     "execution_count": 188,
     "metadata": {},
     "output_type": "execute_result"
    }
   ],
   "source": [
    "income_train.groupby(\"idhogar\", as_index= False)[\"Target\"].var().sort_values(\"Target\", ascending= False)"
   ]
  },
  {
   "cell_type": "code",
   "execution_count": 189,
   "id": "4a0e9fd3",
   "metadata": {},
   "outputs": [],
   "source": [
    "# So, Discepancies in Poverty Level among Members of Same Family is Settled."
   ]
  },
  {
   "cell_type": "code",
   "execution_count": null,
   "id": "e4d6816c",
   "metadata": {},
   "outputs": [],
   "source": []
  },
  {
   "cell_type": "markdown",
   "id": "1c4f277f",
   "metadata": {},
   "source": [
    "#### 8) Count how many null values are existing in columns:"
   ]
  },
  {
   "cell_type": "code",
   "execution_count": 190,
   "id": "7ec6250c",
   "metadata": {},
   "outputs": [
    {
     "data": {
      "text/plain": [
       "22135"
      ]
     },
     "execution_count": 190,
     "metadata": {},
     "output_type": "execute_result"
    }
   ],
   "source": [
    "income_train.isnull().sum().sum()"
   ]
  },
  {
   "cell_type": "code",
   "execution_count": 191,
   "id": "202523ef",
   "metadata": {},
   "outputs": [
    {
     "data": {
      "text/plain": [
       "55213"
      ]
     },
     "execution_count": 191,
     "metadata": {},
     "output_type": "execute_result"
    }
   ],
   "source": [
    "income_test.isnull().sum().sum()"
   ]
  },
  {
   "cell_type": "markdown",
   "id": "27bf9086",
   "metadata": {},
   "source": [
    "-------------------------------------------------------------------------------------------------------------------------------"
   ]
  },
  {
   "cell_type": "code",
   "execution_count": 192,
   "id": "3e1eb756",
   "metadata": {},
   "outputs": [
    {
     "name": "stdout",
     "output_type": "stream",
     "text": [
      "v2a1 71.7798472323951\n",
      "v18q1 76.82327090091033\n",
      "rez_esc 82.95490216595167\n",
      "meaneduc 0.05231767290990897\n"
     ]
    }
   ],
   "source": [
    "for i in income_train.columns:\n",
    "    if income_train[i].isnull().sum() > 0:\n",
    "        print(i, income_train[i].isnull().sum() / len(income_train) * 100)"
   ]
  },
  {
   "cell_type": "code",
   "execution_count": 193,
   "id": "7404813f",
   "metadata": {},
   "outputs": [
    {
     "name": "stdout",
     "output_type": "stream",
     "text": [
      "v2a1 72.95020120724345\n",
      "v18q1 75.98088531187123\n",
      "rez_esc 82.3817907444668\n",
      "meaneduc 0.12994634473507713\n"
     ]
    }
   ],
   "source": [
    "for i in income_test.columns:\n",
    "    if income_test[i].isnull().sum() > 0:\n",
    "        print(i, income_test[i].isnull().sum() / len(income_test) * 100)"
   ]
  },
  {
   "cell_type": "code",
   "execution_count": 194,
   "id": "57e08484",
   "metadata": {},
   "outputs": [],
   "source": [
    "# So, Both Train and Test Data Frames have Missing Values in Same Variables.\n",
    "# Let's Examine Each of These Variables and Try to Handle Missing Values."
   ]
  },
  {
   "cell_type": "markdown",
   "id": "a8b9efa0",
   "metadata": {},
   "source": [
    "-------------------------------------------------------------------------------------------------------------------------------"
   ]
  },
  {
   "cell_type": "code",
   "execution_count": 195,
   "id": "791cf058",
   "metadata": {},
   "outputs": [],
   "source": [
    "# \"v2a1\" : Monthly rent payment"
   ]
  },
  {
   "cell_type": "code",
   "execution_count": 196,
   "id": "0bcc01f8",
   "metadata": {},
   "outputs": [],
   "source": [
    "# Monthly Rent Payment depends on Variables:\n",
    "# tipovivi1 : =1 own and fully paid house\n",
    "# tipovivi2 : =1 own, paying in installments\n",
    "# tipovivi3 : =1 rented\n",
    "# tipovivi4 : =1 precarious\n",
    "# tipovivi5 : =1 other(assigned, borrowed)\n",
    "\n",
    "# i.e. If House is Own and Fully Paid, and Monthly Rent Value is NaN, we can replace that with 0."
   ]
  },
  {
   "cell_type": "code",
   "execution_count": 197,
   "id": "36e2db43",
   "metadata": {},
   "outputs": [
    {
     "data": {
      "text/plain": [
       "tipovivi1    5911\n",
       "tipovivi2       0\n",
       "tipovivi3       0\n",
       "tipovivi4     163\n",
       "tipovivi5     786\n",
       "dtype: int64"
      ]
     },
     "execution_count": 197,
     "metadata": {},
     "output_type": "execute_result"
    }
   ],
   "source": [
    "income_train[income_train[\"v2a1\"].isnull() == True][[\"tipovivi1\", \"tipovivi2\", \"tipovivi3\", \"tipovivi4\", \"tipovivi5\"]].sum()"
   ]
  },
  {
   "cell_type": "code",
   "execution_count": 198,
   "id": "d5dd8e83",
   "metadata": {},
   "outputs": [],
   "source": [
    "# As we can See, Most of The NaN Values in \"v2a1\" belongs to the Houses that are Owned and Fully Paid.\n",
    "# For other two Variable, \"tipovivi4\" and \"tipovivi5\", we can fill Missing Values of \"v2a1\" using either Mean or Median."
   ]
  },
  {
   "cell_type": "code",
   "execution_count": 199,
   "id": "eb0b05cd",
   "metadata": {},
   "outputs": [
    {
     "data": {
      "image/png": "[encoded data removed]",
      "text/plain": [
       "<Figure size 576x432 with 1 Axes>"
      ]
     },
     "metadata": {
      "needs_background": "light"
     },
     "output_type": "display_data"
    }
   ],
   "source": [
    "plt.figure(figsize= (8,6))\n",
    "sns.histplot(income_train[\"v2a1\"])\n",
    "plt.show()"
   ]
  },
  {
   "cell_type": "code",
   "execution_count": 200,
   "id": "402bb2d5",
   "metadata": {},
   "outputs": [],
   "source": [
    "# The Distribution of \"v2a1\" is Skewed.\n",
    "# So, we will Use Median of \"v2a1\" to fill Missing Values of Category \"tipovivi4\" and \"tipovivi5\"."
   ]
  },
  {
   "cell_type": "code",
   "execution_count": 201,
   "id": "7347c581",
   "metadata": {},
   "outputs": [],
   "source": [
    "income_train.loc[(income_train[\"tipovivi1\"] ==1), \"v2a1\"] = 0\n",
    "income_train.loc[(income_train[\"tipovivi4\"] ==1), \"v2a1\"] = income_train[\"v2a1\"].median()\n",
    "income_train.loc[(income_train[\"tipovivi5\"] ==1), \"v2a1\"] = income_train[\"v2a1\"].median()"
   ]
  },
  {
   "cell_type": "code",
   "execution_count": 202,
   "id": "d9af95b9",
   "metadata": {},
   "outputs": [
    {
     "data": {
      "text/plain": [
       "0"
      ]
     },
     "execution_count": 202,
     "metadata": {},
     "output_type": "execute_result"
    }
   ],
   "source": [
    "income_train[\"v2a1\"].isnull().sum()"
   ]
  },
  {
   "cell_type": "code",
   "execution_count": null,
   "id": "0d1c5665",
   "metadata": {},
   "outputs": [],
   "source": []
  },
  {
   "cell_type": "code",
   "execution_count": 203,
   "id": "3565ea17",
   "metadata": {},
   "outputs": [],
   "source": [
    "# Doing Same Steps For Test Data"
   ]
  },
  {
   "cell_type": "code",
   "execution_count": 204,
   "id": "f159cafc",
   "metadata": {},
   "outputs": [
    {
     "data": {
      "text/plain": [
       "tipovivi1    14933\n",
       "tipovivi2        0\n",
       "tipovivi3        0\n",
       "tipovivi4      434\n",
       "tipovivi5     2036\n",
       "dtype: int64"
      ]
     },
     "execution_count": 204,
     "metadata": {},
     "output_type": "execute_result"
    }
   ],
   "source": [
    "income_test[income_test[\"v2a1\"].isnull() == True][[\"tipovivi1\", \"tipovivi2\", \"tipovivi3\", \"tipovivi4\", \"tipovivi5\"]].sum()"
   ]
  },
  {
   "cell_type": "code",
   "execution_count": 205,
   "id": "e18fd73c",
   "metadata": {},
   "outputs": [],
   "source": [
    "# As we can See, Most of The NaN Values in \"v2a1\" belongs to the Houses that are Owned and Fully Paid.\n",
    "# For other two Variable, \"tipovivi4\" and \"tipovivi5\", we can fill Missing Values of \"v2a1\" using either Mean or Median."
   ]
  },
  {
   "cell_type": "code",
   "execution_count": 206,
   "id": "7ae65bb5",
   "metadata": {},
   "outputs": [
    {
     "data": {
      "image/png": "[encoded data removed]",
      "text/plain": [
       "<Figure size 576x432 with 1 Axes>"
      ]
     },
     "metadata": {
      "needs_background": "light"
     },
     "output_type": "display_data"
    }
   ],
   "source": [
    "plt.figure(figsize= (8,6))\n",
    "sns.histplot(income_test[\"v2a1\"])\n",
    "plt.show()"
   ]
  },
  {
   "cell_type": "code",
   "execution_count": 207,
   "id": "d34abbd4",
   "metadata": {},
   "outputs": [],
   "source": [
    "# The Distribution of \"v2a1\" is Skewed.\n",
    "# So, we will Use Median of \"v2a1\" to fill Missing Values of Category \"tipovivi4\" and \"tipovivi5\"."
   ]
  },
  {
   "cell_type": "code",
   "execution_count": 208,
   "id": "380833b6",
   "metadata": {},
   "outputs": [],
   "source": [
    "income_test.loc[(income_test[\"tipovivi1\"] ==1), \"v2a1\"] = 0\n",
    "income_test.loc[(income_test[\"tipovivi4\"] ==1), \"v2a1\"] = income_test[\"v2a1\"].median()\n",
    "income_test.loc[(income_test[\"tipovivi5\"] ==1), \"v2a1\"] = income_test[\"v2a1\"].median()"
   ]
  },
  {
   "cell_type": "code",
   "execution_count": 209,
   "id": "b1e9edf2",
   "metadata": {},
   "outputs": [
    {
     "data": {
      "text/plain": [
       "0"
      ]
     },
     "execution_count": 209,
     "metadata": {},
     "output_type": "execute_result"
    }
   ],
   "source": [
    "income_test[\"v2a1\"].isnull().sum()"
   ]
  },
  {
   "cell_type": "markdown",
   "id": "b033dd8d",
   "metadata": {},
   "source": [
    "-------------------------------------------------------------------------------------------------------------------------------"
   ]
  },
  {
   "cell_type": "code",
   "execution_count": 210,
   "id": "246debd3",
   "metadata": {},
   "outputs": [],
   "source": [
    "# \"v18q1\" : number of tablets household owns"
   ]
  },
  {
   "cell_type": "code",
   "execution_count": 211,
   "id": "dfdacde8",
   "metadata": {},
   "outputs": [],
   "source": [
    "# Number of Tablets Owned Depends on Variable:\n",
    "# v18q : owns a tablet\n",
    "\n",
    "# i.e. If Family Doesn't Own a Tablet, Number Tablets can be Set to 0 instead of NaN."
   ]
  },
  {
   "cell_type": "code",
   "execution_count": 212,
   "id": "1ffa2bde",
   "metadata": {},
   "outputs": [
    {
     "data": {
      "text/plain": [
       "0"
      ]
     },
     "execution_count": 212,
     "metadata": {},
     "output_type": "execute_result"
    }
   ],
   "source": [
    "income_train[income_train[\"v18q1\"].isnull() == True][\"v18q\"].sum()"
   ]
  },
  {
   "cell_type": "code",
   "execution_count": 213,
   "id": "5989efe0",
   "metadata": {},
   "outputs": [],
   "source": [
    "# So, all the Missing Values in \"v18q1\" are for \"v18q\".\n",
    "# i.e. Number of Tablets are NaN when Family Doesn't Own a Tablet.\n",
    "# So, we can Replace all Missing Values in \"v18q1\" as 0."
   ]
  },
  {
   "cell_type": "code",
   "execution_count": 214,
   "id": "265b0436",
   "metadata": {},
   "outputs": [],
   "source": [
    "income_train[\"v18q1\"] = income_train[\"v18q1\"].fillna(0)"
   ]
  },
  {
   "cell_type": "code",
   "execution_count": 215,
   "id": "7beff6db",
   "metadata": {},
   "outputs": [
    {
     "data": {
      "text/plain": [
       "0"
      ]
     },
     "execution_count": 215,
     "metadata": {},
     "output_type": "execute_result"
    }
   ],
   "source": [
    "income_train[\"v18q1\"].isnull().sum()"
   ]
  },
  {
   "cell_type": "code",
   "execution_count": null,
   "id": "70a85de9",
   "metadata": {},
   "outputs": [],
   "source": []
  },
  {
   "cell_type": "code",
   "execution_count": 216,
   "id": "bdb735f7",
   "metadata": {},
   "outputs": [],
   "source": [
    "# Doing Same Steps for Test Data"
   ]
  },
  {
   "cell_type": "code",
   "execution_count": 217,
   "id": "239be855",
   "metadata": {},
   "outputs": [
    {
     "data": {
      "text/plain": [
       "0"
      ]
     },
     "execution_count": 217,
     "metadata": {},
     "output_type": "execute_result"
    }
   ],
   "source": [
    "income_test[income_test[\"v18q1\"].isnull() == True][\"v18q\"].sum()"
   ]
  },
  {
   "cell_type": "code",
   "execution_count": 218,
   "id": "52544187",
   "metadata": {},
   "outputs": [],
   "source": [
    "# So, all the Missing Values in \"v18q1\" are for \"v18q\".\n",
    "# i.e. Number of Tablets are NaN when Family Doesn't Own a Tablet.\n",
    "# So, we can Replace all Missing Values in \"v18q1\" as 0."
   ]
  },
  {
   "cell_type": "code",
   "execution_count": 219,
   "id": "31bdfbf7",
   "metadata": {},
   "outputs": [],
   "source": [
    "income_test[\"v18q1\"] = income_test[\"v18q1\"].fillna(0)"
   ]
  },
  {
   "cell_type": "code",
   "execution_count": 220,
   "id": "ba853d2d",
   "metadata": {},
   "outputs": [
    {
     "data": {
      "text/plain": [
       "0"
      ]
     },
     "execution_count": 220,
     "metadata": {},
     "output_type": "execute_result"
    }
   ],
   "source": [
    "income_test[\"v18q1\"].isnull().sum()"
   ]
  },
  {
   "cell_type": "markdown",
   "id": "c6049fb6",
   "metadata": {},
   "source": [
    "-------------------------------------------------------------------------------------------------------------------------------"
   ]
  },
  {
   "cell_type": "code",
   "execution_count": 221,
   "id": "4ec493a5",
   "metadata": {},
   "outputs": [],
   "source": [
    "# \"rez_esc\" : Years behind in school"
   ]
  },
  {
   "cell_type": "code",
   "execution_count": 222,
   "id": "dd8ec052",
   "metadata": {},
   "outputs": [],
   "source": [
    "# Years behind in school can be realted to the Variable:\n",
    "# instlevel1 = 1 no level of education\n",
    "# Age\n",
    "\n",
    "# i.e. if Value of \"rez_esc\" is NaN for \"instlevel1\" = 1, we can fill it with 0.\n",
    "# if Age<5 or Age>19, we can fill \"rez_esc\" with 0."
   ]
  },
  {
   "cell_type": "code",
   "execution_count": 223,
   "id": "7a33a523",
   "metadata": {},
   "outputs": [
    {
     "data": {
      "text/plain": [
       "7928"
      ]
     },
     "execution_count": 223,
     "metadata": {},
     "output_type": "execute_result"
    }
   ],
   "source": [
    "income_train[\"rez_esc\"].isnull().sum()"
   ]
  },
  {
   "cell_type": "code",
   "execution_count": 224,
   "id": "d062c2a6",
   "metadata": {},
   "outputs": [
    {
     "data": {
      "text/plain": [
       "1183"
      ]
     },
     "execution_count": 224,
     "metadata": {},
     "output_type": "execute_result"
    }
   ],
   "source": [
    "income_train[income_train[\"rez_esc\"].isnull() == True][\"instlevel1\"].sum()"
   ]
  },
  {
   "cell_type": "code",
   "execution_count": 225,
   "id": "959d57a4",
   "metadata": {},
   "outputs": [],
   "source": [
    "# 1183 records have NaN for Years Behind in School when They have No level of Education."
   ]
  },
  {
   "cell_type": "code",
   "execution_count": 226,
   "id": "b8a3663d",
   "metadata": {},
   "outputs": [],
   "source": [
    "income_train.loc[(income_train[\"instlevel1\"] == 1), \"rez_esc\"] = 0"
   ]
  },
  {
   "cell_type": "code",
   "execution_count": 227,
   "id": "0a06e808",
   "metadata": {},
   "outputs": [],
   "source": [
    "income_train.loc[(income_train[\"rez_esc\"].isnull() == True) & ((income_train[\"age\"] < 7) | (income_train[\"age\"] > 19)),\n",
    "                 \"rez_esc\"] = 0"
   ]
  },
  {
   "cell_type": "code",
   "execution_count": 228,
   "id": "e1dd59bd",
   "metadata": {},
   "outputs": [
    {
     "data": {
      "text/plain": [
       "346"
      ]
     },
     "execution_count": 228,
     "metadata": {},
     "output_type": "execute_result"
    }
   ],
   "source": [
    "income_train[\"rez_esc\"].isnull().sum()"
   ]
  },
  {
   "cell_type": "code",
   "execution_count": 229,
   "id": "7d857bd5",
   "metadata": {},
   "outputs": [],
   "source": [
    "# Filling this Missing Values with Mean of \"rez_esc\""
   ]
  },
  {
   "cell_type": "code",
   "execution_count": 230,
   "id": "a42922e2",
   "metadata": {},
   "outputs": [],
   "source": [
    "income_train[\"rez_esc\"] = income_train[\"rez_esc\"].fillna(income_train[\"rez_esc\"].mean())"
   ]
  },
  {
   "cell_type": "code",
   "execution_count": 231,
   "id": "d19a76b9",
   "metadata": {},
   "outputs": [
    {
     "data": {
      "text/plain": [
       "0"
      ]
     },
     "execution_count": 231,
     "metadata": {},
     "output_type": "execute_result"
    }
   ],
   "source": [
    "income_train[\"rez_esc\"].isnull().sum()"
   ]
  },
  {
   "cell_type": "code",
   "execution_count": null,
   "id": "b4576dde",
   "metadata": {},
   "outputs": [],
   "source": []
  },
  {
   "cell_type": "code",
   "execution_count": 232,
   "id": "a8c600a6",
   "metadata": {},
   "outputs": [],
   "source": [
    "# Doing Same Steps for Test Data"
   ]
  },
  {
   "cell_type": "code",
   "execution_count": 233,
   "id": "7997580f",
   "metadata": {},
   "outputs": [
    {
     "data": {
      "text/plain": [
       "19653"
      ]
     },
     "execution_count": 233,
     "metadata": {},
     "output_type": "execute_result"
    }
   ],
   "source": [
    "income_test[\"rez_esc\"].isnull().sum()"
   ]
  },
  {
   "cell_type": "code",
   "execution_count": 234,
   "id": "b61b85f0",
   "metadata": {},
   "outputs": [
    {
     "data": {
      "text/plain": [
       "2863"
      ]
     },
     "execution_count": 234,
     "metadata": {},
     "output_type": "execute_result"
    }
   ],
   "source": [
    "income_test[income_test[\"rez_esc\"].isnull() == True][\"instlevel1\"].sum()"
   ]
  },
  {
   "cell_type": "code",
   "execution_count": 235,
   "id": "b1a535c1",
   "metadata": {},
   "outputs": [],
   "source": [
    "# 2863 records have NaN for Years Behind in School when They have No level of Education."
   ]
  },
  {
   "cell_type": "code",
   "execution_count": 236,
   "id": "925be8ec",
   "metadata": {},
   "outputs": [],
   "source": [
    "income_test.loc[(income_test[\"instlevel1\"] == 1), \"rez_esc\"] = 0"
   ]
  },
  {
   "cell_type": "code",
   "execution_count": 237,
   "id": "6b3dc3fe",
   "metadata": {},
   "outputs": [],
   "source": [
    "income_test.loc[(income_test[\"rez_esc\"].isnull() == True) & ((income_test[\"age\"] < 7) | (income_test[\"age\"] > 19)),\n",
    "                 \"rez_esc\"] = 0"
   ]
  },
  {
   "cell_type": "code",
   "execution_count": 238,
   "id": "43f5e081",
   "metadata": {},
   "outputs": [
    {
     "data": {
      "text/plain": [
       "802"
      ]
     },
     "execution_count": 238,
     "metadata": {},
     "output_type": "execute_result"
    }
   ],
   "source": [
    "income_test[\"rez_esc\"].isnull().sum()"
   ]
  },
  {
   "cell_type": "code",
   "execution_count": 239,
   "id": "6d926c70",
   "metadata": {},
   "outputs": [],
   "source": [
    "# Filling this Missing Values with Mean of \"rez_esc\""
   ]
  },
  {
   "cell_type": "code",
   "execution_count": 240,
   "id": "d12e1c4d",
   "metadata": {},
   "outputs": [],
   "source": [
    "income_test[\"rez_esc\"] = income_test[\"rez_esc\"].fillna(income_test[\"rez_esc\"].mean())"
   ]
  },
  {
   "cell_type": "code",
   "execution_count": 241,
   "id": "53495dec",
   "metadata": {},
   "outputs": [
    {
     "data": {
      "text/plain": [
       "0"
      ]
     },
     "execution_count": 241,
     "metadata": {},
     "output_type": "execute_result"
    }
   ],
   "source": [
    "income_test[\"rez_esc\"].isnull().sum()"
   ]
  },
  {
   "cell_type": "markdown",
   "id": "f323ebaf",
   "metadata": {},
   "source": [
    "-------------------------------------------------------------------------------------------------------------------------------"
   ]
  },
  {
   "cell_type": "code",
   "execution_count": 242,
   "id": "97a62bd8",
   "metadata": {},
   "outputs": [],
   "source": [
    "# meaneduc : average years of education for adults (18+)"
   ]
  },
  {
   "cell_type": "code",
   "execution_count": 243,
   "id": "54954e70",
   "metadata": {},
   "outputs": [],
   "source": [
    "# As there are Only 5% Values are Missing here, we can fill them with Mean or Median of Variable."
   ]
  },
  {
   "cell_type": "code",
   "execution_count": 244,
   "id": "2fd61a5b",
   "metadata": {},
   "outputs": [
    {
     "data": {
      "image/png": "[encoded data removed]",
      "text/plain": [
       "<Figure size 576x432 with 1 Axes>"
      ]
     },
     "metadata": {
      "needs_background": "light"
     },
     "output_type": "display_data"
    }
   ],
   "source": [
    "plt.figure(figsize= (8,6))\n",
    "sns.histplot(income_train[\"meaneduc\"])\n",
    "plt.show()"
   ]
  },
  {
   "cell_type": "code",
   "execution_count": 245,
   "id": "a43e4480",
   "metadata": {},
   "outputs": [
    {
     "data": {
      "text/plain": [
       "count    9552.000000\n",
       "mean        9.231523\n",
       "std         4.167694\n",
       "min         0.000000\n",
       "25%         6.000000\n",
       "50%         9.000000\n",
       "75%        11.600000\n",
       "max        37.000000\n",
       "Name: meaneduc, dtype: float64"
      ]
     },
     "execution_count": 245,
     "metadata": {},
     "output_type": "execute_result"
    }
   ],
   "source": [
    "income_train[\"meaneduc\"].describe()"
   ]
  },
  {
   "cell_type": "code",
   "execution_count": 246,
   "id": "7e265803",
   "metadata": {},
   "outputs": [],
   "source": [
    "# As Distribution is Mostly Normal except some Outliers, We will fill Missing Values with Mean."
   ]
  },
  {
   "cell_type": "code",
   "execution_count": 247,
   "id": "d3ed7519",
   "metadata": {},
   "outputs": [],
   "source": [
    "income_train[\"meaneduc\"] = income_train[\"meaneduc\"].fillna(income_train[\"meaneduc\"].mean())"
   ]
  },
  {
   "cell_type": "code",
   "execution_count": null,
   "id": "746255b9",
   "metadata": {},
   "outputs": [],
   "source": []
  },
  {
   "cell_type": "code",
   "execution_count": 248,
   "id": "7c8f8a4a",
   "metadata": {},
   "outputs": [],
   "source": [
    "# Doing Same Steps for Test Data"
   ]
  },
  {
   "cell_type": "code",
   "execution_count": 249,
   "id": "a0c1f3b5",
   "metadata": {},
   "outputs": [
    {
     "data": {
      "image/png": "[encoded data removed]",
      "text/plain": [
       "<Figure size 576x432 with 1 Axes>"
      ]
     },
     "metadata": {
      "needs_background": "light"
     },
     "output_type": "display_data"
    }
   ],
   "source": [
    "plt.figure(figsize= (8,6))\n",
    "sns.histplot(income_test[\"meaneduc\"])\n",
    "plt.show()"
   ]
  },
  {
   "cell_type": "code",
   "execution_count": 250,
   "id": "5fabddf5",
   "metadata": {},
   "outputs": [
    {
     "data": {
      "text/plain": [
       "count    23825.000000\n",
       "mean         9.157474\n",
       "std          4.080513\n",
       "min          0.000000\n",
       "25%          6.000000\n",
       "50%          8.666667\n",
       "75%         11.500000\n",
       "max         36.000000\n",
       "Name: meaneduc, dtype: float64"
      ]
     },
     "execution_count": 250,
     "metadata": {},
     "output_type": "execute_result"
    }
   ],
   "source": [
    "income_test[\"meaneduc\"].describe()"
   ]
  },
  {
   "cell_type": "code",
   "execution_count": 251,
   "id": "12e07332",
   "metadata": {},
   "outputs": [],
   "source": [
    "# As Distribution is Mostly Normal except some Outliers, We will fill Missing Values with Mean."
   ]
  },
  {
   "cell_type": "code",
   "execution_count": 252,
   "id": "7a6711fe",
   "metadata": {},
   "outputs": [],
   "source": [
    "income_test[\"meaneduc\"] = income_test[\"meaneduc\"].fillna(income_test[\"meaneduc\"].mean())"
   ]
  },
  {
   "cell_type": "code",
   "execution_count": 253,
   "id": "1e185b07",
   "metadata": {},
   "outputs": [
    {
     "data": {
      "text/plain": [
       "0"
      ]
     },
     "execution_count": 253,
     "metadata": {},
     "output_type": "execute_result"
    }
   ],
   "source": [
    "income_train[\"meaneduc\"].isna().sum()"
   ]
  },
  {
   "cell_type": "code",
   "execution_count": 254,
   "id": "8522f521",
   "metadata": {},
   "outputs": [
    {
     "data": {
      "text/plain": [
       "0"
      ]
     },
     "execution_count": 254,
     "metadata": {},
     "output_type": "execute_result"
    }
   ],
   "source": [
    "income_test[\"meaneduc\"].isna().sum()"
   ]
  },
  {
   "cell_type": "code",
   "execution_count": null,
   "id": "eba2e268",
   "metadata": {},
   "outputs": [],
   "source": []
  },
  {
   "cell_type": "markdown",
   "id": "52135edf",
   "metadata": {},
   "source": [
    "#### 9) Remove null value rows of the target variable:"
   ]
  },
  {
   "cell_type": "code",
   "execution_count": 255,
   "id": "8878776e",
   "metadata": {},
   "outputs": [
    {
     "data": {
      "text/plain": [
       "0"
      ]
     },
     "execution_count": 255,
     "metadata": {},
     "output_type": "execute_result"
    }
   ],
   "source": [
    "income_train[\"Target\"].isnull().sum()"
   ]
  },
  {
   "cell_type": "code",
   "execution_count": 256,
   "id": "202a5a11",
   "metadata": {},
   "outputs": [],
   "source": [
    "# No Null Values in Target Variable."
   ]
  },
  {
   "cell_type": "code",
   "execution_count": null,
   "id": "7783ef36",
   "metadata": {},
   "outputs": [],
   "source": []
  },
  {
   "cell_type": "markdown",
   "id": "fbbdfb55",
   "metadata": {},
   "source": [
    "#### 10) Train Test Split:"
   ]
  },
  {
   "cell_type": "code",
   "execution_count": 257,
   "id": "4464b6cc",
   "metadata": {},
   "outputs": [
    {
     "data": {
      "text/plain": [
       "(9557, 109)"
      ]
     },
     "execution_count": 257,
     "metadata": {},
     "output_type": "execute_result"
    }
   ],
   "source": [
    "income_train.shape"
   ]
  },
  {
   "cell_type": "code",
   "execution_count": 258,
   "id": "7e812376",
   "metadata": {},
   "outputs": [],
   "source": [
    "# Features:\n",
    "\n",
    "x= income_train.drop(\"Target\", axis= 1)"
   ]
  },
  {
   "cell_type": "code",
   "execution_count": 259,
   "id": "cf3fb1cd",
   "metadata": {},
   "outputs": [],
   "source": [
    "# Target:\n",
    "\n",
    "y= income_train[\"Target\"]"
   ]
  },
  {
   "cell_type": "code",
   "execution_count": null,
   "id": "aed1e9e3",
   "metadata": {},
   "outputs": [],
   "source": []
  },
  {
   "cell_type": "code",
   "execution_count": 260,
   "id": "33ab76d0",
   "metadata": {},
   "outputs": [],
   "source": [
    "x_train, x_test, y_train, y_test = train_test_split(x, y, test_size= 0.2, random_state= 42)"
   ]
  },
  {
   "cell_type": "code",
   "execution_count": 261,
   "id": "807e12de",
   "metadata": {},
   "outputs": [
    {
     "name": "stdout",
     "output_type": "stream",
     "text": [
      "(7645, 108)\n",
      "(1912, 108)\n",
      "(7645,)\n",
      "(1912,)\n"
     ]
    }
   ],
   "source": [
    "print(x_train.shape)\n",
    "print(x_test.shape)\n",
    "print(y_train.shape)\n",
    "print(y_test.shape)"
   ]
  },
  {
   "cell_type": "code",
   "execution_count": null,
   "id": "eb712be7",
   "metadata": {},
   "outputs": [],
   "source": []
  },
  {
   "cell_type": "markdown",
   "id": "31b42412",
   "metadata": {},
   "source": [
    "#### 11) Scalling:"
   ]
  },
  {
   "cell_type": "code",
   "execution_count": 262,
   "id": "64143ed4",
   "metadata": {},
   "outputs": [],
   "source": [
    "# We have to Scale Both Train and Test Data, as Test Data Needs to be in Same Format as Train Data that was Used to Build\n",
    "# The Model."
   ]
  },
  {
   "cell_type": "code",
   "execution_count": 263,
   "id": "ac52c894",
   "metadata": {},
   "outputs": [],
   "source": [
    "sc = StandardScaler()"
   ]
  },
  {
   "cell_type": "code",
   "execution_count": null,
   "id": "be1ea5a9",
   "metadata": {},
   "outputs": [],
   "source": []
  },
  {
   "cell_type": "code",
   "execution_count": 264,
   "id": "226e85ed",
   "metadata": {},
   "outputs": [],
   "source": [
    "# Scalling Train Data (x_train, x_test):"
   ]
  },
  {
   "cell_type": "code",
   "execution_count": 265,
   "id": "43a98ce2",
   "metadata": {},
   "outputs": [],
   "source": [
    "temp = sc.fit_transform(x_train)"
   ]
  },
  {
   "cell_type": "code",
   "execution_count": 266,
   "id": "b403ffaf",
   "metadata": {},
   "outputs": [
    {
     "data": {
      "text/html": [
       "<div>\n",
       "<style scoped>\n",
       "    .dataframe tbody tr th:only-of-type {\n",
       "        vertical-align: middle;\n",
       "    }\n",
       "\n",
       "    .dataframe tbody tr th {\n",
       "        vertical-align: top;\n",
       "    }\n",
       "\n",
       "    .dataframe thead th {\n",
       "        text-align: right;\n",
       "    }\n",
       "</style>\n",
       "<table border=\"1\" class=\"dataframe\">\n",
       "  <thead>\n",
       "    <tr style=\"text-align: right;\">\n",
       "      <th></th>\n",
       "      <th>v2a1</th>\n",
       "      <th>hacdor</th>\n",
       "      <th>rooms</th>\n",
       "      <th>hacapo</th>\n",
       "      <th>v14a</th>\n",
       "      <th>refrig</th>\n",
       "      <th>v18q</th>\n",
       "      <th>v18q1</th>\n",
       "      <th>r4h1</th>\n",
       "      <th>r4h2</th>\n",
       "      <th>...</th>\n",
       "      <th>mobilephone</th>\n",
       "      <th>qmobilephone</th>\n",
       "      <th>lugar1</th>\n",
       "      <th>lugar2</th>\n",
       "      <th>lugar3</th>\n",
       "      <th>lugar4</th>\n",
       "      <th>lugar5</th>\n",
       "      <th>lugar6</th>\n",
       "      <th>area1</th>\n",
       "      <th>age</th>\n",
       "    </tr>\n",
       "    <tr>\n",
       "      <th>Id</th>\n",
       "      <th></th>\n",
       "      <th></th>\n",
       "      <th></th>\n",
       "      <th></th>\n",
       "      <th></th>\n",
       "      <th></th>\n",
       "      <th></th>\n",
       "      <th></th>\n",
       "      <th></th>\n",
       "      <th></th>\n",
       "      <th></th>\n",
       "      <th></th>\n",
       "      <th></th>\n",
       "      <th></th>\n",
       "      <th></th>\n",
       "      <th></th>\n",
       "      <th></th>\n",
       "      <th></th>\n",
       "      <th></th>\n",
       "      <th></th>\n",
       "      <th></th>\n",
       "    </tr>\n",
       "  </thead>\n",
       "  <tbody>\n",
       "    <tr>\n",
       "      <th>ID_cf18611af</th>\n",
       "      <td>-0.436006</td>\n",
       "      <td>-0.201397</td>\n",
       "      <td>-0.654642</td>\n",
       "      <td>-0.15878</td>\n",
       "      <td>0.072524</td>\n",
       "      <td>0.210372</td>\n",
       "      <td>-0.544245</td>\n",
       "      <td>-0.461845</td>\n",
       "      <td>-0.571774</td>\n",
       "      <td>-1.505326</td>\n",
       "      <td>...</td>\n",
       "      <td>0.15704</td>\n",
       "      <td>0.113060</td>\n",
       "      <td>-1.191667</td>\n",
       "      <td>-0.317727</td>\n",
       "      <td>-0.257387</td>\n",
       "      <td>-0.301232</td>\n",
       "      <td>-0.322693</td>\n",
       "      <td>3.348501</td>\n",
       "      <td>0.636250</td>\n",
       "      <td>-0.802546</td>\n",
       "    </tr>\n",
       "    <tr>\n",
       "      <th>ID_759fc51f0</th>\n",
       "      <td>1.972360</td>\n",
       "      <td>-0.201397</td>\n",
       "      <td>-0.654642</td>\n",
       "      <td>-0.15878</td>\n",
       "      <td>0.072524</td>\n",
       "      <td>0.210372</td>\n",
       "      <td>-0.544245</td>\n",
       "      <td>-0.461845</td>\n",
       "      <td>-0.571774</td>\n",
       "      <td>-0.543020</td>\n",
       "      <td>...</td>\n",
       "      <td>0.15704</td>\n",
       "      <td>-0.562210</td>\n",
       "      <td>0.839161</td>\n",
       "      <td>-0.317727</td>\n",
       "      <td>-0.257387</td>\n",
       "      <td>-0.301232</td>\n",
       "      <td>-0.322693</td>\n",
       "      <td>-0.298641</td>\n",
       "      <td>0.636250</td>\n",
       "      <td>-0.201338</td>\n",
       "    </tr>\n",
       "    <tr>\n",
       "      <th>ID_77e2d94b3</th>\n",
       "      <td>-0.436006</td>\n",
       "      <td>-0.201397</td>\n",
       "      <td>0.026090</td>\n",
       "      <td>-0.15878</td>\n",
       "      <td>0.072524</td>\n",
       "      <td>0.210372</td>\n",
       "      <td>1.837409</td>\n",
       "      <td>0.974025</td>\n",
       "      <td>-0.571774</td>\n",
       "      <td>0.419286</td>\n",
       "      <td>...</td>\n",
       "      <td>0.15704</td>\n",
       "      <td>0.788331</td>\n",
       "      <td>0.839161</td>\n",
       "      <td>-0.317727</td>\n",
       "      <td>-0.257387</td>\n",
       "      <td>-0.301232</td>\n",
       "      <td>-0.322693</td>\n",
       "      <td>-0.298641</td>\n",
       "      <td>0.636250</td>\n",
       "      <td>-0.663806</td>\n",
       "    </tr>\n",
       "    <tr>\n",
       "      <th>ID_d83a6bf88</th>\n",
       "      <td>0.912679</td>\n",
       "      <td>-0.201397</td>\n",
       "      <td>-0.654642</td>\n",
       "      <td>-0.15878</td>\n",
       "      <td>0.072524</td>\n",
       "      <td>0.210372</td>\n",
       "      <td>-0.544245</td>\n",
       "      <td>-0.461845</td>\n",
       "      <td>0.885782</td>\n",
       "      <td>-0.543020</td>\n",
       "      <td>...</td>\n",
       "      <td>0.15704</td>\n",
       "      <td>0.113060</td>\n",
       "      <td>0.839161</td>\n",
       "      <td>-0.317727</td>\n",
       "      <td>-0.257387</td>\n",
       "      <td>-0.301232</td>\n",
       "      <td>-0.322693</td>\n",
       "      <td>-0.298641</td>\n",
       "      <td>0.636250</td>\n",
       "      <td>0.076142</td>\n",
       "    </tr>\n",
       "    <tr>\n",
       "      <th>ID_e6548451e</th>\n",
       "      <td>1.134249</td>\n",
       "      <td>-0.201397</td>\n",
       "      <td>0.706821</td>\n",
       "      <td>-0.15878</td>\n",
       "      <td>0.072524</td>\n",
       "      <td>0.210372</td>\n",
       "      <td>-0.544245</td>\n",
       "      <td>-0.461845</td>\n",
       "      <td>-0.571774</td>\n",
       "      <td>1.381592</td>\n",
       "      <td>...</td>\n",
       "      <td>0.15704</td>\n",
       "      <td>0.788331</td>\n",
       "      <td>-1.191667</td>\n",
       "      <td>-0.317727</td>\n",
       "      <td>-0.257387</td>\n",
       "      <td>-0.301232</td>\n",
       "      <td>-0.322693</td>\n",
       "      <td>3.348501</td>\n",
       "      <td>-1.571709</td>\n",
       "      <td>-0.432572</td>\n",
       "    </tr>\n",
       "  </tbody>\n",
       "</table>\n",
       "<p>5 rows × 108 columns</p>\n",
       "</div>"
      ],
      "text/plain": [
       "                  v2a1    hacdor     rooms   hacapo      v14a    refrig  \\\n",
       "Id                                                                        \n",
       "ID_cf18611af -0.436006 -0.201397 -0.654642 -0.15878  0.072524  0.210372   \n",
       "ID_759fc51f0  1.972360 -0.201397 -0.654642 -0.15878  0.072524  0.210372   \n",
       "ID_77e2d94b3 -0.436006 -0.201397  0.026090 -0.15878  0.072524  0.210372   \n",
       "ID_d83a6bf88  0.912679 -0.201397 -0.654642 -0.15878  0.072524  0.210372   \n",
       "ID_e6548451e  1.134249 -0.201397  0.706821 -0.15878  0.072524  0.210372   \n",
       "\n",
       "                  v18q     v18q1      r4h1      r4h2  ...  mobilephone  \\\n",
       "Id                                                    ...                \n",
       "ID_cf18611af -0.544245 -0.461845 -0.571774 -1.505326  ...      0.15704   \n",
       "ID_759fc51f0 -0.544245 -0.461845 -0.571774 -0.543020  ...      0.15704   \n",
       "ID_77e2d94b3  1.837409  0.974025 -0.571774  0.419286  ...      0.15704   \n",
       "ID_d83a6bf88 -0.544245 -0.461845  0.885782 -0.543020  ...      0.15704   \n",
       "ID_e6548451e -0.544245 -0.461845 -0.571774  1.381592  ...      0.15704   \n",
       "\n",
       "              qmobilephone    lugar1    lugar2    lugar3    lugar4    lugar5  \\\n",
       "Id                                                                             \n",
       "ID_cf18611af      0.113060 -1.191667 -0.317727 -0.257387 -0.301232 -0.322693   \n",
       "ID_759fc51f0     -0.562210  0.839161 -0.317727 -0.257387 -0.301232 -0.322693   \n",
       "ID_77e2d94b3      0.788331  0.839161 -0.317727 -0.257387 -0.301232 -0.322693   \n",
       "ID_d83a6bf88      0.113060  0.839161 -0.317727 -0.257387 -0.301232 -0.322693   \n",
       "ID_e6548451e      0.788331 -1.191667 -0.317727 -0.257387 -0.301232 -0.322693   \n",
       "\n",
       "                lugar6     area1       age  \n",
       "Id                                          \n",
       "ID_cf18611af  3.348501  0.636250 -0.802546  \n",
       "ID_759fc51f0 -0.298641  0.636250 -0.201338  \n",
       "ID_77e2d94b3 -0.298641  0.636250 -0.663806  \n",
       "ID_d83a6bf88 -0.298641  0.636250  0.076142  \n",
       "ID_e6548451e  3.348501 -1.571709 -0.432572  \n",
       "\n",
       "[5 rows x 108 columns]"
      ]
     },
     "execution_count": 266,
     "metadata": {},
     "output_type": "execute_result"
    }
   ],
   "source": [
    "x_train = pd.DataFrame(temp, index= x_train.index, columns= x_train.columns)\n",
    "x_train.head()"
   ]
  },
  {
   "cell_type": "code",
   "execution_count": null,
   "id": "f581a68e",
   "metadata": {},
   "outputs": [],
   "source": []
  },
  {
   "cell_type": "code",
   "execution_count": 267,
   "id": "8f9fb5d5",
   "metadata": {},
   "outputs": [
    {
     "data": {
      "text/html": [
       "<div>\n",
       "<style scoped>\n",
       "    .dataframe tbody tr th:only-of-type {\n",
       "        vertical-align: middle;\n",
       "    }\n",
       "\n",
       "    .dataframe tbody tr th {\n",
       "        vertical-align: top;\n",
       "    }\n",
       "\n",
       "    .dataframe thead th {\n",
       "        text-align: right;\n",
       "    }\n",
       "</style>\n",
       "<table border=\"1\" class=\"dataframe\">\n",
       "  <thead>\n",
       "    <tr style=\"text-align: right;\">\n",
       "      <th></th>\n",
       "      <th>v2a1</th>\n",
       "      <th>hacdor</th>\n",
       "      <th>rooms</th>\n",
       "      <th>hacapo</th>\n",
       "      <th>v14a</th>\n",
       "      <th>refrig</th>\n",
       "      <th>v18q</th>\n",
       "      <th>v18q1</th>\n",
       "      <th>r4h1</th>\n",
       "      <th>r4h2</th>\n",
       "      <th>...</th>\n",
       "      <th>mobilephone</th>\n",
       "      <th>qmobilephone</th>\n",
       "      <th>lugar1</th>\n",
       "      <th>lugar2</th>\n",
       "      <th>lugar3</th>\n",
       "      <th>lugar4</th>\n",
       "      <th>lugar5</th>\n",
       "      <th>lugar6</th>\n",
       "      <th>area1</th>\n",
       "      <th>age</th>\n",
       "    </tr>\n",
       "    <tr>\n",
       "      <th>Id</th>\n",
       "      <th></th>\n",
       "      <th></th>\n",
       "      <th></th>\n",
       "      <th></th>\n",
       "      <th></th>\n",
       "      <th></th>\n",
       "      <th></th>\n",
       "      <th></th>\n",
       "      <th></th>\n",
       "      <th></th>\n",
       "      <th></th>\n",
       "      <th></th>\n",
       "      <th></th>\n",
       "      <th></th>\n",
       "      <th></th>\n",
       "      <th></th>\n",
       "      <th></th>\n",
       "      <th></th>\n",
       "      <th></th>\n",
       "      <th></th>\n",
       "      <th></th>\n",
       "    </tr>\n",
       "  </thead>\n",
       "  <tbody>\n",
       "    <tr>\n",
       "      <th>ID_17e173eb0</th>\n",
       "      <td>-0.436006</td>\n",
       "      <td>-0.201397</td>\n",
       "      <td>-0.654642</td>\n",
       "      <td>-0.15878</td>\n",
       "      <td>0.072524</td>\n",
       "      <td>0.210372</td>\n",
       "      <td>-0.544245</td>\n",
       "      <td>-0.461845</td>\n",
       "      <td>-0.571774</td>\n",
       "      <td>-1.505326</td>\n",
       "      <td>...</td>\n",
       "      <td>0.15704</td>\n",
       "      <td>-1.237481</td>\n",
       "      <td>-1.191667</td>\n",
       "      <td>-0.317727</td>\n",
       "      <td>-0.257387</td>\n",
       "      <td>-0.301232</td>\n",
       "      <td>3.098924</td>\n",
       "      <td>-0.298641</td>\n",
       "      <td>-1.571709</td>\n",
       "      <td>1.186065</td>\n",
       "    </tr>\n",
       "    <tr>\n",
       "      <th>ID_38b872bd6</th>\n",
       "      <td>-0.436006</td>\n",
       "      <td>-0.201397</td>\n",
       "      <td>-0.654642</td>\n",
       "      <td>-0.15878</td>\n",
       "      <td>0.072524</td>\n",
       "      <td>0.210372</td>\n",
       "      <td>-0.544245</td>\n",
       "      <td>-0.461845</td>\n",
       "      <td>-0.571774</td>\n",
       "      <td>0.419286</td>\n",
       "      <td>...</td>\n",
       "      <td>0.15704</td>\n",
       "      <td>-0.562210</td>\n",
       "      <td>-1.191667</td>\n",
       "      <td>-0.317727</td>\n",
       "      <td>-0.257387</td>\n",
       "      <td>3.319705</td>\n",
       "      <td>-0.322693</td>\n",
       "      <td>-0.298641</td>\n",
       "      <td>-1.571709</td>\n",
       "      <td>-0.571313</td>\n",
       "    </tr>\n",
       "    <tr>\n",
       "      <th>ID_39fd34f13</th>\n",
       "      <td>-0.436006</td>\n",
       "      <td>-0.201397</td>\n",
       "      <td>-0.654642</td>\n",
       "      <td>-0.15878</td>\n",
       "      <td>0.072524</td>\n",
       "      <td>0.210372</td>\n",
       "      <td>-0.544245</td>\n",
       "      <td>-0.461845</td>\n",
       "      <td>0.885782</td>\n",
       "      <td>0.419286</td>\n",
       "      <td>...</td>\n",
       "      <td>0.15704</td>\n",
       "      <td>-1.237481</td>\n",
       "      <td>-1.191667</td>\n",
       "      <td>-0.317727</td>\n",
       "      <td>-0.257387</td>\n",
       "      <td>-0.301232</td>\n",
       "      <td>-0.322693</td>\n",
       "      <td>3.348501</td>\n",
       "      <td>-1.571709</td>\n",
       "      <td>-1.172521</td>\n",
       "    </tr>\n",
       "    <tr>\n",
       "      <th>ID_90edd74c3</th>\n",
       "      <td>-0.436006</td>\n",
       "      <td>-0.201397</td>\n",
       "      <td>0.026090</td>\n",
       "      <td>-0.15878</td>\n",
       "      <td>0.072524</td>\n",
       "      <td>0.210372</td>\n",
       "      <td>-0.544245</td>\n",
       "      <td>-0.461845</td>\n",
       "      <td>0.885782</td>\n",
       "      <td>-0.543020</td>\n",
       "      <td>...</td>\n",
       "      <td>0.15704</td>\n",
       "      <td>-0.562210</td>\n",
       "      <td>-1.191667</td>\n",
       "      <td>-0.317727</td>\n",
       "      <td>-0.257387</td>\n",
       "      <td>-0.301232</td>\n",
       "      <td>3.098924</td>\n",
       "      <td>-0.298641</td>\n",
       "      <td>-1.571709</td>\n",
       "      <td>0.446117</td>\n",
       "    </tr>\n",
       "    <tr>\n",
       "      <th>ID_c35a5a413</th>\n",
       "      <td>-0.436006</td>\n",
       "      <td>-0.201397</td>\n",
       "      <td>0.026090</td>\n",
       "      <td>-0.15878</td>\n",
       "      <td>0.072524</td>\n",
       "      <td>0.210372</td>\n",
       "      <td>-0.544245</td>\n",
       "      <td>-0.461845</td>\n",
       "      <td>0.885782</td>\n",
       "      <td>-0.543020</td>\n",
       "      <td>...</td>\n",
       "      <td>0.15704</td>\n",
       "      <td>-0.562210</td>\n",
       "      <td>-1.191667</td>\n",
       "      <td>-0.317727</td>\n",
       "      <td>-0.257387</td>\n",
       "      <td>3.319705</td>\n",
       "      <td>-0.322693</td>\n",
       "      <td>-0.298641</td>\n",
       "      <td>-1.571709</td>\n",
       "      <td>-1.126274</td>\n",
       "    </tr>\n",
       "  </tbody>\n",
       "</table>\n",
       "<p>5 rows × 108 columns</p>\n",
       "</div>"
      ],
      "text/plain": [
       "                  v2a1    hacdor     rooms   hacapo      v14a    refrig  \\\n",
       "Id                                                                        \n",
       "ID_17e173eb0 -0.436006 -0.201397 -0.654642 -0.15878  0.072524  0.210372   \n",
       "ID_38b872bd6 -0.436006 -0.201397 -0.654642 -0.15878  0.072524  0.210372   \n",
       "ID_39fd34f13 -0.436006 -0.201397 -0.654642 -0.15878  0.072524  0.210372   \n",
       "ID_90edd74c3 -0.436006 -0.201397  0.026090 -0.15878  0.072524  0.210372   \n",
       "ID_c35a5a413 -0.436006 -0.201397  0.026090 -0.15878  0.072524  0.210372   \n",
       "\n",
       "                  v18q     v18q1      r4h1      r4h2  ...  mobilephone  \\\n",
       "Id                                                    ...                \n",
       "ID_17e173eb0 -0.544245 -0.461845 -0.571774 -1.505326  ...      0.15704   \n",
       "ID_38b872bd6 -0.544245 -0.461845 -0.571774  0.419286  ...      0.15704   \n",
       "ID_39fd34f13 -0.544245 -0.461845  0.885782  0.419286  ...      0.15704   \n",
       "ID_90edd74c3 -0.544245 -0.461845  0.885782 -0.543020  ...      0.15704   \n",
       "ID_c35a5a413 -0.544245 -0.461845  0.885782 -0.543020  ...      0.15704   \n",
       "\n",
       "              qmobilephone    lugar1    lugar2    lugar3    lugar4    lugar5  \\\n",
       "Id                                                                             \n",
       "ID_17e173eb0     -1.237481 -1.191667 -0.317727 -0.257387 -0.301232  3.098924   \n",
       "ID_38b872bd6     -0.562210 -1.191667 -0.317727 -0.257387  3.319705 -0.322693   \n",
       "ID_39fd34f13     -1.237481 -1.191667 -0.317727 -0.257387 -0.301232 -0.322693   \n",
       "ID_90edd74c3     -0.562210 -1.191667 -0.317727 -0.257387 -0.301232  3.098924   \n",
       "ID_c35a5a413     -0.562210 -1.191667 -0.317727 -0.257387  3.319705 -0.322693   \n",
       "\n",
       "                lugar6     area1       age  \n",
       "Id                                          \n",
       "ID_17e173eb0 -0.298641 -1.571709  1.186065  \n",
       "ID_38b872bd6 -0.298641 -1.571709 -0.571313  \n",
       "ID_39fd34f13  3.348501 -1.571709 -1.172521  \n",
       "ID_90edd74c3 -0.298641 -1.571709  0.446117  \n",
       "ID_c35a5a413 -0.298641 -1.571709 -1.126274  \n",
       "\n",
       "[5 rows x 108 columns]"
      ]
     },
     "execution_count": 267,
     "metadata": {},
     "output_type": "execute_result"
    }
   ],
   "source": [
    "temp = sc.transform(x_test)\n",
    "x_test = pd.DataFrame(temp, index= x_test.index, columns= x_test.columns)\n",
    "x_test.head()"
   ]
  },
  {
   "cell_type": "code",
   "execution_count": null,
   "id": "5f30461d",
   "metadata": {},
   "outputs": [],
   "source": []
  },
  {
   "cell_type": "code",
   "execution_count": 268,
   "id": "e9212f8b",
   "metadata": {},
   "outputs": [],
   "source": [
    "# Scalling Test Data (income_test):"
   ]
  },
  {
   "cell_type": "code",
   "execution_count": 269,
   "id": "2a575b68",
   "metadata": {},
   "outputs": [
    {
     "data": {
      "text/html": [
       "<div>\n",
       "<style scoped>\n",
       "    .dataframe tbody tr th:only-of-type {\n",
       "        vertical-align: middle;\n",
       "    }\n",
       "\n",
       "    .dataframe tbody tr th {\n",
       "        vertical-align: top;\n",
       "    }\n",
       "\n",
       "    .dataframe thead th {\n",
       "        text-align: right;\n",
       "    }\n",
       "</style>\n",
       "<table border=\"1\" class=\"dataframe\">\n",
       "  <thead>\n",
       "    <tr style=\"text-align: right;\">\n",
       "      <th></th>\n",
       "      <th>v2a1</th>\n",
       "      <th>hacdor</th>\n",
       "      <th>rooms</th>\n",
       "      <th>hacapo</th>\n",
       "      <th>v14a</th>\n",
       "      <th>refrig</th>\n",
       "      <th>v18q</th>\n",
       "      <th>v18q1</th>\n",
       "      <th>r4h1</th>\n",
       "      <th>r4h2</th>\n",
       "      <th>...</th>\n",
       "      <th>mobilephone</th>\n",
       "      <th>qmobilephone</th>\n",
       "      <th>lugar1</th>\n",
       "      <th>lugar2</th>\n",
       "      <th>lugar3</th>\n",
       "      <th>lugar4</th>\n",
       "      <th>lugar5</th>\n",
       "      <th>lugar6</th>\n",
       "      <th>area1</th>\n",
       "      <th>age</th>\n",
       "    </tr>\n",
       "    <tr>\n",
       "      <th>Id</th>\n",
       "      <th></th>\n",
       "      <th></th>\n",
       "      <th></th>\n",
       "      <th></th>\n",
       "      <th></th>\n",
       "      <th></th>\n",
       "      <th></th>\n",
       "      <th></th>\n",
       "      <th></th>\n",
       "      <th></th>\n",
       "      <th></th>\n",
       "      <th></th>\n",
       "      <th></th>\n",
       "      <th></th>\n",
       "      <th></th>\n",
       "      <th></th>\n",
       "      <th></th>\n",
       "      <th></th>\n",
       "      <th></th>\n",
       "      <th></th>\n",
       "      <th></th>\n",
       "    </tr>\n",
       "  </thead>\n",
       "  <tbody>\n",
       "    <tr>\n",
       "      <th>ID_2f6873615</th>\n",
       "      <td>-0.436006</td>\n",
       "      <td>-0.201397</td>\n",
       "      <td>0.026090</td>\n",
       "      <td>-0.15878</td>\n",
       "      <td>0.072524</td>\n",
       "      <td>0.210372</td>\n",
       "      <td>-0.544245</td>\n",
       "      <td>-0.461845</td>\n",
       "      <td>0.885782</td>\n",
       "      <td>-0.543020</td>\n",
       "      <td>...</td>\n",
       "      <td>0.15704</td>\n",
       "      <td>-0.562210</td>\n",
       "      <td>0.839161</td>\n",
       "      <td>-0.317727</td>\n",
       "      <td>-0.257387</td>\n",
       "      <td>-0.301232</td>\n",
       "      <td>-0.322693</td>\n",
       "      <td>-0.298641</td>\n",
       "      <td>0.63625</td>\n",
       "      <td>-1.403755</td>\n",
       "    </tr>\n",
       "    <tr>\n",
       "      <th>ID_1c78846d2</th>\n",
       "      <td>-0.436006</td>\n",
       "      <td>-0.201397</td>\n",
       "      <td>0.026090</td>\n",
       "      <td>-0.15878</td>\n",
       "      <td>0.072524</td>\n",
       "      <td>0.210372</td>\n",
       "      <td>-0.544245</td>\n",
       "      <td>-0.461845</td>\n",
       "      <td>0.885782</td>\n",
       "      <td>-0.543020</td>\n",
       "      <td>...</td>\n",
       "      <td>0.15704</td>\n",
       "      <td>-0.562210</td>\n",
       "      <td>0.839161</td>\n",
       "      <td>-0.317727</td>\n",
       "      <td>-0.257387</td>\n",
       "      <td>-0.301232</td>\n",
       "      <td>-0.322693</td>\n",
       "      <td>-0.298641</td>\n",
       "      <td>0.63625</td>\n",
       "      <td>0.307376</td>\n",
       "    </tr>\n",
       "    <tr>\n",
       "      <th>ID_e5442cf6a</th>\n",
       "      <td>-0.436006</td>\n",
       "      <td>-0.201397</td>\n",
       "      <td>0.026090</td>\n",
       "      <td>-0.15878</td>\n",
       "      <td>0.072524</td>\n",
       "      <td>0.210372</td>\n",
       "      <td>-0.544245</td>\n",
       "      <td>-0.461845</td>\n",
       "      <td>0.885782</td>\n",
       "      <td>-0.543020</td>\n",
       "      <td>...</td>\n",
       "      <td>0.15704</td>\n",
       "      <td>-0.562210</td>\n",
       "      <td>0.839161</td>\n",
       "      <td>-0.317727</td>\n",
       "      <td>-0.257387</td>\n",
       "      <td>-0.301232</td>\n",
       "      <td>-0.322693</td>\n",
       "      <td>-0.298641</td>\n",
       "      <td>0.63625</td>\n",
       "      <td>0.307376</td>\n",
       "    </tr>\n",
       "    <tr>\n",
       "      <th>ID_a8db26a79</th>\n",
       "      <td>-0.436006</td>\n",
       "      <td>-0.201397</td>\n",
       "      <td>6.152677</td>\n",
       "      <td>-0.15878</td>\n",
       "      <td>0.072524</td>\n",
       "      <td>0.210372</td>\n",
       "      <td>1.837409</td>\n",
       "      <td>0.974025</td>\n",
       "      <td>-0.571774</td>\n",
       "      <td>-0.543020</td>\n",
       "      <td>...</td>\n",
       "      <td>0.15704</td>\n",
       "      <td>-0.562210</td>\n",
       "      <td>0.839161</td>\n",
       "      <td>-0.317727</td>\n",
       "      <td>-0.257387</td>\n",
       "      <td>-0.301232</td>\n",
       "      <td>-0.322693</td>\n",
       "      <td>-0.298641</td>\n",
       "      <td>0.63625</td>\n",
       "      <td>1.139818</td>\n",
       "    </tr>\n",
       "    <tr>\n",
       "      <th>ID_a62966799</th>\n",
       "      <td>1.249850</td>\n",
       "      <td>-0.201397</td>\n",
       "      <td>-0.654642</td>\n",
       "      <td>-0.15878</td>\n",
       "      <td>0.072524</td>\n",
       "      <td>0.210372</td>\n",
       "      <td>1.837409</td>\n",
       "      <td>0.974025</td>\n",
       "      <td>-0.571774</td>\n",
       "      <td>-1.505326</td>\n",
       "      <td>...</td>\n",
       "      <td>0.15704</td>\n",
       "      <td>-1.237481</td>\n",
       "      <td>0.839161</td>\n",
       "      <td>-0.317727</td>\n",
       "      <td>-0.257387</td>\n",
       "      <td>-0.301232</td>\n",
       "      <td>-0.322693</td>\n",
       "      <td>-0.298641</td>\n",
       "      <td>0.63625</td>\n",
       "      <td>-0.756300</td>\n",
       "    </tr>\n",
       "  </tbody>\n",
       "</table>\n",
       "<p>5 rows × 108 columns</p>\n",
       "</div>"
      ],
      "text/plain": [
       "                  v2a1    hacdor     rooms   hacapo      v14a    refrig  \\\n",
       "Id                                                                        \n",
       "ID_2f6873615 -0.436006 -0.201397  0.026090 -0.15878  0.072524  0.210372   \n",
       "ID_1c78846d2 -0.436006 -0.201397  0.026090 -0.15878  0.072524  0.210372   \n",
       "ID_e5442cf6a -0.436006 -0.201397  0.026090 -0.15878  0.072524  0.210372   \n",
       "ID_a8db26a79 -0.436006 -0.201397  6.152677 -0.15878  0.072524  0.210372   \n",
       "ID_a62966799  1.249850 -0.201397 -0.654642 -0.15878  0.072524  0.210372   \n",
       "\n",
       "                  v18q     v18q1      r4h1      r4h2  ...  mobilephone  \\\n",
       "Id                                                    ...                \n",
       "ID_2f6873615 -0.544245 -0.461845  0.885782 -0.543020  ...      0.15704   \n",
       "ID_1c78846d2 -0.544245 -0.461845  0.885782 -0.543020  ...      0.15704   \n",
       "ID_e5442cf6a -0.544245 -0.461845  0.885782 -0.543020  ...      0.15704   \n",
       "ID_a8db26a79  1.837409  0.974025 -0.571774 -0.543020  ...      0.15704   \n",
       "ID_a62966799  1.837409  0.974025 -0.571774 -1.505326  ...      0.15704   \n",
       "\n",
       "              qmobilephone    lugar1    lugar2    lugar3    lugar4    lugar5  \\\n",
       "Id                                                                             \n",
       "ID_2f6873615     -0.562210  0.839161 -0.317727 -0.257387 -0.301232 -0.322693   \n",
       "ID_1c78846d2     -0.562210  0.839161 -0.317727 -0.257387 -0.301232 -0.322693   \n",
       "ID_e5442cf6a     -0.562210  0.839161 -0.317727 -0.257387 -0.301232 -0.322693   \n",
       "ID_a8db26a79     -0.562210  0.839161 -0.317727 -0.257387 -0.301232 -0.322693   \n",
       "ID_a62966799     -1.237481  0.839161 -0.317727 -0.257387 -0.301232 -0.322693   \n",
       "\n",
       "                lugar6    area1       age  \n",
       "Id                                         \n",
       "ID_2f6873615 -0.298641  0.63625 -1.403755  \n",
       "ID_1c78846d2 -0.298641  0.63625  0.307376  \n",
       "ID_e5442cf6a -0.298641  0.63625  0.307376  \n",
       "ID_a8db26a79 -0.298641  0.63625  1.139818  \n",
       "ID_a62966799 -0.298641  0.63625 -0.756300  \n",
       "\n",
       "[5 rows x 108 columns]"
      ]
     },
     "execution_count": 269,
     "metadata": {},
     "output_type": "execute_result"
    }
   ],
   "source": [
    "temp = sc.transform(income_test)\n",
    "income_test = pd.DataFrame(temp, index= income_test.index, columns= income_test.columns)\n",
    "income_test.head()"
   ]
  },
  {
   "cell_type": "code",
   "execution_count": null,
   "id": "79625dbf",
   "metadata": {},
   "outputs": [],
   "source": []
  },
  {
   "cell_type": "markdown",
   "id": "77de25a3",
   "metadata": {},
   "source": [
    "#### 12) Over Sampling:"
   ]
  },
  {
   "cell_type": "code",
   "execution_count": 270,
   "id": "d10cc5e5",
   "metadata": {},
   "outputs": [],
   "source": [
    "# As our Target Variable has Class Imbalance, We will Use Over Sampling to Tackle that."
   ]
  },
  {
   "cell_type": "markdown",
   "id": "54c6c3a6",
   "metadata": {},
   "source": [
    "https://imbalanced-learn.org/stable/references/generated/imblearn.over_sampling.SMOTE.html"
   ]
  },
  {
   "cell_type": "code",
   "execution_count": 271,
   "id": "e5f5db5a",
   "metadata": {},
   "outputs": [],
   "source": [
    "sm = SMOTE()"
   ]
  },
  {
   "cell_type": "code",
   "execution_count": 272,
   "id": "4c1c9618",
   "metadata": {},
   "outputs": [],
   "source": [
    "x_train_sm, y_train_sm = sm.fit_resample(x_train, y_train)"
   ]
  },
  {
   "cell_type": "code",
   "execution_count": 273,
   "id": "e429f05c",
   "metadata": {},
   "outputs": [
    {
     "name": "stdout",
     "output_type": "stream",
     "text": [
      "(19280, 108)\n",
      "(19280,)\n"
     ]
    }
   ],
   "source": [
    "print(x_train_sm.shape)\n",
    "print(y_train_sm.shape)"
   ]
  },
  {
   "cell_type": "code",
   "execution_count": null,
   "id": "ab05598c",
   "metadata": {},
   "outputs": [],
   "source": []
  },
  {
   "cell_type": "markdown",
   "id": "ef9e6a4a",
   "metadata": {},
   "source": [
    "#### 13) Random Forest Classifier:"
   ]
  },
  {
   "cell_type": "code",
   "execution_count": 274,
   "id": "e385788a",
   "metadata": {},
   "outputs": [],
   "source": [
    "RFC_Model = RandomForestClassifier(n_estimators= 100, n_jobs= -1)"
   ]
  },
  {
   "cell_type": "code",
   "execution_count": 275,
   "id": "3ef2bc7d",
   "metadata": {},
   "outputs": [
    {
     "data": {
      "text/plain": [
       "RandomForestClassifier(n_jobs=-1)"
      ]
     },
     "execution_count": 275,
     "metadata": {},
     "output_type": "execute_result"
    }
   ],
   "source": [
    "RFC_Model.fit(x_train_sm, y_train_sm)"
   ]
  },
  {
   "cell_type": "code",
   "execution_count": 276,
   "id": "1c6d9179",
   "metadata": {},
   "outputs": [],
   "source": [
    "pred = RFC_Model.predict(x_test)"
   ]
  },
  {
   "cell_type": "code",
   "execution_count": 277,
   "id": "f5f9e493",
   "metadata": {},
   "outputs": [
    {
     "name": "stdout",
     "output_type": "stream",
     "text": [
      "              precision    recall  f1-score   support\n",
      "\n",
      "           1       0.96      0.91      0.93       169\n",
      "           2       0.94      0.87      0.90       302\n",
      "           3       0.99      0.79      0.87       257\n",
      "           4       0.92      0.99      0.96      1184\n",
      "\n",
      "    accuracy                           0.94      1912\n",
      "   macro avg       0.95      0.89      0.92      1912\n",
      "weighted avg       0.94      0.94      0.93      1912\n",
      "\n"
     ]
    }
   ],
   "source": [
    "print(classification_report(y_test, pred))"
   ]
  },
  {
   "cell_type": "code",
   "execution_count": 278,
   "id": "f1c70cb2",
   "metadata": {},
   "outputs": [
    {
     "data": {
      "text/plain": [
       "<Figure size 576x432 with 0 Axes>"
      ]
     },
     "metadata": {},
     "output_type": "display_data"
    },
    {
     "data": {
      "image/png": "[encoded data removed]",
      "text/plain": [
       "<Figure size 432x288 with 2 Axes>"
      ]
     },
     "metadata": {
      "needs_background": "light"
     },
     "output_type": "display_data"
    }
   ],
   "source": [
    "plt.figure(figsize= (8,6))\n",
    "plot_confusion_matrix(RFC_Model, x_test, y_test)\n",
    "plt.show()"
   ]
  },
  {
   "cell_type": "code",
   "execution_count": 279,
   "id": "d9c0f4b0",
   "metadata": {},
   "outputs": [
    {
     "name": "stdout",
     "output_type": "stream",
     "text": [
      "              precision    recall  f1-score   support\n",
      "\n",
      "           1       0.96      0.91      0.93       169\n",
      "           2       0.94      0.87      0.90       302\n",
      "           3       0.99      0.79      0.87       257\n",
      "           4       0.92      0.99      0.96      1184\n",
      "\n",
      "    accuracy                           0.94      1912\n",
      "   macro avg       0.95      0.89      0.92      1912\n",
      "weighted avg       0.94      0.94      0.93      1912\n",
      "\n"
     ]
    }
   ],
   "source": [
    "print(classification_report(y_test, pred))"
   ]
  },
  {
   "cell_type": "code",
   "execution_count": null,
   "id": "40f29463",
   "metadata": {},
   "outputs": [],
   "source": []
  },
  {
   "cell_type": "markdown",
   "id": "cc0a1faf",
   "metadata": {},
   "source": [
    "#### 14)  Check the accuracy using random forest with cross validation:"
   ]
  },
  {
   "cell_type": "code",
   "execution_count": 280,
   "id": "0b8fa837",
   "metadata": {},
   "outputs": [],
   "source": [
    "# For Cross Validation, we will use full training data (not x_train and y_train):\n",
    "\n",
    "# For that, first we will have to Scale x and y as we did scalling only after train test split.\n",
    "\n",
    "# We will also need to Apply Oversampling on x and y after Scalling."
   ]
  },
  {
   "cell_type": "code",
   "execution_count": 281,
   "id": "d7311574",
   "metadata": {},
   "outputs": [
    {
     "data": {
      "text/html": [
       "<div>\n",
       "<style scoped>\n",
       "    .dataframe tbody tr th:only-of-type {\n",
       "        vertical-align: middle;\n",
       "    }\n",
       "\n",
       "    .dataframe tbody tr th {\n",
       "        vertical-align: top;\n",
       "    }\n",
       "\n",
       "    .dataframe thead th {\n",
       "        text-align: right;\n",
       "    }\n",
       "</style>\n",
       "<table border=\"1\" class=\"dataframe\">\n",
       "  <thead>\n",
       "    <tr style=\"text-align: right;\">\n",
       "      <th></th>\n",
       "      <th>v2a1</th>\n",
       "      <th>hacdor</th>\n",
       "      <th>rooms</th>\n",
       "      <th>hacapo</th>\n",
       "      <th>v14a</th>\n",
       "      <th>refrig</th>\n",
       "      <th>v18q</th>\n",
       "      <th>v18q1</th>\n",
       "      <th>r4h1</th>\n",
       "      <th>r4h2</th>\n",
       "      <th>...</th>\n",
       "      <th>mobilephone</th>\n",
       "      <th>qmobilephone</th>\n",
       "      <th>lugar1</th>\n",
       "      <th>lugar2</th>\n",
       "      <th>lugar3</th>\n",
       "      <th>lugar4</th>\n",
       "      <th>lugar5</th>\n",
       "      <th>lugar6</th>\n",
       "      <th>area1</th>\n",
       "      <th>age</th>\n",
       "    </tr>\n",
       "    <tr>\n",
       "      <th>Id</th>\n",
       "      <th></th>\n",
       "      <th></th>\n",
       "      <th></th>\n",
       "      <th></th>\n",
       "      <th></th>\n",
       "      <th></th>\n",
       "      <th></th>\n",
       "      <th></th>\n",
       "      <th></th>\n",
       "      <th></th>\n",
       "      <th></th>\n",
       "      <th></th>\n",
       "      <th></th>\n",
       "      <th></th>\n",
       "      <th></th>\n",
       "      <th></th>\n",
       "      <th></th>\n",
       "      <th></th>\n",
       "      <th></th>\n",
       "      <th></th>\n",
       "      <th></th>\n",
       "    </tr>\n",
       "  </thead>\n",
       "  <tbody>\n",
       "    <tr>\n",
       "      <th>ID_279628684</th>\n",
       "      <td>190000.0</td>\n",
       "      <td>0</td>\n",
       "      <td>3</td>\n",
       "      <td>0</td>\n",
       "      <td>1</td>\n",
       "      <td>1</td>\n",
       "      <td>0</td>\n",
       "      <td>0.0</td>\n",
       "      <td>0</td>\n",
       "      <td>1</td>\n",
       "      <td>...</td>\n",
       "      <td>1</td>\n",
       "      <td>1</td>\n",
       "      <td>1</td>\n",
       "      <td>0</td>\n",
       "      <td>0</td>\n",
       "      <td>0</td>\n",
       "      <td>0</td>\n",
       "      <td>0</td>\n",
       "      <td>1</td>\n",
       "      <td>43</td>\n",
       "    </tr>\n",
       "    <tr>\n",
       "      <th>ID_f29eb3ddd</th>\n",
       "      <td>135000.0</td>\n",
       "      <td>0</td>\n",
       "      <td>4</td>\n",
       "      <td>0</td>\n",
       "      <td>1</td>\n",
       "      <td>1</td>\n",
       "      <td>1</td>\n",
       "      <td>1.0</td>\n",
       "      <td>0</td>\n",
       "      <td>1</td>\n",
       "      <td>...</td>\n",
       "      <td>1</td>\n",
       "      <td>1</td>\n",
       "      <td>1</td>\n",
       "      <td>0</td>\n",
       "      <td>0</td>\n",
       "      <td>0</td>\n",
       "      <td>0</td>\n",
       "      <td>0</td>\n",
       "      <td>1</td>\n",
       "      <td>67</td>\n",
       "    </tr>\n",
       "    <tr>\n",
       "      <th>ID_68de51c94</th>\n",
       "      <td>0.0</td>\n",
       "      <td>0</td>\n",
       "      <td>8</td>\n",
       "      <td>0</td>\n",
       "      <td>1</td>\n",
       "      <td>1</td>\n",
       "      <td>0</td>\n",
       "      <td>0.0</td>\n",
       "      <td>0</td>\n",
       "      <td>0</td>\n",
       "      <td>...</td>\n",
       "      <td>0</td>\n",
       "      <td>0</td>\n",
       "      <td>1</td>\n",
       "      <td>0</td>\n",
       "      <td>0</td>\n",
       "      <td>0</td>\n",
       "      <td>0</td>\n",
       "      <td>0</td>\n",
       "      <td>1</td>\n",
       "      <td>92</td>\n",
       "    </tr>\n",
       "    <tr>\n",
       "      <th>ID_d671db89c</th>\n",
       "      <td>180000.0</td>\n",
       "      <td>0</td>\n",
       "      <td>5</td>\n",
       "      <td>0</td>\n",
       "      <td>1</td>\n",
       "      <td>1</td>\n",
       "      <td>1</td>\n",
       "      <td>1.0</td>\n",
       "      <td>0</td>\n",
       "      <td>2</td>\n",
       "      <td>...</td>\n",
       "      <td>1</td>\n",
       "      <td>3</td>\n",
       "      <td>1</td>\n",
       "      <td>0</td>\n",
       "      <td>0</td>\n",
       "      <td>0</td>\n",
       "      <td>0</td>\n",
       "      <td>0</td>\n",
       "      <td>1</td>\n",
       "      <td>17</td>\n",
       "    </tr>\n",
       "    <tr>\n",
       "      <th>ID_d56d6f5f5</th>\n",
       "      <td>180000.0</td>\n",
       "      <td>0</td>\n",
       "      <td>5</td>\n",
       "      <td>0</td>\n",
       "      <td>1</td>\n",
       "      <td>1</td>\n",
       "      <td>1</td>\n",
       "      <td>1.0</td>\n",
       "      <td>0</td>\n",
       "      <td>2</td>\n",
       "      <td>...</td>\n",
       "      <td>1</td>\n",
       "      <td>3</td>\n",
       "      <td>1</td>\n",
       "      <td>0</td>\n",
       "      <td>0</td>\n",
       "      <td>0</td>\n",
       "      <td>0</td>\n",
       "      <td>0</td>\n",
       "      <td>1</td>\n",
       "      <td>37</td>\n",
       "    </tr>\n",
       "  </tbody>\n",
       "</table>\n",
       "<p>5 rows × 108 columns</p>\n",
       "</div>"
      ],
      "text/plain": [
       "                  v2a1  hacdor  rooms  hacapo  v14a  refrig  v18q  v18q1  \\\n",
       "Id                                                                         \n",
       "ID_279628684  190000.0       0      3       0     1       1     0    0.0   \n",
       "ID_f29eb3ddd  135000.0       0      4       0     1       1     1    1.0   \n",
       "ID_68de51c94       0.0       0      8       0     1       1     0    0.0   \n",
       "ID_d671db89c  180000.0       0      5       0     1       1     1    1.0   \n",
       "ID_d56d6f5f5  180000.0       0      5       0     1       1     1    1.0   \n",
       "\n",
       "              r4h1  r4h2  ...  mobilephone  qmobilephone  lugar1  lugar2  \\\n",
       "Id                        ...                                              \n",
       "ID_279628684     0     1  ...            1             1       1       0   \n",
       "ID_f29eb3ddd     0     1  ...            1             1       1       0   \n",
       "ID_68de51c94     0     0  ...            0             0       1       0   \n",
       "ID_d671db89c     0     2  ...            1             3       1       0   \n",
       "ID_d56d6f5f5     0     2  ...            1             3       1       0   \n",
       "\n",
       "              lugar3  lugar4  lugar5  lugar6  area1  age  \n",
       "Id                                                        \n",
       "ID_279628684       0       0       0       0      1   43  \n",
       "ID_f29eb3ddd       0       0       0       0      1   67  \n",
       "ID_68de51c94       0       0       0       0      1   92  \n",
       "ID_d671db89c       0       0       0       0      1   17  \n",
       "ID_d56d6f5f5       0       0       0       0      1   37  \n",
       "\n",
       "[5 rows x 108 columns]"
      ]
     },
     "execution_count": 281,
     "metadata": {},
     "output_type": "execute_result"
    }
   ],
   "source": [
    "x.head()"
   ]
  },
  {
   "cell_type": "code",
   "execution_count": 282,
   "id": "cd4cbe62",
   "metadata": {},
   "outputs": [
    {
     "data": {
      "text/plain": [
       "Id\n",
       "ID_279628684    4\n",
       "ID_f29eb3ddd    4\n",
       "ID_68de51c94    4\n",
       "ID_d671db89c    4\n",
       "ID_d56d6f5f5    4\n",
       "Name: Target, dtype: int64"
      ]
     },
     "execution_count": 282,
     "metadata": {},
     "output_type": "execute_result"
    }
   ],
   "source": [
    "y.head()"
   ]
  },
  {
   "cell_type": "code",
   "execution_count": 283,
   "id": "60507b45",
   "metadata": {},
   "outputs": [
    {
     "data": {
      "text/plain": [
       "(9557, 108)"
      ]
     },
     "execution_count": 283,
     "metadata": {},
     "output_type": "execute_result"
    }
   ],
   "source": [
    "x.shape"
   ]
  },
  {
   "cell_type": "code",
   "execution_count": 284,
   "id": "c2961228",
   "metadata": {},
   "outputs": [
    {
     "data": {
      "text/plain": [
       "(9557,)"
      ]
     },
     "execution_count": 284,
     "metadata": {},
     "output_type": "execute_result"
    }
   ],
   "source": [
    "y.shape"
   ]
  },
  {
   "cell_type": "code",
   "execution_count": null,
   "id": "ac482dec",
   "metadata": {},
   "outputs": [],
   "source": []
  },
  {
   "cell_type": "code",
   "execution_count": 285,
   "id": "80dd45fc",
   "metadata": {},
   "outputs": [],
   "source": [
    "# Scalling x:"
   ]
  },
  {
   "cell_type": "code",
   "execution_count": 286,
   "id": "c6734685",
   "metadata": {},
   "outputs": [],
   "source": [
    "sc1 = StandardScaler()"
   ]
  },
  {
   "cell_type": "code",
   "execution_count": 287,
   "id": "831de364",
   "metadata": {},
   "outputs": [
    {
     "data": {
      "text/html": [
       "<div>\n",
       "<style scoped>\n",
       "    .dataframe tbody tr th:only-of-type {\n",
       "        vertical-align: middle;\n",
       "    }\n",
       "\n",
       "    .dataframe tbody tr th {\n",
       "        vertical-align: top;\n",
       "    }\n",
       "\n",
       "    .dataframe thead th {\n",
       "        text-align: right;\n",
       "    }\n",
       "</style>\n",
       "<table border=\"1\" class=\"dataframe\">\n",
       "  <thead>\n",
       "    <tr style=\"text-align: right;\">\n",
       "      <th></th>\n",
       "      <th>v2a1</th>\n",
       "      <th>hacdor</th>\n",
       "      <th>rooms</th>\n",
       "      <th>hacapo</th>\n",
       "      <th>v14a</th>\n",
       "      <th>refrig</th>\n",
       "      <th>v18q</th>\n",
       "      <th>v18q1</th>\n",
       "      <th>r4h1</th>\n",
       "      <th>r4h2</th>\n",
       "      <th>...</th>\n",
       "      <th>mobilephone</th>\n",
       "      <th>qmobilephone</th>\n",
       "      <th>lugar1</th>\n",
       "      <th>lugar2</th>\n",
       "      <th>lugar3</th>\n",
       "      <th>lugar4</th>\n",
       "      <th>lugar5</th>\n",
       "      <th>lugar6</th>\n",
       "      <th>area1</th>\n",
       "      <th>age</th>\n",
       "    </tr>\n",
       "    <tr>\n",
       "      <th>Id</th>\n",
       "      <th></th>\n",
       "      <th></th>\n",
       "      <th></th>\n",
       "      <th></th>\n",
       "      <th></th>\n",
       "      <th></th>\n",
       "      <th></th>\n",
       "      <th></th>\n",
       "      <th></th>\n",
       "      <th></th>\n",
       "      <th></th>\n",
       "      <th></th>\n",
       "      <th></th>\n",
       "      <th></th>\n",
       "      <th></th>\n",
       "      <th></th>\n",
       "      <th></th>\n",
       "      <th></th>\n",
       "      <th></th>\n",
       "      <th></th>\n",
       "      <th></th>\n",
       "    </tr>\n",
       "  </thead>\n",
       "  <tbody>\n",
       "    <tr>\n",
       "      <th>ID_279628684</th>\n",
       "      <td>1.313389</td>\n",
       "      <td>-0.198986</td>\n",
       "      <td>-1.331829</td>\n",
       "      <td>-0.155629</td>\n",
       "      <td>0.072521</td>\n",
       "      <td>0.210363</td>\n",
       "      <td>-0.549262</td>\n",
       "      <td>-0.466827</td>\n",
       "      <td>-0.566874</td>\n",
       "      <td>-0.539470</td>\n",
       "      <td>...</td>\n",
       "      <td>0.159120</td>\n",
       "      <td>-1.228106</td>\n",
       "      <td>0.837702</td>\n",
       "      <td>-0.319656</td>\n",
       "      <td>-0.257896</td>\n",
       "      <td>-0.300391</td>\n",
       "      <td>-0.321838</td>\n",
       "      <td>-0.296232</td>\n",
       "      <td>0.632039</td>\n",
       "      <td>0.402406</td>\n",
       "    </tr>\n",
       "    <tr>\n",
       "      <th>ID_f29eb3ddd</th>\n",
       "      <td>0.809548</td>\n",
       "      <td>-0.198986</td>\n",
       "      <td>-0.650771</td>\n",
       "      <td>-0.155629</td>\n",
       "      <td>0.072521</td>\n",
       "      <td>0.210363</td>\n",
       "      <td>1.820624</td>\n",
       "      <td>0.967727</td>\n",
       "      <td>-0.566874</td>\n",
       "      <td>-0.539470</td>\n",
       "      <td>...</td>\n",
       "      <td>0.159120</td>\n",
       "      <td>-1.228106</td>\n",
       "      <td>0.837702</td>\n",
       "      <td>-0.319656</td>\n",
       "      <td>-0.257896</td>\n",
       "      <td>-0.300391</td>\n",
       "      <td>-0.321838</td>\n",
       "      <td>-0.296232</td>\n",
       "      <td>0.632039</td>\n",
       "      <td>1.512945</td>\n",
       "    </tr>\n",
       "    <tr>\n",
       "      <th>ID_68de51c94</th>\n",
       "      <td>-0.427153</td>\n",
       "      <td>-0.198986</td>\n",
       "      <td>2.073460</td>\n",
       "      <td>-0.155629</td>\n",
       "      <td>0.072521</td>\n",
       "      <td>0.210363</td>\n",
       "      <td>-0.549262</td>\n",
       "      <td>-0.466827</td>\n",
       "      <td>-0.566874</td>\n",
       "      <td>-1.504237</td>\n",
       "      <td>...</td>\n",
       "      <td>-6.284565</td>\n",
       "      <td>-1.902337</td>\n",
       "      <td>0.837702</td>\n",
       "      <td>-0.319656</td>\n",
       "      <td>-0.257896</td>\n",
       "      <td>-0.300391</td>\n",
       "      <td>-0.321838</td>\n",
       "      <td>-0.296232</td>\n",
       "      <td>0.632039</td>\n",
       "      <td>2.669756</td>\n",
       "    </tr>\n",
       "    <tr>\n",
       "      <th>ID_d671db89c</th>\n",
       "      <td>1.221781</td>\n",
       "      <td>-0.198986</td>\n",
       "      <td>0.030287</td>\n",
       "      <td>-0.155629</td>\n",
       "      <td>0.072521</td>\n",
       "      <td>0.210363</td>\n",
       "      <td>1.820624</td>\n",
       "      <td>0.967727</td>\n",
       "      <td>-0.566874</td>\n",
       "      <td>0.425297</td>\n",
       "      <td>...</td>\n",
       "      <td>0.159120</td>\n",
       "      <td>0.120356</td>\n",
       "      <td>0.837702</td>\n",
       "      <td>-0.319656</td>\n",
       "      <td>-0.257896</td>\n",
       "      <td>-0.300391</td>\n",
       "      <td>-0.321838</td>\n",
       "      <td>-0.296232</td>\n",
       "      <td>0.632039</td>\n",
       "      <td>-0.800678</td>\n",
       "    </tr>\n",
       "    <tr>\n",
       "      <th>ID_d56d6f5f5</th>\n",
       "      <td>1.221781</td>\n",
       "      <td>-0.198986</td>\n",
       "      <td>0.030287</td>\n",
       "      <td>-0.155629</td>\n",
       "      <td>0.072521</td>\n",
       "      <td>0.210363</td>\n",
       "      <td>1.820624</td>\n",
       "      <td>0.967727</td>\n",
       "      <td>-0.566874</td>\n",
       "      <td>0.425297</td>\n",
       "      <td>...</td>\n",
       "      <td>0.159120</td>\n",
       "      <td>0.120356</td>\n",
       "      <td>0.837702</td>\n",
       "      <td>-0.319656</td>\n",
       "      <td>-0.257896</td>\n",
       "      <td>-0.300391</td>\n",
       "      <td>-0.321838</td>\n",
       "      <td>-0.296232</td>\n",
       "      <td>0.632039</td>\n",
       "      <td>0.124771</td>\n",
       "    </tr>\n",
       "  </tbody>\n",
       "</table>\n",
       "<p>5 rows × 108 columns</p>\n",
       "</div>"
      ],
      "text/plain": [
       "                  v2a1    hacdor     rooms    hacapo      v14a    refrig  \\\n",
       "Id                                                                         \n",
       "ID_279628684  1.313389 -0.198986 -1.331829 -0.155629  0.072521  0.210363   \n",
       "ID_f29eb3ddd  0.809548 -0.198986 -0.650771 -0.155629  0.072521  0.210363   \n",
       "ID_68de51c94 -0.427153 -0.198986  2.073460 -0.155629  0.072521  0.210363   \n",
       "ID_d671db89c  1.221781 -0.198986  0.030287 -0.155629  0.072521  0.210363   \n",
       "ID_d56d6f5f5  1.221781 -0.198986  0.030287 -0.155629  0.072521  0.210363   \n",
       "\n",
       "                  v18q     v18q1      r4h1      r4h2  ...  mobilephone  \\\n",
       "Id                                                    ...                \n",
       "ID_279628684 -0.549262 -0.466827 -0.566874 -0.539470  ...     0.159120   \n",
       "ID_f29eb3ddd  1.820624  0.967727 -0.566874 -0.539470  ...     0.159120   \n",
       "ID_68de51c94 -0.549262 -0.466827 -0.566874 -1.504237  ...    -6.284565   \n",
       "ID_d671db89c  1.820624  0.967727 -0.566874  0.425297  ...     0.159120   \n",
       "ID_d56d6f5f5  1.820624  0.967727 -0.566874  0.425297  ...     0.159120   \n",
       "\n",
       "              qmobilephone    lugar1    lugar2    lugar3    lugar4    lugar5  \\\n",
       "Id                                                                             \n",
       "ID_279628684     -1.228106  0.837702 -0.319656 -0.257896 -0.300391 -0.321838   \n",
       "ID_f29eb3ddd     -1.228106  0.837702 -0.319656 -0.257896 -0.300391 -0.321838   \n",
       "ID_68de51c94     -1.902337  0.837702 -0.319656 -0.257896 -0.300391 -0.321838   \n",
       "ID_d671db89c      0.120356  0.837702 -0.319656 -0.257896 -0.300391 -0.321838   \n",
       "ID_d56d6f5f5      0.120356  0.837702 -0.319656 -0.257896 -0.300391 -0.321838   \n",
       "\n",
       "                lugar6     area1       age  \n",
       "Id                                          \n",
       "ID_279628684 -0.296232  0.632039  0.402406  \n",
       "ID_f29eb3ddd -0.296232  0.632039  1.512945  \n",
       "ID_68de51c94 -0.296232  0.632039  2.669756  \n",
       "ID_d671db89c -0.296232  0.632039 -0.800678  \n",
       "ID_d56d6f5f5 -0.296232  0.632039  0.124771  \n",
       "\n",
       "[5 rows x 108 columns]"
      ]
     },
     "execution_count": 287,
     "metadata": {},
     "output_type": "execute_result"
    }
   ],
   "source": [
    "temp = sc1.fit_transform(x)\n",
    "x = pd.DataFrame(temp, index= x.index, columns= x.columns)\n",
    "x.head()"
   ]
  },
  {
   "cell_type": "code",
   "execution_count": null,
   "id": "3e28ee84",
   "metadata": {},
   "outputs": [],
   "source": []
  },
  {
   "cell_type": "code",
   "execution_count": 288,
   "id": "39a729c5",
   "metadata": {},
   "outputs": [],
   "source": [
    "# Applying SMOTE on x and y for Over Sampling:"
   ]
  },
  {
   "cell_type": "code",
   "execution_count": 289,
   "id": "21665ff6",
   "metadata": {},
   "outputs": [],
   "source": [
    "sm1 = SMOTE()"
   ]
  },
  {
   "cell_type": "code",
   "execution_count": 290,
   "id": "1ea59b81",
   "metadata": {},
   "outputs": [],
   "source": [
    "x_sm, y_sm = sm1.fit_resample(x, y)"
   ]
  },
  {
   "cell_type": "code",
   "execution_count": 291,
   "id": "6dc7dd67",
   "metadata": {},
   "outputs": [
    {
     "name": "stdout",
     "output_type": "stream",
     "text": [
      "(24016, 108)\n",
      "(24016,)\n"
     ]
    }
   ],
   "source": [
    "print(x_sm.shape)\n",
    "print(y_sm.shape)"
   ]
  },
  {
   "cell_type": "code",
   "execution_count": null,
   "id": "48d7e5d6",
   "metadata": {},
   "outputs": [],
   "source": []
  },
  {
   "cell_type": "code",
   "execution_count": 292,
   "id": "cfe80e01",
   "metadata": {},
   "outputs": [],
   "source": [
    "# Cross Validation On Random Forest Classifier:"
   ]
  },
  {
   "cell_type": "code",
   "execution_count": 293,
   "id": "7b629e5b",
   "metadata": {},
   "outputs": [],
   "source": [
    "# Note: No need to perform Train Test Split for Cross Validation."
   ]
  },
  {
   "cell_type": "code",
   "execution_count": 294,
   "id": "3a7899f0",
   "metadata": {},
   "outputs": [],
   "source": [
    "cr_validate = cross_validate(RFC_Model, x_sm, y_sm, cv= 10)"
   ]
  },
  {
   "cell_type": "code",
   "execution_count": 295,
   "id": "31fcff5b",
   "metadata": {},
   "outputs": [
    {
     "data": {
      "text/plain": [
       "dict"
      ]
     },
     "execution_count": 295,
     "metadata": {},
     "output_type": "execute_result"
    }
   ],
   "source": [
    "type(cr_validate)"
   ]
  },
  {
   "cell_type": "code",
   "execution_count": 296,
   "id": "25736595",
   "metadata": {},
   "outputs": [
    {
     "data": {
      "text/plain": [
       "dict_keys(['fit_time', 'score_time', 'test_score'])"
      ]
     },
     "execution_count": 296,
     "metadata": {},
     "output_type": "execute_result"
    }
   ],
   "source": [
    "cr_validate.keys()"
   ]
  },
  {
   "cell_type": "code",
   "execution_count": 297,
   "id": "c9d9bd0b",
   "metadata": {},
   "outputs": [
    {
     "data": {
      "text/plain": [
       "{'fit_time': array([4.18234634, 1.86416841, 1.80156803, 1.83198905, 1.72789645,\n",
       "        1.70344281, 1.7218492 , 1.6490531 , 1.62656355, 1.6830225 ]),\n",
       " 'score_time': array([0.05090141, 0.04388213, 0.06224084, 0.06655192, 0.036901  ,\n",
       "        0.041888  , 0.04061532, 0.0594027 , 0.0502274 , 0.05304337]),\n",
       " 'test_score': array([0.90840966, 0.93838468, 0.97085762, 0.96294754, 0.97918401,\n",
       "        0.9683597 , 0.95210329, 0.9396085 , 0.91253644, 0.89046231])}"
      ]
     },
     "execution_count": 297,
     "metadata": {},
     "output_type": "execute_result"
    }
   ],
   "source": [
    "cr_validate"
   ]
  },
  {
   "cell_type": "code",
   "execution_count": 298,
   "id": "a8e8925f",
   "metadata": {},
   "outputs": [],
   "source": [
    "# We have 10 Test Scores in result as we did 10 fold cross validation using cv=10.\n",
    "\n",
    "# So, we can simply take Average of all Test Scores to find Average Accuracy of Cross Validation on Random Forest."
   ]
  },
  {
   "cell_type": "code",
   "execution_count": 299,
   "id": "10f386a2",
   "metadata": {},
   "outputs": [
    {
     "data": {
      "text/plain": [
       "0.9422853751264478"
      ]
     },
     "execution_count": 299,
     "metadata": {},
     "output_type": "execute_result"
    }
   ],
   "source": [
    "cr_validate[\"test_score\"].mean()"
   ]
  },
  {
   "cell_type": "code",
   "execution_count": 300,
   "id": "d0a25a0f",
   "metadata": {},
   "outputs": [],
   "source": [
    "# We are Getting 94.42% Accuracy, which is good wnough to Use Model on New Unseen Data (Test file Data) to make Predictions."
   ]
  },
  {
   "cell_type": "code",
   "execution_count": null,
   "id": "4a48d469",
   "metadata": {},
   "outputs": [],
   "source": []
  },
  {
   "cell_type": "markdown",
   "id": "5e78f6fb",
   "metadata": {},
   "source": [
    "#### 15) Making Predictions on Test Data:"
   ]
  },
  {
   "cell_type": "code",
   "execution_count": 301,
   "id": "aa8c199c",
   "metadata": {},
   "outputs": [],
   "source": [
    "# As we have Maniputed The Original Test Data (Unseen Data), Let's Load it Again."
   ]
  },
  {
   "cell_type": "code",
   "execution_count": 302,
   "id": "7e8b6e23",
   "metadata": {},
   "outputs": [],
   "source": [
    "Unseen_Data = pd.read_csv(\"test.csv\")"
   ]
  },
  {
   "cell_type": "code",
   "execution_count": 303,
   "id": "3b98ab39",
   "metadata": {},
   "outputs": [
    {
     "data": {
      "text/html": [
       "<div>\n",
       "<style scoped>\n",
       "    .dataframe tbody tr th:only-of-type {\n",
       "        vertical-align: middle;\n",
       "    }\n",
       "\n",
       "    .dataframe tbody tr th {\n",
       "        vertical-align: top;\n",
       "    }\n",
       "\n",
       "    .dataframe thead th {\n",
       "        text-align: right;\n",
       "    }\n",
       "</style>\n",
       "<table border=\"1\" class=\"dataframe\">\n",
       "  <thead>\n",
       "    <tr style=\"text-align: right;\">\n",
       "      <th></th>\n",
       "      <th>Id</th>\n",
       "      <th>v2a1</th>\n",
       "      <th>hacdor</th>\n",
       "      <th>rooms</th>\n",
       "      <th>hacapo</th>\n",
       "      <th>v14a</th>\n",
       "      <th>refrig</th>\n",
       "      <th>v18q</th>\n",
       "      <th>v18q1</th>\n",
       "      <th>r4h1</th>\n",
       "      <th>...</th>\n",
       "      <th>age</th>\n",
       "      <th>SQBescolari</th>\n",
       "      <th>SQBage</th>\n",
       "      <th>SQBhogar_total</th>\n",
       "      <th>SQBedjefe</th>\n",
       "      <th>SQBhogar_nin</th>\n",
       "      <th>SQBovercrowding</th>\n",
       "      <th>SQBdependency</th>\n",
       "      <th>SQBmeaned</th>\n",
       "      <th>agesq</th>\n",
       "    </tr>\n",
       "  </thead>\n",
       "  <tbody>\n",
       "    <tr>\n",
       "      <th>0</th>\n",
       "      <td>ID_2f6873615</td>\n",
       "      <td>NaN</td>\n",
       "      <td>0</td>\n",
       "      <td>5</td>\n",
       "      <td>0</td>\n",
       "      <td>1</td>\n",
       "      <td>1</td>\n",
       "      <td>0</td>\n",
       "      <td>NaN</td>\n",
       "      <td>1</td>\n",
       "      <td>...</td>\n",
       "      <td>4</td>\n",
       "      <td>0</td>\n",
       "      <td>16</td>\n",
       "      <td>9</td>\n",
       "      <td>0</td>\n",
       "      <td>1</td>\n",
       "      <td>2.25</td>\n",
       "      <td>0.25</td>\n",
       "      <td>272.25</td>\n",
       "      <td>16</td>\n",
       "    </tr>\n",
       "    <tr>\n",
       "      <th>1</th>\n",
       "      <td>ID_1c78846d2</td>\n",
       "      <td>NaN</td>\n",
       "      <td>0</td>\n",
       "      <td>5</td>\n",
       "      <td>0</td>\n",
       "      <td>1</td>\n",
       "      <td>1</td>\n",
       "      <td>0</td>\n",
       "      <td>NaN</td>\n",
       "      <td>1</td>\n",
       "      <td>...</td>\n",
       "      <td>41</td>\n",
       "      <td>256</td>\n",
       "      <td>1681</td>\n",
       "      <td>9</td>\n",
       "      <td>0</td>\n",
       "      <td>1</td>\n",
       "      <td>2.25</td>\n",
       "      <td>0.25</td>\n",
       "      <td>272.25</td>\n",
       "      <td>1681</td>\n",
       "    </tr>\n",
       "    <tr>\n",
       "      <th>2</th>\n",
       "      <td>ID_e5442cf6a</td>\n",
       "      <td>NaN</td>\n",
       "      <td>0</td>\n",
       "      <td>5</td>\n",
       "      <td>0</td>\n",
       "      <td>1</td>\n",
       "      <td>1</td>\n",
       "      <td>0</td>\n",
       "      <td>NaN</td>\n",
       "      <td>1</td>\n",
       "      <td>...</td>\n",
       "      <td>41</td>\n",
       "      <td>289</td>\n",
       "      <td>1681</td>\n",
       "      <td>9</td>\n",
       "      <td>0</td>\n",
       "      <td>1</td>\n",
       "      <td>2.25</td>\n",
       "      <td>0.25</td>\n",
       "      <td>272.25</td>\n",
       "      <td>1681</td>\n",
       "    </tr>\n",
       "    <tr>\n",
       "      <th>3</th>\n",
       "      <td>ID_a8db26a79</td>\n",
       "      <td>NaN</td>\n",
       "      <td>0</td>\n",
       "      <td>14</td>\n",
       "      <td>0</td>\n",
       "      <td>1</td>\n",
       "      <td>1</td>\n",
       "      <td>1</td>\n",
       "      <td>1.0</td>\n",
       "      <td>0</td>\n",
       "      <td>...</td>\n",
       "      <td>59</td>\n",
       "      <td>256</td>\n",
       "      <td>3481</td>\n",
       "      <td>1</td>\n",
       "      <td>256</td>\n",
       "      <td>0</td>\n",
       "      <td>1.00</td>\n",
       "      <td>0.00</td>\n",
       "      <td>256.00</td>\n",
       "      <td>3481</td>\n",
       "    </tr>\n",
       "    <tr>\n",
       "      <th>4</th>\n",
       "      <td>ID_a62966799</td>\n",
       "      <td>175000.0</td>\n",
       "      <td>0</td>\n",
       "      <td>4</td>\n",
       "      <td>0</td>\n",
       "      <td>1</td>\n",
       "      <td>1</td>\n",
       "      <td>1</td>\n",
       "      <td>1.0</td>\n",
       "      <td>0</td>\n",
       "      <td>...</td>\n",
       "      <td>18</td>\n",
       "      <td>121</td>\n",
       "      <td>324</td>\n",
       "      <td>1</td>\n",
       "      <td>0</td>\n",
       "      <td>1</td>\n",
       "      <td>0.25</td>\n",
       "      <td>64.00</td>\n",
       "      <td>NaN</td>\n",
       "      <td>324</td>\n",
       "    </tr>\n",
       "  </tbody>\n",
       "</table>\n",
       "<p>5 rows × 142 columns</p>\n",
       "</div>"
      ],
      "text/plain": [
       "             Id      v2a1  hacdor  rooms  hacapo  v14a  refrig  v18q  v18q1  \\\n",
       "0  ID_2f6873615       NaN       0      5       0     1       1     0    NaN   \n",
       "1  ID_1c78846d2       NaN       0      5       0     1       1     0    NaN   \n",
       "2  ID_e5442cf6a       NaN       0      5       0     1       1     0    NaN   \n",
       "3  ID_a8db26a79       NaN       0     14       0     1       1     1    1.0   \n",
       "4  ID_a62966799  175000.0       0      4       0     1       1     1    1.0   \n",
       "\n",
       "   r4h1  ...  age  SQBescolari  SQBage  SQBhogar_total  SQBedjefe  \\\n",
       "0     1  ...    4            0      16               9          0   \n",
       "1     1  ...   41          256    1681               9          0   \n",
       "2     1  ...   41          289    1681               9          0   \n",
       "3     0  ...   59          256    3481               1        256   \n",
       "4     0  ...   18          121     324               1          0   \n",
       "\n",
       "   SQBhogar_nin  SQBovercrowding  SQBdependency  SQBmeaned  agesq  \n",
       "0             1             2.25           0.25     272.25     16  \n",
       "1             1             2.25           0.25     272.25   1681  \n",
       "2             1             2.25           0.25     272.25   1681  \n",
       "3             0             1.00           0.00     256.00   3481  \n",
       "4             1             0.25          64.00        NaN    324  \n",
       "\n",
       "[5 rows x 142 columns]"
      ]
     },
     "execution_count": 303,
     "metadata": {},
     "output_type": "execute_result"
    }
   ],
   "source": [
    "Unseen_Data.head()"
   ]
  },
  {
   "cell_type": "code",
   "execution_count": null,
   "id": "64259ed2",
   "metadata": {},
   "outputs": [],
   "source": []
  },
  {
   "cell_type": "code",
   "execution_count": 304,
   "id": "a44bd0bd",
   "metadata": {},
   "outputs": [],
   "source": [
    "# Making Predictions on Test Data from \"income_test\" data frame which is in same form as Training Data."
   ]
  },
  {
   "cell_type": "code",
   "execution_count": 305,
   "id": "22b43786",
   "metadata": {},
   "outputs": [
    {
     "data": {
      "text/html": [
       "<div>\n",
       "<style scoped>\n",
       "    .dataframe tbody tr th:only-of-type {\n",
       "        vertical-align: middle;\n",
       "    }\n",
       "\n",
       "    .dataframe tbody tr th {\n",
       "        vertical-align: top;\n",
       "    }\n",
       "\n",
       "    .dataframe thead th {\n",
       "        text-align: right;\n",
       "    }\n",
       "</style>\n",
       "<table border=\"1\" class=\"dataframe\">\n",
       "  <thead>\n",
       "    <tr style=\"text-align: right;\">\n",
       "      <th></th>\n",
       "      <th>v2a1</th>\n",
       "      <th>hacdor</th>\n",
       "      <th>rooms</th>\n",
       "      <th>hacapo</th>\n",
       "      <th>v14a</th>\n",
       "      <th>refrig</th>\n",
       "      <th>v18q</th>\n",
       "      <th>v18q1</th>\n",
       "      <th>r4h1</th>\n",
       "      <th>r4h2</th>\n",
       "      <th>...</th>\n",
       "      <th>mobilephone</th>\n",
       "      <th>qmobilephone</th>\n",
       "      <th>lugar1</th>\n",
       "      <th>lugar2</th>\n",
       "      <th>lugar3</th>\n",
       "      <th>lugar4</th>\n",
       "      <th>lugar5</th>\n",
       "      <th>lugar6</th>\n",
       "      <th>area1</th>\n",
       "      <th>age</th>\n",
       "    </tr>\n",
       "    <tr>\n",
       "      <th>Id</th>\n",
       "      <th></th>\n",
       "      <th></th>\n",
       "      <th></th>\n",
       "      <th></th>\n",
       "      <th></th>\n",
       "      <th></th>\n",
       "      <th></th>\n",
       "      <th></th>\n",
       "      <th></th>\n",
       "      <th></th>\n",
       "      <th></th>\n",
       "      <th></th>\n",
       "      <th></th>\n",
       "      <th></th>\n",
       "      <th></th>\n",
       "      <th></th>\n",
       "      <th></th>\n",
       "      <th></th>\n",
       "      <th></th>\n",
       "      <th></th>\n",
       "      <th></th>\n",
       "    </tr>\n",
       "  </thead>\n",
       "  <tbody>\n",
       "    <tr>\n",
       "      <th>ID_2f6873615</th>\n",
       "      <td>-0.436006</td>\n",
       "      <td>-0.201397</td>\n",
       "      <td>0.026090</td>\n",
       "      <td>-0.158780</td>\n",
       "      <td>0.072524</td>\n",
       "      <td>0.210372</td>\n",
       "      <td>-0.544245</td>\n",
       "      <td>-0.461845</td>\n",
       "      <td>0.885782</td>\n",
       "      <td>-0.543020</td>\n",
       "      <td>...</td>\n",
       "      <td>0.15704</td>\n",
       "      <td>-0.562210</td>\n",
       "      <td>0.839161</td>\n",
       "      <td>-0.317727</td>\n",
       "      <td>-0.257387</td>\n",
       "      <td>-0.301232</td>\n",
       "      <td>-0.322693</td>\n",
       "      <td>-0.298641</td>\n",
       "      <td>0.636250</td>\n",
       "      <td>-1.403755</td>\n",
       "    </tr>\n",
       "    <tr>\n",
       "      <th>ID_1c78846d2</th>\n",
       "      <td>-0.436006</td>\n",
       "      <td>-0.201397</td>\n",
       "      <td>0.026090</td>\n",
       "      <td>-0.158780</td>\n",
       "      <td>0.072524</td>\n",
       "      <td>0.210372</td>\n",
       "      <td>-0.544245</td>\n",
       "      <td>-0.461845</td>\n",
       "      <td>0.885782</td>\n",
       "      <td>-0.543020</td>\n",
       "      <td>...</td>\n",
       "      <td>0.15704</td>\n",
       "      <td>-0.562210</td>\n",
       "      <td>0.839161</td>\n",
       "      <td>-0.317727</td>\n",
       "      <td>-0.257387</td>\n",
       "      <td>-0.301232</td>\n",
       "      <td>-0.322693</td>\n",
       "      <td>-0.298641</td>\n",
       "      <td>0.636250</td>\n",
       "      <td>0.307376</td>\n",
       "    </tr>\n",
       "    <tr>\n",
       "      <th>ID_e5442cf6a</th>\n",
       "      <td>-0.436006</td>\n",
       "      <td>-0.201397</td>\n",
       "      <td>0.026090</td>\n",
       "      <td>-0.158780</td>\n",
       "      <td>0.072524</td>\n",
       "      <td>0.210372</td>\n",
       "      <td>-0.544245</td>\n",
       "      <td>-0.461845</td>\n",
       "      <td>0.885782</td>\n",
       "      <td>-0.543020</td>\n",
       "      <td>...</td>\n",
       "      <td>0.15704</td>\n",
       "      <td>-0.562210</td>\n",
       "      <td>0.839161</td>\n",
       "      <td>-0.317727</td>\n",
       "      <td>-0.257387</td>\n",
       "      <td>-0.301232</td>\n",
       "      <td>-0.322693</td>\n",
       "      <td>-0.298641</td>\n",
       "      <td>0.636250</td>\n",
       "      <td>0.307376</td>\n",
       "    </tr>\n",
       "    <tr>\n",
       "      <th>ID_a8db26a79</th>\n",
       "      <td>-0.436006</td>\n",
       "      <td>-0.201397</td>\n",
       "      <td>6.152677</td>\n",
       "      <td>-0.158780</td>\n",
       "      <td>0.072524</td>\n",
       "      <td>0.210372</td>\n",
       "      <td>1.837409</td>\n",
       "      <td>0.974025</td>\n",
       "      <td>-0.571774</td>\n",
       "      <td>-0.543020</td>\n",
       "      <td>...</td>\n",
       "      <td>0.15704</td>\n",
       "      <td>-0.562210</td>\n",
       "      <td>0.839161</td>\n",
       "      <td>-0.317727</td>\n",
       "      <td>-0.257387</td>\n",
       "      <td>-0.301232</td>\n",
       "      <td>-0.322693</td>\n",
       "      <td>-0.298641</td>\n",
       "      <td>0.636250</td>\n",
       "      <td>1.139818</td>\n",
       "    </tr>\n",
       "    <tr>\n",
       "      <th>ID_a62966799</th>\n",
       "      <td>1.249850</td>\n",
       "      <td>-0.201397</td>\n",
       "      <td>-0.654642</td>\n",
       "      <td>-0.158780</td>\n",
       "      <td>0.072524</td>\n",
       "      <td>0.210372</td>\n",
       "      <td>1.837409</td>\n",
       "      <td>0.974025</td>\n",
       "      <td>-0.571774</td>\n",
       "      <td>-1.505326</td>\n",
       "      <td>...</td>\n",
       "      <td>0.15704</td>\n",
       "      <td>-1.237481</td>\n",
       "      <td>0.839161</td>\n",
       "      <td>-0.317727</td>\n",
       "      <td>-0.257387</td>\n",
       "      <td>-0.301232</td>\n",
       "      <td>-0.322693</td>\n",
       "      <td>-0.298641</td>\n",
       "      <td>0.636250</td>\n",
       "      <td>-0.756300</td>\n",
       "    </tr>\n",
       "    <tr>\n",
       "      <th>...</th>\n",
       "      <td>...</td>\n",
       "      <td>...</td>\n",
       "      <td>...</td>\n",
       "      <td>...</td>\n",
       "      <td>...</td>\n",
       "      <td>...</td>\n",
       "      <td>...</td>\n",
       "      <td>...</td>\n",
       "      <td>...</td>\n",
       "      <td>...</td>\n",
       "      <td>...</td>\n",
       "      <td>...</td>\n",
       "      <td>...</td>\n",
       "      <td>...</td>\n",
       "      <td>...</td>\n",
       "      <td>...</td>\n",
       "      <td>...</td>\n",
       "      <td>...</td>\n",
       "      <td>...</td>\n",
       "      <td>...</td>\n",
       "      <td>...</td>\n",
       "    </tr>\n",
       "    <tr>\n",
       "      <th>ID_a065a7cad</th>\n",
       "      <td>-0.436006</td>\n",
       "      <td>4.965316</td>\n",
       "      <td>-2.016106</td>\n",
       "      <td>6.298007</td>\n",
       "      <td>0.072524</td>\n",
       "      <td>0.210372</td>\n",
       "      <td>-0.544245</td>\n",
       "      <td>-0.461845</td>\n",
       "      <td>-0.571774</td>\n",
       "      <td>0.419286</td>\n",
       "      <td>...</td>\n",
       "      <td>0.15704</td>\n",
       "      <td>-1.237481</td>\n",
       "      <td>-1.191667</td>\n",
       "      <td>-0.317727</td>\n",
       "      <td>-0.257387</td>\n",
       "      <td>-0.301232</td>\n",
       "      <td>-0.322693</td>\n",
       "      <td>3.348501</td>\n",
       "      <td>-1.571709</td>\n",
       "      <td>-1.126274</td>\n",
       "    </tr>\n",
       "    <tr>\n",
       "      <th>ID_1a7c6953b</th>\n",
       "      <td>-0.436006</td>\n",
       "      <td>-0.201397</td>\n",
       "      <td>-1.335374</td>\n",
       "      <td>-0.158780</td>\n",
       "      <td>0.072524</td>\n",
       "      <td>0.210372</td>\n",
       "      <td>-0.544245</td>\n",
       "      <td>-0.461845</td>\n",
       "      <td>-0.571774</td>\n",
       "      <td>-0.543020</td>\n",
       "      <td>...</td>\n",
       "      <td>0.15704</td>\n",
       "      <td>-0.562210</td>\n",
       "      <td>-1.191667</td>\n",
       "      <td>-0.317727</td>\n",
       "      <td>-0.257387</td>\n",
       "      <td>-0.301232</td>\n",
       "      <td>-0.322693</td>\n",
       "      <td>3.348501</td>\n",
       "      <td>-1.571709</td>\n",
       "      <td>0.908584</td>\n",
       "    </tr>\n",
       "    <tr>\n",
       "      <th>ID_07dbb4be2</th>\n",
       "      <td>-0.436006</td>\n",
       "      <td>-0.201397</td>\n",
       "      <td>-1.335374</td>\n",
       "      <td>-0.158780</td>\n",
       "      <td>0.072524</td>\n",
       "      <td>0.210372</td>\n",
       "      <td>-0.544245</td>\n",
       "      <td>-0.461845</td>\n",
       "      <td>-0.571774</td>\n",
       "      <td>-0.543020</td>\n",
       "      <td>...</td>\n",
       "      <td>0.15704</td>\n",
       "      <td>-0.562210</td>\n",
       "      <td>-1.191667</td>\n",
       "      <td>-0.317727</td>\n",
       "      <td>-0.257387</td>\n",
       "      <td>-0.301232</td>\n",
       "      <td>-0.322693</td>\n",
       "      <td>3.348501</td>\n",
       "      <td>-1.571709</td>\n",
       "      <td>-1.033780</td>\n",
       "    </tr>\n",
       "    <tr>\n",
       "      <th>ID_34d2ed046</th>\n",
       "      <td>-0.436006</td>\n",
       "      <td>-0.201397</td>\n",
       "      <td>-1.335374</td>\n",
       "      <td>-0.158780</td>\n",
       "      <td>0.072524</td>\n",
       "      <td>0.210372</td>\n",
       "      <td>-0.544245</td>\n",
       "      <td>-0.461845</td>\n",
       "      <td>-0.571774</td>\n",
       "      <td>-0.543020</td>\n",
       "      <td>...</td>\n",
       "      <td>0.15704</td>\n",
       "      <td>-0.562210</td>\n",
       "      <td>-1.191667</td>\n",
       "      <td>-0.317727</td>\n",
       "      <td>-0.257387</td>\n",
       "      <td>-0.301232</td>\n",
       "      <td>-0.322693</td>\n",
       "      <td>3.348501</td>\n",
       "      <td>-1.571709</td>\n",
       "      <td>-1.033780</td>\n",
       "    </tr>\n",
       "    <tr>\n",
       "      <th>ID_34754556f</th>\n",
       "      <td>-0.436006</td>\n",
       "      <td>-0.201397</td>\n",
       "      <td>-1.335374</td>\n",
       "      <td>-0.158780</td>\n",
       "      <td>0.072524</td>\n",
       "      <td>0.210372</td>\n",
       "      <td>-0.544245</td>\n",
       "      <td>-0.461845</td>\n",
       "      <td>-0.571774</td>\n",
       "      <td>-0.543020</td>\n",
       "      <td>...</td>\n",
       "      <td>0.15704</td>\n",
       "      <td>-0.562210</td>\n",
       "      <td>-1.191667</td>\n",
       "      <td>-0.317727</td>\n",
       "      <td>-0.257387</td>\n",
       "      <td>-0.301232</td>\n",
       "      <td>-0.322693</td>\n",
       "      <td>3.348501</td>\n",
       "      <td>-1.571709</td>\n",
       "      <td>0.769844</td>\n",
       "    </tr>\n",
       "  </tbody>\n",
       "</table>\n",
       "<p>23856 rows × 108 columns</p>\n",
       "</div>"
      ],
      "text/plain": [
       "                  v2a1    hacdor     rooms    hacapo      v14a    refrig  \\\n",
       "Id                                                                         \n",
       "ID_2f6873615 -0.436006 -0.201397  0.026090 -0.158780  0.072524  0.210372   \n",
       "ID_1c78846d2 -0.436006 -0.201397  0.026090 -0.158780  0.072524  0.210372   \n",
       "ID_e5442cf6a -0.436006 -0.201397  0.026090 -0.158780  0.072524  0.210372   \n",
       "ID_a8db26a79 -0.436006 -0.201397  6.152677 -0.158780  0.072524  0.210372   \n",
       "ID_a62966799  1.249850 -0.201397 -0.654642 -0.158780  0.072524  0.210372   \n",
       "...                ...       ...       ...       ...       ...       ...   \n",
       "ID_a065a7cad -0.436006  4.965316 -2.016106  6.298007  0.072524  0.210372   \n",
       "ID_1a7c6953b -0.436006 -0.201397 -1.335374 -0.158780  0.072524  0.210372   \n",
       "ID_07dbb4be2 -0.436006 -0.201397 -1.335374 -0.158780  0.072524  0.210372   \n",
       "ID_34d2ed046 -0.436006 -0.201397 -1.335374 -0.158780  0.072524  0.210372   \n",
       "ID_34754556f -0.436006 -0.201397 -1.335374 -0.158780  0.072524  0.210372   \n",
       "\n",
       "                  v18q     v18q1      r4h1      r4h2  ...  mobilephone  \\\n",
       "Id                                                    ...                \n",
       "ID_2f6873615 -0.544245 -0.461845  0.885782 -0.543020  ...      0.15704   \n",
       "ID_1c78846d2 -0.544245 -0.461845  0.885782 -0.543020  ...      0.15704   \n",
       "ID_e5442cf6a -0.544245 -0.461845  0.885782 -0.543020  ...      0.15704   \n",
       "ID_a8db26a79  1.837409  0.974025 -0.571774 -0.543020  ...      0.15704   \n",
       "ID_a62966799  1.837409  0.974025 -0.571774 -1.505326  ...      0.15704   \n",
       "...                ...       ...       ...       ...  ...          ...   \n",
       "ID_a065a7cad -0.544245 -0.461845 -0.571774  0.419286  ...      0.15704   \n",
       "ID_1a7c6953b -0.544245 -0.461845 -0.571774 -0.543020  ...      0.15704   \n",
       "ID_07dbb4be2 -0.544245 -0.461845 -0.571774 -0.543020  ...      0.15704   \n",
       "ID_34d2ed046 -0.544245 -0.461845 -0.571774 -0.543020  ...      0.15704   \n",
       "ID_34754556f -0.544245 -0.461845 -0.571774 -0.543020  ...      0.15704   \n",
       "\n",
       "              qmobilephone    lugar1    lugar2    lugar3    lugar4    lugar5  \\\n",
       "Id                                                                             \n",
       "ID_2f6873615     -0.562210  0.839161 -0.317727 -0.257387 -0.301232 -0.322693   \n",
       "ID_1c78846d2     -0.562210  0.839161 -0.317727 -0.257387 -0.301232 -0.322693   \n",
       "ID_e5442cf6a     -0.562210  0.839161 -0.317727 -0.257387 -0.301232 -0.322693   \n",
       "ID_a8db26a79     -0.562210  0.839161 -0.317727 -0.257387 -0.301232 -0.322693   \n",
       "ID_a62966799     -1.237481  0.839161 -0.317727 -0.257387 -0.301232 -0.322693   \n",
       "...                    ...       ...       ...       ...       ...       ...   \n",
       "ID_a065a7cad     -1.237481 -1.191667 -0.317727 -0.257387 -0.301232 -0.322693   \n",
       "ID_1a7c6953b     -0.562210 -1.191667 -0.317727 -0.257387 -0.301232 -0.322693   \n",
       "ID_07dbb4be2     -0.562210 -1.191667 -0.317727 -0.257387 -0.301232 -0.322693   \n",
       "ID_34d2ed046     -0.562210 -1.191667 -0.317727 -0.257387 -0.301232 -0.322693   \n",
       "ID_34754556f     -0.562210 -1.191667 -0.317727 -0.257387 -0.301232 -0.322693   \n",
       "\n",
       "                lugar6     area1       age  \n",
       "Id                                          \n",
       "ID_2f6873615 -0.298641  0.636250 -1.403755  \n",
       "ID_1c78846d2 -0.298641  0.636250  0.307376  \n",
       "ID_e5442cf6a -0.298641  0.636250  0.307376  \n",
       "ID_a8db26a79 -0.298641  0.636250  1.139818  \n",
       "ID_a62966799 -0.298641  0.636250 -0.756300  \n",
       "...                ...       ...       ...  \n",
       "ID_a065a7cad  3.348501 -1.571709 -1.126274  \n",
       "ID_1a7c6953b  3.348501 -1.571709  0.908584  \n",
       "ID_07dbb4be2  3.348501 -1.571709 -1.033780  \n",
       "ID_34d2ed046  3.348501 -1.571709 -1.033780  \n",
       "ID_34754556f  3.348501 -1.571709  0.769844  \n",
       "\n",
       "[23856 rows x 108 columns]"
      ]
     },
     "execution_count": 305,
     "metadata": {},
     "output_type": "execute_result"
    }
   ],
   "source": [
    "income_test"
   ]
  },
  {
   "cell_type": "code",
   "execution_count": 306,
   "id": "81fdc3a0",
   "metadata": {},
   "outputs": [
    {
     "data": {
      "text/plain": [
       "(19280, 108)"
      ]
     },
     "execution_count": 306,
     "metadata": {},
     "output_type": "execute_result"
    }
   ],
   "source": [
    "x_train_sm.shape"
   ]
  },
  {
   "cell_type": "code",
   "execution_count": 307,
   "id": "efaa6d14",
   "metadata": {},
   "outputs": [
    {
     "data": {
      "text/plain": [
       "(23856, 108)"
      ]
     },
     "execution_count": 307,
     "metadata": {},
     "output_type": "execute_result"
    }
   ],
   "source": [
    "income_test.shape"
   ]
  },
  {
   "cell_type": "code",
   "execution_count": 308,
   "id": "45913afc",
   "metadata": {},
   "outputs": [],
   "source": [
    "test_pred = RFC_Model.predict(income_test)"
   ]
  },
  {
   "cell_type": "code",
   "execution_count": 309,
   "id": "ff0056be",
   "metadata": {},
   "outputs": [
    {
     "data": {
      "text/plain": [
       "array([4, 4, 4, ..., 4, 4, 2], dtype=int64)"
      ]
     },
     "execution_count": 309,
     "metadata": {},
     "output_type": "execute_result"
    }
   ],
   "source": [
    "test_pred"
   ]
  },
  {
   "cell_type": "code",
   "execution_count": null,
   "id": "bb314d69",
   "metadata": {},
   "outputs": [],
   "source": []
  },
  {
   "cell_type": "code",
   "execution_count": 310,
   "id": "102668c2",
   "metadata": {},
   "outputs": [],
   "source": [
    "# Attaching Predictions as new column in original Unseen Data:"
   ]
  },
  {
   "cell_type": "code",
   "execution_count": 311,
   "id": "0a4ca903",
   "metadata": {},
   "outputs": [],
   "source": [
    "Unseen_Data[\"Target\"] = test_pred"
   ]
  },
  {
   "cell_type": "code",
   "execution_count": 312,
   "id": "56cbc078",
   "metadata": {},
   "outputs": [
    {
     "data": {
      "text/html": [
       "<div>\n",
       "<style scoped>\n",
       "    .dataframe tbody tr th:only-of-type {\n",
       "        vertical-align: middle;\n",
       "    }\n",
       "\n",
       "    .dataframe tbody tr th {\n",
       "        vertical-align: top;\n",
       "    }\n",
       "\n",
       "    .dataframe thead th {\n",
       "        text-align: right;\n",
       "    }\n",
       "</style>\n",
       "<table border=\"1\" class=\"dataframe\">\n",
       "  <thead>\n",
       "    <tr style=\"text-align: right;\">\n",
       "      <th></th>\n",
       "      <th>Id</th>\n",
       "      <th>v2a1</th>\n",
       "      <th>hacdor</th>\n",
       "      <th>rooms</th>\n",
       "      <th>hacapo</th>\n",
       "      <th>v14a</th>\n",
       "      <th>refrig</th>\n",
       "      <th>v18q</th>\n",
       "      <th>v18q1</th>\n",
       "      <th>r4h1</th>\n",
       "      <th>...</th>\n",
       "      <th>SQBescolari</th>\n",
       "      <th>SQBage</th>\n",
       "      <th>SQBhogar_total</th>\n",
       "      <th>SQBedjefe</th>\n",
       "      <th>SQBhogar_nin</th>\n",
       "      <th>SQBovercrowding</th>\n",
       "      <th>SQBdependency</th>\n",
       "      <th>SQBmeaned</th>\n",
       "      <th>agesq</th>\n",
       "      <th>Target</th>\n",
       "    </tr>\n",
       "  </thead>\n",
       "  <tbody>\n",
       "    <tr>\n",
       "      <th>0</th>\n",
       "      <td>ID_2f6873615</td>\n",
       "      <td>NaN</td>\n",
       "      <td>0</td>\n",
       "      <td>5</td>\n",
       "      <td>0</td>\n",
       "      <td>1</td>\n",
       "      <td>1</td>\n",
       "      <td>0</td>\n",
       "      <td>NaN</td>\n",
       "      <td>1</td>\n",
       "      <td>...</td>\n",
       "      <td>0</td>\n",
       "      <td>16</td>\n",
       "      <td>9</td>\n",
       "      <td>0</td>\n",
       "      <td>1</td>\n",
       "      <td>2.25</td>\n",
       "      <td>0.25</td>\n",
       "      <td>272.25</td>\n",
       "      <td>16</td>\n",
       "      <td>4</td>\n",
       "    </tr>\n",
       "    <tr>\n",
       "      <th>1</th>\n",
       "      <td>ID_1c78846d2</td>\n",
       "      <td>NaN</td>\n",
       "      <td>0</td>\n",
       "      <td>5</td>\n",
       "      <td>0</td>\n",
       "      <td>1</td>\n",
       "      <td>1</td>\n",
       "      <td>0</td>\n",
       "      <td>NaN</td>\n",
       "      <td>1</td>\n",
       "      <td>...</td>\n",
       "      <td>256</td>\n",
       "      <td>1681</td>\n",
       "      <td>9</td>\n",
       "      <td>0</td>\n",
       "      <td>1</td>\n",
       "      <td>2.25</td>\n",
       "      <td>0.25</td>\n",
       "      <td>272.25</td>\n",
       "      <td>1681</td>\n",
       "      <td>4</td>\n",
       "    </tr>\n",
       "    <tr>\n",
       "      <th>2</th>\n",
       "      <td>ID_e5442cf6a</td>\n",
       "      <td>NaN</td>\n",
       "      <td>0</td>\n",
       "      <td>5</td>\n",
       "      <td>0</td>\n",
       "      <td>1</td>\n",
       "      <td>1</td>\n",
       "      <td>0</td>\n",
       "      <td>NaN</td>\n",
       "      <td>1</td>\n",
       "      <td>...</td>\n",
       "      <td>289</td>\n",
       "      <td>1681</td>\n",
       "      <td>9</td>\n",
       "      <td>0</td>\n",
       "      <td>1</td>\n",
       "      <td>2.25</td>\n",
       "      <td>0.25</td>\n",
       "      <td>272.25</td>\n",
       "      <td>1681</td>\n",
       "      <td>4</td>\n",
       "    </tr>\n",
       "    <tr>\n",
       "      <th>3</th>\n",
       "      <td>ID_a8db26a79</td>\n",
       "      <td>NaN</td>\n",
       "      <td>0</td>\n",
       "      <td>14</td>\n",
       "      <td>0</td>\n",
       "      <td>1</td>\n",
       "      <td>1</td>\n",
       "      <td>1</td>\n",
       "      <td>1.0</td>\n",
       "      <td>0</td>\n",
       "      <td>...</td>\n",
       "      <td>256</td>\n",
       "      <td>3481</td>\n",
       "      <td>1</td>\n",
       "      <td>256</td>\n",
       "      <td>0</td>\n",
       "      <td>1.00</td>\n",
       "      <td>0.00</td>\n",
       "      <td>256.00</td>\n",
       "      <td>3481</td>\n",
       "      <td>4</td>\n",
       "    </tr>\n",
       "    <tr>\n",
       "      <th>4</th>\n",
       "      <td>ID_a62966799</td>\n",
       "      <td>175000.0</td>\n",
       "      <td>0</td>\n",
       "      <td>4</td>\n",
       "      <td>0</td>\n",
       "      <td>1</td>\n",
       "      <td>1</td>\n",
       "      <td>1</td>\n",
       "      <td>1.0</td>\n",
       "      <td>0</td>\n",
       "      <td>...</td>\n",
       "      <td>121</td>\n",
       "      <td>324</td>\n",
       "      <td>1</td>\n",
       "      <td>0</td>\n",
       "      <td>1</td>\n",
       "      <td>0.25</td>\n",
       "      <td>64.00</td>\n",
       "      <td>NaN</td>\n",
       "      <td>324</td>\n",
       "      <td>4</td>\n",
       "    </tr>\n",
       "  </tbody>\n",
       "</table>\n",
       "<p>5 rows × 143 columns</p>\n",
       "</div>"
      ],
      "text/plain": [
       "             Id      v2a1  hacdor  rooms  hacapo  v14a  refrig  v18q  v18q1  \\\n",
       "0  ID_2f6873615       NaN       0      5       0     1       1     0    NaN   \n",
       "1  ID_1c78846d2       NaN       0      5       0     1       1     0    NaN   \n",
       "2  ID_e5442cf6a       NaN       0      5       0     1       1     0    NaN   \n",
       "3  ID_a8db26a79       NaN       0     14       0     1       1     1    1.0   \n",
       "4  ID_a62966799  175000.0       0      4       0     1       1     1    1.0   \n",
       "\n",
       "   r4h1  ...  SQBescolari  SQBage  SQBhogar_total  SQBedjefe  SQBhogar_nin  \\\n",
       "0     1  ...            0      16               9          0             1   \n",
       "1     1  ...          256    1681               9          0             1   \n",
       "2     1  ...          289    1681               9          0             1   \n",
       "3     0  ...          256    3481               1        256             0   \n",
       "4     0  ...          121     324               1          0             1   \n",
       "\n",
       "   SQBovercrowding  SQBdependency  SQBmeaned  agesq  Target  \n",
       "0             2.25           0.25     272.25     16       4  \n",
       "1             2.25           0.25     272.25   1681       4  \n",
       "2             2.25           0.25     272.25   1681       4  \n",
       "3             1.00           0.00     256.00   3481       4  \n",
       "4             0.25          64.00        NaN    324       4  \n",
       "\n",
       "[5 rows x 143 columns]"
      ]
     },
     "execution_count": 312,
     "metadata": {},
     "output_type": "execute_result"
    }
   ],
   "source": [
    "Unseen_Data.head()"
   ]
  },
  {
   "cell_type": "code",
   "execution_count": 313,
   "id": "a07b4d4a",
   "metadata": {},
   "outputs": [
    {
     "data": {
      "text/plain": [
       "4    18290\n",
       "2     3672\n",
       "1     1126\n",
       "3      768\n",
       "Name: Target, dtype: int64"
      ]
     },
     "execution_count": 313,
     "metadata": {},
     "output_type": "execute_result"
    }
   ],
   "source": [
    "Unseen_Data[\"Target\"].value_counts()"
   ]
  },
  {
   "cell_type": "code",
   "execution_count": null,
   "id": "91402b25",
   "metadata": {},
   "outputs": [],
   "source": []
  },
  {
   "cell_type": "markdown",
   "id": "d97d7807",
   "metadata": {},
   "source": [
    "### 16) Writing Data with Predictions in Excel File:"
   ]
  },
  {
   "cell_type": "code",
   "execution_count": 315,
   "id": "44d5e33c",
   "metadata": {},
   "outputs": [],
   "source": [
    "Unseen_Data.to_excel(\"Test With Predictions.xlsx\", index= False)"
   ]
  }
 ],
 "metadata": {
  "kernelspec": {
   "display_name": "Python 3 (ipykernel)",
   "language": "python",
   "name": "python3"
  },
  "language_info": {
   "codemirror_mode": {
    "name": "ipython",
    "version": 3
   },
   "file_extension": ".py",
   "mimetype": "text/x-python",
   "name": "python",
   "nbconvert_exporter": "python",
   "pygments_lexer": "ipython3",
   "version": "3.8.12"
  }
 },
 "nbformat": 4,
 "nbformat_minor": 5
}
